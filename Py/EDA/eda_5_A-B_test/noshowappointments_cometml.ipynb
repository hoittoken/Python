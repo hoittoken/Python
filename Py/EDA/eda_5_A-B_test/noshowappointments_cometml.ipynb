{
  "cells": [
    {
      "cell_type": "markdown",
      "metadata": {
        "id": "aUAqi67vLzhL"
      },
      "source": [
        "# Импорт библиотек"
      ]
    },
    {
      "cell_type": "code",
      "execution_count": 1,
      "metadata": {
        "id": "lXinfUuSL6Og"
      },
      "outputs": [],
      "source": [
        "import pandas as pd \n",
        "import seaborn as sns\n",
        "from matplotlib import pyplot as plt"
      ]
    },
    {
      "cell_type": "markdown",
      "metadata": {
        "id": "hIlLTfPPz3VG"
      },
      "source": [
        "# Настройка CometML\n",
        "<img src='https://camo.githubusercontent.com/b35adf34bc440ea2ac19bb0d3432f48e26d71ab8e4c256e936b709eec44f5b19/68747470733a2f2f7777772e636f6d65742e6d6c2f696d616765732f6c6f676f5f636f6d65745f6c696768742e706e67' width=500px>"
      ]
    },
    {
      "cell_type": "code",
      "execution_count": null,
      "metadata": {
        "id": "4JiQtNAVQIu-"
      },
      "outputs": [],
      "source": [
        "#!pip install comet_ml"
      ]
    },
    {
      "cell_type": "code",
      "execution_count": 2,
      "metadata": {
        "id": "MGyR32T9qGD9"
      },
      "outputs": [],
      "source": [
        "from comet_ml import Experiment"
      ]
    },
    {
      "cell_type": "code",
      "execution_count": 3,
      "metadata": {
        "colab": {
          "base_uri": "https://localhost:8080/"
        },
        "id": "LPU_kAoC9IYG",
        "outputId": "d2e6e899-e80a-455b-c18b-532ceee68a3d"
      },
      "outputs": [
        {
          "name": "stderr",
          "output_type": "stream",
          "text": [
            "\u001b[1;38;5;214mCOMET WARNING:\u001b[0m As you are running in a Jupyter environment, you will need to call `experiment.end()` when finished to ensure all metrics and code are logged before exiting.\n",
            "\u001b[1;38;5;39mCOMET INFO:\u001b[0m Experiment is live on comet.com https://www.comet.com/hoittoken/newproject/0d8758c3b63b405f923b8187d5ae3377\n",
            "\n"
          ]
        }
      ],
      "source": [
        "# Создайте эксперимент с помощью вашего API ключа\n",
        "from comet_ml import Experiment\n",
        "\n",
        "experiment = Experiment(\n",
        "  api_key=\"gUJB4A5Xyni7vEzn5F7be7scu\",\n",
        "  project_name=\"newproject\",\n",
        "  workspace=\"hoittoken\"\n",
        ")"
      ]
    },
    {
      "cell_type": "markdown",
      "metadata": {
        "id": "y3290WaEMCCM"
      },
      "source": [
        "# Загрузка данных"
      ]
    },
    {
      "cell_type": "code",
      "execution_count": 4,
      "metadata": {
        "id": "VbAf186tLgqb"
      },
      "outputs": [],
      "source": [
        "df = pd.read_csv('KaggleV2-May-2016.csv')"
      ]
    },
    {
      "cell_type": "code",
      "execution_count": 5,
      "metadata": {
        "colab": {
          "base_uri": "https://localhost:8080/",
          "height": 206
        },
        "id": "Yrs_ikOi7e92",
        "outputId": "7adfe956-3f2b-48eb-d83f-b6bfc2a9a07a"
      },
      "outputs": [
        {
          "data": {
            "text/html": [
              "<div>\n",
              "<style scoped>\n",
              "    .dataframe tbody tr th:only-of-type {\n",
              "        vertical-align: middle;\n",
              "    }\n",
              "\n",
              "    .dataframe tbody tr th {\n",
              "        vertical-align: top;\n",
              "    }\n",
              "\n",
              "    .dataframe thead th {\n",
              "        text-align: right;\n",
              "    }\n",
              "</style>\n",
              "<table border=\"1\" class=\"dataframe\">\n",
              "  <thead>\n",
              "    <tr style=\"text-align: right;\">\n",
              "      <th></th>\n",
              "      <th>PatientId</th>\n",
              "      <th>AppointmentID</th>\n",
              "      <th>Gender</th>\n",
              "      <th>ScheduledDay</th>\n",
              "      <th>AppointmentDay</th>\n",
              "      <th>Age</th>\n",
              "      <th>Neighbourhood</th>\n",
              "      <th>Scholarship</th>\n",
              "      <th>Hipertension</th>\n",
              "      <th>Diabetes</th>\n",
              "      <th>Alcoholism</th>\n",
              "      <th>Handcap</th>\n",
              "      <th>SMS_received</th>\n",
              "      <th>No-show</th>\n",
              "    </tr>\n",
              "  </thead>\n",
              "  <tbody>\n",
              "    <tr>\n",
              "      <th>0</th>\n",
              "      <td>2.987250e+13</td>\n",
              "      <td>5642903</td>\n",
              "      <td>F</td>\n",
              "      <td>2016-04-29T18:38:08Z</td>\n",
              "      <td>2016-04-29T00:00:00Z</td>\n",
              "      <td>62</td>\n",
              "      <td>JARDIM DA PENHA</td>\n",
              "      <td>0</td>\n",
              "      <td>1</td>\n",
              "      <td>0</td>\n",
              "      <td>0</td>\n",
              "      <td>0</td>\n",
              "      <td>0</td>\n",
              "      <td>No</td>\n",
              "    </tr>\n",
              "    <tr>\n",
              "      <th>1</th>\n",
              "      <td>5.589978e+14</td>\n",
              "      <td>5642503</td>\n",
              "      <td>M</td>\n",
              "      <td>2016-04-29T16:08:27Z</td>\n",
              "      <td>2016-04-29T00:00:00Z</td>\n",
              "      <td>56</td>\n",
              "      <td>JARDIM DA PENHA</td>\n",
              "      <td>0</td>\n",
              "      <td>0</td>\n",
              "      <td>0</td>\n",
              "      <td>0</td>\n",
              "      <td>0</td>\n",
              "      <td>0</td>\n",
              "      <td>No</td>\n",
              "    </tr>\n",
              "    <tr>\n",
              "      <th>2</th>\n",
              "      <td>4.262962e+12</td>\n",
              "      <td>5642549</td>\n",
              "      <td>F</td>\n",
              "      <td>2016-04-29T16:19:04Z</td>\n",
              "      <td>2016-04-29T00:00:00Z</td>\n",
              "      <td>62</td>\n",
              "      <td>MATA DA PRAIA</td>\n",
              "      <td>0</td>\n",
              "      <td>0</td>\n",
              "      <td>0</td>\n",
              "      <td>0</td>\n",
              "      <td>0</td>\n",
              "      <td>0</td>\n",
              "      <td>No</td>\n",
              "    </tr>\n",
              "    <tr>\n",
              "      <th>3</th>\n",
              "      <td>8.679512e+11</td>\n",
              "      <td>5642828</td>\n",
              "      <td>F</td>\n",
              "      <td>2016-04-29T17:29:31Z</td>\n",
              "      <td>2016-04-29T00:00:00Z</td>\n",
              "      <td>8</td>\n",
              "      <td>PONTAL DE CAMBURI</td>\n",
              "      <td>0</td>\n",
              "      <td>0</td>\n",
              "      <td>0</td>\n",
              "      <td>0</td>\n",
              "      <td>0</td>\n",
              "      <td>0</td>\n",
              "      <td>No</td>\n",
              "    </tr>\n",
              "    <tr>\n",
              "      <th>4</th>\n",
              "      <td>8.841186e+12</td>\n",
              "      <td>5642494</td>\n",
              "      <td>F</td>\n",
              "      <td>2016-04-29T16:07:23Z</td>\n",
              "      <td>2016-04-29T00:00:00Z</td>\n",
              "      <td>56</td>\n",
              "      <td>JARDIM DA PENHA</td>\n",
              "      <td>0</td>\n",
              "      <td>1</td>\n",
              "      <td>1</td>\n",
              "      <td>0</td>\n",
              "      <td>0</td>\n",
              "      <td>0</td>\n",
              "      <td>No</td>\n",
              "    </tr>\n",
              "  </tbody>\n",
              "</table>\n",
              "</div>"
            ],
            "text/plain": [
              "      PatientId  AppointmentID Gender          ScheduledDay  \\\n",
              "0  2.987250e+13        5642903      F  2016-04-29T18:38:08Z   \n",
              "1  5.589978e+14        5642503      M  2016-04-29T16:08:27Z   \n",
              "2  4.262962e+12        5642549      F  2016-04-29T16:19:04Z   \n",
              "3  8.679512e+11        5642828      F  2016-04-29T17:29:31Z   \n",
              "4  8.841186e+12        5642494      F  2016-04-29T16:07:23Z   \n",
              "\n",
              "         AppointmentDay  Age      Neighbourhood  Scholarship  Hipertension  \\\n",
              "0  2016-04-29T00:00:00Z   62    JARDIM DA PENHA            0             1   \n",
              "1  2016-04-29T00:00:00Z   56    JARDIM DA PENHA            0             0   \n",
              "2  2016-04-29T00:00:00Z   62      MATA DA PRAIA            0             0   \n",
              "3  2016-04-29T00:00:00Z    8  PONTAL DE CAMBURI            0             0   \n",
              "4  2016-04-29T00:00:00Z   56    JARDIM DA PENHA            0             1   \n",
              "\n",
              "   Diabetes  Alcoholism  Handcap  SMS_received No-show  \n",
              "0         0           0        0             0      No  \n",
              "1         0           0        0             0      No  \n",
              "2         0           0        0             0      No  \n",
              "3         0           0        0             0      No  \n",
              "4         1           0        0             0      No  "
            ]
          },
          "execution_count": 5,
          "metadata": {},
          "output_type": "execute_result"
        }
      ],
      "source": [
        "df.head()"
      ]
    },
    {
      "cell_type": "markdown",
      "metadata": {
        "id": "OzCY1MkvTJSR"
      },
      "source": [
        "# Визуализация"
      ]
    },
    {
      "cell_type": "markdown",
      "metadata": {
        "id": "ptpoultBWCj_"
      },
      "source": [
        "### Распределение числовых признаков"
      ]
    },
    {
      "cell_type": "code",
      "execution_count": 6,
      "metadata": {
        "colab": {
          "base_uri": "https://localhost:8080/",
          "height": 877
        },
        "id": "h6WZ8PnRSUx0",
        "outputId": "a1138b19-a153-49f6-c1d9-299756897d32"
      },
      "outputs": [
        {
          "data": {
            "text/plain": [
              "{'web': 'https://www.comet.com/api/image/download?imageId=b35436126b3545e9b59de79fc91e3240&experimentKey=0d8758c3b63b405f923b8187d5ae3377',\n",
              " 'api': 'https://www.comet.com/api/rest/v1/image/get-image?imageId=b35436126b3545e9b59de79fc91e3240&experimentKey=0d8758c3b63b405f923b8187d5ae3377',\n",
              " 'imageId': 'b35436126b3545e9b59de79fc91e3240'}"
            ]
          },
          "execution_count": 6,
          "metadata": {},
          "output_type": "execute_result"
        },
        {
          "data": {
            "image/png": "[encoded data removed]",
            "text/plain": [
              "<Figure size 1600x1400 with 9 Axes>"
            ]
          },
          "metadata": {},
          "output_type": "display_data"
        }
      ],
      "source": [
        "df.hist(figsize=(16,14));\n",
        "#логируем гистограмму\n",
        "experiment.log_figure(figure=plt)"
      ]
    },
    {
      "cell_type": "markdown",
      "metadata": {
        "id": "5BNTQ-1tWG2r"
      },
      "source": [
        "*Проанализируем число людей каждого возраста*"
      ]
    },
    {
      "cell_type": "code",
      "execution_count": 7,
      "metadata": {
        "colab": {
          "base_uri": "https://localhost:8080/"
        },
        "id": "RGNyu_sJTYfS",
        "outputId": "3df9516a-eee3-46a4-c8f3-82d26ebd6634"
      },
      "outputs": [
        {
          "name": "stdout",
          "output_type": "stream",
          "text": [
            "Уникальные значения в `Age` => [ 62  56   8  76  23  39  21  19  30  29  22  28  54  15  50  40  46   4\n",
            "  13  65  45  51  32  12  61  38  79  18  63  64  85  59  55  71  49  78\n",
            "  31  58  27   6   2  11   7   0   3   1  69  68  60  67  36  10  35  20\n",
            "  26  34  33  16  42   5  47  17  41  44  37  24  66  77  81  70  53  75\n",
            "  73  52  74  43  89  57  14   9  48  83  72  25  80  87  88  84  82  90\n",
            "  94  86  91  98  92  96  93  95  97 102 115 100  99  -1]\n"
          ]
        }
      ],
      "source": [
        "print(\"Уникальные значения в `Age` => {}\".format(df.Age.unique()))"
      ]
    },
    {
      "cell_type": "code",
      "execution_count": 8,
      "metadata": {
        "colab": {
          "base_uri": "https://localhost:8080/"
        },
        "id": "eb1dWovPWYjz",
        "outputId": "85c41a9d-c7fc-4114-bbbc-9e0c861d272e"
      },
      "outputs": [
        {
          "data": {
            "text/plain": [
              "Age\n",
              "0      3539\n",
              "1      2273\n",
              "52     1746\n",
              "49     1652\n",
              "53     1651\n",
              "       ... \n",
              "97       11\n",
              "98        6\n",
              "100       4\n",
              "102       2\n",
              "99        1\n",
              "Name: count, Length: 102, dtype: int64"
            ]
          },
          "execution_count": 8,
          "metadata": {},
          "output_type": "execute_result"
        }
      ],
      "source": [
        "# Удалим аномальные значения\n",
        "df = df[(df.Age >= 0) & (df.Age <= 110)]\n",
        "df.Age.value_counts()"
      ]
    },
    {
      "cell_type": "code",
      "execution_count": 9,
      "metadata": {
        "colab": {
          "base_uri": "https://localhost:8080/",
          "height": 413
        },
        "id": "OMFj0V8NXMfe",
        "outputId": "0feefc02-6433-48f7-e647-4b63eebb0cd1"
      },
      "outputs": [
        {
          "data": {
            "image/png": "[encoded data removed]",
            "text/plain": [
              "<Figure size 2400x600 with 1 Axes>"
            ]
          },
          "metadata": {},
          "output_type": "display_data"
        }
      ],
      "source": [
        "plt.figure(figsize=(24,6))\n",
        "plt.xticks(rotation=90)\n",
        "ax = sns.countplot(x=df.Age)\n",
        "ax.set_title(\"Распределение пациентов по возрасту\")\n",
        "experiment.log_figure(figure=plt)\n",
        "plt.show()"
      ]
    },
    {
      "cell_type": "markdown",
      "metadata": {
        "id": "kq473GcDZFek"
      },
      "source": [
        "# Придет ли пациент на назначенный прием? "
      ]
    },
    {
      "cell_type": "code",
      "execution_count": 10,
      "metadata": {
        "colab": {
          "base_uri": "https://localhost:8080/"
        },
        "id": "5oXcfkNKZjdd",
        "outputId": "ff0c57dc-7ef6-43b4-82bc-958ee2bacfcc"
      },
      "outputs": [
        {
          "name": "stdout",
          "output_type": "stream",
          "text": [
            "<class 'pandas.core.frame.DataFrame'>\n",
            "Index: 110521 entries, 0 to 110526\n",
            "Data columns (total 14 columns):\n",
            " #   Column          Non-Null Count   Dtype  \n",
            "---  ------          --------------   -----  \n",
            " 0   PatientId       110521 non-null  float64\n",
            " 1   AppointmentID   110521 non-null  int64  \n",
            " 2   Gender          110521 non-null  object \n",
            " 3   ScheduledDay    110521 non-null  object \n",
            " 4   AppointmentDay  110521 non-null  object \n",
            " 5   Age             110521 non-null  int64  \n",
            " 6   Neighbourhood   110521 non-null  object \n",
            " 7   Scholarship     110521 non-null  int64  \n",
            " 8   Hipertension    110521 non-null  int64  \n",
            " 9   Diabetes        110521 non-null  int64  \n",
            " 10  Alcoholism      110521 non-null  int64  \n",
            " 11  Handcap         110521 non-null  int64  \n",
            " 12  SMS_received    110521 non-null  int64  \n",
            " 13  No-show         110521 non-null  object \n",
            "dtypes: float64(1), int64(8), object(5)\n",
            "memory usage: 12.6+ MB\n"
          ]
        }
      ],
      "source": [
        "df.info()"
      ]
    },
    {
      "cell_type": "markdown",
      "metadata": {
        "id": "24uKsoaBjH0B"
      },
      "source": [
        "## Кодировка категориальных признаков"
      ]
    },
    {
      "cell_type": "code",
      "execution_count": 11,
      "metadata": {
        "id": "1J8JAzwmjeKW"
      },
      "outputs": [],
      "source": [
        "categorical_columns_names = ['Gender', 'Neighbourhood']"
      ]
    },
    {
      "cell_type": "code",
      "execution_count": 12,
      "metadata": {
        "id": "lgOtCCRTkIle"
      },
      "outputs": [],
      "source": [
        "encoded_columns = pd.get_dummies(df, columns = categorical_columns_names)"
      ]
    },
    {
      "cell_type": "code",
      "execution_count": 13,
      "metadata": {
        "id": "okMGD3TmmGpE"
      },
      "outputs": [],
      "source": [
        "encoded_columns.drop(['AppointmentID', 'PatientId', 'ScheduledDay', 'AppointmentDay', 'No-show'], axis=1, inplace = True)"
      ]
    },
    {
      "cell_type": "code",
      "execution_count": 14,
      "metadata": {
        "colab": {
          "base_uri": "https://localhost:8080/",
          "height": 317
        },
        "id": "fNGfrwh7mtR3",
        "outputId": "9da1b29a-394e-4f76-baa9-47054f2a3b9a"
      },
      "outputs": [
        {
          "data": {
            "text/html": [
              "<div>\n",
              "<style scoped>\n",
              "    .dataframe tbody tr th:only-of-type {\n",
              "        vertical-align: middle;\n",
              "    }\n",
              "\n",
              "    .dataframe tbody tr th {\n",
              "        vertical-align: top;\n",
              "    }\n",
              "\n",
              "    .dataframe thead th {\n",
              "        text-align: right;\n",
              "    }\n",
              "</style>\n",
              "<table border=\"1\" class=\"dataframe\">\n",
              "  <thead>\n",
              "    <tr style=\"text-align: right;\">\n",
              "      <th></th>\n",
              "      <th>Age</th>\n",
              "      <th>Scholarship</th>\n",
              "      <th>Hipertension</th>\n",
              "      <th>Diabetes</th>\n",
              "      <th>Alcoholism</th>\n",
              "      <th>Handcap</th>\n",
              "      <th>SMS_received</th>\n",
              "      <th>Gender_F</th>\n",
              "      <th>Gender_M</th>\n",
              "      <th>Neighbourhood_AEROPORTO</th>\n",
              "      <th>...</th>\n",
              "      <th>Neighbourhood_SANTOS REIS</th>\n",
              "      <th>Neighbourhood_SEGURANÇA DO LAR</th>\n",
              "      <th>Neighbourhood_SOLON BORGES</th>\n",
              "      <th>Neighbourhood_SÃO BENEDITO</th>\n",
              "      <th>Neighbourhood_SÃO CRISTÓVÃO</th>\n",
              "      <th>Neighbourhood_SÃO JOSÉ</th>\n",
              "      <th>Neighbourhood_SÃO PEDRO</th>\n",
              "      <th>Neighbourhood_TABUAZEIRO</th>\n",
              "      <th>Neighbourhood_UNIVERSITÁRIO</th>\n",
              "      <th>Neighbourhood_VILA RUBIM</th>\n",
              "    </tr>\n",
              "  </thead>\n",
              "  <tbody>\n",
              "    <tr>\n",
              "      <th>0</th>\n",
              "      <td>62</td>\n",
              "      <td>0</td>\n",
              "      <td>1</td>\n",
              "      <td>0</td>\n",
              "      <td>0</td>\n",
              "      <td>0</td>\n",
              "      <td>0</td>\n",
              "      <td>True</td>\n",
              "      <td>False</td>\n",
              "      <td>False</td>\n",
              "      <td>...</td>\n",
              "      <td>False</td>\n",
              "      <td>False</td>\n",
              "      <td>False</td>\n",
              "      <td>False</td>\n",
              "      <td>False</td>\n",
              "      <td>False</td>\n",
              "      <td>False</td>\n",
              "      <td>False</td>\n",
              "      <td>False</td>\n",
              "      <td>False</td>\n",
              "    </tr>\n",
              "    <tr>\n",
              "      <th>1</th>\n",
              "      <td>56</td>\n",
              "      <td>0</td>\n",
              "      <td>0</td>\n",
              "      <td>0</td>\n",
              "      <td>0</td>\n",
              "      <td>0</td>\n",
              "      <td>0</td>\n",
              "      <td>False</td>\n",
              "      <td>True</td>\n",
              "      <td>False</td>\n",
              "      <td>...</td>\n",
              "      <td>False</td>\n",
              "      <td>False</td>\n",
              "      <td>False</td>\n",
              "      <td>False</td>\n",
              "      <td>False</td>\n",
              "      <td>False</td>\n",
              "      <td>False</td>\n",
              "      <td>False</td>\n",
              "      <td>False</td>\n",
              "      <td>False</td>\n",
              "    </tr>\n",
              "    <tr>\n",
              "      <th>2</th>\n",
              "      <td>62</td>\n",
              "      <td>0</td>\n",
              "      <td>0</td>\n",
              "      <td>0</td>\n",
              "      <td>0</td>\n",
              "      <td>0</td>\n",
              "      <td>0</td>\n",
              "      <td>True</td>\n",
              "      <td>False</td>\n",
              "      <td>False</td>\n",
              "      <td>...</td>\n",
              "      <td>False</td>\n",
              "      <td>False</td>\n",
              "      <td>False</td>\n",
              "      <td>False</td>\n",
              "      <td>False</td>\n",
              "      <td>False</td>\n",
              "      <td>False</td>\n",
              "      <td>False</td>\n",
              "      <td>False</td>\n",
              "      <td>False</td>\n",
              "    </tr>\n",
              "    <tr>\n",
              "      <th>3</th>\n",
              "      <td>8</td>\n",
              "      <td>0</td>\n",
              "      <td>0</td>\n",
              "      <td>0</td>\n",
              "      <td>0</td>\n",
              "      <td>0</td>\n",
              "      <td>0</td>\n",
              "      <td>True</td>\n",
              "      <td>False</td>\n",
              "      <td>False</td>\n",
              "      <td>...</td>\n",
              "      <td>False</td>\n",
              "      <td>False</td>\n",
              "      <td>False</td>\n",
              "      <td>False</td>\n",
              "      <td>False</td>\n",
              "      <td>False</td>\n",
              "      <td>False</td>\n",
              "      <td>False</td>\n",
              "      <td>False</td>\n",
              "      <td>False</td>\n",
              "    </tr>\n",
              "    <tr>\n",
              "      <th>4</th>\n",
              "      <td>56</td>\n",
              "      <td>0</td>\n",
              "      <td>1</td>\n",
              "      <td>1</td>\n",
              "      <td>0</td>\n",
              "      <td>0</td>\n",
              "      <td>0</td>\n",
              "      <td>True</td>\n",
              "      <td>False</td>\n",
              "      <td>False</td>\n",
              "      <td>...</td>\n",
              "      <td>False</td>\n",
              "      <td>False</td>\n",
              "      <td>False</td>\n",
              "      <td>False</td>\n",
              "      <td>False</td>\n",
              "      <td>False</td>\n",
              "      <td>False</td>\n",
              "      <td>False</td>\n",
              "      <td>False</td>\n",
              "      <td>False</td>\n",
              "    </tr>\n",
              "  </tbody>\n",
              "</table>\n",
              "<p>5 rows × 90 columns</p>\n",
              "</div>"
            ],
            "text/plain": [
              "   Age  Scholarship  Hipertension  Diabetes  Alcoholism  Handcap  \\\n",
              "0   62            0             1         0           0        0   \n",
              "1   56            0             0         0           0        0   \n",
              "2   62            0             0         0           0        0   \n",
              "3    8            0             0         0           0        0   \n",
              "4   56            0             1         1           0        0   \n",
              "\n",
              "   SMS_received  Gender_F  Gender_M  Neighbourhood_AEROPORTO  ...  \\\n",
              "0             0      True     False                    False  ...   \n",
              "1             0     False      True                    False  ...   \n",
              "2             0      True     False                    False  ...   \n",
              "3             0      True     False                    False  ...   \n",
              "4             0      True     False                    False  ...   \n",
              "\n",
              "   Neighbourhood_SANTOS REIS  Neighbourhood_SEGURANÇA DO LAR  \\\n",
              "0                      False                           False   \n",
              "1                      False                           False   \n",
              "2                      False                           False   \n",
              "3                      False                           False   \n",
              "4                      False                           False   \n",
              "\n",
              "   Neighbourhood_SOLON BORGES  Neighbourhood_SÃO BENEDITO  \\\n",
              "0                       False                       False   \n",
              "1                       False                       False   \n",
              "2                       False                       False   \n",
              "3                       False                       False   \n",
              "4                       False                       False   \n",
              "\n",
              "   Neighbourhood_SÃO CRISTÓVÃO  Neighbourhood_SÃO JOSÉ  \\\n",
              "0                        False                   False   \n",
              "1                        False                   False   \n",
              "2                        False                   False   \n",
              "3                        False                   False   \n",
              "4                        False                   False   \n",
              "\n",
              "   Neighbourhood_SÃO PEDRO  Neighbourhood_TABUAZEIRO  \\\n",
              "0                    False                     False   \n",
              "1                    False                     False   \n",
              "2                    False                     False   \n",
              "3                    False                     False   \n",
              "4                    False                     False   \n",
              "\n",
              "   Neighbourhood_UNIVERSITÁRIO  Neighbourhood_VILA RUBIM  \n",
              "0                        False                     False  \n",
              "1                        False                     False  \n",
              "2                        False                     False  \n",
              "3                        False                     False  \n",
              "4                        False                     False  \n",
              "\n",
              "[5 rows x 90 columns]"
            ]
          },
          "execution_count": 14,
          "metadata": {},
          "output_type": "execute_result"
        }
      ],
      "source": [
        "encoded_columns.head()"
      ]
    },
    {
      "cell_type": "code",
      "execution_count": 15,
      "metadata": {
        "id": "aqllZjq0Z0Rp"
      },
      "outputs": [],
      "source": [
        "y = df['No-show']"
      ]
    },
    {
      "cell_type": "code",
      "execution_count": 16,
      "metadata": {
        "colab": {
          "base_uri": "https://localhost:8080/"
        },
        "id": "q84BeK5ttWRe",
        "outputId": "b1752a6d-6ab9-48e2-d77d-e5ccc95baaff"
      },
      "outputs": [
        {
          "data": {
            "text/plain": [
              "0         No\n",
              "1         No\n",
              "2         No\n",
              "3         No\n",
              "4         No\n",
              "          ..\n",
              "110522    No\n",
              "110523    No\n",
              "110524    No\n",
              "110525    No\n",
              "110526    No\n",
              "Name: No-show, Length: 110521, dtype: object"
            ]
          },
          "execution_count": 16,
          "metadata": {},
          "output_type": "execute_result"
        }
      ],
      "source": [
        "y"
      ]
    },
    {
      "cell_type": "code",
      "execution_count": 17,
      "metadata": {
        "id": "H5wB-62WnxUY"
      },
      "outputs": [
        {
          "name": "stderr",
          "output_type": "stream",
          "text": [
            "C:\\Users\\Miguel\\AppData\\Local\\Temp\\ipykernel_7312\\3050984062.py:1: FutureWarning: Downcasting behavior in `replace` is deprecated and will be removed in a future version. To retain the old behavior, explicitly call `result.infer_objects(copy=False)`. To opt-in to the future behavior, set `pd.set_option('future.no_silent_downcasting', True)`\n",
            "  y = y.replace({'No': 0, 'Yes': 1})\n"
          ]
        }
      ],
      "source": [
        "y = y.replace({'No': 0, 'Yes': 1})"
      ]
    },
    {
      "cell_type": "code",
      "execution_count": 18,
      "metadata": {
        "colab": {
          "base_uri": "https://localhost:8080/"
        },
        "id": "oX2skGG-odCx",
        "outputId": "a4f32ca5-3fcd-482e-842f-c85daa739eec"
      },
      "outputs": [
        {
          "data": {
            "text/plain": [
              "No-show\n",
              "0    0.798084\n",
              "1    0.201916\n",
              "Name: proportion, dtype: float64"
            ]
          },
          "execution_count": 18,
          "metadata": {},
          "output_type": "execute_result"
        }
      ],
      "source": [
        "y.value_counts(True)"
      ]
    },
    {
      "cell_type": "markdown",
      "metadata": {
        "id": "HFqVvPJAnKmt"
      },
      "source": [
        "## Шкалирование данных"
      ]
    },
    {
      "cell_type": "code",
      "execution_count": 19,
      "metadata": {
        "id": "iY4UeiB1nN0f"
      },
      "outputs": [],
      "source": [
        "from sklearn.preprocessing import MinMaxScaler"
      ]
    },
    {
      "cell_type": "code",
      "execution_count": 20,
      "metadata": {
        "id": "jOY0PfPWnVV4"
      },
      "outputs": [],
      "source": [
        "scaler = MinMaxScaler()\n",
        "X = scaler.fit_transform(encoded_columns)"
      ]
    },
    {
      "cell_type": "code",
      "execution_count": 21,
      "metadata": {
        "colab": {
          "base_uri": "https://localhost:8080/"
        },
        "id": "I5OtnT9gm8LP",
        "outputId": "17283f66-be6c-4f47-f691-c3c67c12e1d6"
      },
      "outputs": [
        {
          "name": "stdout",
          "output_type": "stream",
          "text": [
            "(110521, 90)\n"
          ]
        }
      ],
      "source": [
        "print(X.shape)"
      ]
    },
    {
      "cell_type": "markdown",
      "metadata": {
        "id": "Qo2K5d25o8bF"
      },
      "source": [
        "# Модель (этот раздел будет подробно изучен далее в курсе)"
      ]
    },
    {
      "cell_type": "code",
      "execution_count": 22,
      "metadata": {
        "id": "nZDLlWa4Z2k4"
      },
      "outputs": [],
      "source": [
        "from sklearn.linear_model import LogisticRegression\n",
        "from sklearn.metrics import accuracy_score"
      ]
    },
    {
      "cell_type": "markdown",
      "metadata": {
        "id": "XebBCLaaaN-o"
      },
      "source": [
        "### Инициализация модели"
      ]
    },
    {
      "cell_type": "code",
      "execution_count": 23,
      "metadata": {
        "id": "LQqudwBtaCRs"
      },
      "outputs": [],
      "source": [
        "logreg = LogisticRegression()"
      ]
    },
    {
      "cell_type": "code",
      "execution_count": 24,
      "metadata": {
        "id": "I6YmYYobaT-u"
      },
      "outputs": [],
      "source": [
        "random_state = 42"
      ]
    },
    {
      "cell_type": "markdown",
      "metadata": {
        "id": "A_gkA53ybxqa"
      },
      "source": [
        "### Обучение модели"
      ]
    },
    {
      "cell_type": "code",
      "execution_count": 25,
      "metadata": {
        "colab": {
          "base_uri": "https://localhost:8080/"
        },
        "id": "R1BSRYG9amr7",
        "outputId": "7b6876f8-40b4-4896-9069-5eeb20c87e96"
      },
      "outputs": [
        {
          "data": {
            "text/html": [
              "<style>#sk-container-id-1 {\n",
              "  /* Definition of color scheme common for light and dark mode */\n",
              "  --sklearn-color-text: black;\n",
              "  --sklearn-color-line: gray;\n",
              "  /* Definition of color scheme for unfitted estimators */\n",
              "  --sklearn-color-unfitted-level-0: #fff5e6;\n",
              "  --sklearn-color-unfitted-level-1: #f6e4d2;\n",
              "  --sklearn-color-unfitted-level-2: #ffe0b3;\n",
              "  --sklearn-color-unfitted-level-3: chocolate;\n",
              "  /* Definition of color scheme for fitted estimators */\n",
              "  --sklearn-color-fitted-level-0: #f0f8ff;\n",
              "  --sklearn-color-fitted-level-1: #d4ebff;\n",
              "  --sklearn-color-fitted-level-2: #b3dbfd;\n",
              "  --sklearn-color-fitted-level-3: cornflowerblue;\n",
              "\n",
              "  /* Specific color for light theme */\n",
              "  --sklearn-color-text-on-default-background: var(--sg-text-color, var(--theme-code-foreground, var(--jp-content-font-color1, black)));\n",
              "  --sklearn-color-background: var(--sg-background-color, var(--theme-background, var(--jp-layout-color0, white)));\n",
              "  --sklearn-color-border-box: var(--sg-text-color, var(--theme-code-foreground, var(--jp-content-font-color1, black)));\n",
              "  --sklearn-color-icon: #696969;\n",
              "\n",
              "  @media (prefers-color-scheme: dark) {\n",
              "    /* Redefinition of color scheme for dark theme */\n",
              "    --sklearn-color-text-on-default-background: var(--sg-text-color, var(--theme-code-foreground, var(--jp-content-font-color1, white)));\n",
              "    --sklearn-color-background: var(--sg-background-color, var(--theme-background, var(--jp-layout-color0, #111)));\n",
              "    --sklearn-color-border-box: var(--sg-text-color, var(--theme-code-foreground, var(--jp-content-font-color1, white)));\n",
              "    --sklearn-color-icon: #878787;\n",
              "  }\n",
              "}\n",
              "\n",
              "#sk-container-id-1 {\n",
              "  color: var(--sklearn-color-text);\n",
              "}\n",
              "\n",
              "#sk-container-id-1 pre {\n",
              "  padding: 0;\n",
              "}\n",
              "\n",
              "#sk-container-id-1 input.sk-hidden--visually {\n",
              "  border: 0;\n",
              "  clip: rect(1px 1px 1px 1px);\n",
              "  clip: rect(1px, 1px, 1px, 1px);\n",
              "  height: 1px;\n",
              "  margin: -1px;\n",
              "  overflow: hidden;\n",
              "  padding: 0;\n",
              "  position: absolute;\n",
              "  width: 1px;\n",
              "}\n",
              "\n",
              "#sk-container-id-1 div.sk-dashed-wrapped {\n",
              "  border: 1px dashed var(--sklearn-color-line);\n",
              "  margin: 0 0.4em 0.5em 0.4em;\n",
              "  box-sizing: border-box;\n",
              "  padding-bottom: 0.4em;\n",
              "  background-color: var(--sklearn-color-background);\n",
              "}\n",
              "\n",
              "#sk-container-id-1 div.sk-container {\n",
              "  /* jupyter's `normalize.less` sets `[hidden] { display: none; }`\n",
              "     but bootstrap.min.css set `[hidden] { display: none !important; }`\n",
              "     so we also need the `!important` here to be able to override the\n",
              "     default hidden behavior on the sphinx rendered scikit-learn.org.\n",
              "     See: https://github.com/scikit-learn/scikit-learn/issues/21755 */\n",
              "  display: inline-block !important;\n",
              "  position: relative;\n",
              "}\n",
              "\n",
              "#sk-container-id-1 div.sk-text-repr-fallback {\n",
              "  display: none;\n",
              "}\n",
              "\n",
              "div.sk-parallel-item,\n",
              "div.sk-serial,\n",
              "div.sk-item {\n",
              "  /* draw centered vertical line to link estimators */\n",
              "  background-image: linear-gradient(var(--sklearn-color-text-on-default-background), var(--sklearn-color-text-on-default-background));\n",
              "  background-size: 2px 100%;\n",
              "  background-repeat: no-repeat;\n",
              "  background-position: center center;\n",
              "}\n",
              "\n",
              "/* Parallel-specific style estimator block */\n",
              "\n",
              "#sk-container-id-1 div.sk-parallel-item::after {\n",
              "  content: \"\";\n",
              "  width: 100%;\n",
              "  border-bottom: 2px solid var(--sklearn-color-text-on-default-background);\n",
              "  flex-grow: 1;\n",
              "}\n",
              "\n",
              "#sk-container-id-1 div.sk-parallel {\n",
              "  display: flex;\n",
              "  align-items: stretch;\n",
              "  justify-content: center;\n",
              "  background-color: var(--sklearn-color-background);\n",
              "  position: relative;\n",
              "}\n",
              "\n",
              "#sk-container-id-1 div.sk-parallel-item {\n",
              "  display: flex;\n",
              "  flex-direction: column;\n",
              "}\n",
              "\n",
              "#sk-container-id-1 div.sk-parallel-item:first-child::after {\n",
              "  align-self: flex-end;\n",
              "  width: 50%;\n",
              "}\n",
              "\n",
              "#sk-container-id-1 div.sk-parallel-item:last-child::after {\n",
              "  align-self: flex-start;\n",
              "  width: 50%;\n",
              "}\n",
              "\n",
              "#sk-container-id-1 div.sk-parallel-item:only-child::after {\n",
              "  width: 0;\n",
              "}\n",
              "\n",
              "/* Serial-specific style estimator block */\n",
              "\n",
              "#sk-container-id-1 div.sk-serial {\n",
              "  display: flex;\n",
              "  flex-direction: column;\n",
              "  align-items: center;\n",
              "  background-color: var(--sklearn-color-background);\n",
              "  padding-right: 1em;\n",
              "  padding-left: 1em;\n",
              "}\n",
              "\n",
              "\n",
              "/* Toggleable style: style used for estimator/Pipeline/ColumnTransformer box that is\n",
              "clickable and can be expanded/collapsed.\n",
              "- Pipeline and ColumnTransformer use this feature and define the default style\n",
              "- Estimators will overwrite some part of the style using the `sk-estimator` class\n",
              "*/\n",
              "\n",
              "/* Pipeline and ColumnTransformer style (default) */\n",
              "\n",
              "#sk-container-id-1 div.sk-toggleable {\n",
              "  /* Default theme specific background. It is overwritten whether we have a\n",
              "  specific estimator or a Pipeline/ColumnTransformer */\n",
              "  background-color: var(--sklearn-color-background);\n",
              "}\n",
              "\n",
              "/* Toggleable label */\n",
              "#sk-container-id-1 label.sk-toggleable__label {\n",
              "  cursor: pointer;\n",
              "  display: block;\n",
              "  width: 100%;\n",
              "  margin-bottom: 0;\n",
              "  padding: 0.5em;\n",
              "  box-sizing: border-box;\n",
              "  text-align: center;\n",
              "}\n",
              "\n",
              "#sk-container-id-1 label.sk-toggleable__label-arrow:before {\n",
              "  /* Arrow on the left of the label */\n",
              "  content: \"▸\";\n",
              "  float: left;\n",
              "  margin-right: 0.25em;\n",
              "  color: var(--sklearn-color-icon);\n",
              "}\n",
              "\n",
              "#sk-container-id-1 label.sk-toggleable__label-arrow:hover:before {\n",
              "  color: var(--sklearn-color-text);\n",
              "}\n",
              "\n",
              "/* Toggleable content - dropdown */\n",
              "\n",
              "#sk-container-id-1 div.sk-toggleable__content {\n",
              "  max-height: 0;\n",
              "  max-width: 0;\n",
              "  overflow: hidden;\n",
              "  text-align: left;\n",
              "  /* unfitted */\n",
              "  background-color: var(--sklearn-color-unfitted-level-0);\n",
              "}\n",
              "\n",
              "#sk-container-id-1 div.sk-toggleable__content.fitted {\n",
              "  /* fitted */\n",
              "  background-color: var(--sklearn-color-fitted-level-0);\n",
              "}\n",
              "\n",
              "#sk-container-id-1 div.sk-toggleable__content pre {\n",
              "  margin: 0.2em;\n",
              "  border-radius: 0.25em;\n",
              "  color: var(--sklearn-color-text);\n",
              "  /* unfitted */\n",
              "  background-color: var(--sklearn-color-unfitted-level-0);\n",
              "}\n",
              "\n",
              "#sk-container-id-1 div.sk-toggleable__content.fitted pre {\n",
              "  /* unfitted */\n",
              "  background-color: var(--sklearn-color-fitted-level-0);\n",
              "}\n",
              "\n",
              "#sk-container-id-1 input.sk-toggleable__control:checked~div.sk-toggleable__content {\n",
              "  /* Expand drop-down */\n",
              "  max-height: 200px;\n",
              "  max-width: 100%;\n",
              "  overflow: auto;\n",
              "}\n",
              "\n",
              "#sk-container-id-1 input.sk-toggleable__control:checked~label.sk-toggleable__label-arrow:before {\n",
              "  content: \"▾\";\n",
              "}\n",
              "\n",
              "/* Pipeline/ColumnTransformer-specific style */\n",
              "\n",
              "#sk-container-id-1 div.sk-label input.sk-toggleable__control:checked~label.sk-toggleable__label {\n",
              "  color: var(--sklearn-color-text);\n",
              "  background-color: var(--sklearn-color-unfitted-level-2);\n",
              "}\n",
              "\n",
              "#sk-container-id-1 div.sk-label.fitted input.sk-toggleable__control:checked~label.sk-toggleable__label {\n",
              "  background-color: var(--sklearn-color-fitted-level-2);\n",
              "}\n",
              "\n",
              "/* Estimator-specific style */\n",
              "\n",
              "/* Colorize estimator box */\n",
              "#sk-container-id-1 div.sk-estimator input.sk-toggleable__control:checked~label.sk-toggleable__label {\n",
              "  /* unfitted */\n",
              "  background-color: var(--sklearn-color-unfitted-level-2);\n",
              "}\n",
              "\n",
              "#sk-container-id-1 div.sk-estimator.fitted input.sk-toggleable__control:checked~label.sk-toggleable__label {\n",
              "  /* fitted */\n",
              "  background-color: var(--sklearn-color-fitted-level-2);\n",
              "}\n",
              "\n",
              "#sk-container-id-1 div.sk-label label.sk-toggleable__label,\n",
              "#sk-container-id-1 div.sk-label label {\n",
              "  /* The background is the default theme color */\n",
              "  color: var(--sklearn-color-text-on-default-background);\n",
              "}\n",
              "\n",
              "/* On hover, darken the color of the background */\n",
              "#sk-container-id-1 div.sk-label:hover label.sk-toggleable__label {\n",
              "  color: var(--sklearn-color-text);\n",
              "  background-color: var(--sklearn-color-unfitted-level-2);\n",
              "}\n",
              "\n",
              "/* Label box, darken color on hover, fitted */\n",
              "#sk-container-id-1 div.sk-label.fitted:hover label.sk-toggleable__label.fitted {\n",
              "  color: var(--sklearn-color-text);\n",
              "  background-color: var(--sklearn-color-fitted-level-2);\n",
              "}\n",
              "\n",
              "/* Estimator label */\n",
              "\n",
              "#sk-container-id-1 div.sk-label label {\n",
              "  font-family: monospace;\n",
              "  font-weight: bold;\n",
              "  display: inline-block;\n",
              "  line-height: 1.2em;\n",
              "}\n",
              "\n",
              "#sk-container-id-1 div.sk-label-container {\n",
              "  text-align: center;\n",
              "}\n",
              "\n",
              "/* Estimator-specific */\n",
              "#sk-container-id-1 div.sk-estimator {\n",
              "  font-family: monospace;\n",
              "  border: 1px dotted var(--sklearn-color-border-box);\n",
              "  border-radius: 0.25em;\n",
              "  box-sizing: border-box;\n",
              "  margin-bottom: 0.5em;\n",
              "  /* unfitted */\n",
              "  background-color: var(--sklearn-color-unfitted-level-0);\n",
              "}\n",
              "\n",
              "#sk-container-id-1 div.sk-estimator.fitted {\n",
              "  /* fitted */\n",
              "  background-color: var(--sklearn-color-fitted-level-0);\n",
              "}\n",
              "\n",
              "/* on hover */\n",
              "#sk-container-id-1 div.sk-estimator:hover {\n",
              "  /* unfitted */\n",
              "  background-color: var(--sklearn-color-unfitted-level-2);\n",
              "}\n",
              "\n",
              "#sk-container-id-1 div.sk-estimator.fitted:hover {\n",
              "  /* fitted */\n",
              "  background-color: var(--sklearn-color-fitted-level-2);\n",
              "}\n",
              "\n",
              "/* Specification for estimator info (e.g. \"i\" and \"?\") */\n",
              "\n",
              "/* Common style for \"i\" and \"?\" */\n",
              "\n",
              ".sk-estimator-doc-link,\n",
              "a:link.sk-estimator-doc-link,\n",
              "a:visited.sk-estimator-doc-link {\n",
              "  float: right;\n",
              "  font-size: smaller;\n",
              "  line-height: 1em;\n",
              "  font-family: monospace;\n",
              "  background-color: var(--sklearn-color-background);\n",
              "  border-radius: 1em;\n",
              "  height: 1em;\n",
              "  width: 1em;\n",
              "  text-decoration: none !important;\n",
              "  margin-left: 1ex;\n",
              "  /* unfitted */\n",
              "  border: var(--sklearn-color-unfitted-level-1) 1pt solid;\n",
              "  color: var(--sklearn-color-unfitted-level-1);\n",
              "}\n",
              "\n",
              ".sk-estimator-doc-link.fitted,\n",
              "a:link.sk-estimator-doc-link.fitted,\n",
              "a:visited.sk-estimator-doc-link.fitted {\n",
              "  /* fitted */\n",
              "  border: var(--sklearn-color-fitted-level-1) 1pt solid;\n",
              "  color: var(--sklearn-color-fitted-level-1);\n",
              "}\n",
              "\n",
              "/* On hover */\n",
              "div.sk-estimator:hover .sk-estimator-doc-link:hover,\n",
              ".sk-estimator-doc-link:hover,\n",
              "div.sk-label-container:hover .sk-estimator-doc-link:hover,\n",
              ".sk-estimator-doc-link:hover {\n",
              "  /* unfitted */\n",
              "  background-color: var(--sklearn-color-unfitted-level-3);\n",
              "  color: var(--sklearn-color-background);\n",
              "  text-decoration: none;\n",
              "}\n",
              "\n",
              "div.sk-estimator.fitted:hover .sk-estimator-doc-link.fitted:hover,\n",
              ".sk-estimator-doc-link.fitted:hover,\n",
              "div.sk-label-container:hover .sk-estimator-doc-link.fitted:hover,\n",
              ".sk-estimator-doc-link.fitted:hover {\n",
              "  /* fitted */\n",
              "  background-color: var(--sklearn-color-fitted-level-3);\n",
              "  color: var(--sklearn-color-background);\n",
              "  text-decoration: none;\n",
              "}\n",
              "\n",
              "/* Span, style for the box shown on hovering the info icon */\n",
              ".sk-estimator-doc-link span {\n",
              "  display: none;\n",
              "  z-index: 9999;\n",
              "  position: relative;\n",
              "  font-weight: normal;\n",
              "  right: .2ex;\n",
              "  padding: .5ex;\n",
              "  margin: .5ex;\n",
              "  width: min-content;\n",
              "  min-width: 20ex;\n",
              "  max-width: 50ex;\n",
              "  color: var(--sklearn-color-text);\n",
              "  box-shadow: 2pt 2pt 4pt #999;\n",
              "  /* unfitted */\n",
              "  background: var(--sklearn-color-unfitted-level-0);\n",
              "  border: .5pt solid var(--sklearn-color-unfitted-level-3);\n",
              "}\n",
              "\n",
              ".sk-estimator-doc-link.fitted span {\n",
              "  /* fitted */\n",
              "  background: var(--sklearn-color-fitted-level-0);\n",
              "  border: var(--sklearn-color-fitted-level-3);\n",
              "}\n",
              "\n",
              ".sk-estimator-doc-link:hover span {\n",
              "  display: block;\n",
              "}\n",
              "\n",
              "/* \"?\"-specific style due to the `<a>` HTML tag */\n",
              "\n",
              "#sk-container-id-1 a.estimator_doc_link {\n",
              "  float: right;\n",
              "  font-size: 1rem;\n",
              "  line-height: 1em;\n",
              "  font-family: monospace;\n",
              "  background-color: var(--sklearn-color-background);\n",
              "  border-radius: 1rem;\n",
              "  height: 1rem;\n",
              "  width: 1rem;\n",
              "  text-decoration: none;\n",
              "  /* unfitted */\n",
              "  color: var(--sklearn-color-unfitted-level-1);\n",
              "  border: var(--sklearn-color-unfitted-level-1) 1pt solid;\n",
              "}\n",
              "\n",
              "#sk-container-id-1 a.estimator_doc_link.fitted {\n",
              "  /* fitted */\n",
              "  border: var(--sklearn-color-fitted-level-1) 1pt solid;\n",
              "  color: var(--sklearn-color-fitted-level-1);\n",
              "}\n",
              "\n",
              "/* On hover */\n",
              "#sk-container-id-1 a.estimator_doc_link:hover {\n",
              "  /* unfitted */\n",
              "  background-color: var(--sklearn-color-unfitted-level-3);\n",
              "  color: var(--sklearn-color-background);\n",
              "  text-decoration: none;\n",
              "}\n",
              "\n",
              "#sk-container-id-1 a.estimator_doc_link.fitted:hover {\n",
              "  /* fitted */\n",
              "  background-color: var(--sklearn-color-fitted-level-3);\n",
              "}\n",
              "</style><div id=\"sk-container-id-1\" class=\"sk-top-container\"><div class=\"sk-text-repr-fallback\"><pre>LogisticRegression()</pre><b>In a Jupyter environment, please rerun this cell to show the HTML representation or trust the notebook. <br />On GitHub, the HTML representation is unable to render, please try loading this page with nbviewer.org.</b></div><div class=\"sk-container\" hidden><div class=\"sk-item\"><div class=\"sk-estimator fitted sk-toggleable\"><input class=\"sk-toggleable__control sk-hidden--visually\" id=\"sk-estimator-id-1\" type=\"checkbox\" checked><label for=\"sk-estimator-id-1\" class=\"sk-toggleable__label fitted sk-toggleable__label-arrow fitted\">&nbsp;&nbsp;LogisticRegression<a class=\"sk-estimator-doc-link fitted\" rel=\"noreferrer\" target=\"_blank\" href=\"https://scikit-learn.org/1.5/modules/generated/sklearn.linear_model.LogisticRegression.html\">?<span>Documentation for LogisticRegression</span></a><span class=\"sk-estimator-doc-link fitted\">i<span>Fitted</span></span></label><div class=\"sk-toggleable__content fitted\"><pre>LogisticRegression()</pre></div> </div></div></div></div>"
            ],
            "text/plain": [
              "LogisticRegression()"
            ]
          },
          "execution_count": 25,
          "metadata": {},
          "output_type": "execute_result"
        }
      ],
      "source": [
        "logreg.fit(X, y)"
      ]
    },
    {
      "cell_type": "markdown",
      "metadata": {
        "id": "6YN1DZFicf4l"
      },
      "source": [
        "#### Логирование параметров обучения"
      ]
    },
    {
      "cell_type": "code",
      "execution_count": 26,
      "metadata": {
        "id": "wGADA8ercl7k"
      },
      "outputs": [],
      "source": [
        "params={\"random_state\":random_state,\n",
        "        \"model_type\":\"logreg\"\n",
        "}"
      ]
    },
    {
      "cell_type": "code",
      "execution_count": 27,
      "metadata": {
        "id": "ZOwq-iBJcsKU"
      },
      "outputs": [],
      "source": [
        "experiment.log_parameters(params)"
      ]
    },
    {
      "cell_type": "markdown",
      "metadata": {
        "id": "l4gGfkqtb4IR"
      },
      "source": [
        "### Предсказания модели"
      ]
    },
    {
      "cell_type": "code",
      "execution_count": 28,
      "metadata": {
        "id": "Z-_AH_f3b55w"
      },
      "outputs": [],
      "source": [
        "y_pred = logreg.predict(X)"
      ]
    },
    {
      "cell_type": "markdown",
      "metadata": {
        "id": "X5o9LBBab-cH"
      },
      "source": [
        "### Анализ модели"
      ]
    },
    {
      "cell_type": "code",
      "execution_count": 29,
      "metadata": {
        "colab": {
          "base_uri": "https://localhost:8080/"
        },
        "id": "uigAO6s1Z-xK",
        "outputId": "7c10a88f-14ad-48b4-b1b5-2a4ae23c46d3"
      },
      "outputs": [
        {
          "name": "stdout",
          "output_type": "stream",
          "text": [
            "Доля правильных ответов:  0.798\n"
          ]
        }
      ],
      "source": [
        "accuracy = accuracy_score(y, y_pred)\n",
        "\n",
        "print(\"Доля правильных ответов: {:6.3f}\".format(accuracy))"
      ]
    },
    {
      "cell_type": "markdown",
      "metadata": {
        "id": "nltneNyYdAcE"
      },
      "source": [
        "# Логирование метрик"
      ]
    },
    {
      "cell_type": "code",
      "execution_count": 30,
      "metadata": {
        "id": "46QiPA6jc0gQ"
      },
      "outputs": [],
      "source": [
        "metrics = {\"accuracy\":accuracy}"
      ]
    },
    {
      "cell_type": "code",
      "execution_count": 31,
      "metadata": {
        "id": "nr_zJEO_c5TY"
      },
      "outputs": [],
      "source": [
        "experiment.log_metrics(metrics)"
      ]
    },
    {
      "cell_type": "markdown",
      "metadata": {
        "id": "9U26OZqibj3P"
      },
      "source": [
        "<img src='https://lms.skillfactory.ru/asset-v1:SkillFactory+DST-3.0+28FEB2021+type@asset+block@r2yYhe2DpE4d3WKP.png' width=700px>"
      ]
    },
    {
      "cell_type": "code",
      "execution_count": 32,
      "metadata": {
        "colab": {
          "base_uri": "https://localhost:8080/"
        },
        "id": "uSvXz5ESf6cf",
        "outputId": "5ad9a064-c2dd-497d-b6df-64f610e7cd63"
      },
      "outputs": [
        {
          "data": {
            "text/plain": [
              "{'web': 'https://www.comet.com/api/asset/download?assetId=1a535737207f421c8b505730ade35170&experimentKey=0d8758c3b63b405f923b8187d5ae3377',\n",
              " 'api': 'https://www.comet.com/api/rest/v2/experiment/asset/get-asset?assetId=1a535737207f421c8b505730ade35170&experimentKey=0d8758c3b63b405f923b8187d5ae3377',\n",
              " 'assetId': '1a535737207f421c8b505730ade35170'}"
            ]
          },
          "execution_count": 32,
          "metadata": {},
          "output_type": "execute_result"
        }
      ],
      "source": [
        "experiment.log_confusion_matrix(y.tolist(), y_pred.tolist())"
      ]
    },
    {
      "cell_type": "code",
      "execution_count": 33,
      "metadata": {
        "colab": {
          "base_uri": "https://localhost:8080/",
          "height": 821
        },
        "id": "lvUb-yn7gIww",
        "outputId": "44038504-1a6d-490b-9049-db1ae7efb071"
      },
      "outputs": [
        {
          "data": {
            "text/html": [
              "\n",
              "        <iframe\n",
              "            width=\"100%\"\n",
              "            height=\"800px\"\n",
              "            src=\"https://www.comet.com/hoittoken/newproject/0d8758c3b63b405f923b8187d5ae3377\"\n",
              "            frameborder=\"0\"\n",
              "            allowfullscreen\n",
              "            \n",
              "        ></iframe>\n",
              "        "
            ],
            "text/plain": [
              "<IPython.lib.display.IFrame at 0x194810baed0>"
            ]
          },
          "metadata": {},
          "output_type": "display_data"
        }
      ],
      "source": [
        "experiment.display()"
      ]
    },
    {
      "cell_type": "code",
      "execution_count": 36,
      "metadata": {},
      "outputs": [
        {
          "data": {
            "text/html": [
              "<div>\n",
              "<style scoped>\n",
              "    .dataframe tbody tr th:only-of-type {\n",
              "        vertical-align: middle;\n",
              "    }\n",
              "\n",
              "    .dataframe tbody tr th {\n",
              "        vertical-align: top;\n",
              "    }\n",
              "\n",
              "    .dataframe thead th {\n",
              "        text-align: right;\n",
              "    }\n",
              "</style>\n",
              "<table border=\"1\" class=\"dataframe\">\n",
              "  <thead>\n",
              "    <tr style=\"text-align: right;\">\n",
              "      <th></th>\n",
              "      <th>PatientId</th>\n",
              "      <th>AppointmentID</th>\n",
              "      <th>Age</th>\n",
              "      <th>Scholarship</th>\n",
              "      <th>Hipertension</th>\n",
              "      <th>Diabetes</th>\n",
              "      <th>Alcoholism</th>\n",
              "      <th>Handcap</th>\n",
              "      <th>SMS_received</th>\n",
              "    </tr>\n",
              "  </thead>\n",
              "  <tbody>\n",
              "    <tr>\n",
              "      <th>PatientId</th>\n",
              "      <td>1.000000</td>\n",
              "      <td>0.004011</td>\n",
              "      <td>-0.004139</td>\n",
              "      <td>-0.002875</td>\n",
              "      <td>-0.006487</td>\n",
              "      <td>0.001610</td>\n",
              "      <td>0.011015</td>\n",
              "      <td>-0.007818</td>\n",
              "      <td>-0.009784</td>\n",
              "    </tr>\n",
              "    <tr>\n",
              "      <th>AppointmentID</th>\n",
              "      <td>0.004011</td>\n",
              "      <td>1.000000</td>\n",
              "      <td>-0.019132</td>\n",
              "      <td>0.022622</td>\n",
              "      <td>0.012749</td>\n",
              "      <td>0.022634</td>\n",
              "      <td>0.032948</td>\n",
              "      <td>0.014113</td>\n",
              "      <td>-0.256629</td>\n",
              "    </tr>\n",
              "    <tr>\n",
              "      <th>Age</th>\n",
              "      <td>-0.004139</td>\n",
              "      <td>-0.019132</td>\n",
              "      <td>1.000000</td>\n",
              "      <td>-0.092437</td>\n",
              "      <td>0.504726</td>\n",
              "      <td>0.292509</td>\n",
              "      <td>0.095862</td>\n",
              "      <td>0.077369</td>\n",
              "      <td>0.012676</td>\n",
              "    </tr>\n",
              "    <tr>\n",
              "      <th>Scholarship</th>\n",
              "      <td>-0.002875</td>\n",
              "      <td>0.022622</td>\n",
              "      <td>-0.092437</td>\n",
              "      <td>1.000000</td>\n",
              "      <td>-0.019731</td>\n",
              "      <td>-0.024899</td>\n",
              "      <td>0.035019</td>\n",
              "      <td>-0.008520</td>\n",
              "      <td>0.001188</td>\n",
              "    </tr>\n",
              "    <tr>\n",
              "      <th>Hipertension</th>\n",
              "      <td>-0.006487</td>\n",
              "      <td>0.012749</td>\n",
              "      <td>0.504726</td>\n",
              "      <td>-0.019731</td>\n",
              "      <td>1.000000</td>\n",
              "      <td>0.433096</td>\n",
              "      <td>0.087972</td>\n",
              "      <td>0.080249</td>\n",
              "      <td>-0.006309</td>\n",
              "    </tr>\n",
              "    <tr>\n",
              "      <th>Diabetes</th>\n",
              "      <td>0.001610</td>\n",
              "      <td>0.022634</td>\n",
              "      <td>0.292509</td>\n",
              "      <td>-0.024899</td>\n",
              "      <td>0.433096</td>\n",
              "      <td>1.000000</td>\n",
              "      <td>0.018471</td>\n",
              "      <td>0.057629</td>\n",
              "      <td>-0.014555</td>\n",
              "    </tr>\n",
              "    <tr>\n",
              "      <th>Alcoholism</th>\n",
              "      <td>0.011015</td>\n",
              "      <td>0.032948</td>\n",
              "      <td>0.095862</td>\n",
              "      <td>0.035019</td>\n",
              "      <td>0.087972</td>\n",
              "      <td>0.018471</td>\n",
              "      <td>1.000000</td>\n",
              "      <td>0.004689</td>\n",
              "      <td>-0.026151</td>\n",
              "    </tr>\n",
              "    <tr>\n",
              "      <th>Handcap</th>\n",
              "      <td>-0.007818</td>\n",
              "      <td>0.014113</td>\n",
              "      <td>0.077369</td>\n",
              "      <td>-0.008520</td>\n",
              "      <td>0.080249</td>\n",
              "      <td>0.057629</td>\n",
              "      <td>0.004689</td>\n",
              "      <td>1.000000</td>\n",
              "      <td>-0.024026</td>\n",
              "    </tr>\n",
              "    <tr>\n",
              "      <th>SMS_received</th>\n",
              "      <td>-0.009784</td>\n",
              "      <td>-0.256629</td>\n",
              "      <td>0.012676</td>\n",
              "      <td>0.001188</td>\n",
              "      <td>-0.006309</td>\n",
              "      <td>-0.014555</td>\n",
              "      <td>-0.026151</td>\n",
              "      <td>-0.024026</td>\n",
              "      <td>1.000000</td>\n",
              "    </tr>\n",
              "  </tbody>\n",
              "</table>\n",
              "</div>"
            ],
            "text/plain": [
              "               PatientId  AppointmentID       Age  Scholarship  Hipertension  \\\n",
              "PatientId       1.000000       0.004011 -0.004139    -0.002875     -0.006487   \n",
              "AppointmentID   0.004011       1.000000 -0.019132     0.022622      0.012749   \n",
              "Age            -0.004139      -0.019132  1.000000    -0.092437      0.504726   \n",
              "Scholarship    -0.002875       0.022622 -0.092437     1.000000     -0.019731   \n",
              "Hipertension   -0.006487       0.012749  0.504726    -0.019731      1.000000   \n",
              "Diabetes        0.001610       0.022634  0.292509    -0.024899      0.433096   \n",
              "Alcoholism      0.011015       0.032948  0.095862     0.035019      0.087972   \n",
              "Handcap        -0.007818       0.014113  0.077369    -0.008520      0.080249   \n",
              "SMS_received   -0.009784      -0.256629  0.012676     0.001188     -0.006309   \n",
              "\n",
              "               Diabetes  Alcoholism   Handcap  SMS_received  \n",
              "PatientId      0.001610    0.011015 -0.007818     -0.009784  \n",
              "AppointmentID  0.022634    0.032948  0.014113     -0.256629  \n",
              "Age            0.292509    0.095862  0.077369      0.012676  \n",
              "Scholarship   -0.024899    0.035019 -0.008520      0.001188  \n",
              "Hipertension   0.433096    0.087972  0.080249     -0.006309  \n",
              "Diabetes       1.000000    0.018471  0.057629     -0.014555  \n",
              "Alcoholism     0.018471    1.000000  0.004689     -0.026151  \n",
              "Handcap        0.057629    0.004689  1.000000     -0.024026  \n",
              "SMS_received  -0.014555   -0.026151 -0.024026      1.000000  "
            ]
          },
          "execution_count": 36,
          "metadata": {},
          "output_type": "execute_result"
        }
      ],
      "source": [
        "df.corr(numeric_only=True)"
      ]
    },
    {
      "cell_type": "code",
      "execution_count": 42,
      "metadata": {},
      "outputs": [
        {
          "data": {
            "image/png": "[encoded data removed]",
            "text/plain": [
              "<Figure size 1000x800 with 2 Axes>"
            ]
          },
          "metadata": {},
          "output_type": "display_data"
        }
      ],
      "source": [
        "plt.figure(figsize=(10,8))\n",
        "ax = sns.heatmap(df.corr(numeric_only=True), annot=True)\n",
        "ax.set_title(\"Тепловая карта корреляции признаков\")\n",
        "experiment.log_figure(figure=plt)\n",
        "plt.show()"
      ]
    },
    {
      "cell_type": "code",
      "execution_count": 43,
      "metadata": {
        "colab": {
          "base_uri": "https://localhost:8080/"
        },
        "id": "ZNmiC0I-hIHb",
        "outputId": "0dbf7be3-ccd7-4ad5-cfc8-6e1747427431"
      },
      "outputs": [
        {
          "name": "stderr",
          "output_type": "stream",
          "text": [
            "\u001b[1;38;5;39mCOMET INFO:\u001b[0m ---------------------------------------------------------------------------------------\n",
            "\u001b[1;38;5;39mCOMET INFO:\u001b[0m Comet.ml Experiment Summary\n",
            "\u001b[1;38;5;39mCOMET INFO:\u001b[0m ---------------------------------------------------------------------------------------\n",
            "\u001b[1;38;5;39mCOMET INFO:\u001b[0m   Data:\n",
            "\u001b[1;38;5;39mCOMET INFO:\u001b[0m     display_summary_level : 1\n",
            "\u001b[1;38;5;39mCOMET INFO:\u001b[0m     name                  : misty_dormitory_7529\n",
            "\u001b[1;38;5;39mCOMET INFO:\u001b[0m     url                   : https://www.comet.com/hoittoken/newproject/0d8758c3b63b405f923b8187d5ae3377\n",
            "\u001b[1;38;5;39mCOMET INFO:\u001b[0m   Metrics:\n",
            "\u001b[1;38;5;39mCOMET INFO:\u001b[0m     accuracy : 0.7980836221170637\n",
            "\u001b[1;38;5;39mCOMET INFO:\u001b[0m   Parameters:\n",
            "\u001b[1;38;5;39mCOMET INFO:\u001b[0m     C                 : 1.0\n",
            "\u001b[1;38;5;39mCOMET INFO:\u001b[0m     class_weight      : None\n",
            "\u001b[1;38;5;39mCOMET INFO:\u001b[0m     clip              : False\n",
            "\u001b[1;38;5;39mCOMET INFO:\u001b[0m     copy              : True\n",
            "\u001b[1;38;5;39mCOMET INFO:\u001b[0m     dual              : False\n",
            "\u001b[1;38;5;39mCOMET INFO:\u001b[0m     feature_range     : (0, 1)\n",
            "\u001b[1;38;5;39mCOMET INFO:\u001b[0m     fit_intercept     : True\n",
            "\u001b[1;38;5;39mCOMET INFO:\u001b[0m     intercept_scaling : 1\n",
            "\u001b[1;38;5;39mCOMET INFO:\u001b[0m     l1_ratio          : None\n",
            "\u001b[1;38;5;39mCOMET INFO:\u001b[0m     max_iter          : 100\n",
            "\u001b[1;38;5;39mCOMET INFO:\u001b[0m     model_type        : logreg\n",
            "\u001b[1;38;5;39mCOMET INFO:\u001b[0m     multi_class       : deprecated\n",
            "\u001b[1;38;5;39mCOMET INFO:\u001b[0m     n_jobs            : None\n",
            "\u001b[1;38;5;39mCOMET INFO:\u001b[0m     penalty           : l2\n",
            "\u001b[1;38;5;39mCOMET INFO:\u001b[0m     random_state      : 42\n",
            "\u001b[1;38;5;39mCOMET INFO:\u001b[0m     solver            : lbfgs\n",
            "\u001b[1;38;5;39mCOMET INFO:\u001b[0m     tol               : 0.0001\n",
            "\u001b[1;38;5;39mCOMET INFO:\u001b[0m     verbose           : 0\n",
            "\u001b[1;38;5;39mCOMET INFO:\u001b[0m     warm_start        : False\n",
            "\u001b[1;38;5;39mCOMET INFO:\u001b[0m   Uploads:\n",
            "\u001b[1;38;5;39mCOMET INFO:\u001b[0m     conda-environment-definition : 1\n",
            "\u001b[1;38;5;39mCOMET INFO:\u001b[0m     conda-info                   : 1\n",
            "\u001b[1;38;5;39mCOMET INFO:\u001b[0m     conda-specification          : 1\n",
            "\u001b[1;38;5;39mCOMET INFO:\u001b[0m     confusion-matrix             : 1\n",
            "\u001b[1;38;5;39mCOMET INFO:\u001b[0m     environment details          : 1\n",
            "\u001b[1;38;5;39mCOMET INFO:\u001b[0m     figures                      : 3\n",
            "\u001b[1;38;5;39mCOMET INFO:\u001b[0m     filename                     : 1\n",
            "\u001b[1;38;5;39mCOMET INFO:\u001b[0m     git metadata                 : 1\n",
            "\u001b[1;38;5;39mCOMET INFO:\u001b[0m     git-patch (uncompressed)     : 1 (13.51 KB)\n",
            "\u001b[1;38;5;39mCOMET INFO:\u001b[0m     installed packages           : 1\n",
            "\u001b[1;38;5;39mCOMET INFO:\u001b[0m     notebook                     : 1\n",
            "\u001b[1;38;5;39mCOMET INFO:\u001b[0m     source_code                  : 1\n",
            "\u001b[1;38;5;39mCOMET INFO:\u001b[0m \n"
          ]
        }
      ],
      "source": [
        "experiment.end()"
      ]
    },
    {
      "cell_type": "markdown",
      "metadata": {
        "id": "5ydNwtkThhPg"
      },
      "source": [
        "# Домашнее задание"
      ]
    },
    {
      "cell_type": "markdown",
      "metadata": {
        "id": "Vit5v66shjwQ"
      },
      "source": [
        "Визуализируйте корреляцию между числовыми признаками, использованными для обучения модели и залогируйте изображение в Comet.\n",
        "\n",
        "В качестве ответа приложите обновленный ноутбук.\n",
        "\n",
        "*Форма оценки ментором:*\n",
        "\n",
        "1) Проведена визуализация корреляции между 7 числовыми признаками, использованными для обучения модели - 5 баллов\n",
        "\n",
        "2) Произведено логирование графика в CometMl - 10 баллов\n",
        "\n"
      ]
    }
  ],
  "metadata": {
    "colab": {
      "collapsed_sections": [],
      "name": "noshowappointments_cometml.ipynb",
      "provenance": []
    },
    "kernelspec": {
      "display_name": "base",
      "language": "python",
      "name": "python3"
    },
    "language_info": {
      "codemirror_mode": {
        "name": "ipython",
        "version": 3
      },
      "file_extension": ".py",
      "mimetype": "text/x-python",
      "name": "python",
      "nbconvert_exporter": "python",
      "pygments_lexer": "ipython3",
      "version": "3.12.3"
    }
  },
  "nbformat": 4,
  "nbformat_minor": 0
}
