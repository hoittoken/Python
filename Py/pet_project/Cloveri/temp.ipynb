{
 "cells": [
  {
   "cell_type": "code",
   "execution_count": 3,
   "metadata": {},
   "outputs": [
    {
     "name": "stdout",
     "output_type": "stream",
     "text": [
      "[('f1', 'work.aubakirov@gmail.com', 'Miguel Aubakirov', 'Python-программист', 'Кабинет Кловери', datetime.date(2025, 1, 15), datetime.date(2025, 4, 28), None), ('f2', 'work.aubakirov@gmail.com', 'Miguel Aubakirov', 'Python-разработчик', 'MAIBO', datetime.date(2025, 1, 15), datetime.date(2025, 4, 28), None), ('f3', 'sample@gmail.com', 'Nombre Apellido', 'QA-инженер', 'MAIBO', datetime.date(2025, 1, 15), datetime.date(2025, 4, 28), None), ('f4', 'sample1@gmail.com', 'Jose Rodrigo', 'UX/UI-дизайнер', 'Платформа для ВУЗов', datetime.date(2025, 1, 15), datetime.date(2025, 2, 28), None)]\n"
     ]
    }
   ],
   "source": [
    "import asyncio\n",
    "from sqlalchemy.ext.asyncio import create_async_engine, async_sessionmaker, AsyncSession\n",
    "from sqlalchemy.orm import Session, sessionmaker\n",
    "from sqlalchemy import URL, create_engine, text\n",
    "from config import settings\n",
    "\n",
    "sync_engine = create_engine(\n",
    "    url=settings.DATABES_URL_psycopg,\n",
    "    echo=False,\n",
    "    pool_size=3,\n",
    "    max_overflow=2\n",
    ")\n",
    "\n",
    "async_engine = create_async_engine(\n",
    "    url=settings.DATABASE_URL_asyncpg,\n",
    "    echo=False,\n",
    "    pool_size=3,\n",
    "    max_overflow=2\n",
    ")\n",
    "\n",
    "\n",
    "with sync_engine.connect() as conn:\n",
    "    res = conn.execute(text(\"SELECT * FROM cloveri.interns\"))\n",
    "    print(f\"{res.all()}\")\n",
    "    \n"
   ]
  },
  {
   "cell_type": "code",
   "execution_count": 7,
   "metadata": {},
   "outputs": [],
   "source": [
    "import pandas as pd\n",
    "\n"
   ]
  },
  {
   "cell_type": "code",
   "execution_count": null,
   "metadata": {},
   "outputs": [],
   "source": []
  }
 ],
 "metadata": {
  "kernelspec": {
   "display_name": "base",
   "language": "python",
   "name": "python3"
  },
  "language_info": {
   "codemirror_mode": {
    "name": "ipython",
    "version": 3
   },
   "file_extension": ".py",
   "mimetype": "text/x-python",
   "name": "python",
   "nbconvert_exporter": "python",
   "pygments_lexer": "ipython3",
   "version": "3.12.3"
  }
 },
 "nbformat": 4,
 "nbformat_minor": 2
}
