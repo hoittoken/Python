{
 "cells": [
  {
   "cell_type": "code",
   "execution_count": 2,
   "metadata": {},
   "outputs": [
    {
     "name": "stdout",
     "output_type": "stream",
     "text": [
      "Hello World\n"
     ]
    }
   ],
   "source": [
    "print('Hello World')"
   ]
  },
  {
   "cell_type": "code",
   "execution_count": 4,
   "metadata": {},
   "outputs": [
    {
     "name": "stdout",
     "output_type": "stream",
     "text": [
      "\n",
      "Welcome to Python 3.10's help utility!\n",
      "\n",
      "If this is your first time using Python, you should definitely check out\n",
      "the tutorial on the internet at https://docs.python.org/3.10/tutorial/.\n",
      "\n",
      "Enter the name of any module, keyword, or topic to get help on writing\n",
      "Python programs and using Python modules.  To quit this help utility and\n",
      "return to the interpreter, just type \"quit\".\n",
      "\n",
      "To get a list of available modules, keywords, symbols, or topics, type\n",
      "\"modules\", \"keywords\", \"symbols\", or \"topics\".  Each module also comes\n",
      "with a one-line summary of what it does; to list the modules whose name\n",
      "or summary contain a given string such as \"spam\", type \"modules spam\".\n",
      "\n",
      "Help on built-in function print in module builtins:\n",
      "\n",
      "print(...)\n",
      "    print(value, ..., sep=' ', end='\\n', file=sys.stdout, flush=False)\n",
      "    \n",
      "    Prints the values to a stream, or to sys.stdout by default.\n",
      "    Optional keyword arguments:\n",
      "    file:  a file-like object (stream); defaults to the current sys.stdout.\n",
      "    sep:   string inserted between values, default a space.\n",
      "    end:   string appended after the last value, default a newline.\n",
      "    flush: whether to forcibly flush the stream.\n",
      "\n",
      "\n",
      "You are now leaving help and returning to the Python interpreter.\n",
      "If you want to ask for help on a particular object directly from the\n",
      "interpreter, you can type \"help(object)\".  Executing \"help('string')\"\n",
      "has the same effect as typing a particular string at the help> prompt.\n"
     ]
    }
   ],
   "source": [
    "help()"
   ]
  },
  {
   "cell_type": "markdown",
   "metadata": {},
   "source": [
    "## 7.3 Числа"
   ]
  },
  {
   "cell_type": "code",
   "execution_count": 16,
   "metadata": {},
   "outputs": [
    {
     "name": "stdout",
     "output_type": "stream",
     "text": [
      "5 - целое число - <class 'int'>\n",
      "0.005 - число с плавающей точкой - <class 'float'>\n",
      "(-5+4j) комплексное число - <class 'complex'>\n"
     ]
    }
   ],
   "source": [
    "print(5, '- целое число -', type(5))\n",
    "print(5E-3, '- число с плавающей точкой -', type(5E-3))\n",
    "print(-5+4j, 'комплексное число -', type(-5+4j))"
   ]
  },
  {
   "cell_type": "markdown",
   "metadata": {},
   "source": [
    "## 7.4 Строки"
   ]
  },
  {
   "cell_type": "code",
   "execution_count": 21,
   "metadata": {},
   "outputs": [
    {
     "name": "stdout",
     "output_type": "stream",
     "text": [
      "это строка <class 'str'>\n",
      "и это строка <class 'str'>\n",
      "и это тоже \"строка\" <class 'str'>\n"
     ]
    }
   ],
   "source": [
    "print('это строка', type('это строка'))\n",
    "print(\"и это строка\", type(\"это строка\"))\n",
    "print('''и это тоже \"строка\"''', type('''это \"строка\"'''))"
   ]
  },
  {
   "cell_type": "markdown",
   "metadata": {},
   "source": [
    "## 7.4.6 Метод format"
   ]
  },
  {
   "cell_type": "code",
   "execution_count": 38,
   "metadata": {},
   "outputs": [
    {
     "name": "stdout",
     "output_type": "stream",
     "text": [
      "Возраст Mike - 35 лет\n",
      "35 лет - пользователю Mike\n",
      "0.333\n",
      "____hello____\n",
      "Mike did this code\n"
     ]
    }
   ],
   "source": [
    "age = 35\n",
    "name = 'Mike'\n",
    "print('Возраст {0} - {1} лет'.format(name, age))\n",
    "print('{1} лет - пользователю {0}'.format(name, age))\n",
    "print('{0:.3}'.format(1 / 3))\n",
    "print('{0:_^13}'.format('hello'))\n",
    "print('{a} did this {b}'.format(a='Mike', b='code'))"
   ]
  },
  {
   "cell_type": "markdown",
   "metadata": {},
   "source": [
    "## 7.5 Переменные"
   ]
  },
  {
   "cell_type": "code",
   "execution_count": 54,
   "metadata": {},
   "outputs": [
    {
     "name": "stdout",
     "output_type": "stream",
     "text": [
      "1\n",
      "2\n",
      "3\n",
      "Это многострочная строка.\n",
      "Это вторая её строка\n",
      "5\n",
      "так можно, но не нужно\n"
     ]
    }
   ],
   "source": [
    "i = 1\n",
    "print(i)\n",
    "i = i + 1\n",
    "print(i)\n",
    "i += 1\n",
    "print(i)\n",
    "s = '''Это многострочная строка.\n",
    "Это вторая её строка'''\n",
    "print(s)\n",
    "i = 5; print(i); print('так можно, но не нужно')\n",
    "s = 'Это многострочная строка \\\n",
    "    которая продолжается тут' "
   ]
  },
  {
   "cell_type": "markdown",
   "metadata": {},
   "source": [
    "## 8.1 Операторы"
   ]
  },
  {
   "cell_type": "code",
   "execution_count": 79,
   "metadata": {},
   "outputs": [
    {
     "name": "stdout",
     "output_type": "stream",
     "text": [
      "1 + 2 = 3\n",
      "'1' + '2' = 12\n",
      "1 - 2 = -1\n",
      "1 * 2 = 2\n",
      "'1' * 3 = 111\n",
      "2 ** 3 = 8\n",
      "3 / 2 = 1.5\n",
      "3 // 2 = 1\n",
      "8 % 3 = 2\n"
     ]
    }
   ],
   "source": [
    "#  математические\n",
    "print('1 + 2 =', 1 + 2)\n",
    "print(\"'1' + '2' =\",'1' + '2')\n",
    "print('1 - 2 =', 1 - 2)\n",
    "print('1 * 2 =', 1 * 2)\n",
    "print(\"'1' * 3 =\",'1' * 3)\n",
    "print('2 ** 3 =', 2 ** 3)\n",
    "print('3 / 2 =', 3 / 2)\n",
    "print('3 // 2 =', 3 // 2)\n",
    "print('8 % 3 =', 8 % 3)"
   ]
  },
  {
   "cell_type": "code",
   "execution_count": 80,
   "metadata": {},
   "outputs": [
    {
     "name": "stdout",
     "output_type": "stream",
     "text": [
      "2 << 3 = 16\n",
      "2 >> 3 = 0\n",
      "5 & 3 = 1\n",
      "5 | 3 = 7\n",
      "5 ^ 3 = 6\n",
      "~ 3 = -4\n"
     ]
    }
   ],
   "source": [
    "# побитовые\n",
    "print('2 << 3 =', 2 << 3) # сдвиг влево\n",
    "print('2 >> 3 =', 2 >> 3) # сдвиг вправо\n",
    "print('5 & 3 =', 5 & 3) # побитовое И\n",
    "print('5 | 3 =', 5 | 3) # побитовое ИЛИ\n",
    "print('5 ^ 3 =', 5 ^ 3) # побитовое ИСКЛЮЧИТЕЛЬНО ИЛИ\n",
    "print('~ 3 =', ~ 3) # побитовое НЕ"
   ]
  },
  {
   "cell_type": "code",
   "execution_count": 92,
   "metadata": {},
   "outputs": [
    {
     "name": "stdout",
     "output_type": "stream",
     "text": [
      "2 < 3 = True\n",
      "2 > 3 = False\n",
      "2 <= 3 = True\n",
      "3 >= 3 = True\n",
      "3 == 3 = True\n",
      "2 != 3 = True\n",
      "not(2==2) = False\n",
      "True and False = False\n",
      "True or False = True\n"
     ]
    }
   ],
   "source": [
    "# логические\n",
    "print('2 < 3 =', 2 < 3)\n",
    "print('2 > 3 =', 2 > 3)\n",
    "print('2 <= 3 =', 2 <= 3)\n",
    "print('3 >= 3 =', 3 >= 3)\n",
    "print('3 == 3 =', 3 == 3)\n",
    "print('2 != 3 =', 2 != 3)\n",
    "print('not(2==2) =', not(2==2))\n",
    "print('True and False =', True and False)\n",
    "print('True or False =', True or False)"
   ]
  },
  {
   "cell_type": "markdown",
   "metadata": {},
   "source": [
    "## 8.2 Приоритет операторов\n",
    "\n",
    "| Оператор| Описание |\n",
    "|--- | - |\n",
    "|lambda| лямбда|\n",
    "| or| Логическое ИЛИ|\n",
    "| and| Логическое И|\n",
    "| not x| Логическое НЕ|\n",
    "| in, not in| Проверка принадлежности|\n",
    "| is, is not| Проверка тождественности|\n",
    "| <, <=, >, >=, !=, ==| Сравнение|\n",
    "| палка| Побитовое ИЛИ|\n",
    "| ^| Побитовое ИСКЛЮЧИТЕЛЬНО ИЛИ|\n",
    "| &| Побитовое И|\n",
    "| <<, >>| Сдвиги|\n",
    "| +, -| Сложение, вычитаение|\n",
    "| *, /, //, %| Умножение, деление, целочисленное деление и остаток от деления|\n",
    "| +x, -x| Положительное и отрицательное|\n",
    "| ~x| Побитовое НЕ|\n",
    "| **| Возведение в степень|\n",
    "| x.attribute| Ссылка на атрибут|\n",
    "| x[index]| Обращение по индексу|\n",
    "| x[index_1:index_2]| Срез|\n",
    "| f(arguments)| Вызов функции|\n",
    "| (tpl, ...)| Кортеж|\n",
    "| [lst, ...]| Список|\n",
    "| {key:value, ...}| Словарь|"
   ]
  },
  {
   "cell_type": "code",
   "execution_count": 93,
   "metadata": {},
   "outputs": [
    {
     "name": "stdout",
     "output_type": "stream",
     "text": [
      "Периметр равен 14\n",
      "Площадь равна 10\n"
     ]
    }
   ],
   "source": [
    "a = 5\n",
    "b = 2\n",
    "area = a * b\n",
    "print('Периметр равен', 2 * (a + b))\n",
    "print('Площадь равна', area)"
   ]
  },
  {
   "cell_type": "markdown",
   "metadata": {},
   "source": [
    "## 9.1 Оператор if"
   ]
  },
  {
   "cell_type": "code",
   "execution_count": 96,
   "metadata": {},
   "outputs": [
    {
     "name": "stdout",
     "output_type": "stream",
     "text": [
      "Нет. Чуть меньше\n"
     ]
    }
   ],
   "source": [
    "number = 7\n",
    "guess = int(input('введите число от 1 до 10'))\n",
    "\n",
    "if guess == number:\n",
    "    print('Да. Точно!')\n",
    "elif guess < number:\n",
    "    print('Нет. Чуть больше')\n",
    "else:\n",
    "    print('Нет. Чуть меньше')"
   ]
  },
  {
   "cell_type": "code",
   "execution_count": 97,
   "metadata": {},
   "outputs": [
    {
     "name": "stdout",
     "output_type": "stream",
     "text": [
      "True\n"
     ]
    }
   ],
   "source": [
    "if True:\n",
    "    print('True')"
   ]
  },
  {
   "cell_type": "markdown",
   "metadata": {},
   "source": [
    "## 9.2 Оператор while"
   ]
  },
  {
   "cell_type": "code",
   "execution_count": 98,
   "metadata": {},
   "outputs": [
    {
     "name": "stdout",
     "output_type": "stream",
     "text": [
      "Нет. Чуть больше\n",
      "Нет. Чуть больше\n",
      "Нет. Чуть больше\n",
      "Нет. Чуть меньше\n",
      "Да. Точно!\n",
      "Цикл while закончен\n"
     ]
    }
   ],
   "source": [
    "number = 7\n",
    "running = True\n",
    "\n",
    "while running:\n",
    "    guess = int(input('введите число от 1 до 10'))\n",
    "\n",
    "    if guess == number:\n",
    "        print('Да. Точно!')\n",
    "        running = False\n",
    "    elif guess < number:\n",
    "        print('Нет. Чуть больше')\n",
    "    else:\n",
    "        print('Нет. Чуть меньше')\n",
    "else:\n",
    "    print('Цикл while закончен')"
   ]
  },
  {
   "cell_type": "code",
   "execution_count": 103,
   "metadata": {},
   "outputs": [
    {
     "name": "stdout",
     "output_type": "stream",
     "text": [
      "Сейчас итерация 0\n",
      "i вначале итерации 0\n",
      "i вконце итерации 1\n",
      "Сейчас итерация 1\n",
      "i вначале итерации 1\n",
      "i вконце итерации 2\n",
      "Сейчас итерация 2\n",
      "i вначале итерации 2\n",
      "i вконце итерации 3\n",
      "Сейчас итерация 3\n",
      "i вначале итерации 3\n",
      "i вконце итерации 4\n",
      "Сейчас итерация 4\n",
      "i вначале итерации 4\n",
      "i вконце итерации 5\n"
     ]
    }
   ],
   "source": [
    "stop = 5\n",
    "i = 0\n",
    "\n",
    "while i < stop:\n",
    "    print(f'Сейчас итерация {i}')\n",
    "    print(f'i вначале итерации {i}')\n",
    "    i += 1\n",
    "    print(f'i вконце итерации {i}')"
   ]
  },
  {
   "cell_type": "markdown",
   "metadata": {},
   "source": [
    "## 9.3 Цикл for"
   ]
  },
  {
   "cell_type": "code",
   "execution_count": 104,
   "metadata": {},
   "outputs": [
    {
     "name": "stdout",
     "output_type": "stream",
     "text": [
      "1\n",
      "2\n",
      "3\n",
      "4\n",
      "Цикл for закончен\n"
     ]
    }
   ],
   "source": [
    "for i in range(1, 5):\n",
    "    print(i)\n",
    "else:\n",
    "    print('Цикл for закончен')"
   ]
  },
  {
   "cell_type": "markdown",
   "metadata": {},
   "source": [
    "## 9.4 Оператор break"
   ]
  },
  {
   "cell_type": "code",
   "execution_count": 105,
   "metadata": {},
   "outputs": [
    {
     "name": "stdout",
     "output_type": "stream",
     "text": [
      "Длинна строки:  5\n",
      "Длинна строки:  4\n",
      "Цикл while закончен\n"
     ]
    }
   ],
   "source": [
    "while True: #бесконечный цикл\n",
    "    s = input('Введите что-нибудь:')\n",
    "    if s == 'end':\n",
    "        break\n",
    "    print('Длинна строки: ', len(s))\n",
    "print('Цикл while закончен')"
   ]
  },
  {
   "cell_type": "markdown",
   "metadata": {},
   "source": [
    "## 9.5 Оператор continue"
   ]
  },
  {
   "cell_type": "code",
   "execution_count": 112,
   "metadata": {},
   "outputs": [
    {
     "name": "stdout",
     "output_type": "stream",
     "text": [
      "Длина строки:  1 Короткая строка.\n",
      "Длина строки:  1 Короткая строка.\n",
      "Длина строки:  1 Короткая строка.\n",
      "Достаточная длина\n",
      "Достаточная длина\n",
      "Цикл while закончен\n"
     ]
    }
   ],
   "source": [
    "while True: #бесконечный цикл\n",
    "    s = input('Введите что-нибудь:')\n",
    "    if s == 'end':\n",
    "        break\n",
    "    if len(s) < 3:\n",
    "        print('Длина строки: ', len(s), 'Короткая строка.')\n",
    "        continue\n",
    "    print('Достаточная длина')\n",
    "print('Цикл while закончен')"
   ]
  },
  {
   "cell_type": "markdown",
   "metadata": {},
   "source": [
    "## 10 Функции"
   ]
  },
  {
   "cell_type": "code",
   "execution_count": 111,
   "metadata": {},
   "outputs": [
    {
     "name": "stdout",
     "output_type": "stream",
     "text": [
      "3 is max\n"
     ]
    }
   ],
   "source": [
    "def print_max(a, b):\n",
    "    if a > b:\n",
    "        print(a, 'is max')\n",
    "    elif a == b:\n",
    "        print(a, 'is equal to', b)\n",
    "    else:\n",
    "        print(b, 'is max')\n",
    "        \n",
    "print_max(1, 3)"
   ]
  },
  {
   "cell_type": "markdown",
   "metadata": {},
   "source": [
    "## 10.2 Локальные переменные"
   ]
  },
  {
   "cell_type": "code",
   "execution_count": 117,
   "metadata": {},
   "outputs": [
    {
     "name": "stdout",
     "output_type": "stream",
     "text": [
      "x равен 5\n",
      "Замена локального х на 2\n",
      "Замена локального х на 5\n"
     ]
    }
   ],
   "source": [
    "x = 5\n",
    "\n",
    "def func(x):\n",
    "    print('x равен', x)\n",
    "    x = 2\n",
    "    print('Замена локального х на', x)\n",
    "    \n",
    "func(x)\n",
    "print('Замена локального х на', x)"
   ]
  },
  {
   "cell_type": "markdown",
   "metadata": {},
   "source": [
    "## 10.3 Зарезервированное слово 'global'"
   ]
  },
  {
   "cell_type": "code",
   "execution_count": 125,
   "metadata": {},
   "outputs": [
    {
     "name": "stdout",
     "output_type": "stream",
     "text": [
      "x равен 5\n",
      "Замена локального х на 2\n",
      "Теперь х равен 2\n"
     ]
    }
   ],
   "source": [
    "x = 5\n",
    "\n",
    "def func():\n",
    "    global x\n",
    "    print('x равен', x)\n",
    "    x = 2\n",
    "    print('Замена локального х на', x)\n",
    "\n",
    "func()\n",
    "print('Теперь х равен', x)   "
   ]
  },
  {
   "cell_type": "markdown",
   "metadata": {},
   "source": [
    "## 10.4 Зарезервированное слово 'nonlocal'"
   ]
  },
  {
   "cell_type": "code",
   "execution_count": 126,
   "metadata": {},
   "outputs": [
    {
     "name": "stdout",
     "output_type": "stream",
     "text": [
      "x равен 2\n",
      "Локальный х сменился на 5\n"
     ]
    }
   ],
   "source": [
    "def func_outer():\n",
    "    x = 2\n",
    "    print('x равен', x)\n",
    "    \n",
    "    def func_inner():\n",
    "        nonlocal x\n",
    "        x = 5\n",
    "        \n",
    "    func_inner()\n",
    "    print('Локальный х сменился на', x)\n",
    "    \n",
    "func_outer()"
   ]
  },
  {
   "cell_type": "markdown",
   "metadata": {},
   "source": [
    "## 10.5 Значение аргументов по умолчанию"
   ]
  },
  {
   "cell_type": "code",
   "execution_count": 128,
   "metadata": {},
   "outputs": [
    {
     "name": "stdout",
     "output_type": "stream",
     "text": [
      "Привет\n",
      "МирМирМирМирМир\n"
     ]
    }
   ],
   "source": [
    "def say(message, times=1):\n",
    "    print(message * times)\n",
    "    \n",
    "say('Привет')\n",
    "say('Мир', 5)"
   ]
  },
  {
   "cell_type": "markdown",
   "metadata": {},
   "source": [
    "## 10.6 Ключевые аргументы"
   ]
  },
  {
   "cell_type": "code",
   "execution_count": 129,
   "metadata": {},
   "outputs": [
    {
     "name": "stdout",
     "output_type": "stream",
     "text": [
      "а равно 3 b равно 7 c равно 10\n",
      "а равно 3 b равно 5 c равно 7\n",
      "а равно 7 b равно 5 c равно 3\n"
     ]
    }
   ],
   "source": [
    "def func(a, b=5, c=10):\n",
    "    print('а равно', a, 'b равно', b,'c равно', c)\n",
    "    \n",
    "func(3, 7)\n",
    "func(3, c=7)\n",
    "func(c=3, a=7)"
   ]
  },
  {
   "cell_type": "markdown",
   "metadata": {},
   "source": [
    "## 10.7 Переменное число параметров"
   ]
  },
  {
   "cell_type": "code",
   "execution_count": 130,
   "metadata": {},
   "outputs": [
    {
     "name": "stdout",
     "output_type": "stream",
     "text": [
      "166\n"
     ]
    }
   ],
   "source": [
    "def total(initial=5, *numbers, **keywords):\n",
    "    count = initial\n",
    "    for number in numbers:\n",
    "        count += number\n",
    "    for key in keywords:\n",
    "        count += keywords[key]\n",
    "    return count\n",
    "\n",
    "print(total(10, 1, 2, 3, vegetables=50, fruits=100))"
   ]
  },
  {
   "cell_type": "markdown",
   "metadata": {},
   "source": [
    "## 10.8 Только ключевые параметры"
   ]
  }
 ],
 "metadata": {
  "kernelspec": {
   "display_name": "base",
   "language": "python",
   "name": "python3"
  },
  "language_info": {
   "codemirror_mode": {
    "name": "ipython",
    "version": 3
   },
   "file_extension": ".py",
   "mimetype": "text/x-python",
   "name": "python",
   "nbconvert_exporter": "python",
   "pygments_lexer": "ipython3",
   "version": "3.10.9"
  },
  "orig_nbformat": 4
 },
 "nbformat": 4,
 "nbformat_minor": 2
}
