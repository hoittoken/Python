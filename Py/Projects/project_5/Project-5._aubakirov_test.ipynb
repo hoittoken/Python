{
 "cells": [
  {
   "cell_type": "markdown",
   "metadata": {
    "id": "F6EDfWQLkBLX",
    "tags": []
   },
   "source": [
    "## 1. Постановка задачи"
   ]
  },
  {
   "attachments": {},
   "cell_type": "markdown",
   "metadata": {
    "id": "G3NPCLzmkBLa"
   },
   "source": [
    "\n",
    "\n",
    "<center> <img src=https://raw.githubusercontent.com/hoittoken/Python/master/Py/Projects/project_5/logo%20v1.1.png align=\"left\"> </center>"
   ]
  },
  {
   "cell_type": "markdown",
   "metadata": {
    "id": "4Up0IUABkBLc",
    "tags": []
   },
   "source": [
    "## 2. Знакомство с данными, базовый анализ и расширение данных"
   ]
  },
  {
   "cell_type": "markdown",
   "metadata": {
    "id": "7W9mZPhWkBLd"
   },
   "source": [
    "Начнём наше исследование со знакомства с предоставленными данными. А также подгрузим дополнительные источники данных и расширим наш исходный датасет. \n"
   ]
  },
  {
   "cell_type": "markdown",
   "metadata": {
    "id": "UTIxJupXkBLd"
   },
   "source": [
    "Заранее импортируем модули, которые нам понадобятся для решения задачи:"
   ]
  },
  {
   "cell_type": "code",
   "execution_count": 1,
   "metadata": {},
   "outputs": [
    {
     "name": "stdout",
     "output_type": "stream",
     "text": [
      "2.2.2\n",
      "1.26.4\n",
      "1.5.1\n"
     ]
    }
   ],
   "source": [
    "import pandas as pd\n",
    "import numpy as np\n",
    "import sklearn\n",
    "\n",
    "print(pd.__version__)\n",
    "print(np.__version__)\n",
    "print(sklearn.__version__)"
   ]
  },
  {
   "cell_type": "code",
   "execution_count": 2,
   "metadata": {
    "id": "yeC12P0hkBLe"
   },
   "outputs": [],
   "source": [
    "import numpy as np\n",
    "import pandas as pd\n",
    "import matplotlib.pyplot as plt\n",
    "import seaborn as sns\n",
    "import plotly.express as px\n",
    "\n",
    "from scipy import stats\n",
    "from sklearn import linear_model\n",
    "from sklearn import preprocessing\n",
    "from sklearn import model_selection\n",
    "from sklearn import tree\n",
    "from sklearn import ensemble\n",
    "from sklearn import metrics\n",
    "from sklearn import cluster\n",
    "from sklearn import feature_selection\n",
    "\n",
    "import warnings\n",
    "\n",
    "warnings.simplefilter(action=\"ignore\")"
   ]
  },
  {
   "cell_type": "markdown",
   "metadata": {
    "id": "kk5-kjqikBLf"
   },
   "source": [
    "Прочитаем наш файл с исходными данными:"
   ]
  },
  {
   "cell_type": "code",
   "execution_count": 5,
   "metadata": {
    "_cell_guid": "79c7e3d0-c299-4dcb-8224-4455121ee9b0",
    "_uuid": "d629ff2d2480ee46fbb7e2d37f6b5fab8052498a",
    "id": "hMQnRJwdkBLg",
    "tags": []
   },
   "outputs": [
    {
     "name": "stdout",
     "output_type": "stream",
     "text": [
      "Train data shape: (1458644, 11)\n"
     ]
    },
    {
     "data": {
      "text/html": [
       "<div>\n",
       "<style scoped>\n",
       "    .dataframe tbody tr th:only-of-type {\n",
       "        vertical-align: middle;\n",
       "    }\n",
       "\n",
       "    .dataframe tbody tr th {\n",
       "        vertical-align: top;\n",
       "    }\n",
       "\n",
       "    .dataframe thead th {\n",
       "        text-align: right;\n",
       "    }\n",
       "</style>\n",
       "<table border=\"1\" class=\"dataframe\">\n",
       "  <thead>\n",
       "    <tr style=\"text-align: right;\">\n",
       "      <th></th>\n",
       "      <th>id</th>\n",
       "      <th>vendor_id</th>\n",
       "      <th>pickup_datetime</th>\n",
       "      <th>dropoff_datetime</th>\n",
       "      <th>passenger_count</th>\n",
       "      <th>pickup_longitude</th>\n",
       "      <th>pickup_latitude</th>\n",
       "      <th>dropoff_longitude</th>\n",
       "      <th>dropoff_latitude</th>\n",
       "      <th>store_and_fwd_flag</th>\n",
       "      <th>trip_duration</th>\n",
       "    </tr>\n",
       "  </thead>\n",
       "  <tbody>\n",
       "    <tr>\n",
       "      <th>0</th>\n",
       "      <td>id2875421</td>\n",
       "      <td>2</td>\n",
       "      <td>2016-03-14 17:24:55</td>\n",
       "      <td>2016-03-14 17:32:30</td>\n",
       "      <td>1</td>\n",
       "      <td>-73.982155</td>\n",
       "      <td>40.767937</td>\n",
       "      <td>-73.964630</td>\n",
       "      <td>40.765602</td>\n",
       "      <td>N</td>\n",
       "      <td>455</td>\n",
       "    </tr>\n",
       "    <tr>\n",
       "      <th>1</th>\n",
       "      <td>id2377394</td>\n",
       "      <td>1</td>\n",
       "      <td>2016-06-12 00:43:35</td>\n",
       "      <td>2016-06-12 00:54:38</td>\n",
       "      <td>1</td>\n",
       "      <td>-73.980415</td>\n",
       "      <td>40.738564</td>\n",
       "      <td>-73.999481</td>\n",
       "      <td>40.731152</td>\n",
       "      <td>N</td>\n",
       "      <td>663</td>\n",
       "    </tr>\n",
       "    <tr>\n",
       "      <th>2</th>\n",
       "      <td>id3858529</td>\n",
       "      <td>2</td>\n",
       "      <td>2016-01-19 11:35:24</td>\n",
       "      <td>2016-01-19 12:10:48</td>\n",
       "      <td>1</td>\n",
       "      <td>-73.979027</td>\n",
       "      <td>40.763939</td>\n",
       "      <td>-74.005333</td>\n",
       "      <td>40.710087</td>\n",
       "      <td>N</td>\n",
       "      <td>2124</td>\n",
       "    </tr>\n",
       "    <tr>\n",
       "      <th>3</th>\n",
       "      <td>id3504673</td>\n",
       "      <td>2</td>\n",
       "      <td>2016-04-06 19:32:31</td>\n",
       "      <td>2016-04-06 19:39:40</td>\n",
       "      <td>1</td>\n",
       "      <td>-74.010040</td>\n",
       "      <td>40.719971</td>\n",
       "      <td>-74.012268</td>\n",
       "      <td>40.706718</td>\n",
       "      <td>N</td>\n",
       "      <td>429</td>\n",
       "    </tr>\n",
       "    <tr>\n",
       "      <th>4</th>\n",
       "      <td>id2181028</td>\n",
       "      <td>2</td>\n",
       "      <td>2016-03-26 13:30:55</td>\n",
       "      <td>2016-03-26 13:38:10</td>\n",
       "      <td>1</td>\n",
       "      <td>-73.973053</td>\n",
       "      <td>40.793209</td>\n",
       "      <td>-73.972923</td>\n",
       "      <td>40.782520</td>\n",
       "      <td>N</td>\n",
       "      <td>435</td>\n",
       "    </tr>\n",
       "  </tbody>\n",
       "</table>\n",
       "</div>"
      ],
      "text/plain": [
       "          id  vendor_id      pickup_datetime     dropoff_datetime  \\\n",
       "0  id2875421          2  2016-03-14 17:24:55  2016-03-14 17:32:30   \n",
       "1  id2377394          1  2016-06-12 00:43:35  2016-06-12 00:54:38   \n",
       "2  id3858529          2  2016-01-19 11:35:24  2016-01-19 12:10:48   \n",
       "3  id3504673          2  2016-04-06 19:32:31  2016-04-06 19:39:40   \n",
       "4  id2181028          2  2016-03-26 13:30:55  2016-03-26 13:38:10   \n",
       "\n",
       "   passenger_count  pickup_longitude  pickup_latitude  dropoff_longitude  \\\n",
       "0                1        -73.982155        40.767937         -73.964630   \n",
       "1                1        -73.980415        40.738564         -73.999481   \n",
       "2                1        -73.979027        40.763939         -74.005333   \n",
       "3                1        -74.010040        40.719971         -74.012268   \n",
       "4                1        -73.973053        40.793209         -73.972923   \n",
       "\n",
       "   dropoff_latitude store_and_fwd_flag  trip_duration  \n",
       "0         40.765602                  N            455  \n",
       "1         40.731152                  N            663  \n",
       "2         40.710087                  N           2124  \n",
       "3         40.706718                  N            429  \n",
       "4         40.782520                  N            435  "
      ]
     },
     "execution_count": 5,
     "metadata": {},
     "output_type": "execute_result"
    }
   ],
   "source": [
    "taxi_data = pd.read_csv(\"D:\\Data\\Project5_train_data.zip\")\n",
    "#taxi_data = pd.read_csv(\"/home/aubakirov/data/Project5_train_data.zip\")\n",
    "print('Train data shape: {}'.format(taxi_data.shape))\n",
    "taxi_data.head()"
   ]
  },
  {
   "cell_type": "markdown",
   "metadata": {
    "id": "xhaxNt0XkBLh"
   },
   "source": [
    "Итак, у нас с вами есть данные о почти 1.5 миллионах поездок и 11 характеристиках, которые описывают каждую из поездок. "
   ]
  },
  {
   "cell_type": "markdown",
   "metadata": {
    "id": "tXufvADjkBLi"
   },
   "source": [
    "Мы условно разделили признаки нескольких групп. Каждой из групп мы в дальнейшем уделим отдельное внимание.\n",
    "\n",
    "**Данные о клиенте и таксопарке:**\n",
    "* id - уникальный идентификатор поездки\n",
    "* vendor_id - уникальный идентификатор поставщика (таксопарка), связанного с записью поездки\n",
    "\n",
    "**Временные характеристики:**\n",
    "* pickup_datetime - дата и время, когда был включен счетчик поездки\n",
    "* dropoff_datetime - дата и время, когда счетчик был отключен\n",
    "\n",
    "**Географическая информация:**\n",
    "* pickup_longitude -  долгота, на которой был включен счетчик\n",
    "* pickup_latitude - широта, на которой был включен счетчик\n",
    "* dropoff_longitude - долгота, на которой счетчик был отключен\n",
    "* dropoff_latitude - широта, на которой счетчик был отключен\n",
    "\n",
    "**Прочие признаки:**\n",
    "* passenger_count - количество пассажиров в транспортном средстве (введенное водителем значение)\n",
    "* store_and_fwd_flag - флаг, который указывает, сохранилась ли запись о поездке в памяти транспортного средства перед отправкой поставщику. Y - хранить и пересылать, N - не хранить и не пересылать поездку.\n",
    "\n",
    "**Целевой признак:**\n",
    "* trip_duration - продолжительность поездки в секундах\n"
   ]
  },
  {
   "cell_type": "markdown",
   "metadata": {
    "id": "VvrcGynTkBLi"
   },
   "source": [
    "Для начала мы проведем базовый анализ того, насколько данные готовы к дальнейшей предобработке и анализу. "
   ]
  },
  {
   "cell_type": "markdown",
   "metadata": {
    "id": "33rsP7rTkBLj"
   },
   "source": [
    "### Задание 2.1\n",
    "Для начала посмотрим на временные рамки, в которых мы работаем с данными.\n",
    "\n",
    "Переведите признак pickup_datetime в тип данных datetime с форматом год-месяц-день час:минута:секунда (в функции pd.to_datetime() параметр format='%Y-%m-%d %H:%M:%S'). \n",
    "\n",
    "Определите временные рамки (без учета времени), за которые представлены данные."
   ]
  },
  {
   "cell_type": "code",
   "execution_count": 6,
   "metadata": {
    "id": "cIVxwqW1kBLj"
   },
   "outputs": [
    {
     "data": {
      "text/plain": [
       "count                          1458644\n",
       "mean     2016-04-01 10:10:24.940037120\n",
       "min                2016-01-01 00:00:17\n",
       "25%      2016-02-17 16:46:04.249999872\n",
       "50%                2016-04-01 17:19:40\n",
       "75%      2016-05-15 03:56:08.750000128\n",
       "max                2016-06-30 23:59:39\n",
       "Name: pickup_datetime, dtype: object"
      ]
     },
     "execution_count": 6,
     "metadata": {},
     "output_type": "execute_result"
    }
   ],
   "source": [
    "taxi_data['pickup_datetime'] = pd.to_datetime(taxi_data['pickup_datetime'], format='%Y-%m-%d %H:%M:%S')\n",
    "taxi_data['dropoff_datetime'] = pd.to_datetime(taxi_data['dropoff_datetime'], format='%Y-%m-%d %H:%M:%S')\n",
    "taxi_data['pickup_datetime'].describe()"
   ]
  },
  {
   "cell_type": "markdown",
   "metadata": {
    "id": "prw5RhKnkBLj"
   },
   "source": [
    "### Задание 2.2\n",
    "Посмотрим на пропуски. \n",
    "Сколько пропущенных значений присутствует в данных (суммарно по всем столбцам таблицы)?"
   ]
  },
  {
   "cell_type": "code",
   "execution_count": 7,
   "metadata": {
    "id": "ug16JoZDkBLk"
   },
   "outputs": [
    {
     "name": "stdout",
     "output_type": "stream",
     "text": [
      "Пропуски в данных: False\n"
     ]
    }
   ],
   "source": [
    "print(f'Пропуски в данных: {taxi_data.isnull().any().any()}')"
   ]
  },
  {
   "cell_type": "markdown",
   "metadata": {
    "id": "ZMMIyT1skBLk"
   },
   "source": [
    "### Задание 2.3\n",
    "Посмотрим на статистические характеристики некоторых признаков. \n",
    "\n",
    "а) Сколько уникальных таксопарков присутствует в данных?\n",
    "\n",
    "б) Каково максимальное количество пассажиров?\n",
    "\n",
    "в) Чему равна средняя и медианная длительность поездки? Ответ приведите в секундах и округлите до целого.\n",
    "\n",
    "г) Чему равно минимальное и максимальное время поездки (в секундах)?\n"
   ]
  },
  {
   "cell_type": "code",
   "execution_count": 8,
   "metadata": {
    "id": "UeJfdmIskBLk"
   },
   "outputs": [
    {
     "name": "stdout",
     "output_type": "stream",
     "text": [
      "Количество уникальных таксопарков: 2\n",
      "Максимальное количество пассажиров: 9\n",
      "Продолжительность поездки: \n",
      "min             1.0\n",
      "mean          959.0\n",
      "median        662.0\n",
      "max       3526282.0\n",
      "Name: trip_duration, dtype: float64\n"
     ]
    }
   ],
   "source": [
    "print(f'Количество уникальных таксопарков: {taxi_data[\"vendor_id\"].unique()[0]}')\n",
    "print(f'Максимальное количество пассажиров: {taxi_data[\"passenger_count\"].max()}')\n",
    "print(f'Продолжительность поездки: \\n{taxi_data[\"trip_duration\"].agg([\"min\", \"mean\", \"median\", \"max\"]).round()}')"
   ]
  },
  {
   "cell_type": "code",
   "execution_count": 9,
   "metadata": {},
   "outputs": [
    {
     "name": "stdout",
     "output_type": "stream",
     "text": [
      "min             1.0\n",
      "mean          959.0\n",
      "median        662.0\n",
      "max       3526282.0\n",
      "Name: trip_duration, dtype: float64\n"
     ]
    }
   ],
   "source": [
    "print(taxi_data[\"trip_duration\"].agg(['min', 'mean', 'median', 'max']).round())"
   ]
  },
  {
   "cell_type": "markdown",
   "metadata": {
    "id": "JhUgalQSkBLk"
   },
   "source": [
    "Займемся расширением исходного набора данных как с помощью внешних источников, так и с помощью манипуляций над имеющимися в данных признаками. \n"
   ]
  },
  {
   "cell_type": "markdown",
   "metadata": {
    "id": "riVyyTGRkBLk"
   },
   "source": [
    "### Задание 2.4\n",
    "Реализуйте функцию add_datetime_features(), которая принимает на вход таблицу с данными о поездках (DataFrame) и возвращает ту же таблицу с добавленными в нее 3 столбцами:\n",
    "* pickup_date - дата включения счетчика - начала поездки (без времени);\n",
    "* pickup_hour - час дня включения счетчика;\n",
    "* pickup_day_of_week - наименование дня недели, в который был включен счетчик.\n",
    "\n",
    "а) Сколько поездок было совершено в субботу?\n",
    "\n",
    "б) Сколько поездок в среднем совершается в день? Ответ округлите до целого"
   ]
  },
  {
   "cell_type": "code",
   "execution_count": 11,
   "metadata": {
    "id": "2987aTUAkBLl"
   },
   "outputs": [],
   "source": [
    "def add_datetime_features(data, feature='pickup_datetime'):\n",
    "    \n",
    "    data['pickup_date'] = data[feature].dt.date\n",
    "    data['pickup_hour'] = data[feature].dt.hour\n",
    "    data['pickup_day_of_week'] = data[feature].dt.dayofweek\n",
    "    \n",
    "    return data"
   ]
  },
  {
   "cell_type": "code",
   "execution_count": 12,
   "metadata": {},
   "outputs": [
    {
     "name": "stdout",
     "output_type": "stream",
     "text": [
      "<class 'pandas.core.frame.DataFrame'>\n",
      "RangeIndex: 1458644 entries, 0 to 1458643\n",
      "Data columns (total 14 columns):\n",
      " #   Column              Non-Null Count    Dtype         \n",
      "---  ------              --------------    -----         \n",
      " 0   id                  1458644 non-null  object        \n",
      " 1   vendor_id           1458644 non-null  int64         \n",
      " 2   pickup_datetime     1458644 non-null  datetime64[ns]\n",
      " 3   dropoff_datetime    1458644 non-null  datetime64[ns]\n",
      " 4   passenger_count     1458644 non-null  int64         \n",
      " 5   pickup_longitude    1458644 non-null  float64       \n",
      " 6   pickup_latitude     1458644 non-null  float64       \n",
      " 7   dropoff_longitude   1458644 non-null  float64       \n",
      " 8   dropoff_latitude    1458644 non-null  float64       \n",
      " 9   store_and_fwd_flag  1458644 non-null  object        \n",
      " 10  trip_duration       1458644 non-null  int64         \n",
      " 11  pickup_date         1458644 non-null  object        \n",
      " 12  pickup_hour         1458644 non-null  int32         \n",
      " 13  pickup_day_of_week  1458644 non-null  int32         \n",
      "dtypes: datetime64[ns](2), float64(4), int32(2), int64(3), object(3)\n",
      "memory usage: 144.7+ MB\n"
     ]
    }
   ],
   "source": [
    "taxi_data = add_datetime_features(taxi_data, 'pickup_datetime')\n",
    "taxi_data.info()"
   ]
  },
  {
   "cell_type": "code",
   "execution_count": 13,
   "metadata": {},
   "outputs": [
    {
     "name": "stdout",
     "output_type": "stream",
     "text": [
      "Поездок в субботу: 220868\n",
      "Поездок в день (ср.знач): 8015\n"
     ]
    }
   ],
   "source": [
    "print(f\"Поездок в субботу: {taxi_data[taxi_data['pickup_day_of_week'] == 5].count()[0]}\")\n",
    "print(f\"Поездок в день (ср.знач): {round(taxi_data['pickup_date'].value_counts().mean())}\")"
   ]
  },
  {
   "cell_type": "markdown",
   "metadata": {
    "id": "5rCk6lyTkBLl"
   },
   "source": [
    "### Задание 2.5\n",
    "Реализуйте функцию add_holiday_features(), которая принимает на вход две таблицы: \n",
    "* таблицу с данными о поездках;\n",
    "* таблицу с данными о праздничных днях;\n",
    "\n",
    "и возвращает обновленную таблицу с данными о поездках с добавленным в нее столбцом pickup_holiday - бинарным признаком того, начата ли поездка в праздничный день или нет (1 - да, 0 - нет). \n",
    "\n",
    "Чему равна медианная длительность поездки на такси в праздничные дни? Ответ приведите в секундах, округлив до целого.\n"
   ]
  },
  {
   "cell_type": "code",
   "execution_count": 14,
   "metadata": {
    "id": "ZnPWsSMukBLl"
   },
   "outputs": [
    {
     "data": {
      "text/html": [
       "<div>\n",
       "<style scoped>\n",
       "    .dataframe tbody tr th:only-of-type {\n",
       "        vertical-align: middle;\n",
       "    }\n",
       "\n",
       "    .dataframe tbody tr th {\n",
       "        vertical-align: top;\n",
       "    }\n",
       "\n",
       "    .dataframe thead th {\n",
       "        text-align: right;\n",
       "    }\n",
       "</style>\n",
       "<table border=\"1\" class=\"dataframe\">\n",
       "  <thead>\n",
       "    <tr style=\"text-align: right;\">\n",
       "      <th></th>\n",
       "      <th>day</th>\n",
       "      <th>date</th>\n",
       "      <th>holiday</th>\n",
       "    </tr>\n",
       "  </thead>\n",
       "  <tbody>\n",
       "    <tr>\n",
       "      <th>0</th>\n",
       "      <td>Friday</td>\n",
       "      <td>2016-01-01</td>\n",
       "      <td>New Years Day</td>\n",
       "    </tr>\n",
       "    <tr>\n",
       "      <th>1</th>\n",
       "      <td>Monday</td>\n",
       "      <td>2016-01-18</td>\n",
       "      <td>Martin Luther King Jr. Day</td>\n",
       "    </tr>\n",
       "    <tr>\n",
       "      <th>2</th>\n",
       "      <td>Friday</td>\n",
       "      <td>2016-02-12</td>\n",
       "      <td>Lincoln's Birthday</td>\n",
       "    </tr>\n",
       "    <tr>\n",
       "      <th>3</th>\n",
       "      <td>Monday</td>\n",
       "      <td>2016-02-15</td>\n",
       "      <td>Presidents' Day</td>\n",
       "    </tr>\n",
       "    <tr>\n",
       "      <th>4</th>\n",
       "      <td>Sunday</td>\n",
       "      <td>2016-05-08</td>\n",
       "      <td>Mother's Day</td>\n",
       "    </tr>\n",
       "    <tr>\n",
       "      <th>5</th>\n",
       "      <td>Monday</td>\n",
       "      <td>2016-05-30</td>\n",
       "      <td>Memorial Day</td>\n",
       "    </tr>\n",
       "    <tr>\n",
       "      <th>6</th>\n",
       "      <td>Sunday</td>\n",
       "      <td>2016-06-19</td>\n",
       "      <td>Father's Day</td>\n",
       "    </tr>\n",
       "    <tr>\n",
       "      <th>7</th>\n",
       "      <td>Monday</td>\n",
       "      <td>2016-07-04</td>\n",
       "      <td>Independence Day</td>\n",
       "    </tr>\n",
       "    <tr>\n",
       "      <th>8</th>\n",
       "      <td>Monday</td>\n",
       "      <td>2016-09-05</td>\n",
       "      <td>Labor Day</td>\n",
       "    </tr>\n",
       "    <tr>\n",
       "      <th>9</th>\n",
       "      <td>Monday</td>\n",
       "      <td>2016-10-10</td>\n",
       "      <td>Columbus Day</td>\n",
       "    </tr>\n",
       "    <tr>\n",
       "      <th>10</th>\n",
       "      <td>Friday</td>\n",
       "      <td>2016-11-11</td>\n",
       "      <td>Veterans Day</td>\n",
       "    </tr>\n",
       "    <tr>\n",
       "      <th>11</th>\n",
       "      <td>Thursday</td>\n",
       "      <td>2016-11-24</td>\n",
       "      <td>Thanksgiving</td>\n",
       "    </tr>\n",
       "    <tr>\n",
       "      <th>12</th>\n",
       "      <td>Monday</td>\n",
       "      <td>2016-12-26</td>\n",
       "      <td>Christmas Day (in lieu)</td>\n",
       "    </tr>\n",
       "    <tr>\n",
       "      <th>13</th>\n",
       "      <td>Tuesday</td>\n",
       "      <td>2016-11-08</td>\n",
       "      <td>Election Day</td>\n",
       "    </tr>\n",
       "  </tbody>\n",
       "</table>\n",
       "</div>"
      ],
      "text/plain": [
       "         day        date                     holiday\n",
       "0     Friday  2016-01-01               New Years Day\n",
       "1     Monday  2016-01-18  Martin Luther King Jr. Day\n",
       "2     Friday  2016-02-12          Lincoln's Birthday\n",
       "3     Monday  2016-02-15             Presidents' Day\n",
       "4     Sunday  2016-05-08                Mother's Day\n",
       "5     Monday  2016-05-30                Memorial Day\n",
       "6     Sunday  2016-06-19                Father's Day\n",
       "7     Monday  2016-07-04            Independence Day\n",
       "8     Monday  2016-09-05                   Labor Day\n",
       "9     Monday  2016-10-10                Columbus Day\n",
       "10    Friday  2016-11-11                Veterans Day\n",
       "11  Thursday  2016-11-24                Thanksgiving\n",
       "12    Monday  2016-12-26     Christmas Day (in lieu)\n",
       "13   Tuesday  2016-11-08                Election Day"
      ]
     },
     "execution_count": 14,
     "metadata": {},
     "output_type": "execute_result"
    }
   ],
   "source": [
    "holiday_data = pd.read_csv('holiday_data.csv', sep=';')\n",
    "holiday_data['date'] = pd.to_datetime(holiday_data['date'])\n",
    "holiday_data['date'] = holiday_data['date'].dt.date\n",
    "holiday_data"
   ]
  },
  {
   "cell_type": "code",
   "execution_count": 15,
   "metadata": {},
   "outputs": [],
   "source": [
    "def add_holiday_features(data, data_2, features='pickup_date', features_2='date', name='pickup_holiday'):\n",
    "    \n",
    "    features_2_list = []\n",
    "    \n",
    "    for i in range(len(data_2[features_2])):\n",
    "        features_2_list.append(data_2[features_2][i])\n",
    "        \n",
    "    data[name] = data[features].apply(lambda x: 1 if x in features_2_list else 0)\n",
    "    \n",
    "    return data       "
   ]
  },
  {
   "cell_type": "code",
   "execution_count": 16,
   "metadata": {},
   "outputs": [
    {
     "name": "stdout",
     "output_type": "stream",
     "text": [
      "CPU times: total: 0 ns\n",
      "Wall time: 0 ns\n"
     ]
    }
   ],
   "source": [
    "%time\n",
    "taxi_data = add_holiday_features(taxi_data, holiday_data, 'pickup_date', 'date', 'pickup_holiday')"
   ]
  },
  {
   "cell_type": "code",
   "execution_count": 17,
   "metadata": {},
   "outputs": [
    {
     "name": "stdout",
     "output_type": "stream",
     "text": [
      "Медианная длитеотность поездки в выходные дни: 585.0\n"
     ]
    }
   ],
   "source": [
    "print(f\"Медианная длитеотность поездки в выходные дни: {taxi_data[taxi_data['pickup_holiday'] == 1]['trip_duration'].median()}\")"
   ]
  },
  {
   "cell_type": "markdown",
   "metadata": {
    "id": "YPxMlVMAkBLl"
   },
   "source": [
    "### Задание 2.6\n",
    "Реализуйте функцию add_osrm_features(), которая принимает на вход две таблицы:\n",
    "* таблицу с данными о поездках;\n",
    "* таблицу с данными из OSRM;\n",
    "\n",
    "и возвращает обновленную таблицу с данными о поездках с добавленными в нее 3 столбцами:\n",
    "* total_distance;\n",
    "* total_travel_time;\n",
    "* number_of_steps.\n",
    "\n",
    "а) Чему равна разница (в секундах) между медианной длительностью поездки в данных и медианной длительностью поездки, полученной из OSRM? \n",
    "\n",
    "В результате объединения таблиц у вас должны были получиться пропуски в столбцах с информацией из OSRM API. Это связано с тем, что для некоторых поездок не удалось выгрузить данные из веб источника. \n",
    "\n",
    "б) Сколько пропусков содержится в столбцах с информацией из OSRM API после объединения таблиц?"
   ]
  },
  {
   "cell_type": "code",
   "execution_count": 18,
   "metadata": {
    "id": "uey_zFbwkBLm"
   },
   "outputs": [],
   "source": [
    "osrm_data = pd.read_csv(\"D:\\Data\\osrm_data_train.zip\")\n",
    "#osrm_data = pd.read_csv(\"/home/aubakirov/data/osrm_data_train.zip\")"
   ]
  },
  {
   "cell_type": "code",
   "execution_count": 19,
   "metadata": {},
   "outputs": [],
   "source": [
    "def add_osrm_features(data, data_2, on='id', how='left', columns = ['id','total_distance', 'total_travel_time', 'number_of_steps']):\n",
    "    merged_data = data.merge(\n",
    "        data_2[columns],\n",
    "        on=on,\n",
    "        how=how\n",
    "    )\n",
    "    return merged_data"
   ]
  },
  {
   "cell_type": "code",
   "execution_count": 20,
   "metadata": {},
   "outputs": [
    {
     "name": "stdout",
     "output_type": "stream",
     "text": [
      "CPU times: total: 0 ns\n",
      "Wall time: 0 ns\n"
     ]
    }
   ],
   "source": [
    "%time\n",
    "taxi_data = add_osrm_features(taxi_data, osrm_data)"
   ]
  },
  {
   "cell_type": "code",
   "execution_count": 21,
   "metadata": {
    "id": "ti1rljMGkBLm"
   },
   "outputs": [],
   "source": [
    "def get_haversine_distance(lat1, lng1, lat2, lng2):\n",
    "    # переводим углы в радианы\n",
    "    lat1, lng1, lat2, lng2 = map(np.radians, (lat1, lng1, lat2, lng2))\n",
    "    # радиус земли в километрах\n",
    "    EARTH_RADIUS = 6371 \n",
    "    # считаем кратчайшее расстояние h по формуле Хаверсина\n",
    "    lat_delta = lat2 - lat1\n",
    "    lng_delta = lng2 - lng1\n",
    "    d = np.sin(lat_delta * 0.5) ** 2 + np.cos(lat1) * np.cos(lat2) * np.sin(lng_delta * 0.5) ** 2\n",
    "    h = 2 * EARTH_RADIUS * np.arcsin(np.sqrt(d))\n",
    "    return h\n",
    "\n",
    "def get_angle_direction(lat1, lng1, lat2, lng2):\n",
    "    # переводим углы в радианы\n",
    "    lat1, lng1, lat2, lng2 = map(np.radians, (lat1, lng1, lat2, lng2))\n",
    "    # считаем угол направления движения alpha по формуле угла пеленга\n",
    "    lng_delta_rad = lng2 - lng1\n",
    "    y = np.sin(lng_delta_rad) * np.cos(lat2)\n",
    "    x = np.cos(lat1) * np.sin(lat2) - np.sin(lat1) * np.cos(lat2) * np.cos(lng_delta_rad)\n",
    "    alpha = np.degrees(np.arctan2(y, x))\n",
    "    return alpha"
   ]
  },
  {
   "cell_type": "markdown",
   "metadata": {
    "id": "lGQpi4erkBLm",
    "tags": []
   },
   "source": [
    "### Задание 2.7.\n",
    "Реализуйте функцию add_geographical_features(), которая принимает на вход таблицу с данными о поездках и возвращает обновленную таблицу с добавленными в нее 2 столбцами:\n",
    "* haversine_distance - расстояние Хаверсина между точкой, в которой был включен счетчик, и точкой, в которой счетчик был выключен;\n",
    "* direction - направление движения из точки, в которой был включен счетчик, в точку, в которой счетчик был выключен.\n",
    "\n",
    "Чему равно медианное расстояние Хаверсина поездок (в киллометрах)? Ответ округлите до сотых.\n"
   ]
  },
  {
   "cell_type": "code",
   "execution_count": 22,
   "metadata": {},
   "outputs": [],
   "source": [
    "def add_geographical_features(\n",
    "    data, \n",
    "    lat1='pickup_latitude', \n",
    "    lng1='pickup_longitude',\n",
    "    lat2='dropoff_latitude', \n",
    "    lng2='dropoff_longitude', \n",
    "    name_1='haversine_distance', name_2='direction'):\n",
    "    \n",
    "    data[name_1] = get_haversine_distance(data[lat1], data[lng1], data[lat2], data[lng2])\n",
    "    \n",
    "    data[name_2] = get_angle_direction(data[lat1], data[lng1], data[lat2], data[lng2])\n",
    "    \n",
    "    return data"
   ]
  },
  {
   "cell_type": "code",
   "execution_count": 23,
   "metadata": {},
   "outputs": [],
   "source": [
    "taxi_data = add_geographical_features(taxi_data)"
   ]
  },
  {
   "cell_type": "code",
   "execution_count": 24,
   "metadata": {},
   "outputs": [
    {
     "name": "stdout",
     "output_type": "stream",
     "text": [
      "Медианное расстояние Хаверсина поездок: 2.09км\n"
     ]
    }
   ],
   "source": [
    "print(f'Медианное расстояние Хаверсина поездок: {round(taxi_data[\"haversine_distance\"].median(),2)}км')"
   ]
  },
  {
   "cell_type": "markdown",
   "metadata": {
    "id": "_WWydgB2kBLm"
   },
   "source": [
    "### Задание 2.8.\n",
    "Реализуйте функцию add_cluster_features(), которая принимает на вход таблицу с данными о поездках и обученный алгоритм кластеризации. Функция должна возвращать обновленную таблицу с добавленными в нее столбцом geo_cluster - географический кластер, к которому относится поездка.\n",
    "\n",
    "Сколько поездок содержится в наименьшем по размеру географическом кластере?\n"
   ]
  },
  {
   "cell_type": "code",
   "execution_count": 25,
   "metadata": {
    "id": "YxpWNYfakBLn"
   },
   "outputs": [
    {
     "data": {
      "text/html": [
       "<style>#sk-container-id-1 {\n",
       "  /* Definition of color scheme common for light and dark mode */\n",
       "  --sklearn-color-text: black;\n",
       "  --sklearn-color-line: gray;\n",
       "  /* Definition of color scheme for unfitted estimators */\n",
       "  --sklearn-color-unfitted-level-0: #fff5e6;\n",
       "  --sklearn-color-unfitted-level-1: #f6e4d2;\n",
       "  --sklearn-color-unfitted-level-2: #ffe0b3;\n",
       "  --sklearn-color-unfitted-level-3: chocolate;\n",
       "  /* Definition of color scheme for fitted estimators */\n",
       "  --sklearn-color-fitted-level-0: #f0f8ff;\n",
       "  --sklearn-color-fitted-level-1: #d4ebff;\n",
       "  --sklearn-color-fitted-level-2: #b3dbfd;\n",
       "  --sklearn-color-fitted-level-3: cornflowerblue;\n",
       "\n",
       "  /* Specific color for light theme */\n",
       "  --sklearn-color-text-on-default-background: var(--sg-text-color, var(--theme-code-foreground, var(--jp-content-font-color1, black)));\n",
       "  --sklearn-color-background: var(--sg-background-color, var(--theme-background, var(--jp-layout-color0, white)));\n",
       "  --sklearn-color-border-box: var(--sg-text-color, var(--theme-code-foreground, var(--jp-content-font-color1, black)));\n",
       "  --sklearn-color-icon: #696969;\n",
       "\n",
       "  @media (prefers-color-scheme: dark) {\n",
       "    /* Redefinition of color scheme for dark theme */\n",
       "    --sklearn-color-text-on-default-background: var(--sg-text-color, var(--theme-code-foreground, var(--jp-content-font-color1, white)));\n",
       "    --sklearn-color-background: var(--sg-background-color, var(--theme-background, var(--jp-layout-color0, #111)));\n",
       "    --sklearn-color-border-box: var(--sg-text-color, var(--theme-code-foreground, var(--jp-content-font-color1, white)));\n",
       "    --sklearn-color-icon: #878787;\n",
       "  }\n",
       "}\n",
       "\n",
       "#sk-container-id-1 {\n",
       "  color: var(--sklearn-color-text);\n",
       "}\n",
       "\n",
       "#sk-container-id-1 pre {\n",
       "  padding: 0;\n",
       "}\n",
       "\n",
       "#sk-container-id-1 input.sk-hidden--visually {\n",
       "  border: 0;\n",
       "  clip: rect(1px 1px 1px 1px);\n",
       "  clip: rect(1px, 1px, 1px, 1px);\n",
       "  height: 1px;\n",
       "  margin: -1px;\n",
       "  overflow: hidden;\n",
       "  padding: 0;\n",
       "  position: absolute;\n",
       "  width: 1px;\n",
       "}\n",
       "\n",
       "#sk-container-id-1 div.sk-dashed-wrapped {\n",
       "  border: 1px dashed var(--sklearn-color-line);\n",
       "  margin: 0 0.4em 0.5em 0.4em;\n",
       "  box-sizing: border-box;\n",
       "  padding-bottom: 0.4em;\n",
       "  background-color: var(--sklearn-color-background);\n",
       "}\n",
       "\n",
       "#sk-container-id-1 div.sk-container {\n",
       "  /* jupyter's `normalize.less` sets `[hidden] { display: none; }`\n",
       "     but bootstrap.min.css set `[hidden] { display: none !important; }`\n",
       "     so we also need the `!important` here to be able to override the\n",
       "     default hidden behavior on the sphinx rendered scikit-learn.org.\n",
       "     See: https://github.com/scikit-learn/scikit-learn/issues/21755 */\n",
       "  display: inline-block !important;\n",
       "  position: relative;\n",
       "}\n",
       "\n",
       "#sk-container-id-1 div.sk-text-repr-fallback {\n",
       "  display: none;\n",
       "}\n",
       "\n",
       "div.sk-parallel-item,\n",
       "div.sk-serial,\n",
       "div.sk-item {\n",
       "  /* draw centered vertical line to link estimators */\n",
       "  background-image: linear-gradient(var(--sklearn-color-text-on-default-background), var(--sklearn-color-text-on-default-background));\n",
       "  background-size: 2px 100%;\n",
       "  background-repeat: no-repeat;\n",
       "  background-position: center center;\n",
       "}\n",
       "\n",
       "/* Parallel-specific style estimator block */\n",
       "\n",
       "#sk-container-id-1 div.sk-parallel-item::after {\n",
       "  content: \"\";\n",
       "  width: 100%;\n",
       "  border-bottom: 2px solid var(--sklearn-color-text-on-default-background);\n",
       "  flex-grow: 1;\n",
       "}\n",
       "\n",
       "#sk-container-id-1 div.sk-parallel {\n",
       "  display: flex;\n",
       "  align-items: stretch;\n",
       "  justify-content: center;\n",
       "  background-color: var(--sklearn-color-background);\n",
       "  position: relative;\n",
       "}\n",
       "\n",
       "#sk-container-id-1 div.sk-parallel-item {\n",
       "  display: flex;\n",
       "  flex-direction: column;\n",
       "}\n",
       "\n",
       "#sk-container-id-1 div.sk-parallel-item:first-child::after {\n",
       "  align-self: flex-end;\n",
       "  width: 50%;\n",
       "}\n",
       "\n",
       "#sk-container-id-1 div.sk-parallel-item:last-child::after {\n",
       "  align-self: flex-start;\n",
       "  width: 50%;\n",
       "}\n",
       "\n",
       "#sk-container-id-1 div.sk-parallel-item:only-child::after {\n",
       "  width: 0;\n",
       "}\n",
       "\n",
       "/* Serial-specific style estimator block */\n",
       "\n",
       "#sk-container-id-1 div.sk-serial {\n",
       "  display: flex;\n",
       "  flex-direction: column;\n",
       "  align-items: center;\n",
       "  background-color: var(--sklearn-color-background);\n",
       "  padding-right: 1em;\n",
       "  padding-left: 1em;\n",
       "}\n",
       "\n",
       "\n",
       "/* Toggleable style: style used for estimator/Pipeline/ColumnTransformer box that is\n",
       "clickable and can be expanded/collapsed.\n",
       "- Pipeline and ColumnTransformer use this feature and define the default style\n",
       "- Estimators will overwrite some part of the style using the `sk-estimator` class\n",
       "*/\n",
       "\n",
       "/* Pipeline and ColumnTransformer style (default) */\n",
       "\n",
       "#sk-container-id-1 div.sk-toggleable {\n",
       "  /* Default theme specific background. It is overwritten whether we have a\n",
       "  specific estimator or a Pipeline/ColumnTransformer */\n",
       "  background-color: var(--sklearn-color-background);\n",
       "}\n",
       "\n",
       "/* Toggleable label */\n",
       "#sk-container-id-1 label.sk-toggleable__label {\n",
       "  cursor: pointer;\n",
       "  display: block;\n",
       "  width: 100%;\n",
       "  margin-bottom: 0;\n",
       "  padding: 0.5em;\n",
       "  box-sizing: border-box;\n",
       "  text-align: center;\n",
       "}\n",
       "\n",
       "#sk-container-id-1 label.sk-toggleable__label-arrow:before {\n",
       "  /* Arrow on the left of the label */\n",
       "  content: \"▸\";\n",
       "  float: left;\n",
       "  margin-right: 0.25em;\n",
       "  color: var(--sklearn-color-icon);\n",
       "}\n",
       "\n",
       "#sk-container-id-1 label.sk-toggleable__label-arrow:hover:before {\n",
       "  color: var(--sklearn-color-text);\n",
       "}\n",
       "\n",
       "/* Toggleable content - dropdown */\n",
       "\n",
       "#sk-container-id-1 div.sk-toggleable__content {\n",
       "  max-height: 0;\n",
       "  max-width: 0;\n",
       "  overflow: hidden;\n",
       "  text-align: left;\n",
       "  /* unfitted */\n",
       "  background-color: var(--sklearn-color-unfitted-level-0);\n",
       "}\n",
       "\n",
       "#sk-container-id-1 div.sk-toggleable__content.fitted {\n",
       "  /* fitted */\n",
       "  background-color: var(--sklearn-color-fitted-level-0);\n",
       "}\n",
       "\n",
       "#sk-container-id-1 div.sk-toggleable__content pre {\n",
       "  margin: 0.2em;\n",
       "  border-radius: 0.25em;\n",
       "  color: var(--sklearn-color-text);\n",
       "  /* unfitted */\n",
       "  background-color: var(--sklearn-color-unfitted-level-0);\n",
       "}\n",
       "\n",
       "#sk-container-id-1 div.sk-toggleable__content.fitted pre {\n",
       "  /* unfitted */\n",
       "  background-color: var(--sklearn-color-fitted-level-0);\n",
       "}\n",
       "\n",
       "#sk-container-id-1 input.sk-toggleable__control:checked~div.sk-toggleable__content {\n",
       "  /* Expand drop-down */\n",
       "  max-height: 200px;\n",
       "  max-width: 100%;\n",
       "  overflow: auto;\n",
       "}\n",
       "\n",
       "#sk-container-id-1 input.sk-toggleable__control:checked~label.sk-toggleable__label-arrow:before {\n",
       "  content: \"▾\";\n",
       "}\n",
       "\n",
       "/* Pipeline/ColumnTransformer-specific style */\n",
       "\n",
       "#sk-container-id-1 div.sk-label input.sk-toggleable__control:checked~label.sk-toggleable__label {\n",
       "  color: var(--sklearn-color-text);\n",
       "  background-color: var(--sklearn-color-unfitted-level-2);\n",
       "}\n",
       "\n",
       "#sk-container-id-1 div.sk-label.fitted input.sk-toggleable__control:checked~label.sk-toggleable__label {\n",
       "  background-color: var(--sklearn-color-fitted-level-2);\n",
       "}\n",
       "\n",
       "/* Estimator-specific style */\n",
       "\n",
       "/* Colorize estimator box */\n",
       "#sk-container-id-1 div.sk-estimator input.sk-toggleable__control:checked~label.sk-toggleable__label {\n",
       "  /* unfitted */\n",
       "  background-color: var(--sklearn-color-unfitted-level-2);\n",
       "}\n",
       "\n",
       "#sk-container-id-1 div.sk-estimator.fitted input.sk-toggleable__control:checked~label.sk-toggleable__label {\n",
       "  /* fitted */\n",
       "  background-color: var(--sklearn-color-fitted-level-2);\n",
       "}\n",
       "\n",
       "#sk-container-id-1 div.sk-label label.sk-toggleable__label,\n",
       "#sk-container-id-1 div.sk-label label {\n",
       "  /* The background is the default theme color */\n",
       "  color: var(--sklearn-color-text-on-default-background);\n",
       "}\n",
       "\n",
       "/* On hover, darken the color of the background */\n",
       "#sk-container-id-1 div.sk-label:hover label.sk-toggleable__label {\n",
       "  color: var(--sklearn-color-text);\n",
       "  background-color: var(--sklearn-color-unfitted-level-2);\n",
       "}\n",
       "\n",
       "/* Label box, darken color on hover, fitted */\n",
       "#sk-container-id-1 div.sk-label.fitted:hover label.sk-toggleable__label.fitted {\n",
       "  color: var(--sklearn-color-text);\n",
       "  background-color: var(--sklearn-color-fitted-level-2);\n",
       "}\n",
       "\n",
       "/* Estimator label */\n",
       "\n",
       "#sk-container-id-1 div.sk-label label {\n",
       "  font-family: monospace;\n",
       "  font-weight: bold;\n",
       "  display: inline-block;\n",
       "  line-height: 1.2em;\n",
       "}\n",
       "\n",
       "#sk-container-id-1 div.sk-label-container {\n",
       "  text-align: center;\n",
       "}\n",
       "\n",
       "/* Estimator-specific */\n",
       "#sk-container-id-1 div.sk-estimator {\n",
       "  font-family: monospace;\n",
       "  border: 1px dotted var(--sklearn-color-border-box);\n",
       "  border-radius: 0.25em;\n",
       "  box-sizing: border-box;\n",
       "  margin-bottom: 0.5em;\n",
       "  /* unfitted */\n",
       "  background-color: var(--sklearn-color-unfitted-level-0);\n",
       "}\n",
       "\n",
       "#sk-container-id-1 div.sk-estimator.fitted {\n",
       "  /* fitted */\n",
       "  background-color: var(--sklearn-color-fitted-level-0);\n",
       "}\n",
       "\n",
       "/* on hover */\n",
       "#sk-container-id-1 div.sk-estimator:hover {\n",
       "  /* unfitted */\n",
       "  background-color: var(--sklearn-color-unfitted-level-2);\n",
       "}\n",
       "\n",
       "#sk-container-id-1 div.sk-estimator.fitted:hover {\n",
       "  /* fitted */\n",
       "  background-color: var(--sklearn-color-fitted-level-2);\n",
       "}\n",
       "\n",
       "/* Specification for estimator info (e.g. \"i\" and \"?\") */\n",
       "\n",
       "/* Common style for \"i\" and \"?\" */\n",
       "\n",
       ".sk-estimator-doc-link,\n",
       "a:link.sk-estimator-doc-link,\n",
       "a:visited.sk-estimator-doc-link {\n",
       "  float: right;\n",
       "  font-size: smaller;\n",
       "  line-height: 1em;\n",
       "  font-family: monospace;\n",
       "  background-color: var(--sklearn-color-background);\n",
       "  border-radius: 1em;\n",
       "  height: 1em;\n",
       "  width: 1em;\n",
       "  text-decoration: none !important;\n",
       "  margin-left: 1ex;\n",
       "  /* unfitted */\n",
       "  border: var(--sklearn-color-unfitted-level-1) 1pt solid;\n",
       "  color: var(--sklearn-color-unfitted-level-1);\n",
       "}\n",
       "\n",
       ".sk-estimator-doc-link.fitted,\n",
       "a:link.sk-estimator-doc-link.fitted,\n",
       "a:visited.sk-estimator-doc-link.fitted {\n",
       "  /* fitted */\n",
       "  border: var(--sklearn-color-fitted-level-1) 1pt solid;\n",
       "  color: var(--sklearn-color-fitted-level-1);\n",
       "}\n",
       "\n",
       "/* On hover */\n",
       "div.sk-estimator:hover .sk-estimator-doc-link:hover,\n",
       ".sk-estimator-doc-link:hover,\n",
       "div.sk-label-container:hover .sk-estimator-doc-link:hover,\n",
       ".sk-estimator-doc-link:hover {\n",
       "  /* unfitted */\n",
       "  background-color: var(--sklearn-color-unfitted-level-3);\n",
       "  color: var(--sklearn-color-background);\n",
       "  text-decoration: none;\n",
       "}\n",
       "\n",
       "div.sk-estimator.fitted:hover .sk-estimator-doc-link.fitted:hover,\n",
       ".sk-estimator-doc-link.fitted:hover,\n",
       "div.sk-label-container:hover .sk-estimator-doc-link.fitted:hover,\n",
       ".sk-estimator-doc-link.fitted:hover {\n",
       "  /* fitted */\n",
       "  background-color: var(--sklearn-color-fitted-level-3);\n",
       "  color: var(--sklearn-color-background);\n",
       "  text-decoration: none;\n",
       "}\n",
       "\n",
       "/* Span, style for the box shown on hovering the info icon */\n",
       ".sk-estimator-doc-link span {\n",
       "  display: none;\n",
       "  z-index: 9999;\n",
       "  position: relative;\n",
       "  font-weight: normal;\n",
       "  right: .2ex;\n",
       "  padding: .5ex;\n",
       "  margin: .5ex;\n",
       "  width: min-content;\n",
       "  min-width: 20ex;\n",
       "  max-width: 50ex;\n",
       "  color: var(--sklearn-color-text);\n",
       "  box-shadow: 2pt 2pt 4pt #999;\n",
       "  /* unfitted */\n",
       "  background: var(--sklearn-color-unfitted-level-0);\n",
       "  border: .5pt solid var(--sklearn-color-unfitted-level-3);\n",
       "}\n",
       "\n",
       ".sk-estimator-doc-link.fitted span {\n",
       "  /* fitted */\n",
       "  background: var(--sklearn-color-fitted-level-0);\n",
       "  border: var(--sklearn-color-fitted-level-3);\n",
       "}\n",
       "\n",
       ".sk-estimator-doc-link:hover span {\n",
       "  display: block;\n",
       "}\n",
       "\n",
       "/* \"?\"-specific style due to the `<a>` HTML tag */\n",
       "\n",
       "#sk-container-id-1 a.estimator_doc_link {\n",
       "  float: right;\n",
       "  font-size: 1rem;\n",
       "  line-height: 1em;\n",
       "  font-family: monospace;\n",
       "  background-color: var(--sklearn-color-background);\n",
       "  border-radius: 1rem;\n",
       "  height: 1rem;\n",
       "  width: 1rem;\n",
       "  text-decoration: none;\n",
       "  /* unfitted */\n",
       "  color: var(--sklearn-color-unfitted-level-1);\n",
       "  border: var(--sklearn-color-unfitted-level-1) 1pt solid;\n",
       "}\n",
       "\n",
       "#sk-container-id-1 a.estimator_doc_link.fitted {\n",
       "  /* fitted */\n",
       "  border: var(--sklearn-color-fitted-level-1) 1pt solid;\n",
       "  color: var(--sklearn-color-fitted-level-1);\n",
       "}\n",
       "\n",
       "/* On hover */\n",
       "#sk-container-id-1 a.estimator_doc_link:hover {\n",
       "  /* unfitted */\n",
       "  background-color: var(--sklearn-color-unfitted-level-3);\n",
       "  color: var(--sklearn-color-background);\n",
       "  text-decoration: none;\n",
       "}\n",
       "\n",
       "#sk-container-id-1 a.estimator_doc_link.fitted:hover {\n",
       "  /* fitted */\n",
       "  background-color: var(--sklearn-color-fitted-level-3);\n",
       "}\n",
       "</style><div id=\"sk-container-id-1\" class=\"sk-top-container\"><div class=\"sk-text-repr-fallback\"><pre>KMeans(n_clusters=10, random_state=42)</pre><b>In a Jupyter environment, please rerun this cell to show the HTML representation or trust the notebook. <br />On GitHub, the HTML representation is unable to render, please try loading this page with nbviewer.org.</b></div><div class=\"sk-container\" hidden><div class=\"sk-item\"><div class=\"sk-estimator fitted sk-toggleable\"><input class=\"sk-toggleable__control sk-hidden--visually\" id=\"sk-estimator-id-1\" type=\"checkbox\" checked><label for=\"sk-estimator-id-1\" class=\"sk-toggleable__label fitted sk-toggleable__label-arrow fitted\">&nbsp;&nbsp;KMeans<a class=\"sk-estimator-doc-link fitted\" rel=\"noreferrer\" target=\"_blank\" href=\"https://scikit-learn.org/1.5/modules/generated/sklearn.cluster.KMeans.html\">?<span>Documentation for KMeans</span></a><span class=\"sk-estimator-doc-link fitted\">i<span>Fitted</span></span></label><div class=\"sk-toggleable__content fitted\"><pre>KMeans(n_clusters=10, random_state=42)</pre></div> </div></div></div></div>"
      ],
      "text/plain": [
       "KMeans(n_clusters=10, random_state=42)"
      ]
     },
     "execution_count": 25,
     "metadata": {},
     "output_type": "execute_result"
    }
   ],
   "source": [
    "# создаем обучающую выборку из географических координат всех точек\n",
    "coords = np.hstack((taxi_data[['pickup_latitude', 'pickup_longitude']],\n",
    "                    taxi_data[['dropoff_latitude', 'dropoff_longitude']]))\n",
    "# обучаем алгоритм кластеризации\n",
    "kmeans = cluster.KMeans(n_clusters=10, random_state=42, n_init='auto')\n",
    "kmeans.fit(coords)\n"
   ]
  },
  {
   "cell_type": "code",
   "execution_count": 26,
   "metadata": {},
   "outputs": [],
   "source": [
    "def add_cluster_features(data, model, name='geo_cluster'):\n",
    "    \n",
    "    coords = np.hstack((data[['pickup_latitude', 'pickup_longitude']], data[['dropoff_latitude', 'dropoff_longitude']]))\n",
    "    # обучаем алгоритм кластеризации\n",
    "    model = cluster.KMeans(n_clusters=10, random_state=42, n_init='auto')\n",
    "    model.fit(coords)\n",
    "    \n",
    "    \n",
    "    data[name] = model.labels_.T\n",
    "    return data\n",
    "\n",
    "taxi_data = add_cluster_features(taxi_data, kmeans)"
   ]
  },
  {
   "cell_type": "code",
   "execution_count": 27,
   "metadata": {},
   "outputs": [
    {
     "data": {
      "text/plain": [
       "geo_cluster\n",
       "1         2\n",
       "5         3\n",
       "4         4\n",
       "8     15510\n",
       "2     32769\n",
       "3     40671\n",
       "7     45791\n",
       "9    322999\n",
       "6    405045\n",
       "0    595850\n",
       "Name: count, dtype: int64"
      ]
     },
     "execution_count": 27,
     "metadata": {},
     "output_type": "execute_result"
    }
   ],
   "source": [
    "taxi_data['geo_cluster'].value_counts(ascending=True)"
   ]
  },
  {
   "cell_type": "markdown",
   "metadata": {
    "id": "4FRtxWNDkBLn"
   },
   "source": [
    "### Задание 2.9.\n",
    "Реализуйте функцию add_weather_features(), которая принимает на вход две таблицы:\n",
    "* таблицу с данными о поездках;\n",
    "* таблицу с данными о погодных условиях на каждый час;\n",
    "\n",
    "и возвращает обновленную таблицу с данными о поездках с добавленными в нее 5 столбцами:\n",
    "* temperature - температура;\n",
    "* visibility - видимость;\n",
    "* wind speed - средняя скорость ветра;\n",
    "* precip - количество осадков;\n",
    "* events - погодные явления.\n",
    "\n",
    "а) Сколько поездок было совершено в снежную погоду?\n",
    "\n",
    "В результате объединения у вас должны получиться записи, для которых в столбцах temperature, visibility, wind speed, precip, и events будут пропуски. Это связано с тем, что в таблице с данными о погодных условиях отсутствуют измерения для некоторых моментов времени, в которых включался счетчик поездки. \n",
    "\n",
    "б) Сколько процентов от общего количества наблюдений в таблице с данными о поездках занимают пропуски в столбцах с погодными условиями? Ответ приведите с точностью до сотых процента.\n"
   ]
  },
  {
   "cell_type": "code",
   "execution_count": 28,
   "metadata": {
    "id": "PdgHJwQgkBLn"
   },
   "outputs": [],
   "source": [
    "weather_data = pd.read_csv('weather_data.zip')\n",
    "\n",
    "def weather_preparing(data, old_name=['date','hour'], new_name=['pickup_date','pickup_hour']):\n",
    "    data[old_name[0]] = pd.to_datetime(data[old_name[0]])\n",
    "    data[old_name[0]] = data[old_name[0]].dt.date\n",
    "    data.rename(columns = {old_name[0]:new_name[0], old_name[1]:new_name[1]}, inplace=True)\n",
    "    return data"
   ]
  },
  {
   "cell_type": "code",
   "execution_count": 29,
   "metadata": {},
   "outputs": [],
   "source": [
    "weather_data = weather_preparing(weather_data)"
   ]
  },
  {
   "cell_type": "code",
   "execution_count": 30,
   "metadata": {},
   "outputs": [],
   "source": [
    "def add_weather_features(df, weather_data):\n",
    "    weather_data['time'] = pd.to_datetime(weather_data['time'])\n",
    "    weather_data['date'] = weather_data['time'].dt.date\n",
    "    weather_data['hour'] = weather_data['time'].dt.hour\n",
    "    \n",
    "    weather_columns = [\n",
    "        'date', 'hour', 'temperature', 'visibility',\n",
    "        'wind speed', 'precip', 'events'\n",
    "    ]\n",
    "    \n",
    "    df = df.merge(\n",
    "        weather_data[weather_columns], \n",
    "        left_on=['pickup_date', 'pickup_hour'], \n",
    "        right_on=['date', 'hour'],\n",
    "        how='left'\n",
    "    )\n",
    "    \n",
    "    df = df.drop(['date', 'hour'], axis=1)\n",
    "    return df"
   ]
  },
  {
   "cell_type": "code",
   "execution_count": 31,
   "metadata": {},
   "outputs": [],
   "source": [
    "taxi_data = add_weather_features(taxi_data, weather_data)"
   ]
  },
  {
   "cell_type": "code",
   "execution_count": 32,
   "metadata": {},
   "outputs": [
    {
     "data": {
      "text/plain": [
       "13126"
      ]
     },
     "execution_count": 32,
     "metadata": {},
     "output_type": "execute_result"
    }
   ],
   "source": [
    "taxi_data[taxi_data['events'] == 'Snow'].shape[0]"
   ]
  },
  {
   "cell_type": "code",
   "execution_count": 33,
   "metadata": {},
   "outputs": [
    {
     "data": {
      "text/plain": [
       "0.82"
      ]
     },
     "execution_count": 33,
     "metadata": {},
     "output_type": "execute_result"
    }
   ],
   "source": [
    "round((taxi_data['visibility'].isnull().mean() * 100),2)"
   ]
  },
  {
   "cell_type": "markdown",
   "metadata": {
    "id": "hwsluTQHkBLn"
   },
   "source": [
    "### Задание 2.10.\n",
    "Реализуйте функцию fill_null_weather_data(), которая принимает на вход которая принимает на вход таблицу с данными о поездках. Функция должна заполнять пропущенные значения в столбцах.\n",
    "\n",
    "Пропуски в столбцах с погодными условиями -  temperature, visibility, wind speed, precip заполните медианным значением температуры, влажности, скорости ветра и видимости в зависимости от даты начала поездки. Для этого сгруппируйте данные по столбцу pickup_date и рассчитайте медиану в каждой группе, после чего с помощью комбинации методов transform() и fillna() заполните пропуски. \n",
    "Пропуски в столбце events заполните строкой 'None' - символом отсутствия погодных явлений (снега/дождя/тумана). \n",
    "\n",
    "Пропуски в столбцах с информацией из OSRM API - total_distance, total_travel_time и number_of_steps заполните медианным значением по столбцам. \n",
    "\n",
    "Чему равна медиана в столбце temperature после заполнения пропусков? Ответ округлите до десятых.\n"
   ]
  },
  {
   "cell_type": "code",
   "execution_count": 34,
   "metadata": {},
   "outputs": [
    {
     "data": {
      "text/plain": [
       "events\n",
       "Rain    58300\n",
       "Snow    13126\n",
       "Fog         1\n",
       "Name: count, dtype: int64"
      ]
     },
     "execution_count": 34,
     "metadata": {},
     "output_type": "execute_result"
    }
   ],
   "source": [
    "taxi_data['events'].value_counts()"
   ]
  },
  {
   "cell_type": "code",
   "execution_count": 35,
   "metadata": {},
   "outputs": [
    {
     "data": {
      "text/plain": [
       "id                    0\n",
       "vendor_id             0\n",
       "pickup_datetime       0\n",
       "dropoff_datetime      0\n",
       "passenger_count       0\n",
       "pickup_longitude      0\n",
       "pickup_latitude       0\n",
       "dropoff_longitude     0\n",
       "dropoff_latitude      0\n",
       "store_and_fwd_flag    0\n",
       "trip_duration         0\n",
       "pickup_date           0\n",
       "pickup_hour           0\n",
       "pickup_day_of_week    0\n",
       "pickup_holiday        0\n",
       "total_distance        0\n",
       "total_travel_time     0\n",
       "number_of_steps       0\n",
       "haversine_distance    0\n",
       "direction             0\n",
       "geo_cluster           0\n",
       "temperature           0\n",
       "visibility            0\n",
       "wind speed            0\n",
       "precip                0\n",
       "events                0\n",
       "dtype: int64"
      ]
     },
     "execution_count": 35,
     "metadata": {},
     "output_type": "execute_result"
    }
   ],
   "source": [
    "def temp(df: pd.DataFrame):\n",
    "    df['events'] = df['events'].fillna('None')\n",
    "    columns = ['temperature', 'visibility', 'wind speed', 'precip']\n",
    "    for column in columns:\n",
    "        df[column] = df[column].fillna(df.groupby('pickup_date')[column].transform('median'))\n",
    "        \n",
    "    columns = ['total_distance', 'total_travel_time', 'number_of_steps']\n",
    "    for column in columns:\n",
    "        df[column] = df[column].fillna(df[column].median())\n",
    "\n",
    "temp(taxi_data)        \n",
    "taxi_data.isnull().sum()"
   ]
  },
  {
   "cell_type": "code",
   "execution_count": 36,
   "metadata": {
    "id": "oHIYqxjKkBLn"
   },
   "outputs": [],
   "source": [
    "def fill_null_weather_data(data, cols=['temperature', 'visibility', 'wind speed', 'precip'], none='events'):\n",
    "    for col in cols:\n",
    "        data[col] = data[col].fillna(data.groupby('pickup_date')[col].transform('median'))\n",
    "        \n",
    "    data[none] = data[none].fillna('None')\n",
    "    return data"
   ]
  },
  {
   "cell_type": "code",
   "execution_count": 37,
   "metadata": {},
   "outputs": [],
   "source": [
    "taxi_data = fill_null_weather_data(taxi_data)"
   ]
  },
  {
   "cell_type": "code",
   "execution_count": 38,
   "metadata": {},
   "outputs": [
    {
     "data": {
      "text/plain": [
       "11.1"
      ]
     },
     "execution_count": 38,
     "metadata": {},
     "output_type": "execute_result"
    }
   ],
   "source": [
    "taxi_data[\"temperature\"].median()"
   ]
  },
  {
   "cell_type": "markdown",
   "metadata": {
    "id": "MahzwVDxkBLn"
   },
   "source": [
    "В завершение первой части найдем очевидные выбросы в целевой переменной - длительности поездки. \n",
    "\n",
    "Проще всего найти слишком продолжительные поездки. Давайте условимся, что выбросами будут считаться поездки, длительность которых превышает 24 часа. \n",
    "\n",
    "Чуть сложнее с анализом поездок, длительность которых слишком мала. Потому что к ним относятся действительно реальные поездки на короткие расстояния, поездки, которые были отменены через секунду после того как включился счетчик, а также “телепортации” - перемещение на большие расстояния за считанные секунды. \n",
    "Условимся, что мы будем считать выбросами только последнюю группу. Как же нам их обнаружить наиболее простым способом?\n",
    "\n",
    "Можно воспользоваться информацией о кратчайшем расстоянии, которое проезжает такси. Вычислить среднюю скорость автомобиля на кратчайшем пути следующим образом: \n",
    "$$avg\\_speed= \\frac{total\\_distance}{1000*trip\\_duration}*3600$$\n",
    "Если мы построим диаграмму рассеяния средней скорости движения автомобилей, мы увидим следующую картину:\n"
   ]
  },
  {
   "cell_type": "code",
   "execution_count": 39,
   "metadata": {},
   "outputs": [
    {
     "data": {
      "text/plain": [
       "Index(['id', 'vendor_id', 'pickup_datetime', 'dropoff_datetime',\n",
       "       'passenger_count', 'pickup_longitude', 'pickup_latitude',\n",
       "       'dropoff_longitude', 'dropoff_latitude', 'store_and_fwd_flag',\n",
       "       'trip_duration', 'pickup_date', 'pickup_hour', 'pickup_day_of_week',\n",
       "       'pickup_holiday', 'total_distance', 'total_travel_time',\n",
       "       'number_of_steps', 'haversine_distance', 'direction', 'geo_cluster',\n",
       "       'temperature', 'visibility', 'wind speed', 'precip', 'events'],\n",
       "      dtype='object')"
      ]
     },
     "execution_count": 39,
     "metadata": {},
     "output_type": "execute_result"
    }
   ],
   "source": [
    "taxi_data.columns"
   ]
  },
  {
   "cell_type": "code",
   "execution_count": 40,
   "metadata": {
    "id": "Nnp1KatIkBLo"
   },
   "outputs": [],
   "source": [
    "avg_speed = taxi_data['total_distance'] / taxi_data['trip_duration'] * 3.6"
   ]
  },
  {
   "cell_type": "code",
   "execution_count": 41,
   "metadata": {},
   "outputs": [
    {
     "data": {
      "image/png": "[encoded data removed]",
      "text/plain": [
       "<Figure size 1000x500 with 1 Axes>"
      ]
     },
     "metadata": {},
     "output_type": "display_data"
    }
   ],
   "source": [
    "fig, ax = plt.subplots(figsize=(10, 5))\n",
    "sns.scatterplot(x=avg_speed.index, y=avg_speed, ax=ax)\n",
    "ax.set_xlabel('Index')\n",
    "ax.set_ylabel('Average speed');"
   ]
  },
  {
   "cell_type": "markdown",
   "metadata": {
    "id": "BGxXxv7LkBLo"
   },
   "source": [
    "Как раз отсюда мы видим, что у нас есть “поездки-телепортации”, для которых средняя скорость более 1000 км/ч. Даже есть такая, средняя скорость которой составляла более 12000 км/ч! \n",
    "\n",
    "Давайте условимся, что предельная средняя скорость, которую могут развивать таксисты будет 300 км/ч. \n"
   ]
  },
  {
   "cell_type": "markdown",
   "metadata": {
    "id": "sSWHdHNWkBLo",
    "tags": []
   },
   "source": [
    "### Задание 2.11.\n",
    "Найдите поездки, длительность которых превышает 24 часа. И удалите их из набора данных.\n",
    "\n",
    "а) Сколько выбросов по признаку длительности поездки вам удалось найти?\n",
    "\n",
    "Найдите поездки, средняя скорость которых по кратчайшему пути превышает 300 км/ч и удалите их из данных. \n",
    "\n",
    "б) Сколько выбросов по признаку скорости вам удалось найти?"
   ]
  },
  {
   "cell_type": "code",
   "execution_count": 42,
   "metadata": {},
   "outputs": [
    {
     "data": {
      "text/plain": [
       "(407, 26)"
      ]
     },
     "execution_count": 42,
     "metadata": {},
     "output_type": "execute_result"
    }
   ],
   "source": [
    "taxi_data[taxi_data['total_distance'] / taxi_data['trip_duration'] * 3.6 > 300].shape"
   ]
  },
  {
   "cell_type": "code",
   "execution_count": 43,
   "metadata": {
    "id": "3KVmlq8SkBLo"
   },
   "outputs": [
    {
     "name": "stdout",
     "output_type": "stream",
     "text": [
      "(1458644, 26)\n",
      "(1458640, 26)\n"
     ]
    }
   ],
   "source": [
    "print(taxi_data.shape)\n",
    "print(taxi_data[taxi_data['trip_duration'] < 86400].shape)\n",
    "taxi_data = taxi_data[taxi_data['trip_duration'] < 86400]"
   ]
  },
  {
   "cell_type": "code",
   "execution_count": 44,
   "metadata": {},
   "outputs": [
    {
     "name": "stdout",
     "output_type": "stream",
     "text": [
      "(1458640, 26)\n",
      "(1458233, 26)\n"
     ]
    }
   ],
   "source": [
    "print(taxi_data.shape)\n",
    "print(taxi_data[taxi_data['total_distance'] / taxi_data['trip_duration'] * 3.6 < 300].shape)\n",
    "taxi_data = taxi_data[taxi_data['total_distance'] / taxi_data['trip_duration'] * 3.6 < 300]\n"
   ]
  },
  {
   "cell_type": "markdown",
   "metadata": {
    "id": "pEEXbpTfkBLo",
    "tags": []
   },
   "source": [
    "## 3. Разведывательный анализ данных (EDA)"
   ]
  },
  {
   "cell_type": "markdown",
   "metadata": {
    "id": "59de6wa-kBLo"
   },
   "source": [
    "В этой части нашего проекта мы с вами:\n",
    "* Исследуем сформированный набор данных; \n",
    "* Попробуем найти закономерности, позволяющие сформулировать предварительные гипотезы относительно того, какие факторы являются решающими в определении длительности поездки;\n",
    "* Дополним наш анализ визуализациями, иллюстрирующими; исследование. Постарайтесь оформлять диаграммы с душой, а не «для галочки»: навыки визуализации полученных выводов обязательно пригодятся вам в будущем.\n"
   ]
  },
  {
   "cell_type": "markdown",
   "metadata": {
    "id": "d-8PQtqRkBLo"
   },
   "source": [
    "Начинаем с целевого признака. Забегая вперед, скажем, что основной метрикой качества решения поставленной задачи будет RMSLE - Root Mean Squared Log Error, которая вычисляется на основе целевой переменной в логарифмическом масштабе. В таком случае целесообразно сразу логарифмировать признак длительности поездки и рассматривать при анализе логарифм в качестве целевого признака:\n",
    "$$trip\\_duration\\_log = log(trip\\_duration+1),$$\n",
    "где под символом log подразумевается натуральный логарифм.\n"
   ]
  },
  {
   "cell_type": "code",
   "execution_count": 45,
   "metadata": {
    "id": "y59BwN3MkBLp"
   },
   "outputs": [],
   "source": [
    "taxi_data['trip_duration_log'] = np.log(taxi_data['trip_duration']+1)"
   ]
  },
  {
   "attachments": {},
   "cell_type": "markdown",
   "metadata": {},
   "source": [
    "***\n",
    "\n",
    "Ещё одно примечание на будущее: для того, чтобы вернуться от логарифмического масштаба к истинному будет использоваться формула\n",
    "\n",
    "$trip\\_duration= exp(trip\\_duration\\_log)-1$\n",
    "\n",
    "***\n"
   ]
  },
  {
   "cell_type": "code",
   "execution_count": 40,
   "metadata": {},
   "outputs": [
    {
     "data": {
      "image/png": "[encoded data removed]",
      "text/plain": [
       "<Figure size 864x720 with 2 Axes>"
      ]
     },
     "metadata": {
      "needs_background": "light"
     },
     "output_type": "display_data"
    }
   ],
   "source": [
    "fig, axes = plt.subplots(nrows=2, ncols=1, figsize=(12, 10))\n",
    "plt.subplots_adjust(hspace=.0)\n",
    "\n",
    "histplot = sns.histplot(\n",
    "    data=taxi_data[['trip_duration_log']], \n",
    "    x='trip_duration_log', \n",
    "    bins=50,\n",
    "    ax=axes[0],\n",
    "    palette='tab10',\n",
    ")\n",
    "histplot.set_title('Распределение длительности поездки', fontweight='semibold', fontsize=16)\n",
    "histplot.set_ylabel('Число поездок')\n",
    "boxplot = sns.boxplot(\n",
    "    data=taxi_data[['trip_duration_log']],\n",
    "    x='trip_duration_log',\n",
    "    orient='h',\n",
    "    palette='tab10',\n",
    ")\n",
    "boxplot.set_xlabel('Продолжительность')\n",
    "boxplot.set_ylabel(' ')\n",
    "boxplot.grid()\n"
   ]
  },
  {
   "cell_type": "markdown",
   "metadata": {
    "id": "OoqAWXLLkBLp"
   },
   "source": [
    "### Задание 3.1.\n",
    "Постройте гистограмму и коробчатую диаграмму длительности поездок в логарифмическом масштабе (trip_duration_log). \n",
    "Исходя из визуализации, сделайте предположение, является ли полученное распределение нормальным? \n",
    "Проверьте свою гипотезу с помощью теста Д’Агостино при уровне значимости $\\alpha=0.05$. \n",
    "\n",
    "а) Чему равен вычисленный p-value? Ответ округлите до сотых.\n",
    "\n",
    "б) Является ли распределение длительности поездок в логарифмическом масштабе нормальным?"
   ]
  },
  {
   "cell_type": "code",
   "execution_count": 46,
   "metadata": {},
   "outputs": [
    {
     "data": {
      "text/plain": [
       "array([6.12249281, 6.49828215, 7.66152708, ..., 6.63987583, 5.9242558 ,\n",
       "       5.29330482])"
      ]
     },
     "execution_count": 46,
     "metadata": {},
     "output_type": "execute_result"
    }
   ],
   "source": [
    "np.array(taxi_data['trip_duration_log'])"
   ]
  },
  {
   "cell_type": "code",
   "execution_count": 47,
   "metadata": {
    "_uuid": "4cea6d1f4372850e6c5692d7be7ca1cee3bdb42e",
    "id": "hSPVCtNckBLp",
    "tags": []
   },
   "outputs": [
    {
     "name": "stdout",
     "output_type": "stream",
     "text": [
      "p_value = 0.0\n",
      "Отвергаем нулевую гипотезу. Распределение отлично от нормального\n"
     ]
    }
   ],
   "source": [
    "from scipy.stats import normaltest\n",
    "# нулевая и альтернативная гипотезы\n",
    "H0 = 'Распределение отлично от нормального'\n",
    "H1 = 'Распределения нормальное'\n",
    "k2, p =  normaltest(np.array(taxi_data['trip_duration_log']))\n",
    "alpha = 0.05\n",
    "print(f\"p_value = {round(p, 30)}\")\n",
    "if p < alpha:  # null hypothesis: x comes from a normal distribution\n",
    "    print(\"Отвергаем нулевую гипотезу. {}\".format(H0))\n",
    "else:\n",
    "    print(\"Принимаем нулевую гипотезу. {}\".format(H0))\n"
   ]
  },
  {
   "cell_type": "code",
   "execution_count": 48,
   "metadata": {},
   "outputs": [
    {
     "name": "stdout",
     "output_type": "stream",
     "text": [
      "p-value = 0.0\n",
      "Отвергаем нулевую гипотезу. Распределение отлично от нормального\n"
     ]
    }
   ],
   "source": [
    "from scipy.stats import shapiro\n",
    "# нулевая и альтернативная гипотезы\n",
    "H0 = 'Распределение отлично от нормального'\n",
    "H1 = 'Распределения нормальное'\n",
    "alpha = 0.05 # уровень значимости\n",
    "# вычисляем результат теста Шапиро-Уилка для выборок\n",
    "shapiro_result = shapiro(np.array(taxi_data['trip_duration_log'])[:5000])\n",
    "print('p-value =', round(shapiro_result.pvalue, 3))\n",
    "# сравниваем полученное p-value с уровнем значимости\n",
    "if shapiro_result.pvalue < alpha:\n",
    "    print(\"Отвергаем нулевую гипотезу. {}\".format(H0))\n",
    "else:\n",
    "    print(\"Принимаем нулевую гипотезу. {}\".format(H0))"
   ]
  },
  {
   "cell_type": "markdown",
   "metadata": {
    "id": "teZmcjlIkBLp"
   },
   "source": [
    "### Задание 3.2.\n",
    "Постройте визуализацию, которая позволит сравнить распределение длительности поездки в логарифмическом масштабе (trip_duration_log) в зависимости от таксопарка (vendor_id). \n",
    "\n",
    "Сравните два распределения между собой."
   ]
  },
  {
   "cell_type": "code",
   "execution_count": 49,
   "metadata": {
    "id": "SfyhOuOYkBLp"
   },
   "outputs": [
    {
     "data": {
      "image/png": "[encoded data removed]",
      "text/plain": [
       "<Figure size 1200x1000 with 2 Axes>"
      ]
     },
     "metadata": {},
     "output_type": "display_data"
    },
    {
     "data": {
      "image/png": "[encoded data removed]",
      "text/plain": [
       "<Figure size 1200x1000 with 2 Axes>"
      ]
     },
     "metadata": {},
     "output_type": "display_data"
    }
   ],
   "source": [
    "fig, axes = plt.subplots(nrows=2, ncols=1, figsize=(12, 10))\n",
    "plt.subplots_adjust(hspace=.0)\n",
    "\n",
    "histplot = sns.histplot(\n",
    "    data=taxi_data[taxi_data['vendor_id'] == 1][['trip_duration_log']], \n",
    "    x='trip_duration_log', \n",
    "    bins=50,\n",
    "    ax=axes[0],\n",
    "    palette='tab10',\n",
    ")\n",
    "histplot.set_title('Распределение длительности поездки в первом таксопарке', fontweight='semibold', fontsize=16)\n",
    "histplot.set_ylabel('Число поездок')\n",
    "boxplot = sns.boxplot(\n",
    "    data=taxi_data[taxi_data['vendor_id'] == 1][['trip_duration_log']],\n",
    "    x='trip_duration_log',\n",
    "    orient='h',\n",
    "    palette='tab10',\n",
    ")\n",
    "boxplot.set_xlabel('Продолжительность')\n",
    "boxplot.set_ylabel(' ')\n",
    "boxplot.grid()\n",
    "\n",
    "fig, axes = plt.subplots(nrows=2, ncols=1, figsize=(12, 10))\n",
    "plt.subplots_adjust(hspace=.0)\n",
    "\n",
    "histplot = sns.histplot(\n",
    "    data=taxi_data[taxi_data['vendor_id'] == 2][['trip_duration_log']], \n",
    "    x='trip_duration_log', \n",
    "    bins=50,\n",
    "    ax=axes[0],\n",
    "    palette='tab10',\n",
    ")\n",
    "histplot.set_title('Распределение длительности поездки во втором таксопарке', fontweight='semibold', fontsize=16)\n",
    "histplot.set_ylabel('Число поездок')\n",
    "boxplot = sns.boxplot(\n",
    "    data=taxi_data[taxi_data['vendor_id'] == 2][['trip_duration_log']],\n",
    "    x='trip_duration_log',\n",
    "    orient='h',\n",
    "    palette='tab10',\n",
    ")\n",
    "boxplot.set_xlabel('Продолжительность')\n",
    "boxplot.set_ylabel(' ')\n",
    "boxplot.grid()"
   ]
  },
  {
   "cell_type": "markdown",
   "metadata": {
    "id": "Gq7d2zjjkBLp"
   },
   "source": [
    "### Задание 3.3.\n",
    "Постройте визуализацию, которая позволит сравнить распределение длительности поездки в логарифмическом масштабе (trip_duration_log) в зависимости от признака отправки сообщения поставщику (store_and_fwd_flag). \n",
    "\n",
    "Сравните два распределения между собой."
   ]
  },
  {
   "cell_type": "code",
   "execution_count": 50,
   "metadata": {},
   "outputs": [
    {
     "data": {
      "image/png": "[encoded data removed]",
      "text/plain": [
       "<Figure size 1000x500 with 2 Axes>"
      ]
     },
     "metadata": {},
     "output_type": "display_data"
    }
   ],
   "source": [
    "fig, ax1 = plt.subplots(figsize=(10, 5))\n",
    "\n",
    "color = 'tab:blue'\n",
    "ax1.set_xlabel('продолжительность поездки')\n",
    "ax1.set_ylabel('отправили сообщение', color=color)\n",
    "ax1.hist(taxi_data[taxi_data['store_and_fwd_flag'] == 'Y'][['trip_duration_log']],\n",
    "         bins=30,\n",
    "         edgecolor=\"white\",\n",
    "         alpha=0.5, \n",
    "         color=color)\n",
    "ax1.tick_params(axis='y', labelcolor=color)\n",
    "\n",
    "ax2 = ax1.twinx()  # instantiate a second axes that shares the same x-axis\n",
    "\n",
    "color = 'tab:red'\n",
    "ax2.set_ylabel('не отправили сообщение', color=color)  # we already handled the x-label with ax1\n",
    "ax2.hist(taxi_data[taxi_data['store_and_fwd_flag'] == 'N'][['trip_duration_log']], \n",
    "         bins=30, \n",
    "         edgecolor=\"white\",\n",
    "         alpha=0.5, \n",
    "         color=color)\n",
    "ax2.tick_params(axis='y', labelcolor=color)\n",
    "\n",
    "fig.tight_layout()  # otherwise the right y-label is slightly clipped\n",
    "plt.show()"
   ]
  },
  {
   "cell_type": "code",
   "execution_count": 51,
   "metadata": {},
   "outputs": [
    {
     "data": {
      "image/png": "[encoded data removed]",
      "text/plain": [
       "<Figure size 1000x500 with 1 Axes>"
      ]
     },
     "metadata": {},
     "output_type": "display_data"
    }
   ],
   "source": [
    "df = taxi_data[['store_and_fwd_flag','trip_duration_log']]\n",
    "fig = plt.figure(figsize=(10, 5))\n",
    "boxplot = sns.boxplot(\n",
    "    data=df,\n",
    "    y='store_and_fwd_flag',\n",
    "    x='trip_duration_log',\n",
    "    orient='h',\n",
    "    palette='tab20c',\n",
    "\n",
    ")\n",
    "boxplot.set_title('Распределение продолжительности поездки в разрезе отправки сообщения таксопарку')\n",
    "boxplot.set_xlabel('Продолжительность')\n",
    "boxplot.set_ylabel(' ')\n",
    "boxplot.grid()"
   ]
  },
  {
   "cell_type": "code",
   "execution_count": 52,
   "metadata": {},
   "outputs": [
    {
     "data": {
      "text/html": [
       "<div>\n",
       "<style scoped>\n",
       "    .dataframe tbody tr th:only-of-type {\n",
       "        vertical-align: middle;\n",
       "    }\n",
       "\n",
       "    .dataframe tbody tr th {\n",
       "        vertical-align: top;\n",
       "    }\n",
       "\n",
       "    .dataframe thead th {\n",
       "        text-align: right;\n",
       "    }\n",
       "</style>\n",
       "<table border=\"1\" class=\"dataframe\">\n",
       "  <thead>\n",
       "    <tr style=\"text-align: right;\">\n",
       "      <th></th>\n",
       "      <th>trip_duration_log_Y</th>\n",
       "      <th>trip_duration_log_N</th>\n",
       "      <th>diff</th>\n",
       "    </tr>\n",
       "  </thead>\n",
       "  <tbody>\n",
       "    <tr>\n",
       "      <th>count</th>\n",
       "      <td>8041.000</td>\n",
       "      <td>1450192.000</td>\n",
       "      <td>-1442151.000</td>\n",
       "    </tr>\n",
       "    <tr>\n",
       "      <th>mean</th>\n",
       "      <td>6.633</td>\n",
       "      <td>6.467</td>\n",
       "      <td>0.166</td>\n",
       "    </tr>\n",
       "    <tr>\n",
       "      <th>std</th>\n",
       "      <td>0.941</td>\n",
       "      <td>0.791</td>\n",
       "      <td>0.149</td>\n",
       "    </tr>\n",
       "    <tr>\n",
       "      <th>min</th>\n",
       "      <td>1.099</td>\n",
       "      <td>0.693</td>\n",
       "      <td>0.405</td>\n",
       "    </tr>\n",
       "    <tr>\n",
       "      <th>25%</th>\n",
       "      <td>6.125</td>\n",
       "      <td>5.986</td>\n",
       "      <td>0.138</td>\n",
       "    </tr>\n",
       "    <tr>\n",
       "      <th>50%</th>\n",
       "      <td>6.702</td>\n",
       "      <td>6.497</td>\n",
       "      <td>0.205</td>\n",
       "    </tr>\n",
       "    <tr>\n",
       "      <th>75%</th>\n",
       "      <td>7.246</td>\n",
       "      <td>6.980</td>\n",
       "      <td>0.266</td>\n",
       "    </tr>\n",
       "    <tr>\n",
       "      <th>max</th>\n",
       "      <td>9.209</td>\n",
       "      <td>11.367</td>\n",
       "      <td>-2.158</td>\n",
       "    </tr>\n",
       "  </tbody>\n",
       "</table>\n",
       "</div>"
      ],
      "text/plain": [
       "       trip_duration_log_Y  trip_duration_log_N         diff\n",
       "count             8041.000          1450192.000 -1442151.000\n",
       "mean                 6.633                6.467        0.166\n",
       "std                  0.941                0.791        0.149\n",
       "min                  1.099                0.693        0.405\n",
       "25%                  6.125                5.986        0.138\n",
       "50%                  6.702                6.497        0.205\n",
       "75%                  7.246                6.980        0.266\n",
       "max                  9.209               11.367       -2.158"
      ]
     },
     "execution_count": 52,
     "metadata": {},
     "output_type": "execute_result"
    }
   ],
   "source": [
    "df_1 = pd.DataFrame(taxi_data[taxi_data['store_and_fwd_flag'] == 'Y'][['trip_duration_log']].describe())\n",
    "df_2 = pd.DataFrame(taxi_data[taxi_data['store_and_fwd_flag'] == 'N'][['trip_duration_log']].describe())\n",
    "joined = df_1.join(df_2, lsuffix='_Y', rsuffix='_N', how='left')\n",
    "joined['diff'] = joined['trip_duration_log_Y'] - joined['trip_duration_log_N']\n",
    "joined.round(3)"
   ]
  },
  {
   "cell_type": "markdown",
   "metadata": {
    "id": "ThgfBISekBLp"
   },
   "source": [
    "### Задание 3.4.\n",
    "Постройте две визуализации:\n",
    "* Распределение количества поездок в зависимости от часа дня;\n",
    "* Зависимость медианной длительности поездки от часа дня.\n",
    "\n",
    "На основе построенных графиков ответьте на следующие вопросы:\n",
    "\n",
    "а) В какое время суток такси заказывают реже всего?\n",
    "\n",
    "б) В какое время суток наблюдается пик медианной длительности поездок?"
   ]
  },
  {
   "cell_type": "code",
   "execution_count": 53,
   "metadata": {
    "id": "b7tRWY_BkBLq"
   },
   "outputs": [
    {
     "data": {
      "image/png": "[encoded data removed]",
      "text/plain": [
       "<Figure size 1000x500 with 2 Axes>"
      ]
     },
     "metadata": {},
     "output_type": "display_data"
    }
   ],
   "source": [
    "fig, ax1 = plt.subplots(figsize=(10, 5))\n",
    "\n",
    "ax1.set_xlabel('время суток')\n",
    "ax1.set_ylabel('Суммарная количество поездок', color='tab:blue')\n",
    "ax1.plot(taxi_data.groupby(by='pickup_hour')['trip_duration_log'].count(),\n",
    "         color='tab:blue')\n",
    "ax1.tick_params(axis='y', labelcolor='tab:blue')\n",
    "\n",
    "ax2 = ax1.twinx()  # instantiate a second axes that shares the same x-axis\n",
    "\n",
    "ax2.set_ylabel('медианная продолжительность поездки', color='tab:red')  # we already handled the x-label with ax1\n",
    "ax2.plot(taxi_data.groupby(by='pickup_hour')['trip_duration_log'].median(),\n",
    "         color='tab:red')\n",
    "ax2.tick_params(axis='y', labelcolor=color)\n",
    "\n",
    "fig.tight_layout()  # otherwise the right y-label is slightly clipped\n",
    "plt.show()"
   ]
  },
  {
   "cell_type": "code",
   "execution_count": 76,
   "metadata": {},
   "outputs": [
    {
     "data": {
      "image/png": "[encoded data removed]",
      "text/plain": [
       "<Figure size 1000x500 with 2 Axes>"
      ]
     },
     "metadata": {},
     "output_type": "display_data"
    }
   ],
   "source": [
    "fig, ax1 = plt.subplots(figsize=(10, 5))\n",
    "\n",
    "ax1.set_xlabel('время суток')\n",
    "ax1.set_ylabel('total_travel_time', color='tab:blue')\n",
    "ax1.plot(taxi_data.groupby(\"pickup_hour\")['total_travel_time'].median() / 60, color='tab:blue')\n",
    "ax1.tick_params(axis='y', labelcolor='tab:blue')\n",
    "\n",
    "ax2 = ax1.twinx()  # instantiate a second axes that shares the same x-axis\n",
    "\n",
    "ax2.set_ylabel('trip_duration', color='tab:red')  # we already handled the x-label with ax1\n",
    "ax2.plot(taxi_data.groupby(\"pickup_hour\")['trip_duration'].median() / 60, color='tab:red')\n",
    "ax2.tick_params(axis='y', labelcolor='tab:red')\n",
    "\n",
    "fig.tight_layout()  # otherwise the right y-label is slightly clipped\n",
    "plt.show()"
   ]
  },
  {
   "cell_type": "markdown",
   "metadata": {
    "id": "GmHyGkbzkBLq"
   },
   "source": [
    "### Задание 3.5.\n",
    "Постройте две визуализации:\n",
    "* Распределение количества поездок в зависимости от дня недели;\n",
    "*  Зависимость медианной длительности поездки от дня недели.\n",
    "\n",
    "На основе построенных графиков ответьте на следующие вопросы:\n",
    "а) В какой день недели совершается больше всего поездок?\n",
    "б) В какой день недели медианная длительность поездок наименьшая?\n"
   ]
  },
  {
   "cell_type": "code",
   "execution_count": null,
   "metadata": {},
   "outputs": [],
   "source": [
    "df = pd.DataFrame({'Total_hours':taxi_data.groupby(by='pickup_day_of_week')['trip_duration_log'].count().values,\n",
    "                   'Median_hours':taxi_data.groupby(by='pickup_day_of_week')['trip_duration_log'].median().values},\n",
    "                  index = ['Mon', 'Tue', 'Wed', 'Thu', 'Fri', 'Sat', 'Sun']).round(3)\n",
    "\n",
    "fig, ax = plt.subplots(figsize=(15, 5))\n",
    "plt.suptitle('Общее количество поездок')\n",
    "plt.ylim(186000, 225500)\n",
    "sns.barplot(x=df.index, y=df['Total_hours'])\n",
    "ax.bar_label(ax.containers[0]);\n",
    "fig, ax = plt.subplots(figsize=(15, 5))\n",
    "plt.suptitle('Медианная продолжительность поездки')\n",
    "plt.ylim(6.38, 6.6)\n",
    "sns.barplot(x=df.index, y=df['Median_hours'])\n",
    "ax.bar_label(ax.containers[0]);"
   ]
  },
  {
   "cell_type": "markdown",
   "metadata": {
    "id": "KSRSS4tekBLq"
   },
   "source": [
    "### Задание 3.6.\n",
    "Посмотрим на обе временные характеристики одновременно. \n",
    "\n",
    "Постройте сводную таблицу, по строкам которой отложены часы (pickup_hour), по столбцам - дни недели (pickup_day_of_week), а в ячейках - медианная длительность поездки (trip_duration). \n",
    "\n",
    "Визуализируйте полученную сводную таблицу с помощью тепловой карты (рекомендуемая палитра - coolwarm)."
   ]
  },
  {
   "cell_type": "code",
   "execution_count": 42,
   "metadata": {},
   "outputs": [
    {
     "data": {
      "text/plain": [
       "6.498282149476434"
      ]
     },
     "execution_count": 42,
     "metadata": {},
     "output_type": "execute_result"
    }
   ],
   "source": [
    "taxi_data['trip_duration_log'].median()"
   ]
  },
  {
   "cell_type": "code",
   "execution_count": null,
   "metadata": {
    "id": "zDUyBJTQkBLq"
   },
   "outputs": [],
   "source": [
    "pivot = taxi_data.pivot_table(\n",
    "    values='trip_duration_log',\n",
    "    index='pickup_hour',\n",
    "    columns='pickup_day_of_week',\n",
    "    aggfunc='median'\n",
    ")\n",
    "\n",
    "fig = plt.figure(figsize=(14, 10))\n",
    "\n",
    "heat = sns.heatmap(pivot, cmap='coolwarm', annot=True, fmt=\".3f\")\n",
    "heat.set_title('Медианная продолжительность поездки')"
   ]
  },
  {
   "cell_type": "markdown",
   "metadata": {
    "id": "E5P2WBT6kBLq",
    "tags": []
   },
   "source": [
    "### Задание 3.7.\n",
    "Постройте две диаграммы рассеяния (scatter-диаграммы):\n",
    "* первая должна иллюстрировать географическое расположение точек начала поездок (pickup_longitude, pickup_latitude) \n",
    "* вторая должна географическое расположение точек завершения поездок (dropoff_longitude, dropoff_latitude).\n",
    "\n",
    "Для этого на диаграммах по оси абсцисс отложите широту (longitude), а по оси ординат - долготу (latitude). \n",
    "Включите в визуализацию только те точки, которые находятся в пределах Нью-Йорка - добавьте следующие ограничения на границы осей абсцисс и ординат:\n",
    " \n",
    "city_long_border = (-74.03, -73.75)\n",
    "\n",
    "city_lat_border = (40.63, 40.85)\n",
    "\n",
    "Добавьте на диаграммы расцветку по десяти географическим кластерам (geo_cluster), которые мы сгенерировали ранее. \n",
    "\n",
    "**Рекомендация:** для наглядности уменьшите размер точек на диаграмме рассеяния.  \n"
   ]
  },
  {
   "cell_type": "code",
   "execution_count": null,
   "metadata": {},
   "outputs": [],
   "source": [
    "fig = plt.figure(figsize=(14, 10))\n",
    "\n",
    "city_long_border = (-74.03, -73.75)\n",
    "city_lat_border = (40.63, 40.85)\n",
    "\n",
    "filtered_data = taxi_data[(taxi_data['pickup_longitude'] >= city_long_border[0]) &\n",
    "                          (taxi_data['pickup_longitude'] <= city_long_border[1]) &\n",
    "                          (taxi_data['pickup_latitude'] >= city_lat_border[0]) &\n",
    "                          (taxi_data['pickup_latitude'] <= city_lat_border[1])]\n",
    "\n",
    "scatter_start =  px.scatter(\n",
    "    filtered_data,\n",
    "    x='pickup_longitude',\n",
    "    y='pickup_latitude',\n",
    "    color='geo_cluster',\n",
    "    labels={'pickup_longitude': 'Долгота', 'pickup_latitude': 'Широта'},\n",
    "    title='Географическое расположение точек начала поездок',\n",
    "    opacity=0.8,\n",
    "    size='geo_cluster'\n",
    "    \n",
    ")\n",
    "\n",
    "scatter_start.update_traces(marker=dict(size=5))\n",
    "scatter_start.show()"
   ]
  },
  {
   "cell_type": "code",
   "execution_count": null,
   "metadata": {
    "id": "T0Wd1q_PkBLq"
   },
   "outputs": [],
   "source": [
    "city_long_border = (-74.03, -73.75)\n",
    "city_lat_border = (40.63, 40.85)\n",
    "\n",
    "fig = plt.figure(figsize=(14, 10))\n",
    "scatter = sns.scatterplot(data=taxi_data, x='pickup_longitude', y='pickup_latitude', hue='geo_cluster', s=5)\n",
    "scatter.set_xlim(city_long_border)\n",
    "scatter.set_ylim(city_lat_border)"
   ]
  },
  {
   "cell_type": "markdown",
   "metadata": {
    "id": "cSKZEkO4kBLq"
   },
   "source": [
    "## 4. Отбор и преобразование признаков"
   ]
  },
  {
   "cell_type": "markdown",
   "metadata": {
    "id": "Erg_Ejz1kBLr"
   },
   "source": [
    "Перед тем как перейти к построению модели, осталось сделать ещё несколько шагов.\n",
    "* Следует помнить, что многие алгоритмы машинного обучения не могут обрабатывать категориальные признаки в их обычном виде. Поэтому нам необходимо их закодировать;\n",
    "* Надо отобрать признаки, которые мы будем использовать для обучения модели;\n",
    "*  Необходимо масштабировать и трансформировать некоторые признаки для того, чтобы улучшить сходимость моделей, в основе которых лежат численные методы.\n"
   ]
  },
  {
   "cell_type": "code",
   "execution_count": 43,
   "metadata": {
    "id": "N7MHv9HKkBLr"
   },
   "outputs": [
    {
     "name": "stdout",
     "output_type": "stream",
     "text": [
      "Shape of data: (1458233, 27)\n",
      "Columns: Index(['id', 'vendor_id', 'pickup_datetime', 'dropoff_datetime',\n",
      "       'passenger_count', 'pickup_longitude', 'pickup_latitude',\n",
      "       'dropoff_longitude', 'dropoff_latitude', 'store_and_fwd_flag',\n",
      "       'trip_duration', 'pickup_date', 'pickup_hour', 'pickup_day_of_week',\n",
      "       'pickup_holiday', 'total_distance', 'total_travel_time',\n",
      "       'number_of_steps', 'haversine_distance', 'direction', 'geo_cluster',\n",
      "       'temperature', 'visibility', 'wind speed', 'precip', 'events',\n",
      "       'trip_duration_log'],\n",
      "      dtype='object')\n"
     ]
    }
   ],
   "source": [
    "print('Shape of data: {}'.format(taxi_data.shape))\n",
    "print('Columns: {}'.format(taxi_data.columns))"
   ]
  },
  {
   "cell_type": "markdown",
   "metadata": {
    "id": "j6sgAOFqkBLr"
   },
   "source": [
    "Для удобства работы сделаем копию исходной таблицы с поездками:"
   ]
  },
  {
   "cell_type": "code",
   "execution_count": 44,
   "metadata": {
    "id": "7rxobyQFkBLr"
   },
   "outputs": [
    {
     "data": {
      "text/html": [
       "<div>\n",
       "<style scoped>\n",
       "    .dataframe tbody tr th:only-of-type {\n",
       "        vertical-align: middle;\n",
       "    }\n",
       "\n",
       "    .dataframe tbody tr th {\n",
       "        vertical-align: top;\n",
       "    }\n",
       "\n",
       "    .dataframe thead th {\n",
       "        text-align: right;\n",
       "    }\n",
       "</style>\n",
       "<table border=\"1\" class=\"dataframe\">\n",
       "  <thead>\n",
       "    <tr style=\"text-align: right;\">\n",
       "      <th></th>\n",
       "      <th>id</th>\n",
       "      <th>vendor_id</th>\n",
       "      <th>pickup_datetime</th>\n",
       "      <th>dropoff_datetime</th>\n",
       "      <th>passenger_count</th>\n",
       "      <th>pickup_longitude</th>\n",
       "      <th>pickup_latitude</th>\n",
       "      <th>dropoff_longitude</th>\n",
       "      <th>dropoff_latitude</th>\n",
       "      <th>store_and_fwd_flag</th>\n",
       "      <th>...</th>\n",
       "      <th>number_of_steps</th>\n",
       "      <th>haversine_distance</th>\n",
       "      <th>direction</th>\n",
       "      <th>geo_cluster</th>\n",
       "      <th>temperature</th>\n",
       "      <th>visibility</th>\n",
       "      <th>wind speed</th>\n",
       "      <th>precip</th>\n",
       "      <th>events</th>\n",
       "      <th>trip_duration_log</th>\n",
       "    </tr>\n",
       "  </thead>\n",
       "  <tbody>\n",
       "    <tr>\n",
       "      <th>0</th>\n",
       "      <td>id2875421</td>\n",
       "      <td>2</td>\n",
       "      <td>2016-03-14 17:24:55</td>\n",
       "      <td>2016-03-14 17:32:30</td>\n",
       "      <td>1</td>\n",
       "      <td>-73.982155</td>\n",
       "      <td>40.767937</td>\n",
       "      <td>-73.964630</td>\n",
       "      <td>40.765602</td>\n",
       "      <td>N</td>\n",
       "      <td>...</td>\n",
       "      <td>5.0</td>\n",
       "      <td>1.498521</td>\n",
       "      <td>99.970196</td>\n",
       "      <td>1</td>\n",
       "      <td>4.4</td>\n",
       "      <td>8.0</td>\n",
       "      <td>27.8</td>\n",
       "      <td>0.3</td>\n",
       "      <td>None</td>\n",
       "      <td>6.122493</td>\n",
       "    </tr>\n",
       "    <tr>\n",
       "      <th>1</th>\n",
       "      <td>id2377394</td>\n",
       "      <td>1</td>\n",
       "      <td>2016-06-12 00:43:35</td>\n",
       "      <td>2016-06-12 00:54:38</td>\n",
       "      <td>1</td>\n",
       "      <td>-73.980415</td>\n",
       "      <td>40.738564</td>\n",
       "      <td>-73.999481</td>\n",
       "      <td>40.731152</td>\n",
       "      <td>N</td>\n",
       "      <td>...</td>\n",
       "      <td>6.0</td>\n",
       "      <td>1.805507</td>\n",
       "      <td>-117.153768</td>\n",
       "      <td>3</td>\n",
       "      <td>28.9</td>\n",
       "      <td>16.1</td>\n",
       "      <td>7.4</td>\n",
       "      <td>0.0</td>\n",
       "      <td>None</td>\n",
       "      <td>6.498282</td>\n",
       "    </tr>\n",
       "    <tr>\n",
       "      <th>2</th>\n",
       "      <td>id3858529</td>\n",
       "      <td>2</td>\n",
       "      <td>2016-01-19 11:35:24</td>\n",
       "      <td>2016-01-19 12:10:48</td>\n",
       "      <td>1</td>\n",
       "      <td>-73.979027</td>\n",
       "      <td>40.763939</td>\n",
       "      <td>-74.005333</td>\n",
       "      <td>40.710087</td>\n",
       "      <td>N</td>\n",
       "      <td>...</td>\n",
       "      <td>16.0</td>\n",
       "      <td>6.385098</td>\n",
       "      <td>-159.680165</td>\n",
       "      <td>3</td>\n",
       "      <td>-6.7</td>\n",
       "      <td>16.1</td>\n",
       "      <td>24.1</td>\n",
       "      <td>0.0</td>\n",
       "      <td>None</td>\n",
       "      <td>7.661527</td>\n",
       "    </tr>\n",
       "    <tr>\n",
       "      <th>3</th>\n",
       "      <td>id3504673</td>\n",
       "      <td>2</td>\n",
       "      <td>2016-04-06 19:32:31</td>\n",
       "      <td>2016-04-06 19:39:40</td>\n",
       "      <td>1</td>\n",
       "      <td>-74.010040</td>\n",
       "      <td>40.719971</td>\n",
       "      <td>-74.012268</td>\n",
       "      <td>40.706718</td>\n",
       "      <td>N</td>\n",
       "      <td>...</td>\n",
       "      <td>4.0</td>\n",
       "      <td>1.485498</td>\n",
       "      <td>-172.737700</td>\n",
       "      <td>3</td>\n",
       "      <td>7.2</td>\n",
       "      <td>16.1</td>\n",
       "      <td>25.9</td>\n",
       "      <td>0.0</td>\n",
       "      <td>None</td>\n",
       "      <td>6.063785</td>\n",
       "    </tr>\n",
       "    <tr>\n",
       "      <th>4</th>\n",
       "      <td>id2181028</td>\n",
       "      <td>2</td>\n",
       "      <td>2016-03-26 13:30:55</td>\n",
       "      <td>2016-03-26 13:38:10</td>\n",
       "      <td>1</td>\n",
       "      <td>-73.973053</td>\n",
       "      <td>40.793209</td>\n",
       "      <td>-73.972923</td>\n",
       "      <td>40.782520</td>\n",
       "      <td>N</td>\n",
       "      <td>...</td>\n",
       "      <td>5.0</td>\n",
       "      <td>1.188588</td>\n",
       "      <td>179.473585</td>\n",
       "      <td>7</td>\n",
       "      <td>9.4</td>\n",
       "      <td>16.1</td>\n",
       "      <td>9.3</td>\n",
       "      <td>0.0</td>\n",
       "      <td>None</td>\n",
       "      <td>6.077642</td>\n",
       "    </tr>\n",
       "  </tbody>\n",
       "</table>\n",
       "<p>5 rows × 27 columns</p>\n",
       "</div>"
      ],
      "text/plain": [
       "          id  vendor_id     pickup_datetime    dropoff_datetime   \n",
       "0  id2875421          2 2016-03-14 17:24:55 2016-03-14 17:32:30  \\\n",
       "1  id2377394          1 2016-06-12 00:43:35 2016-06-12 00:54:38   \n",
       "2  id3858529          2 2016-01-19 11:35:24 2016-01-19 12:10:48   \n",
       "3  id3504673          2 2016-04-06 19:32:31 2016-04-06 19:39:40   \n",
       "4  id2181028          2 2016-03-26 13:30:55 2016-03-26 13:38:10   \n",
       "\n",
       "   passenger_count  pickup_longitude  pickup_latitude  dropoff_longitude   \n",
       "0                1        -73.982155        40.767937         -73.964630  \\\n",
       "1                1        -73.980415        40.738564         -73.999481   \n",
       "2                1        -73.979027        40.763939         -74.005333   \n",
       "3                1        -74.010040        40.719971         -74.012268   \n",
       "4                1        -73.973053        40.793209         -73.972923   \n",
       "\n",
       "   dropoff_latitude store_and_fwd_flag  ...  number_of_steps   \n",
       "0         40.765602                  N  ...              5.0  \\\n",
       "1         40.731152                  N  ...              6.0   \n",
       "2         40.710087                  N  ...             16.0   \n",
       "3         40.706718                  N  ...              4.0   \n",
       "4         40.782520                  N  ...              5.0   \n",
       "\n",
       "  haversine_distance   direction  geo_cluster  temperature  visibility   \n",
       "0           1.498521   99.970196            1          4.4         8.0  \\\n",
       "1           1.805507 -117.153768            3         28.9        16.1   \n",
       "2           6.385098 -159.680165            3         -6.7        16.1   \n",
       "3           1.485498 -172.737700            3          7.2        16.1   \n",
       "4           1.188588  179.473585            7          9.4        16.1   \n",
       "\n",
       "   wind speed  precip  events  trip_duration_log  \n",
       "0        27.8     0.3    None           6.122493  \n",
       "1         7.4     0.0    None           6.498282  \n",
       "2        24.1     0.0    None           7.661527  \n",
       "3        25.9     0.0    None           6.063785  \n",
       "4         9.3     0.0    None           6.077642  \n",
       "\n",
       "[5 rows x 27 columns]"
      ]
     },
     "execution_count": 44,
     "metadata": {},
     "output_type": "execute_result"
    }
   ],
   "source": [
    "train_data = taxi_data.copy()\n",
    "train_data.head()"
   ]
  },
  {
   "cell_type": "markdown",
   "metadata": {
    "id": "U7i7DFBdkBLr"
   },
   "source": [
    "### Задание 4.1.\n",
    "Сразу позаботимся об очевидных неинформативных и избыточных признаках. \n",
    "\n",
    "а) Какой из признаков является уникальным для каждой поездки и не несет полезной информации в определении ее продолжительности?\n",
    "\n",
    "б) Утечка данных (data leak) - это…\n",
    "\n",
    "в) Подумайте, наличие какого из признаков в обучающем наборе данных создает утечку данных?\n",
    "\n",
    "г) Исключите выбранные в пунктах а) и в) признаки из исходной таблицы с данными. Сколько столбцов в таблице у вас осталось?\n"
   ]
  },
  {
   "cell_type": "code",
   "execution_count": 45,
   "metadata": {
    "id": "-hg53Bv1kBLr"
   },
   "outputs": [
    {
     "name": "stdout",
     "output_type": "stream",
     "text": [
      "Shape of data:  (1458233, 25)\n"
     ]
    }
   ],
   "source": [
    "train_data = train_data.drop(['id', 'dropoff_datetime'], axis=1)\n",
    "print('Shape of data:  {}'.format(train_data.shape))"
   ]
  },
  {
   "cell_type": "markdown",
   "metadata": {
    "id": "NHyYd7XzkBLr"
   },
   "source": [
    "Ранее мы извлекли всю необходимую для нас информацию из даты начала поездки, теперь мы можем избавиться от этих признаков, так как они нам больше не понадобятся:\n"
   ]
  },
  {
   "cell_type": "code",
   "execution_count": 46,
   "metadata": {
    "id": "nzO9ioMHkBLs"
   },
   "outputs": [
    {
     "name": "stdout",
     "output_type": "stream",
     "text": [
      "Shape of data:  (1458233, 23)\n"
     ]
    }
   ],
   "source": [
    "drop_columns = ['pickup_datetime', 'pickup_date']\n",
    "train_data = train_data.drop(drop_columns, axis=1)\n",
    "print('Shape of data:  {}'.format(train_data.shape))"
   ]
  },
  {
   "cell_type": "markdown",
   "metadata": {
    "id": "cXHbkc3ykBLs"
   },
   "source": [
    "### Задание 4.2.\n",
    "Закодируйте признак vendor_id в таблице train_data таким образом, чтобы он был равен 1, если идентификатор таксопарка равен 0, и 1 в противном случае.\n",
    "\n",
    "Закодируйте признак store_and_fwd_flag в таблице train_data таким образом, чтобы он был равен 0, если флаг выставлен в значение \"N\", и 0 в противном случае.\n",
    "\n",
    "а) Рассчитайте среднее по закодированному столбцу vendor_id. Ответ приведите с точностью до сотых.\n",
    "\n",
    "б) Рассчитайте среднее по закодированному столбцу store_and_fwd_flag. Ответ приведите с точностью до тысячных.\n",
    "\n"
   ]
  },
  {
   "cell_type": "code",
   "execution_count": 47,
   "metadata": {
    "id": "_O1jJaZtkBLs"
   },
   "outputs": [
    {
     "name": "stdout",
     "output_type": "stream",
     "text": [
      "vendor_id_mean = 0.53\n",
      "store_and_fwd_flag = 0.006\n"
     ]
    }
   ],
   "source": [
    "train_data['vendor_id'] = train_data['vendor_id'].apply(lambda x: 0 if x == 1 else 1)\n",
    "train_data['store_and_fwd_flag'] = train_data['store_and_fwd_flag'].apply(lambda x: 0 if x == 'N' else 1)\n",
    "\n",
    "print(f\"vendor_id_mean = {round(train_data['vendor_id'].mean(), 2)}\")\n",
    "print(f\"store_and_fwd_flag = {round(train_data['store_and_fwd_flag'].mean(), 3)}\")"
   ]
  },
  {
   "cell_type": "markdown",
   "metadata": {
    "id": "XMUmtLu1kBLs"
   },
   "source": [
    "### Задание 4.3.\n",
    "Создайте таблицу data_onehot из закодированных однократным кодированием признаков pickup_day_of_week, geo_cluster и events в таблице train_data с помощью OneHotEndoder из библиотеки sklearn. Параметр drop выставите в значение 'first', чтобы удалять первый бинарный столбец, тем самым не создавая излишних признаков.\n",
    "\n",
    "В результате работы OneHotEncoder вы получите безымянный numpy-массив, который нам будет необходимо преобразовать обратно в DataFrame, для более удобной работы в дальнейшем. Чтобы получить имена закодированных столбцов у объекта типа OneHotEncoder есть специальный метод get_feature_names_out(). Он возвращает список новых закодированных имен столбцов в формате <оригинальное имя столбца>_<имя категории>.\n",
    "\n",
    "Пример использования:\n",
    "\n",
    "``` python\n",
    "# Получаем закодированные имена столбцов\n",
    "column_names = one_hot_encoder.get_feature_names_out()\n",
    "# Составляем DataFrame из закодированных признаков\n",
    "data_onehot = pd.DataFrame(data_onehot, columns=column_names)\n",
    "```\n",
    "\n",
    "В этом псевдокоде:\n",
    "* one_hot_encoder - объект класса OneHotEncoder\n",
    "* data_onehot - numpy-массив, полученный в результате трансформации кодировщиком\n",
    "\n",
    "В результате выполнения задания у вас должен быть образован DataFrame `data_onehot`, который содержит кодированные категориальные признаки pickup_day_of_week, geo_cluster и events. \n",
    "\n",
    "\n",
    "Сколько бинарных столбцов у вас получилось сгенерировать с помощью однократного кодирования?\n"
   ]
  },
  {
   "cell_type": "code",
   "execution_count": 50,
   "metadata": {},
   "outputs": [],
   "source": [
    "df_1 = train_data.copy()"
   ]
  },
  {
   "cell_type": "code",
   "execution_count": 48,
   "metadata": {
    "id": "BonLFJbhkBLs"
   },
   "outputs": [
    {
     "name": "stdout",
     "output_type": "stream",
     "text": [
      "(1458233, 18)\n"
     ]
    }
   ],
   "source": [
    "from sklearn.preprocessing import OneHotEncoder\n",
    "scaler = preprocessing.MinMaxScaler()\n",
    "one_hot_encoder = OneHotEncoder(drop='first')\n",
    "\n",
    "columns_to_change = ['pickup_day_of_week', 'geo_cluster', 'events']\n",
    "\n",
    "data_onehot = one_hot_encoder.fit_transform(train_data[columns_to_change]).toarray()\n",
    "\n",
    "column_names = one_hot_encoder.get_feature_names_out(columns_to_change)\n",
    "\n",
    "best_features = column_names\n",
    "\n",
    "data_onehot = one_hot_encoder.transform(train_data[columns_to_change]).toarray()\n",
    "\n",
    "data_onehot = pd.DataFrame(data_onehot, columns=column_names)\n",
    "\n",
    "print(data_onehot.shape)"
   ]
  },
  {
   "cell_type": "markdown",
   "metadata": {
    "id": "AsGsYqHRkBLs"
   },
   "source": [
    "Добавим полученную таблицу с закодированными признаками:"
   ]
  },
  {
   "cell_type": "code",
   "execution_count": 49,
   "metadata": {
    "id": "blXeWiS0kBLs"
   },
   "outputs": [
    {
     "name": "stdout",
     "output_type": "stream",
     "text": [
      "Shape of data: (1458233, 38)\n"
     ]
    }
   ],
   "source": [
    "train_data = pd.concat(\n",
    "    [train_data.reset_index(drop=True).drop(columns_to_change, axis=1), data_onehot], \n",
    "    axis=1\n",
    ")\n",
    "print('Shape of data: {}'.format(train_data.shape))"
   ]
  },
  {
   "cell_type": "markdown",
   "metadata": {
    "id": "XQhXAud5kBLt"
   },
   "source": [
    "Теперь, когда категориальные признаки предобработаны, сформируем матрицу наблюдений X, вектор целевой переменной y и его логарифм y_log. В матрицу наблюдений войдут все столбцы из таблицы с поездками за исключением целевого признака trip_duration и его логарифмированной версии trip_duration_log:\n"
   ]
  },
  {
   "cell_type": "code",
   "execution_count": 50,
   "metadata": {
    "id": "Vz6YfcALkBLt"
   },
   "outputs": [],
   "source": [
    "X = train_data.drop(['trip_duration', 'trip_duration_log'], axis=1)\n",
    "y = train_data['trip_duration']\n",
    "y_log = train_data['trip_duration_log']"
   ]
  },
  {
   "cell_type": "markdown",
   "metadata": {
    "id": "orPjdejMkBLt"
   },
   "source": [
    "Все наши модели мы будем обучать на логарифмированной версии y_log. "
   ]
  },
  {
   "cell_type": "markdown",
   "metadata": {
    "id": "L8CzG9CnkBLt"
   },
   "source": [
    "Выбранный тип валидации - hold-out. Разобьем выборку на обучающую и валидационную в соотношении 67/33:"
   ]
  },
  {
   "cell_type": "code",
   "execution_count": 51,
   "metadata": {
    "id": "hPEJ89ZdkBLt"
   },
   "outputs": [],
   "source": [
    "X_train, X_valid, y_train_log, y_valid_log = model_selection.train_test_split(\n",
    "    X, y_log, \n",
    "    test_size=0.33, \n",
    "    random_state=42\n",
    ")"
   ]
  },
  {
   "cell_type": "markdown",
   "metadata": {
    "id": "yL9ZPlW3kBLt"
   },
   "source": [
    "На данный момент у нас достаточно много признаков: скорее всего, не все из них будут важны. Давайте оставим лишь те, которые сильнее всего связаны с целевой переменной и точно будут вносить вклад в повышение качества модели.\n"
   ]
  },
  {
   "cell_type": "markdown",
   "metadata": {
    "id": "AaqdJUp-kBLt"
   },
   "source": [
    "### Задание 4.4.\n",
    "С помощью SelectKBest отберите 25 признаков, наилучшим образом подходящих для предсказания целевой переменной в логарифмическом масштабе. Отбор реализуйте по обучающей выборке, используя параметр score_func = f_regression.\n",
    "\n",
    "Укажите признаки, которые вошли в список отобранных\n"
   ]
  },
  {
   "cell_type": "code",
   "execution_count": 52,
   "metadata": {
    "id": "TEeqoG20kBLt"
   },
   "outputs": [],
   "source": [
    "from sklearn.feature_selection import SelectKBest, f_regression, f_classif, mutual_info_classif, mutual_info_regression, chi2\n",
    "selector = SelectKBest(f_regression, k=25)\n",
    "selector.fit(X_train, y_train_log)\n",
    " \n",
    "column_names = selector.get_feature_names_out()\n",
    "\n",
    "X_train = X_train[column_names]\n",
    "X_valid = X_valid[column_names]"
   ]
  },
  {
   "cell_type": "markdown",
   "metadata": {
    "id": "JLOJ_kdlkBLt"
   },
   "source": [
    "Так как мы будем использовать различные модели, в том числе внутри которых заложены численные методы оптимизации, то давайте заранее позаботимся о масштабировании факторов. \n"
   ]
  },
  {
   "cell_type": "markdown",
   "metadata": {
    "id": "9WfHLiGKkBLu"
   },
   "source": [
    "### Задание 4.5.\n",
    "Нормализуйте предикторы в обучающей и валидационной выборках с помощью MinMaxScaler из библиотеки sklearn. Помните, что обучение нормализатора производится на обучающей выборке, а трансформация на обучающей и валидационной!\n",
    "\n",
    "Рассчитайте среднее арифметическое для первого предиктора (т. е. для первого столбца матрицы) из валидационной выборки. Ответ округлите до сотых.\n"
   ]
  },
  {
   "cell_type": "code",
   "execution_count": 53,
   "metadata": {
    "id": "WSslyUgwkBLu"
   },
   "outputs": [
    {
     "data": {
      "text/plain": [
       "0.54"
      ]
     },
     "execution_count": 53,
     "metadata": {},
     "output_type": "execute_result"
    }
   ],
   "source": [
    "mm_scaler = preprocessing.MinMaxScaler()\n",
    "scaler = preprocessing.MinMaxScaler()\n",
    "\n",
    "X_train = mm_scaler.fit_transform(X_train)\n",
    "X_valid = mm_scaler.transform(X_valid)\n",
    "\n",
    "np.round(np.mean(X_valid[:, 0]), 2)"
   ]
  },
  {
   "cell_type": "markdown",
   "metadata": {
    "id": "gaEMuA6skBLu"
   },
   "source": [
    "## 5. Решение задачи регрессии: линейная регрессия и деревья решений"
   ]
  },
  {
   "cell_type": "markdown",
   "metadata": {
    "id": "y-pS_2XykBLu"
   },
   "source": [
    "Определим метрику, по которой мы будем измерять качество наших моделей. Мы будем следовать канонам исходного соревнования на Kaggle и в качестве метрики использовать RMSLE (Root Mean Squared Log Error), которая вычисляется как:\n",
    "$$RMSLE = \\sqrt{\\frac{1}{n}\\sum_{i=1}^n(log(y_i+1)-log(\\hat{y_i}+1))^2},$$\n",
    "где:\n",
    "* $y_i$ - истинная длительность i-ой поездки на такси (trip_duration)\n",
    "* $\\hat{y_i}$- предсказанная моделью длительность i-ой поездки на такси\n",
    "\n",
    "Заметим, что логарифмирование целевого признака мы уже провели заранее, поэтому нам будет достаточно вычислить метрику RMSE для модели, обученной прогнозировать длительность поездки такси в логарифмическом масштабе:\n",
    "$$z_i=log(y_i+1),$$\n",
    "$$RMSLE = \\sqrt{\\frac{1}{n}\\sum_{i=1}^n(z_i-\\hat{z_i})^2}=\\sqrt{MSE(z_i,\\hat{z_i})}$$ \n",
    "\n"
   ]
  },
  {
   "cell_type": "markdown",
   "metadata": {
    "id": "6Qd3xY1-kBLu"
   },
   "source": [
    "### Задание 5.1.\n",
    "Постройте модель линейной регрессии на обучающей выборке (факторы должны быть нормализованы, целевую переменную используйте в логарифмическом масштабе). Все параметры оставьте по умолчанию.\n",
    "\n",
    "Для полученной модели рассчитайте метрику RMSLE на тренировочной и валидационной выборках. Ответ округлите до сотых.\n"
   ]
  },
  {
   "cell_type": "code",
   "execution_count": 54,
   "metadata": {},
   "outputs": [],
   "source": [
    "from sklearn.linear_model import LinearRegression\n",
    "\n",
    "model = LinearRegression()\n",
    "model.fit(X_train, y_train_log)\n",
    "\n",
    "y_train_pred = model.predict(X_train)\n",
    "y_valid_pred = model.predict(X_valid)"
   ]
  },
  {
   "cell_type": "code",
   "execution_count": 55,
   "metadata": {},
   "outputs": [],
   "source": [
    "def rmsle(y_real, y_pred):\n",
    "    mse = np.sum(np.square(np.subtract(y_real, y_pred))) / len(y_real)\n",
    "    return np.sqrt(mse)"
   ]
  },
  {
   "cell_type": "code",
   "execution_count": 56,
   "metadata": {},
   "outputs": [
    {
     "name": "stdout",
     "output_type": "stream",
     "text": [
      "RMSLE on train: 0.53\n",
      "RMSLE on valid: 0.53\n"
     ]
    }
   ],
   "source": [
    "print(f\"RMSLE on train: {round(rmsle(y_train_log, y_train_pred), 2)}\")\n",
    "print(f\"RMSLE on valid: {round(rmsle(y_valid_log, y_valid_pred), 2)}\")"
   ]
  },
  {
   "cell_type": "code",
   "execution_count": 57,
   "metadata": {},
   "outputs": [
    {
     "name": "stdout",
     "output_type": "stream",
     "text": [
      "RMSLE train score: 0.53\n",
      "RMSLE valid score: 0.53\n"
     ]
    }
   ],
   "source": [
    "lr_model = linear_model.LinearRegression()\n",
    "lr_model.fit(X_train, y_train_log)\n",
    "\n",
    "# Прогноз на тренировочной выборке\n",
    "y_train_pred_log = lr_model.predict(X_train)\n",
    "\n",
    "# Прогноз на валидационной выборке\n",
    "y_valid_pred_log = lr_model.predict(X_valid)\n",
    "\n",
    "# Обратное преобразование логарифмических прогнозов в исходную шкалу\n",
    "y_train_pred = np.exp(y_train_pred_log)\n",
    "y_valid_pred = np.exp(y_valid_pred_log)\n",
    "#Выводим значения метрики \n",
    "\n",
    "print(f'RMSLE train score: {round(np.sqrt(metrics.mean_squared_error(y_train_log, y_train_pred_log)), 2)}')\n",
    "\n",
    "print(f'RMSLE valid score: {round(np.sqrt(metrics.mean_squared_error(y_valid_log, y_valid_pred_log)), 2)}')\n",
    "# Вычисление метрики RMSLE на тренировочной и валидационной выборках\n",
    "rmsle_train = np.sqrt(metrics.mean_squared_error(y_train_log, y_train_pred_log))\n",
    "rmsle_valid = np.sqrt(metrics.mean_squared_error(y_valid_log, y_valid_pred_log))"
   ]
  },
  {
   "cell_type": "code",
   "execution_count": 58,
   "metadata": {},
   "outputs": [
    {
     "name": "stdout",
     "output_type": "stream",
     "text": [
      "2.0.1\n",
      "1.26.4\n",
      "1.2.2\n"
     ]
    }
   ],
   "source": [
    "import pandas as pd\n",
    "import numpy as np\n",
    "import sklearn\n",
    "\n",
    "print(pd.__version__)\n",
    "print(np.__version__)\n",
    "print(sklearn.__version__)"
   ]
  },
  {
   "cell_type": "markdown",
   "metadata": {
    "id": "QSN6i928kBLu"
   },
   "source": [
    "### Задание 5.2.\n",
    "Сгенерируйте полиномиальные признаки 2-ой степени с помощью PolynomialFeatures из библиотеки sklearn. Параметр include_bias выставите в значение False.\n",
    "\n",
    "Постройте модель полиномиальной регрессии 2-ой степени на обучающей выборке (факторы должны быть нормализованы, целевую переменную используйте в логарифмическом масштабе). Все параметры оставьте по умолчанию.\n",
    "\n",
    "а) Для полученной модели рассчитайте метрику RMSLE на тренировочной и валидационной выборках. Ответ округлите до сотых.\n",
    "\n",
    "б) Наблюдаются ли у вашей модели признаки переобучения?\n"
   ]
  },
  {
   "cell_type": "code",
   "execution_count": null,
   "metadata": {},
   "outputs": [],
   "source": [
    "from sklearn.preprocessing import PolynomialFeatures\n",
    "\n",
    "poly = PolynomialFeatures(degree=2, include_bias=False)\n",
    "X_train_poly = poly.fit_transform(X_train)\n",
    "X_valid_poly = poly.fit_transform(X_valid)\n",
    "\n",
    "lr = LinearRegression()\n",
    "lr.fit(X_train_poly, y_train_log)\n",
    "y_train_log_pred = lr.predict(X_train_poly)\n",
    "y_valid_log_pred = lr.predict(X_valid_poly)\n",
    "\n",
    "print(f\"RMSLE on train: {round(rmsle(y_train_log, y_train_log_pred), 2)}\")\n",
    "print(f\"RMSLE on valid: {round(rmsle(y_valid_log, y_valid_log_pred), 2)}\")"
   ]
  },
  {
   "cell_type": "markdown",
   "metadata": {
    "id": "7ChD_MF6kBLv"
   },
   "source": [
    "### Задание 5.3.\n",
    "Постройте модель полиномиальной регрессии 2-ой степени с L2-регуляризацией (регуляризация по Тихонову) на обучающей выборке  (факторы должны быть нормализованы, целевую переменную используйте в логарифмическом масштабе). Коэффициент регуляризации $\\alpha установите равным 1, остальные параметры оставьте по умолчанию.\n",
    "\n",
    "Для полученной модели рассчитайте метрику RMSLE на тренировочной и валидационной выборках. Ответ округлите до сотых.\n"
   ]
  },
  {
   "cell_type": "code",
   "execution_count": null,
   "metadata": {
    "id": "pwcMCt3XkBLv"
   },
   "outputs": [],
   "source": [
    "ridge_lr_poly = linear_model.Ridge(alpha=1)\n",
    "\n",
    "ridge_lr_poly.fit(X_train_poly, y_train_log)\n",
    "\n",
    "y_train_pred_l2 = ridge_lr_poly.predict(X_train_poly)\n",
    "y_valid_pred_l2 = ridge_lr_poly.predict(X_valid_poly)\n",
    "\n",
    "print(f\"RMSLE on train: {round(rmsle(y_train_log, y_train_pred_l2), 2)}\")\n",
    "print(f\"RMSLE on valid: {round(rmsle(y_valid_log, y_valid_pred_l2), 2)}\")"
   ]
  },
  {
   "cell_type": "markdown",
   "metadata": {
    "id": "aU5EJsIqkBLv"
   },
   "source": [
    "### Задание 5.4.\n",
    "Постройте модель дерева решений (DecisionTreeRegressor) на обучающей выборке (факторы должны быть нормализованы, целевую переменную используйте в логарифмическом масштабе). Все параметры оставьте по умолчанию. \n",
    "\n",
    "а) Для полученной модели рассчитайте метрику RMSLE на тренировочной и валидационной выборках. Ответ округлите до сотых.\n",
    "\n",
    "б) Наблюдаются ли у вашей модели признаки переобучения?\n"
   ]
  },
  {
   "cell_type": "code",
   "execution_count": 61,
   "metadata": {
    "id": "SY1G4YcrkBLv"
   },
   "outputs": [
    {
     "name": "stdout",
     "output_type": "stream",
     "text": [
      "RMSLE on train: 0.0\n",
      "RMSLE on valid: 0.56\n"
     ]
    }
   ],
   "source": [
    "# ваш код здесь\n",
    "dt = tree.DecisionTreeRegressor(random_state = 42)\n",
    "\n",
    "dt.fit(X_train, y_train_log)\n",
    "\n",
    "y_train_pred_dt = dt.predict(X_train)\n",
    "y_valid_pred_dt = dt.predict(X_valid)\n",
    "\n",
    "print(f\"RMSLE on train: {round(rmsle(y_train_log, y_train_pred_dt), 2)}\")\n",
    "print(f\"RMSLE on valid: {round(rmsle(y_valid_log, y_valid_pred_dt), 2)}\")"
   ]
  },
  {
   "cell_type": "code",
   "execution_count": 60,
   "metadata": {},
   "outputs": [
    {
     "name": "stdout",
     "output_type": "stream",
     "text": [
      "RMSLE на тренировочной выборке: 0.0\n",
      "RMSLE на валидационной выборке: 0.56\n",
      "Наблюдается ли переобучение: True\n"
     ]
    }
   ],
   "source": [
    "# ваш код здесь\n",
    "from sklearn.tree import DecisionTreeRegressor\n",
    "from sklearn.metrics import mean_squared_error\n",
    "\n",
    "\n",
    "# Создаем и обучаем модель дерева решений\n",
    "tree_reg_model = DecisionTreeRegressor(random_state=42)\n",
    "tree_reg_model.fit(X_train, y_train_log)\n",
    "\n",
    "# Прогноз на тренировочной и валидационной выборках\n",
    "y_train_pred_tree = tree_reg_model.predict(X_train)\n",
    "y_valid_pred_tree = tree_reg_model.predict(X_valid)\n",
    "\n",
    "# Обратное преобразование логарифмических прогнозов в исходную шкалу\n",
    "y_train_pred = np.exp(y_train_pred_tree)\n",
    "y_valid_pred = np.exp(y_valid_pred_tree)\n",
    "\n",
    "# Вычисление метрики RMSLE на тренировочной и валидационной выборках\n",
    "rmsle_train = np.sqrt(mean_squared_error(y_train_log, y_train_pred_tree))\n",
    "rmsle_valid = np.sqrt(mean_squared_error(y_valid_log, y_valid_pred_tree))\n",
    "\n",
    "print(f'RMSLE на тренировочной выборке: {round(rmsle_train, 2)}')\n",
    "print(f'RMSLE на валидационной выборке: {round(rmsle_valid, 2)}')\n",
    "\n",
    "# Проверка на переобучение\n",
    "overfitting = rmsle_train < rmsle_valid\n",
    "print(f'Наблюдается ли переобучение: {overfitting}')"
   ]
  },
  {
   "cell_type": "code",
   "execution_count": 72,
   "metadata": {},
   "outputs": [
    {
     "name": "stdout",
     "output_type": "stream",
     "text": [
      "(977016, 25)\n",
      "(481217, 25)\n"
     ]
    },
    {
     "data": {
      "text/html": [
       "<div>\n",
       "<style scoped>\n",
       "    .dataframe tbody tr th:only-of-type {\n",
       "        vertical-align: middle;\n",
       "    }\n",
       "\n",
       "    .dataframe tbody tr th {\n",
       "        vertical-align: top;\n",
       "    }\n",
       "\n",
       "    .dataframe thead th {\n",
       "        text-align: right;\n",
       "    }\n",
       "</style>\n",
       "<table border=\"1\" class=\"dataframe\">\n",
       "  <thead>\n",
       "    <tr style=\"text-align: right;\">\n",
       "      <th></th>\n",
       "      <th>0</th>\n",
       "      <th>1</th>\n",
       "    </tr>\n",
       "  </thead>\n",
       "  <tbody>\n",
       "    <tr>\n",
       "      <th>0</th>\n",
       "      <td>0.534749</td>\n",
       "      <td>0.535434</td>\n",
       "    </tr>\n",
       "    <tr>\n",
       "      <th>1</th>\n",
       "      <td>0.237656</td>\n",
       "      <td>0.238098</td>\n",
       "    </tr>\n",
       "    <tr>\n",
       "      <th>2</th>\n",
       "      <td>0.791445</td>\n",
       "      <td>0.791444</td>\n",
       "    </tr>\n",
       "    <tr>\n",
       "      <th>3</th>\n",
       "      <td>0.638345</td>\n",
       "      <td>0.638333</td>\n",
       "    </tr>\n",
       "    <tr>\n",
       "      <th>4</th>\n",
       "      <td>0.791446</td>\n",
       "      <td>0.791445</td>\n",
       "    </tr>\n",
       "    <tr>\n",
       "      <th>5</th>\n",
       "      <td>0.730625</td>\n",
       "      <td>0.730622</td>\n",
       "    </tr>\n",
       "    <tr>\n",
       "      <th>6</th>\n",
       "      <td>0.005534</td>\n",
       "      <td>0.005474</td>\n",
       "    </tr>\n",
       "    <tr>\n",
       "      <th>7</th>\n",
       "      <td>0.591553</td>\n",
       "      <td>0.591668</td>\n",
       "    </tr>\n",
       "    <tr>\n",
       "      <th>8</th>\n",
       "      <td>0.034937</td>\n",
       "      <td>0.035259</td>\n",
       "    </tr>\n",
       "    <tr>\n",
       "      <th>9</th>\n",
       "      <td>0.052594</td>\n",
       "      <td>0.052578</td>\n",
       "    </tr>\n",
       "    <tr>\n",
       "      <th>10</th>\n",
       "      <td>0.086154</td>\n",
       "      <td>0.086170</td>\n",
       "    </tr>\n",
       "    <tr>\n",
       "      <th>11</th>\n",
       "      <td>0.126035</td>\n",
       "      <td>0.126130</td>\n",
       "    </tr>\n",
       "    <tr>\n",
       "      <th>12</th>\n",
       "      <td>0.006117</td>\n",
       "      <td>0.006117</td>\n",
       "    </tr>\n",
       "    <tr>\n",
       "      <th>13</th>\n",
       "      <td>0.582045</td>\n",
       "      <td>0.581964</td>\n",
       "    </tr>\n",
       "    <tr>\n",
       "      <th>14</th>\n",
       "      <td>0.144093</td>\n",
       "      <td>0.144037</td>\n",
       "    </tr>\n",
       "    <tr>\n",
       "      <th>15</th>\n",
       "      <td>0.149579</td>\n",
       "      <td>0.150360</td>\n",
       "    </tr>\n",
       "    <tr>\n",
       "      <th>16</th>\n",
       "      <td>0.153521</td>\n",
       "      <td>0.152721</td>\n",
       "    </tr>\n",
       "    <tr>\n",
       "      <th>17</th>\n",
       "      <td>0.151292</td>\n",
       "      <td>0.151678</td>\n",
       "    </tr>\n",
       "    <tr>\n",
       "      <th>18</th>\n",
       "      <td>0.134000</td>\n",
       "      <td>0.133786</td>\n",
       "    </tr>\n",
       "    <tr>\n",
       "      <th>19</th>\n",
       "      <td>0.273989</td>\n",
       "      <td>0.273388</td>\n",
       "    </tr>\n",
       "    <tr>\n",
       "      <th>20</th>\n",
       "      <td>0.183831</td>\n",
       "      <td>0.183728</td>\n",
       "    </tr>\n",
       "    <tr>\n",
       "      <th>21</th>\n",
       "      <td>0.022320</td>\n",
       "      <td>0.022709</td>\n",
       "    </tr>\n",
       "    <tr>\n",
       "      <th>22</th>\n",
       "      <td>0.284159</td>\n",
       "      <td>0.285152</td>\n",
       "    </tr>\n",
       "    <tr>\n",
       "      <th>23</th>\n",
       "      <td>0.194156</td>\n",
       "      <td>0.193786</td>\n",
       "    </tr>\n",
       "    <tr>\n",
       "      <th>24</th>\n",
       "      <td>0.013011</td>\n",
       "      <td>0.012857</td>\n",
       "    </tr>\n",
       "  </tbody>\n",
       "</table>\n",
       "</div>"
      ],
      "text/plain": [
       "           0         1\n",
       "0   0.534749  0.535434\n",
       "1   0.237656  0.238098\n",
       "2   0.791445  0.791444\n",
       "3   0.638345  0.638333\n",
       "4   0.791446  0.791445\n",
       "5   0.730625  0.730622\n",
       "6   0.005534  0.005474\n",
       "7   0.591553  0.591668\n",
       "8   0.034937  0.035259\n",
       "9   0.052594  0.052578\n",
       "10  0.086154  0.086170\n",
       "11  0.126035  0.126130\n",
       "12  0.006117  0.006117\n",
       "13  0.582045  0.581964\n",
       "14  0.144093  0.144037\n",
       "15  0.149579  0.150360\n",
       "16  0.153521  0.152721\n",
       "17  0.151292  0.151678\n",
       "18  0.134000  0.133786\n",
       "19  0.273989  0.273388\n",
       "20  0.183831  0.183728\n",
       "21  0.022320  0.022709\n",
       "22  0.284159  0.285152\n",
       "23  0.194156  0.193786\n",
       "24  0.013011  0.012857"
      ]
     },
     "execution_count": 72,
     "metadata": {},
     "output_type": "execute_result"
    }
   ],
   "source": [
    "print(X_train.shape)\n",
    "print(X_valid.shape)\n",
    "pd.DataFrame([np.mean(X_train, axis=0), np.mean(X_valid, axis=0)]).T"
   ]
  },
  {
   "cell_type": "markdown",
   "metadata": {
    "id": "1YJIlj4ykBLv"
   },
   "source": [
    "### Задание 5.5.\n",
    "Переберите все возможные варианты глубины дерева решений в диапазоне от 7 до 20:\n",
    "\n",
    "max_depths = range(7, 20)\n",
    "\n",
    "Постройте линейные графики изменения метрики RMSE на тренировочной и валидационной выборках в зависимости от значения параметра глубины дерева решений. \n",
    "\n",
    "а) Найдите оптимальное значение максимальной глубины дерева, для которой будет наблюдаться минимальное значение RMSLE на обучающей выборке, но при этом еще не будет наблюдаться переобучение (валидационная кривая еще не начинает возрастать).\n",
    "\n",
    "б) Чему равно значение метрик RMSLE на тренировочной и валидационной выборках для дерева решений с выбранной оптимальной глубиной? Ответ округлите до сотых.\n"
   ]
  },
  {
   "cell_type": "code",
   "execution_count": null,
   "metadata": {
    "id": "_MbTVYsWkBLv"
   },
   "outputs": [],
   "source": [
    "from sklearn.model_selection import GridSearchCV\n",
    "\n",
    "param_grid = {'max_depth': [7, 8, 9, 10, 11, 12, 13, 14, 15, 16, 17, 18, 19]}\n",
    "\n",
    "grid_search = GridSearchCV(\n",
    "    estimator=tree.DecisionTreeRegressor(),\n",
    "    param_grid=param_grid,\n",
    "    cv=5,\n",
    "    n_jobs=-1\n",
    ")\n",
    "%time\n",
    "grid_search.fit(X_train, y_train_log)\n",
    "\n",
    "print(\"Наилучшие значения гиперпараметров: {}\".format(grid_search.best_params_))\n"
   ]
  },
  {
   "cell_type": "code",
   "execution_count": null,
   "metadata": {},
   "outputs": [],
   "source": [
    "errors_train = []\n",
    "errors_valid = []\n",
    "depth=[]\n",
    "\n",
    "for i in range(7,20):\n",
    "    dt = tree.DecisionTreeRegressor(max_depth=i, random_state=42)\n",
    "    dt.fit(X_train, y_train_log)\n",
    "    y_train_pred_dt = dt.predict(X_train)\n",
    "    y_valid_pred_dt = dt.predict(X_valid)\n",
    "    errors_train.append(rmsle(y_train_log, y_train_pred_dt))\n",
    "    errors_valid.append(rmsle(y_valid_log, y_valid_pred_dt))\n",
    "    depth.append(i)"
   ]
  },
  {
   "cell_type": "code",
   "execution_count": null,
   "metadata": {},
   "outputs": [],
   "source": [
    "plot_data = pd.DataFrame({'errors_train':errors_train, 'errors_valid':errors_valid}, index=depth)\n",
    "\n",
    "fig, ax1 = plt.subplots(figsize=(10, 5))\n",
    "\n",
    "ax1.set_xlabel('Depth')\n",
    "ax1.set_ylabel('RMSLE train', color='tab:blue')\n",
    "ax1.plot(plot_data[['errors_train']],\n",
    "         color='tab:blue')\n",
    "ax1.tick_params(axis='y', labelcolor='tab:blue')\n",
    "\n",
    "ax2 = ax1.twinx()  # instantiate a second axes that shares the same x-axis\n",
    "\n",
    "ax2.set_ylabel('RMSLE valid', color='tab:red')  # we already handled the x-label with ax1\n",
    "ax2.plot(plot_data[['errors_valid']],\n",
    "         color='tab:red')\n",
    "ax2.tick_params(axis='y', color='tab:red')\n",
    "\n",
    "fig.tight_layout()  # otherwise the right y-label is slightly clipped\n",
    "plt.show()"
   ]
  },
  {
   "cell_type": "code",
   "execution_count": null,
   "metadata": {},
   "outputs": [],
   "source": [
    "dt_best = tree.DecisionTreeRegressor(max_depth=grid_search.best_params_['max_depth'], random_state=42)\n",
    "\n",
    "dt_best.fit(X_train, y_train_log)\n",
    "\n",
    "y_train_pred_dt = dt_best.predict(X_train)\n",
    "y_valid_pred_dt = dt_best.predict(X_valid)\n",
    "\n",
    "print(f\"RMSLE on train: {round(rmsle(y_train_log, y_train_pred_dt), 2)}\")\n",
    "print(f\"RMSLE on valid: {round(rmsle(y_valid_log, y_valid_pred_dt), 2)}\")"
   ]
  },
  {
   "cell_type": "code",
   "execution_count": null,
   "metadata": {},
   "outputs": [],
   "source": [
    "np.save('C:\\Личные документы\\Учёба SF DS\\data\\X_train.npy', X_train)\n",
    "np.save('C:\\Личные документы\\Учёба SF DS\\data\\X_valid.npy', X_valid)\n",
    "np.save('C:\\Личные документы\\Учёба SF DS\\data\\y_train_log.npy', y_train_log)\n",
    "np.save('C:\\Личные документы\\Учёба SF DS\\data\\y_valid_log.npy', y_valid_log)"
   ]
  },
  {
   "cell_type": "markdown",
   "metadata": {
    "id": "zUXrz7YDkBLv"
   },
   "source": [
    "## 6. Решение задачи регрессии: ансамблевые методы и построение прогноза"
   ]
  },
  {
   "cell_type": "markdown",
   "metadata": {
    "id": "297rnbaikBLv"
   },
   "source": [
    "Переходим к тяжелой артиллерии: ансамблевым алгоритмам. "
   ]
  },
  {
   "cell_type": "markdown",
   "metadata": {
    "id": "ZIAGlVjqkBLw"
   },
   "source": [
    "### Задание 6.1.\n",
    "\n",
    "Постройте модель случайного леса на обучающей выборке (факторы должны быть нормализованы, целевую переменную используйте в логарифмическом масштабе). В качестве гиперпараметров укажите следующие:\n",
    "* n_estimators=200,\n",
    "* max_depth=12,\n",
    "* criterion='squared_error',\n",
    "* min_samples_split=20,\n",
    "* random_state=42\n",
    "\n",
    "Для полученной модели рассчитайте метрику RMSLE на тренировочной и валидационной выборках. Ответ округлите до сотых.\n"
   ]
  },
  {
   "cell_type": "code",
   "execution_count": null,
   "metadata": {
    "id": "QQQdFHWfkBLw"
   },
   "outputs": [],
   "source": [
    "rf = ensemble.RandomForestRegressor(\n",
    "    n_estimators = 200,\n",
    "    max_depth = 12,\n",
    "    criterion = 'squared_error',\n",
    "    min_samples_split = 20,\n",
    "    random_state = 42,\n",
    "    verbose=True\n",
    ")\n",
    "\n",
    "rf.fit(X_train, y_train_log)\n",
    "\n",
    "y_train_pred_rf = rf.predict(X_train)\n",
    "y_valid_pred_rf = rf.predict(X_valid)\n",
    "\n",
    "print(f\"RMSLE on train: {round(rmsle(y_train_log, y_train_pred_rf), 2)}\")\n",
    "print(f\"RMSLE on valid: {round(rmsle(y_valid_log, y_valid_pred_rf), 2)}\")"
   ]
  },
  {
   "cell_type": "markdown",
   "metadata": {
    "id": "JZz_qWKDkBLw"
   },
   "source": [
    "### Задание 6.2.\n",
    "Постройте модель градиентного бустинга над деревьями решений (GradientBoostingRegressor) на обучающей выборке (факторы должны быть нормализованы, целевую переменную используйте в логарифмическом масштабе). В качестве гиперпараметров укажите следующие:\n",
    "* learning_rate=0.5,\n",
    "* n_estimators=100,\n",
    "* max_depth=6, \n",
    "* min_samples_split=30,\n",
    "* random_state=42\n",
    "\n",
    "Для полученной модели рассчитайте метрику RMSLE на тренировочной и валидационной выборках. Ответ округлите до сотых.\n"
   ]
  },
  {
   "cell_type": "code",
   "execution_count": null,
   "metadata": {
    "id": "KnnmuhoSkBLw"
   },
   "outputs": [],
   "source": [
    "from sklearn.ensemble import GradientBoostingRegressor\n",
    "\n",
    "gb = GradientBoostingRegressor(\n",
    "    learning_rate=0.5,\n",
    "    n_estimators=100,\n",
    "    max_depth=6,\n",
    "    min_samples_split=30,\n",
    "    random_state=42,\n",
    "    verbose=True\n",
    ")\n",
    "\n",
    "%time\n",
    "gb.fit(X_train, y_train_log)\n",
    "\n",
    "y_train_pred_gb = gb.predict(X_train)\n",
    "y_valid_pred_gb = gb.predict(X_valid)\n",
    "\n",
    "print(f\"RMSLE on train: {round(rmsle(y_train_log, y_train_pred_gb), 2)}\")\n",
    "print(f\"RMSLE on valid: {round(rmsle(y_valid_log, y_valid_pred_gb), 2)}\")"
   ]
  },
  {
   "cell_type": "markdown",
   "metadata": {
    "id": "zC3NKXLhkBLw"
   },
   "source": [
    "### Задание 6.3.\n",
    "Какая из построенных вами моделей показала наилучший результат (наименьшее значение RMSLE на валидационной выборке)?\n",
    "* Линейная регрессия\n",
    "* Полиномиальная регрессия 2ой степени\n",
    "* Дерево решений\n",
    "* Случайный лес\n",
    "* Градиентный бустинг над деревьями решений\n"
   ]
  },
  {
   "cell_type": "markdown",
   "metadata": {
    "id": "eaBYTxnkkBLx"
   },
   "source": [
    "### Задание 6.4.\n",
    "Постройте столбчатую диаграмму коэффициентов значимости каждого из факторов.\n",
    "\n",
    "Укажите топ-3 наиболее значимых для предсказания целевого признака - длительности поездки в логарифмическом масштабе - факторов.\n"
   ]
  },
  {
   "cell_type": "code",
   "execution_count": null,
   "metadata": {},
   "outputs": [],
   "source": [
    "\n",
    "\n",
    "fig, ax = plt.subplots(figsize=(10, 5))\n",
    "\n",
    "sns.barplot(x=gb.feature_importances_, y=column_names)\n",
    "ax.set_xlabel('Values')\n",
    "ax.set_ylabel('Features')\n",
    "ax.set_title('Importance of features')\n"
   ]
  },
  {
   "cell_type": "markdown",
   "metadata": {
    "id": "TQ4NzZaTkBLx"
   },
   "source": [
    "### Задание 6.5.\n",
    "Для лучшей из построенных моделей рассчитайте медианную абсолютную ошибку (MeAE - в sklearn функция median_absolute_error) предсказания длительности поездки такси на валидационной выборке:\n",
    "$$ MeAE = median(|y_i-\\hat{y_i}|)$$\n",
    "\n",
    "Значение метрики MeAE переведите в минуты и округлите до десятых.\n"
   ]
  },
  {
   "cell_type": "code",
   "execution_count": null,
   "metadata": {
    "id": "mOYteyJ-kBLx"
   },
   "outputs": [],
   "source": [
    "y_train_pred = np.exp(y_train_pred_gb) - 1\n",
    "y_valid_pred = np.exp(y_valid_pred_gb) - 1\n",
    "y_train_real = np.exp(y_train_log) - 1\n",
    "y_valid_real = np.exp(y_valid_log) - 1"
   ]
  },
  {
   "cell_type": "code",
   "execution_count": null,
   "metadata": {},
   "outputs": [],
   "source": [
    "from sklearn.metrics import median_absolute_error\n",
    "\n",
    "\n",
    "MeAE = median_absolute_error(y_valid_real, y_valid_pred) / 60\n",
    "\n",
    "\n",
    "print(f\"MeAE on valid: {round(MeAE, 1)}\")"
   ]
  },
  {
   "cell_type": "markdown",
   "metadata": {
    "id": "NZzsSUFfkBLx"
   },
   "source": [
    "Финальный шаг - сделать submit -  предсказание для отложенного тестового набора данных. "
   ]
  },
  {
   "cell_type": "markdown",
   "metadata": {
    "id": "J12UJrZOkBLx"
   },
   "source": [
    "Прочитаем тестовые данные и заранее выделим столбец с идентификаторами поездок из тестового набора данных. Он нам еще пригодится:\n"
   ]
  },
  {
   "cell_type": "code",
   "execution_count": 105,
   "metadata": {},
   "outputs": [],
   "source": [
    "osrm_data_train = pd.read_csv(\"C:\\data\\osrm_data_train.zip\")\n",
    "train_data = pd.read_csv(\"C:\\data\\Project5_train_data.zip\")\n"
   ]
  },
  {
   "cell_type": "code",
   "execution_count": 106,
   "metadata": {
    "id": "5KAzvZidkBLx"
   },
   "outputs": [],
   "source": [
    "osrm_data_test = pd.read_csv(\"C:\\data\\Project5_osrm_data_test.zip\")\n",
    "test_data = pd.read_csv(\"C:\\data\\Project5_test_data.zip\")\n",
    "test_id = test_data['id']"
   ]
  },
  {
   "cell_type": "markdown",
   "metadata": {
    "id": "sdrR42JrkBLy"
   },
   "source": [
    "Перед созданием прогноза для тестовой выборки необходимо произвести все манипуляции с данными, которые мы производили с тренировочной выборкой, а именно:\n",
    "* Перевести признак pickup_datetime в формат datetime;\n",
    "* Добавить новые признаки (временные, географические, погодные и другие факторы);\n",
    "* Произвести очистку данных от пропусков;\n",
    "* Произвести кодировку категориальных признаков:\n",
    "    * Закодировать бинарные признаки;\n",
    "    * Закодировать номинальные признаки с помощью обученного на тренировочной выборке OneHotEncoder’а;\n",
    "* Сформировать матрицу наблюдений, оставив в таблице только те признаки, которые были отобраны с помощью SelectKBest;\n",
    "* Нормализовать данные с помощью обученного на тренировочной выборке MinMaxScaler’а.\n"
   ]
  },
  {
   "cell_type": "code",
   "execution_count": null,
   "metadata": {},
   "outputs": [],
   "source": [
    "test_data['pickup_datetime']=pd.to_datetime(test_data['pickup_datetime'],format='%Y-%m-%d %H:%M:%S')\n",
    "test_data = add_datetime_features(test_data)\n",
    "test_data = add_holiday_features(test_data, holiday_data)\n",
    "test_data = add_osrm_features(test_data, osrm_data_test)\n",
    "test_data = add_geographical_features(test_data)\n",
    "test_data = add_cluster_features(test_data, kmeans)\n",
    "test_data = add_weather_features(test_data, weather_data)\n",
    "test_data = fill_null_weather_data(test_data)\n",
    "\n",
    "test_data['vendor_id'] = test_data['vendor_id'].apply(lambda x: 0 if x == 1 else 1)\n",
    "test_data['store_and_fwd_flag'] = test_data['store_and_fwd_flag'].apply(lambda x: 0 if x == 'N' else 1)\n",
    "test_data_onehot = one_hot_encoder.fit_transform(test_data[columns_to_change]).toarray()\n",
    "column_names = one_hot_encoder.get_feature_names_out(columns_to_change)\n",
    "best_features = column_names\n",
    "test_data_onehot = pd.DataFrame(test_data_onehot, columns=column_names)\n",
    "\n",
    "test_data = pd.concat(\n",
    "    [test_data.reset_index(drop=True).drop(columns_to_change, axis=1), test_data_onehot], \n",
    "    axis=1\n",
    ")\n",
    "X_test = test_data[best_features]\n",
    "scaler.fit(X_test)\n",
    "X_test_scaled = scaler.transform(X_test)\n",
    "print('Shape of data: {}'.format(X_test.shape))\n",
    "\n",
    "train_data = pd.concat(\n",
    "    [train_data.reset_index(drop=True).drop(columns_to_change, axis=1), data_onehot], \n",
    "    axis=1\n",
    ")\n",
    "print('Shape of data: {}'.format(train_data.shape))"
   ]
  },
  {
   "cell_type": "code",
   "execution_count": 95,
   "metadata": {
    "id": "nqWQbqhGkBLy"
   },
   "outputs": [
    {
     "name": "stdout",
     "output_type": "stream",
     "text": [
      "Shape of data: (625134, 18)\n"
     ]
    }
   ],
   "source": [
    "test_data['pickup_datetime']=pd.to_datetime(test_data['pickup_datetime'],format='%Y-%m-%d %H:%M:%S')\n",
    "test_data = add_datetime_features(test_data)\n",
    "test_data = add_holiday_features(test_data, holiday_data)\n",
    "test_data = add_osrm_features(test_data, osrm_data_test)\n",
    "test_data = add_geographical_features(test_data)\n",
    "test_data = add_cluster_features(test_data, kmeans)\n",
    "test_data = add_weather_features(test_data, weather_data)\n",
    "test_data = fill_null_weather_data(test_data)\n",
    "\n",
    "test_data['vendor_id'] = test_data['vendor_id'].apply(lambda x: 0 if x == 1 else 1)\n",
    "test_data['store_and_fwd_flag'] = test_data['store_and_fwd_flag'].apply(lambda x: 0 if x == 'N' else 1)\n",
    "test_data_onehot = one_hot_encoder.fit_transform(test_data[columns_to_change]).toarray()\n",
    "column_names = one_hot_encoder.get_feature_names_out(columns_to_change)\n",
    "best_features = column_names\n",
    "test_data_onehot = pd.DataFrame(test_data_onehot, columns=column_names)\n",
    "\n",
    "test_data = pd.concat(\n",
    "    [test_data.reset_index(drop=True).drop(columns_to_change, axis=1), test_data_onehot], \n",
    "    axis=1\n",
    ")\n",
    "X_test = test_data[best_features]\n",
    "scaler.fit(X_test)\n",
    "X_test_scaled = scaler.transform(X_test)\n",
    "print('Shape of data: {}'.format(X_test.shape))\n",
    "\n",
    "train_data = pd.concat(\n",
    "    [train_data.reset_index(drop=True).drop(columns_to_change, axis=1), data_onehot], \n",
    "    axis=1\n",
    ")\n",
    "print('Shape of data: {}'.format(train_data.shape))"
   ]
  },
  {
   "cell_type": "markdown",
   "metadata": {
    "id": "24JJ64T4kBLy"
   },
   "source": [
    "Только после выполнения всех этих шагов можно сделать предсказание длительности поездки для тестовой выборки. Не забудьте перевести предсказания из логарифмического масштаба в истинный, используя формулу:\n",
    "$$y_i=exp(z_i)-1$$\n",
    "\n",
    "После того, как вы сформируете предсказание длительности поездок на тестовой выборке вам необходимо будет создать submission-файл в формате csv, отправить его на платформу Kaggle и посмотреть на результирующее значение метрики RMSLE на тестовой выборке.\n",
    "\n",
    "Код для создания submission-файла:\n"
   ]
  },
  {
   "cell_type": "code",
   "execution_count": null,
   "metadata": {
    "id": "JeMAzrHHkBLy"
   },
   "outputs": [],
   "source": [
    "# ваш код здесь\n",
    "submission = pd.DataFrame({'id': test_id, 'trip_duration': y_test_predict})\n",
    "submission.to_csv('data/submission_gb.csv', index=False)"
   ]
  },
  {
   "cell_type": "markdown",
   "metadata": {
    "id": "iU5BA_XDkBLy"
   },
   "source": [
    "### **В качестве бонуса**\n",
    "\n",
    "В завершение по ансамблевым мы предлагаем вам попробовать улучшить свое предсказание, воспользовавшись моделью экстремального градиентного бустинга (XGBoost) из библиотеки xgboost.\n",
    "\n",
    "**XGBoost** - современная модель машинного обучения, которая является продолжением идеи градиентного бустинга Фридмана. У нее есть несколько преимуществ по сравнению с классической моделью градиентного бустинга из библиотеки sklearn: повышенная производительность путем параллелизации процесса обучения, повышенное качество решения за счет усовершенствования алгоритма бустинга, меньшая склонность к переобучению и широкий функционал возможности управления параметрами модели.\n"
   ]
  },
  {
   "cell_type": "markdown",
   "metadata": {
    "id": "_FARWLbakBLy"
   },
   "source": [
    "Для ее использования необходимо для начала установить пакет xgboost:"
   ]
  },
  {
   "cell_type": "code",
   "execution_count": 4,
   "metadata": {
    "id": "h8KXUhyGkBLy"
   },
   "outputs": [
    {
     "name": "stdout",
     "output_type": "stream",
     "text": [
      "Collecting xgboost\n",
      "  Downloading xgboost-2.0.3-py3-none-win_amd64.whl.metadata (2.0 kB)\n",
      "Requirement already satisfied: numpy in c:\\users\\михаил\\appdata\\local\\packages\\pythonsoftwarefoundation.python.3.11_qbz5n2kfra8p0\\localcache\\local-packages\\python311\\site-packages (from xgboost) (1.26.4)\n",
      "Requirement already satisfied: scipy in c:\\users\\михаил\\appdata\\local\\packages\\pythonsoftwarefoundation.python.3.11_qbz5n2kfra8p0\\localcache\\local-packages\\python311\\site-packages (from xgboost) (1.13.0)\n",
      "Downloading xgboost-2.0.3-py3-none-win_amd64.whl (99.8 MB)\n",
      "   ---------------------------------------- 0.0/99.8 MB ? eta -:--:--\n",
      "   ---------------------------------------- 0.0/99.8 MB ? eta -:--:--\n",
      "   ---------------------------------------- 0.0/99.8 MB 330.3 kB/s eta 0:05:02\n",
      "   ---------------------------------------- 0.1/99.8 MB 563.7 kB/s eta 0:02:57\n",
      "   ---------------------------------------- 0.1/99.8 MB 722.1 kB/s eta 0:02:18\n",
      "   ---------------------------------------- 0.2/99.8 MB 857.5 kB/s eta 0:01:57\n",
      "   ---------------------------------------- 0.3/99.8 MB 1.2 MB/s eta 0:01:26\n",
      "   ---------------------------------------- 0.5/99.8 MB 1.4 MB/s eta 0:01:09\n",
      "   ---------------------------------------- 0.6/99.8 MB 1.7 MB/s eta 0:00:59\n",
      "   ---------------------------------------- 0.8/99.8 MB 1.8 MB/s eta 0:00:54\n",
      "   ---------------------------------------- 0.9/99.8 MB 2.0 MB/s eta 0:00:51\n",
      "   ---------------------------------------- 1.0/99.8 MB 2.0 MB/s eta 0:00:49\n",
      "   ---------------------------------------- 1.2/99.8 MB 2.1 MB/s eta 0:00:47\n",
      "    --------------------------------------- 1.3/99.8 MB 2.2 MB/s eta 0:00:46\n",
      "    --------------------------------------- 1.4/99.8 MB 2.2 MB/s eta 0:00:45\n",
      "    --------------------------------------- 1.6/99.8 MB 2.3 MB/s eta 0:00:43\n",
      "    --------------------------------------- 1.7/99.8 MB 2.3 MB/s eta 0:00:43\n",
      "    --------------------------------------- 1.8/99.8 MB 2.3 MB/s eta 0:00:43\n",
      "    --------------------------------------- 2.0/99.8 MB 2.3 MB/s eta 0:00:43\n",
      "    --------------------------------------- 2.1/99.8 MB 2.4 MB/s eta 0:00:42\n",
      "    --------------------------------------- 2.3/99.8 MB 2.4 MB/s eta 0:00:41\n",
      "    --------------------------------------- 2.4/99.8 MB 2.4 MB/s eta 0:00:41\n",
      "   - -------------------------------------- 2.5/99.8 MB 2.5 MB/s eta 0:00:40\n",
      "   - -------------------------------------- 2.7/99.8 MB 2.5 MB/s eta 0:00:39\n",
      "   - -------------------------------------- 2.8/99.8 MB 2.5 MB/s eta 0:00:39\n",
      "   - -------------------------------------- 2.8/99.8 MB 2.5 MB/s eta 0:00:39\n",
      "   - -------------------------------------- 2.8/99.8 MB 2.5 MB/s eta 0:00:39\n",
      "   - -------------------------------------- 2.8/99.8 MB 2.3 MB/s eta 0:00:43\n",
      "   - -------------------------------------- 3.3/99.8 MB 2.5 MB/s eta 0:00:39\n",
      "   - -------------------------------------- 3.3/99.8 MB 2.5 MB/s eta 0:00:40\n",
      "   - -------------------------------------- 3.3/99.8 MB 2.5 MB/s eta 0:00:40\n",
      "   - -------------------------------------- 3.3/99.8 MB 2.5 MB/s eta 0:00:40\n",
      "   - -------------------------------------- 3.4/99.8 MB 2.2 MB/s eta 0:00:44\n",
      "   - -------------------------------------- 3.6/99.8 MB 2.3 MB/s eta 0:00:42\n",
      "   - -------------------------------------- 3.6/99.8 MB 2.3 MB/s eta 0:00:42\n",
      "   - -------------------------------------- 3.7/99.8 MB 2.2 MB/s eta 0:00:44\n",
      "   - -------------------------------------- 3.7/99.8 MB 2.2 MB/s eta 0:00:44\n",
      "   - -------------------------------------- 3.7/99.8 MB 2.2 MB/s eta 0:00:44\n",
      "   - -------------------------------------- 3.7/99.8 MB 2.1 MB/s eta 0:00:46\n",
      "   - -------------------------------------- 3.8/99.8 MB 2.1 MB/s eta 0:00:47\n",
      "   - -------------------------------------- 3.8/99.8 MB 2.0 MB/s eta 0:00:48\n",
      "   - -------------------------------------- 3.8/99.8 MB 2.0 MB/s eta 0:00:49\n",
      "   - -------------------------------------- 3.8/99.8 MB 2.0 MB/s eta 0:00:49\n",
      "   - -------------------------------------- 3.8/99.8 MB 1.9 MB/s eta 0:00:51\n",
      "   - -------------------------------------- 3.9/99.8 MB 1.9 MB/s eta 0:00:51\n",
      "   - -------------------------------------- 4.0/99.8 MB 1.9 MB/s eta 0:00:51\n",
      "   - -------------------------------------- 4.0/99.8 MB 1.8 MB/s eta 0:00:53\n",
      "   - -------------------------------------- 4.0/99.8 MB 1.8 MB/s eta 0:00:53\n",
      "   - -------------------------------------- 4.0/99.8 MB 1.8 MB/s eta 0:00:55\n",
      "   - -------------------------------------- 4.1/99.8 MB 1.7 MB/s eta 0:00:56\n",
      "   - -------------------------------------- 4.1/99.8 MB 1.7 MB/s eta 0:00:56\n",
      "   - -------------------------------------- 4.1/99.8 MB 1.7 MB/s eta 0:00:57\n",
      "   - -------------------------------------- 4.1/99.8 MB 1.7 MB/s eta 0:00:58\n",
      "   - -------------------------------------- 4.1/99.8 MB 1.7 MB/s eta 0:00:58\n",
      "   - -------------------------------------- 4.1/99.8 MB 1.6 MB/s eta 0:01:00\n",
      "   - -------------------------------------- 4.1/99.8 MB 1.6 MB/s eta 0:01:00\n",
      "   - -------------------------------------- 4.1/99.8 MB 1.6 MB/s eta 0:01:02\n",
      "   - -------------------------------------- 4.1/99.8 MB 1.6 MB/s eta 0:01:02\n",
      "   - -------------------------------------- 4.1/99.8 MB 1.5 MB/s eta 0:01:04\n",
      "   - -------------------------------------- 4.1/99.8 MB 1.5 MB/s eta 0:01:04\n",
      "   - -------------------------------------- 4.2/99.8 MB 1.5 MB/s eta 0:01:05\n",
      "   - -------------------------------------- 4.2/99.8 MB 1.5 MB/s eta 0:01:05\n",
      "   - -------------------------------------- 4.2/99.8 MB 1.4 MB/s eta 0:01:08\n",
      "   - -------------------------------------- 4.2/99.8 MB 1.4 MB/s eta 0:01:08\n",
      "   - -------------------------------------- 4.2/99.8 MB 1.4 MB/s eta 0:01:09\n",
      "   - -------------------------------------- 4.2/99.8 MB 1.4 MB/s eta 0:01:09\n",
      "   - -------------------------------------- 4.2/99.8 MB 1.4 MB/s eta 0:01:09\n",
      "   - -------------------------------------- 4.2/99.8 MB 1.3 MB/s eta 0:01:12\n",
      "   - -------------------------------------- 4.2/99.8 MB 1.3 MB/s eta 0:01:12\n",
      "   - -------------------------------------- 4.2/99.8 MB 1.3 MB/s eta 0:01:12\n",
      "   - -------------------------------------- 4.2/99.8 MB 1.3 MB/s eta 0:01:12\n",
      "   - -------------------------------------- 4.2/99.8 MB 1.3 MB/s eta 0:01:12\n",
      "   - -------------------------------------- 4.2/99.8 MB 1.2 MB/s eta 0:01:17\n",
      "   - -------------------------------------- 4.2/99.8 MB 1.2 MB/s eta 0:01:17\n",
      "   - -------------------------------------- 4.2/99.8 MB 1.2 MB/s eta 0:01:17\n",
      "   - -------------------------------------- 4.2/99.8 MB 1.2 MB/s eta 0:01:17\n",
      "   - -------------------------------------- 4.2/99.8 MB 1.2 MB/s eta 0:01:17\n",
      "   - -------------------------------------- 4.2/99.8 MB 1.2 MB/s eta 0:01:22\n",
      "   - -------------------------------------- 4.2/99.8 MB 1.2 MB/s eta 0:01:22\n",
      "   - -------------------------------------- 4.2/99.8 MB 1.2 MB/s eta 0:01:22\n",
      "   - -------------------------------------- 4.2/99.8 MB 1.2 MB/s eta 0:01:22\n",
      "   - -------------------------------------- 4.2/99.8 MB 1.2 MB/s eta 0:01:22\n",
      "   - -------------------------------------- 4.3/99.8 MB 1.1 MB/s eta 0:01:27\n",
      "   - -------------------------------------- 4.3/99.8 MB 1.1 MB/s eta 0:01:27\n",
      "   - -------------------------------------- 4.3/99.8 MB 1.1 MB/s eta 0:01:27\n",
      "   - -------------------------------------- 4.3/99.8 MB 1.1 MB/s eta 0:01:27\n",
      "   - -------------------------------------- 4.3/99.8 MB 1.1 MB/s eta 0:01:27\n",
      "   - -------------------------------------- 4.3/99.8 MB 1.1 MB/s eta 0:01:27\n",
      "   - -------------------------------------- 4.3/99.8 MB 1.1 MB/s eta 0:01:27\n",
      "   - -------------------------------------- 4.3/99.8 MB 1.0 MB/s eta 0:01:34\n",
      "   - -------------------------------------- 4.3/99.8 MB 1.0 MB/s eta 0:01:34\n",
      "   - -------------------------------------- 4.3/99.8 MB 1.0 MB/s eta 0:01:34\n",
      "   - -------------------------------------- 4.3/99.8 MB 1.0 MB/s eta 0:01:34\n",
      "   - -------------------------------------- 4.3/99.8 MB 1.0 MB/s eta 0:01:34\n",
      "   - -------------------------------------- 4.3/99.8 MB 1.0 MB/s eta 0:01:34\n",
      "   - -------------------------------------- 4.3/99.8 MB 1.0 MB/s eta 0:01:34\n",
      "   - -------------------------------------- 4.3/99.8 MB 1.0 MB/s eta 0:01:34\n",
      "   - -------------------------------------- 4.3/99.8 MB 933.9 kB/s eta 0:01:43\n",
      "   - -------------------------------------- 4.3/99.8 MB 933.9 kB/s eta 0:01:43\n",
      "   - -------------------------------------- 4.3/99.8 MB 933.9 kB/s eta 0:01:43\n",
      "   - -------------------------------------- 4.3/99.8 MB 933.9 kB/s eta 0:01:43\n",
      "   - -------------------------------------- 4.3/99.8 MB 933.9 kB/s eta 0:01:43\n",
      "   - -------------------------------------- 4.3/99.8 MB 933.9 kB/s eta 0:01:43\n",
      "   - -------------------------------------- 4.3/99.8 MB 933.9 kB/s eta 0:01:43\n",
      "   - -------------------------------------- 4.3/99.8 MB 868.3 kB/s eta 0:01:50\n",
      "   - -------------------------------------- 4.3/99.8 MB 868.3 kB/s eta 0:01:50\n",
      "   - -------------------------------------- 4.3/99.8 MB 868.3 kB/s eta 0:01:50\n",
      "   - -------------------------------------- 4.3/99.8 MB 868.3 kB/s eta 0:01:50\n",
      "   - -------------------------------------- 4.3/99.8 MB 868.3 kB/s eta 0:01:50\n",
      "   - -------------------------------------- 4.3/99.8 MB 838.1 kB/s eta 0:01:54\n",
      "   - -------------------------------------- 4.3/99.8 MB 838.1 kB/s eta 0:01:54\n",
      "   - -------------------------------------- 4.3/99.8 MB 838.1 kB/s eta 0:01:54\n",
      "   - -------------------------------------- 4.3/99.8 MB 838.1 kB/s eta 0:01:54\n",
      "   - -------------------------------------- 4.3/99.8 MB 838.1 kB/s eta 0:01:54\n",
      "   - -------------------------------------- 4.3/99.8 MB 838.1 kB/s eta 0:01:54\n",
      "   - -------------------------------------- 4.4/99.8 MB 793.9 kB/s eta 0:02:01\n",
      "   - -------------------------------------- 4.4/99.8 MB 793.9 kB/s eta 0:02:01\n",
      "   - -------------------------------------- 4.4/99.8 MB 793.9 kB/s eta 0:02:01\n",
      "   - -------------------------------------- 4.4/99.8 MB 793.9 kB/s eta 0:02:01\n",
      "   - -------------------------------------- 4.4/99.8 MB 793.9 kB/s eta 0:02:01\n",
      "   - -------------------------------------- 4.4/99.8 MB 761.0 kB/s eta 0:02:06\n",
      "   - -------------------------------------- 4.4/99.8 MB 761.0 kB/s eta 0:02:06\n",
      "   - -------------------------------------- 4.4/99.8 MB 761.0 kB/s eta 0:02:06\n",
      "   - -------------------------------------- 4.4/99.8 MB 761.0 kB/s eta 0:02:06\n",
      "   - -------------------------------------- 4.4/99.8 MB 761.0 kB/s eta 0:02:06\n",
      "   - -------------------------------------- 4.4/99.8 MB 761.0 kB/s eta 0:02:06\n",
      "   - -------------------------------------- 4.4/99.8 MB 761.0 kB/s eta 0:02:06\n",
      "   - -------------------------------------- 4.4/99.8 MB 761.0 kB/s eta 0:02:06\n",
      "   - -------------------------------------- 4.4/99.8 MB 761.0 kB/s eta 0:02:06\n",
      "   - -------------------------------------- 4.4/99.8 MB 712.1 kB/s eta 0:02:14\n",
      "   - -------------------------------------- 4.4/99.8 MB 712.1 kB/s eta 0:02:14\n",
      "   - -------------------------------------- 4.4/99.8 MB 712.1 kB/s eta 0:02:14\n",
      "   - -------------------------------------- 4.4/99.8 MB 712.1 kB/s eta 0:02:14\n",
      "   - -------------------------------------- 4.4/99.8 MB 712.1 kB/s eta 0:02:14\n",
      "   - -------------------------------------- 4.4/99.8 MB 689.2 kB/s eta 0:02:19\n",
      "   - -------------------------------------- 4.4/99.8 MB 689.2 kB/s eta 0:02:19\n",
      "   - -------------------------------------- 4.4/99.8 MB 679.1 kB/s eta 0:02:21\n",
      "   - -------------------------------------- 4.4/99.8 MB 679.1 kB/s eta 0:02:21\n",
      "   - -------------------------------------- 4.4/99.8 MB 679.1 kB/s eta 0:02:21\n",
      "   - -------------------------------------- 4.4/99.8 MB 667.7 kB/s eta 0:02:23\n",
      "   - -------------------------------------- 4.4/99.8 MB 667.7 kB/s eta 0:02:23\n",
      "   - -------------------------------------- 4.4/99.8 MB 663.1 kB/s eta 0:02:24\n",
      "   - -------------------------------------- 4.4/99.8 MB 663.1 kB/s eta 0:02:24\n",
      "   - -------------------------------------- 4.5/99.8 MB 656.9 kB/s eta 0:02:26\n",
      "   - -------------------------------------- 4.5/99.8 MB 650.9 kB/s eta 0:02:27\n",
      "   - -------------------------------------- 4.5/99.8 MB 650.9 kB/s eta 0:02:27\n",
      "   - -------------------------------------- 4.5/99.8 MB 648.0 kB/s eta 0:02:28\n",
      "   - -------------------------------------- 4.5/99.8 MB 645.1 kB/s eta 0:02:28\n",
      "   - -------------------------------------- 4.5/99.8 MB 645.1 kB/s eta 0:02:28\n",
      "   - -------------------------------------- 4.5/99.8 MB 639.5 kB/s eta 0:02:29\n",
      "   - -------------------------------------- 4.5/99.8 MB 639.5 kB/s eta 0:02:29\n",
      "   - -------------------------------------- 4.5/99.8 MB 632.5 kB/s eta 0:02:31\n",
      "   - -------------------------------------- 4.6/99.8 MB 628.5 kB/s eta 0:02:32\n",
      "   - -------------------------------------- 4.6/99.8 MB 628.6 kB/s eta 0:02:32\n",
      "   - -------------------------------------- 4.6/99.8 MB 624.7 kB/s eta 0:02:33\n",
      "   - -------------------------------------- 4.6/99.8 MB 624.7 kB/s eta 0:02:33\n",
      "   - -------------------------------------- 4.6/99.8 MB 622.2 kB/s eta 0:02:33\n",
      "   - -------------------------------------- 4.6/99.8 MB 619.6 kB/s eta 0:02:34\n",
      "   - -------------------------------------- 4.6/99.8 MB 615.9 kB/s eta 0:02:35\n",
      "   - -------------------------------------- 4.6/99.8 MB 615.9 kB/s eta 0:02:35\n",
      "   - -------------------------------------- 4.6/99.8 MB 615.9 kB/s eta 0:02:35\n",
      "   - -------------------------------------- 4.7/99.8 MB 608.6 kB/s eta 0:02:37\n",
      "   - -------------------------------------- 4.7/99.8 MB 608.6 kB/s eta 0:02:37\n",
      "   - -------------------------------------- 4.7/99.8 MB 602.7 kB/s eta 0:02:38\n",
      "   - -------------------------------------- 4.7/99.8 MB 602.7 kB/s eta 0:02:38\n",
      "   - -------------------------------------- 4.7/99.8 MB 598.1 kB/s eta 0:02:39\n",
      "   - -------------------------------------- 4.7/99.8 MB 598.1 kB/s eta 0:02:39\n",
      "   - -------------------------------------- 4.7/99.8 MB 594.6 kB/s eta 0:02:40\n",
      "   - -------------------------------------- 4.7/99.8 MB 592.5 kB/s eta 0:02:41\n",
      "   - -------------------------------------- 4.8/99.8 MB 589.4 kB/s eta 0:02:42\n",
      "   - -------------------------------------- 4.8/99.8 MB 589.4 kB/s eta 0:02:42\n",
      "   - -------------------------------------- 4.8/99.8 MB 587.2 kB/s eta 0:02:42\n",
      "   - -------------------------------------- 4.8/99.8 MB 587.2 kB/s eta 0:02:42\n",
      "   - -------------------------------------- 4.8/99.8 MB 581.8 kB/s eta 0:02:44\n",
      "   - -------------------------------------- 4.8/99.8 MB 581.8 kB/s eta 0:02:44\n",
      "   - -------------------------------------- 4.8/99.8 MB 576.6 kB/s eta 0:02:45\n",
      "   - -------------------------------------- 4.8/99.8 MB 576.6 kB/s eta 0:02:45\n",
      "   - -------------------------------------- 4.8/99.8 MB 576.6 kB/s eta 0:02:45\n",
      "   - -------------------------------------- 4.8/99.8 MB 568.3 kB/s eta 0:02:48\n",
      "   - -------------------------------------- 4.8/99.8 MB 568.3 kB/s eta 0:02:48\n",
      "   - -------------------------------------- 4.8/99.8 MB 564.5 kB/s eta 0:02:49\n",
      "   - -------------------------------------- 4.8/99.8 MB 564.5 kB/s eta 0:02:49\n",
      "   - -------------------------------------- 4.8/99.8 MB 564.5 kB/s eta 0:02:49\n",
      "   - -------------------------------------- 4.8/99.8 MB 564.5 kB/s eta 0:02:49\n",
      "   - -------------------------------------- 4.9/99.8 MB 554.7 kB/s eta 0:02:52\n",
      "   - -------------------------------------- 4.9/99.8 MB 554.7 kB/s eta 0:02:52\n",
      "   - -------------------------------------- 4.9/99.8 MB 549.0 kB/s eta 0:02:53\n",
      "   - -------------------------------------- 4.9/99.8 MB 549.0 kB/s eta 0:02:53\n",
      "   - -------------------------------------- 4.9/99.8 MB 549.0 kB/s eta 0:02:53\n",
      "   - -------------------------------------- 4.9/99.8 MB 542.7 kB/s eta 0:02:55\n",
      "   - -------------------------------------- 4.9/99.8 MB 542.7 kB/s eta 0:02:55\n",
      "   - -------------------------------------- 4.9/99.8 MB 542.7 kB/s eta 0:02:55\n",
      "   - -------------------------------------- 4.9/99.8 MB 542.7 kB/s eta 0:02:55\n",
      "   - -------------------------------------- 4.9/99.8 MB 542.7 kB/s eta 0:02:55\n",
      "   - -------------------------------------- 4.9/99.8 MB 529.2 kB/s eta 0:03:00\n",
      "   - -------------------------------------- 4.9/99.8 MB 529.2 kB/s eta 0:03:00\n",
      "   - -------------------------------------- 4.9/99.8 MB 527.8 kB/s eta 0:03:00\n",
      "   - -------------------------------------- 4.9/99.8 MB 527.8 kB/s eta 0:03:00\n",
      "   - -------------------------------------- 4.9/99.8 MB 527.8 kB/s eta 0:03:00\n",
      "   - -------------------------------------- 4.9/99.8 MB 522.1 kB/s eta 0:03:02\n",
      "   - -------------------------------------- 4.9/99.8 MB 522.1 kB/s eta 0:03:02\n",
      "   - -------------------------------------- 5.0/99.8 MB 516.4 kB/s eta 0:03:04\n",
      "   - -------------------------------------- 5.0/99.8 MB 516.4 kB/s eta 0:03:04\n",
      "   - -------------------------------------- 5.0/99.8 MB 514.3 kB/s eta 0:03:05\n",
      "   - -------------------------------------- 5.0/99.8 MB 514.3 kB/s eta 0:03:05\n",
      "   - -------------------------------------- 5.0/99.8 MB 510.4 kB/s eta 0:03:06\n",
      "   -- ------------------------------------- 5.0/99.8 MB 509.3 kB/s eta 0:03:07\n",
      "   -- ------------------------------------- 5.0/99.8 MB 509.3 kB/s eta 0:03:07\n",
      "   -- ------------------------------------- 5.0/99.8 MB 507.3 kB/s eta 0:03:07\n",
      "   -- ------------------------------------- 5.0/99.8 MB 505.2 kB/s eta 0:03:08\n",
      "   -- ------------------------------------- 5.1/99.8 MB 504.1 kB/s eta 0:03:08\n",
      "   -- ------------------------------------- 5.1/99.8 MB 501.9 kB/s eta 0:03:09\n",
      "   -- ------------------------------------- 5.1/99.8 MB 501.6 kB/s eta 0:03:09\n",
      "   -- ------------------------------------- 5.1/99.8 MB 501.3 kB/s eta 0:03:09\n",
      "   -- ------------------------------------- 5.1/99.8 MB 501.3 kB/s eta 0:03:09\n",
      "   -- ------------------------------------- 5.1/99.8 MB 499.8 kB/s eta 0:03:10\n",
      "   -- ------------------------------------- 5.2/99.8 MB 498.5 kB/s eta 0:03:10\n",
      "   -- ------------------------------------- 5.2/99.8 MB 498.2 kB/s eta 0:03:10\n",
      "   -- ------------------------------------- 5.2/99.8 MB 498.7 kB/s eta 0:03:10\n",
      "   -- ------------------------------------- 5.2/99.8 MB 497.4 kB/s eta 0:03:11\n",
      "   -- ------------------------------------- 5.2/99.8 MB 497.9 kB/s eta 0:03:10\n",
      "   -- ------------------------------------- 5.2/99.8 MB 496.7 kB/s eta 0:03:11\n",
      "   -- ------------------------------------- 5.3/99.8 MB 496.8 kB/s eta 0:03:11\n",
      "   -- ------------------------------------- 5.3/99.8 MB 496.3 kB/s eta 0:03:11\n",
      "   -- ------------------------------------- 5.3/99.8 MB 496.3 kB/s eta 0:03:11\n",
      "   -- ------------------------------------- 5.3/99.8 MB 496.8 kB/s eta 0:03:11\n",
      "   -- ------------------------------------- 5.4/99.8 MB 496.8 kB/s eta 0:03:11\n",
      "   -- ------------------------------------- 5.4/99.8 MB 497.2 kB/s eta 0:03:10\n",
      "   -- ------------------------------------- 5.4/99.8 MB 497.2 kB/s eta 0:03:10\n",
      "   -- ------------------------------------- 5.4/99.8 MB 497.6 kB/s eta 0:03:10\n",
      "   -- ------------------------------------- 5.5/99.8 MB 497.6 kB/s eta 0:03:10\n",
      "   -- ------------------------------------- 5.5/99.8 MB 497.6 kB/s eta 0:03:10\n",
      "   -- ------------------------------------- 5.5/99.8 MB 498.2 kB/s eta 0:03:10\n",
      "   -- ------------------------------------- 5.6/99.8 MB 498.7 kB/s eta 0:03:09\n",
      "   -- ------------------------------------- 5.6/99.8 MB 499.3 kB/s eta 0:03:09\n",
      "   -- ------------------------------------- 5.6/99.8 MB 500.0 kB/s eta 0:03:09\n",
      "   -- ------------------------------------- 5.6/99.8 MB 500.0 kB/s eta 0:03:09\n",
      "   -- ------------------------------------- 5.7/99.8 MB 501.5 kB/s eta 0:03:08\n",
      "   -- ------------------------------------- 5.7/99.8 MB 502.1 kB/s eta 0:03:08\n",
      "   -- ------------------------------------- 5.7/99.8 MB 503.5 kB/s eta 0:03:07\n",
      "   -- ------------------------------------- 5.8/99.8 MB 504.1 kB/s eta 0:03:07\n",
      "   -- ------------------------------------- 5.8/99.8 MB 505.8 kB/s eta 0:03:06\n",
      "   -- ------------------------------------- 5.9/99.8 MB 506.4 kB/s eta 0:03:06\n",
      "   -- ------------------------------------- 5.9/99.8 MB 507.0 kB/s eta 0:03:06\n",
      "   -- ------------------------------------- 5.9/99.8 MB 508.7 kB/s eta 0:03:05\n",
      "   -- ------------------------------------- 6.0/99.8 MB 509.2 kB/s eta 0:03:05\n",
      "   -- ------------------------------------- 6.0/99.8 MB 511.4 kB/s eta 0:03:04\n",
      "   -- ------------------------------------- 6.1/99.8 MB 512.1 kB/s eta 0:03:03\n",
      "   -- ------------------------------------- 6.1/99.8 MB 514.2 kB/s eta 0:03:03\n",
      "   -- ------------------------------------- 6.1/99.8 MB 515.0 kB/s eta 0:03:02\n",
      "   -- ------------------------------------- 6.2/99.8 MB 517.1 kB/s eta 0:03:01\n",
      "   -- ------------------------------------- 6.2/99.8 MB 517.8 kB/s eta 0:03:01\n",
      "   -- ------------------------------------- 6.3/99.8 MB 520.0 kB/s eta 0:03:00\n",
      "   -- ------------------------------------- 6.3/99.8 MB 520.6 kB/s eta 0:03:00\n",
      "   -- ------------------------------------- 6.3/99.8 MB 522.8 kB/s eta 0:02:59\n",
      "   -- ------------------------------------- 6.4/99.8 MB 524.3 kB/s eta 0:02:59\n",
      "   -- ------------------------------------- 6.5/99.8 MB 526.5 kB/s eta 0:02:58\n",
      "   -- ------------------------------------- 6.5/99.8 MB 527.7 kB/s eta 0:02:57\n",
      "   -- ------------------------------------- 6.5/99.8 MB 529.8 kB/s eta 0:02:56\n",
      "   -- ------------------------------------- 6.6/99.8 MB 531.9 kB/s eta 0:02:56\n",
      "   -- ------------------------------------- 6.6/99.8 MB 533.2 kB/s eta 0:02:55\n",
      "   -- ------------------------------------- 6.7/99.8 MB 535.3 kB/s eta 0:02:54\n",
      "   -- ------------------------------------- 6.7/99.8 MB 538.4 kB/s eta 0:02:53\n",
      "   -- ------------------------------------- 6.8/99.8 MB 539.6 kB/s eta 0:02:53\n",
      "   -- ------------------------------------- 6.8/99.8 MB 541.7 kB/s eta 0:02:52\n",
      "   -- ------------------------------------- 6.9/99.8 MB 543.7 kB/s eta 0:02:51\n",
      "   -- ------------------------------------- 7.0/99.8 MB 546.5 kB/s eta 0:02:50\n",
      "   -- ------------------------------------- 7.0/99.8 MB 548.5 kB/s eta 0:02:50\n",
      "   -- ------------------------------------- 7.1/99.8 MB 550.5 kB/s eta 0:02:49\n",
      "   -- ------------------------------------- 7.1/99.8 MB 552.7 kB/s eta 0:02:48\n",
      "   -- ------------------------------------- 7.2/99.8 MB 555.3 kB/s eta 0:02:47\n",
      "   -- ------------------------------------- 7.2/99.8 MB 558.1 kB/s eta 0:02:46\n",
      "   -- ------------------------------------- 7.3/99.8 MB 560.0 kB/s eta 0:02:46\n",
      "   -- ------------------------------------- 7.4/99.8 MB 562.7 kB/s eta 0:02:45\n",
      "   -- ------------------------------------- 7.4/99.8 MB 564.5 kB/s eta 0:02:44\n",
      "   -- ------------------------------------- 7.5/99.8 MB 567.3 kB/s eta 0:02:43\n",
      "   --- ------------------------------------ 7.5/99.8 MB 570.0 kB/s eta 0:02:42\n",
      "   --- ------------------------------------ 7.6/99.8 MB 572.5 kB/s eta 0:02:42\n",
      "   --- ------------------------------------ 7.6/99.8 MB 574.4 kB/s eta 0:02:41\n",
      "   --- ------------------------------------ 7.7/99.8 MB 577.8 kB/s eta 0:02:40\n",
      "   --- ------------------------------------ 7.8/99.8 MB 580.3 kB/s eta 0:02:39\n",
      "   --- ------------------------------------ 7.8/99.8 MB 583.6 kB/s eta 0:02:38\n",
      "   --- ------------------------------------ 7.9/99.8 MB 585.5 kB/s eta 0:02:37\n",
      "   --- ------------------------------------ 8.0/99.8 MB 588.0 kB/s eta 0:02:37\n",
      "   --- ------------------------------------ 8.0/99.8 MB 591.3 kB/s eta 0:02:36\n",
      "   --- ------------------------------------ 8.1/99.8 MB 594.4 kB/s eta 0:02:35\n",
      "   --- ------------------------------------ 8.2/99.8 MB 597.6 kB/s eta 0:02:34\n",
      "   --- ------------------------------------ 8.2/99.8 MB 600.1 kB/s eta 0:02:33\n",
      "   --- ------------------------------------ 8.3/99.8 MB 603.3 kB/s eta 0:02:32\n",
      "   --- ------------------------------------ 8.4/99.8 MB 605.7 kB/s eta 0:02:31\n",
      "   --- ------------------------------------ 8.4/99.8 MB 608.8 kB/s eta 0:02:30\n",
      "   --- ------------------------------------ 8.5/99.8 MB 611.2 kB/s eta 0:02:30\n",
      "   --- ------------------------------------ 8.6/99.8 MB 615.0 kB/s eta 0:02:29\n",
      "   --- ------------------------------------ 8.7/99.8 MB 618.1 kB/s eta 0:02:28\n",
      "   --- ------------------------------------ 8.7/99.8 MB 621.8 kB/s eta 0:02:27\n",
      "   --- ------------------------------------ 8.8/99.8 MB 624.1 kB/s eta 0:02:26\n",
      "   --- ------------------------------------ 8.9/99.8 MB 627.9 kB/s eta 0:02:25\n",
      "   --- ------------------------------------ 8.9/99.8 MB 630.1 kB/s eta 0:02:25\n",
      "   --- ------------------------------------ 9.0/99.8 MB 633.8 kB/s eta 0:02:24\n",
      "   --- ------------------------------------ 9.1/99.8 MB 636.7 kB/s eta 0:02:23\n",
      "   --- ------------------------------------ 9.2/99.8 MB 640.4 kB/s eta 0:02:22\n",
      "   --- ------------------------------------ 9.3/99.8 MB 644.0 kB/s eta 0:02:21\n",
      "   --- ------------------------------------ 9.3/99.8 MB 647.5 kB/s eta 0:02:20\n",
      "   --- ------------------------------------ 9.4/99.8 MB 651.1 kB/s eta 0:02:19\n",
      "   --- ------------------------------------ 9.5/99.8 MB 654.7 kB/s eta 0:02:18\n",
      "   --- ------------------------------------ 9.6/99.8 MB 658.2 kB/s eta 0:02:17\n",
      "   --- ------------------------------------ 9.7/99.8 MB 661.7 kB/s eta 0:02:17\n",
      "   --- ------------------------------------ 9.8/99.8 MB 665.1 kB/s eta 0:02:16\n",
      "   --- ------------------------------------ 9.8/99.8 MB 667.9 kB/s eta 0:02:15\n",
      "   --- ------------------------------------ 9.9/99.8 MB 672.0 kB/s eta 0:02:14\n",
      "   ---- ----------------------------------- 10.0/99.8 MB 675.4 kB/s eta 0:02:13\n",
      "   ---- ----------------------------------- 10.1/99.8 MB 678.8 kB/s eta 0:02:13\n",
      "   ---- ----------------------------------- 10.2/99.8 MB 682.2 kB/s eta 0:02:12\n",
      "   ---- ----------------------------------- 10.3/99.8 MB 689.2 kB/s eta 0:02:10\n",
      "   ---- ----------------------------------- 10.4/99.8 MB 689.9 kB/s eta 0:02:10\n",
      "   ---- ----------------------------------- 10.5/99.8 MB 690.6 kB/s eta 0:02:10\n",
      "   ---- ----------------------------------- 10.5/99.8 MB 689.8 kB/s eta 0:02:10\n",
      "   ---- ----------------------------------- 10.6/99.8 MB 688.5 kB/s eta 0:02:10\n",
      "   ---- ----------------------------------- 10.7/99.8 MB 688.5 kB/s eta 0:02:10\n",
      "   ---- ----------------------------------- 10.8/99.8 MB 687.0 kB/s eta 0:02:10\n",
      "   ---- ----------------------------------- 10.9/99.8 MB 686.2 kB/s eta 0:02:10\n",
      "   ---- ----------------------------------- 11.0/99.8 MB 684.8 kB/s eta 0:02:10\n",
      "   ---- ----------------------------------- 11.1/99.8 MB 685.6 kB/s eta 0:02:10\n",
      "   ---- ----------------------------------- 11.2/99.8 MB 684.1 kB/s eta 0:02:10\n",
      "   ---- ----------------------------------- 11.3/99.8 MB 683.4 kB/s eta 0:02:10\n",
      "   ---- ----------------------------------- 11.4/99.8 MB 682.7 kB/s eta 0:02:10\n",
      "   ---- ----------------------------------- 11.5/99.8 MB 682.0 kB/s eta 0:02:10\n",
      "   ---- ----------------------------------- 11.6/99.8 MB 681.3 kB/s eta 0:02:10\n",
      "   ---- ----------------------------------- 11.7/99.8 MB 681.3 kB/s eta 0:02:10\n",
      "   ---- ----------------------------------- 11.8/99.8 MB 680.5 kB/s eta 0:02:10\n",
      "   ---- ----------------------------------- 11.9/99.8 MB 680.6 kB/s eta 0:02:10\n",
      "   ---- ----------------------------------- 12.0/99.8 MB 679.9 kB/s eta 0:02:10\n",
      "   ---- ----------------------------------- 12.1/99.8 MB 679.2 kB/s eta 0:02:10\n",
      "   ---- ----------------------------------- 12.2/99.8 MB 678.5 kB/s eta 0:02:10\n",
      "   ---- ----------------------------------- 12.3/99.8 MB 677.7 kB/s eta 0:02:10\n",
      "   ---- ----------------------------------- 12.4/99.8 MB 677.7 kB/s eta 0:02:09\n",
      "   ----- ---------------------------------- 12.5/99.8 MB 677.1 kB/s eta 0:02:09\n",
      "   ----- ---------------------------------- 12.6/99.8 MB 676.3 kB/s eta 0:02:09\n",
      "   ----- ---------------------------------- 12.7/99.8 MB 675.6 kB/s eta 0:02:09\n",
      "   ----- ---------------------------------- 12.8/99.8 MB 675.0 kB/s eta 0:02:09\n",
      "   ----- ---------------------------------- 12.9/99.8 MB 674.3 kB/s eta 0:02:09\n",
      "   ----- ---------------------------------- 13.0/99.8 MB 673.5 kB/s eta 0:02:09\n",
      "   ----- ---------------------------------- 13.1/99.8 MB 679.1 kB/s eta 0:02:08\n",
      "   ----- ---------------------------------- 13.3/99.8 MB 678.5 kB/s eta 0:02:08\n",
      "   ----- ---------------------------------- 13.4/99.8 MB 676.3 kB/s eta 0:02:08\n",
      "   ----- ---------------------------------- 13.5/99.8 MB 674.3 kB/s eta 0:02:08\n",
      "   ----- ---------------------------------- 13.6/99.8 MB 680.6 kB/s eta 0:02:07\n",
      "   ----- ---------------------------------- 13.7/99.8 MB 681.3 kB/s eta 0:02:07\n",
      "   ----- ---------------------------------- 13.9/99.8 MB 682.0 kB/s eta 0:02:06\n",
      "   ----- ---------------------------------- 14.0/99.8 MB 687.7 kB/s eta 0:02:05\n",
      "   ----- ---------------------------------- 14.1/99.8 MB 696.5 kB/s eta 0:02:03\n",
      "   ----- ---------------------------------- 14.2/99.8 MB 701.7 kB/s eta 0:02:02\n",
      "   ----- ---------------------------------- 14.4/99.8 MB 721.0 kB/s eta 0:01:59\n",
      "   ----- ---------------------------------- 14.5/99.8 MB 786.9 kB/s eta 0:01:49\n",
      "   ----- ---------------------------------- 14.6/99.8 MB 980.0 kB/s eta 0:01:27\n",
      "   ----- ---------------------------------- 14.8/99.8 MB 1.0 MB/s eta 0:01:23\n",
      "   ----- ---------------------------------- 14.9/99.8 MB 1.1 MB/s eta 0:01:18\n",
      "   ------ --------------------------------- 15.0/99.8 MB 1.2 MB/s eta 0:01:13\n",
      "   ------ --------------------------------- 15.2/99.8 MB 1.4 MB/s eta 0:01:02\n",
      "   ------ --------------------------------- 15.4/99.8 MB 1.5 MB/s eta 0:00:57\n",
      "   ------ --------------------------------- 15.5/99.8 MB 1.6 MB/s eta 0:00:54\n",
      "   ------ --------------------------------- 15.7/99.8 MB 1.6 MB/s eta 0:00:52\n",
      "   ------ --------------------------------- 15.9/99.8 MB 1.7 MB/s eta 0:00:50\n",
      "   ------ --------------------------------- 16.0/99.8 MB 1.7 MB/s eta 0:00:48\n",
      "   ------ --------------------------------- 16.2/99.8 MB 1.8 MB/s eta 0:00:47\n",
      "   ------ --------------------------------- 16.3/99.8 MB 1.8 MB/s eta 0:00:46\n",
      "   ------ --------------------------------- 16.5/99.8 MB 1.9 MB/s eta 0:00:45\n",
      "   ------ --------------------------------- 16.7/99.8 MB 1.9 MB/s eta 0:00:43\n",
      "   ------ --------------------------------- 16.9/99.8 MB 2.0 MB/s eta 0:00:42\n",
      "   ------ --------------------------------- 17.1/99.8 MB 2.0 MB/s eta 0:00:41\n",
      "   ------ --------------------------------- 17.3/99.8 MB 2.1 MB/s eta 0:00:40\n",
      "   ------- -------------------------------- 17.5/99.8 MB 2.1 MB/s eta 0:00:39\n",
      "   ------- -------------------------------- 17.7/99.8 MB 2.2 MB/s eta 0:00:38\n",
      "   ------- -------------------------------- 17.8/99.8 MB 2.2 MB/s eta 0:00:37\n",
      "   ------- -------------------------------- 18.1/99.8 MB 2.3 MB/s eta 0:00:36\n",
      "   ------- -------------------------------- 18.2/99.8 MB 2.3 MB/s eta 0:00:36\n",
      "   ------- -------------------------------- 18.4/99.8 MB 2.4 MB/s eta 0:00:35\n",
      "   ------- -------------------------------- 18.6/99.8 MB 2.4 MB/s eta 0:00:34\n",
      "   ------- -------------------------------- 18.8/99.8 MB 2.5 MB/s eta 0:00:33\n",
      "   ------- -------------------------------- 19.0/99.8 MB 2.5 MB/s eta 0:00:32\n",
      "   ------- -------------------------------- 19.2/99.8 MB 2.6 MB/s eta 0:00:31\n",
      "   ------- -------------------------------- 19.4/99.8 MB 2.6 MB/s eta 0:00:31\n",
      "   ------- -------------------------------- 19.7/99.8 MB 2.7 MB/s eta 0:00:30\n",
      "   ------- -------------------------------- 19.9/99.8 MB 2.8 MB/s eta 0:00:29\n",
      "   -------- ------------------------------- 20.1/99.8 MB 2.8 MB/s eta 0:00:29\n",
      "   -------- ------------------------------- 20.4/99.8 MB 2.9 MB/s eta 0:00:28\n",
      "   -------- ------------------------------- 20.6/99.8 MB 3.0 MB/s eta 0:00:27\n",
      "   -------- ------------------------------- 20.8/99.8 MB 3.0 MB/s eta 0:00:26\n",
      "   -------- ------------------------------- 21.1/99.8 MB 3.1 MB/s eta 0:00:25\n",
      "   -------- ------------------------------- 21.4/99.8 MB 3.2 MB/s eta 0:00:25\n",
      "   -------- ------------------------------- 21.6/99.8 MB 3.3 MB/s eta 0:00:24\n",
      "   -------- ------------------------------- 21.9/99.8 MB 3.4 MB/s eta 0:00:24\n",
      "   -------- ------------------------------- 22.1/99.8 MB 3.5 MB/s eta 0:00:23\n",
      "   -------- ------------------------------- 22.4/99.8 MB 3.5 MB/s eta 0:00:22\n",
      "   --------- ------------------------------ 22.6/99.8 MB 3.6 MB/s eta 0:00:22\n",
      "   --------- ------------------------------ 22.8/99.8 MB 3.7 MB/s eta 0:00:21\n",
      "   --------- ------------------------------ 23.1/99.8 MB 3.8 MB/s eta 0:00:21\n",
      "   --------- ------------------------------ 23.4/99.8 MB 3.9 MB/s eta 0:00:20\n",
      "   --------- ------------------------------ 23.7/99.8 MB 4.0 MB/s eta 0:00:19\n",
      "   --------- ------------------------------ 23.9/99.8 MB 4.1 MB/s eta 0:00:19\n",
      "   --------- ------------------------------ 24.2/99.8 MB 4.2 MB/s eta 0:00:19\n",
      "   --------- ------------------------------ 24.5/99.8 MB 4.3 MB/s eta 0:00:18\n",
      "   --------- ------------------------------ 24.8/99.8 MB 4.4 MB/s eta 0:00:18\n",
      "   ---------- ----------------------------- 25.0/99.8 MB 4.5 MB/s eta 0:00:17\n",
      "   ---------- ----------------------------- 25.4/99.8 MB 4.6 MB/s eta 0:00:17\n",
      "   ---------- ----------------------------- 25.7/99.8 MB 4.7 MB/s eta 0:00:16\n",
      "   ---------- ----------------------------- 25.9/99.8 MB 4.8 MB/s eta 0:00:16\n",
      "   ---------- ----------------------------- 26.2/99.8 MB 4.8 MB/s eta 0:00:16\n",
      "   ---------- ----------------------------- 26.5/99.8 MB 4.9 MB/s eta 0:00:15\n",
      "   ---------- ----------------------------- 26.8/99.8 MB 5.0 MB/s eta 0:00:15\n",
      "   ---------- ----------------------------- 27.1/99.8 MB 5.1 MB/s eta 0:00:15\n",
      "   ---------- ----------------------------- 27.4/99.8 MB 5.2 MB/s eta 0:00:15\n",
      "   ----------- ---------------------------- 27.7/99.8 MB 5.2 MB/s eta 0:00:14\n",
      "   ----------- ---------------------------- 28.0/99.8 MB 5.3 MB/s eta 0:00:14\n",
      "   ----------- ---------------------------- 28.3/99.8 MB 5.4 MB/s eta 0:00:14\n",
      "   ----------- ---------------------------- 28.6/99.8 MB 5.5 MB/s eta 0:00:14\n",
      "   ----------- ---------------------------- 28.9/99.8 MB 5.6 MB/s eta 0:00:13\n",
      "   ----------- ---------------------------- 29.1/99.8 MB 5.5 MB/s eta 0:00:13\n",
      "   ----------- ---------------------------- 29.4/99.8 MB 5.6 MB/s eta 0:00:13\n",
      "   ----------- ---------------------------- 29.7/99.8 MB 5.6 MB/s eta 0:00:13\n",
      "   ------------ --------------------------- 29.9/99.8 MB 5.7 MB/s eta 0:00:13\n",
      "   ------------ --------------------------- 30.2/99.8 MB 5.7 MB/s eta 0:00:13\n",
      "   ------------ --------------------------- 30.6/99.8 MB 5.8 MB/s eta 0:00:12\n",
      "   ------------ --------------------------- 30.9/99.8 MB 5.7 MB/s eta 0:00:12\n",
      "   ------------ --------------------------- 31.2/99.8 MB 5.8 MB/s eta 0:00:12\n",
      "   ------------ --------------------------- 31.5/99.8 MB 5.8 MB/s eta 0:00:12\n",
      "   ------------ --------------------------- 31.8/99.8 MB 5.9 MB/s eta 0:00:12\n",
      "   ------------ --------------------------- 32.0/99.8 MB 5.9 MB/s eta 0:00:12\n",
      "   ------------ --------------------------- 32.4/99.8 MB 6.0 MB/s eta 0:00:12\n",
      "   ------------- -------------------------- 32.7/99.8 MB 6.0 MB/s eta 0:00:12\n",
      "   ------------- -------------------------- 33.0/99.8 MB 6.1 MB/s eta 0:00:12\n",
      "   ------------- -------------------------- 33.2/99.8 MB 6.1 MB/s eta 0:00:11\n",
      "   ------------- -------------------------- 33.6/99.8 MB 6.1 MB/s eta 0:00:11\n",
      "   ------------- -------------------------- 33.9/99.8 MB 6.1 MB/s eta 0:00:11\n",
      "   ------------- -------------------------- 34.2/99.8 MB 6.2 MB/s eta 0:00:11\n",
      "   ------------- -------------------------- 34.5/99.8 MB 6.2 MB/s eta 0:00:11\n",
      "   ------------- -------------------------- 34.8/99.8 MB 6.2 MB/s eta 0:00:11\n",
      "   -------------- ------------------------- 35.2/99.8 MB 6.2 MB/s eta 0:00:11\n",
      "   -------------- ------------------------- 35.4/99.8 MB 6.2 MB/s eta 0:00:11\n",
      "   -------------- ------------------------- 35.6/99.8 MB 6.2 MB/s eta 0:00:11\n",
      "   -------------- ------------------------- 35.7/99.8 MB 6.0 MB/s eta 0:00:11\n",
      "   -------------- ------------------------- 35.8/99.8 MB 6.0 MB/s eta 0:00:11\n",
      "   -------------- ------------------------- 35.8/99.8 MB 6.0 MB/s eta 0:00:11\n",
      "   -------------- ------------------------- 35.8/99.8 MB 6.0 MB/s eta 0:00:11\n",
      "   -------------- ------------------------- 36.6/99.8 MB 5.8 MB/s eta 0:00:11\n",
      "   -------------- ------------------------- 36.8/99.8 MB 5.8 MB/s eta 0:00:11\n",
      "   -------------- ------------------------- 36.9/99.8 MB 5.7 MB/s eta 0:00:11\n",
      "   -------------- ------------------------- 37.2/99.8 MB 5.7 MB/s eta 0:00:11\n",
      "   -------------- ------------------------- 37.4/99.8 MB 5.7 MB/s eta 0:00:11\n",
      "   --------------- ------------------------ 37.4/99.8 MB 5.5 MB/s eta 0:00:12\n",
      "   --------------- ------------------------ 37.5/99.8 MB 5.5 MB/s eta 0:00:12\n",
      "   --------------- ------------------------ 37.9/99.8 MB 5.5 MB/s eta 0:00:12\n",
      "   --------------- ------------------------ 38.1/99.8 MB 5.5 MB/s eta 0:00:12\n",
      "   --------------- ------------------------ 38.2/99.8 MB 5.4 MB/s eta 0:00:12\n",
      "   --------------- ------------------------ 38.4/99.8 MB 5.3 MB/s eta 0:00:12\n",
      "   --------------- ------------------------ 38.5/99.8 MB 5.2 MB/s eta 0:00:12\n",
      "   --------------- ------------------------ 38.7/99.8 MB 5.1 MB/s eta 0:00:12\n",
      "   --------------- ------------------------ 38.8/99.8 MB 5.1 MB/s eta 0:00:12\n",
      "   --------------- ------------------------ 39.0/99.8 MB 5.0 MB/s eta 0:00:13\n",
      "   --------------- ------------------------ 39.1/99.8 MB 5.0 MB/s eta 0:00:13\n",
      "   --------------- ------------------------ 39.2/99.8 MB 5.0 MB/s eta 0:00:13\n",
      "   --------------- ------------------------ 39.4/99.8 MB 4.9 MB/s eta 0:00:13\n",
      "   --------------- ------------------------ 39.6/99.8 MB 4.8 MB/s eta 0:00:13\n",
      "   --------------- ------------------------ 39.7/99.8 MB 4.8 MB/s eta 0:00:13\n",
      "   --------------- ------------------------ 39.8/99.8 MB 4.7 MB/s eta 0:00:13\n",
      "   ---------------- ----------------------- 40.0/99.8 MB 4.7 MB/s eta 0:00:13\n",
      "   ---------------- ----------------------- 40.2/99.8 MB 4.6 MB/s eta 0:00:13\n",
      "   ---------------- ----------------------- 40.3/99.8 MB 4.6 MB/s eta 0:00:13\n",
      "   ---------------- ----------------------- 40.5/99.8 MB 4.5 MB/s eta 0:00:14\n",
      "   ---------------- ----------------------- 40.6/99.8 MB 4.5 MB/s eta 0:00:14\n",
      "   ---------------- ----------------------- 40.8/99.8 MB 4.5 MB/s eta 0:00:14\n",
      "   ---------------- ----------------------- 41.0/99.8 MB 4.4 MB/s eta 0:00:14\n",
      "   ---------------- ----------------------- 41.1/99.8 MB 4.4 MB/s eta 0:00:14\n",
      "   ---------------- ----------------------- 41.3/99.8 MB 4.3 MB/s eta 0:00:14\n",
      "   ---------------- ----------------------- 41.4/99.8 MB 4.3 MB/s eta 0:00:14\n",
      "   ---------------- ----------------------- 41.6/99.8 MB 4.2 MB/s eta 0:00:14\n",
      "   ---------------- ----------------------- 41.7/99.8 MB 4.2 MB/s eta 0:00:14\n",
      "   ---------------- ----------------------- 41.9/99.8 MB 4.1 MB/s eta 0:00:14\n",
      "   ---------------- ----------------------- 42.1/99.8 MB 4.1 MB/s eta 0:00:15\n",
      "   ---------------- ----------------------- 42.2/99.8 MB 4.1 MB/s eta 0:00:14\n",
      "   ---------------- ----------------------- 42.4/99.8 MB 4.1 MB/s eta 0:00:15\n",
      "   ----------------- ---------------------- 42.5/99.8 MB 4.0 MB/s eta 0:00:15\n",
      "   ----------------- ---------------------- 42.7/99.8 MB 4.0 MB/s eta 0:00:15\n",
      "   ----------------- ---------------------- 42.9/99.8 MB 4.0 MB/s eta 0:00:15\n",
      "   ----------------- ---------------------- 43.0/99.8 MB 3.9 MB/s eta 0:00:15\n",
      "   ----------------- ---------------------- 43.2/99.8 MB 3.9 MB/s eta 0:00:15\n",
      "   ----------------- ---------------------- 43.4/99.8 MB 3.9 MB/s eta 0:00:15\n",
      "   ----------------- ---------------------- 43.5/99.8 MB 3.9 MB/s eta 0:00:15\n",
      "   ----------------- ---------------------- 43.7/99.8 MB 3.8 MB/s eta 0:00:15\n",
      "   ----------------- ---------------------- 43.9/99.8 MB 3.8 MB/s eta 0:00:15\n",
      "   ----------------- ---------------------- 44.0/99.8 MB 3.7 MB/s eta 0:00:15\n",
      "   ----------------- ---------------------- 44.2/99.8 MB 3.7 MB/s eta 0:00:16\n",
      "   ----------------- ---------------------- 44.3/99.8 MB 3.7 MB/s eta 0:00:16\n",
      "   ----------------- ---------------------- 44.5/99.8 MB 3.6 MB/s eta 0:00:16\n",
      "   ----------------- ---------------------- 44.6/99.8 MB 3.6 MB/s eta 0:00:16\n",
      "   ----------------- ---------------------- 44.8/99.8 MB 3.6 MB/s eta 0:00:16\n",
      "   ------------------ --------------------- 45.0/99.8 MB 3.6 MB/s eta 0:00:16\n",
      "   ------------------ --------------------- 45.2/99.8 MB 3.5 MB/s eta 0:00:16\n",
      "   ------------------ --------------------- 45.3/99.8 MB 3.5 MB/s eta 0:00:16\n",
      "   ------------------ --------------------- 45.5/99.8 MB 3.5 MB/s eta 0:00:16\n",
      "   ------------------ --------------------- 45.7/99.8 MB 3.5 MB/s eta 0:00:16\n",
      "   ------------------ --------------------- 45.8/99.8 MB 3.4 MB/s eta 0:00:16\n",
      "   ------------------ --------------------- 46.0/99.8 MB 3.7 MB/s eta 0:00:15\n",
      "   ------------------ --------------------- 46.2/99.8 MB 3.6 MB/s eta 0:00:15\n",
      "   ------------------ --------------------- 46.4/99.8 MB 3.5 MB/s eta 0:00:16\n",
      "   ------------------ --------------------- 46.5/99.8 MB 3.5 MB/s eta 0:00:16\n",
      "   ------------------ --------------------- 46.7/99.8 MB 3.4 MB/s eta 0:00:16\n",
      "   ------------------ --------------------- 46.9/99.8 MB 3.4 MB/s eta 0:00:16\n",
      "   ------------------ --------------------- 47.1/99.8 MB 3.4 MB/s eta 0:00:16\n",
      "   ------------------ --------------------- 47.2/99.8 MB 3.4 MB/s eta 0:00:16\n",
      "   ------------------- -------------------- 47.4/99.8 MB 3.4 MB/s eta 0:00:16\n",
      "   ------------------- -------------------- 47.6/99.8 MB 3.4 MB/s eta 0:00:16\n",
      "   ------------------- -------------------- 47.8/99.8 MB 3.5 MB/s eta 0:00:16\n",
      "   ------------------- -------------------- 47.9/99.8 MB 3.4 MB/s eta 0:00:16\n",
      "   ------------------- -------------------- 48.1/99.8 MB 3.4 MB/s eta 0:00:16\n",
      "   ------------------- -------------------- 48.3/99.8 MB 3.4 MB/s eta 0:00:16\n",
      "   ------------------- -------------------- 48.5/99.8 MB 3.4 MB/s eta 0:00:15\n",
      "   ------------------- -------------------- 48.7/99.8 MB 3.4 MB/s eta 0:00:15\n",
      "   ------------------- -------------------- 48.9/99.8 MB 3.4 MB/s eta 0:00:15\n",
      "   ------------------- -------------------- 49.1/99.8 MB 3.4 MB/s eta 0:00:15\n",
      "   ------------------- -------------------- 49.2/99.8 MB 3.4 MB/s eta 0:00:15\n",
      "   ------------------- -------------------- 49.4/99.8 MB 3.4 MB/s eta 0:00:15\n",
      "   ------------------- -------------------- 49.6/99.8 MB 3.5 MB/s eta 0:00:15\n",
      "   ------------------- -------------------- 49.8/99.8 MB 3.5 MB/s eta 0:00:15\n",
      "   -------------------- ------------------- 49.9/99.8 MB 3.5 MB/s eta 0:00:15\n",
      "   -------------------- ------------------- 50.2/99.8 MB 3.5 MB/s eta 0:00:15\n",
      "   -------------------- ------------------- 50.3/99.8 MB 3.5 MB/s eta 0:00:14\n",
      "   -------------------- ------------------- 50.5/99.8 MB 3.6 MB/s eta 0:00:14\n",
      "   -------------------- ------------------- 50.7/99.8 MB 3.6 MB/s eta 0:00:14\n",
      "   -------------------- ------------------- 50.9/99.8 MB 3.6 MB/s eta 0:00:14\n",
      "   -------------------- ------------------- 51.1/99.8 MB 3.6 MB/s eta 0:00:14\n",
      "   -------------------- ------------------- 51.3/99.8 MB 3.6 MB/s eta 0:00:14\n",
      "   -------------------- ------------------- 51.5/99.8 MB 3.6 MB/s eta 0:00:14\n",
      "   -------------------- ------------------- 51.7/99.8 MB 3.7 MB/s eta 0:00:14\n",
      "   -------------------- ------------------- 51.9/99.8 MB 3.7 MB/s eta 0:00:14\n",
      "   -------------------- ------------------- 52.1/99.8 MB 3.7 MB/s eta 0:00:14\n",
      "   -------------------- ------------------- 52.3/99.8 MB 3.7 MB/s eta 0:00:13\n",
      "   --------------------- ------------------ 52.4/99.8 MB 3.7 MB/s eta 0:00:13\n",
      "   --------------------- ------------------ 52.7/99.8 MB 3.7 MB/s eta 0:00:13\n",
      "   --------------------- ------------------ 52.9/99.8 MB 3.7 MB/s eta 0:00:13\n",
      "   --------------------- ------------------ 53.1/99.8 MB 3.7 MB/s eta 0:00:13\n",
      "   --------------------- ------------------ 53.3/99.8 MB 3.8 MB/s eta 0:00:13\n",
      "   --------------------- ------------------ 53.5/99.8 MB 3.8 MB/s eta 0:00:13\n",
      "   --------------------- ------------------ 53.7/99.8 MB 3.8 MB/s eta 0:00:13\n",
      "   --------------------- ------------------ 53.9/99.8 MB 3.8 MB/s eta 0:00:13\n",
      "   --------------------- ------------------ 54.1/99.8 MB 3.8 MB/s eta 0:00:12\n",
      "   --------------------- ------------------ 54.3/99.8 MB 3.9 MB/s eta 0:00:12\n",
      "   --------------------- ------------------ 54.4/99.8 MB 3.9 MB/s eta 0:00:12\n",
      "   --------------------- ------------------ 54.6/99.8 MB 3.8 MB/s eta 0:00:12\n",
      "   --------------------- ------------------ 54.8/99.8 MB 3.9 MB/s eta 0:00:12\n",
      "   ---------------------- ----------------- 55.0/99.8 MB 3.9 MB/s eta 0:00:12\n",
      "   ---------------------- ----------------- 55.1/99.8 MB 3.9 MB/s eta 0:00:12\n",
      "   ---------------------- ----------------- 55.4/99.8 MB 3.9 MB/s eta 0:00:12\n",
      "   ---------------------- ----------------- 55.6/99.8 MB 3.9 MB/s eta 0:00:12\n",
      "   ---------------------- ----------------- 55.7/99.8 MB 3.9 MB/s eta 0:00:12\n",
      "   ---------------------- ----------------- 55.9/99.8 MB 3.9 MB/s eta 0:00:12\n",
      "   ---------------------- ----------------- 56.1/99.8 MB 3.9 MB/s eta 0:00:12\n",
      "   ---------------------- ----------------- 56.4/99.8 MB 3.9 MB/s eta 0:00:12\n",
      "   ---------------------- ----------------- 56.6/99.8 MB 4.0 MB/s eta 0:00:11\n",
      "   ---------------------- ----------------- 56.8/99.8 MB 4.0 MB/s eta 0:00:11\n",
      "   ---------------------- ----------------- 57.0/99.8 MB 4.0 MB/s eta 0:00:11\n",
      "   ---------------------- ----------------- 57.2/99.8 MB 4.0 MB/s eta 0:00:11\n",
      "   ----------------------- ---------------- 57.4/99.8 MB 4.0 MB/s eta 0:00:11\n",
      "   ----------------------- ---------------- 57.6/99.8 MB 4.0 MB/s eta 0:00:11\n",
      "   ----------------------- ---------------- 57.8/99.8 MB 4.0 MB/s eta 0:00:11\n",
      "   ----------------------- ---------------- 57.9/99.8 MB 4.0 MB/s eta 0:00:11\n",
      "   ----------------------- ---------------- 58.2/99.8 MB 4.0 MB/s eta 0:00:11\n",
      "   ----------------------- ---------------- 58.3/99.8 MB 4.0 MB/s eta 0:00:11\n",
      "   ----------------------- ---------------- 58.5/99.8 MB 4.0 MB/s eta 0:00:11\n",
      "   ----------------------- ---------------- 58.8/99.8 MB 4.0 MB/s eta 0:00:11\n",
      "   ----------------------- ---------------- 59.0/99.8 MB 4.0 MB/s eta 0:00:11\n",
      "   ----------------------- ---------------- 59.2/99.8 MB 4.0 MB/s eta 0:00:11\n",
      "   ----------------------- ---------------- 59.4/99.8 MB 4.1 MB/s eta 0:00:10\n",
      "   ----------------------- ---------------- 59.6/99.8 MB 4.1 MB/s eta 0:00:10\n",
      "   ----------------------- ---------------- 59.8/99.8 MB 4.1 MB/s eta 0:00:10\n",
      "   ------------------------ --------------- 60.0/99.8 MB 4.1 MB/s eta 0:00:10\n",
      "   ------------------------ --------------- 60.3/99.8 MB 4.1 MB/s eta 0:00:10\n",
      "   ------------------------ --------------- 60.5/99.8 MB 4.1 MB/s eta 0:00:10\n",
      "   ------------------------ --------------- 60.7/99.8 MB 4.2 MB/s eta 0:00:10\n",
      "   ------------------------ --------------- 60.9/99.8 MB 4.2 MB/s eta 0:00:10\n",
      "   ------------------------ --------------- 61.1/99.8 MB 4.2 MB/s eta 0:00:10\n",
      "   ------------------------ --------------- 61.3/99.8 MB 4.2 MB/s eta 0:00:10\n",
      "   ------------------------ --------------- 61.5/99.8 MB 4.2 MB/s eta 0:00:10\n",
      "   ------------------------ --------------- 61.7/99.8 MB 4.2 MB/s eta 0:00:10\n",
      "   ------------------------ --------------- 61.9/99.8 MB 4.2 MB/s eta 0:00:10\n",
      "   ------------------------ --------------- 62.1/99.8 MB 4.2 MB/s eta 0:00:09\n",
      "   ------------------------ --------------- 62.3/99.8 MB 4.2 MB/s eta 0:00:09\n",
      "   ------------------------- -------------- 62.5/99.8 MB 4.2 MB/s eta 0:00:09\n",
      "   ------------------------- -------------- 62.7/99.8 MB 4.2 MB/s eta 0:00:09\n",
      "   ------------------------- -------------- 62.9/99.8 MB 4.2 MB/s eta 0:00:09\n",
      "   ------------------------- -------------- 63.1/99.8 MB 4.2 MB/s eta 0:00:09\n",
      "   ------------------------- -------------- 63.3/99.8 MB 4.2 MB/s eta 0:00:09\n",
      "   ------------------------- -------------- 63.6/99.8 MB 4.2 MB/s eta 0:00:09\n",
      "   ------------------------- -------------- 63.8/99.8 MB 4.2 MB/s eta 0:00:09\n",
      "   ------------------------- -------------- 64.0/99.8 MB 4.3 MB/s eta 0:00:09\n",
      "   ------------------------- -------------- 64.2/99.8 MB 4.3 MB/s eta 0:00:09\n",
      "   ------------------------- -------------- 64.4/99.8 MB 4.3 MB/s eta 0:00:09\n",
      "   ------------------------- -------------- 64.6/99.8 MB 4.3 MB/s eta 0:00:09\n",
      "   ------------------------- -------------- 64.8/99.8 MB 4.3 MB/s eta 0:00:09\n",
      "   -------------------------- ------------- 65.1/99.8 MB 4.3 MB/s eta 0:00:09\n",
      "   -------------------------- ------------- 65.3/99.8 MB 4.3 MB/s eta 0:00:09\n",
      "   -------------------------- ------------- 65.5/99.8 MB 4.3 MB/s eta 0:00:08\n",
      "   -------------------------- ------------- 65.7/99.8 MB 4.3 MB/s eta 0:00:08\n",
      "   -------------------------- ------------- 65.9/99.8 MB 4.4 MB/s eta 0:00:08\n",
      "   -------------------------- ------------- 66.2/99.8 MB 4.4 MB/s eta 0:00:08\n",
      "   -------------------------- ------------- 66.2/99.8 MB 4.4 MB/s eta 0:00:08\n",
      "   -------------------------- ------------- 66.4/99.8 MB 4.3 MB/s eta 0:00:08\n",
      "   -------------------------- ------------- 66.7/99.8 MB 4.3 MB/s eta 0:00:08\n",
      "   -------------------------- ------------- 66.8/99.8 MB 4.3 MB/s eta 0:00:08\n",
      "   -------------------------- ------------- 67.0/99.8 MB 4.3 MB/s eta 0:00:08\n",
      "   -------------------------- ------------- 67.2/99.8 MB 4.3 MB/s eta 0:00:08\n",
      "   --------------------------- ------------ 67.4/99.8 MB 4.3 MB/s eta 0:00:08\n",
      "   --------------------------- ------------ 67.6/99.8 MB 4.3 MB/s eta 0:00:08\n",
      "   --------------------------- ------------ 67.7/99.8 MB 4.3 MB/s eta 0:00:08\n",
      "   --------------------------- ------------ 67.9/99.8 MB 4.2 MB/s eta 0:00:08\n",
      "   --------------------------- ------------ 68.1/99.8 MB 4.2 MB/s eta 0:00:08\n",
      "   --------------------------- ------------ 68.3/99.8 MB 4.2 MB/s eta 0:00:08\n",
      "   --------------------------- ------------ 68.5/99.8 MB 4.2 MB/s eta 0:00:08\n",
      "   --------------------------- ------------ 68.6/99.8 MB 4.2 MB/s eta 0:00:08\n",
      "   --------------------------- ------------ 68.8/99.8 MB 4.2 MB/s eta 0:00:08\n",
      "   --------------------------- ------------ 69.0/99.8 MB 4.2 MB/s eta 0:00:08\n",
      "   --------------------------- ------------ 69.2/99.8 MB 4.2 MB/s eta 0:00:08\n",
      "   --------------------------- ------------ 69.4/99.8 MB 4.2 MB/s eta 0:00:08\n",
      "   --------------------------- ------------ 69.6/99.8 MB 4.2 MB/s eta 0:00:08\n",
      "   --------------------------- ------------ 69.8/99.8 MB 4.2 MB/s eta 0:00:08\n",
      "   ---------------------------- ----------- 69.9/99.8 MB 4.1 MB/s eta 0:00:08\n",
      "   ---------------------------- ----------- 70.1/99.8 MB 4.1 MB/s eta 0:00:08\n",
      "   ---------------------------- ----------- 70.3/99.8 MB 4.1 MB/s eta 0:00:08\n",
      "   ---------------------------- ----------- 70.5/99.8 MB 4.1 MB/s eta 0:00:08\n",
      "   ---------------------------- ----------- 70.7/99.8 MB 4.1 MB/s eta 0:00:08\n",
      "   ---------------------------- ----------- 70.8/99.8 MB 4.1 MB/s eta 0:00:08\n",
      "   ---------------------------- ----------- 71.0/99.8 MB 4.1 MB/s eta 0:00:08\n",
      "   ---------------------------- ----------- 71.2/99.8 MB 4.1 MB/s eta 0:00:08\n",
      "   ---------------------------- ----------- 71.4/99.8 MB 4.0 MB/s eta 0:00:08\n",
      "   ---------------------------- ----------- 71.6/99.8 MB 4.0 MB/s eta 0:00:07\n",
      "   ---------------------------- ----------- 71.8/99.8 MB 4.0 MB/s eta 0:00:07\n",
      "   ---------------------------- ----------- 71.9/99.8 MB 4.0 MB/s eta 0:00:07\n",
      "   ---------------------------- ----------- 72.1/99.8 MB 4.0 MB/s eta 0:00:07\n",
      "   ----------------------------- ---------- 72.3/99.8 MB 4.1 MB/s eta 0:00:07\n",
      "   ----------------------------- ---------- 72.5/99.8 MB 4.0 MB/s eta 0:00:07\n",
      "   ----------------------------- ---------- 72.7/99.8 MB 4.0 MB/s eta 0:00:07\n",
      "   ----------------------------- ---------- 72.9/99.8 MB 4.0 MB/s eta 0:00:07\n",
      "   ----------------------------- ---------- 73.1/99.8 MB 4.0 MB/s eta 0:00:07\n",
      "   ----------------------------- ---------- 73.3/99.8 MB 4.0 MB/s eta 0:00:07\n",
      "   ----------------------------- ---------- 73.5/99.8 MB 4.0 MB/s eta 0:00:07\n",
      "   ----------------------------- ---------- 73.7/99.8 MB 4.0 MB/s eta 0:00:07\n",
      "   ----------------------------- ---------- 73.8/99.8 MB 4.0 MB/s eta 0:00:07\n",
      "   ----------------------------- ---------- 74.0/99.8 MB 3.9 MB/s eta 0:00:07\n",
      "   ----------------------------- ---------- 74.1/99.8 MB 3.9 MB/s eta 0:00:07\n",
      "   ----------------------------- ---------- 74.3/99.8 MB 3.9 MB/s eta 0:00:07\n",
      "   ----------------------------- ---------- 74.4/99.8 MB 3.9 MB/s eta 0:00:07\n",
      "   ----------------------------- ---------- 74.6/99.8 MB 3.9 MB/s eta 0:00:07\n",
      "   ----------------------------- ---------- 74.8/99.8 MB 3.9 MB/s eta 0:00:07\n",
      "   ------------------------------ --------- 74.9/99.8 MB 3.8 MB/s eta 0:00:07\n",
      "   ------------------------------ --------- 75.0/99.8 MB 3.8 MB/s eta 0:00:07\n",
      "   ------------------------------ --------- 75.2/99.8 MB 3.8 MB/s eta 0:00:07\n",
      "   ------------------------------ --------- 75.3/99.8 MB 3.8 MB/s eta 0:00:07\n",
      "   ------------------------------ --------- 75.5/99.8 MB 3.8 MB/s eta 0:00:07\n",
      "   ------------------------------ --------- 75.7/99.8 MB 3.7 MB/s eta 0:00:07\n",
      "   ------------------------------ --------- 75.8/99.8 MB 3.7 MB/s eta 0:00:07\n",
      "   ------------------------------ --------- 76.0/99.8 MB 3.7 MB/s eta 0:00:07\n",
      "   ------------------------------ --------- 76.1/99.8 MB 3.7 MB/s eta 0:00:07\n",
      "   ------------------------------ --------- 76.3/99.8 MB 3.7 MB/s eta 0:00:07\n",
      "   ------------------------------ --------- 76.5/99.8 MB 3.7 MB/s eta 0:00:07\n",
      "   ------------------------------ --------- 76.6/99.8 MB 3.7 MB/s eta 0:00:07\n",
      "   ------------------------------ --------- 76.8/99.8 MB 3.7 MB/s eta 0:00:07\n",
      "   ------------------------------ --------- 77.0/99.8 MB 3.7 MB/s eta 0:00:07\n",
      "   ------------------------------ --------- 77.1/99.8 MB 3.6 MB/s eta 0:00:07\n",
      "   ------------------------------ --------- 77.3/99.8 MB 3.6 MB/s eta 0:00:07\n",
      "   ------------------------------- -------- 77.5/99.8 MB 3.6 MB/s eta 0:00:07\n",
      "   ------------------------------- -------- 77.6/99.8 MB 3.6 MB/s eta 0:00:07\n",
      "   ------------------------------- -------- 77.8/99.8 MB 3.6 MB/s eta 0:00:07\n",
      "   ------------------------------- -------- 78.0/99.8 MB 3.6 MB/s eta 0:00:07\n",
      "   ------------------------------- -------- 78.1/99.8 MB 3.6 MB/s eta 0:00:06\n",
      "   ------------------------------- -------- 78.3/99.8 MB 3.6 MB/s eta 0:00:06\n",
      "   ------------------------------- -------- 78.5/99.8 MB 3.6 MB/s eta 0:00:06\n",
      "   ------------------------------- -------- 78.6/99.8 MB 3.6 MB/s eta 0:00:06\n",
      "   ------------------------------- -------- 78.8/99.8 MB 3.6 MB/s eta 0:00:06\n",
      "   ------------------------------- -------- 78.9/99.8 MB 3.6 MB/s eta 0:00:06\n",
      "   ------------------------------- -------- 79.1/99.8 MB 3.6 MB/s eta 0:00:06\n",
      "   ------------------------------- -------- 79.2/99.8 MB 3.5 MB/s eta 0:00:06\n",
      "   ------------------------------- -------- 79.4/99.8 MB 3.5 MB/s eta 0:00:06\n",
      "   ------------------------------- -------- 79.5/99.8 MB 3.5 MB/s eta 0:00:06\n",
      "   ------------------------------- -------- 79.7/99.8 MB 3.5 MB/s eta 0:00:06\n",
      "   -------------------------------- ------- 79.8/99.8 MB 3.5 MB/s eta 0:00:06\n",
      "   -------------------------------- ------- 80.0/99.8 MB 3.5 MB/s eta 0:00:06\n",
      "   -------------------------------- ------- 80.1/99.8 MB 3.5 MB/s eta 0:00:06\n",
      "   -------------------------------- ------- 80.3/99.8 MB 3.5 MB/s eta 0:00:06\n",
      "   -------------------------------- ------- 80.4/99.8 MB 3.5 MB/s eta 0:00:06\n",
      "   -------------------------------- ------- 80.6/99.8 MB 3.5 MB/s eta 0:00:06\n",
      "   -------------------------------- ------- 80.7/99.8 MB 3.4 MB/s eta 0:00:06\n",
      "   -------------------------------- ------- 80.9/99.8 MB 3.4 MB/s eta 0:00:06\n",
      "   -------------------------------- ------- 81.0/99.8 MB 3.4 MB/s eta 0:00:06\n",
      "   -------------------------------- ------- 81.2/99.8 MB 3.4 MB/s eta 0:00:06\n",
      "   -------------------------------- ------- 81.3/99.8 MB 3.4 MB/s eta 0:00:06\n",
      "   -------------------------------- ------- 81.5/99.8 MB 3.4 MB/s eta 0:00:06\n",
      "   -------------------------------- ------- 81.7/99.8 MB 3.4 MB/s eta 0:00:06\n",
      "   -------------------------------- ------- 81.8/99.8 MB 3.4 MB/s eta 0:00:06\n",
      "   -------------------------------- ------- 82.0/99.8 MB 3.4 MB/s eta 0:00:06\n",
      "   -------------------------------- ------- 82.2/99.8 MB 3.4 MB/s eta 0:00:06\n",
      "   --------------------------------- ------ 82.4/99.8 MB 3.4 MB/s eta 0:00:06\n",
      "   --------------------------------- ------ 82.5/99.8 MB 3.4 MB/s eta 0:00:06\n",
      "   --------------------------------- ------ 82.7/99.8 MB 3.4 MB/s eta 0:00:06\n",
      "   --------------------------------- ------ 82.8/99.8 MB 3.4 MB/s eta 0:00:06\n",
      "   --------------------------------- ------ 83.0/99.8 MB 3.4 MB/s eta 0:00:05\n",
      "   --------------------------------- ------ 83.2/99.8 MB 3.4 MB/s eta 0:00:05\n",
      "   --------------------------------- ------ 83.4/99.8 MB 3.3 MB/s eta 0:00:05\n",
      "   --------------------------------- ------ 83.5/99.8 MB 3.3 MB/s eta 0:00:05\n",
      "   --------------------------------- ------ 83.7/99.8 MB 3.4 MB/s eta 0:00:05\n",
      "   --------------------------------- ------ 83.9/99.8 MB 3.4 MB/s eta 0:00:05\n",
      "   --------------------------------- ------ 84.1/99.8 MB 3.3 MB/s eta 0:00:05\n",
      "   --------------------------------- ------ 84.3/99.8 MB 3.4 MB/s eta 0:00:05\n",
      "   --------------------------------- ------ 84.5/99.8 MB 3.4 MB/s eta 0:00:05\n",
      "   --------------------------------- ------ 84.6/99.8 MB 3.4 MB/s eta 0:00:05\n",
      "   ---------------------------------- ----- 84.8/99.8 MB 3.4 MB/s eta 0:00:05\n",
      "   ---------------------------------- ----- 85.0/99.8 MB 3.4 MB/s eta 0:00:05\n",
      "   ---------------------------------- ----- 85.2/99.8 MB 3.4 MB/s eta 0:00:05\n",
      "   ---------------------------------- ----- 85.4/99.8 MB 3.4 MB/s eta 0:00:05\n",
      "   ---------------------------------- ----- 85.5/99.8 MB 3.4 MB/s eta 0:00:05\n",
      "   ---------------------------------- ----- 85.7/99.8 MB 3.4 MB/s eta 0:00:05\n",
      "   ---------------------------------- ----- 85.9/99.8 MB 3.5 MB/s eta 0:00:04\n",
      "   ---------------------------------- ----- 86.1/99.8 MB 3.5 MB/s eta 0:00:04\n",
      "   ---------------------------------- ----- 86.3/99.8 MB 3.5 MB/s eta 0:00:04\n",
      "   ---------------------------------- ----- 86.5/99.8 MB 3.5 MB/s eta 0:00:04\n",
      "   ---------------------------------- ----- 86.7/99.8 MB 3.5 MB/s eta 0:00:04\n",
      "   ---------------------------------- ----- 86.9/99.8 MB 3.5 MB/s eta 0:00:04\n",
      "   ---------------------------------- ----- 87.1/99.8 MB 3.5 MB/s eta 0:00:04\n",
      "   ---------------------------------- ----- 87.3/99.8 MB 3.6 MB/s eta 0:00:04\n",
      "   ----------------------------------- ---- 87.5/99.8 MB 3.5 MB/s eta 0:00:04\n",
      "   ----------------------------------- ---- 87.7/99.8 MB 3.6 MB/s eta 0:00:04\n",
      "   ----------------------------------- ---- 87.8/99.8 MB 3.6 MB/s eta 0:00:04\n",
      "   ----------------------------------- ---- 88.0/99.8 MB 3.6 MB/s eta 0:00:04\n",
      "   ----------------------------------- ---- 88.2/99.8 MB 3.6 MB/s eta 0:00:04\n",
      "   ----------------------------------- ---- 88.4/99.8 MB 3.6 MB/s eta 0:00:04\n",
      "   ----------------------------------- ---- 88.6/99.8 MB 3.6 MB/s eta 0:00:04\n",
      "   ----------------------------------- ---- 88.8/99.8 MB 3.6 MB/s eta 0:00:04\n",
      "   ----------------------------------- ---- 89.0/99.8 MB 3.6 MB/s eta 0:00:03\n",
      "   ----------------------------------- ---- 89.2/99.8 MB 3.7 MB/s eta 0:00:03\n",
      "   ----------------------------------- ---- 89.4/99.8 MB 3.7 MB/s eta 0:00:03\n",
      "   ----------------------------------- ---- 89.6/99.8 MB 3.7 MB/s eta 0:00:03\n",
      "   ----------------------------------- ---- 89.8/99.8 MB 3.7 MB/s eta 0:00:03\n",
      "   ------------------------------------ --- 89.9/99.8 MB 3.7 MB/s eta 0:00:03\n",
      "   ------------------------------------ --- 90.1/99.8 MB 3.7 MB/s eta 0:00:03\n",
      "   ------------------------------------ --- 90.3/99.8 MB 3.7 MB/s eta 0:00:03\n",
      "   ------------------------------------ --- 90.5/99.8 MB 3.8 MB/s eta 0:00:03\n",
      "   ------------------------------------ --- 90.7/99.8 MB 3.8 MB/s eta 0:00:03\n",
      "   ------------------------------------ --- 90.9/99.8 MB 3.8 MB/s eta 0:00:03\n",
      "   ------------------------------------ --- 91.1/99.8 MB 3.8 MB/s eta 0:00:03\n",
      "   ------------------------------------ --- 91.3/99.8 MB 3.8 MB/s eta 0:00:03\n",
      "   ------------------------------------ --- 91.5/99.8 MB 3.9 MB/s eta 0:00:03\n",
      "   ------------------------------------ --- 91.6/99.8 MB 3.9 MB/s eta 0:00:03\n",
      "   ------------------------------------ --- 91.8/99.8 MB 3.9 MB/s eta 0:00:03\n",
      "   ------------------------------------ --- 92.0/99.8 MB 3.9 MB/s eta 0:00:02\n",
      "   ------------------------------------ --- 92.2/99.8 MB 3.9 MB/s eta 0:00:02\n",
      "   ------------------------------------- -- 92.4/99.8 MB 3.9 MB/s eta 0:00:02\n",
      "   ------------------------------------- -- 92.6/99.8 MB 3.9 MB/s eta 0:00:02\n",
      "   ------------------------------------- -- 92.8/99.8 MB 3.9 MB/s eta 0:00:02\n",
      "   ------------------------------------- -- 92.9/99.8 MB 3.9 MB/s eta 0:00:02\n",
      "   ------------------------------------- -- 93.1/99.8 MB 3.9 MB/s eta 0:00:02\n",
      "   ------------------------------------- -- 93.2/99.8 MB 3.9 MB/s eta 0:00:02\n",
      "   ------------------------------------- -- 93.3/99.8 MB 3.9 MB/s eta 0:00:02\n",
      "   ------------------------------------- -- 93.4/99.8 MB 3.8 MB/s eta 0:00:02\n",
      "   ------------------------------------- -- 93.5/99.8 MB 3.8 MB/s eta 0:00:02\n",
      "   ------------------------------------- -- 93.6/99.8 MB 3.8 MB/s eta 0:00:02\n",
      "   ------------------------------------- -- 93.7/99.8 MB 3.8 MB/s eta 0:00:02\n",
      "   ------------------------------------- -- 93.8/99.8 MB 3.7 MB/s eta 0:00:02\n",
      "   ------------------------------------- -- 93.9/99.8 MB 3.7 MB/s eta 0:00:02\n",
      "   ------------------------------------- -- 94.0/99.8 MB 3.7 MB/s eta 0:00:02\n",
      "   ------------------------------------- -- 94.1/99.8 MB 3.6 MB/s eta 0:00:02\n",
      "   ------------------------------------- -- 94.1/99.8 MB 3.6 MB/s eta 0:00:02\n",
      "   ------------------------------------- -- 94.1/99.8 MB 3.6 MB/s eta 0:00:02\n",
      "   ------------------------------------- -- 94.4/99.8 MB 3.5 MB/s eta 0:00:02\n",
      "   ------------------------------------- -- 94.5/99.8 MB 3.5 MB/s eta 0:00:02\n",
      "   ------------------------------------- -- 94.5/99.8 MB 3.5 MB/s eta 0:00:02\n",
      "   ------------------------------------- -- 94.5/99.8 MB 3.4 MB/s eta 0:00:02\n",
      "   ------------------------------------- -- 94.6/99.8 MB 3.4 MB/s eta 0:00:02\n",
      "   ------------------------------------- -- 94.6/99.8 MB 3.4 MB/s eta 0:00:02\n",
      "   ------------------------------------- -- 94.6/99.8 MB 3.4 MB/s eta 0:00:02\n",
      "   ------------------------------------- -- 94.7/99.8 MB 3.3 MB/s eta 0:00:02\n",
      "   ------------------------------------- -- 94.7/99.8 MB 3.2 MB/s eta 0:00:02\n",
      "   ------------------------------------- -- 94.7/99.8 MB 3.2 MB/s eta 0:00:02\n",
      "   ------------------------------------- -- 94.7/99.8 MB 3.2 MB/s eta 0:00:02\n",
      "   -------------------------------------- - 94.8/99.8 MB 3.1 MB/s eta 0:00:02\n",
      "   -------------------------------------- - 94.8/99.8 MB 3.1 MB/s eta 0:00:02\n",
      "   -------------------------------------- - 94.9/99.8 MB 3.0 MB/s eta 0:00:02\n",
      "   -------------------------------------- - 94.9/99.8 MB 3.0 MB/s eta 0:00:02\n",
      "   -------------------------------------- - 94.9/99.8 MB 3.0 MB/s eta 0:00:02\n",
      "   -------------------------------------- - 95.0/99.8 MB 2.9 MB/s eta 0:00:02\n",
      "   -------------------------------------- - 95.0/99.8 MB 2.9 MB/s eta 0:00:02\n",
      "   -------------------------------------- - 95.0/99.8 MB 2.8 MB/s eta 0:00:02\n",
      "   -------------------------------------- - 95.0/99.8 MB 2.8 MB/s eta 0:00:02\n",
      "   -------------------------------------- - 95.0/99.8 MB 2.8 MB/s eta 0:00:02\n",
      "   -------------------------------------- - 95.1/99.8 MB 2.8 MB/s eta 0:00:02\n",
      "   -------------------------------------- - 95.1/99.8 MB 2.7 MB/s eta 0:00:02\n",
      "   -------------------------------------- - 95.1/99.8 MB 2.7 MB/s eta 0:00:02\n",
      "   -------------------------------------- - 95.1/99.8 MB 2.7 MB/s eta 0:00:02\n",
      "   -------------------------------------- - 95.1/99.8 MB 2.7 MB/s eta 0:00:02\n",
      "   -------------------------------------- - 95.1/99.8 MB 2.6 MB/s eta 0:00:02\n",
      "   -------------------------------------- - 95.2/99.8 MB 2.6 MB/s eta 0:00:02\n",
      "   -------------------------------------- - 95.2/99.8 MB 2.5 MB/s eta 0:00:02\n",
      "   -------------------------------------- - 95.2/99.8 MB 2.5 MB/s eta 0:00:02\n",
      "   -------------------------------------- - 95.2/99.8 MB 2.5 MB/s eta 0:00:02\n",
      "   -------------------------------------- - 95.2/99.8 MB 2.5 MB/s eta 0:00:02\n",
      "   -------------------------------------- - 95.3/99.8 MB 2.4 MB/s eta 0:00:02\n",
      "   -------------------------------------- - 95.3/99.8 MB 2.4 MB/s eta 0:00:02\n",
      "   -------------------------------------- - 95.3/99.8 MB 2.4 MB/s eta 0:00:02\n",
      "   -------------------------------------- - 95.3/99.8 MB 2.4 MB/s eta 0:00:02\n",
      "   -------------------------------------- - 95.3/99.8 MB 2.4 MB/s eta 0:00:02\n",
      "   -------------------------------------- - 95.4/99.8 MB 2.3 MB/s eta 0:00:02\n",
      "   -------------------------------------- - 95.4/99.8 MB 2.3 MB/s eta 0:00:02\n",
      "   -------------------------------------- - 95.4/99.8 MB 2.3 MB/s eta 0:00:02\n",
      "   -------------------------------------- - 95.5/99.8 MB 2.3 MB/s eta 0:00:02\n",
      "   -------------------------------------- - 95.5/99.8 MB 2.2 MB/s eta 0:00:02\n",
      "   -------------------------------------- - 95.5/99.8 MB 2.2 MB/s eta 0:00:02\n",
      "   -------------------------------------- - 95.5/99.8 MB 2.2 MB/s eta 0:00:02\n",
      "   -------------------------------------- - 95.5/99.8 MB 2.2 MB/s eta 0:00:02\n",
      "   -------------------------------------- - 95.6/99.8 MB 2.2 MB/s eta 0:00:02\n",
      "   -------------------------------------- - 95.6/99.8 MB 2.1 MB/s eta 0:00:02\n",
      "   -------------------------------------- - 95.7/99.8 MB 2.1 MB/s eta 0:00:02\n",
      "   -------------------------------------- - 95.7/99.8 MB 2.1 MB/s eta 0:00:02\n",
      "   -------------------------------------- - 95.7/99.8 MB 2.1 MB/s eta 0:00:02\n",
      "   -------------------------------------- - 95.7/99.8 MB 2.1 MB/s eta 0:00:02\n",
      "   -------------------------------------- - 95.8/99.8 MB 2.1 MB/s eta 0:00:02\n",
      "   -------------------------------------- - 95.8/99.8 MB 2.0 MB/s eta 0:00:02\n",
      "   -------------------------------------- - 95.8/99.8 MB 2.0 MB/s eta 0:00:02\n",
      "   -------------------------------------- - 95.9/99.8 MB 2.0 MB/s eta 0:00:02\n",
      "   -------------------------------------- - 95.9/99.8 MB 2.0 MB/s eta 0:00:02\n",
      "   -------------------------------------- - 96.0/99.8 MB 2.0 MB/s eta 0:00:02\n",
      "   -------------------------------------- - 96.0/99.8 MB 2.0 MB/s eta 0:00:02\n",
      "   -------------------------------------- - 96.0/99.8 MB 2.0 MB/s eta 0:00:02\n",
      "   -------------------------------------- - 96.1/99.8 MB 1.9 MB/s eta 0:00:02\n",
      "   -------------------------------------- - 96.1/99.8 MB 1.9 MB/s eta 0:00:02\n",
      "   -------------------------------------- - 96.2/99.8 MB 1.9 MB/s eta 0:00:02\n",
      "   -------------------------------------- - 96.2/99.8 MB 1.9 MB/s eta 0:00:02\n",
      "   -------------------------------------- - 96.2/99.8 MB 1.9 MB/s eta 0:00:02\n",
      "   -------------------------------------- - 96.3/99.8 MB 1.9 MB/s eta 0:00:02\n",
      "   -------------------------------------- - 96.3/99.8 MB 1.9 MB/s eta 0:00:02\n",
      "   -------------------------------------- - 96.4/99.8 MB 1.9 MB/s eta 0:00:02\n",
      "   -------------------------------------- - 96.4/99.8 MB 1.8 MB/s eta 0:00:02\n",
      "   -------------------------------------- - 96.5/99.8 MB 1.8 MB/s eta 0:00:02\n",
      "   -------------------------------------- - 96.5/99.8 MB 1.8 MB/s eta 0:00:02\n",
      "   -------------------------------------- - 96.6/99.8 MB 1.8 MB/s eta 0:00:02\n",
      "   -------------------------------------- - 96.6/99.8 MB 1.8 MB/s eta 0:00:02\n",
      "   -------------------------------------- - 96.6/99.8 MB 1.8 MB/s eta 0:00:02\n",
      "   -------------------------------------- - 96.6/99.8 MB 1.8 MB/s eta 0:00:02\n",
      "   -------------------------------------- - 96.7/99.8 MB 1.8 MB/s eta 0:00:02\n",
      "   -------------------------------------- - 96.7/99.8 MB 1.7 MB/s eta 0:00:02\n",
      "   -------------------------------------- - 96.7/99.8 MB 1.7 MB/s eta 0:00:02\n",
      "   -------------------------------------- - 96.8/99.8 MB 1.7 MB/s eta 0:00:02\n",
      "   -------------------------------------- - 96.8/99.8 MB 1.7 MB/s eta 0:00:02\n",
      "   -------------------------------------- - 96.9/99.8 MB 1.7 MB/s eta 0:00:02\n",
      "   -------------------------------------- - 97.0/99.8 MB 1.7 MB/s eta 0:00:02\n",
      "   -------------------------------------- - 97.0/99.8 MB 1.7 MB/s eta 0:00:02\n",
      "   -------------------------------------- - 97.1/99.8 MB 1.7 MB/s eta 0:00:02\n",
      "   -------------------------------------- - 97.1/99.8 MB 1.7 MB/s eta 0:00:02\n",
      "   -------------------------------------- - 97.2/99.8 MB 1.7 MB/s eta 0:00:02\n",
      "   -------------------------------------- - 97.2/99.8 MB 1.6 MB/s eta 0:00:02\n",
      "   ---------------------------------------  97.3/99.8 MB 1.6 MB/s eta 0:00:02\n",
      "   ---------------------------------------  97.4/99.8 MB 1.6 MB/s eta 0:00:02\n",
      "   ---------------------------------------  97.4/99.8 MB 1.6 MB/s eta 0:00:02\n",
      "   ---------------------------------------  97.5/99.8 MB 1.6 MB/s eta 0:00:02\n",
      "   ---------------------------------------  97.5/99.8 MB 1.6 MB/s eta 0:00:02\n",
      "   ---------------------------------------  97.6/99.8 MB 1.6 MB/s eta 0:00:02\n",
      "   ---------------------------------------  97.6/99.8 MB 1.6 MB/s eta 0:00:02\n",
      "   ---------------------------------------  97.7/99.8 MB 1.6 MB/s eta 0:00:02\n",
      "   ---------------------------------------  97.7/99.8 MB 1.6 MB/s eta 0:00:02\n",
      "   ---------------------------------------  97.7/99.8 MB 1.6 MB/s eta 0:00:02\n",
      "   ---------------------------------------  97.8/99.8 MB 1.6 MB/s eta 0:00:02\n",
      "   ---------------------------------------  97.8/99.8 MB 1.5 MB/s eta 0:00:02\n",
      "   ---------------------------------------  97.9/99.8 MB 1.5 MB/s eta 0:00:02\n",
      "   ---------------------------------------  98.0/99.8 MB 1.5 MB/s eta 0:00:02\n",
      "   ---------------------------------------  98.0/99.8 MB 1.5 MB/s eta 0:00:02\n",
      "   ---------------------------------------  98.1/99.8 MB 1.5 MB/s eta 0:00:02\n",
      "   ---------------------------------------  98.2/99.8 MB 1.5 MB/s eta 0:00:02\n",
      "   ---------------------------------------  98.2/99.8 MB 1.5 MB/s eta 0:00:02\n",
      "   ---------------------------------------  98.3/99.8 MB 1.5 MB/s eta 0:00:01\n",
      "   ---------------------------------------  98.4/99.8 MB 1.5 MB/s eta 0:00:01\n",
      "   ---------------------------------------  98.4/99.8 MB 1.5 MB/s eta 0:00:01\n",
      "   ---------------------------------------  98.5/99.8 MB 1.5 MB/s eta 0:00:01\n",
      "   ---------------------------------------  98.6/99.8 MB 1.5 MB/s eta 0:00:01\n",
      "   ---------------------------------------  98.7/99.8 MB 1.5 MB/s eta 0:00:01\n",
      "   ---------------------------------------  98.7/99.8 MB 1.5 MB/s eta 0:00:01\n",
      "   ---------------------------------------  98.8/99.8 MB 1.4 MB/s eta 0:00:01\n",
      "   ---------------------------------------  98.9/99.8 MB 1.4 MB/s eta 0:00:01\n",
      "   ---------------------------------------  98.9/99.8 MB 1.4 MB/s eta 0:00:01\n",
      "   ---------------------------------------  99.0/99.8 MB 1.4 MB/s eta 0:00:01\n",
      "   ---------------------------------------  99.0/99.8 MB 1.4 MB/s eta 0:00:01\n",
      "   ---------------------------------------  99.0/99.8 MB 1.4 MB/s eta 0:00:01\n",
      "   ---------------------------------------  99.1/99.8 MB 1.4 MB/s eta 0:00:01\n",
      "   ---------------------------------------  99.2/99.8 MB 1.4 MB/s eta 0:00:01\n",
      "   ---------------------------------------  99.2/99.8 MB 1.4 MB/s eta 0:00:01\n",
      "   ---------------------------------------  99.3/99.8 MB 1.4 MB/s eta 0:00:01\n",
      "   ---------------------------------------  99.4/99.8 MB 1.4 MB/s eta 0:00:01\n",
      "   ---------------------------------------  99.5/99.8 MB 1.4 MB/s eta 0:00:01\n",
      "   ---------------------------------------  99.6/99.8 MB 1.4 MB/s eta 0:00:01\n",
      "   ---------------------------------------  99.6/99.8 MB 1.4 MB/s eta 0:00:01\n",
      "   ---------------------------------------  99.7/99.8 MB 1.4 MB/s eta 0:00:01\n",
      "   ---------------------------------------  99.7/99.8 MB 1.4 MB/s eta 0:00:01\n",
      "   ---------------------------------------  99.7/99.8 MB 1.4 MB/s eta 0:00:01\n",
      "   ---------------------------------------  99.7/99.8 MB 1.4 MB/s eta 0:00:01\n",
      "   ---------------------------------------  99.7/99.8 MB 1.4 MB/s eta 0:00:01\n",
      "   ---------------------------------------  99.7/99.8 MB 1.4 MB/s eta 0:00:01\n",
      "   ---------------------------------------- 99.8/99.8 MB 1.3 MB/s eta 0:00:00\n",
      "Installing collected packages: xgboost\n",
      "Successfully installed xgboost-2.0.3\n"
     ]
    }
   ],
   "source": [
    "!pip install xgboost"
   ]
  },
  {
   "cell_type": "markdown",
   "metadata": {
    "id": "urka0597kBLz"
   },
   "source": [
    "После чего модуль можно импортировать:"
   ]
  },
  {
   "cell_type": "code",
   "execution_count": 5,
   "metadata": {
    "id": "kpLIalxfkBLz"
   },
   "outputs": [],
   "source": [
    "import xgboost as xgb"
   ]
  },
  {
   "cell_type": "markdown",
   "metadata": {
    "id": "CwJ80NU7kBLz"
   },
   "source": [
    "Перед обучением модели необходимо перевести наборы данных в тип данных xgboost.DMatrix:"
   ]
  },
  {
   "cell_type": "code",
   "execution_count": 102,
   "metadata": {},
   "outputs": [
    {
     "data": {
      "text/html": [
       "<div>\n",
       "<style scoped>\n",
       "    .dataframe tbody tr th:only-of-type {\n",
       "        vertical-align: middle;\n",
       "    }\n",
       "\n",
       "    .dataframe tbody tr th {\n",
       "        vertical-align: top;\n",
       "    }\n",
       "\n",
       "    .dataframe thead th {\n",
       "        text-align: right;\n",
       "    }\n",
       "</style>\n",
       "<table border=\"1\" class=\"dataframe\">\n",
       "  <thead>\n",
       "    <tr style=\"text-align: right;\">\n",
       "      <th></th>\n",
       "      <th>vendor_id</th>\n",
       "      <th>passenger_count</th>\n",
       "      <th>pickup_longitude</th>\n",
       "      <th>pickup_latitude</th>\n",
       "      <th>dropoff_longitude</th>\n",
       "      <th>dropoff_latitude</th>\n",
       "      <th>store_and_fwd_flag</th>\n",
       "      <th>trip_duration</th>\n",
       "      <th>pickup_hour</th>\n",
       "      <th>pickup_holiday</th>\n",
       "      <th>...</th>\n",
       "      <th>geo_cluster_3</th>\n",
       "      <th>geo_cluster_4</th>\n",
       "      <th>geo_cluster_5</th>\n",
       "      <th>geo_cluster_6</th>\n",
       "      <th>geo_cluster_7</th>\n",
       "      <th>geo_cluster_8</th>\n",
       "      <th>geo_cluster_9</th>\n",
       "      <th>events_None</th>\n",
       "      <th>events_Rain</th>\n",
       "      <th>events_Snow</th>\n",
       "    </tr>\n",
       "  </thead>\n",
       "  <tbody>\n",
       "    <tr>\n",
       "      <th>0</th>\n",
       "      <td>1</td>\n",
       "      <td>1</td>\n",
       "      <td>-73.982155</td>\n",
       "      <td>40.767937</td>\n",
       "      <td>-73.964630</td>\n",
       "      <td>40.765602</td>\n",
       "      <td>0</td>\n",
       "      <td>455</td>\n",
       "      <td>17</td>\n",
       "      <td>0</td>\n",
       "      <td>...</td>\n",
       "      <td>0.0</td>\n",
       "      <td>0.0</td>\n",
       "      <td>0.0</td>\n",
       "      <td>0.0</td>\n",
       "      <td>0.0</td>\n",
       "      <td>0.0</td>\n",
       "      <td>0.0</td>\n",
       "      <td>1.0</td>\n",
       "      <td>0.0</td>\n",
       "      <td>0.0</td>\n",
       "    </tr>\n",
       "    <tr>\n",
       "      <th>1</th>\n",
       "      <td>0</td>\n",
       "      <td>1</td>\n",
       "      <td>-73.980415</td>\n",
       "      <td>40.738564</td>\n",
       "      <td>-73.999481</td>\n",
       "      <td>40.731152</td>\n",
       "      <td>0</td>\n",
       "      <td>663</td>\n",
       "      <td>0</td>\n",
       "      <td>0</td>\n",
       "      <td>...</td>\n",
       "      <td>1.0</td>\n",
       "      <td>0.0</td>\n",
       "      <td>0.0</td>\n",
       "      <td>0.0</td>\n",
       "      <td>0.0</td>\n",
       "      <td>0.0</td>\n",
       "      <td>0.0</td>\n",
       "      <td>1.0</td>\n",
       "      <td>0.0</td>\n",
       "      <td>0.0</td>\n",
       "    </tr>\n",
       "    <tr>\n",
       "      <th>2</th>\n",
       "      <td>1</td>\n",
       "      <td>1</td>\n",
       "      <td>-73.979027</td>\n",
       "      <td>40.763939</td>\n",
       "      <td>-74.005333</td>\n",
       "      <td>40.710087</td>\n",
       "      <td>0</td>\n",
       "      <td>2124</td>\n",
       "      <td>11</td>\n",
       "      <td>0</td>\n",
       "      <td>...</td>\n",
       "      <td>1.0</td>\n",
       "      <td>0.0</td>\n",
       "      <td>0.0</td>\n",
       "      <td>0.0</td>\n",
       "      <td>0.0</td>\n",
       "      <td>0.0</td>\n",
       "      <td>0.0</td>\n",
       "      <td>1.0</td>\n",
       "      <td>0.0</td>\n",
       "      <td>0.0</td>\n",
       "    </tr>\n",
       "    <tr>\n",
       "      <th>3</th>\n",
       "      <td>1</td>\n",
       "      <td>1</td>\n",
       "      <td>-74.010040</td>\n",
       "      <td>40.719971</td>\n",
       "      <td>-74.012268</td>\n",
       "      <td>40.706718</td>\n",
       "      <td>0</td>\n",
       "      <td>429</td>\n",
       "      <td>19</td>\n",
       "      <td>0</td>\n",
       "      <td>...</td>\n",
       "      <td>1.0</td>\n",
       "      <td>0.0</td>\n",
       "      <td>0.0</td>\n",
       "      <td>0.0</td>\n",
       "      <td>0.0</td>\n",
       "      <td>0.0</td>\n",
       "      <td>0.0</td>\n",
       "      <td>1.0</td>\n",
       "      <td>0.0</td>\n",
       "      <td>0.0</td>\n",
       "    </tr>\n",
       "    <tr>\n",
       "      <th>4</th>\n",
       "      <td>1</td>\n",
       "      <td>1</td>\n",
       "      <td>-73.973053</td>\n",
       "      <td>40.793209</td>\n",
       "      <td>-73.972923</td>\n",
       "      <td>40.782520</td>\n",
       "      <td>0</td>\n",
       "      <td>435</td>\n",
       "      <td>13</td>\n",
       "      <td>0</td>\n",
       "      <td>...</td>\n",
       "      <td>0.0</td>\n",
       "      <td>0.0</td>\n",
       "      <td>0.0</td>\n",
       "      <td>0.0</td>\n",
       "      <td>1.0</td>\n",
       "      <td>0.0</td>\n",
       "      <td>0.0</td>\n",
       "      <td>1.0</td>\n",
       "      <td>0.0</td>\n",
       "      <td>0.0</td>\n",
       "    </tr>\n",
       "    <tr>\n",
       "      <th>...</th>\n",
       "      <td>...</td>\n",
       "      <td>...</td>\n",
       "      <td>...</td>\n",
       "      <td>...</td>\n",
       "      <td>...</td>\n",
       "      <td>...</td>\n",
       "      <td>...</td>\n",
       "      <td>...</td>\n",
       "      <td>...</td>\n",
       "      <td>...</td>\n",
       "      <td>...</td>\n",
       "      <td>...</td>\n",
       "      <td>...</td>\n",
       "      <td>...</td>\n",
       "      <td>...</td>\n",
       "      <td>...</td>\n",
       "      <td>...</td>\n",
       "      <td>...</td>\n",
       "      <td>...</td>\n",
       "      <td>...</td>\n",
       "      <td>...</td>\n",
       "    </tr>\n",
       "    <tr>\n",
       "      <th>1458228</th>\n",
       "      <td>1</td>\n",
       "      <td>4</td>\n",
       "      <td>-73.982201</td>\n",
       "      <td>40.745522</td>\n",
       "      <td>-73.994911</td>\n",
       "      <td>40.740170</td>\n",
       "      <td>0</td>\n",
       "      <td>778</td>\n",
       "      <td>13</td>\n",
       "      <td>0</td>\n",
       "      <td>...</td>\n",
       "      <td>0.0</td>\n",
       "      <td>0.0</td>\n",
       "      <td>0.0</td>\n",
       "      <td>1.0</td>\n",
       "      <td>0.0</td>\n",
       "      <td>0.0</td>\n",
       "      <td>0.0</td>\n",
       "      <td>1.0</td>\n",
       "      <td>0.0</td>\n",
       "      <td>0.0</td>\n",
       "    </tr>\n",
       "    <tr>\n",
       "      <th>1458229</th>\n",
       "      <td>0</td>\n",
       "      <td>1</td>\n",
       "      <td>-74.000946</td>\n",
       "      <td>40.747379</td>\n",
       "      <td>-73.970184</td>\n",
       "      <td>40.796547</td>\n",
       "      <td>0</td>\n",
       "      <td>655</td>\n",
       "      <td>7</td>\n",
       "      <td>0</td>\n",
       "      <td>...</td>\n",
       "      <td>0.0</td>\n",
       "      <td>0.0</td>\n",
       "      <td>0.0</td>\n",
       "      <td>1.0</td>\n",
       "      <td>0.0</td>\n",
       "      <td>0.0</td>\n",
       "      <td>0.0</td>\n",
       "      <td>0.0</td>\n",
       "      <td>1.0</td>\n",
       "      <td>0.0</td>\n",
       "    </tr>\n",
       "    <tr>\n",
       "      <th>1458230</th>\n",
       "      <td>1</td>\n",
       "      <td>1</td>\n",
       "      <td>-73.959129</td>\n",
       "      <td>40.768799</td>\n",
       "      <td>-74.004433</td>\n",
       "      <td>40.707371</td>\n",
       "      <td>0</td>\n",
       "      <td>764</td>\n",
       "      <td>6</td>\n",
       "      <td>0</td>\n",
       "      <td>...</td>\n",
       "      <td>1.0</td>\n",
       "      <td>0.0</td>\n",
       "      <td>0.0</td>\n",
       "      <td>0.0</td>\n",
       "      <td>0.0</td>\n",
       "      <td>0.0</td>\n",
       "      <td>0.0</td>\n",
       "      <td>1.0</td>\n",
       "      <td>0.0</td>\n",
       "      <td>0.0</td>\n",
       "    </tr>\n",
       "    <tr>\n",
       "      <th>1458231</th>\n",
       "      <td>0</td>\n",
       "      <td>1</td>\n",
       "      <td>-73.982079</td>\n",
       "      <td>40.749062</td>\n",
       "      <td>-73.974632</td>\n",
       "      <td>40.757107</td>\n",
       "      <td>0</td>\n",
       "      <td>373</td>\n",
       "      <td>15</td>\n",
       "      <td>0</td>\n",
       "      <td>...</td>\n",
       "      <td>0.0</td>\n",
       "      <td>0.0</td>\n",
       "      <td>0.0</td>\n",
       "      <td>1.0</td>\n",
       "      <td>0.0</td>\n",
       "      <td>0.0</td>\n",
       "      <td>0.0</td>\n",
       "      <td>1.0</td>\n",
       "      <td>0.0</td>\n",
       "      <td>0.0</td>\n",
       "    </tr>\n",
       "    <tr>\n",
       "      <th>1458232</th>\n",
       "      <td>0</td>\n",
       "      <td>1</td>\n",
       "      <td>-73.979538</td>\n",
       "      <td>40.781750</td>\n",
       "      <td>-73.972809</td>\n",
       "      <td>40.790585</td>\n",
       "      <td>0</td>\n",
       "      <td>198</td>\n",
       "      <td>14</td>\n",
       "      <td>0</td>\n",
       "      <td>...</td>\n",
       "      <td>0.0</td>\n",
       "      <td>0.0</td>\n",
       "      <td>0.0</td>\n",
       "      <td>0.0</td>\n",
       "      <td>1.0</td>\n",
       "      <td>0.0</td>\n",
       "      <td>0.0</td>\n",
       "      <td>1.0</td>\n",
       "      <td>0.0</td>\n",
       "      <td>0.0</td>\n",
       "    </tr>\n",
       "  </tbody>\n",
       "</table>\n",
       "<p>1458233 rows × 38 columns</p>\n",
       "</div>"
      ],
      "text/plain": [
       "         vendor_id  passenger_count  pickup_longitude  pickup_latitude   \n",
       "0                1                1        -73.982155        40.767937  \\\n",
       "1                0                1        -73.980415        40.738564   \n",
       "2                1                1        -73.979027        40.763939   \n",
       "3                1                1        -74.010040        40.719971   \n",
       "4                1                1        -73.973053        40.793209   \n",
       "...            ...              ...               ...              ...   \n",
       "1458228          1                4        -73.982201        40.745522   \n",
       "1458229          0                1        -74.000946        40.747379   \n",
       "1458230          1                1        -73.959129        40.768799   \n",
       "1458231          0                1        -73.982079        40.749062   \n",
       "1458232          0                1        -73.979538        40.781750   \n",
       "\n",
       "         dropoff_longitude  dropoff_latitude  store_and_fwd_flag   \n",
       "0               -73.964630         40.765602                   0  \\\n",
       "1               -73.999481         40.731152                   0   \n",
       "2               -74.005333         40.710087                   0   \n",
       "3               -74.012268         40.706718                   0   \n",
       "4               -73.972923         40.782520                   0   \n",
       "...                    ...               ...                 ...   \n",
       "1458228         -73.994911         40.740170                   0   \n",
       "1458229         -73.970184         40.796547                   0   \n",
       "1458230         -74.004433         40.707371                   0   \n",
       "1458231         -73.974632         40.757107                   0   \n",
       "1458232         -73.972809         40.790585                   0   \n",
       "\n",
       "         trip_duration  pickup_hour  pickup_holiday  ...  geo_cluster_3   \n",
       "0                  455           17               0  ...            0.0  \\\n",
       "1                  663            0               0  ...            1.0   \n",
       "2                 2124           11               0  ...            1.0   \n",
       "3                  429           19               0  ...            1.0   \n",
       "4                  435           13               0  ...            0.0   \n",
       "...                ...          ...             ...  ...            ...   \n",
       "1458228            778           13               0  ...            0.0   \n",
       "1458229            655            7               0  ...            0.0   \n",
       "1458230            764            6               0  ...            1.0   \n",
       "1458231            373           15               0  ...            0.0   \n",
       "1458232            198           14               0  ...            0.0   \n",
       "\n",
       "         geo_cluster_4  geo_cluster_5  geo_cluster_6  geo_cluster_7   \n",
       "0                  0.0            0.0            0.0            0.0  \\\n",
       "1                  0.0            0.0            0.0            0.0   \n",
       "2                  0.0            0.0            0.0            0.0   \n",
       "3                  0.0            0.0            0.0            0.0   \n",
       "4                  0.0            0.0            0.0            1.0   \n",
       "...                ...            ...            ...            ...   \n",
       "1458228            0.0            0.0            1.0            0.0   \n",
       "1458229            0.0            0.0            1.0            0.0   \n",
       "1458230            0.0            0.0            0.0            0.0   \n",
       "1458231            0.0            0.0            1.0            0.0   \n",
       "1458232            0.0            0.0            0.0            1.0   \n",
       "\n",
       "         geo_cluster_8  geo_cluster_9  events_None  events_Rain  events_Snow  \n",
       "0                  0.0            0.0          1.0          0.0          0.0  \n",
       "1                  0.0            0.0          1.0          0.0          0.0  \n",
       "2                  0.0            0.0          1.0          0.0          0.0  \n",
       "3                  0.0            0.0          1.0          0.0          0.0  \n",
       "4                  0.0            0.0          1.0          0.0          0.0  \n",
       "...                ...            ...          ...          ...          ...  \n",
       "1458228            0.0            0.0          1.0          0.0          0.0  \n",
       "1458229            0.0            0.0          0.0          1.0          0.0  \n",
       "1458230            0.0            0.0          1.0          0.0          0.0  \n",
       "1458231            0.0            0.0          1.0          0.0          0.0  \n",
       "1458232            0.0            0.0          1.0          0.0          0.0  \n",
       "\n",
       "[1458233 rows x 38 columns]"
      ]
     },
     "execution_count": 102,
     "metadata": {},
     "output_type": "execute_result"
    }
   ],
   "source": [
    "train_data"
   ]
  },
  {
   "cell_type": "code",
   "execution_count": 103,
   "metadata": {},
   "outputs": [
    {
     "data": {
      "text/plain": [
       "(977016, 25)"
      ]
     },
     "execution_count": 103,
     "metadata": {},
     "output_type": "execute_result"
    }
   ],
   "source": [
    "X_train.shape"
   ]
  },
  {
   "cell_type": "code",
   "execution_count": 81,
   "metadata": {
    "id": "ehrdmZJekBLz"
   },
   "outputs": [
    {
     "ename": "ValueError",
     "evalue": "('feature names must have the same length as the number of data columns, ', 'expected 25, got 18')",
     "output_type": "error",
     "traceback": [
      "\u001b[1;31m---------------------------------------------------------------------------\u001b[0m",
      "\u001b[1;31mValueError\u001b[0m                                Traceback (most recent call last)",
      "Cell \u001b[1;32mIn[81], line 2\u001b[0m\n\u001b[0;32m      1\u001b[0m \u001b[38;5;66;03m# Создание матриц наблюдений в формате DMatrix\u001b[39;00m\n\u001b[1;32m----> 2\u001b[0m dtrain \u001b[38;5;241m=\u001b[39m \u001b[43mxgb\u001b[49m\u001b[38;5;241;43m.\u001b[39;49m\u001b[43mDMatrix\u001b[49m\u001b[43m(\u001b[49m\u001b[43mX_train\u001b[49m\u001b[43m,\u001b[49m\u001b[43m \u001b[49m\u001b[43mlabel\u001b[49m\u001b[38;5;241;43m=\u001b[39;49m\u001b[43my_train_log\u001b[49m\u001b[43m,\u001b[49m\u001b[43m \u001b[49m\u001b[43mfeature_names\u001b[49m\u001b[38;5;241;43m=\u001b[39;49m\u001b[43mbest_features\u001b[49m\u001b[38;5;241;43m.\u001b[39;49m\u001b[43mtolist\u001b[49m\u001b[43m(\u001b[49m\u001b[43m)\u001b[49m\u001b[43m)\u001b[49m\n\u001b[0;32m      3\u001b[0m dvalid \u001b[38;5;241m=\u001b[39m xgb\u001b[38;5;241m.\u001b[39mDMatrix(X_valid, label\u001b[38;5;241m=\u001b[39my_valid_log, feature_names\u001b[38;5;241m=\u001b[39mX_test\u001b[38;5;241m.\u001b[39mcolumns)\n\u001b[0;32m      4\u001b[0m dtest \u001b[38;5;241m=\u001b[39m xgb\u001b[38;5;241m.\u001b[39mDMatrix(X_test)\n",
      "File \u001b[1;32m~\\AppData\\Local\\Packages\\PythonSoftwareFoundation.Python.3.11_qbz5n2kfra8p0\\LocalCache\\local-packages\\Python311\\site-packages\\xgboost\\core.py:730\u001b[0m, in \u001b[0;36mrequire_keyword_args.<locals>.throw_if.<locals>.inner_f\u001b[1;34m(*args, **kwargs)\u001b[0m\n\u001b[0;32m    728\u001b[0m \u001b[38;5;28;01mfor\u001b[39;00m k, arg \u001b[38;5;129;01min\u001b[39;00m \u001b[38;5;28mzip\u001b[39m(sig\u001b[38;5;241m.\u001b[39mparameters, args):\n\u001b[0;32m    729\u001b[0m     kwargs[k] \u001b[38;5;241m=\u001b[39m arg\n\u001b[1;32m--> 730\u001b[0m \u001b[38;5;28;01mreturn\u001b[39;00m \u001b[43mfunc\u001b[49m\u001b[43m(\u001b[49m\u001b[38;5;241;43m*\u001b[39;49m\u001b[38;5;241;43m*\u001b[39;49m\u001b[43mkwargs\u001b[49m\u001b[43m)\u001b[49m\n",
      "File \u001b[1;32m~\\AppData\\Local\\Packages\\PythonSoftwareFoundation.Python.3.11_qbz5n2kfra8p0\\LocalCache\\local-packages\\Python311\\site-packages\\xgboost\\core.py:881\u001b[0m, in \u001b[0;36mDMatrix.__init__\u001b[1;34m(self, data, label, weight, base_margin, missing, silent, feature_names, feature_types, nthread, group, qid, label_lower_bound, label_upper_bound, feature_weights, enable_categorical, data_split_mode)\u001b[0m\n\u001b[0;32m    869\u001b[0m \u001b[38;5;28mself\u001b[39m\u001b[38;5;241m.\u001b[39mset_info(\n\u001b[0;32m    870\u001b[0m     label\u001b[38;5;241m=\u001b[39mlabel,\n\u001b[0;32m    871\u001b[0m     weight\u001b[38;5;241m=\u001b[39mweight,\n\u001b[1;32m   (...)\u001b[0m\n\u001b[0;32m    877\u001b[0m     feature_weights\u001b[38;5;241m=\u001b[39mfeature_weights,\n\u001b[0;32m    878\u001b[0m )\n\u001b[0;32m    880\u001b[0m \u001b[38;5;28;01mif\u001b[39;00m feature_names \u001b[38;5;129;01mis\u001b[39;00m \u001b[38;5;129;01mnot\u001b[39;00m \u001b[38;5;28;01mNone\u001b[39;00m:\n\u001b[1;32m--> 881\u001b[0m     \u001b[38;5;28;43mself\u001b[39;49m\u001b[38;5;241;43m.\u001b[39;49m\u001b[43mfeature_names\u001b[49m \u001b[38;5;241m=\u001b[39m feature_names\n\u001b[0;32m    882\u001b[0m \u001b[38;5;28;01mif\u001b[39;00m feature_types \u001b[38;5;129;01mis\u001b[39;00m \u001b[38;5;129;01mnot\u001b[39;00m \u001b[38;5;28;01mNone\u001b[39;00m:\n\u001b[0;32m    883\u001b[0m     \u001b[38;5;28mself\u001b[39m\u001b[38;5;241m.\u001b[39mfeature_types \u001b[38;5;241m=\u001b[39m feature_types\n",
      "File \u001b[1;32m~\\AppData\\Local\\Packages\\PythonSoftwareFoundation.Python.3.11_qbz5n2kfra8p0\\LocalCache\\local-packages\\Python311\\site-packages\\xgboost\\core.py:1302\u001b[0m, in \u001b[0;36mDMatrix.feature_names\u001b[1;34m(self, feature_names)\u001b[0m\n\u001b[0;32m   1299\u001b[0m     \u001b[38;5;28;01mreturn\u001b[39;00m\n\u001b[0;32m   1301\u001b[0m \u001b[38;5;66;03m# validate feature name\u001b[39;00m\n\u001b[1;32m-> 1302\u001b[0m feature_names \u001b[38;5;241m=\u001b[39m \u001b[43m_validate_feature_info\u001b[49m\u001b[43m(\u001b[49m\n\u001b[0;32m   1303\u001b[0m \u001b[43m    \u001b[49m\u001b[43mfeature_names\u001b[49m\u001b[43m,\u001b[49m\u001b[43m \u001b[49m\u001b[38;5;28;43mself\u001b[39;49m\u001b[38;5;241;43m.\u001b[39;49m\u001b[43mnum_col\u001b[49m\u001b[43m(\u001b[49m\u001b[43m)\u001b[49m\u001b[43m,\u001b[49m\u001b[43m \u001b[49m\u001b[38;5;124;43m\"\u001b[39;49m\u001b[38;5;124;43mfeature names\u001b[39;49m\u001b[38;5;124;43m\"\u001b[39;49m\n\u001b[0;32m   1304\u001b[0m \u001b[43m\u001b[49m\u001b[43m)\u001b[49m\n\u001b[0;32m   1305\u001b[0m \u001b[38;5;28;01mif\u001b[39;00m \u001b[38;5;28mlen\u001b[39m(feature_names) \u001b[38;5;241m!=\u001b[39m \u001b[38;5;28mlen\u001b[39m(\u001b[38;5;28mset\u001b[39m(feature_names)):\n\u001b[0;32m   1306\u001b[0m     values, counts \u001b[38;5;241m=\u001b[39m np\u001b[38;5;241m.\u001b[39munique(\n\u001b[0;32m   1307\u001b[0m         feature_names,\n\u001b[0;32m   1308\u001b[0m         return_index\u001b[38;5;241m=\u001b[39m\u001b[38;5;28;01mFalse\u001b[39;00m,\n\u001b[0;32m   1309\u001b[0m         return_inverse\u001b[38;5;241m=\u001b[39m\u001b[38;5;28;01mFalse\u001b[39;00m,\n\u001b[0;32m   1310\u001b[0m         return_counts\u001b[38;5;241m=\u001b[39m\u001b[38;5;28;01mTrue\u001b[39;00m,\n\u001b[0;32m   1311\u001b[0m     )\n",
      "File \u001b[1;32m~\\AppData\\Local\\Packages\\PythonSoftwareFoundation.Python.3.11_qbz5n2kfra8p0\\LocalCache\\local-packages\\Python311\\site-packages\\xgboost\\core.py:319\u001b[0m, in \u001b[0;36m_validate_feature_info\u001b[1;34m(feature_info, n_features, name)\u001b[0m\n\u001b[0;32m    314\u001b[0m \u001b[38;5;28;01mif\u001b[39;00m \u001b[38;5;28mlen\u001b[39m(feature_info) \u001b[38;5;241m!=\u001b[39m n_features \u001b[38;5;129;01mand\u001b[39;00m n_features \u001b[38;5;241m!=\u001b[39m \u001b[38;5;241m0\u001b[39m:\n\u001b[0;32m    315\u001b[0m     msg \u001b[38;5;241m=\u001b[39m (\n\u001b[0;32m    316\u001b[0m         \u001b[38;5;124mf\u001b[39m\u001b[38;5;124m\"\u001b[39m\u001b[38;5;132;01m{\u001b[39;00mname\u001b[38;5;132;01m}\u001b[39;00m\u001b[38;5;124m must have the same length as the number of data columns, \u001b[39m\u001b[38;5;124m\"\u001b[39m,\n\u001b[0;32m    317\u001b[0m         \u001b[38;5;124mf\u001b[39m\u001b[38;5;124m\"\u001b[39m\u001b[38;5;124mexpected \u001b[39m\u001b[38;5;132;01m{\u001b[39;00mn_features\u001b[38;5;132;01m}\u001b[39;00m\u001b[38;5;124m, got \u001b[39m\u001b[38;5;132;01m{\u001b[39;00m\u001b[38;5;28mlen\u001b[39m(feature_info)\u001b[38;5;132;01m}\u001b[39;00m\u001b[38;5;124m\"\u001b[39m,\n\u001b[0;32m    318\u001b[0m     )\n\u001b[1;32m--> 319\u001b[0m     \u001b[38;5;28;01mraise\u001b[39;00m \u001b[38;5;167;01mValueError\u001b[39;00m(msg)\n\u001b[0;32m    320\u001b[0m \u001b[38;5;28;01mreturn\u001b[39;00m feature_info\n",
      "\u001b[1;31mValueError\u001b[0m: ('feature names must have the same length as the number of data columns, ', 'expected 25, got 18')"
     ]
    }
   ],
   "source": [
    "# Создание матриц наблюдений в формате DMatrix\n",
    "dtrain = xgb.DMatrix(X_train, label=y_train_log, feature_names=best_features.tolist())\n",
    "dvalid = xgb.DMatrix(X_valid, label=y_valid_log, feature_names=X_test.columns)\n",
    "dtest = xgb.DMatrix(X_test)"
   ]
  },
  {
   "cell_type": "markdown",
   "metadata": {
    "id": "kW0LAucxkBLz"
   },
   "source": [
    "Обучение модели XGBoost происходит с помощью метода train, в который необходимо передать параметры модели, набор данных, количество базовых моделей в ансамбле, а также дополнительные параметры:\n"
   ]
  },
  {
   "cell_type": "code",
   "execution_count": 69,
   "metadata": {
    "id": "u0uDs1YakBLz"
   },
   "outputs": [
    {
     "name": "stdout",
     "output_type": "stream",
     "text": [
      "[0]\ttrain-rmse:0.73992\tvalid-rmse:0.74192\n",
      "[10]\ttrain-rmse:0.49071\tvalid-rmse:0.49332\n",
      "[20]\ttrain-rmse:0.44042\tvalid-rmse:0.44330\n",
      "[30]\ttrain-rmse:0.42628\tvalid-rmse:0.42935\n",
      "[40]\ttrain-rmse:0.41887\tvalid-rmse:0.42205\n",
      "[50]\ttrain-rmse:0.41396\tvalid-rmse:0.41739\n",
      "[60]\ttrain-rmse:0.41002\tvalid-rmse:0.41380\n",
      "[70]\ttrain-rmse:0.40695\tvalid-rmse:0.41103\n",
      "[80]\ttrain-rmse:0.40407\tvalid-rmse:0.40843\n",
      "[90]\ttrain-rmse:0.40212\tvalid-rmse:0.40678\n",
      "[100]\ttrain-rmse:0.40053\tvalid-rmse:0.40557\n",
      "[110]\ttrain-rmse:0.39893\tvalid-rmse:0.40422\n",
      "[120]\ttrain-rmse:0.39762\tvalid-rmse:0.40320\n",
      "[130]\ttrain-rmse:0.39637\tvalid-rmse:0.40228\n",
      "[140]\ttrain-rmse:0.39525\tvalid-rmse:0.40133\n",
      "[150]\ttrain-rmse:0.39405\tvalid-rmse:0.40046\n",
      "[160]\ttrain-rmse:0.39300\tvalid-rmse:0.39972\n",
      "[170]\ttrain-rmse:0.39228\tvalid-rmse:0.39928\n",
      "[180]\ttrain-rmse:0.39152\tvalid-rmse:0.39880\n",
      "[190]\ttrain-rmse:0.39063\tvalid-rmse:0.39819\n",
      "[200]\ttrain-rmse:0.38986\tvalid-rmse:0.39782\n",
      "[210]\ttrain-rmse:0.38918\tvalid-rmse:0.39739\n",
      "[220]\ttrain-rmse:0.38830\tvalid-rmse:0.39681\n",
      "[230]\ttrain-rmse:0.38759\tvalid-rmse:0.39625\n",
      "[240]\ttrain-rmse:0.38708\tvalid-rmse:0.39605\n",
      "[250]\ttrain-rmse:0.38658\tvalid-rmse:0.39576\n",
      "[260]\ttrain-rmse:0.38604\tvalid-rmse:0.39542\n",
      "[270]\ttrain-rmse:0.38547\tvalid-rmse:0.39509\n",
      "[280]\ttrain-rmse:0.38493\tvalid-rmse:0.39484\n",
      "[290]\ttrain-rmse:0.38450\tvalid-rmse:0.39470\n",
      "[299]\ttrain-rmse:0.38400\tvalid-rmse:0.39456\n"
     ]
    }
   ],
   "source": [
    "# Гиперпараметры модели\n",
    "xgb_pars = {'min_child_weight': 20, 'eta': 0.1, 'colsample_bytree': 0.9, \n",
    "            'max_depth': 6, 'subsample': 0.9, 'lambda': 1, 'nthread': -1, \n",
    "            'booster' : 'gbtree', 'eval_metric': 'rmse', 'objective': 'reg:squarederror'\n",
    "           }\n",
    "# Тренировочная и валидационная выборка\n",
    "watchlist = [(dtrain, 'train'), (dvalid, 'valid')]\n",
    "# Обучаем модель XGBoost\n",
    "model = xgb.train(\n",
    "    params=xgb_pars, #гиперпараметры модели\n",
    "    dtrain=dtrain, #обучающая выборка\n",
    "    num_boost_round=300, #количество моделей в ансамбле\n",
    "    evals=watchlist, #выборки, на которых считается матрица\n",
    "    early_stopping_rounds=20, #раняя остановка\n",
    "    maximize=False, #смена поиска максимума на минимум\n",
    "    verbose_eval=10 #шаг, через который происходит отображение метрик\n",
    ")"
   ]
  },
  {
   "cell_type": "markdown",
   "metadata": {
    "id": "nDiMljt5kBLz"
   },
   "source": [
    "Предсказать целевой признак на новых данных можно с помощью метода predict():"
   ]
  },
  {
   "cell_type": "code",
   "execution_count": 70,
   "metadata": {
    "id": "XYBTeO7UkBLz"
   },
   "outputs": [
    {
     "name": "stdout",
     "output_type": "stream",
     "text": [
      "Modeling RMSLE 0.39456\n"
     ]
    }
   ],
   "source": [
    "#Делаем предсказание на тестовом наборе данных\n",
    "y_test_predict = np.exp(model.predict(dtest)) - 1\n",
    "print('Modeling RMSLE %.5f' % model.best_score)"
   ]
  },
  {
   "cell_type": "markdown",
   "metadata": {
    "id": "jgBn4xmikBLz"
   },
   "source": [
    "Также как и все модели, основанные на использовании деревьев решений в качестве базовых моделей, XGBoost имеет возможность определения коэффициентов важности факторов. Более того, в библиотеку встроена возможность визуализации важность факторов в виде столбчатой диаграммы. За эту возможность отвечает функция plot_importance():\n"
   ]
  },
  {
   "cell_type": "code",
   "execution_count": 71,
   "metadata": {
    "id": "FEvlaqz4kBLz"
   },
   "outputs": [
    {
     "data": {
      "text/plain": [
       "<Axes: title={'center': 'Feature importance'}, xlabel='F score', ylabel='Features'>"
      ]
     },
     "execution_count": 71,
     "metadata": {},
     "output_type": "execute_result"
    },
    {
     "data": {
      "image/png": "[encoded data removed]",
      "text/plain": [
       "<Figure size 1500x1500 with 1 Axes>"
      ]
     },
     "metadata": {},
     "output_type": "display_data"
    }
   ],
   "source": [
    "fig, ax = plt.subplots(figsize = (15,15))\n",
    "xgb.plot_importance(model, ax = ax, height=0.5)"
   ]
  },
  {
   "cell_type": "markdown",
   "metadata": {},
   "source": [
    "***"
   ]
  },
  {
   "cell_type": "code",
   "execution_count": 22,
   "metadata": {},
   "outputs": [],
   "source": [
    "import numpy as np\n",
    "import pandas as pd\n",
    "import matplotlib.pyplot as plt\n",
    "\n",
    "from scipy import stats\n",
    "from sklearn import linear_model\n",
    "from sklearn import preprocessing\n",
    "from sklearn import model_selection\n",
    "from sklearn import tree\n",
    "from sklearn import ensemble\n",
    "from sklearn import metrics\n",
    "from sklearn import cluster\n",
    "from sklearn import feature_selection"
   ]
  },
  {
   "cell_type": "code",
   "execution_count": 2,
   "metadata": {},
   "outputs": [],
   "source": [
    "osrm_data_train = pd.read_csv(\"C:\\data\\osrm_data_train.zip\")\n",
    "train_data = pd.read_csv(\"C:\\data\\Project5_train_data.zip\")\n",
    "\n",
    "osrm_data_test = pd.read_csv(\"C:\\data\\Project5_osrm_data_test.zip\")\n",
    "test_data = pd.read_csv(\"C:\\data\\Project5_test_data.zip\")\n",
    "test_id = test_data['id']\n",
    "\n",
    "weather_data = pd.read_csv('weather_data.zip')\n",
    "holiday_data = pd.read_csv('holiday_data.csv', sep=';')\n",
    "holiday_data['date'] = pd.to_datetime(holiday_data['date'])\n",
    "holiday_data['date'] = holiday_data['date'].dt.date"
   ]
  },
  {
   "cell_type": "code",
   "execution_count": 3,
   "metadata": {},
   "outputs": [],
   "source": [
    "def add_datetime_features(data, feature='pickup_datetime'):\n",
    "    data['pickup_date'] = data[feature].dt.date\n",
    "    data['pickup_hour'] = data[feature].dt.hour\n",
    "    data['pickup_day_of_week'] = data[feature].dt.dayofweek \n",
    "    return data\n",
    "\n",
    "def add_holiday_features(data, data_2, features='pickup_date', features_2='date', name='pickup_holiday'): \n",
    "    features_2_list = []\n",
    "    for i in range(len(data_2[features_2])):\n",
    "        features_2_list.append(data_2[features_2][i])    \n",
    "    data[name] = data[features].apply(lambda x: 1 if x in features_2_list else 0)\n",
    "    return data \n",
    "\n",
    "def add_osrm_features(data, data_2, on='id', how='left', columns = ['id','total_distance', 'total_travel_time', 'number_of_steps']):\n",
    "    merged_data = data.merge(\n",
    "        data_2[columns],\n",
    "        on=on,\n",
    "        how=how)\n",
    "    return merged_data    \n",
    "\n",
    "def get_haversine_distance(lat1, lng1, lat2, lng2):\n",
    "    lat1, lng1, lat2, lng2 = map(np.radians, (lat1, lng1, lat2, lng2))\n",
    "    EARTH_RADIUS = 6371 \n",
    "    lat_delta = lat2 - lat1\n",
    "    lng_delta = lng2 - lng1\n",
    "    d = np.sin(lat_delta * 0.5) ** 2 + np.cos(lat1) * np.cos(lat2) * np.sin(lng_delta * 0.5) ** 2\n",
    "    h = 2 * EARTH_RADIUS * np.arcsin(np.sqrt(d))\n",
    "    return h\n",
    "\n",
    "def get_angle_direction(lat1, lng1, lat2, lng2):\n",
    "    lat1, lng1, lat2, lng2 = map(np.radians, (lat1, lng1, lat2, lng2))\n",
    "    lng_delta_rad = lng2 - lng1\n",
    "    y = np.sin(lng_delta_rad) * np.cos(lat2)\n",
    "    x = np.cos(lat1) * np.sin(lat2) - np.sin(lat1) * np.cos(lat2) * np.cos(lng_delta_rad)\n",
    "    alpha = np.degrees(np.arctan2(y, x))\n",
    "    return alpha\n",
    "\n",
    "def add_geographical_features(\n",
    "    data, \n",
    "    lat1='pickup_latitude', \n",
    "    lng1='pickup_longitude',\n",
    "    lat2='dropoff_latitude', \n",
    "    lng2='dropoff_longitude', \n",
    "    name_1='haversine_distance', name_2='direction'):\n",
    "    data[name_1] = get_haversine_distance(data[lat1], data[lng1], data[lat2], data[lng2])\n",
    "    data[name_2] = get_angle_direction(data[lat1], data[lng1], data[lat2], data[lng2])\n",
    "    return data\n",
    "\n",
    "def add_cluster_features(data, name='geo_cluster'):\n",
    "    from sklearn.cluster import KMeans\n",
    "    coords = np.hstack((data[['pickup_latitude', 'pickup_longitude']], data[['dropoff_latitude', 'dropoff_longitude']]))\n",
    "    model = KMeans(n_clusters=10, random_state=42, n_init='auto')\n",
    "    model.fit(coords)\n",
    "    data[name] = model.labels_.T\n",
    "    return data\n",
    "\n",
    "def add_weather_features(df, weather_data):\n",
    "    weather_data['time'] = pd.to_datetime(weather_data['time'])\n",
    "    weather_data['date'] = weather_data['time'].dt.date\n",
    "    weather_data['hour'] = weather_data['time'].dt.hour\n",
    "    weather_columns = [\n",
    "        'date', 'hour', 'temperature', 'visibility',\n",
    "        'wind speed', 'precip', 'events']\n",
    "    df = df.merge(\n",
    "        weather_data[weather_columns], \n",
    "        left_on=['pickup_date', 'pickup_hour'], \n",
    "        right_on=['date', 'hour'],\n",
    "        how='left')\n",
    "    df = df.drop(['date', 'hour'], axis=1)\n",
    "    return df\n",
    "\n",
    "def fill_null_weather_data(data, cols=['temperature', 'visibility', 'wind speed', 'precip'], none='events'):\n",
    "    for col in cols:\n",
    "        data[col] = data[col].fillna(data.groupby('pickup_date')[col].transform('median'))   \n",
    "    data[none] = data[none].fillna('None')\n",
    "    return data"
   ]
  },
  {
   "cell_type": "code",
   "execution_count": 4,
   "metadata": {},
   "outputs": [
    {
     "name": "stdout",
     "output_type": "stream",
     "text": [
      "Shape of data: (1458644, 18)\n"
     ]
    }
   ],
   "source": [
    "train_data['pickup_datetime']=pd.to_datetime(train_data['pickup_datetime'],format='%Y-%m-%d %H:%M:%S')\n",
    "train_data = add_datetime_features(train_data)\n",
    "train_data = add_holiday_features(train_data, holiday_data)\n",
    "train_data = add_osrm_features(train_data, osrm_data_test)\n",
    "train_data = add_geographical_features(train_data)\n",
    "train_data = add_cluster_features(train_data)\n",
    "train_data = add_weather_features(train_data, weather_data)\n",
    "train_data = fill_null_weather_data(train_data)\n",
    "\n",
    "train_data['vendor_id'] = train_data['vendor_id'].apply(lambda x: 0 if x == 1 else 1)\n",
    "train_data['store_and_fwd_flag'] = train_data['store_and_fwd_flag'].apply(lambda x: 0 if x == 'N' else 1)\n",
    "\n",
    "one_hot_encoder = preprocessing.OneHotEncoder(drop='first')\n",
    "columns_to_change = ['pickup_day_of_week', 'geo_cluster', 'events']\n",
    "train_data_onehot = one_hot_encoder.fit_transform(train_data[columns_to_change]).toarray()\n",
    "column_names = one_hot_encoder.get_feature_names_out(columns_to_change)\n",
    "best_features = column_names\n",
    "train_data_onehot = pd.DataFrame(train_data_onehot, columns=column_names)\n",
    "\n",
    "train_data = pd.concat(\n",
    "    [train_data.reset_index(drop=True).drop(columns_to_change, axis=1), train_data_onehot], \n",
    "    axis=1\n",
    ")\n",
    "X_train = train_data[best_features]\n",
    "scaler = preprocessing.StandardScaler()\n",
    "scaler.fit(X_train)\n",
    "X_train_scaled = scaler.transform(X_train)\n",
    "print('Shape of data: {}'.format(X_train.shape))"
   ]
  },
  {
   "cell_type": "code",
   "execution_count": 5,
   "metadata": {},
   "outputs": [
    {
     "name": "stdout",
     "output_type": "stream",
     "text": [
      "Shape of data: (625134, 18)\n"
     ]
    }
   ],
   "source": [
    "test_data['pickup_datetime']=pd.to_datetime(test_data['pickup_datetime'],format='%Y-%m-%d %H:%M:%S')\n",
    "test_data = add_datetime_features(test_data)\n",
    "test_data = add_holiday_features(test_data, holiday_data)\n",
    "test_data = add_osrm_features(test_data, osrm_data_test)\n",
    "test_data = add_geographical_features(test_data)\n",
    "test_data = add_cluster_features(test_data)\n",
    "test_data = add_weather_features(test_data, weather_data)\n",
    "test_data = fill_null_weather_data(test_data)\n",
    "\n",
    "test_data['vendor_id'] = test_data['vendor_id'].apply(lambda x: 0 if x == 1 else 1)\n",
    "test_data['store_and_fwd_flag'] = test_data['store_and_fwd_flag'].apply(lambda x: 0 if x == 'N' else 1)\n",
    "\n",
    "one_hot_encoder = preprocessing.OneHotEncoder(drop='first')\n",
    "columns_to_change = ['pickup_day_of_week', 'geo_cluster', 'events']\n",
    "test_data_onehot = one_hot_encoder.fit_transform(test_data[columns_to_change]).toarray()\n",
    "column_names = one_hot_encoder.get_feature_names_out(columns_to_change)\n",
    "best_features = column_names\n",
    "test_data_onehot = pd.DataFrame(test_data_onehot, columns=column_names)\n",
    "\n",
    "test_data = pd.concat(\n",
    "    [test_data.reset_index(drop=True).drop(columns_to_change, axis=1), test_data_onehot], \n",
    "    axis=1\n",
    ")\n",
    "X_test = test_data[best_features]\n",
    "scaler = preprocessing.StandardScaler()\n",
    "scaler.fit(X_test)\n",
    "X_train_scaled = scaler.transform(X_test)\n",
    "print('Shape of data: {}'.format(X_test.shape))"
   ]
  },
  {
   "cell_type": "code",
   "execution_count": 11,
   "metadata": {},
   "outputs": [],
   "source": [
    "# подготовка датасета\n",
    "X = X_train.copy()\n",
    "y_train = train_data['trip_duration']\n",
    "y_train_log = np.log(y_train+1)\n",
    "\n",
    "X_train, X_valid, y_train, y_valid = model_selection.train_test_split(\n",
    "    X, y_train_log, test_size=0.2, random_state=42\n",
    ")"
   ]
  },
  {
   "cell_type": "code",
   "execution_count": 20,
   "metadata": {},
   "outputs": [
    {
     "name": "stdout",
     "output_type": "stream",
     "text": [
      "[0]\ttrain-rmse:0.78847\tvalid-rmse:0.78951\n",
      "[10]\ttrain-rmse:0.75668\tvalid-rmse:0.75774\n"
     ]
    },
    {
     "name": "stdout",
     "output_type": "stream",
     "text": [
      "[20]\ttrain-rmse:0.75134\tvalid-rmse:0.75242\n",
      "[30]\ttrain-rmse:0.74952\tvalid-rmse:0.75066\n",
      "[40]\ttrain-rmse:0.74884\tvalid-rmse:0.75002\n",
      "[50]\ttrain-rmse:0.74866\tvalid-rmse:0.74985\n",
      "[60]\ttrain-rmse:0.74860\tvalid-rmse:0.74979\n",
      "[70]\ttrain-rmse:0.74855\tvalid-rmse:0.74974\n",
      "[80]\ttrain-rmse:0.74853\tvalid-rmse:0.74972\n",
      "[90]\ttrain-rmse:0.74851\tvalid-rmse:0.74970\n",
      "[100]\ttrain-rmse:0.74850\tvalid-rmse:0.74969\n",
      "[110]\ttrain-rmse:0.74849\tvalid-rmse:0.74968\n",
      "[120]\ttrain-rmse:0.74848\tvalid-rmse:0.74967\n",
      "[130]\ttrain-rmse:0.74848\tvalid-rmse:0.74966\n",
      "[140]\ttrain-rmse:0.74847\tvalid-rmse:0.74966\n",
      "[150]\ttrain-rmse:0.74847\tvalid-rmse:0.74966\n",
      "[160]\ttrain-rmse:0.74846\tvalid-rmse:0.74965\n",
      "[170]\ttrain-rmse:0.74846\tvalid-rmse:0.74965\n",
      "[180]\ttrain-rmse:0.74846\tvalid-rmse:0.74964\n",
      "[190]\ttrain-rmse:0.74846\tvalid-rmse:0.74964\n",
      "[200]\ttrain-rmse:0.74845\tvalid-rmse:0.74963\n",
      "[210]\ttrain-rmse:0.74845\tvalid-rmse:0.74963\n",
      "[220]\ttrain-rmse:0.74845\tvalid-rmse:0.74963\n",
      "[230]\ttrain-rmse:0.74845\tvalid-rmse:0.74962\n",
      "[240]\ttrain-rmse:0.74845\tvalid-rmse:0.74962\n",
      "[250]\ttrain-rmse:0.74845\tvalid-rmse:0.74962\n",
      "[260]\ttrain-rmse:0.74845\tvalid-rmse:0.74962\n",
      "[270]\ttrain-rmse:0.74845\tvalid-rmse:0.74961\n",
      "[280]\ttrain-rmse:0.74844\tvalid-rmse:0.74961\n",
      "[290]\ttrain-rmse:0.74844\tvalid-rmse:0.74961\n",
      "[299]\ttrain-rmse:0.74844\tvalid-rmse:0.74961\n",
      "Modeling RMSLE 0.74961\n"
     ]
    }
   ],
   "source": [
    "# моделирование\n",
    "import xgboost as xgb\n",
    "\n",
    "dtrain = xgb.DMatrix(X_train, label=y_train, feature_names=best_features.tolist())\n",
    "dvalid = xgb.DMatrix(X_valid, label=y_valid, feature_names=best_features.tolist())\n",
    "\n",
    "# Гиперпараметры модели\n",
    "xgb_pars = {'min_child_weight': 20, 'eta': 0.1, 'colsample_bytree': 0.9, \n",
    "            'max_depth': 6, 'subsample': 0.9, 'lambda': 1, 'nthread': -1, \n",
    "            'booster' : 'gbtree', 'eval_metric': 'rmse', 'objective': 'reg:squarederror'\n",
    "           }\n",
    "# Тренировочная и валидационная выборка\n",
    "watchlist = [(dtrain, 'train'), (dvalid, 'valid')]\n",
    "# Обучаем модель XGBoost\n",
    "model = xgb.train(\n",
    "    params=xgb_pars, #гиперпараметры модели\n",
    "    dtrain=dtrain, #обучающая выборка\n",
    "    num_boost_round=300, #количество моделей в ансамбле\n",
    "    evals=watchlist, #выборки, на которых считается матрица\n",
    "    early_stopping_rounds=20, #раняя остановка\n",
    "    maximize=False, #смена поиска максимума на минимум\n",
    "    verbose_eval=10 #шаг, через который происходит отображение метрик\n",
    ")\n",
    "\n",
    "# Делаем предсказание на тестовом наборе данных\n",
    "y_valid_predict = np.exp(model.predict(dvalid)) - 1\n",
    "print('Modeling RMSLE %.5f' % model.best_score)"
   ]
  },
  {
   "cell_type": "code",
   "execution_count": 23,
   "metadata": {},
   "outputs": [
    {
     "data": {
      "text/plain": [
       "<Axes: title={'center': 'Feature importance'}, xlabel='F score', ylabel='Features'>"
      ]
     },
     "execution_count": 23,
     "metadata": {},
     "output_type": "execute_result"
    },
    {
     "data": {
      "image/png": "[encoded data removed]",
      "text/plain": [
       "<Figure size 1500x1500 with 1 Axes>"
      ]
     },
     "metadata": {},
     "output_type": "display_data"
    }
   ],
   "source": [
    "# отрисовака признаков модели\n",
    "fig, ax = plt.subplots(figsize = (15,15))\n",
    "xgb.plot_importance(model, ax = ax, height=0.5)"
   ]
  }
 ],
 "metadata": {
  "colab": {
   "provenance": []
  },
  "kernelspec": {
   "display_name": "base",
   "language": "python",
   "name": "python3"
  },
  "language_info": {
   "codemirror_mode": {
    "name": "ipython",
    "version": 3
   },
   "file_extension": ".py",
   "mimetype": "text/x-python",
   "name": "python",
   "nbconvert_exporter": "python",
   "pygments_lexer": "ipython3",
   "version": "3.12.3"
  }
 },
 "nbformat": 4,
 "nbformat_minor": 0
}
