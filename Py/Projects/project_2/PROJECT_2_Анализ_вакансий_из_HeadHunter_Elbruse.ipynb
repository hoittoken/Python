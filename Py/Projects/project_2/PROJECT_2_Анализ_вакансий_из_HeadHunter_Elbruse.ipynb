{
  "cells": [
    {
      "cell_type": "markdown",
      "id": "42289889-bd57-434e-9637-d3e354756316",
      "metadata": {
        "id": "42289889-bd57-434e-9637-d3e354756316"
      },
      "source": [
        "<center> <img src = https://raw.githubusercontent.com/AndreyRysistov/DatasetsForPandas/main/hh%20label.jpg alt=\"drawing\" style=\"width:400px;\">"
      ]
    },
    {
      "cell_type": "markdown",
      "id": "829cb75b-f14e-4ba8-9195-7ba929a7d656",
      "metadata": {
        "id": "829cb75b-f14e-4ba8-9195-7ba929a7d656",
        "tags": []
      },
      "source": [
        "# <center> Проект: Анализ вакансий из HeadHunter\n",
        "   "
      ]
    },
    {
      "cell_type": "code",
      "execution_count": 1,
      "id": "dccfde33-2452-43fb-a8a5-5c6ebc02a71d",
      "metadata": {
        "id": "dccfde33-2452-43fb-a8a5-5c6ebc02a71d"
      },
      "outputs": [],
      "source": [
        "import pandas as pd\n",
        "import plotly.express as px\n",
        "import sqlalchemy as sa"
      ]
    },
    {
      "cell_type": "code",
      "execution_count": 2,
      "id": "oVKH4ehvf8Ay",
      "metadata": {
        "id": "oVKH4ehvf8Ay"
      },
      "outputs": [],
      "source": [
        "DBNAME = 'project_sql'\n",
        "USER = 'skillfactory'\n",
        "PASSWORD = 'cCkxxLVrDE8EbvjueeMedPKt'\n",
        "HOST = '84.201.134.129'\n",
        "PORT = 5432"
      ]
    },
    {
      "cell_type": "code",
      "execution_count": 3,
      "id": "4gPLaAI1pDkP",
      "metadata": {
        "id": "4gPLaAI1pDkP"
      },
      "outputs": [],
      "source": [
        "connection_string = f'postgresql+psycopg2://{USER}:{PASSWORD}@{HOST}:{PORT}/{DBNAME}'\n",
        "engine = sa.create_engine(connection_string)"
      ]
    },
    {
      "cell_type": "markdown",
      "id": "0dc6476b-7a00-44f1-ac93-6e3baed33a29",
      "metadata": {
        "id": "0dc6476b-7a00-44f1-ac93-6e3baed33a29"
      },
      "source": [
        "# Юнит 3. Предварительный анализ данных"
      ]
    },
    {
      "cell_type": "markdown",
      "id": "889782b6-8d1c-410e-8920-e57f27917c64",
      "metadata": {
        "id": "889782b6-8d1c-410e-8920-e57f27917c64"
      },
      "source": [
        "1. Напишите запрос, который посчитает количество вакансий в нашей базе (вакансии находятся в таблице vacancies)."
      ]
    },
    {
      "cell_type": "code",
      "execution_count": 4,
      "id": "bc39e68e-ed02-4ee2-9235-7258a2f867a8",
      "metadata": {
        "id": "bc39e68e-ed02-4ee2-9235-7258a2f867a8"
      },
      "outputs": [],
      "source": [
        "# текст запроса\n",
        "query_3_1 = f'''select count(v.*)\n",
        "                from vacancies v\n",
        "             '''\n",
        "with engine.begin() as conn:\n",
        "    df_3_1 = pd.read_sql_query(sa.text(query_3_1), conn)"
      ]
    },
    {
      "cell_type": "code",
      "execution_count": 5,
      "id": "7mAwtsk4hEHY",
      "metadata": {
        "colab": {
          "base_uri": "https://localhost:8080/",
          "height": 81
        },
        "id": "7mAwtsk4hEHY",
        "outputId": "f87c255d-7be7-4938-cceb-59c968bebecb"
      },
      "outputs": [
        {
          "name": "stdout",
          "output_type": "stream",
          "text": [
            "Количество вакансий в базе: 49197\n"
          ]
        }
      ],
      "source": [
        "# результат запроса\n",
        "print('Количество вакансий в базе:', df_3_1.loc[0]['count'])"
      ]
    },
    {
      "cell_type": "markdown",
      "id": "b583485d-1f9e-494e-ada4-80ffff7c53d6",
      "metadata": {
        "id": "b583485d-1f9e-494e-ada4-80ffff7c53d6"
      },
      "source": [
        "2. Напишите запрос, который посчитает количество работодателей (таблица employers)."
      ]
    },
    {
      "cell_type": "code",
      "execution_count": 6,
      "id": "5408c52c-3407-4a63-b25b-1aafa2322d28",
      "metadata": {
        "id": "5408c52c-3407-4a63-b25b-1aafa2322d28"
      },
      "outputs": [],
      "source": [
        "# текст запроса\n",
        "query_3_2 = f'''select count(e.*)\n",
        "                from employers e\n",
        "             '''\n",
        "with engine.begin() as conn:\n",
        "    df_3_2 = pd.read_sql_query(sa.text(query_3_2), conn)"
      ]
    },
    {
      "cell_type": "code",
      "execution_count": 7,
      "id": "jVL4eshKhdqc",
      "metadata": {
        "colab": {
          "base_uri": "https://localhost:8080/",
          "height": 81
        },
        "id": "jVL4eshKhdqc",
        "outputId": "6211035d-8f3d-4598-8713-353dafa83fea"
      },
      "outputs": [
        {
          "name": "stdout",
          "output_type": "stream",
          "text": [
            "Количество работодателей в базе: 23501\n"
          ]
        }
      ],
      "source": [
        "# результат запроса\n",
        "print('Количество работодателей в базе:', df_3_2.loc[0]['count'])"
      ]
    },
    {
      "cell_type": "markdown",
      "id": "a2bfff1f-c975-4bf6-84be-2185d79dcb76",
      "metadata": {
        "id": "a2bfff1f-c975-4bf6-84be-2185d79dcb76"
      },
      "source": [
        "3. Посчитате с помощью запроса количество регионов (таблица areas)."
      ]
    },
    {
      "cell_type": "code",
      "execution_count": 8,
      "id": "1m8QJwBYhey6",
      "metadata": {
        "id": "1m8QJwBYhey6"
      },
      "outputs": [],
      "source": [
        "# текст запроса\n",
        "query_3_3 = f'''select count(a.*)\n",
        "                from areas a\n",
        "             '''\n",
        "with engine.begin() as conn:\n",
        "    df_3_3 = pd.read_sql_query(sa.text(query_3_3), conn)"
      ]
    },
    {
      "cell_type": "code",
      "execution_count": 9,
      "id": "EZsn9tlfhe7f",
      "metadata": {
        "colab": {
          "base_uri": "https://localhost:8080/",
          "height": 81
        },
        "id": "EZsn9tlfhe7f",
        "outputId": "30af95db-0ca9-4902-d636-47507d94f11f"
      },
      "outputs": [
        {
          "name": "stdout",
          "output_type": "stream",
          "text": [
            "Количество регионов в базе: 1362\n"
          ]
        }
      ],
      "source": [
        "# результат запроса\n",
        "print('Количество регионов в базе:', df_3_3.loc[0]['count'])"
      ]
    },
    {
      "cell_type": "markdown",
      "id": "41bb59f3-53cc-4a67-a5bc-bedf573955e4",
      "metadata": {
        "id": "41bb59f3-53cc-4a67-a5bc-bedf573955e4"
      },
      "source": [
        "4. Посчитате с помощью запроса количество сфер деятельности в базе (таблица industries)."
      ]
    },
    {
      "cell_type": "code",
      "execution_count": 10,
      "id": "d286cf4c-707b-4cd2-9190-7ab3587d04a1",
      "metadata": {
        "id": "d286cf4c-707b-4cd2-9190-7ab3587d04a1"
      },
      "outputs": [],
      "source": [
        "# текст запроса\n",
        "query_3_4 = f'''select count(i.*)\n",
        "                from industries i\n",
        "             '''\n",
        "with engine.begin() as conn:\n",
        "    df_3_4 = pd.read_sql_query(sa.text(query_3_4), conn)"
      ]
    },
    {
      "cell_type": "code",
      "execution_count": 11,
      "id": "JYAaoZ4qhfzW",
      "metadata": {
        "colab": {
          "base_uri": "https://localhost:8080/",
          "height": 81
        },
        "id": "JYAaoZ4qhfzW",
        "outputId": "5b118a85-608e-4ae8-dbde-7faa5c619fcb"
      },
      "outputs": [
        {
          "name": "stdout",
          "output_type": "stream",
          "text": [
            "Количество отраслей в базе: 294\n"
          ]
        }
      ],
      "source": [
        "# результат запроса\n",
        "print('Количество отраслей в базе:', df_3_4.loc[0]['count'])"
      ]
    },
    {
      "cell_type": "markdown",
      "id": "be4e9bd3-a4db-4a20-82fb-6b02fc2957e0",
      "metadata": {
        "id": "be4e9bd3-a4db-4a20-82fb-6b02fc2957e0"
      },
      "source": [
        "# выводы по предварительному анализу данных\n",
        "1. Количество вакансий в базе: 49197\n",
        "\n",
        "2. Количество работодателей в базе: 23501\n",
        "\n",
        "3. Количество регионов в базе: 1362\n",
        "\n",
        "4. Количество отраслей в базе: 294\n"
      ]
    },
    {
      "cell_type": "markdown",
      "id": "8d62a9f3-f64e-4fe7-bdac-c4dffa16155e",
      "metadata": {
        "id": "8d62a9f3-f64e-4fe7-bdac-c4dffa16155e"
      },
      "source": [
        "# Юнит 4. Детальный анализ вакансий"
      ]
    },
    {
      "cell_type": "markdown",
      "id": "93053d3d-b284-481a-9cf7-012d7014c0e0",
      "metadata": {
        "id": "93053d3d-b284-481a-9cf7-012d7014c0e0"
      },
      "source": [
        "1. Напишите запрос, который позволит узнать, сколько (cnt) вакансий в каждом регионе (area).\n",
        "Отсортируйте по количеству вакансий в порядке убывания."
      ]
    },
    {
      "cell_type": "code",
      "execution_count": 12,
      "id": "3f069da6-fdc9-4ae7-b514-fafe2675efd3",
      "metadata": {
        "id": "3f069da6-fdc9-4ae7-b514-fafe2675efd3"
      },
      "outputs": [
        {
          "name": "stdout",
          "output_type": "stream",
          "text": [
            "Количество (cnt) вакансий в каждом регионе (area) по убыванию\n"
          ]
        },
        {
          "data": {
            "text/html": [
              "<div>\n",
              "<style scoped>\n",
              "    .dataframe tbody tr th:only-of-type {\n",
              "        vertical-align: middle;\n",
              "    }\n",
              "\n",
              "    .dataframe tbody tr th {\n",
              "        vertical-align: top;\n",
              "    }\n",
              "\n",
              "    .dataframe thead th {\n",
              "        text-align: right;\n",
              "    }\n",
              "</style>\n",
              "<table border=\"1\" class=\"dataframe\">\n",
              "  <thead>\n",
              "    <tr style=\"text-align: right;\">\n",
              "      <th></th>\n",
              "      <th>area</th>\n",
              "      <th>cnt</th>\n",
              "      <th>perc</th>\n",
              "    </tr>\n",
              "  </thead>\n",
              "  <tbody>\n",
              "    <tr>\n",
              "      <th>0</th>\n",
              "      <td>Москва</td>\n",
              "      <td>5333</td>\n",
              "      <td>11.0</td>\n",
              "    </tr>\n",
              "    <tr>\n",
              "      <th>1</th>\n",
              "      <td>Санкт-Петербург</td>\n",
              "      <td>2851</td>\n",
              "      <td>6.0</td>\n",
              "    </tr>\n",
              "    <tr>\n",
              "      <th>2</th>\n",
              "      <td>Минск</td>\n",
              "      <td>2112</td>\n",
              "      <td>4.0</td>\n",
              "    </tr>\n",
              "    <tr>\n",
              "      <th>3</th>\n",
              "      <td>Новосибирск</td>\n",
              "      <td>2006</td>\n",
              "      <td>4.0</td>\n",
              "    </tr>\n",
              "    <tr>\n",
              "      <th>4</th>\n",
              "      <td>Алматы</td>\n",
              "      <td>1892</td>\n",
              "      <td>4.0</td>\n",
              "    </tr>\n",
              "    <tr>\n",
              "      <th>...</th>\n",
              "      <td>...</td>\n",
              "      <td>...</td>\n",
              "      <td>...</td>\n",
              "    </tr>\n",
              "    <tr>\n",
              "      <th>764</th>\n",
              "      <td>Тарко-Сале</td>\n",
              "      <td>1</td>\n",
              "      <td>0.0</td>\n",
              "    </tr>\n",
              "    <tr>\n",
              "      <th>765</th>\n",
              "      <td>Новоаннинский</td>\n",
              "      <td>1</td>\n",
              "      <td>0.0</td>\n",
              "    </tr>\n",
              "    <tr>\n",
              "      <th>766</th>\n",
              "      <td>Бирск</td>\n",
              "      <td>1</td>\n",
              "      <td>0.0</td>\n",
              "    </tr>\n",
              "    <tr>\n",
              "      <th>767</th>\n",
              "      <td>Сасово</td>\n",
              "      <td>1</td>\n",
              "      <td>0.0</td>\n",
              "    </tr>\n",
              "    <tr>\n",
              "      <th>768</th>\n",
              "      <td>Анна</td>\n",
              "      <td>1</td>\n",
              "      <td>0.0</td>\n",
              "    </tr>\n",
              "  </tbody>\n",
              "</table>\n",
              "<p>769 rows × 3 columns</p>\n",
              "</div>"
            ],
            "text/plain": [
              "                area   cnt  perc\n",
              "0             Москва  5333  11.0\n",
              "1    Санкт-Петербург  2851   6.0\n",
              "2              Минск  2112   4.0\n",
              "3        Новосибирск  2006   4.0\n",
              "4             Алматы  1892   4.0\n",
              "..               ...   ...   ...\n",
              "764       Тарко-Сале     1   0.0\n",
              "765    Новоаннинский     1   0.0\n",
              "766            Бирск     1   0.0\n",
              "767           Сасово     1   0.0\n",
              "768             Анна     1   0.0\n",
              "\n",
              "[769 rows x 3 columns]"
            ]
          },
          "execution_count": 12,
          "metadata": {},
          "output_type": "execute_result"
        }
      ],
      "source": [
        "# текст запроса\n",
        "query_4_1 = f'''select\n",
        "                a.name area,\n",
        "                count(v.id) cnt\n",
        "                from vacancies v\n",
        "                join areas a on v.area_id = a.id\n",
        "                group by a.name\n",
        "                order by cnt desc\n",
        "             '''\n",
        "with engine.begin() as conn:\n",
        "    df_4_1 = pd.read_sql_query(sa.text(query_4_1), conn)\n",
        "print('Количество (cnt) вакансий в каждом регионе (area) по убыванию')\n",
        "\n",
        "df_4_1['perc'] = round(df_4_1['cnt'] / sum(df_4_1['cnt']) * 100)\n",
        "\n",
        "df_4_1"
      ]
    },
    {
      "cell_type": "markdown",
      "id": "4266f0b6-1646-492a-88b4-2f6a46502135",
      "metadata": {
        "id": "4266f0b6-1646-492a-88b4-2f6a46502135"
      },
      "source": [
        "2. Напишите запрос, чтобы определить у какого количества вакансий заполнено хотя бы одно из двух полей с зарплатой."
      ]
    },
    {
      "cell_type": "code",
      "execution_count": 13,
      "id": "0c44b350-72eb-4d65-8b54-a1fc449ba9fd",
      "metadata": {
        "id": "0c44b350-72eb-4d65-8b54-a1fc449ba9fd"
      },
      "outputs": [],
      "source": [
        "# текст запроса\n",
        "query_4_2 = f'''select\n",
        "                    count(v.id) cnt\n",
        "                from vacancies v\n",
        "                where v.salary_from is not null or v.salary_to is not null\n",
        "             '''\n",
        "with engine.begin() as conn:\n",
        "    df_4_2 = pd.read_sql_query(sa.text(query_4_2), conn)"
      ]
    },
    {
      "cell_type": "code",
      "execution_count": 14,
      "id": "rhvwaMDkoWTi",
      "metadata": {
        "colab": {
          "base_uri": "https://localhost:8080/",
          "height": 81
        },
        "id": "rhvwaMDkoWTi",
        "outputId": "e283d4be-bb83-46e4-a9ca-a78aef5151b5"
      },
      "outputs": [
        {
          "name": "stdout",
          "output_type": "stream",
          "text": [
            "Количество вакансий с указанной зарплатой: 24073\n"
          ]
        }
      ],
      "source": [
        "# результат запроса\n",
        "print('Количество вакансий с указанной зарплатой:', df_4_2.loc[0]['cnt'])"
      ]
    },
    {
      "cell_type": "markdown",
      "id": "635c4d5d-f323-4c66-b428-50a088120aa0",
      "metadata": {
        "id": "635c4d5d-f323-4c66-b428-50a088120aa0"
      },
      "source": [
        "3. Найдите средние значения для нижней и верхней границы зарплатной вилки. Округлите значения до целого."
      ]
    },
    {
      "cell_type": "code",
      "execution_count": 15,
      "id": "603cdbe4-0ec3-4106-8eaf-c73fcdd29165",
      "metadata": {
        "id": "603cdbe4-0ec3-4106-8eaf-c73fcdd29165"
      },
      "outputs": [],
      "source": [
        "# текст запроса\n",
        "query_4_3 = f'''select\n",
        "                    avg(v.salary_from) l,\n",
        "                    avg(v.salary_to) h\n",
        "                from vacancies v\n",
        "             '''\n",
        "with engine.begin() as conn:\n",
        "    df_4_3 = pd.read_sql_query(sa.text(query_4_3), conn)"
      ]
    },
    {
      "cell_type": "code",
      "execution_count": 16,
      "id": "pswpAb66ovZZ",
      "metadata": {
        "colab": {
          "base_uri": "https://localhost:8080/",
          "height": 81
        },
        "id": "pswpAb66ovZZ",
        "outputId": "77db43b9-df95-4d3f-d2f1-a5f1f3dd6e3c"
      },
      "outputs": [
        {
          "name": "stdout",
          "output_type": "stream",
          "text": [
            "Средние значения для нижней и верхней границы зарплатной вилки: 71065 110537\n"
          ]
        }
      ],
      "source": [
        "# результат запроса\n",
        "print('Средние значения для нижней и верхней границы зарплатной вилки:', round(df_4_3.loc[0]['l']), round(df_4_3.loc[0]['h']))"
      ]
    },
    {
      "cell_type": "markdown",
      "id": "f3fdaec9-5fd3-4260-9cf5-1d7406b628a5",
      "metadata": {
        "id": "f3fdaec9-5fd3-4260-9cf5-1d7406b628a5"
      },
      "source": [
        "4. Напишите запрос, который выведет количество вакансий для каждого сочетания типа рабочего графика (schedule) и типа трудоустройства (employment), используемого в вакансиях. Результат отсортируйте по убыванию количества.\n"
      ]
    },
    {
      "cell_type": "code",
      "execution_count": 17,
      "id": "1ea710ec-871b-431e-9462-c7d0fd87011b",
      "metadata": {
        "id": "1ea710ec-871b-431e-9462-c7d0fd87011b"
      },
      "outputs": [],
      "source": [
        "# текст запроса\n",
        "query_4_4 = f'''\n",
        "                select\n",
        "                    count(v.id) cnt,\n",
        "                    v.schedule,\n",
        "                    v.employment\n",
        "                from vacancies v\n",
        "                group by v.schedule, v.employment\n",
        "                order by cnt desc\n",
        "             '''\n",
        "with engine.begin() as conn:\n",
        "    df_4_4 = pd.read_sql_query(sa.text(query_4_4), conn)"
      ]
    },
    {
      "cell_type": "code",
      "execution_count": 18,
      "id": "lGUVqavdo4JQ",
      "metadata": {
        "colab": {
          "base_uri": "https://localhost:8080/",
          "height": 1000
        },
        "id": "lGUVqavdo4JQ",
        "outputId": "dc720c6c-e4fd-4b79-af68-4cd45bbe290d"
      },
      "outputs": [
        {
          "name": "stdout",
          "output_type": "stream",
          "text": [
            "Количество (cnt) вакансий для каждого сочетания типа рабочего графика (schedule) и типа трудоустройства (employment) по убыванию\n"
          ]
        },
        {
          "data": {
            "text/html": [
              "<div>\n",
              "<style scoped>\n",
              "    .dataframe tbody tr th:only-of-type {\n",
              "        vertical-align: middle;\n",
              "    }\n",
              "\n",
              "    .dataframe tbody tr th {\n",
              "        vertical-align: top;\n",
              "    }\n",
              "\n",
              "    .dataframe thead th {\n",
              "        text-align: right;\n",
              "    }\n",
              "</style>\n",
              "<table border=\"1\" class=\"dataframe\">\n",
              "  <thead>\n",
              "    <tr style=\"text-align: right;\">\n",
              "      <th></th>\n",
              "      <th>cnt</th>\n",
              "      <th>schedule</th>\n",
              "      <th>employment</th>\n",
              "      <th>perc</th>\n",
              "    </tr>\n",
              "  </thead>\n",
              "  <tbody>\n",
              "    <tr>\n",
              "      <th>0</th>\n",
              "      <td>35367</td>\n",
              "      <td>Полный день</td>\n",
              "      <td>Полная занятость</td>\n",
              "      <td>72.0</td>\n",
              "    </tr>\n",
              "    <tr>\n",
              "      <th>1</th>\n",
              "      <td>7802</td>\n",
              "      <td>Удаленная работа</td>\n",
              "      <td>Полная занятость</td>\n",
              "      <td>16.0</td>\n",
              "    </tr>\n",
              "    <tr>\n",
              "      <th>2</th>\n",
              "      <td>1593</td>\n",
              "      <td>Гибкий график</td>\n",
              "      <td>Полная занятость</td>\n",
              "      <td>3.0</td>\n",
              "    </tr>\n",
              "    <tr>\n",
              "      <th>3</th>\n",
              "      <td>1312</td>\n",
              "      <td>Удаленная работа</td>\n",
              "      <td>Частичная занятость</td>\n",
              "      <td>3.0</td>\n",
              "    </tr>\n",
              "    <tr>\n",
              "      <th>4</th>\n",
              "      <td>940</td>\n",
              "      <td>Сменный график</td>\n",
              "      <td>Полная занятость</td>\n",
              "      <td>2.0</td>\n",
              "    </tr>\n",
              "    <tr>\n",
              "      <th>5</th>\n",
              "      <td>569</td>\n",
              "      <td>Полный день</td>\n",
              "      <td>Стажировка</td>\n",
              "      <td>1.0</td>\n",
              "    </tr>\n",
              "    <tr>\n",
              "      <th>6</th>\n",
              "      <td>367</td>\n",
              "      <td>Вахтовый метод</td>\n",
              "      <td>Полная занятость</td>\n",
              "      <td>1.0</td>\n",
              "    </tr>\n",
              "    <tr>\n",
              "      <th>7</th>\n",
              "      <td>347</td>\n",
              "      <td>Полный день</td>\n",
              "      <td>Частичная занятость</td>\n",
              "      <td>1.0</td>\n",
              "    </tr>\n",
              "    <tr>\n",
              "      <th>8</th>\n",
              "      <td>312</td>\n",
              "      <td>Гибкий график</td>\n",
              "      <td>Частичная занятость</td>\n",
              "      <td>1.0</td>\n",
              "    </tr>\n",
              "    <tr>\n",
              "      <th>9</th>\n",
              "      <td>141</td>\n",
              "      <td>Полный день</td>\n",
              "      <td>Проектная работа</td>\n",
              "      <td>0.0</td>\n",
              "    </tr>\n",
              "    <tr>\n",
              "      <th>10</th>\n",
              "      <td>133</td>\n",
              "      <td>Удаленная работа</td>\n",
              "      <td>Проектная работа</td>\n",
              "      <td>0.0</td>\n",
              "    </tr>\n",
              "    <tr>\n",
              "      <th>11</th>\n",
              "      <td>116</td>\n",
              "      <td>Гибкий график</td>\n",
              "      <td>Стажировка</td>\n",
              "      <td>0.0</td>\n",
              "    </tr>\n",
              "    <tr>\n",
              "      <th>12</th>\n",
              "      <td>101</td>\n",
              "      <td>Сменный график</td>\n",
              "      <td>Частичная занятость</td>\n",
              "      <td>0.0</td>\n",
              "    </tr>\n",
              "    <tr>\n",
              "      <th>13</th>\n",
              "      <td>64</td>\n",
              "      <td>Удаленная работа</td>\n",
              "      <td>Стажировка</td>\n",
              "      <td>0.0</td>\n",
              "    </tr>\n",
              "    <tr>\n",
              "      <th>14</th>\n",
              "      <td>18</td>\n",
              "      <td>Гибкий график</td>\n",
              "      <td>Проектная работа</td>\n",
              "      <td>0.0</td>\n",
              "    </tr>\n",
              "    <tr>\n",
              "      <th>15</th>\n",
              "      <td>12</td>\n",
              "      <td>Сменный график</td>\n",
              "      <td>Стажировка</td>\n",
              "      <td>0.0</td>\n",
              "    </tr>\n",
              "    <tr>\n",
              "      <th>16</th>\n",
              "      <td>2</td>\n",
              "      <td>Вахтовый метод</td>\n",
              "      <td>Проектная работа</td>\n",
              "      <td>0.0</td>\n",
              "    </tr>\n",
              "    <tr>\n",
              "      <th>17</th>\n",
              "      <td>1</td>\n",
              "      <td>Сменный график</td>\n",
              "      <td>Проектная работа</td>\n",
              "      <td>0.0</td>\n",
              "    </tr>\n",
              "  </tbody>\n",
              "</table>\n",
              "</div>"
            ],
            "text/plain": [
              "      cnt          schedule           employment  perc\n",
              "0   35367       Полный день     Полная занятость  72.0\n",
              "1    7802  Удаленная работа     Полная занятость  16.0\n",
              "2    1593     Гибкий график     Полная занятость   3.0\n",
              "3    1312  Удаленная работа  Частичная занятость   3.0\n",
              "4     940    Сменный график     Полная занятость   2.0\n",
              "5     569       Полный день           Стажировка   1.0\n",
              "6     367    Вахтовый метод     Полная занятость   1.0\n",
              "7     347       Полный день  Частичная занятость   1.0\n",
              "8     312     Гибкий график  Частичная занятость   1.0\n",
              "9     141       Полный день     Проектная работа   0.0\n",
              "10    133  Удаленная работа     Проектная работа   0.0\n",
              "11    116     Гибкий график           Стажировка   0.0\n",
              "12    101    Сменный график  Частичная занятость   0.0\n",
              "13     64  Удаленная работа           Стажировка   0.0\n",
              "14     18     Гибкий график     Проектная работа   0.0\n",
              "15     12    Сменный график           Стажировка   0.0\n",
              "16      2    Вахтовый метод     Проектная работа   0.0\n",
              "17      1    Сменный график     Проектная работа   0.0"
            ]
          },
          "execution_count": 18,
          "metadata": {},
          "output_type": "execute_result"
        }
      ],
      "source": [
        "# результат запроса\n",
        "print('Количество (cnt) вакансий для каждого сочетания типа рабочего графика (schedule) и типа трудоустройства (employment) по убыванию')\n",
        "df_4_4['perc'] = round(df_4_4['cnt'] / sum(df_4_4['cnt']) * 100)\n",
        "df_4_4"
      ]
    },
    {
      "cell_type": "markdown",
      "id": "0136ffee-0ead-4a6b-b608-61d1c753a438",
      "metadata": {
        "id": "0136ffee-0ead-4a6b-b608-61d1c753a438"
      },
      "source": [
        "5. Напишите запрос, выводящий значения поля Требуемый опыт работы (experience) в порядке возрастания количества вакансий, в которых указан данный вариант опыта."
      ]
    },
    {
      "cell_type": "code",
      "execution_count": 19,
      "id": "5b3a8e79-f7ab-4008-b767-12aea3a205ea",
      "metadata": {
        "id": "5b3a8e79-f7ab-4008-b767-12aea3a205ea"
      },
      "outputs": [],
      "source": [
        "# текст запроса\n",
        "query_4_5 = f'''\n",
        "                select\n",
        "                    count(v.id) cnt,\n",
        "                    v.experience exp\n",
        "                from vacancies v\n",
        "                group by exp\n",
        "                order by cnt\n",
        "             '''\n",
        "with engine.begin() as conn:\n",
        "    df_4_5 = pd.read_sql_query(sa.text(query_4_5), conn)"
      ]
    },
    {
      "cell_type": "code",
      "execution_count": 20,
      "id": "3Is64Y-hpDpq",
      "metadata": {
        "colab": {
          "base_uri": "https://localhost:8080/",
          "height": 175
        },
        "id": "3Is64Y-hpDpq",
        "outputId": "e6eab59e-1da7-4f29-c7a4-0164fa265b75"
      },
      "outputs": [
        {
          "name": "stdout",
          "output_type": "stream",
          "text": [
            "Количество (cnt) вакансий для поля Требуемый опыт работы (exp) в порядке возрастания\n"
          ]
        },
        {
          "data": {
            "text/html": [
              "<div>\n",
              "<style scoped>\n",
              "    .dataframe tbody tr th:only-of-type {\n",
              "        vertical-align: middle;\n",
              "    }\n",
              "\n",
              "    .dataframe tbody tr th {\n",
              "        vertical-align: top;\n",
              "    }\n",
              "\n",
              "    .dataframe thead th {\n",
              "        text-align: right;\n",
              "    }\n",
              "</style>\n",
              "<table border=\"1\" class=\"dataframe\">\n",
              "  <thead>\n",
              "    <tr style=\"text-align: right;\">\n",
              "      <th></th>\n",
              "      <th>cnt</th>\n",
              "      <th>exp</th>\n",
              "      <th>perc</th>\n",
              "    </tr>\n",
              "  </thead>\n",
              "  <tbody>\n",
              "    <tr>\n",
              "      <th>0</th>\n",
              "      <td>1337</td>\n",
              "      <td>Более 6 лет</td>\n",
              "      <td>3.0</td>\n",
              "    </tr>\n",
              "    <tr>\n",
              "      <th>1</th>\n",
              "      <td>7197</td>\n",
              "      <td>Нет опыта</td>\n",
              "      <td>15.0</td>\n",
              "    </tr>\n",
              "    <tr>\n",
              "      <th>2</th>\n",
              "      <td>14511</td>\n",
              "      <td>От 3 до 6 лет</td>\n",
              "      <td>29.0</td>\n",
              "    </tr>\n",
              "    <tr>\n",
              "      <th>3</th>\n",
              "      <td>26152</td>\n",
              "      <td>От 1 года до 3 лет</td>\n",
              "      <td>53.0</td>\n",
              "    </tr>\n",
              "  </tbody>\n",
              "</table>\n",
              "</div>"
            ],
            "text/plain": [
              "     cnt                 exp  perc\n",
              "0   1337         Более 6 лет   3.0\n",
              "1   7197           Нет опыта  15.0\n",
              "2  14511       От 3 до 6 лет  29.0\n",
              "3  26152  От 1 года до 3 лет  53.0"
            ]
          },
          "metadata": {},
          "output_type": "display_data"
        }
      ],
      "source": [
        "# результат запроса\n",
        "print('Количество (cnt) вакансий для поля Требуемый опыт работы (exp) в порядке возрастания')\n",
        "df_4_5['perc'] = round(df_4_5['cnt'] / sum(df_4_5['cnt']) * 100)\n",
        "display(df_4_5)"
      ]
    },
    {
      "cell_type": "markdown",
      "id": "e91f87ed-e25c-4f96-9f92-b642e8c0b4fa",
      "metadata": {
        "id": "e91f87ed-e25c-4f96-9f92-b642e8c0b4fa"
      },
      "source": [
        "# выводы по детальному анализу вакансий\n",
        "\n",
        "1. Количество вакансий с заполненной зарплатой: 24073\n",
        "\n",
        "2. Средние значения для нижней и верхней границы зарплатной вилки: 71065 110537\n",
        "\n",
        "3.\tВ каждой второй вакансии не заполнено ни одно поле с зарплатой, что возможно говорит о высоком проценте малоквалифицированных соискателей не имеющих особых требований к величине дохода.\n",
        "\n",
        "4.\tДля тех соискателей, которые заполнили хотя бы одно поле с зарплатой, средние значения для верхней и нижней границы зарплаты отличаются всего на 41 тыс.руб., такой разброс характерен для зарплат обычных специалистов и руководителей нижнего звена.\n",
        "\n",
        "5. При определении зависимости числа вакансий от сочетания типа рабочего графика и типа трудоустройства выявлен само собой разумеющийся факт максимального запроса соискателей на полный рабочий день и полную занятость. Далее с более чем четырехкратным отставанием следует удалённая работа и полная занятость.\n",
        "\n",
        "6. При  определении количества вакансий от требуемого опыта работы выяснилось, что более половины претендентов удовлетворяют не очень жестким рамкам стажа от года до 3 лет, и всего 2,5% попадают под стаж более 6 лет.\n",
        "\n"
      ]
    },
    {
      "cell_type": "markdown",
      "id": "7ea20ab6-04a7-40a0-adec-443a0e5a42c3",
      "metadata": {
        "id": "7ea20ab6-04a7-40a0-adec-443a0e5a42c3"
      },
      "source": [
        "# Юнит 5. Анализ работодателей"
      ]
    },
    {
      "cell_type": "markdown",
      "id": "968aed80-74ef-4ffb-b5bf-c65b84e9caea",
      "metadata": {
        "id": "968aed80-74ef-4ffb-b5bf-c65b84e9caea"
      },
      "source": [
        "1. Напишите запрос, который позволит узнать, какие работодатели находятся на первом и пятом месте по количеству вакансий."
      ]
    },
    {
      "cell_type": "code",
      "execution_count": 21,
      "id": "f2d62796-d400-4ec1-a675-88112739a50e",
      "metadata": {
        "id": "f2d62796-d400-4ec1-a675-88112739a50e"
      },
      "outputs": [],
      "source": [
        "# текст запроса\n",
        "query_5_1 = f'''(select\n",
        "                    count(v.id) cnt,\n",
        "                    e.name\n",
        "                from vacancies v\n",
        "                join employers e on v.employer_id = e.id\n",
        "                group by e.name\n",
        "                order by cnt desc\n",
        "                limit 1)\n",
        "                union\n",
        "                (select\n",
        "                    count(v.id) cnt,\n",
        "                    e.name\n",
        "                from vacancies v\n",
        "                join employers e on v.employer_id = e.id\n",
        "                group by e.name\n",
        "                order by cnt desc\n",
        "                offset 4 limit 1)\n",
        "                order by cnt desc\n",
        "             '''\n",
        "with engine.begin() as conn:\n",
        "    df_5_1 = pd.read_sql_query(sa.text(query_5_1), conn)"
      ]
    },
    {
      "cell_type": "code",
      "execution_count": 22,
      "id": "64tOMkAxqkQk",
      "metadata": {
        "id": "64tOMkAxqkQk"
      },
      "outputs": [
        {
          "name": "stdout",
          "output_type": "stream",
          "text": [
            "На первом месте среди работодателей по количеству вакансий Яндекс 1933\n",
            "На пятом месте среди работодателей по количеству вакансий Газпром нефть 331\n"
          ]
        }
      ],
      "source": [
        "# результат запроса\n",
        "df_5_1\n",
        "print('На первом месте среди работодателей по количеству вакансий', df_5_1.loc[0]['name'], df_5_1.loc[0]['cnt'])\n",
        "print('На пятом месте среди работодателей по количеству вакансий', df_5_1.loc[1]['name'], df_5_1.loc[1]['cnt'])\n"
      ]
    },
    {
      "cell_type": "markdown",
      "id": "68377cfc-b378-43dc-ab7d-1195abf2c515",
      "metadata": {
        "id": "68377cfc-b378-43dc-ab7d-1195abf2c515"
      },
      "source": [
        "2. Напишите запрос, который для каждого региона выведет количество работодателей и вакансий в нём.\n",
        "Среди регионов, в которых нет вакансий, найдите тот, в котором наибольшее количество работодателей.\n"
      ]
    },
    {
      "cell_type": "code",
      "execution_count": 23,
      "id": "x1ikWbydrbf6",
      "metadata": {
        "id": "x1ikWbydrbf6"
      },
      "outputs": [
        {
          "name": "stdout",
          "output_type": "stream",
          "text": [
            "Регион, в котором нет вакансий и есть наибольшее количество работодателей 410 это - Россия\n"
          ]
        }
      ],
      "source": [
        "# результат запроса\n",
        "query_5_2_1 = f'''with x as \n",
        "                        (\n",
        "                        select\n",
        "                            a.name,\n",
        "                            a.id,\n",
        "                            count(e.area) as cnt_e\n",
        "                        from areas a\n",
        "                        left join employers e on e.area = a.id\n",
        "                        group by a.name, a.id\n",
        "                        )\n",
        "                select\n",
        "                    x.name,\n",
        "                    coalesce(x.cnt_e, 0) as cnt_e,\n",
        "                    coalesce(count(v.area_id), 0) as cnt_v\n",
        "                from x\n",
        "                left join vacancies v on x.id = v.area_id\n",
        "                group by x.name, x.cnt_e\n",
        "                having coalesce(count(v.area_id), 0) = 0\n",
        "                order by x.cnt_e desc\n",
        "                limit 1\n",
        "            '''\n",
        "with engine.begin() as conn:\n",
        "    df_5_2_1 = pd.read_sql_query(sa.text(query_5_2_1), conn)\n",
        "print('Регион, в котором нет вакансий и есть наибольшее количество работодателей', df_5_2_1.loc[0]['cnt_e'], 'это -', df_5_2_1.loc[0]['name'])"
      ]
    },
    {
      "cell_type": "markdown",
      "id": "f2fe0acb-ab1a-4e15-9326-2560e22d73c1",
      "metadata": {
        "id": "f2fe0acb-ab1a-4e15-9326-2560e22d73c1"
      },
      "source": [
        "3. Для каждого работодателя посчитайте количество регионов, в которых он публикует свои вакансии. Отсортируйте результат по убыванию количества.\n"
      ]
    },
    {
      "cell_type": "code",
      "execution_count": 24,
      "id": "6271f8ad-bd2e-4196-ae4a-5b39c4c1010e",
      "metadata": {
        "id": "6271f8ad-bd2e-4196-ae4a-5b39c4c1010e"
      },
      "outputs": [],
      "source": [
        "# текст запроса\n",
        "query_5_3 = f'''\n",
        "                select\n",
        "                    e.name,\n",
        "                    count(distinct v.area_id) cnt_a\n",
        "                from employers e\n",
        "                join vacancies v on e.id = v.employer_id\n",
        "                --right join employers e on e.area = a.id\n",
        "                --where v.area_id is null\n",
        "                group by e.name\n",
        "                order by cnt_a desc\n",
        "             '''\n",
        "with engine.begin() as conn:\n",
        "    df_5_3 = pd.read_sql_query(sa.text(query_5_3), conn)"
      ]
    },
    {
      "cell_type": "code",
      "execution_count": 25,
      "id": "1EIvX3HasH4F",
      "metadata": {
        "id": "1EIvX3HasH4F"
      },
      "outputs": [
        {
          "name": "stdout",
          "output_type": "stream",
          "text": [
            "Компании и количество регионов, в которых он публикует свои вакансии\n"
          ]
        },
        {
          "data": {
            "text/html": [
              "<div>\n",
              "<style scoped>\n",
              "    .dataframe tbody tr th:only-of-type {\n",
              "        vertical-align: middle;\n",
              "    }\n",
              "\n",
              "    .dataframe tbody tr th {\n",
              "        vertical-align: top;\n",
              "    }\n",
              "\n",
              "    .dataframe thead th {\n",
              "        text-align: right;\n",
              "    }\n",
              "</style>\n",
              "<table border=\"1\" class=\"dataframe\">\n",
              "  <thead>\n",
              "    <tr style=\"text-align: right;\">\n",
              "      <th></th>\n",
              "      <th>name</th>\n",
              "      <th>cnt_a</th>\n",
              "    </tr>\n",
              "  </thead>\n",
              "  <tbody>\n",
              "    <tr>\n",
              "      <th>0</th>\n",
              "      <td>Яндекс</td>\n",
              "      <td>181</td>\n",
              "    </tr>\n",
              "    <tr>\n",
              "      <th>1</th>\n",
              "      <td>Ростелеком</td>\n",
              "      <td>152</td>\n",
              "    </tr>\n",
              "    <tr>\n",
              "      <th>2</th>\n",
              "      <td>Спецремонт</td>\n",
              "      <td>116</td>\n",
              "    </tr>\n",
              "    <tr>\n",
              "      <th>3</th>\n",
              "      <td>Поляков Денис Иванович</td>\n",
              "      <td>88</td>\n",
              "    </tr>\n",
              "    <tr>\n",
              "      <th>4</th>\n",
              "      <td>ООО ЕФИН</td>\n",
              "      <td>71</td>\n",
              "    </tr>\n",
              "    <tr>\n",
              "      <th>...</th>\n",
              "      <td>...</td>\n",
              "      <td>...</td>\n",
              "    </tr>\n",
              "    <tr>\n",
              "      <th>14761</th>\n",
              "      <td>UniSol</td>\n",
              "      <td>1</td>\n",
              "    </tr>\n",
              "    <tr>\n",
              "      <th>14762</th>\n",
              "      <td>UNISTORY LLC</td>\n",
              "      <td>1</td>\n",
              "    </tr>\n",
              "    <tr>\n",
              "      <th>14763</th>\n",
              "      <td>UNIT6</td>\n",
              "      <td>1</td>\n",
              "    </tr>\n",
              "    <tr>\n",
              "      <th>14764</th>\n",
              "      <td>United Distribution</td>\n",
              "      <td>1</td>\n",
              "    </tr>\n",
              "    <tr>\n",
              "      <th>14765</th>\n",
              "      <td>UNITEL LLC</td>\n",
              "      <td>1</td>\n",
              "    </tr>\n",
              "  </tbody>\n",
              "</table>\n",
              "<p>14766 rows × 2 columns</p>\n",
              "</div>"
            ],
            "text/plain": [
              "                         name  cnt_a\n",
              "0                      Яндекс    181\n",
              "1                  Ростелеком    152\n",
              "2                  Спецремонт    116\n",
              "3      Поляков Денис Иванович     88\n",
              "4                   ООО ЕФИН      71\n",
              "...                       ...    ...\n",
              "14761                  UniSol      1\n",
              "14762            UNISTORY LLC      1\n",
              "14763                   UNIT6      1\n",
              "14764     United Distribution      1\n",
              "14765              UNITEL LLC      1\n",
              "\n",
              "[14766 rows x 2 columns]"
            ]
          },
          "metadata": {},
          "output_type": "display_data"
        }
      ],
      "source": [
        "# результат запроса\n",
        "print('Компании и количество регионов, в которых он публикует свои вакансии')\n",
        "display(df_5_3)\n"
      ]
    },
    {
      "cell_type": "markdown",
      "id": "eab2206d-d95b-468b-8e5f-34381abf0ce7",
      "metadata": {
        "id": "eab2206d-d95b-468b-8e5f-34381abf0ce7"
      },
      "source": [
        "4. Напишите запрос для подсчёта количества работодателей, у которых не указана сфера деятельности."
      ]
    },
    {
      "cell_type": "code",
      "execution_count": 26,
      "id": "80defb23-bfb1-4a18-8be6-bf36aa7165d5",
      "metadata": {
        "id": "80defb23-bfb1-4a18-8be6-bf36aa7165d5"
      },
      "outputs": [],
      "source": [
        "# текст запроса\n",
        "query_5_4 = f'''\n",
        "                select\n",
        "                    count(e.id) cnt_e\n",
        "                from employers e\n",
        "                full join employers_industries ei on ei.employer_id = e.id\n",
        "                where ei.employer_id is null\n",
        "             '''\n",
        "with engine.begin() as conn:\n",
        "    df_5_4 = pd.read_sql_query(sa.text(query_5_4), conn)"
      ]
    },
    {
      "cell_type": "code",
      "execution_count": 27,
      "id": "Dp_yCx6ysQSu",
      "metadata": {
        "id": "Dp_yCx6ysQSu"
      },
      "outputs": [
        {
          "name": "stdout",
          "output_type": "stream",
          "text": [
            "Количества работодателей, у которых не указана сфера деятельности 8419\n"
          ]
        }
      ],
      "source": [
        "# результат запроса\n",
        "print('Количества работодателей, у которых не указана сфера деятельности', df_5_4.loc[0]['cnt_e'])"
      ]
    },
    {
      "cell_type": "markdown",
      "id": "0112af31-f6b0-4e3b-82ab-71296e752e5e",
      "metadata": {
        "id": "0112af31-f6b0-4e3b-82ab-71296e752e5e"
      },
      "source": [
        "5. Напишите запрос, чтобы узнать название компании, находящейся на третьем месте в алфавитном списке (по названию) компаний, у которых указано четыре сферы деятельности."
      ]
    },
    {
      "cell_type": "code",
      "execution_count": 28,
      "id": "973b0cfc-a972-470a-8b4a-68744ef220c4",
      "metadata": {
        "id": "973b0cfc-a972-470a-8b4a-68744ef220c4"
      },
      "outputs": [],
      "source": [
        "# текст запроса\n",
        "query_5_5 = f'''\n",
        "                select\n",
        "                    count(e.id) cnt_e,\n",
        "                    e.name\n",
        "                from employers e\n",
        "                right join employers_industries ei on ei.employer_id = e.id\n",
        "                --where ei.employer_id is not null\n",
        "                group by e.name\n",
        "                having count(e.id) = 4 \n",
        "                order by e.name\n",
        "                offset 2 limit 1\n",
        "             '''\n",
        "with engine.begin() as conn:\n",
        "    df_5_5 = pd.read_sql_query(sa.text(query_5_5), conn)"
      ]
    },
    {
      "cell_type": "code",
      "execution_count": 29,
      "id": "xsPtpp8EsaED",
      "metadata": {
        "id": "xsPtpp8EsaED"
      },
      "outputs": [
        {
          "name": "stdout",
          "output_type": "stream",
          "text": [
            "Компания, находящейся на третьем месте в алфавитном списке компаний, у которых указано четыре сферы деятельности 2ГИС\n"
          ]
        }
      ],
      "source": [
        "# результат запроса\n",
        "print('Компания, находящейся на третьем месте в алфавитном списке компаний, у которых указано четыре сферы деятельности', df_5_5.loc[0]['name'])"
      ]
    },
    {
      "cell_type": "markdown",
      "id": "3bfcfdaf-755d-4d2b-8ed8-326201dc07ab",
      "metadata": {
        "id": "3bfcfdaf-755d-4d2b-8ed8-326201dc07ab"
      },
      "source": [
        "6. С помощью запроса выясните, у какого количества работодателей в качестве сферы деятельности указана Разработка программного обеспечения.\n"
      ]
    },
    {
      "cell_type": "code",
      "execution_count": 30,
      "id": "ad3f270f-2991-47eb-929b-e8f88a55b0d1",
      "metadata": {
        "id": "ad3f270f-2991-47eb-929b-e8f88a55b0d1"
      },
      "outputs": [],
      "source": [
        "# текст запроса\n",
        "query_5_6 = f'''\n",
        "                with x as\n",
        "                (select\n",
        "                    ei.industry_id\n",
        "                from employers_industries ei\n",
        "                right join employers e on ei.employer_id = e.id)\n",
        "                select \n",
        "                    count(x.industry_id)\n",
        "                from  x\n",
        "                join industries i on x.industry_id = i.id\n",
        "                where i.name = 'Разработка программного обеспечения'\n",
        "             '''\n",
        "with engine.begin() as conn:\n",
        "    df_5_6 = pd.read_sql_query(sa.text(query_5_6), conn)"
      ]
    },
    {
      "cell_type": "code",
      "execution_count": 31,
      "id": "H72qxWM0shPR",
      "metadata": {
        "id": "H72qxWM0shPR"
      },
      "outputs": [
        {
          "name": "stdout",
          "output_type": "stream",
          "text": [
            "Количество работодателей в качестве сферы деятельности указана Разработка программного обеспечения 3553\n"
          ]
        }
      ],
      "source": [
        "# результат запроса\n",
        "print('Количество работодателей в качестве сферы деятельности указана Разработка программного обеспечения', df_5_6.loc[0]['count'])"
      ]
    },
    {
      "cell_type": "markdown",
      "id": "7b02bb86-0546-40fb-94a4-242f050a5c57",
      "metadata": {
        "id": "7b02bb86-0546-40fb-94a4-242f050a5c57"
      },
      "source": [
        "7. Для компании «Яндекс» выведите список регионов-миллионников, в которых представлены вакансии компании, вместе с количеством вакансий в этих регионах. Также добавьте строку Total с общим количеством вакансий компании. Результат отсортируйте по возрастанию количества.\n",
        "\n",
        "Список городов-милионников надо взять [отсюда](https://ru.wikipedia.org/wiki/%D0%93%D0%BE%D1%80%D0%BE%D0%B4%D0%B0-%D0%BC%D0%B8%D0%BB%D0%BB%D0%B8%D0%BE%D0%BD%D0%B5%D1%80%D1%8B_%D0%A0%D0%BE%D1%81%D1%81%D0%B8%D0%B8).\n",
        "\n",
        "Если возникнут трудности с этим задание посмотрите материалы модуля  PYTHON-17. Как получать данные из веб-источников и API."
      ]
    },
    {
      "cell_type": "code",
      "execution_count": 32,
      "id": "ZdfrL6gIs1Pn",
      "metadata": {
        "id": "ZdfrL6gIs1Pn"
      },
      "outputs": [],
      "source": [
        "# код для получения списка городов-милионников\n",
        "import requests\n",
        "from bs4 import BeautifulSoup\n",
        "url = 'https://ru.wikipedia.org/wiki/%D0%93%D0%BE%D1%80%D0%BE%D0%B4%D0%B0-%D0%BC%D0%B8%D0%BB%D0%BB%D0%B8%D0%BE%D0%BD%D0%B5%D1%80%D1%8B_%D0%A0%D0%BE%D1%81%D1%81%D0%B8%D0%B8'\n",
        "contents = requests.get(url).text\n",
        "soup = BeautifulSoup(contents, 'html.parser')\n",
        "elem = soup.select('#mw-content-text > div.mw-parser-output > table.standard.sortable > tbody > tr > td > a')\n",
        "rows = soup.select('#mw-content-text > div.mw-parser-output > table.standard.sortable > tbody')\n",
        "lst = []\n",
        "for row in rows:\n",
        "    columns = row.select('tr')\n",
        "    for column in columns:\n",
        "        name = column.select('a')[0].text\n",
        "        lst.append(name)\n",
        "city = tuple(lst[1:])"
      ]
    },
    {
      "cell_type": "code",
      "execution_count": 33,
      "id": "5a0e32a4-e68a-4365-8a39-2fe24c542c36",
      "metadata": {
        "id": "5a0e32a4-e68a-4365-8a39-2fe24c542c36"
      },
      "outputs": [],
      "source": [
        "# текст запроса\n",
        "query_5_7 = f'''\n",
        "                (with x as\n",
        "                    (select\n",
        "                        e.name,\n",
        "                        v.id,\n",
        "                        v.area_id\n",
        "                    from employers e\n",
        "                    join vacancies v on e.id = v.employer_id\n",
        "                    where e.name = 'Яндекс')\n",
        "                select\n",
        "                    a.name,\n",
        "                    count(x.*)\n",
        "                from x\n",
        "                left join areas a on x.area_id = a.id\n",
        "                where a.name in {city}\n",
        "                group by x.name, a.name\n",
        "                order by count(x.*) desc)\n",
        "                UNION ALL \n",
        "                (with y as\n",
        "                    (with x as\n",
        "                        (select\n",
        "                            e.name,\n",
        "                            v.id,\n",
        "                            v.area_id\n",
        "                        from employers e\n",
        "                        join vacancies v on e.id = v.employer_id\n",
        "                        where e.name = 'Яндекс')\n",
        "                    select\n",
        "                        a.name,\n",
        "                        count(x.id)::int cnt\n",
        "                    from x\n",
        "                    left join areas a on x.area_id = a.id\n",
        "                    where a.name in {city}\n",
        "                    group by x.name, a.name)                \n",
        "                select\n",
        "                     'Total', sum(y.cnt)\n",
        "                from y)\n",
        "             '''\n",
        "with engine.begin() as conn:\n",
        "    df_5_7 = pd.read_sql_query(sa.text(query_5_7), conn)"
      ]
    },
    {
      "cell_type": "code",
      "execution_count": 34,
      "id": "ttPhiO1rsvPq",
      "metadata": {
        "id": "ttPhiO1rsvPq"
      },
      "outputs": [
        {
          "name": "stdout",
          "output_type": "stream",
          "text": [
            "Список городов-миллионников, с количеством вакансий компании «Яндекс»\n"
          ]
        },
        {
          "data": {
            "text/html": [
              "<div>\n",
              "<style scoped>\n",
              "    .dataframe tbody tr th:only-of-type {\n",
              "        vertical-align: middle;\n",
              "    }\n",
              "\n",
              "    .dataframe tbody tr th {\n",
              "        vertical-align: top;\n",
              "    }\n",
              "\n",
              "    .dataframe thead th {\n",
              "        text-align: right;\n",
              "    }\n",
              "</style>\n",
              "<table border=\"1\" class=\"dataframe\">\n",
              "  <thead>\n",
              "    <tr style=\"text-align: right;\">\n",
              "      <th></th>\n",
              "      <th>name</th>\n",
              "      <th>count</th>\n",
              "      <th>perc</th>\n",
              "    </tr>\n",
              "  </thead>\n",
              "  <tbody>\n",
              "    <tr>\n",
              "      <th>0</th>\n",
              "      <td>Москва</td>\n",
              "      <td>54</td>\n",
              "      <td>11.0</td>\n",
              "    </tr>\n",
              "    <tr>\n",
              "      <th>1</th>\n",
              "      <td>Санкт-Петербург</td>\n",
              "      <td>42</td>\n",
              "      <td>9.0</td>\n",
              "    </tr>\n",
              "    <tr>\n",
              "      <th>2</th>\n",
              "      <td>Екатеринбург</td>\n",
              "      <td>39</td>\n",
              "      <td>8.0</td>\n",
              "    </tr>\n",
              "    <tr>\n",
              "      <th>3</th>\n",
              "      <td>Нижний Новгород</td>\n",
              "      <td>36</td>\n",
              "      <td>7.0</td>\n",
              "    </tr>\n",
              "    <tr>\n",
              "      <th>4</th>\n",
              "      <td>Новосибирск</td>\n",
              "      <td>35</td>\n",
              "      <td>7.0</td>\n",
              "    </tr>\n",
              "    <tr>\n",
              "      <th>5</th>\n",
              "      <td>Воронеж</td>\n",
              "      <td>32</td>\n",
              "      <td>7.0</td>\n",
              "    </tr>\n",
              "    <tr>\n",
              "      <th>6</th>\n",
              "      <td>Краснодар</td>\n",
              "      <td>30</td>\n",
              "      <td>6.0</td>\n",
              "    </tr>\n",
              "    <tr>\n",
              "      <th>7</th>\n",
              "      <td>Самара</td>\n",
              "      <td>26</td>\n",
              "      <td>5.0</td>\n",
              "    </tr>\n",
              "    <tr>\n",
              "      <th>8</th>\n",
              "      <td>Уфа</td>\n",
              "      <td>26</td>\n",
              "      <td>5.0</td>\n",
              "    </tr>\n",
              "    <tr>\n",
              "      <th>9</th>\n",
              "      <td>Казань</td>\n",
              "      <td>25</td>\n",
              "      <td>5.0</td>\n",
              "    </tr>\n",
              "    <tr>\n",
              "      <th>10</th>\n",
              "      <td>Пермь</td>\n",
              "      <td>25</td>\n",
              "      <td>5.0</td>\n",
              "    </tr>\n",
              "    <tr>\n",
              "      <th>11</th>\n",
              "      <td>Ростов-на-Дону</td>\n",
              "      <td>25</td>\n",
              "      <td>5.0</td>\n",
              "    </tr>\n",
              "    <tr>\n",
              "      <th>12</th>\n",
              "      <td>Волгоград</td>\n",
              "      <td>24</td>\n",
              "      <td>5.0</td>\n",
              "    </tr>\n",
              "    <tr>\n",
              "      <th>13</th>\n",
              "      <td>Красноярск</td>\n",
              "      <td>23</td>\n",
              "      <td>5.0</td>\n",
              "    </tr>\n",
              "    <tr>\n",
              "      <th>14</th>\n",
              "      <td>Челябинск</td>\n",
              "      <td>22</td>\n",
              "      <td>5.0</td>\n",
              "    </tr>\n",
              "    <tr>\n",
              "      <th>15</th>\n",
              "      <td>Омск</td>\n",
              "      <td>21</td>\n",
              "      <td>4.0</td>\n",
              "    </tr>\n",
              "    <tr>\n",
              "      <th>16</th>\n",
              "      <td>Total</td>\n",
              "      <td>485</td>\n",
              "      <td>100.0</td>\n",
              "    </tr>\n",
              "  </tbody>\n",
              "</table>\n",
              "</div>"
            ],
            "text/plain": [
              "               name  count   perc\n",
              "0            Москва     54   11.0\n",
              "1   Санкт-Петербург     42    9.0\n",
              "2      Екатеринбург     39    8.0\n",
              "3   Нижний Новгород     36    7.0\n",
              "4       Новосибирск     35    7.0\n",
              "5           Воронеж     32    7.0\n",
              "6         Краснодар     30    6.0\n",
              "7            Самара     26    5.0\n",
              "8               Уфа     26    5.0\n",
              "9            Казань     25    5.0\n",
              "10            Пермь     25    5.0\n",
              "11   Ростов-на-Дону     25    5.0\n",
              "12        Волгоград     24    5.0\n",
              "13       Красноярск     23    5.0\n",
              "14        Челябинск     22    5.0\n",
              "15             Омск     21    4.0\n",
              "16            Total    485  100.0"
            ]
          },
          "execution_count": 34,
          "metadata": {},
          "output_type": "execute_result"
        }
      ],
      "source": [
        "# результат запроса\n",
        "print('Список городов-миллионников, с количеством вакансий компании «Яндекс»')\n",
        "df_5_7['perc'] = round(df_5_7['count'] / df_5_7.loc[16]['count'] * 100)\n",
        "df_5_7"
      ]
    },
    {
      "cell_type": "markdown",
      "id": "aGGyER-yt4SR",
      "metadata": {
        "id": "aGGyER-yt4SR"
      },
      "source": [
        "# выводы по анализу работодателей\n",
        "1. На первом месте среди работодателей по количеству вакансий 1933 - Яндекс, на пятом месте среди работодателей по количеству вакансий 331 - Газпром нефть.\n",
        "\n",
        "2. Регион, в котором нет вакансий и есть наибольшее количество работодателей 410 это - Россия\n",
        "\n",
        "3. Первой компанией по количеству регионов, где она публикует свои вакансии также является Яндекс 181 регион. \n",
        "\n",
        "4. Среди городов миллионников где Яндекс открывает вакансии на первом месте стоит Москва - 11% от общего числа вакансий, далее идут Санкт-Петербург и Екатеринбург - 9% и 8% соотвественно.\n",
        "\n",
        "5. Количества работодателей, у которых не указана сфера деятельности 8419\n",
        "\n",
        "6. Компания, находящейся на третьем месте в алфавитном списке компаний, у которых указано четыре сферы деятельности 2ГИС\n",
        "\n",
        "7. Количество работодателей в качестве сферы деятельности указана Разработка программного обеспечения 3553"
      ]
    },
    {
      "cell_type": "markdown",
      "id": "b1ef156a-efcb-49ce-bb23-90763e7f35b2",
      "metadata": {
        "id": "b1ef156a-efcb-49ce-bb23-90763e7f35b2",
        "tags": []
      },
      "source": [
        "# Юнит 6. Предметный анализ"
      ]
    },
    {
      "cell_type": "markdown",
      "id": "b9cd50a0-992d-4988-8463-2b2b1c4629b4",
      "metadata": {
        "id": "b9cd50a0-992d-4988-8463-2b2b1c4629b4"
      },
      "source": [
        "1. Сколько вакансий имеет отношение к данным?\n",
        "\n",
        "Считаем, что вакансия имеет отношение к данным, если в её названии содержатся слова 'data' или 'данн'.\n",
        "\n",
        "*Подсказка: Обратите внимание, что названия вакансий могут быть написаны в любом регистре.*\n"
      ]
    },
    {
      "cell_type": "code",
      "execution_count": 35,
      "id": "54ab0e50-c0f1-47cc-a54b-bc5c8bc363f9",
      "metadata": {
        "id": "54ab0e50-c0f1-47cc-a54b-bc5c8bc363f9"
      },
      "outputs": [],
      "source": [
        "# текст запроса\n",
        "query_6_1 = f'''\n",
        "                select\n",
        "                    count(v.name)\n",
        "                from vacancies v\n",
        "                where  (v.name ilike '%data%') or (v.name ilike '%данн%')\n",
        "             '''\n",
        "with engine.begin() as conn:\n",
        "    df_6_1 = pd.read_sql_query(sa.text(query_6_1), conn)"
      ]
    },
    {
      "cell_type": "code",
      "execution_count": 36,
      "id": "9F1meAqsuUjd",
      "metadata": {
        "id": "9F1meAqsuUjd"
      },
      "outputs": [
        {
          "name": "stdout",
          "output_type": "stream",
          "text": [
            "Количество вакансий, имеющих отношение к данным 1771\n"
          ]
        }
      ],
      "source": [
        "# результат запроса\n",
        "print('Количество вакансий, имеющих отношение к данным', df_6_1.loc[0]['count'])"
      ]
    },
    {
      "cell_type": "markdown",
      "id": "4dea20cb-a36b-474a-a0b9-e08e8e3857a5",
      "metadata": {
        "id": "4dea20cb-a36b-474a-a0b9-e08e8e3857a5"
      },
      "source": [
        "2. Сколько есть подходящих вакансий для начинающего дата-сайентиста?\n",
        "Будем считать вакансиями для дата-сайентистов такие, в названии которых есть хотя бы одно из следующих сочетаний:\n",
        "* 'data scientist'\n",
        "* 'data science'\n",
        "* 'исследователь данных'\n",
        "* 'ML' (здесь не нужно брать вакансии по HTML)\n",
        "* 'machine learning'\n",
        "* 'машинн%обучен%'\n",
        "\n",
        "** В следующих заданиях мы продолжим работать с вакансиями по этому условию.*\n",
        "\n",
        "Считаем вакансиями для специалистов уровня Junior следующие:\n",
        "* в названии есть слово 'junior' *или*\n",
        "* требуемый опыт — Нет опыта *или*\n",
        "* тип трудоустройства — Стажировка.\n"
      ]
    },
    {
      "cell_type": "code",
      "execution_count": 37,
      "id": "9c61b3c0-bb66-46c9-ae1e-81d3f5752b4a",
      "metadata": {
        "id": "9c61b3c0-bb66-46c9-ae1e-81d3f5752b4a"
      },
      "outputs": [],
      "source": [
        "query_6_2 = f'''\n",
        "                with x as\n",
        "                (select\n",
        "                    v.name,\n",
        "                    v.experience,\n",
        "                    v.employment\n",
        "                from vacancies v\n",
        "                where  (v.name ilike '%data scientist%' or v.name ilike '%data science%' or v.name ilike '%исследователь данных%' or v.name ilike '%machine learning%'\n",
        "                or (v.name ilike '%ML%' and v.name not ilike '%HTML%') or v.name ilike '%машинн%обучен%')\n",
        "                )\n",
        "                select\n",
        "                    count(x.name)\n",
        "                from x\n",
        "                where (x.name ilike '%junior%') or (x.experience = 'Нет опыта') or (x.employment = 'Стажировка')\n",
        "             '''\n",
        "with engine.begin() as conn:\n",
        "    df_6_2 = pd.read_sql_query(sa.text(query_6_2), conn)"
      ]
    },
    {
      "cell_type": "code",
      "execution_count": 38,
      "id": "ZNM-LLYuu1dj",
      "metadata": {
        "id": "ZNM-LLYuu1dj"
      },
      "outputs": [
        {
          "name": "stdout",
          "output_type": "stream",
          "text": [
            "Количество подходящих вакансий для начинающего дата-сайентиста 51\n"
          ]
        }
      ],
      "source": [
        "# результат запроса\n",
        "print('Количество подходящих вакансий для начинающего дата-сайентиста', df_6_2.loc[0]['count'])"
      ]
    },
    {
      "cell_type": "markdown",
      "id": "eedceb80-c5ca-480e-b27a-278dfb8b4438",
      "metadata": {
        "id": "eedceb80-c5ca-480e-b27a-278dfb8b4438"
      },
      "source": [
        "3. Сколько есть вакансий для DS, в которых в качестве ключевого навыка указан SQL или postgres?\n",
        "\n",
        "** Критерии для отнесения вакансии к DS указаны в предыдущем задании.*"
      ]
    },
    {
      "cell_type": "code",
      "execution_count": 39,
      "id": "69621713-0cc5-4f1b-a1d7-bb144fa6148c",
      "metadata": {
        "id": "69621713-0cc5-4f1b-a1d7-bb144fa6148c"
      },
      "outputs": [],
      "source": [
        "# текст запроса\n",
        "query_6_3 = f'''\n",
        "                with x as\n",
        "                (select\n",
        "                    v.name,\n",
        "                    v.experience,\n",
        "                    v.employment,\n",
        "                    v.key_skills\n",
        "                from vacancies v\n",
        "                where  (v.name ilike '%data scientist%'\n",
        "                or v.name ilike '%data science%'\n",
        "                or v.name ilike '%исследователь данных%'\n",
        "                or v.name ilike '%machine learning%'\n",
        "                or (v.name like '%ML%' and v.name not ilike '%HTML%')\n",
        "                or v.name ilike '%машинн%обучен%')\n",
        "                )\n",
        "                select\n",
        "                    count(*)\n",
        "                from x\n",
        "                where (x.key_skills ilike '%SQL%' or x.key_skills ilike '%postges%')\n",
        "             '''\n",
        "with engine.begin() as conn:\n",
        "    df_6_3 = pd.read_sql_query(sa.text(query_6_3), conn)"
      ]
    },
    {
      "cell_type": "code",
      "execution_count": 40,
      "id": "alA8WEAAvGdf",
      "metadata": {
        "id": "alA8WEAAvGdf"
      },
      "outputs": [
        {
          "name": "stdout",
          "output_type": "stream",
          "text": [
            "Количество DS-вакансий с указанием ключевого навыка SQL или postgres 201\n"
          ]
        }
      ],
      "source": [
        "# результат запроса\n",
        "print('Количество DS-вакансий с указанием ключевого навыка SQL или postgres', df_6_3.loc[0]['count'])"
      ]
    },
    {
      "cell_type": "markdown",
      "id": "1be1e9c6-37cf-4a5f-bfeb-04cab799dc80",
      "metadata": {
        "id": "1be1e9c6-37cf-4a5f-bfeb-04cab799dc80"
      },
      "source": [
        "4. Проверьте, насколько популярен Python в требованиях работодателей к DS.Для этого вычислите количество вакансий, в которых в качестве ключевого навыка указан Python.\n",
        "\n",
        "** Это можно сделать помощью запроса, аналогичного предыдущему.*"
      ]
    },
    {
      "cell_type": "code",
      "execution_count": 41,
      "id": "0036a355-9ccf-4564-8b01-73d8194297e7",
      "metadata": {
        "id": "0036a355-9ccf-4564-8b01-73d8194297e7"
      },
      "outputs": [],
      "source": [
        "# текст запроса\n",
        "query_6_4 = f'''\n",
        "                with x as\n",
        "                (select\n",
        "                    v.name,\n",
        "                    v.experience,\n",
        "                    v.employment,\n",
        "                    v.key_skills\n",
        "                from vacancies v\n",
        "                where  (v.name ilike '%data scientist%'\n",
        "                or v.name ilike '%data science%'\n",
        "                or v.name ilike '%исследователь данных%'\n",
        "                or v.name ilike '%machine learning%'\n",
        "                or (v.name like '%ML%' and v.name not ilike '%HTML%')\n",
        "                or v.name ilike '%машинн%обучен%')\n",
        "                )\n",
        "                select\n",
        "                    count(*)\n",
        "                from x\n",
        "                where (x.key_skills ilike '%python%')\n",
        "             '''\n",
        "with engine.begin() as conn:\n",
        "    df_6_4 = pd.read_sql_query(sa.text(query_6_4), conn)"
      ]
    },
    {
      "cell_type": "code",
      "execution_count": 42,
      "id": "1i-5WyucvQ6v",
      "metadata": {
        "id": "1i-5WyucvQ6v"
      },
      "outputs": [
        {
          "name": "stdout",
          "output_type": "stream",
          "text": [
            "Количество DS-вакансий с указанием ключевого навыка Python 351\n"
          ]
        }
      ],
      "source": [
        "# результат запроса\n",
        "print('Количество DS-вакансий с указанием ключевого навыка Python', df_6_4.loc[0]['count'])"
      ]
    },
    {
      "cell_type": "markdown",
      "id": "ec3c8db7-fa21-4a41-a994-1af63742a642",
      "metadata": {
        "id": "ec3c8db7-fa21-4a41-a994-1af63742a642"
      },
      "source": [
        "5. Сколько ключевых навыков в среднем указывают в вакансиях для DS?\n",
        "Ответ округлите до двух знаков после точки-разделителя."
      ]
    },
    {
      "cell_type": "code",
      "execution_count": 43,
      "id": "949132bc-d5b6-4611-8218-0b9a504d74f4",
      "metadata": {
        "id": "949132bc-d5b6-4611-8218-0b9a504d74f4"
      },
      "outputs": [],
      "source": [
        "# текст запроса\n",
        "query_6_5 = f'''\n",
        "                with x as\n",
        "                (select\n",
        "                    v.name,\n",
        "                    v.experience,\n",
        "                    v.employment,\n",
        "                    v.key_skills\n",
        "                from vacancies v\n",
        "                where  (v.name ilike '%data scientist%'\n",
        "                or v.name ilike '%data science%'\n",
        "                or v.name ilike '%исследователь данных%'\n",
        "                or v.name ilike '%machine learning%'\n",
        "                or (v.name like '%ML%' and v.name not ilike '%HTML%')\n",
        "                or v.name ilike '%машинн%обучен%')\n",
        "                )\n",
        "                select\n",
        "                    avg(array_length(string_to_array(x.key_skills, '\\t'), 1)) aver\n",
        "                from x\n",
        "             '''\n",
        "with engine.begin() as conn:\n",
        "    df_6_5 = pd.read_sql_query(sa.text(query_6_5), conn)"
      ]
    },
    {
      "cell_type": "code",
      "execution_count": 44,
      "id": "a3V24Tvmviqk",
      "metadata": {
        "id": "a3V24Tvmviqk"
      },
      "outputs": [
        {
          "name": "stdout",
          "output_type": "stream",
          "text": [
            "Количество ключевых навыков в вакансиях для DS в среднем 6.41\n"
          ]
        }
      ],
      "source": [
        "# результат запроса\n",
        "\n",
        "print('Количество ключевых навыков в вакансиях для DS в среднем', round(df_6_5.loc[0]['aver'], 2))"
      ]
    },
    {
      "cell_type": "markdown",
      "id": "1041c17a-ca8f-4543-a0ca-32778914fb00",
      "metadata": {
        "id": "1041c17a-ca8f-4543-a0ca-32778914fb00"
      },
      "source": [
        "6. Напишите запрос, позволяющий вычислить, какую зарплату для DS в **среднем** указывают для каждого типа требуемого опыта (уникальное значение из поля *experience*).\n",
        "\n",
        "При решении задачи примите во внимание следующее:\n",
        "1. Рассматриваем только вакансии, у которых заполнено хотя бы одно из двух полей с зарплатой.\n",
        "2. Если заполнены оба поля с зарплатой, то считаем зарплату по каждой вакансии как сумму двух полей, делённую на 2. Если заполнено только одно из полей, то его и считаем зарплатой по вакансии.\n",
        "3. Если в расчётах участвует null, в результате он тоже даст null (посмотрите, что возвращает запрос select 1 + null). Чтобы избежать этой ситуацию, мы воспользуемся функцией [coalesce](https://postgrespro.ru/docs/postgresql/9.5/functions-conditional#functions-coalesce-nvl-ifnull), которая заменит null на значение, которое мы передадим. Например, посмотрите, что возвращает запрос `select 1 + coalesce(null, 0)`\n",
        "\n",
        "Выясните, на какую зарплату в среднем может рассчитывать дата-сайентист с опытом работы от 3 до 6 лет. Результат округлите до целого числа."
      ]
    },
    {
      "cell_type": "code",
      "execution_count": 45,
      "id": "6a743d39-5204-48d3-8271-b9f88e68d40e",
      "metadata": {
        "id": "6a743d39-5204-48d3-8271-b9f88e68d40e"
      },
      "outputs": [],
      "source": [
        "# текст запроса\n",
        "query_6_6 = f'''with y as\n",
        "                    (with x as\n",
        "                        (select\n",
        "                            v.name,\n",
        "                            v.experience,\n",
        "                            v.employment,\n",
        "                            v.key_skills,\n",
        "                            v.salary_from,\n",
        "                            v.salary_to\n",
        "                        from vacancies v\n",
        "                        where  (v.name ilike '%data scientist%'\n",
        "                        or v.name ilike '%data science%'\n",
        "                        or v.name ilike '%исследователь данных%'\n",
        "                        or v.name ilike '%machine learning%'\n",
        "                        or (v.name like '%ML%' and v.name not ilike '%HTML%')\n",
        "                        or v.name ilike '%машинн%обучен%') and (v.salary_from is not null or v.salary_to is not null)\n",
        "                        )\n",
        "                    select\n",
        "                        x.experience exp,\n",
        "                        (x.salary_from + x.salary_to) / 2 av\n",
        "                    from x\n",
        "                    where x.salary_from is not null and x.salary_to is not null\n",
        "                    union all\n",
        "                    select\n",
        "                        x.experience exp,\n",
        "                        (coalesce(x.salary_from, 0) + coalesce(x.salary_to, 0)) av\n",
        "                    from x\n",
        "                    where (x.salary_from is not null or x.salary_to is not null) and not (x.salary_from is not null and x.salary_to is not null)\n",
        "                    )\n",
        "                select\n",
        "                    y.exp,\n",
        "                    avg(y.av)::int aver\n",
        "                from y\n",
        "                group by y.exp\n",
        "             '''\n",
        "with engine.begin() as conn:\n",
        "    df_6_6 = pd.read_sql_query(sa.text(query_6_6), conn)"
      ]
    },
    {
      "cell_type": "code",
      "execution_count": 46,
      "id": "aRIJ0mZEwU1_",
      "metadata": {
        "id": "aRIJ0mZEwU1_"
      },
      "outputs": [
        {
          "data": {
            "text/html": [
              "<div>\n",
              "<style scoped>\n",
              "    .dataframe tbody tr th:only-of-type {\n",
              "        vertical-align: middle;\n",
              "    }\n",
              "\n",
              "    .dataframe tbody tr th {\n",
              "        vertical-align: top;\n",
              "    }\n",
              "\n",
              "    .dataframe thead th {\n",
              "        text-align: right;\n",
              "    }\n",
              "</style>\n",
              "<table border=\"1\" class=\"dataframe\">\n",
              "  <thead>\n",
              "    <tr style=\"text-align: right;\">\n",
              "      <th></th>\n",
              "      <th>exp</th>\n",
              "      <th>aver</th>\n",
              "    </tr>\n",
              "  </thead>\n",
              "  <tbody>\n",
              "    <tr>\n",
              "      <th>0</th>\n",
              "      <td>От 3 до 6 лет</td>\n",
              "      <td>243115</td>\n",
              "    </tr>\n",
              "    <tr>\n",
              "      <th>1</th>\n",
              "      <td>От 1 года до 3 лет</td>\n",
              "      <td>139675</td>\n",
              "    </tr>\n",
              "    <tr>\n",
              "      <th>2</th>\n",
              "      <td>Нет опыта</td>\n",
              "      <td>74643</td>\n",
              "    </tr>\n",
              "  </tbody>\n",
              "</table>\n",
              "</div>"
            ],
            "text/plain": [
              "                  exp    aver\n",
              "0       От 3 до 6 лет  243115\n",
              "1  От 1 года до 3 лет  139675\n",
              "2           Нет опыта   74643"
            ]
          },
          "metadata": {},
          "output_type": "display_data"
        },
        {
          "name": "stdout",
          "output_type": "stream",
          "text": [
            "Зарплата предлагаемая для дата-сайентист с опытом работы от 3 до 6 лет в среднем составляет 243115 рублей\n"
          ]
        }
      ],
      "source": [
        "# результат запроса\n",
        "display(df_6_6)\n",
        "print('Зарплата предлагаемая для дата-сайентист с опытом работы от 3 до 6 лет в среднем составляет', df_6_6.loc[0]['aver'], 'рублей')"
      ]
    },
    {
      "cell_type": "markdown",
      "id": "UjLWUptVwY1o",
      "metadata": {
        "id": "UjLWUptVwY1o"
      },
      "source": [
        "# выводы по предметному анализу\n",
        "\n",
        "1. Количество вакансий, имеющих отношение к данным 1771\n",
        "\n",
        "2. Количество подходящих вакансий для начинающего дата-сайентиста 51, что составляет только 3% от количества вакансий, имеющих отношение к данным\n",
        "\n",
        "3. Количество DS-вакансий с указанием ключевого навыка SQL или postgres 201 и составляет только 11% от количества вакансий, имеющих отношение к данным, что говорит о специфичности этих навыков.\n",
        "\n",
        "4. Количество DS-вакансий с указанием ключевого навыка Python 351 и составляет 20% от количества вакансий, имеющих отношение к данным и больше показателя в п.3, что говорит о большей востребованности навыка Python.\n",
        "\n",
        "5. Количество ключевых навыков в вакансиях для DS в среднем 6.41.\n",
        "\n",
        "6. Зарплата предлагаемая для дата-сайентист с опытом работы от 3 до 6 лет в среднем составляет 243115 рублей.\n",
        "\n",
        "7. Количество работодателей в качестве сферы деятельности указана Разработка программного обеспечения 3553. Количество вакансий, имеющих отношение к данным 1771. Учитывая, что DS-отрасль довольно молодая, она успешно соперничает с более старшим направлением в IT.\n"
      ]
    },
    {
      "cell_type": "markdown",
      "id": "c0ED6fh7wiBT",
      "metadata": {
        "id": "c0ED6fh7wiBT"
      },
      "source": [
        "# Общий вывод по проекту"
      ]
    },
    {
      "cell_type": "markdown",
      "id": "1c2d97fc",
      "metadata": {},
      "source": [
        "1. По количеству работодателей лидирует Москва и она же лидер по количеству вакансий, опережая почти в два раза Санкт-Петербург."
      ]
    },
    {
      "cell_type": "code",
      "execution_count": 48,
      "id": "23d1c987",
      "metadata": {},
      "outputs": [
        {
          "data": {
            "application/vnd.plotly.v1+json": {
              "config": {
                "plotlyServerURL": "https://plot.ly"
              },
              "data": [
                {
                  "branchvalues": "total",
                  "customdata": [
                    [
                      1131
                    ],
                    [
                      1301
                    ],
                    [
                      1415
                    ],
                    [
                      1670
                    ],
                    [
                      1698
                    ],
                    [
                      1892
                    ],
                    [
                      2006
                    ],
                    [
                      2112
                    ],
                    [
                      2851
                    ],
                    [
                      5333
                    ],
                    [
                      1131
                    ],
                    [
                      1301
                    ],
                    [
                      1670
                    ],
                    [
                      1415
                    ],
                    [
                      2006
                    ],
                    [
                      1698
                    ],
                    [
                      1892
                    ],
                    [
                      2112
                    ],
                    [
                      2851
                    ],
                    [
                      5333
                    ],
                    [
                      1892
                    ],
                    [
                      1698
                    ],
                    [
                      1415
                    ],
                    [
                      1301
                    ],
                    [
                      2112
                    ],
                    [
                      5333
                    ],
                    [
                      1670
                    ],
                    [
                      2006
                    ],
                    [
                      1131
                    ],
                    [
                      2851
                    ]
                  ],
                  "domain": {
                    "x": [
                      0,
                      1
                    ],
                    "y": [
                      0,
                      1
                    ]
                  },
                  "hovertemplate": "labels=%{label}<br>cnt_v_sum=%{value}<br>parent=%{parent}<br>id=%{id}<br>cnt_v=%{color}<extra></extra>",
                  "ids": [
                    "Ростов-на-Дону/335/1131",
                    "Краснодар/409/1301",
                    "Казань/480/1415",
                    "Нижний Новгород/426/1670",
                    "Екатеринбург/609/1698",
                    "Алматы/721/1892",
                    "Новосибирск/573/2006",
                    "Минск/1115/2112",
                    "Санкт-Петербург/2217/2851",
                    "Москва/5864/5333",
                    "Ростов-на-Дону/335",
                    "Краснодар/409",
                    "Нижний Новгород/426",
                    "Казань/480",
                    "Новосибирск/573",
                    "Екатеринбург/609",
                    "Алматы/721",
                    "Минск/1115",
                    "Санкт-Петербург/2217",
                    "Москва/5864",
                    "Алматы",
                    "Екатеринбург",
                    "Казань",
                    "Краснодар",
                    "Минск",
                    "Москва",
                    "Нижний Новгород",
                    "Новосибирск",
                    "Ростов-на-Дону",
                    "Санкт-Петербург"
                  ],
                  "labels": [
                    "1131",
                    "1301",
                    "1415",
                    "1670",
                    "1698",
                    "1892",
                    "2006",
                    "2112",
                    "2851",
                    "5333",
                    "335",
                    "409",
                    "426",
                    "480",
                    "573",
                    "609",
                    "721",
                    "1115",
                    "2217",
                    "5864",
                    "Алматы",
                    "Екатеринбург",
                    "Казань",
                    "Краснодар",
                    "Минск",
                    "Москва",
                    "Нижний Новгород",
                    "Новосибирск",
                    "Ростов-на-Дону",
                    "Санкт-Петербург"
                  ],
                  "marker": {
                    "coloraxis": "coloraxis",
                    "colors": [
                      1131,
                      1301,
                      1415,
                      1670,
                      1698,
                      1892,
                      2006,
                      2112,
                      2851,
                      5333,
                      1131,
                      1301,
                      1670,
                      1415,
                      2006,
                      1698,
                      1892,
                      2112,
                      2851,
                      5333,
                      1892,
                      1698,
                      1415,
                      1301,
                      2112,
                      5333,
                      1670,
                      2006,
                      1131,
                      2851
                    ]
                  },
                  "name": "",
                  "parents": [
                    "Ростов-на-Дону/335",
                    "Краснодар/409",
                    "Казань/480",
                    "Нижний Новгород/426",
                    "Екатеринбург/609",
                    "Алматы/721",
                    "Новосибирск/573",
                    "Минск/1115",
                    "Санкт-Петербург/2217",
                    "Москва/5864",
                    "Ростов-на-Дону",
                    "Краснодар",
                    "Нижний Новгород",
                    "Казань",
                    "Новосибирск",
                    "Екатеринбург",
                    "Алматы",
                    "Минск",
                    "Санкт-Петербург",
                    "Москва",
                    "",
                    "",
                    "",
                    "",
                    "",
                    "",
                    "",
                    "",
                    "",
                    ""
                  ],
                  "type": "treemap",
                  "values": [
                    1131,
                    1301,
                    1415,
                    1670,
                    1698,
                    1892,
                    2006,
                    2112,
                    2851,
                    5333,
                    1131,
                    1301,
                    1670,
                    1415,
                    2006,
                    1698,
                    1892,
                    2112,
                    2851,
                    5333,
                    1892,
                    1698,
                    1415,
                    1301,
                    2112,
                    5333,
                    1670,
                    2006,
                    1131,
                    2851
                  ]
                }
              ],
              "layout": {
                "coloraxis": {
                  "colorbar": {
                    "title": {
                      "text": "cnt_v"
                    }
                  },
                  "colorscale": [
                    [
                      0,
                      "rgb(247,251,255)"
                    ],
                    [
                      0.125,
                      "rgb(222,235,247)"
                    ],
                    [
                      0.25,
                      "rgb(198,219,239)"
                    ],
                    [
                      0.375,
                      "rgb(158,202,225)"
                    ],
                    [
                      0.5,
                      "rgb(107,174,214)"
                    ],
                    [
                      0.625,
                      "rgb(66,146,198)"
                    ],
                    [
                      0.75,
                      "rgb(33,113,181)"
                    ],
                    [
                      0.875,
                      "rgb(8,81,156)"
                    ],
                    [
                      1,
                      "rgb(8,48,107)"
                    ]
                  ]
                },
                "legend": {
                  "tracegroupgap": 0
                },
                "template": {
                  "data": {
                    "bar": [
                      {
                        "error_x": {
                          "color": "#2a3f5f"
                        },
                        "error_y": {
                          "color": "#2a3f5f"
                        },
                        "marker": {
                          "line": {
                            "color": "#E5ECF6",
                            "width": 0.5
                          },
                          "pattern": {
                            "fillmode": "overlay",
                            "size": 10,
                            "solidity": 0.2
                          }
                        },
                        "type": "bar"
                      }
                    ],
                    "barpolar": [
                      {
                        "marker": {
                          "line": {
                            "color": "#E5ECF6",
                            "width": 0.5
                          },
                          "pattern": {
                            "fillmode": "overlay",
                            "size": 10,
                            "solidity": 0.2
                          }
                        },
                        "type": "barpolar"
                      }
                    ],
                    "carpet": [
                      {
                        "aaxis": {
                          "endlinecolor": "#2a3f5f",
                          "gridcolor": "white",
                          "linecolor": "white",
                          "minorgridcolor": "white",
                          "startlinecolor": "#2a3f5f"
                        },
                        "baxis": {
                          "endlinecolor": "#2a3f5f",
                          "gridcolor": "white",
                          "linecolor": "white",
                          "minorgridcolor": "white",
                          "startlinecolor": "#2a3f5f"
                        },
                        "type": "carpet"
                      }
                    ],
                    "choropleth": [
                      {
                        "colorbar": {
                          "outlinewidth": 0,
                          "ticks": ""
                        },
                        "type": "choropleth"
                      }
                    ],
                    "contour": [
                      {
                        "colorbar": {
                          "outlinewidth": 0,
                          "ticks": ""
                        },
                        "colorscale": [
                          [
                            0,
                            "#0d0887"
                          ],
                          [
                            0.1111111111111111,
                            "#46039f"
                          ],
                          [
                            0.2222222222222222,
                            "#7201a8"
                          ],
                          [
                            0.3333333333333333,
                            "#9c179e"
                          ],
                          [
                            0.4444444444444444,
                            "#bd3786"
                          ],
                          [
                            0.5555555555555556,
                            "#d8576b"
                          ],
                          [
                            0.6666666666666666,
                            "#ed7953"
                          ],
                          [
                            0.7777777777777778,
                            "#fb9f3a"
                          ],
                          [
                            0.8888888888888888,
                            "#fdca26"
                          ],
                          [
                            1,
                            "#f0f921"
                          ]
                        ],
                        "type": "contour"
                      }
                    ],
                    "contourcarpet": [
                      {
                        "colorbar": {
                          "outlinewidth": 0,
                          "ticks": ""
                        },
                        "type": "contourcarpet"
                      }
                    ],
                    "heatmap": [
                      {
                        "colorbar": {
                          "outlinewidth": 0,
                          "ticks": ""
                        },
                        "colorscale": [
                          [
                            0,
                            "#0d0887"
                          ],
                          [
                            0.1111111111111111,
                            "#46039f"
                          ],
                          [
                            0.2222222222222222,
                            "#7201a8"
                          ],
                          [
                            0.3333333333333333,
                            "#9c179e"
                          ],
                          [
                            0.4444444444444444,
                            "#bd3786"
                          ],
                          [
                            0.5555555555555556,
                            "#d8576b"
                          ],
                          [
                            0.6666666666666666,
                            "#ed7953"
                          ],
                          [
                            0.7777777777777778,
                            "#fb9f3a"
                          ],
                          [
                            0.8888888888888888,
                            "#fdca26"
                          ],
                          [
                            1,
                            "#f0f921"
                          ]
                        ],
                        "type": "heatmap"
                      }
                    ],
                    "heatmapgl": [
                      {
                        "colorbar": {
                          "outlinewidth": 0,
                          "ticks": ""
                        },
                        "colorscale": [
                          [
                            0,
                            "#0d0887"
                          ],
                          [
                            0.1111111111111111,
                            "#46039f"
                          ],
                          [
                            0.2222222222222222,
                            "#7201a8"
                          ],
                          [
                            0.3333333333333333,
                            "#9c179e"
                          ],
                          [
                            0.4444444444444444,
                            "#bd3786"
                          ],
                          [
                            0.5555555555555556,
                            "#d8576b"
                          ],
                          [
                            0.6666666666666666,
                            "#ed7953"
                          ],
                          [
                            0.7777777777777778,
                            "#fb9f3a"
                          ],
                          [
                            0.8888888888888888,
                            "#fdca26"
                          ],
                          [
                            1,
                            "#f0f921"
                          ]
                        ],
                        "type": "heatmapgl"
                      }
                    ],
                    "histogram": [
                      {
                        "marker": {
                          "pattern": {
                            "fillmode": "overlay",
                            "size": 10,
                            "solidity": 0.2
                          }
                        },
                        "type": "histogram"
                      }
                    ],
                    "histogram2d": [
                      {
                        "colorbar": {
                          "outlinewidth": 0,
                          "ticks": ""
                        },
                        "colorscale": [
                          [
                            0,
                            "#0d0887"
                          ],
                          [
                            0.1111111111111111,
                            "#46039f"
                          ],
                          [
                            0.2222222222222222,
                            "#7201a8"
                          ],
                          [
                            0.3333333333333333,
                            "#9c179e"
                          ],
                          [
                            0.4444444444444444,
                            "#bd3786"
                          ],
                          [
                            0.5555555555555556,
                            "#d8576b"
                          ],
                          [
                            0.6666666666666666,
                            "#ed7953"
                          ],
                          [
                            0.7777777777777778,
                            "#fb9f3a"
                          ],
                          [
                            0.8888888888888888,
                            "#fdca26"
                          ],
                          [
                            1,
                            "#f0f921"
                          ]
                        ],
                        "type": "histogram2d"
                      }
                    ],
                    "histogram2dcontour": [
                      {
                        "colorbar": {
                          "outlinewidth": 0,
                          "ticks": ""
                        },
                        "colorscale": [
                          [
                            0,
                            "#0d0887"
                          ],
                          [
                            0.1111111111111111,
                            "#46039f"
                          ],
                          [
                            0.2222222222222222,
                            "#7201a8"
                          ],
                          [
                            0.3333333333333333,
                            "#9c179e"
                          ],
                          [
                            0.4444444444444444,
                            "#bd3786"
                          ],
                          [
                            0.5555555555555556,
                            "#d8576b"
                          ],
                          [
                            0.6666666666666666,
                            "#ed7953"
                          ],
                          [
                            0.7777777777777778,
                            "#fb9f3a"
                          ],
                          [
                            0.8888888888888888,
                            "#fdca26"
                          ],
                          [
                            1,
                            "#f0f921"
                          ]
                        ],
                        "type": "histogram2dcontour"
                      }
                    ],
                    "mesh3d": [
                      {
                        "colorbar": {
                          "outlinewidth": 0,
                          "ticks": ""
                        },
                        "type": "mesh3d"
                      }
                    ],
                    "parcoords": [
                      {
                        "line": {
                          "colorbar": {
                            "outlinewidth": 0,
                            "ticks": ""
                          }
                        },
                        "type": "parcoords"
                      }
                    ],
                    "pie": [
                      {
                        "automargin": true,
                        "type": "pie"
                      }
                    ],
                    "scatter": [
                      {
                        "fillpattern": {
                          "fillmode": "overlay",
                          "size": 10,
                          "solidity": 0.2
                        },
                        "type": "scatter"
                      }
                    ],
                    "scatter3d": [
                      {
                        "line": {
                          "colorbar": {
                            "outlinewidth": 0,
                            "ticks": ""
                          }
                        },
                        "marker": {
                          "colorbar": {
                            "outlinewidth": 0,
                            "ticks": ""
                          }
                        },
                        "type": "scatter3d"
                      }
                    ],
                    "scattercarpet": [
                      {
                        "marker": {
                          "colorbar": {
                            "outlinewidth": 0,
                            "ticks": ""
                          }
                        },
                        "type": "scattercarpet"
                      }
                    ],
                    "scattergeo": [
                      {
                        "marker": {
                          "colorbar": {
                            "outlinewidth": 0,
                            "ticks": ""
                          }
                        },
                        "type": "scattergeo"
                      }
                    ],
                    "scattergl": [
                      {
                        "marker": {
                          "colorbar": {
                            "outlinewidth": 0,
                            "ticks": ""
                          }
                        },
                        "type": "scattergl"
                      }
                    ],
                    "scattermapbox": [
                      {
                        "marker": {
                          "colorbar": {
                            "outlinewidth": 0,
                            "ticks": ""
                          }
                        },
                        "type": "scattermapbox"
                      }
                    ],
                    "scatterpolar": [
                      {
                        "marker": {
                          "colorbar": {
                            "outlinewidth": 0,
                            "ticks": ""
                          }
                        },
                        "type": "scatterpolar"
                      }
                    ],
                    "scatterpolargl": [
                      {
                        "marker": {
                          "colorbar": {
                            "outlinewidth": 0,
                            "ticks": ""
                          }
                        },
                        "type": "scatterpolargl"
                      }
                    ],
                    "scatterternary": [
                      {
                        "marker": {
                          "colorbar": {
                            "outlinewidth": 0,
                            "ticks": ""
                          }
                        },
                        "type": "scatterternary"
                      }
                    ],
                    "surface": [
                      {
                        "colorbar": {
                          "outlinewidth": 0,
                          "ticks": ""
                        },
                        "colorscale": [
                          [
                            0,
                            "#0d0887"
                          ],
                          [
                            0.1111111111111111,
                            "#46039f"
                          ],
                          [
                            0.2222222222222222,
                            "#7201a8"
                          ],
                          [
                            0.3333333333333333,
                            "#9c179e"
                          ],
                          [
                            0.4444444444444444,
                            "#bd3786"
                          ],
                          [
                            0.5555555555555556,
                            "#d8576b"
                          ],
                          [
                            0.6666666666666666,
                            "#ed7953"
                          ],
                          [
                            0.7777777777777778,
                            "#fb9f3a"
                          ],
                          [
                            0.8888888888888888,
                            "#fdca26"
                          ],
                          [
                            1,
                            "#f0f921"
                          ]
                        ],
                        "type": "surface"
                      }
                    ],
                    "table": [
                      {
                        "cells": {
                          "fill": {
                            "color": "#EBF0F8"
                          },
                          "line": {
                            "color": "white"
                          }
                        },
                        "header": {
                          "fill": {
                            "color": "#C8D4E3"
                          },
                          "line": {
                            "color": "white"
                          }
                        },
                        "type": "table"
                      }
                    ]
                  },
                  "layout": {
                    "annotationdefaults": {
                      "arrowcolor": "#2a3f5f",
                      "arrowhead": 0,
                      "arrowwidth": 1
                    },
                    "autotypenumbers": "strict",
                    "coloraxis": {
                      "colorbar": {
                        "outlinewidth": 0,
                        "ticks": ""
                      }
                    },
                    "colorscale": {
                      "diverging": [
                        [
                          0,
                          "#8e0152"
                        ],
                        [
                          0.1,
                          "#c51b7d"
                        ],
                        [
                          0.2,
                          "#de77ae"
                        ],
                        [
                          0.3,
                          "#f1b6da"
                        ],
                        [
                          0.4,
                          "#fde0ef"
                        ],
                        [
                          0.5,
                          "#f7f7f7"
                        ],
                        [
                          0.6,
                          "#e6f5d0"
                        ],
                        [
                          0.7,
                          "#b8e186"
                        ],
                        [
                          0.8,
                          "#7fbc41"
                        ],
                        [
                          0.9,
                          "#4d9221"
                        ],
                        [
                          1,
                          "#276419"
                        ]
                      ],
                      "sequential": [
                        [
                          0,
                          "#0d0887"
                        ],
                        [
                          0.1111111111111111,
                          "#46039f"
                        ],
                        [
                          0.2222222222222222,
                          "#7201a8"
                        ],
                        [
                          0.3333333333333333,
                          "#9c179e"
                        ],
                        [
                          0.4444444444444444,
                          "#bd3786"
                        ],
                        [
                          0.5555555555555556,
                          "#d8576b"
                        ],
                        [
                          0.6666666666666666,
                          "#ed7953"
                        ],
                        [
                          0.7777777777777778,
                          "#fb9f3a"
                        ],
                        [
                          0.8888888888888888,
                          "#fdca26"
                        ],
                        [
                          1,
                          "#f0f921"
                        ]
                      ],
                      "sequentialminus": [
                        [
                          0,
                          "#0d0887"
                        ],
                        [
                          0.1111111111111111,
                          "#46039f"
                        ],
                        [
                          0.2222222222222222,
                          "#7201a8"
                        ],
                        [
                          0.3333333333333333,
                          "#9c179e"
                        ],
                        [
                          0.4444444444444444,
                          "#bd3786"
                        ],
                        [
                          0.5555555555555556,
                          "#d8576b"
                        ],
                        [
                          0.6666666666666666,
                          "#ed7953"
                        ],
                        [
                          0.7777777777777778,
                          "#fb9f3a"
                        ],
                        [
                          0.8888888888888888,
                          "#fdca26"
                        ],
                        [
                          1,
                          "#f0f921"
                        ]
                      ]
                    },
                    "colorway": [
                      "#636efa",
                      "#EF553B",
                      "#00cc96",
                      "#ab63fa",
                      "#FFA15A",
                      "#19d3f3",
                      "#FF6692",
                      "#B6E880",
                      "#FF97FF",
                      "#FECB52"
                    ],
                    "font": {
                      "color": "#2a3f5f"
                    },
                    "geo": {
                      "bgcolor": "white",
                      "lakecolor": "white",
                      "landcolor": "#E5ECF6",
                      "showlakes": true,
                      "showland": true,
                      "subunitcolor": "white"
                    },
                    "hoverlabel": {
                      "align": "left"
                    },
                    "hovermode": "closest",
                    "mapbox": {
                      "style": "light"
                    },
                    "paper_bgcolor": "white",
                    "plot_bgcolor": "#E5ECF6",
                    "polar": {
                      "angularaxis": {
                        "gridcolor": "white",
                        "linecolor": "white",
                        "ticks": ""
                      },
                      "bgcolor": "#E5ECF6",
                      "radialaxis": {
                        "gridcolor": "white",
                        "linecolor": "white",
                        "ticks": ""
                      }
                    },
                    "scene": {
                      "xaxis": {
                        "backgroundcolor": "#E5ECF6",
                        "gridcolor": "white",
                        "gridwidth": 2,
                        "linecolor": "white",
                        "showbackground": true,
                        "ticks": "",
                        "zerolinecolor": "white"
                      },
                      "yaxis": {
                        "backgroundcolor": "#E5ECF6",
                        "gridcolor": "white",
                        "gridwidth": 2,
                        "linecolor": "white",
                        "showbackground": true,
                        "ticks": "",
                        "zerolinecolor": "white"
                      },
                      "zaxis": {
                        "backgroundcolor": "#E5ECF6",
                        "gridcolor": "white",
                        "gridwidth": 2,
                        "linecolor": "white",
                        "showbackground": true,
                        "ticks": "",
                        "zerolinecolor": "white"
                      }
                    },
                    "shapedefaults": {
                      "line": {
                        "color": "#2a3f5f"
                      }
                    },
                    "ternary": {
                      "aaxis": {
                        "gridcolor": "white",
                        "linecolor": "white",
                        "ticks": ""
                      },
                      "baxis": {
                        "gridcolor": "white",
                        "linecolor": "white",
                        "ticks": ""
                      },
                      "bgcolor": "#E5ECF6",
                      "caxis": {
                        "gridcolor": "white",
                        "linecolor": "white",
                        "ticks": ""
                      }
                    },
                    "title": {
                      "x": 0.05
                    },
                    "xaxis": {
                      "automargin": true,
                      "gridcolor": "white",
                      "linecolor": "white",
                      "ticks": "",
                      "title": {
                        "standoff": 15
                      },
                      "zerolinecolor": "white",
                      "zerolinewidth": 2
                    },
                    "yaxis": {
                      "automargin": true,
                      "gridcolor": "white",
                      "linecolor": "white",
                      "ticks": "",
                      "title": {
                        "standoff": 15
                      },
                      "zerolinecolor": "white",
                      "zerolinewidth": 2
                    }
                  }
                },
                "title": {
                  "text": "Первая десятка регионов по количеству работодателей (второе значение) в регионах с указанием количества вакансий (третье значение)"
                }
              }
            }
          },
          "metadata": {},
          "output_type": "display_data"
        }
      ],
      "source": [
        "query_5_2 = f'''with x as \n",
        "                        (\n",
        "                        select\n",
        "                            a.name,\n",
        "                            a.id,\n",
        "                            count(e.area) as cnt_e\n",
        "                        from areas a\n",
        "                        left join employers e on e.area = a.id\n",
        "                        group by a.name, a.id\n",
        "                        )\n",
        "                select\n",
        "                    x.name,\n",
        "                    coalesce(x.cnt_e, 0) as cnt_e,\n",
        "                    coalesce(count(v.area_id), 0) as cnt_v\n",
        "                from x\n",
        "                left join vacancies v on x.id = v.area_id\n",
        "                group by x.name, x.cnt_e\n",
        "                --having coalesce(count(v.area_id), 0) <> 0\n",
        "                order by x.cnt_e desc\n",
        "                --limit 1\n",
        "            '''\n",
        "with engine.begin() as conn:\n",
        "    df_5_2 = pd.read_sql_query(sa.text(query_5_2), conn)\n",
        "\n",
        "fig = px.treemap(df_5_2[df_5_2['cnt_v'] != 0].head(10), path=['name', 'cnt_e', 'cnt_v'], values='cnt_v', color='cnt_v', color_continuous_scale='Blues', \n",
        "                 title='Первая десятка регионов по количеству работодателей (второе значение) в регионах с указанием количества вакансий (третье значение)')\n",
        "#fig.update_traces(marker=dict(cornerradius=5))\n",
        "fig.show()\n"
      ]
    },
    {
      "cell_type": "markdown",
      "id": "03b2e7de",
      "metadata": {},
      "source": [
        "2.\tВ первой десятке по количеству предлагаемых вакансий находятся четыре IT-компании, две телекоммуникационных компании, две компании из сферы финансовых услуг, одна нефтегазовая компания. В отрыве от всех стоит Яндекс предлагающая 1933 вакансий."
      ]
    },
    {
      "cell_type": "code",
      "execution_count": 50,
      "id": "125dc907",
      "metadata": {},
      "outputs": [
        {
          "data": {
            "application/vnd.plotly.v1+json": {
              "config": {
                "plotlyServerURL": "https://plot.ly"
              },
              "data": [
                {
                  "branchvalues": "total",
                  "customdata": [
                    [
                      176
                    ],
                    [
                      204
                    ],
                    [
                      247
                    ],
                    [
                      292
                    ],
                    [
                      327
                    ],
                    [
                      331
                    ],
                    [
                      428
                    ],
                    [
                      444
                    ],
                    [
                      491
                    ],
                    [
                      1933
                    ],
                    [
                      247
                    ],
                    [
                      331
                    ],
                    [
                      327
                    ],
                    [
                      292
                    ],
                    [
                      176
                    ],
                    [
                      491
                    ],
                    [
                      428
                    ],
                    [
                      204
                    ],
                    [
                      444
                    ],
                    [
                      1933
                    ]
                  ],
                  "domain": {
                    "x": [
                      0,
                      1
                    ],
                    "y": [
                      0,
                      1
                    ]
                  },
                  "hovertemplate": "labels=%{label}<br>cnt_sum=%{value}<br>parent=%{parent}<br>id=%{id}<br>cnt=%{color}<extra></extra>",
                  "ids": [
                    "Первый Бит/176",
                    "Совкомбанк Технологии/204",
                    "DataArt/247",
                    "МТС/292",
                    "ИК СИБИНТЕК/327",
                    "Газпром нефть/331",
                    "СБЕР/428",
                    "Тинькофф/444",
                    "Ростелеком/491",
                    "Яндекс/1933",
                    "DataArt",
                    "Газпром нефть",
                    "ИК СИБИНТЕК",
                    "МТС",
                    "Первый Бит",
                    "Ростелеком",
                    "СБЕР",
                    "Совкомбанк Технологии",
                    "Тинькофф",
                    "Яндекс"
                  ],
                  "labels": [
                    "176",
                    "204",
                    "247",
                    "292",
                    "327",
                    "331",
                    "428",
                    "444",
                    "491",
                    "1933",
                    "DataArt",
                    "Газпром нефть",
                    "ИК СИБИНТЕК",
                    "МТС",
                    "Первый Бит",
                    "Ростелеком",
                    "СБЕР",
                    "Совкомбанк Технологии",
                    "Тинькофф",
                    "Яндекс"
                  ],
                  "marker": {
                    "coloraxis": "coloraxis",
                    "colors": [
                      176,
                      204,
                      247,
                      292,
                      327,
                      331,
                      428,
                      444,
                      491,
                      1933,
                      247,
                      331,
                      327,
                      292,
                      176,
                      491,
                      428,
                      204,
                      444,
                      1933
                    ]
                  },
                  "name": "",
                  "parents": [
                    "Первый Бит",
                    "Совкомбанк Технологии",
                    "DataArt",
                    "МТС",
                    "ИК СИБИНТЕК",
                    "Газпром нефть",
                    "СБЕР",
                    "Тинькофф",
                    "Ростелеком",
                    "Яндекс",
                    "",
                    "",
                    "",
                    "",
                    "",
                    "",
                    "",
                    "",
                    "",
                    ""
                  ],
                  "type": "treemap",
                  "values": [
                    176,
                    204,
                    247,
                    292,
                    327,
                    331,
                    428,
                    444,
                    491,
                    1933,
                    247,
                    331,
                    327,
                    292,
                    176,
                    491,
                    428,
                    204,
                    444,
                    1933
                  ]
                }
              ],
              "layout": {
                "coloraxis": {
                  "colorbar": {
                    "title": {
                      "text": "cnt"
                    }
                  },
                  "colorscale": [
                    [
                      0,
                      "rgb(247,251,255)"
                    ],
                    [
                      0.125,
                      "rgb(222,235,247)"
                    ],
                    [
                      0.25,
                      "rgb(198,219,239)"
                    ],
                    [
                      0.375,
                      "rgb(158,202,225)"
                    ],
                    [
                      0.5,
                      "rgb(107,174,214)"
                    ],
                    [
                      0.625,
                      "rgb(66,146,198)"
                    ],
                    [
                      0.75,
                      "rgb(33,113,181)"
                    ],
                    [
                      0.875,
                      "rgb(8,81,156)"
                    ],
                    [
                      1,
                      "rgb(8,48,107)"
                    ]
                  ]
                },
                "legend": {
                  "tracegroupgap": 0
                },
                "template": {
                  "data": {
                    "bar": [
                      {
                        "error_x": {
                          "color": "#2a3f5f"
                        },
                        "error_y": {
                          "color": "#2a3f5f"
                        },
                        "marker": {
                          "line": {
                            "color": "#E5ECF6",
                            "width": 0.5
                          },
                          "pattern": {
                            "fillmode": "overlay",
                            "size": 10,
                            "solidity": 0.2
                          }
                        },
                        "type": "bar"
                      }
                    ],
                    "barpolar": [
                      {
                        "marker": {
                          "line": {
                            "color": "#E5ECF6",
                            "width": 0.5
                          },
                          "pattern": {
                            "fillmode": "overlay",
                            "size": 10,
                            "solidity": 0.2
                          }
                        },
                        "type": "barpolar"
                      }
                    ],
                    "carpet": [
                      {
                        "aaxis": {
                          "endlinecolor": "#2a3f5f",
                          "gridcolor": "white",
                          "linecolor": "white",
                          "minorgridcolor": "white",
                          "startlinecolor": "#2a3f5f"
                        },
                        "baxis": {
                          "endlinecolor": "#2a3f5f",
                          "gridcolor": "white",
                          "linecolor": "white",
                          "minorgridcolor": "white",
                          "startlinecolor": "#2a3f5f"
                        },
                        "type": "carpet"
                      }
                    ],
                    "choropleth": [
                      {
                        "colorbar": {
                          "outlinewidth": 0,
                          "ticks": ""
                        },
                        "type": "choropleth"
                      }
                    ],
                    "contour": [
                      {
                        "colorbar": {
                          "outlinewidth": 0,
                          "ticks": ""
                        },
                        "colorscale": [
                          [
                            0,
                            "#0d0887"
                          ],
                          [
                            0.1111111111111111,
                            "#46039f"
                          ],
                          [
                            0.2222222222222222,
                            "#7201a8"
                          ],
                          [
                            0.3333333333333333,
                            "#9c179e"
                          ],
                          [
                            0.4444444444444444,
                            "#bd3786"
                          ],
                          [
                            0.5555555555555556,
                            "#d8576b"
                          ],
                          [
                            0.6666666666666666,
                            "#ed7953"
                          ],
                          [
                            0.7777777777777778,
                            "#fb9f3a"
                          ],
                          [
                            0.8888888888888888,
                            "#fdca26"
                          ],
                          [
                            1,
                            "#f0f921"
                          ]
                        ],
                        "type": "contour"
                      }
                    ],
                    "contourcarpet": [
                      {
                        "colorbar": {
                          "outlinewidth": 0,
                          "ticks": ""
                        },
                        "type": "contourcarpet"
                      }
                    ],
                    "heatmap": [
                      {
                        "colorbar": {
                          "outlinewidth": 0,
                          "ticks": ""
                        },
                        "colorscale": [
                          [
                            0,
                            "#0d0887"
                          ],
                          [
                            0.1111111111111111,
                            "#46039f"
                          ],
                          [
                            0.2222222222222222,
                            "#7201a8"
                          ],
                          [
                            0.3333333333333333,
                            "#9c179e"
                          ],
                          [
                            0.4444444444444444,
                            "#bd3786"
                          ],
                          [
                            0.5555555555555556,
                            "#d8576b"
                          ],
                          [
                            0.6666666666666666,
                            "#ed7953"
                          ],
                          [
                            0.7777777777777778,
                            "#fb9f3a"
                          ],
                          [
                            0.8888888888888888,
                            "#fdca26"
                          ],
                          [
                            1,
                            "#f0f921"
                          ]
                        ],
                        "type": "heatmap"
                      }
                    ],
                    "heatmapgl": [
                      {
                        "colorbar": {
                          "outlinewidth": 0,
                          "ticks": ""
                        },
                        "colorscale": [
                          [
                            0,
                            "#0d0887"
                          ],
                          [
                            0.1111111111111111,
                            "#46039f"
                          ],
                          [
                            0.2222222222222222,
                            "#7201a8"
                          ],
                          [
                            0.3333333333333333,
                            "#9c179e"
                          ],
                          [
                            0.4444444444444444,
                            "#bd3786"
                          ],
                          [
                            0.5555555555555556,
                            "#d8576b"
                          ],
                          [
                            0.6666666666666666,
                            "#ed7953"
                          ],
                          [
                            0.7777777777777778,
                            "#fb9f3a"
                          ],
                          [
                            0.8888888888888888,
                            "#fdca26"
                          ],
                          [
                            1,
                            "#f0f921"
                          ]
                        ],
                        "type": "heatmapgl"
                      }
                    ],
                    "histogram": [
                      {
                        "marker": {
                          "pattern": {
                            "fillmode": "overlay",
                            "size": 10,
                            "solidity": 0.2
                          }
                        },
                        "type": "histogram"
                      }
                    ],
                    "histogram2d": [
                      {
                        "colorbar": {
                          "outlinewidth": 0,
                          "ticks": ""
                        },
                        "colorscale": [
                          [
                            0,
                            "#0d0887"
                          ],
                          [
                            0.1111111111111111,
                            "#46039f"
                          ],
                          [
                            0.2222222222222222,
                            "#7201a8"
                          ],
                          [
                            0.3333333333333333,
                            "#9c179e"
                          ],
                          [
                            0.4444444444444444,
                            "#bd3786"
                          ],
                          [
                            0.5555555555555556,
                            "#d8576b"
                          ],
                          [
                            0.6666666666666666,
                            "#ed7953"
                          ],
                          [
                            0.7777777777777778,
                            "#fb9f3a"
                          ],
                          [
                            0.8888888888888888,
                            "#fdca26"
                          ],
                          [
                            1,
                            "#f0f921"
                          ]
                        ],
                        "type": "histogram2d"
                      }
                    ],
                    "histogram2dcontour": [
                      {
                        "colorbar": {
                          "outlinewidth": 0,
                          "ticks": ""
                        },
                        "colorscale": [
                          [
                            0,
                            "#0d0887"
                          ],
                          [
                            0.1111111111111111,
                            "#46039f"
                          ],
                          [
                            0.2222222222222222,
                            "#7201a8"
                          ],
                          [
                            0.3333333333333333,
                            "#9c179e"
                          ],
                          [
                            0.4444444444444444,
                            "#bd3786"
                          ],
                          [
                            0.5555555555555556,
                            "#d8576b"
                          ],
                          [
                            0.6666666666666666,
                            "#ed7953"
                          ],
                          [
                            0.7777777777777778,
                            "#fb9f3a"
                          ],
                          [
                            0.8888888888888888,
                            "#fdca26"
                          ],
                          [
                            1,
                            "#f0f921"
                          ]
                        ],
                        "type": "histogram2dcontour"
                      }
                    ],
                    "mesh3d": [
                      {
                        "colorbar": {
                          "outlinewidth": 0,
                          "ticks": ""
                        },
                        "type": "mesh3d"
                      }
                    ],
                    "parcoords": [
                      {
                        "line": {
                          "colorbar": {
                            "outlinewidth": 0,
                            "ticks": ""
                          }
                        },
                        "type": "parcoords"
                      }
                    ],
                    "pie": [
                      {
                        "automargin": true,
                        "type": "pie"
                      }
                    ],
                    "scatter": [
                      {
                        "fillpattern": {
                          "fillmode": "overlay",
                          "size": 10,
                          "solidity": 0.2
                        },
                        "type": "scatter"
                      }
                    ],
                    "scatter3d": [
                      {
                        "line": {
                          "colorbar": {
                            "outlinewidth": 0,
                            "ticks": ""
                          }
                        },
                        "marker": {
                          "colorbar": {
                            "outlinewidth": 0,
                            "ticks": ""
                          }
                        },
                        "type": "scatter3d"
                      }
                    ],
                    "scattercarpet": [
                      {
                        "marker": {
                          "colorbar": {
                            "outlinewidth": 0,
                            "ticks": ""
                          }
                        },
                        "type": "scattercarpet"
                      }
                    ],
                    "scattergeo": [
                      {
                        "marker": {
                          "colorbar": {
                            "outlinewidth": 0,
                            "ticks": ""
                          }
                        },
                        "type": "scattergeo"
                      }
                    ],
                    "scattergl": [
                      {
                        "marker": {
                          "colorbar": {
                            "outlinewidth": 0,
                            "ticks": ""
                          }
                        },
                        "type": "scattergl"
                      }
                    ],
                    "scattermapbox": [
                      {
                        "marker": {
                          "colorbar": {
                            "outlinewidth": 0,
                            "ticks": ""
                          }
                        },
                        "type": "scattermapbox"
                      }
                    ],
                    "scatterpolar": [
                      {
                        "marker": {
                          "colorbar": {
                            "outlinewidth": 0,
                            "ticks": ""
                          }
                        },
                        "type": "scatterpolar"
                      }
                    ],
                    "scatterpolargl": [
                      {
                        "marker": {
                          "colorbar": {
                            "outlinewidth": 0,
                            "ticks": ""
                          }
                        },
                        "type": "scatterpolargl"
                      }
                    ],
                    "scatterternary": [
                      {
                        "marker": {
                          "colorbar": {
                            "outlinewidth": 0,
                            "ticks": ""
                          }
                        },
                        "type": "scatterternary"
                      }
                    ],
                    "surface": [
                      {
                        "colorbar": {
                          "outlinewidth": 0,
                          "ticks": ""
                        },
                        "colorscale": [
                          [
                            0,
                            "#0d0887"
                          ],
                          [
                            0.1111111111111111,
                            "#46039f"
                          ],
                          [
                            0.2222222222222222,
                            "#7201a8"
                          ],
                          [
                            0.3333333333333333,
                            "#9c179e"
                          ],
                          [
                            0.4444444444444444,
                            "#bd3786"
                          ],
                          [
                            0.5555555555555556,
                            "#d8576b"
                          ],
                          [
                            0.6666666666666666,
                            "#ed7953"
                          ],
                          [
                            0.7777777777777778,
                            "#fb9f3a"
                          ],
                          [
                            0.8888888888888888,
                            "#fdca26"
                          ],
                          [
                            1,
                            "#f0f921"
                          ]
                        ],
                        "type": "surface"
                      }
                    ],
                    "table": [
                      {
                        "cells": {
                          "fill": {
                            "color": "#EBF0F8"
                          },
                          "line": {
                            "color": "white"
                          }
                        },
                        "header": {
                          "fill": {
                            "color": "#C8D4E3"
                          },
                          "line": {
                            "color": "white"
                          }
                        },
                        "type": "table"
                      }
                    ]
                  },
                  "layout": {
                    "annotationdefaults": {
                      "arrowcolor": "#2a3f5f",
                      "arrowhead": 0,
                      "arrowwidth": 1
                    },
                    "autotypenumbers": "strict",
                    "coloraxis": {
                      "colorbar": {
                        "outlinewidth": 0,
                        "ticks": ""
                      }
                    },
                    "colorscale": {
                      "diverging": [
                        [
                          0,
                          "#8e0152"
                        ],
                        [
                          0.1,
                          "#c51b7d"
                        ],
                        [
                          0.2,
                          "#de77ae"
                        ],
                        [
                          0.3,
                          "#f1b6da"
                        ],
                        [
                          0.4,
                          "#fde0ef"
                        ],
                        [
                          0.5,
                          "#f7f7f7"
                        ],
                        [
                          0.6,
                          "#e6f5d0"
                        ],
                        [
                          0.7,
                          "#b8e186"
                        ],
                        [
                          0.8,
                          "#7fbc41"
                        ],
                        [
                          0.9,
                          "#4d9221"
                        ],
                        [
                          1,
                          "#276419"
                        ]
                      ],
                      "sequential": [
                        [
                          0,
                          "#0d0887"
                        ],
                        [
                          0.1111111111111111,
                          "#46039f"
                        ],
                        [
                          0.2222222222222222,
                          "#7201a8"
                        ],
                        [
                          0.3333333333333333,
                          "#9c179e"
                        ],
                        [
                          0.4444444444444444,
                          "#bd3786"
                        ],
                        [
                          0.5555555555555556,
                          "#d8576b"
                        ],
                        [
                          0.6666666666666666,
                          "#ed7953"
                        ],
                        [
                          0.7777777777777778,
                          "#fb9f3a"
                        ],
                        [
                          0.8888888888888888,
                          "#fdca26"
                        ],
                        [
                          1,
                          "#f0f921"
                        ]
                      ],
                      "sequentialminus": [
                        [
                          0,
                          "#0d0887"
                        ],
                        [
                          0.1111111111111111,
                          "#46039f"
                        ],
                        [
                          0.2222222222222222,
                          "#7201a8"
                        ],
                        [
                          0.3333333333333333,
                          "#9c179e"
                        ],
                        [
                          0.4444444444444444,
                          "#bd3786"
                        ],
                        [
                          0.5555555555555556,
                          "#d8576b"
                        ],
                        [
                          0.6666666666666666,
                          "#ed7953"
                        ],
                        [
                          0.7777777777777778,
                          "#fb9f3a"
                        ],
                        [
                          0.8888888888888888,
                          "#fdca26"
                        ],
                        [
                          1,
                          "#f0f921"
                        ]
                      ]
                    },
                    "colorway": [
                      "#636efa",
                      "#EF553B",
                      "#00cc96",
                      "#ab63fa",
                      "#FFA15A",
                      "#19d3f3",
                      "#FF6692",
                      "#B6E880",
                      "#FF97FF",
                      "#FECB52"
                    ],
                    "font": {
                      "color": "#2a3f5f"
                    },
                    "geo": {
                      "bgcolor": "white",
                      "lakecolor": "white",
                      "landcolor": "#E5ECF6",
                      "showlakes": true,
                      "showland": true,
                      "subunitcolor": "white"
                    },
                    "hoverlabel": {
                      "align": "left"
                    },
                    "hovermode": "closest",
                    "mapbox": {
                      "style": "light"
                    },
                    "paper_bgcolor": "white",
                    "plot_bgcolor": "#E5ECF6",
                    "polar": {
                      "angularaxis": {
                        "gridcolor": "white",
                        "linecolor": "white",
                        "ticks": ""
                      },
                      "bgcolor": "#E5ECF6",
                      "radialaxis": {
                        "gridcolor": "white",
                        "linecolor": "white",
                        "ticks": ""
                      }
                    },
                    "scene": {
                      "xaxis": {
                        "backgroundcolor": "#E5ECF6",
                        "gridcolor": "white",
                        "gridwidth": 2,
                        "linecolor": "white",
                        "showbackground": true,
                        "ticks": "",
                        "zerolinecolor": "white"
                      },
                      "yaxis": {
                        "backgroundcolor": "#E5ECF6",
                        "gridcolor": "white",
                        "gridwidth": 2,
                        "linecolor": "white",
                        "showbackground": true,
                        "ticks": "",
                        "zerolinecolor": "white"
                      },
                      "zaxis": {
                        "backgroundcolor": "#E5ECF6",
                        "gridcolor": "white",
                        "gridwidth": 2,
                        "linecolor": "white",
                        "showbackground": true,
                        "ticks": "",
                        "zerolinecolor": "white"
                      }
                    },
                    "shapedefaults": {
                      "line": {
                        "color": "#2a3f5f"
                      }
                    },
                    "ternary": {
                      "aaxis": {
                        "gridcolor": "white",
                        "linecolor": "white",
                        "ticks": ""
                      },
                      "baxis": {
                        "gridcolor": "white",
                        "linecolor": "white",
                        "ticks": ""
                      },
                      "bgcolor": "#E5ECF6",
                      "caxis": {
                        "gridcolor": "white",
                        "linecolor": "white",
                        "ticks": ""
                      }
                    },
                    "title": {
                      "x": 0.05
                    },
                    "xaxis": {
                      "automargin": true,
                      "gridcolor": "white",
                      "linecolor": "white",
                      "ticks": "",
                      "title": {
                        "standoff": 15
                      },
                      "zerolinecolor": "white",
                      "zerolinewidth": 2
                    },
                    "yaxis": {
                      "automargin": true,
                      "gridcolor": "white",
                      "linecolor": "white",
                      "ticks": "",
                      "title": {
                        "standoff": 15
                      },
                      "zerolinecolor": "white",
                      "zerolinewidth": 2
                    }
                  }
                },
                "title": {
                  "text": "Первая десятка работодателей по количеству вакансий"
                }
              }
            }
          },
          "metadata": {},
          "output_type": "display_data"
        }
      ],
      "source": [
        "query_5_1_1 = f'''\n",
        "                select\n",
        "                    count(v.id) cnt,\n",
        "                    e.name\n",
        "                from vacancies v\n",
        "                join employers e on v.employer_id = e.id\n",
        "                group by e.name\n",
        "                order by cnt desc\n",
        "             '''\n",
        "with engine.begin() as conn:\n",
        "    df_5_1_1 = pd.read_sql_query(sa.text(query_5_1_1), conn)\n",
        "\n",
        "fig = px.treemap(df_5_1_1[df_5_1_1['cnt'] != 0].head(10), path=['name', 'cnt'], values='cnt', color='cnt', color_continuous_scale='Blues', \n",
        "                 title='Первая десятка работодателей по количеству вакансий')\n",
        "#fig.update_traces(marker=dict(cornerradius=5))\n",
        "fig.show()"
      ]
    },
    {
      "cell_type": "markdown",
      "id": "f65adcb9",
      "metadata": {},
      "source": [
        "3.\tПервой компанией по количеству регионов, где она публикует свои вакансии также является Яндекс. "
      ]
    },
    {
      "cell_type": "code",
      "execution_count": 51,
      "id": "6c617e7f",
      "metadata": {},
      "outputs": [
        {
          "data": {
            "application/vnd.plotly.v1+json": {
              "config": {
                "plotlyServerURL": "https://plot.ly"
              },
              "data": [
                {
                  "branchvalues": "total",
                  "customdata": [
                    [
                      48
                    ],
                    [
                      48
                    ],
                    [
                      49
                    ],
                    [
                      55
                    ],
                    [
                      63
                    ],
                    [
                      71
                    ],
                    [
                      88
                    ],
                    [
                      116
                    ],
                    [
                      152
                    ],
                    [
                      181
                    ],
                    [
                      48
                    ],
                    [
                      55
                    ],
                    [
                      71
                    ],
                    [
                      88
                    ],
                    [
                      48
                    ],
                    [
                      152
                    ],
                    [
                      63
                    ],
                    [
                      116
                    ],
                    [
                      49
                    ],
                    [
                      181
                    ]
                  ],
                  "domain": {
                    "x": [
                      0,
                      1
                    ],
                    "y": [
                      0,
                      1
                    ]
                  },
                  "hovertemplate": "labels=%{label}<br>cnt_a_sum=%{value}<br>parent=%{parent}<br>id=%{id}<br>cnt_a=%{color}<extra></extra>",
                  "ids": [
                    "КРОН/48",
                    "Почта России/48",
                    "ЭФКО, Управляющая компания/49",
                    "МТС/55",
                    "Совкомбанк/63",
                    "ООО ЕФИН /71",
                    "Поляков Денис Иванович/88",
                    "Спецремонт/116",
                    "Ростелеком/152",
                    "Яндекс/181",
                    "КРОН",
                    "МТС",
                    "ООО ЕФИН ",
                    "Поляков Денис Иванович",
                    "Почта России",
                    "Ростелеком",
                    "Совкомбанк",
                    "Спецремонт",
                    "ЭФКО, Управляющая компания",
                    "Яндекс"
                  ],
                  "labels": [
                    "48",
                    "48",
                    "49",
                    "55",
                    "63",
                    "71",
                    "88",
                    "116",
                    "152",
                    "181",
                    "КРОН",
                    "МТС",
                    "ООО ЕФИН ",
                    "Поляков Денис Иванович",
                    "Почта России",
                    "Ростелеком",
                    "Совкомбанк",
                    "Спецремонт",
                    "ЭФКО, Управляющая компания",
                    "Яндекс"
                  ],
                  "marker": {
                    "coloraxis": "coloraxis",
                    "colors": [
                      48,
                      48,
                      49,
                      55,
                      63,
                      71,
                      88,
                      116,
                      152,
                      181,
                      48,
                      55,
                      71,
                      88,
                      48,
                      152,
                      63,
                      116,
                      49,
                      181
                    ]
                  },
                  "name": "",
                  "parents": [
                    "КРОН",
                    "Почта России",
                    "ЭФКО, Управляющая компания",
                    "МТС",
                    "Совкомбанк",
                    "ООО ЕФИН ",
                    "Поляков Денис Иванович",
                    "Спецремонт",
                    "Ростелеком",
                    "Яндекс",
                    "",
                    "",
                    "",
                    "",
                    "",
                    "",
                    "",
                    "",
                    "",
                    ""
                  ],
                  "type": "treemap",
                  "values": [
                    48,
                    48,
                    49,
                    55,
                    63,
                    71,
                    88,
                    116,
                    152,
                    181,
                    48,
                    55,
                    71,
                    88,
                    48,
                    152,
                    63,
                    116,
                    49,
                    181
                  ]
                }
              ],
              "layout": {
                "coloraxis": {
                  "colorbar": {
                    "title": {
                      "text": "cnt_a"
                    }
                  },
                  "colorscale": [
                    [
                      0,
                      "rgb(247,251,255)"
                    ],
                    [
                      0.125,
                      "rgb(222,235,247)"
                    ],
                    [
                      0.25,
                      "rgb(198,219,239)"
                    ],
                    [
                      0.375,
                      "rgb(158,202,225)"
                    ],
                    [
                      0.5,
                      "rgb(107,174,214)"
                    ],
                    [
                      0.625,
                      "rgb(66,146,198)"
                    ],
                    [
                      0.75,
                      "rgb(33,113,181)"
                    ],
                    [
                      0.875,
                      "rgb(8,81,156)"
                    ],
                    [
                      1,
                      "rgb(8,48,107)"
                    ]
                  ]
                },
                "legend": {
                  "tracegroupgap": 0
                },
                "template": {
                  "data": {
                    "bar": [
                      {
                        "error_x": {
                          "color": "#2a3f5f"
                        },
                        "error_y": {
                          "color": "#2a3f5f"
                        },
                        "marker": {
                          "line": {
                            "color": "#E5ECF6",
                            "width": 0.5
                          },
                          "pattern": {
                            "fillmode": "overlay",
                            "size": 10,
                            "solidity": 0.2
                          }
                        },
                        "type": "bar"
                      }
                    ],
                    "barpolar": [
                      {
                        "marker": {
                          "line": {
                            "color": "#E5ECF6",
                            "width": 0.5
                          },
                          "pattern": {
                            "fillmode": "overlay",
                            "size": 10,
                            "solidity": 0.2
                          }
                        },
                        "type": "barpolar"
                      }
                    ],
                    "carpet": [
                      {
                        "aaxis": {
                          "endlinecolor": "#2a3f5f",
                          "gridcolor": "white",
                          "linecolor": "white",
                          "minorgridcolor": "white",
                          "startlinecolor": "#2a3f5f"
                        },
                        "baxis": {
                          "endlinecolor": "#2a3f5f",
                          "gridcolor": "white",
                          "linecolor": "white",
                          "minorgridcolor": "white",
                          "startlinecolor": "#2a3f5f"
                        },
                        "type": "carpet"
                      }
                    ],
                    "choropleth": [
                      {
                        "colorbar": {
                          "outlinewidth": 0,
                          "ticks": ""
                        },
                        "type": "choropleth"
                      }
                    ],
                    "contour": [
                      {
                        "colorbar": {
                          "outlinewidth": 0,
                          "ticks": ""
                        },
                        "colorscale": [
                          [
                            0,
                            "#0d0887"
                          ],
                          [
                            0.1111111111111111,
                            "#46039f"
                          ],
                          [
                            0.2222222222222222,
                            "#7201a8"
                          ],
                          [
                            0.3333333333333333,
                            "#9c179e"
                          ],
                          [
                            0.4444444444444444,
                            "#bd3786"
                          ],
                          [
                            0.5555555555555556,
                            "#d8576b"
                          ],
                          [
                            0.6666666666666666,
                            "#ed7953"
                          ],
                          [
                            0.7777777777777778,
                            "#fb9f3a"
                          ],
                          [
                            0.8888888888888888,
                            "#fdca26"
                          ],
                          [
                            1,
                            "#f0f921"
                          ]
                        ],
                        "type": "contour"
                      }
                    ],
                    "contourcarpet": [
                      {
                        "colorbar": {
                          "outlinewidth": 0,
                          "ticks": ""
                        },
                        "type": "contourcarpet"
                      }
                    ],
                    "heatmap": [
                      {
                        "colorbar": {
                          "outlinewidth": 0,
                          "ticks": ""
                        },
                        "colorscale": [
                          [
                            0,
                            "#0d0887"
                          ],
                          [
                            0.1111111111111111,
                            "#46039f"
                          ],
                          [
                            0.2222222222222222,
                            "#7201a8"
                          ],
                          [
                            0.3333333333333333,
                            "#9c179e"
                          ],
                          [
                            0.4444444444444444,
                            "#bd3786"
                          ],
                          [
                            0.5555555555555556,
                            "#d8576b"
                          ],
                          [
                            0.6666666666666666,
                            "#ed7953"
                          ],
                          [
                            0.7777777777777778,
                            "#fb9f3a"
                          ],
                          [
                            0.8888888888888888,
                            "#fdca26"
                          ],
                          [
                            1,
                            "#f0f921"
                          ]
                        ],
                        "type": "heatmap"
                      }
                    ],
                    "heatmapgl": [
                      {
                        "colorbar": {
                          "outlinewidth": 0,
                          "ticks": ""
                        },
                        "colorscale": [
                          [
                            0,
                            "#0d0887"
                          ],
                          [
                            0.1111111111111111,
                            "#46039f"
                          ],
                          [
                            0.2222222222222222,
                            "#7201a8"
                          ],
                          [
                            0.3333333333333333,
                            "#9c179e"
                          ],
                          [
                            0.4444444444444444,
                            "#bd3786"
                          ],
                          [
                            0.5555555555555556,
                            "#d8576b"
                          ],
                          [
                            0.6666666666666666,
                            "#ed7953"
                          ],
                          [
                            0.7777777777777778,
                            "#fb9f3a"
                          ],
                          [
                            0.8888888888888888,
                            "#fdca26"
                          ],
                          [
                            1,
                            "#f0f921"
                          ]
                        ],
                        "type": "heatmapgl"
                      }
                    ],
                    "histogram": [
                      {
                        "marker": {
                          "pattern": {
                            "fillmode": "overlay",
                            "size": 10,
                            "solidity": 0.2
                          }
                        },
                        "type": "histogram"
                      }
                    ],
                    "histogram2d": [
                      {
                        "colorbar": {
                          "outlinewidth": 0,
                          "ticks": ""
                        },
                        "colorscale": [
                          [
                            0,
                            "#0d0887"
                          ],
                          [
                            0.1111111111111111,
                            "#46039f"
                          ],
                          [
                            0.2222222222222222,
                            "#7201a8"
                          ],
                          [
                            0.3333333333333333,
                            "#9c179e"
                          ],
                          [
                            0.4444444444444444,
                            "#bd3786"
                          ],
                          [
                            0.5555555555555556,
                            "#d8576b"
                          ],
                          [
                            0.6666666666666666,
                            "#ed7953"
                          ],
                          [
                            0.7777777777777778,
                            "#fb9f3a"
                          ],
                          [
                            0.8888888888888888,
                            "#fdca26"
                          ],
                          [
                            1,
                            "#f0f921"
                          ]
                        ],
                        "type": "histogram2d"
                      }
                    ],
                    "histogram2dcontour": [
                      {
                        "colorbar": {
                          "outlinewidth": 0,
                          "ticks": ""
                        },
                        "colorscale": [
                          [
                            0,
                            "#0d0887"
                          ],
                          [
                            0.1111111111111111,
                            "#46039f"
                          ],
                          [
                            0.2222222222222222,
                            "#7201a8"
                          ],
                          [
                            0.3333333333333333,
                            "#9c179e"
                          ],
                          [
                            0.4444444444444444,
                            "#bd3786"
                          ],
                          [
                            0.5555555555555556,
                            "#d8576b"
                          ],
                          [
                            0.6666666666666666,
                            "#ed7953"
                          ],
                          [
                            0.7777777777777778,
                            "#fb9f3a"
                          ],
                          [
                            0.8888888888888888,
                            "#fdca26"
                          ],
                          [
                            1,
                            "#f0f921"
                          ]
                        ],
                        "type": "histogram2dcontour"
                      }
                    ],
                    "mesh3d": [
                      {
                        "colorbar": {
                          "outlinewidth": 0,
                          "ticks": ""
                        },
                        "type": "mesh3d"
                      }
                    ],
                    "parcoords": [
                      {
                        "line": {
                          "colorbar": {
                            "outlinewidth": 0,
                            "ticks": ""
                          }
                        },
                        "type": "parcoords"
                      }
                    ],
                    "pie": [
                      {
                        "automargin": true,
                        "type": "pie"
                      }
                    ],
                    "scatter": [
                      {
                        "fillpattern": {
                          "fillmode": "overlay",
                          "size": 10,
                          "solidity": 0.2
                        },
                        "type": "scatter"
                      }
                    ],
                    "scatter3d": [
                      {
                        "line": {
                          "colorbar": {
                            "outlinewidth": 0,
                            "ticks": ""
                          }
                        },
                        "marker": {
                          "colorbar": {
                            "outlinewidth": 0,
                            "ticks": ""
                          }
                        },
                        "type": "scatter3d"
                      }
                    ],
                    "scattercarpet": [
                      {
                        "marker": {
                          "colorbar": {
                            "outlinewidth": 0,
                            "ticks": ""
                          }
                        },
                        "type": "scattercarpet"
                      }
                    ],
                    "scattergeo": [
                      {
                        "marker": {
                          "colorbar": {
                            "outlinewidth": 0,
                            "ticks": ""
                          }
                        },
                        "type": "scattergeo"
                      }
                    ],
                    "scattergl": [
                      {
                        "marker": {
                          "colorbar": {
                            "outlinewidth": 0,
                            "ticks": ""
                          }
                        },
                        "type": "scattergl"
                      }
                    ],
                    "scattermapbox": [
                      {
                        "marker": {
                          "colorbar": {
                            "outlinewidth": 0,
                            "ticks": ""
                          }
                        },
                        "type": "scattermapbox"
                      }
                    ],
                    "scatterpolar": [
                      {
                        "marker": {
                          "colorbar": {
                            "outlinewidth": 0,
                            "ticks": ""
                          }
                        },
                        "type": "scatterpolar"
                      }
                    ],
                    "scatterpolargl": [
                      {
                        "marker": {
                          "colorbar": {
                            "outlinewidth": 0,
                            "ticks": ""
                          }
                        },
                        "type": "scatterpolargl"
                      }
                    ],
                    "scatterternary": [
                      {
                        "marker": {
                          "colorbar": {
                            "outlinewidth": 0,
                            "ticks": ""
                          }
                        },
                        "type": "scatterternary"
                      }
                    ],
                    "surface": [
                      {
                        "colorbar": {
                          "outlinewidth": 0,
                          "ticks": ""
                        },
                        "colorscale": [
                          [
                            0,
                            "#0d0887"
                          ],
                          [
                            0.1111111111111111,
                            "#46039f"
                          ],
                          [
                            0.2222222222222222,
                            "#7201a8"
                          ],
                          [
                            0.3333333333333333,
                            "#9c179e"
                          ],
                          [
                            0.4444444444444444,
                            "#bd3786"
                          ],
                          [
                            0.5555555555555556,
                            "#d8576b"
                          ],
                          [
                            0.6666666666666666,
                            "#ed7953"
                          ],
                          [
                            0.7777777777777778,
                            "#fb9f3a"
                          ],
                          [
                            0.8888888888888888,
                            "#fdca26"
                          ],
                          [
                            1,
                            "#f0f921"
                          ]
                        ],
                        "type": "surface"
                      }
                    ],
                    "table": [
                      {
                        "cells": {
                          "fill": {
                            "color": "#EBF0F8"
                          },
                          "line": {
                            "color": "white"
                          }
                        },
                        "header": {
                          "fill": {
                            "color": "#C8D4E3"
                          },
                          "line": {
                            "color": "white"
                          }
                        },
                        "type": "table"
                      }
                    ]
                  },
                  "layout": {
                    "annotationdefaults": {
                      "arrowcolor": "#2a3f5f",
                      "arrowhead": 0,
                      "arrowwidth": 1
                    },
                    "autotypenumbers": "strict",
                    "coloraxis": {
                      "colorbar": {
                        "outlinewidth": 0,
                        "ticks": ""
                      }
                    },
                    "colorscale": {
                      "diverging": [
                        [
                          0,
                          "#8e0152"
                        ],
                        [
                          0.1,
                          "#c51b7d"
                        ],
                        [
                          0.2,
                          "#de77ae"
                        ],
                        [
                          0.3,
                          "#f1b6da"
                        ],
                        [
                          0.4,
                          "#fde0ef"
                        ],
                        [
                          0.5,
                          "#f7f7f7"
                        ],
                        [
                          0.6,
                          "#e6f5d0"
                        ],
                        [
                          0.7,
                          "#b8e186"
                        ],
                        [
                          0.8,
                          "#7fbc41"
                        ],
                        [
                          0.9,
                          "#4d9221"
                        ],
                        [
                          1,
                          "#276419"
                        ]
                      ],
                      "sequential": [
                        [
                          0,
                          "#0d0887"
                        ],
                        [
                          0.1111111111111111,
                          "#46039f"
                        ],
                        [
                          0.2222222222222222,
                          "#7201a8"
                        ],
                        [
                          0.3333333333333333,
                          "#9c179e"
                        ],
                        [
                          0.4444444444444444,
                          "#bd3786"
                        ],
                        [
                          0.5555555555555556,
                          "#d8576b"
                        ],
                        [
                          0.6666666666666666,
                          "#ed7953"
                        ],
                        [
                          0.7777777777777778,
                          "#fb9f3a"
                        ],
                        [
                          0.8888888888888888,
                          "#fdca26"
                        ],
                        [
                          1,
                          "#f0f921"
                        ]
                      ],
                      "sequentialminus": [
                        [
                          0,
                          "#0d0887"
                        ],
                        [
                          0.1111111111111111,
                          "#46039f"
                        ],
                        [
                          0.2222222222222222,
                          "#7201a8"
                        ],
                        [
                          0.3333333333333333,
                          "#9c179e"
                        ],
                        [
                          0.4444444444444444,
                          "#bd3786"
                        ],
                        [
                          0.5555555555555556,
                          "#d8576b"
                        ],
                        [
                          0.6666666666666666,
                          "#ed7953"
                        ],
                        [
                          0.7777777777777778,
                          "#fb9f3a"
                        ],
                        [
                          0.8888888888888888,
                          "#fdca26"
                        ],
                        [
                          1,
                          "#f0f921"
                        ]
                      ]
                    },
                    "colorway": [
                      "#636efa",
                      "#EF553B",
                      "#00cc96",
                      "#ab63fa",
                      "#FFA15A",
                      "#19d3f3",
                      "#FF6692",
                      "#B6E880",
                      "#FF97FF",
                      "#FECB52"
                    ],
                    "font": {
                      "color": "#2a3f5f"
                    },
                    "geo": {
                      "bgcolor": "white",
                      "lakecolor": "white",
                      "landcolor": "#E5ECF6",
                      "showlakes": true,
                      "showland": true,
                      "subunitcolor": "white"
                    },
                    "hoverlabel": {
                      "align": "left"
                    },
                    "hovermode": "closest",
                    "mapbox": {
                      "style": "light"
                    },
                    "paper_bgcolor": "white",
                    "plot_bgcolor": "#E5ECF6",
                    "polar": {
                      "angularaxis": {
                        "gridcolor": "white",
                        "linecolor": "white",
                        "ticks": ""
                      },
                      "bgcolor": "#E5ECF6",
                      "radialaxis": {
                        "gridcolor": "white",
                        "linecolor": "white",
                        "ticks": ""
                      }
                    },
                    "scene": {
                      "xaxis": {
                        "backgroundcolor": "#E5ECF6",
                        "gridcolor": "white",
                        "gridwidth": 2,
                        "linecolor": "white",
                        "showbackground": true,
                        "ticks": "",
                        "zerolinecolor": "white"
                      },
                      "yaxis": {
                        "backgroundcolor": "#E5ECF6",
                        "gridcolor": "white",
                        "gridwidth": 2,
                        "linecolor": "white",
                        "showbackground": true,
                        "ticks": "",
                        "zerolinecolor": "white"
                      },
                      "zaxis": {
                        "backgroundcolor": "#E5ECF6",
                        "gridcolor": "white",
                        "gridwidth": 2,
                        "linecolor": "white",
                        "showbackground": true,
                        "ticks": "",
                        "zerolinecolor": "white"
                      }
                    },
                    "shapedefaults": {
                      "line": {
                        "color": "#2a3f5f"
                      }
                    },
                    "ternary": {
                      "aaxis": {
                        "gridcolor": "white",
                        "linecolor": "white",
                        "ticks": ""
                      },
                      "baxis": {
                        "gridcolor": "white",
                        "linecolor": "white",
                        "ticks": ""
                      },
                      "bgcolor": "#E5ECF6",
                      "caxis": {
                        "gridcolor": "white",
                        "linecolor": "white",
                        "ticks": ""
                      }
                    },
                    "title": {
                      "x": 0.05
                    },
                    "xaxis": {
                      "automargin": true,
                      "gridcolor": "white",
                      "linecolor": "white",
                      "ticks": "",
                      "title": {
                        "standoff": 15
                      },
                      "zerolinecolor": "white",
                      "zerolinewidth": 2
                    },
                    "yaxis": {
                      "automargin": true,
                      "gridcolor": "white",
                      "linecolor": "white",
                      "ticks": "",
                      "title": {
                        "standoff": 15
                      },
                      "zerolinecolor": "white",
                      "zerolinewidth": 2
                    }
                  }
                },
                "title": {
                  "text": "Компании и количество регионов, в которых он публикует свои вакансии"
                }
              }
            }
          },
          "metadata": {},
          "output_type": "display_data"
        }
      ],
      "source": [
        "# результат запроса\n",
        "\n",
        "fig = px.treemap(df_5_3.head(10), path=['name', 'cnt_a'], values='cnt_a', color='cnt_a', color_continuous_scale='Blues', \n",
        "                 title='Компании и количество регионов, в которых он публикует свои вакансии')\n",
        "\n",
        "#fig.update_traces(marker=dict(cornerradius=5))\n",
        "fig.show()"
      ]
    },
    {
      "cell_type": "markdown",
      "id": "ab4650a1",
      "metadata": {},
      "source": [
        "4.\tПри определении зависимости числа вакансий от сочетания типа рабочего графика и типа трудоустройства выявлен само собой разумеющийся факт максимального запроса соискателей на полный рабочий день и полную занятость. Далее с более чем четырехкратным отставанием следует удалённая работа и полная занятость."
      ]
    },
    {
      "cell_type": "code",
      "execution_count": 103,
      "id": "3302a2c4",
      "metadata": {},
      "outputs": [
        {
          "data": {
            "application/vnd.plotly.v1+json": {
              "config": {
                "plotlyServerURL": "https://plot.ly"
              },
              "data": [
                {
                  "branchvalues": "total",
                  "customdata": [
                    [
                      1
                    ],
                    [
                      2
                    ],
                    [
                      12
                    ],
                    [
                      18
                    ],
                    [
                      64
                    ],
                    [
                      101
                    ],
                    [
                      116
                    ],
                    [
                      133
                    ],
                    [
                      141
                    ],
                    [
                      312
                    ],
                    [
                      347
                    ],
                    [
                      367
                    ],
                    [
                      569
                    ],
                    [
                      940
                    ],
                    [
                      1312
                    ],
                    [
                      1593
                    ],
                    [
                      7802
                    ],
                    [
                      35367
                    ],
                    [
                      367
                    ],
                    [
                      1593
                    ],
                    [
                      35367
                    ],
                    [
                      940
                    ],
                    [
                      7802
                    ],
                    [
                      2
                    ],
                    [
                      18
                    ],
                    [
                      141
                    ],
                    [
                      1
                    ],
                    [
                      133
                    ],
                    [
                      116
                    ],
                    [
                      569
                    ],
                    [
                      12
                    ],
                    [
                      64
                    ],
                    [
                      312
                    ],
                    [
                      347
                    ],
                    [
                      101
                    ],
                    [
                      1312
                    ],
                    [
                      365.02168021680217
                    ],
                    [
                      1299.0549288867091
                    ],
                    [
                      34353.41368328575
                    ],
                    [
                      848.146110056926
                    ],
                    [
                      6724.76994952207
                    ]
                  ],
                  "domain": {
                    "x": [
                      0,
                      1
                    ],
                    "y": [
                      0,
                      1
                    ]
                  },
                  "hovertemplate": "labels=%{label}<br>cnt_sum=%{value}<br>parent=%{parent}<br>id=%{id}<br>cnt=%{color}<extra></extra>",
                  "ids": [
                    "Сменный график/Проектная работа/1",
                    "Вахтовый метод/Проектная работа/2",
                    "Сменный график/Стажировка/12",
                    "Гибкий график/Проектная работа/18",
                    "Удаленная работа/Стажировка/64",
                    "Сменный график/Частичная занятость/101",
                    "Гибкий график/Стажировка/116",
                    "Удаленная работа/Проектная работа/133",
                    "Полный день/Проектная работа/141",
                    "Гибкий график/Частичная занятость/312",
                    "Полный день/Частичная занятость/347",
                    "Вахтовый метод/Полная занятость/367",
                    "Полный день/Стажировка/569",
                    "Сменный график/Полная занятость/940",
                    "Удаленная работа/Частичная занятость/1312",
                    "Гибкий график/Полная занятость/1593",
                    "Удаленная работа/Полная занятость/7802",
                    "Полный день/Полная занятость/35367",
                    "Вахтовый метод/Полная занятость",
                    "Гибкий график/Полная занятость",
                    "Полный день/Полная занятость",
                    "Сменный график/Полная занятость",
                    "Удаленная работа/Полная занятость",
                    "Вахтовый метод/Проектная работа",
                    "Гибкий график/Проектная работа",
                    "Полный день/Проектная работа",
                    "Сменный график/Проектная работа",
                    "Удаленная работа/Проектная работа",
                    "Гибкий график/Стажировка",
                    "Полный день/Стажировка",
                    "Сменный график/Стажировка",
                    "Удаленная работа/Стажировка",
                    "Гибкий график/Частичная занятость",
                    "Полный день/Частичная занятость",
                    "Сменный график/Частичная занятость",
                    "Удаленная работа/Частичная занятость",
                    "Вахтовый метод",
                    "Гибкий график",
                    "Полный день",
                    "Сменный график",
                    "Удаленная работа"
                  ],
                  "labels": [
                    "1",
                    "2",
                    "12",
                    "18",
                    "64",
                    "101",
                    "116",
                    "133",
                    "141",
                    "312",
                    "347",
                    "367",
                    "569",
                    "940",
                    "1312",
                    "1593",
                    "7802",
                    "35367",
                    "Полная занятость",
                    "Полная занятость",
                    "Полная занятость",
                    "Полная занятость",
                    "Полная занятость",
                    "Проектная работа",
                    "Проектная работа",
                    "Проектная работа",
                    "Проектная работа",
                    "Проектная работа",
                    "Стажировка",
                    "Стажировка",
                    "Стажировка",
                    "Стажировка",
                    "Частичная занятость",
                    "Частичная занятость",
                    "Частичная занятость",
                    "Частичная занятость",
                    "Вахтовый метод",
                    "Гибкий график",
                    "Полный день",
                    "Сменный график",
                    "Удаленная работа"
                  ],
                  "marker": {
                    "coloraxis": "coloraxis",
                    "colors": [
                      1,
                      2,
                      12,
                      18,
                      64,
                      101,
                      116,
                      133,
                      141,
                      312,
                      347,
                      367,
                      569,
                      940,
                      1312,
                      1593,
                      7802,
                      35367,
                      367,
                      1593,
                      35367,
                      940,
                      7802,
                      2,
                      18,
                      141,
                      1,
                      133,
                      116,
                      569,
                      12,
                      64,
                      312,
                      347,
                      101,
                      1312,
                      365.02168021680217,
                      1299.0549288867091,
                      34353.41368328575,
                      848.146110056926,
                      6724.76994952207
                    ],
                    "cornerradius": 5
                  },
                  "name": "",
                  "parents": [
                    "Сменный график/Проектная работа",
                    "Вахтовый метод/Проектная работа",
                    "Сменный график/Стажировка",
                    "Гибкий график/Проектная работа",
                    "Удаленная работа/Стажировка",
                    "Сменный график/Частичная занятость",
                    "Гибкий график/Стажировка",
                    "Удаленная работа/Проектная работа",
                    "Полный день/Проектная работа",
                    "Гибкий график/Частичная занятость",
                    "Полный день/Частичная занятость",
                    "Вахтовый метод/Полная занятость",
                    "Полный день/Стажировка",
                    "Сменный график/Полная занятость",
                    "Удаленная работа/Частичная занятость",
                    "Гибкий график/Полная занятость",
                    "Удаленная работа/Полная занятость",
                    "Полный день/Полная занятость",
                    "Вахтовый метод",
                    "Гибкий график",
                    "Полный день",
                    "Сменный график",
                    "Удаленная работа",
                    "Вахтовый метод",
                    "Гибкий график",
                    "Полный день",
                    "Сменный график",
                    "Удаленная работа",
                    "Гибкий график",
                    "Полный день",
                    "Сменный график",
                    "Удаленная работа",
                    "Гибкий график",
                    "Полный день",
                    "Сменный график",
                    "Удаленная работа",
                    "",
                    "",
                    "",
                    "",
                    ""
                  ],
                  "type": "treemap",
                  "values": [
                    1,
                    2,
                    12,
                    18,
                    64,
                    101,
                    116,
                    133,
                    141,
                    312,
                    347,
                    367,
                    569,
                    940,
                    1312,
                    1593,
                    7802,
                    35367,
                    367,
                    1593,
                    35367,
                    940,
                    7802,
                    2,
                    18,
                    141,
                    1,
                    133,
                    116,
                    569,
                    12,
                    64,
                    312,
                    347,
                    101,
                    1312,
                    369,
                    2039,
                    36424,
                    1054,
                    9311
                  ]
                }
              ],
              "layout": {
                "coloraxis": {
                  "colorbar": {
                    "title": {
                      "text": "cnt"
                    }
                  },
                  "colorscale": [
                    [
                      0,
                      "rgb(247,251,255)"
                    ],
                    [
                      0.125,
                      "rgb(222,235,247)"
                    ],
                    [
                      0.25,
                      "rgb(198,219,239)"
                    ],
                    [
                      0.375,
                      "rgb(158,202,225)"
                    ],
                    [
                      0.5,
                      "rgb(107,174,214)"
                    ],
                    [
                      0.625,
                      "rgb(66,146,198)"
                    ],
                    [
                      0.75,
                      "rgb(33,113,181)"
                    ],
                    [
                      0.875,
                      "rgb(8,81,156)"
                    ],
                    [
                      1,
                      "rgb(8,48,107)"
                    ]
                  ]
                },
                "height": 700,
                "legend": {
                  "tracegroupgap": 0
                },
                "template": {
                  "data": {
                    "bar": [
                      {
                        "error_x": {
                          "color": "#2a3f5f"
                        },
                        "error_y": {
                          "color": "#2a3f5f"
                        },
                        "marker": {
                          "line": {
                            "color": "#E5ECF6",
                            "width": 0.5
                          },
                          "pattern": {
                            "fillmode": "overlay",
                            "size": 10,
                            "solidity": 0.2
                          }
                        },
                        "type": "bar"
                      }
                    ],
                    "barpolar": [
                      {
                        "marker": {
                          "line": {
                            "color": "#E5ECF6",
                            "width": 0.5
                          },
                          "pattern": {
                            "fillmode": "overlay",
                            "size": 10,
                            "solidity": 0.2
                          }
                        },
                        "type": "barpolar"
                      }
                    ],
                    "carpet": [
                      {
                        "aaxis": {
                          "endlinecolor": "#2a3f5f",
                          "gridcolor": "white",
                          "linecolor": "white",
                          "minorgridcolor": "white",
                          "startlinecolor": "#2a3f5f"
                        },
                        "baxis": {
                          "endlinecolor": "#2a3f5f",
                          "gridcolor": "white",
                          "linecolor": "white",
                          "minorgridcolor": "white",
                          "startlinecolor": "#2a3f5f"
                        },
                        "type": "carpet"
                      }
                    ],
                    "choropleth": [
                      {
                        "colorbar": {
                          "outlinewidth": 0,
                          "ticks": ""
                        },
                        "type": "choropleth"
                      }
                    ],
                    "contour": [
                      {
                        "colorbar": {
                          "outlinewidth": 0,
                          "ticks": ""
                        },
                        "colorscale": [
                          [
                            0,
                            "#0d0887"
                          ],
                          [
                            0.1111111111111111,
                            "#46039f"
                          ],
                          [
                            0.2222222222222222,
                            "#7201a8"
                          ],
                          [
                            0.3333333333333333,
                            "#9c179e"
                          ],
                          [
                            0.4444444444444444,
                            "#bd3786"
                          ],
                          [
                            0.5555555555555556,
                            "#d8576b"
                          ],
                          [
                            0.6666666666666666,
                            "#ed7953"
                          ],
                          [
                            0.7777777777777778,
                            "#fb9f3a"
                          ],
                          [
                            0.8888888888888888,
                            "#fdca26"
                          ],
                          [
                            1,
                            "#f0f921"
                          ]
                        ],
                        "type": "contour"
                      }
                    ],
                    "contourcarpet": [
                      {
                        "colorbar": {
                          "outlinewidth": 0,
                          "ticks": ""
                        },
                        "type": "contourcarpet"
                      }
                    ],
                    "heatmap": [
                      {
                        "colorbar": {
                          "outlinewidth": 0,
                          "ticks": ""
                        },
                        "colorscale": [
                          [
                            0,
                            "#0d0887"
                          ],
                          [
                            0.1111111111111111,
                            "#46039f"
                          ],
                          [
                            0.2222222222222222,
                            "#7201a8"
                          ],
                          [
                            0.3333333333333333,
                            "#9c179e"
                          ],
                          [
                            0.4444444444444444,
                            "#bd3786"
                          ],
                          [
                            0.5555555555555556,
                            "#d8576b"
                          ],
                          [
                            0.6666666666666666,
                            "#ed7953"
                          ],
                          [
                            0.7777777777777778,
                            "#fb9f3a"
                          ],
                          [
                            0.8888888888888888,
                            "#fdca26"
                          ],
                          [
                            1,
                            "#f0f921"
                          ]
                        ],
                        "type": "heatmap"
                      }
                    ],
                    "heatmapgl": [
                      {
                        "colorbar": {
                          "outlinewidth": 0,
                          "ticks": ""
                        },
                        "colorscale": [
                          [
                            0,
                            "#0d0887"
                          ],
                          [
                            0.1111111111111111,
                            "#46039f"
                          ],
                          [
                            0.2222222222222222,
                            "#7201a8"
                          ],
                          [
                            0.3333333333333333,
                            "#9c179e"
                          ],
                          [
                            0.4444444444444444,
                            "#bd3786"
                          ],
                          [
                            0.5555555555555556,
                            "#d8576b"
                          ],
                          [
                            0.6666666666666666,
                            "#ed7953"
                          ],
                          [
                            0.7777777777777778,
                            "#fb9f3a"
                          ],
                          [
                            0.8888888888888888,
                            "#fdca26"
                          ],
                          [
                            1,
                            "#f0f921"
                          ]
                        ],
                        "type": "heatmapgl"
                      }
                    ],
                    "histogram": [
                      {
                        "marker": {
                          "pattern": {
                            "fillmode": "overlay",
                            "size": 10,
                            "solidity": 0.2
                          }
                        },
                        "type": "histogram"
                      }
                    ],
                    "histogram2d": [
                      {
                        "colorbar": {
                          "outlinewidth": 0,
                          "ticks": ""
                        },
                        "colorscale": [
                          [
                            0,
                            "#0d0887"
                          ],
                          [
                            0.1111111111111111,
                            "#46039f"
                          ],
                          [
                            0.2222222222222222,
                            "#7201a8"
                          ],
                          [
                            0.3333333333333333,
                            "#9c179e"
                          ],
                          [
                            0.4444444444444444,
                            "#bd3786"
                          ],
                          [
                            0.5555555555555556,
                            "#d8576b"
                          ],
                          [
                            0.6666666666666666,
                            "#ed7953"
                          ],
                          [
                            0.7777777777777778,
                            "#fb9f3a"
                          ],
                          [
                            0.8888888888888888,
                            "#fdca26"
                          ],
                          [
                            1,
                            "#f0f921"
                          ]
                        ],
                        "type": "histogram2d"
                      }
                    ],
                    "histogram2dcontour": [
                      {
                        "colorbar": {
                          "outlinewidth": 0,
                          "ticks": ""
                        },
                        "colorscale": [
                          [
                            0,
                            "#0d0887"
                          ],
                          [
                            0.1111111111111111,
                            "#46039f"
                          ],
                          [
                            0.2222222222222222,
                            "#7201a8"
                          ],
                          [
                            0.3333333333333333,
                            "#9c179e"
                          ],
                          [
                            0.4444444444444444,
                            "#bd3786"
                          ],
                          [
                            0.5555555555555556,
                            "#d8576b"
                          ],
                          [
                            0.6666666666666666,
                            "#ed7953"
                          ],
                          [
                            0.7777777777777778,
                            "#fb9f3a"
                          ],
                          [
                            0.8888888888888888,
                            "#fdca26"
                          ],
                          [
                            1,
                            "#f0f921"
                          ]
                        ],
                        "type": "histogram2dcontour"
                      }
                    ],
                    "mesh3d": [
                      {
                        "colorbar": {
                          "outlinewidth": 0,
                          "ticks": ""
                        },
                        "type": "mesh3d"
                      }
                    ],
                    "parcoords": [
                      {
                        "line": {
                          "colorbar": {
                            "outlinewidth": 0,
                            "ticks": ""
                          }
                        },
                        "type": "parcoords"
                      }
                    ],
                    "pie": [
                      {
                        "automargin": true,
                        "type": "pie"
                      }
                    ],
                    "scatter": [
                      {
                        "fillpattern": {
                          "fillmode": "overlay",
                          "size": 10,
                          "solidity": 0.2
                        },
                        "type": "scatter"
                      }
                    ],
                    "scatter3d": [
                      {
                        "line": {
                          "colorbar": {
                            "outlinewidth": 0,
                            "ticks": ""
                          }
                        },
                        "marker": {
                          "colorbar": {
                            "outlinewidth": 0,
                            "ticks": ""
                          }
                        },
                        "type": "scatter3d"
                      }
                    ],
                    "scattercarpet": [
                      {
                        "marker": {
                          "colorbar": {
                            "outlinewidth": 0,
                            "ticks": ""
                          }
                        },
                        "type": "scattercarpet"
                      }
                    ],
                    "scattergeo": [
                      {
                        "marker": {
                          "colorbar": {
                            "outlinewidth": 0,
                            "ticks": ""
                          }
                        },
                        "type": "scattergeo"
                      }
                    ],
                    "scattergl": [
                      {
                        "marker": {
                          "colorbar": {
                            "outlinewidth": 0,
                            "ticks": ""
                          }
                        },
                        "type": "scattergl"
                      }
                    ],
                    "scattermapbox": [
                      {
                        "marker": {
                          "colorbar": {
                            "outlinewidth": 0,
                            "ticks": ""
                          }
                        },
                        "type": "scattermapbox"
                      }
                    ],
                    "scatterpolar": [
                      {
                        "marker": {
                          "colorbar": {
                            "outlinewidth": 0,
                            "ticks": ""
                          }
                        },
                        "type": "scatterpolar"
                      }
                    ],
                    "scatterpolargl": [
                      {
                        "marker": {
                          "colorbar": {
                            "outlinewidth": 0,
                            "ticks": ""
                          }
                        },
                        "type": "scatterpolargl"
                      }
                    ],
                    "scatterternary": [
                      {
                        "marker": {
                          "colorbar": {
                            "outlinewidth": 0,
                            "ticks": ""
                          }
                        },
                        "type": "scatterternary"
                      }
                    ],
                    "surface": [
                      {
                        "colorbar": {
                          "outlinewidth": 0,
                          "ticks": ""
                        },
                        "colorscale": [
                          [
                            0,
                            "#0d0887"
                          ],
                          [
                            0.1111111111111111,
                            "#46039f"
                          ],
                          [
                            0.2222222222222222,
                            "#7201a8"
                          ],
                          [
                            0.3333333333333333,
                            "#9c179e"
                          ],
                          [
                            0.4444444444444444,
                            "#bd3786"
                          ],
                          [
                            0.5555555555555556,
                            "#d8576b"
                          ],
                          [
                            0.6666666666666666,
                            "#ed7953"
                          ],
                          [
                            0.7777777777777778,
                            "#fb9f3a"
                          ],
                          [
                            0.8888888888888888,
                            "#fdca26"
                          ],
                          [
                            1,
                            "#f0f921"
                          ]
                        ],
                        "type": "surface"
                      }
                    ],
                    "table": [
                      {
                        "cells": {
                          "fill": {
                            "color": "#EBF0F8"
                          },
                          "line": {
                            "color": "white"
                          }
                        },
                        "header": {
                          "fill": {
                            "color": "#C8D4E3"
                          },
                          "line": {
                            "color": "white"
                          }
                        },
                        "type": "table"
                      }
                    ]
                  },
                  "layout": {
                    "annotationdefaults": {
                      "arrowcolor": "#2a3f5f",
                      "arrowhead": 0,
                      "arrowwidth": 1
                    },
                    "autotypenumbers": "strict",
                    "coloraxis": {
                      "colorbar": {
                        "outlinewidth": 0,
                        "ticks": ""
                      }
                    },
                    "colorscale": {
                      "diverging": [
                        [
                          0,
                          "#8e0152"
                        ],
                        [
                          0.1,
                          "#c51b7d"
                        ],
                        [
                          0.2,
                          "#de77ae"
                        ],
                        [
                          0.3,
                          "#f1b6da"
                        ],
                        [
                          0.4,
                          "#fde0ef"
                        ],
                        [
                          0.5,
                          "#f7f7f7"
                        ],
                        [
                          0.6,
                          "#e6f5d0"
                        ],
                        [
                          0.7,
                          "#b8e186"
                        ],
                        [
                          0.8,
                          "#7fbc41"
                        ],
                        [
                          0.9,
                          "#4d9221"
                        ],
                        [
                          1,
                          "#276419"
                        ]
                      ],
                      "sequential": [
                        [
                          0,
                          "#0d0887"
                        ],
                        [
                          0.1111111111111111,
                          "#46039f"
                        ],
                        [
                          0.2222222222222222,
                          "#7201a8"
                        ],
                        [
                          0.3333333333333333,
                          "#9c179e"
                        ],
                        [
                          0.4444444444444444,
                          "#bd3786"
                        ],
                        [
                          0.5555555555555556,
                          "#d8576b"
                        ],
                        [
                          0.6666666666666666,
                          "#ed7953"
                        ],
                        [
                          0.7777777777777778,
                          "#fb9f3a"
                        ],
                        [
                          0.8888888888888888,
                          "#fdca26"
                        ],
                        [
                          1,
                          "#f0f921"
                        ]
                      ],
                      "sequentialminus": [
                        [
                          0,
                          "#0d0887"
                        ],
                        [
                          0.1111111111111111,
                          "#46039f"
                        ],
                        [
                          0.2222222222222222,
                          "#7201a8"
                        ],
                        [
                          0.3333333333333333,
                          "#9c179e"
                        ],
                        [
                          0.4444444444444444,
                          "#bd3786"
                        ],
                        [
                          0.5555555555555556,
                          "#d8576b"
                        ],
                        [
                          0.6666666666666666,
                          "#ed7953"
                        ],
                        [
                          0.7777777777777778,
                          "#fb9f3a"
                        ],
                        [
                          0.8888888888888888,
                          "#fdca26"
                        ],
                        [
                          1,
                          "#f0f921"
                        ]
                      ]
                    },
                    "colorway": [
                      "#636efa",
                      "#EF553B",
                      "#00cc96",
                      "#ab63fa",
                      "#FFA15A",
                      "#19d3f3",
                      "#FF6692",
                      "#B6E880",
                      "#FF97FF",
                      "#FECB52"
                    ],
                    "font": {
                      "color": "#2a3f5f"
                    },
                    "geo": {
                      "bgcolor": "white",
                      "lakecolor": "white",
                      "landcolor": "#E5ECF6",
                      "showlakes": true,
                      "showland": true,
                      "subunitcolor": "white"
                    },
                    "hoverlabel": {
                      "align": "left"
                    },
                    "hovermode": "closest",
                    "mapbox": {
                      "style": "light"
                    },
                    "paper_bgcolor": "white",
                    "plot_bgcolor": "#E5ECF6",
                    "polar": {
                      "angularaxis": {
                        "gridcolor": "white",
                        "linecolor": "white",
                        "ticks": ""
                      },
                      "bgcolor": "#E5ECF6",
                      "radialaxis": {
                        "gridcolor": "white",
                        "linecolor": "white",
                        "ticks": ""
                      }
                    },
                    "scene": {
                      "xaxis": {
                        "backgroundcolor": "#E5ECF6",
                        "gridcolor": "white",
                        "gridwidth": 2,
                        "linecolor": "white",
                        "showbackground": true,
                        "ticks": "",
                        "zerolinecolor": "white"
                      },
                      "yaxis": {
                        "backgroundcolor": "#E5ECF6",
                        "gridcolor": "white",
                        "gridwidth": 2,
                        "linecolor": "white",
                        "showbackground": true,
                        "ticks": "",
                        "zerolinecolor": "white"
                      },
                      "zaxis": {
                        "backgroundcolor": "#E5ECF6",
                        "gridcolor": "white",
                        "gridwidth": 2,
                        "linecolor": "white",
                        "showbackground": true,
                        "ticks": "",
                        "zerolinecolor": "white"
                      }
                    },
                    "shapedefaults": {
                      "line": {
                        "color": "#2a3f5f"
                      }
                    },
                    "ternary": {
                      "aaxis": {
                        "gridcolor": "white",
                        "linecolor": "white",
                        "ticks": ""
                      },
                      "baxis": {
                        "gridcolor": "white",
                        "linecolor": "white",
                        "ticks": ""
                      },
                      "bgcolor": "#E5ECF6",
                      "caxis": {
                        "gridcolor": "white",
                        "linecolor": "white",
                        "ticks": ""
                      }
                    },
                    "title": {
                      "x": 0.05
                    },
                    "xaxis": {
                      "automargin": true,
                      "gridcolor": "white",
                      "linecolor": "white",
                      "ticks": "",
                      "title": {
                        "standoff": 15
                      },
                      "zerolinecolor": "white",
                      "zerolinewidth": 2
                    },
                    "yaxis": {
                      "automargin": true,
                      "gridcolor": "white",
                      "linecolor": "white",
                      "ticks": "",
                      "title": {
                        "standoff": 15
                      },
                      "zerolinecolor": "white",
                      "zerolinewidth": 2
                    }
                  }
                },
                "title": {
                  "text": "Количество вакансий для каждого сочетания типа рабочего графика и типа трудоустройства"
                }
              }
            }
          },
          "metadata": {},
          "output_type": "display_data"
        }
      ],
      "source": [
        "fig = px.treemap(df_4_4, path=['schedule', 'employment', 'cnt'], values='cnt', color='cnt', color_continuous_scale='Blues', \n",
        "                 title='Количество вакансий для каждого сочетания типа рабочего графика и типа трудоустройства', height=700)\n",
        "fig.update_traces(marker=dict(cornerradius=5))\n",
        "fig.show()"
      ]
    },
    {
      "cell_type": "markdown",
      "id": "537427e3",
      "metadata": {},
      "source": [
        "5.\tПри  определении зависимости количества вакансий от требуемого опыта работы выяснилось, что более половины претендентов удовлетворяют не очень жестким рамкам стажа от года до 3 лет, и всего 2,5% попадают под стаж более 6 лет."
      ]
    },
    {
      "cell_type": "code",
      "execution_count": 104,
      "id": "a81d34b1",
      "metadata": {},
      "outputs": [
        {
          "data": {
            "application/vnd.plotly.v1+json": {
              "config": {
                "plotlyServerURL": "https://plot.ly"
              },
              "data": [
                {
                  "branchvalues": "total",
                  "customdata": [
                    [
                      1337
                    ],
                    [
                      7197
                    ],
                    [
                      14511
                    ],
                    [
                      26152
                    ],
                    [
                      1337
                    ],
                    [
                      7197
                    ],
                    [
                      26152
                    ],
                    [
                      14511
                    ]
                  ],
                  "domain": {
                    "x": [
                      0,
                      1
                    ],
                    "y": [
                      0,
                      1
                    ]
                  },
                  "hovertemplate": "labels=%{label}<br>cnt_sum=%{value}<br>parent=%{parent}<br>id=%{id}<br>cnt=%{color}<extra></extra>",
                  "ids": [
                    "Более 6 лет/1337",
                    "Нет опыта/7197",
                    "От 3 до 6 лет/14511",
                    "От 1 года до 3 лет/26152",
                    "Более 6 лет",
                    "Нет опыта",
                    "От 1 года до 3 лет",
                    "От 3 до 6 лет"
                  ],
                  "labels": [
                    "1337",
                    "7197",
                    "14511",
                    "26152",
                    "Более 6 лет",
                    "Нет опыта",
                    "От 1 года до 3 лет",
                    "От 3 до 6 лет"
                  ],
                  "marker": {
                    "coloraxis": "coloraxis",
                    "colors": [
                      1337,
                      7197,
                      14511,
                      26152,
                      1337,
                      7197,
                      26152,
                      14511
                    ],
                    "cornerradius": 5
                  },
                  "name": "",
                  "parents": [
                    "Более 6 лет",
                    "Нет опыта",
                    "От 3 до 6 лет",
                    "От 1 года до 3 лет",
                    "",
                    "",
                    "",
                    ""
                  ],
                  "type": "treemap",
                  "values": [
                    1337,
                    7197,
                    14511,
                    26152,
                    1337,
                    7197,
                    26152,
                    14511
                  ]
                }
              ],
              "layout": {
                "coloraxis": {
                  "colorbar": {
                    "title": {
                      "text": "cnt"
                    }
                  },
                  "colorscale": [
                    [
                      0,
                      "rgb(247,251,255)"
                    ],
                    [
                      0.125,
                      "rgb(222,235,247)"
                    ],
                    [
                      0.25,
                      "rgb(198,219,239)"
                    ],
                    [
                      0.375,
                      "rgb(158,202,225)"
                    ],
                    [
                      0.5,
                      "rgb(107,174,214)"
                    ],
                    [
                      0.625,
                      "rgb(66,146,198)"
                    ],
                    [
                      0.75,
                      "rgb(33,113,181)"
                    ],
                    [
                      0.875,
                      "rgb(8,81,156)"
                    ],
                    [
                      1,
                      "rgb(8,48,107)"
                    ]
                  ]
                },
                "legend": {
                  "tracegroupgap": 0
                },
                "template": {
                  "data": {
                    "bar": [
                      {
                        "error_x": {
                          "color": "#2a3f5f"
                        },
                        "error_y": {
                          "color": "#2a3f5f"
                        },
                        "marker": {
                          "line": {
                            "color": "#E5ECF6",
                            "width": 0.5
                          },
                          "pattern": {
                            "fillmode": "overlay",
                            "size": 10,
                            "solidity": 0.2
                          }
                        },
                        "type": "bar"
                      }
                    ],
                    "barpolar": [
                      {
                        "marker": {
                          "line": {
                            "color": "#E5ECF6",
                            "width": 0.5
                          },
                          "pattern": {
                            "fillmode": "overlay",
                            "size": 10,
                            "solidity": 0.2
                          }
                        },
                        "type": "barpolar"
                      }
                    ],
                    "carpet": [
                      {
                        "aaxis": {
                          "endlinecolor": "#2a3f5f",
                          "gridcolor": "white",
                          "linecolor": "white",
                          "minorgridcolor": "white",
                          "startlinecolor": "#2a3f5f"
                        },
                        "baxis": {
                          "endlinecolor": "#2a3f5f",
                          "gridcolor": "white",
                          "linecolor": "white",
                          "minorgridcolor": "white",
                          "startlinecolor": "#2a3f5f"
                        },
                        "type": "carpet"
                      }
                    ],
                    "choropleth": [
                      {
                        "colorbar": {
                          "outlinewidth": 0,
                          "ticks": ""
                        },
                        "type": "choropleth"
                      }
                    ],
                    "contour": [
                      {
                        "colorbar": {
                          "outlinewidth": 0,
                          "ticks": ""
                        },
                        "colorscale": [
                          [
                            0,
                            "#0d0887"
                          ],
                          [
                            0.1111111111111111,
                            "#46039f"
                          ],
                          [
                            0.2222222222222222,
                            "#7201a8"
                          ],
                          [
                            0.3333333333333333,
                            "#9c179e"
                          ],
                          [
                            0.4444444444444444,
                            "#bd3786"
                          ],
                          [
                            0.5555555555555556,
                            "#d8576b"
                          ],
                          [
                            0.6666666666666666,
                            "#ed7953"
                          ],
                          [
                            0.7777777777777778,
                            "#fb9f3a"
                          ],
                          [
                            0.8888888888888888,
                            "#fdca26"
                          ],
                          [
                            1,
                            "#f0f921"
                          ]
                        ],
                        "type": "contour"
                      }
                    ],
                    "contourcarpet": [
                      {
                        "colorbar": {
                          "outlinewidth": 0,
                          "ticks": ""
                        },
                        "type": "contourcarpet"
                      }
                    ],
                    "heatmap": [
                      {
                        "colorbar": {
                          "outlinewidth": 0,
                          "ticks": ""
                        },
                        "colorscale": [
                          [
                            0,
                            "#0d0887"
                          ],
                          [
                            0.1111111111111111,
                            "#46039f"
                          ],
                          [
                            0.2222222222222222,
                            "#7201a8"
                          ],
                          [
                            0.3333333333333333,
                            "#9c179e"
                          ],
                          [
                            0.4444444444444444,
                            "#bd3786"
                          ],
                          [
                            0.5555555555555556,
                            "#d8576b"
                          ],
                          [
                            0.6666666666666666,
                            "#ed7953"
                          ],
                          [
                            0.7777777777777778,
                            "#fb9f3a"
                          ],
                          [
                            0.8888888888888888,
                            "#fdca26"
                          ],
                          [
                            1,
                            "#f0f921"
                          ]
                        ],
                        "type": "heatmap"
                      }
                    ],
                    "heatmapgl": [
                      {
                        "colorbar": {
                          "outlinewidth": 0,
                          "ticks": ""
                        },
                        "colorscale": [
                          [
                            0,
                            "#0d0887"
                          ],
                          [
                            0.1111111111111111,
                            "#46039f"
                          ],
                          [
                            0.2222222222222222,
                            "#7201a8"
                          ],
                          [
                            0.3333333333333333,
                            "#9c179e"
                          ],
                          [
                            0.4444444444444444,
                            "#bd3786"
                          ],
                          [
                            0.5555555555555556,
                            "#d8576b"
                          ],
                          [
                            0.6666666666666666,
                            "#ed7953"
                          ],
                          [
                            0.7777777777777778,
                            "#fb9f3a"
                          ],
                          [
                            0.8888888888888888,
                            "#fdca26"
                          ],
                          [
                            1,
                            "#f0f921"
                          ]
                        ],
                        "type": "heatmapgl"
                      }
                    ],
                    "histogram": [
                      {
                        "marker": {
                          "pattern": {
                            "fillmode": "overlay",
                            "size": 10,
                            "solidity": 0.2
                          }
                        },
                        "type": "histogram"
                      }
                    ],
                    "histogram2d": [
                      {
                        "colorbar": {
                          "outlinewidth": 0,
                          "ticks": ""
                        },
                        "colorscale": [
                          [
                            0,
                            "#0d0887"
                          ],
                          [
                            0.1111111111111111,
                            "#46039f"
                          ],
                          [
                            0.2222222222222222,
                            "#7201a8"
                          ],
                          [
                            0.3333333333333333,
                            "#9c179e"
                          ],
                          [
                            0.4444444444444444,
                            "#bd3786"
                          ],
                          [
                            0.5555555555555556,
                            "#d8576b"
                          ],
                          [
                            0.6666666666666666,
                            "#ed7953"
                          ],
                          [
                            0.7777777777777778,
                            "#fb9f3a"
                          ],
                          [
                            0.8888888888888888,
                            "#fdca26"
                          ],
                          [
                            1,
                            "#f0f921"
                          ]
                        ],
                        "type": "histogram2d"
                      }
                    ],
                    "histogram2dcontour": [
                      {
                        "colorbar": {
                          "outlinewidth": 0,
                          "ticks": ""
                        },
                        "colorscale": [
                          [
                            0,
                            "#0d0887"
                          ],
                          [
                            0.1111111111111111,
                            "#46039f"
                          ],
                          [
                            0.2222222222222222,
                            "#7201a8"
                          ],
                          [
                            0.3333333333333333,
                            "#9c179e"
                          ],
                          [
                            0.4444444444444444,
                            "#bd3786"
                          ],
                          [
                            0.5555555555555556,
                            "#d8576b"
                          ],
                          [
                            0.6666666666666666,
                            "#ed7953"
                          ],
                          [
                            0.7777777777777778,
                            "#fb9f3a"
                          ],
                          [
                            0.8888888888888888,
                            "#fdca26"
                          ],
                          [
                            1,
                            "#f0f921"
                          ]
                        ],
                        "type": "histogram2dcontour"
                      }
                    ],
                    "mesh3d": [
                      {
                        "colorbar": {
                          "outlinewidth": 0,
                          "ticks": ""
                        },
                        "type": "mesh3d"
                      }
                    ],
                    "parcoords": [
                      {
                        "line": {
                          "colorbar": {
                            "outlinewidth": 0,
                            "ticks": ""
                          }
                        },
                        "type": "parcoords"
                      }
                    ],
                    "pie": [
                      {
                        "automargin": true,
                        "type": "pie"
                      }
                    ],
                    "scatter": [
                      {
                        "fillpattern": {
                          "fillmode": "overlay",
                          "size": 10,
                          "solidity": 0.2
                        },
                        "type": "scatter"
                      }
                    ],
                    "scatter3d": [
                      {
                        "line": {
                          "colorbar": {
                            "outlinewidth": 0,
                            "ticks": ""
                          }
                        },
                        "marker": {
                          "colorbar": {
                            "outlinewidth": 0,
                            "ticks": ""
                          }
                        },
                        "type": "scatter3d"
                      }
                    ],
                    "scattercarpet": [
                      {
                        "marker": {
                          "colorbar": {
                            "outlinewidth": 0,
                            "ticks": ""
                          }
                        },
                        "type": "scattercarpet"
                      }
                    ],
                    "scattergeo": [
                      {
                        "marker": {
                          "colorbar": {
                            "outlinewidth": 0,
                            "ticks": ""
                          }
                        },
                        "type": "scattergeo"
                      }
                    ],
                    "scattergl": [
                      {
                        "marker": {
                          "colorbar": {
                            "outlinewidth": 0,
                            "ticks": ""
                          }
                        },
                        "type": "scattergl"
                      }
                    ],
                    "scattermapbox": [
                      {
                        "marker": {
                          "colorbar": {
                            "outlinewidth": 0,
                            "ticks": ""
                          }
                        },
                        "type": "scattermapbox"
                      }
                    ],
                    "scatterpolar": [
                      {
                        "marker": {
                          "colorbar": {
                            "outlinewidth": 0,
                            "ticks": ""
                          }
                        },
                        "type": "scatterpolar"
                      }
                    ],
                    "scatterpolargl": [
                      {
                        "marker": {
                          "colorbar": {
                            "outlinewidth": 0,
                            "ticks": ""
                          }
                        },
                        "type": "scatterpolargl"
                      }
                    ],
                    "scatterternary": [
                      {
                        "marker": {
                          "colorbar": {
                            "outlinewidth": 0,
                            "ticks": ""
                          }
                        },
                        "type": "scatterternary"
                      }
                    ],
                    "surface": [
                      {
                        "colorbar": {
                          "outlinewidth": 0,
                          "ticks": ""
                        },
                        "colorscale": [
                          [
                            0,
                            "#0d0887"
                          ],
                          [
                            0.1111111111111111,
                            "#46039f"
                          ],
                          [
                            0.2222222222222222,
                            "#7201a8"
                          ],
                          [
                            0.3333333333333333,
                            "#9c179e"
                          ],
                          [
                            0.4444444444444444,
                            "#bd3786"
                          ],
                          [
                            0.5555555555555556,
                            "#d8576b"
                          ],
                          [
                            0.6666666666666666,
                            "#ed7953"
                          ],
                          [
                            0.7777777777777778,
                            "#fb9f3a"
                          ],
                          [
                            0.8888888888888888,
                            "#fdca26"
                          ],
                          [
                            1,
                            "#f0f921"
                          ]
                        ],
                        "type": "surface"
                      }
                    ],
                    "table": [
                      {
                        "cells": {
                          "fill": {
                            "color": "#EBF0F8"
                          },
                          "line": {
                            "color": "white"
                          }
                        },
                        "header": {
                          "fill": {
                            "color": "#C8D4E3"
                          },
                          "line": {
                            "color": "white"
                          }
                        },
                        "type": "table"
                      }
                    ]
                  },
                  "layout": {
                    "annotationdefaults": {
                      "arrowcolor": "#2a3f5f",
                      "arrowhead": 0,
                      "arrowwidth": 1
                    },
                    "autotypenumbers": "strict",
                    "coloraxis": {
                      "colorbar": {
                        "outlinewidth": 0,
                        "ticks": ""
                      }
                    },
                    "colorscale": {
                      "diverging": [
                        [
                          0,
                          "#8e0152"
                        ],
                        [
                          0.1,
                          "#c51b7d"
                        ],
                        [
                          0.2,
                          "#de77ae"
                        ],
                        [
                          0.3,
                          "#f1b6da"
                        ],
                        [
                          0.4,
                          "#fde0ef"
                        ],
                        [
                          0.5,
                          "#f7f7f7"
                        ],
                        [
                          0.6,
                          "#e6f5d0"
                        ],
                        [
                          0.7,
                          "#b8e186"
                        ],
                        [
                          0.8,
                          "#7fbc41"
                        ],
                        [
                          0.9,
                          "#4d9221"
                        ],
                        [
                          1,
                          "#276419"
                        ]
                      ],
                      "sequential": [
                        [
                          0,
                          "#0d0887"
                        ],
                        [
                          0.1111111111111111,
                          "#46039f"
                        ],
                        [
                          0.2222222222222222,
                          "#7201a8"
                        ],
                        [
                          0.3333333333333333,
                          "#9c179e"
                        ],
                        [
                          0.4444444444444444,
                          "#bd3786"
                        ],
                        [
                          0.5555555555555556,
                          "#d8576b"
                        ],
                        [
                          0.6666666666666666,
                          "#ed7953"
                        ],
                        [
                          0.7777777777777778,
                          "#fb9f3a"
                        ],
                        [
                          0.8888888888888888,
                          "#fdca26"
                        ],
                        [
                          1,
                          "#f0f921"
                        ]
                      ],
                      "sequentialminus": [
                        [
                          0,
                          "#0d0887"
                        ],
                        [
                          0.1111111111111111,
                          "#46039f"
                        ],
                        [
                          0.2222222222222222,
                          "#7201a8"
                        ],
                        [
                          0.3333333333333333,
                          "#9c179e"
                        ],
                        [
                          0.4444444444444444,
                          "#bd3786"
                        ],
                        [
                          0.5555555555555556,
                          "#d8576b"
                        ],
                        [
                          0.6666666666666666,
                          "#ed7953"
                        ],
                        [
                          0.7777777777777778,
                          "#fb9f3a"
                        ],
                        [
                          0.8888888888888888,
                          "#fdca26"
                        ],
                        [
                          1,
                          "#f0f921"
                        ]
                      ]
                    },
                    "colorway": [
                      "#636efa",
                      "#EF553B",
                      "#00cc96",
                      "#ab63fa",
                      "#FFA15A",
                      "#19d3f3",
                      "#FF6692",
                      "#B6E880",
                      "#FF97FF",
                      "#FECB52"
                    ],
                    "font": {
                      "color": "#2a3f5f"
                    },
                    "geo": {
                      "bgcolor": "white",
                      "lakecolor": "white",
                      "landcolor": "#E5ECF6",
                      "showlakes": true,
                      "showland": true,
                      "subunitcolor": "white"
                    },
                    "hoverlabel": {
                      "align": "left"
                    },
                    "hovermode": "closest",
                    "mapbox": {
                      "style": "light"
                    },
                    "paper_bgcolor": "white",
                    "plot_bgcolor": "#E5ECF6",
                    "polar": {
                      "angularaxis": {
                        "gridcolor": "white",
                        "linecolor": "white",
                        "ticks": ""
                      },
                      "bgcolor": "#E5ECF6",
                      "radialaxis": {
                        "gridcolor": "white",
                        "linecolor": "white",
                        "ticks": ""
                      }
                    },
                    "scene": {
                      "xaxis": {
                        "backgroundcolor": "#E5ECF6",
                        "gridcolor": "white",
                        "gridwidth": 2,
                        "linecolor": "white",
                        "showbackground": true,
                        "ticks": "",
                        "zerolinecolor": "white"
                      },
                      "yaxis": {
                        "backgroundcolor": "#E5ECF6",
                        "gridcolor": "white",
                        "gridwidth": 2,
                        "linecolor": "white",
                        "showbackground": true,
                        "ticks": "",
                        "zerolinecolor": "white"
                      },
                      "zaxis": {
                        "backgroundcolor": "#E5ECF6",
                        "gridcolor": "white",
                        "gridwidth": 2,
                        "linecolor": "white",
                        "showbackground": true,
                        "ticks": "",
                        "zerolinecolor": "white"
                      }
                    },
                    "shapedefaults": {
                      "line": {
                        "color": "#2a3f5f"
                      }
                    },
                    "ternary": {
                      "aaxis": {
                        "gridcolor": "white",
                        "linecolor": "white",
                        "ticks": ""
                      },
                      "baxis": {
                        "gridcolor": "white",
                        "linecolor": "white",
                        "ticks": ""
                      },
                      "bgcolor": "#E5ECF6",
                      "caxis": {
                        "gridcolor": "white",
                        "linecolor": "white",
                        "ticks": ""
                      }
                    },
                    "title": {
                      "x": 0.05
                    },
                    "xaxis": {
                      "automargin": true,
                      "gridcolor": "white",
                      "linecolor": "white",
                      "ticks": "",
                      "title": {
                        "standoff": 15
                      },
                      "zerolinecolor": "white",
                      "zerolinewidth": 2
                    },
                    "yaxis": {
                      "automargin": true,
                      "gridcolor": "white",
                      "linecolor": "white",
                      "ticks": "",
                      "title": {
                        "standoff": 15
                      },
                      "zerolinecolor": "white",
                      "zerolinewidth": 2
                    }
                  }
                },
                "title": {
                  "text": "Количество (cnt) вакансий для поля Требуемый опыт работы (exp)"
                }
              }
            }
          },
          "metadata": {},
          "output_type": "display_data"
        }
      ],
      "source": [
        "fig = px.treemap(df_4_5, path=['exp', 'cnt'], values='cnt', color='cnt', color_continuous_scale='Blues', \n",
        "                 title='Количество (cnt) вакансий для поля Требуемый опыт работы (exp)')\n",
        "fig.update_traces(marker=dict(cornerradius=5))\n",
        "fig.show()"
      ]
    },
    {
      "cell_type": "markdown",
      "id": "b603f9e7",
      "metadata": {},
      "source": [
        "6.\tВ первой десятке по количеству сфер деятельности, заявленных в вакансиях, находятся три компании так или иначе связанных с IT-деятельностью Модуль, Простые решения, Эксперт."
      ]
    },
    {
      "cell_type": "code",
      "execution_count": 105,
      "id": "a33d2040",
      "metadata": {},
      "outputs": [
        {
          "data": {
            "application/vnd.plotly.v1+json": {
              "config": {
                "plotlyServerURL": "https://plot.ly"
              },
              "data": [
                {
                  "branchvalues": "total",
                  "customdata": [
                    [
                      8
                    ],
                    [
                      8
                    ],
                    [
                      8
                    ],
                    [
                      9
                    ],
                    [
                      9
                    ],
                    [
                      9
                    ],
                    [
                      10
                    ],
                    [
                      10
                    ],
                    [
                      11
                    ],
                    [
                      16
                    ],
                    [
                      8
                    ],
                    [
                      9
                    ],
                    [
                      16
                    ],
                    [
                      10
                    ],
                    [
                      11
                    ],
                    [
                      9
                    ],
                    [
                      8
                    ],
                    [
                      8
                    ],
                    [
                      9
                    ],
                    [
                      10
                    ]
                  ],
                  "domain": {
                    "x": [
                      0,
                      1
                    ],
                    "y": [
                      0,
                      1
                    ]
                  },
                  "hovertemplate": "labels=%{label}<br>cnt_e_sum=%{value}<br>parent=%{parent}<br>id=%{id}<br>cnt_e=%{color}<extra></extra>",
                  "ids": [
                    "Автолидер/8",
                    "Уфанет/8",
                    "Фрегат/8",
                    "Альфа/9",
                    "СБК/9",
                    "Эксперт/9",
                    "Прайд/10",
                    "Энергия/10",
                    "Простые решения/11",
                    "Модуль/16",
                    "Автолидер",
                    "Альфа",
                    "Модуль",
                    "Прайд",
                    "Простые решения",
                    "СБК",
                    "Уфанет",
                    "Фрегат",
                    "Эксперт",
                    "Энергия"
                  ],
                  "labels": [
                    "8",
                    "8",
                    "8",
                    "9",
                    "9",
                    "9",
                    "10",
                    "10",
                    "11",
                    "16",
                    "Автолидер",
                    "Альфа",
                    "Модуль",
                    "Прайд",
                    "Простые решения",
                    "СБК",
                    "Уфанет",
                    "Фрегат",
                    "Эксперт",
                    "Энергия"
                  ],
                  "marker": {
                    "coloraxis": "coloraxis",
                    "colors": [
                      8,
                      8,
                      8,
                      9,
                      9,
                      9,
                      10,
                      10,
                      11,
                      16,
                      8,
                      9,
                      16,
                      10,
                      11,
                      9,
                      8,
                      8,
                      9,
                      10
                    ],
                    "cornerradius": 5
                  },
                  "name": "",
                  "parents": [
                    "Автолидер",
                    "Уфанет",
                    "Фрегат",
                    "Альфа",
                    "СБК",
                    "Эксперт",
                    "Прайд",
                    "Энергия",
                    "Простые решения",
                    "Модуль",
                    "",
                    "",
                    "",
                    "",
                    "",
                    "",
                    "",
                    "",
                    "",
                    ""
                  ],
                  "type": "treemap",
                  "values": [
                    8,
                    8,
                    8,
                    9,
                    9,
                    9,
                    10,
                    10,
                    11,
                    16,
                    8,
                    9,
                    16,
                    10,
                    11,
                    9,
                    8,
                    8,
                    9,
                    10
                  ]
                }
              ],
              "layout": {
                "coloraxis": {
                  "colorbar": {
                    "title": {
                      "text": "cnt_e"
                    }
                  },
                  "colorscale": [
                    [
                      0,
                      "rgb(247,251,255)"
                    ],
                    [
                      0.125,
                      "rgb(222,235,247)"
                    ],
                    [
                      0.25,
                      "rgb(198,219,239)"
                    ],
                    [
                      0.375,
                      "rgb(158,202,225)"
                    ],
                    [
                      0.5,
                      "rgb(107,174,214)"
                    ],
                    [
                      0.625,
                      "rgb(66,146,198)"
                    ],
                    [
                      0.75,
                      "rgb(33,113,181)"
                    ],
                    [
                      0.875,
                      "rgb(8,81,156)"
                    ],
                    [
                      1,
                      "rgb(8,48,107)"
                    ]
                  ]
                },
                "legend": {
                  "tracegroupgap": 0
                },
                "template": {
                  "data": {
                    "bar": [
                      {
                        "error_x": {
                          "color": "#2a3f5f"
                        },
                        "error_y": {
                          "color": "#2a3f5f"
                        },
                        "marker": {
                          "line": {
                            "color": "#E5ECF6",
                            "width": 0.5
                          },
                          "pattern": {
                            "fillmode": "overlay",
                            "size": 10,
                            "solidity": 0.2
                          }
                        },
                        "type": "bar"
                      }
                    ],
                    "barpolar": [
                      {
                        "marker": {
                          "line": {
                            "color": "#E5ECF6",
                            "width": 0.5
                          },
                          "pattern": {
                            "fillmode": "overlay",
                            "size": 10,
                            "solidity": 0.2
                          }
                        },
                        "type": "barpolar"
                      }
                    ],
                    "carpet": [
                      {
                        "aaxis": {
                          "endlinecolor": "#2a3f5f",
                          "gridcolor": "white",
                          "linecolor": "white",
                          "minorgridcolor": "white",
                          "startlinecolor": "#2a3f5f"
                        },
                        "baxis": {
                          "endlinecolor": "#2a3f5f",
                          "gridcolor": "white",
                          "linecolor": "white",
                          "minorgridcolor": "white",
                          "startlinecolor": "#2a3f5f"
                        },
                        "type": "carpet"
                      }
                    ],
                    "choropleth": [
                      {
                        "colorbar": {
                          "outlinewidth": 0,
                          "ticks": ""
                        },
                        "type": "choropleth"
                      }
                    ],
                    "contour": [
                      {
                        "colorbar": {
                          "outlinewidth": 0,
                          "ticks": ""
                        },
                        "colorscale": [
                          [
                            0,
                            "#0d0887"
                          ],
                          [
                            0.1111111111111111,
                            "#46039f"
                          ],
                          [
                            0.2222222222222222,
                            "#7201a8"
                          ],
                          [
                            0.3333333333333333,
                            "#9c179e"
                          ],
                          [
                            0.4444444444444444,
                            "#bd3786"
                          ],
                          [
                            0.5555555555555556,
                            "#d8576b"
                          ],
                          [
                            0.6666666666666666,
                            "#ed7953"
                          ],
                          [
                            0.7777777777777778,
                            "#fb9f3a"
                          ],
                          [
                            0.8888888888888888,
                            "#fdca26"
                          ],
                          [
                            1,
                            "#f0f921"
                          ]
                        ],
                        "type": "contour"
                      }
                    ],
                    "contourcarpet": [
                      {
                        "colorbar": {
                          "outlinewidth": 0,
                          "ticks": ""
                        },
                        "type": "contourcarpet"
                      }
                    ],
                    "heatmap": [
                      {
                        "colorbar": {
                          "outlinewidth": 0,
                          "ticks": ""
                        },
                        "colorscale": [
                          [
                            0,
                            "#0d0887"
                          ],
                          [
                            0.1111111111111111,
                            "#46039f"
                          ],
                          [
                            0.2222222222222222,
                            "#7201a8"
                          ],
                          [
                            0.3333333333333333,
                            "#9c179e"
                          ],
                          [
                            0.4444444444444444,
                            "#bd3786"
                          ],
                          [
                            0.5555555555555556,
                            "#d8576b"
                          ],
                          [
                            0.6666666666666666,
                            "#ed7953"
                          ],
                          [
                            0.7777777777777778,
                            "#fb9f3a"
                          ],
                          [
                            0.8888888888888888,
                            "#fdca26"
                          ],
                          [
                            1,
                            "#f0f921"
                          ]
                        ],
                        "type": "heatmap"
                      }
                    ],
                    "heatmapgl": [
                      {
                        "colorbar": {
                          "outlinewidth": 0,
                          "ticks": ""
                        },
                        "colorscale": [
                          [
                            0,
                            "#0d0887"
                          ],
                          [
                            0.1111111111111111,
                            "#46039f"
                          ],
                          [
                            0.2222222222222222,
                            "#7201a8"
                          ],
                          [
                            0.3333333333333333,
                            "#9c179e"
                          ],
                          [
                            0.4444444444444444,
                            "#bd3786"
                          ],
                          [
                            0.5555555555555556,
                            "#d8576b"
                          ],
                          [
                            0.6666666666666666,
                            "#ed7953"
                          ],
                          [
                            0.7777777777777778,
                            "#fb9f3a"
                          ],
                          [
                            0.8888888888888888,
                            "#fdca26"
                          ],
                          [
                            1,
                            "#f0f921"
                          ]
                        ],
                        "type": "heatmapgl"
                      }
                    ],
                    "histogram": [
                      {
                        "marker": {
                          "pattern": {
                            "fillmode": "overlay",
                            "size": 10,
                            "solidity": 0.2
                          }
                        },
                        "type": "histogram"
                      }
                    ],
                    "histogram2d": [
                      {
                        "colorbar": {
                          "outlinewidth": 0,
                          "ticks": ""
                        },
                        "colorscale": [
                          [
                            0,
                            "#0d0887"
                          ],
                          [
                            0.1111111111111111,
                            "#46039f"
                          ],
                          [
                            0.2222222222222222,
                            "#7201a8"
                          ],
                          [
                            0.3333333333333333,
                            "#9c179e"
                          ],
                          [
                            0.4444444444444444,
                            "#bd3786"
                          ],
                          [
                            0.5555555555555556,
                            "#d8576b"
                          ],
                          [
                            0.6666666666666666,
                            "#ed7953"
                          ],
                          [
                            0.7777777777777778,
                            "#fb9f3a"
                          ],
                          [
                            0.8888888888888888,
                            "#fdca26"
                          ],
                          [
                            1,
                            "#f0f921"
                          ]
                        ],
                        "type": "histogram2d"
                      }
                    ],
                    "histogram2dcontour": [
                      {
                        "colorbar": {
                          "outlinewidth": 0,
                          "ticks": ""
                        },
                        "colorscale": [
                          [
                            0,
                            "#0d0887"
                          ],
                          [
                            0.1111111111111111,
                            "#46039f"
                          ],
                          [
                            0.2222222222222222,
                            "#7201a8"
                          ],
                          [
                            0.3333333333333333,
                            "#9c179e"
                          ],
                          [
                            0.4444444444444444,
                            "#bd3786"
                          ],
                          [
                            0.5555555555555556,
                            "#d8576b"
                          ],
                          [
                            0.6666666666666666,
                            "#ed7953"
                          ],
                          [
                            0.7777777777777778,
                            "#fb9f3a"
                          ],
                          [
                            0.8888888888888888,
                            "#fdca26"
                          ],
                          [
                            1,
                            "#f0f921"
                          ]
                        ],
                        "type": "histogram2dcontour"
                      }
                    ],
                    "mesh3d": [
                      {
                        "colorbar": {
                          "outlinewidth": 0,
                          "ticks": ""
                        },
                        "type": "mesh3d"
                      }
                    ],
                    "parcoords": [
                      {
                        "line": {
                          "colorbar": {
                            "outlinewidth": 0,
                            "ticks": ""
                          }
                        },
                        "type": "parcoords"
                      }
                    ],
                    "pie": [
                      {
                        "automargin": true,
                        "type": "pie"
                      }
                    ],
                    "scatter": [
                      {
                        "fillpattern": {
                          "fillmode": "overlay",
                          "size": 10,
                          "solidity": 0.2
                        },
                        "type": "scatter"
                      }
                    ],
                    "scatter3d": [
                      {
                        "line": {
                          "colorbar": {
                            "outlinewidth": 0,
                            "ticks": ""
                          }
                        },
                        "marker": {
                          "colorbar": {
                            "outlinewidth": 0,
                            "ticks": ""
                          }
                        },
                        "type": "scatter3d"
                      }
                    ],
                    "scattercarpet": [
                      {
                        "marker": {
                          "colorbar": {
                            "outlinewidth": 0,
                            "ticks": ""
                          }
                        },
                        "type": "scattercarpet"
                      }
                    ],
                    "scattergeo": [
                      {
                        "marker": {
                          "colorbar": {
                            "outlinewidth": 0,
                            "ticks": ""
                          }
                        },
                        "type": "scattergeo"
                      }
                    ],
                    "scattergl": [
                      {
                        "marker": {
                          "colorbar": {
                            "outlinewidth": 0,
                            "ticks": ""
                          }
                        },
                        "type": "scattergl"
                      }
                    ],
                    "scattermapbox": [
                      {
                        "marker": {
                          "colorbar": {
                            "outlinewidth": 0,
                            "ticks": ""
                          }
                        },
                        "type": "scattermapbox"
                      }
                    ],
                    "scatterpolar": [
                      {
                        "marker": {
                          "colorbar": {
                            "outlinewidth": 0,
                            "ticks": ""
                          }
                        },
                        "type": "scatterpolar"
                      }
                    ],
                    "scatterpolargl": [
                      {
                        "marker": {
                          "colorbar": {
                            "outlinewidth": 0,
                            "ticks": ""
                          }
                        },
                        "type": "scatterpolargl"
                      }
                    ],
                    "scatterternary": [
                      {
                        "marker": {
                          "colorbar": {
                            "outlinewidth": 0,
                            "ticks": ""
                          }
                        },
                        "type": "scatterternary"
                      }
                    ],
                    "surface": [
                      {
                        "colorbar": {
                          "outlinewidth": 0,
                          "ticks": ""
                        },
                        "colorscale": [
                          [
                            0,
                            "#0d0887"
                          ],
                          [
                            0.1111111111111111,
                            "#46039f"
                          ],
                          [
                            0.2222222222222222,
                            "#7201a8"
                          ],
                          [
                            0.3333333333333333,
                            "#9c179e"
                          ],
                          [
                            0.4444444444444444,
                            "#bd3786"
                          ],
                          [
                            0.5555555555555556,
                            "#d8576b"
                          ],
                          [
                            0.6666666666666666,
                            "#ed7953"
                          ],
                          [
                            0.7777777777777778,
                            "#fb9f3a"
                          ],
                          [
                            0.8888888888888888,
                            "#fdca26"
                          ],
                          [
                            1,
                            "#f0f921"
                          ]
                        ],
                        "type": "surface"
                      }
                    ],
                    "table": [
                      {
                        "cells": {
                          "fill": {
                            "color": "#EBF0F8"
                          },
                          "line": {
                            "color": "white"
                          }
                        },
                        "header": {
                          "fill": {
                            "color": "#C8D4E3"
                          },
                          "line": {
                            "color": "white"
                          }
                        },
                        "type": "table"
                      }
                    ]
                  },
                  "layout": {
                    "annotationdefaults": {
                      "arrowcolor": "#2a3f5f",
                      "arrowhead": 0,
                      "arrowwidth": 1
                    },
                    "autotypenumbers": "strict",
                    "coloraxis": {
                      "colorbar": {
                        "outlinewidth": 0,
                        "ticks": ""
                      }
                    },
                    "colorscale": {
                      "diverging": [
                        [
                          0,
                          "#8e0152"
                        ],
                        [
                          0.1,
                          "#c51b7d"
                        ],
                        [
                          0.2,
                          "#de77ae"
                        ],
                        [
                          0.3,
                          "#f1b6da"
                        ],
                        [
                          0.4,
                          "#fde0ef"
                        ],
                        [
                          0.5,
                          "#f7f7f7"
                        ],
                        [
                          0.6,
                          "#e6f5d0"
                        ],
                        [
                          0.7,
                          "#b8e186"
                        ],
                        [
                          0.8,
                          "#7fbc41"
                        ],
                        [
                          0.9,
                          "#4d9221"
                        ],
                        [
                          1,
                          "#276419"
                        ]
                      ],
                      "sequential": [
                        [
                          0,
                          "#0d0887"
                        ],
                        [
                          0.1111111111111111,
                          "#46039f"
                        ],
                        [
                          0.2222222222222222,
                          "#7201a8"
                        ],
                        [
                          0.3333333333333333,
                          "#9c179e"
                        ],
                        [
                          0.4444444444444444,
                          "#bd3786"
                        ],
                        [
                          0.5555555555555556,
                          "#d8576b"
                        ],
                        [
                          0.6666666666666666,
                          "#ed7953"
                        ],
                        [
                          0.7777777777777778,
                          "#fb9f3a"
                        ],
                        [
                          0.8888888888888888,
                          "#fdca26"
                        ],
                        [
                          1,
                          "#f0f921"
                        ]
                      ],
                      "sequentialminus": [
                        [
                          0,
                          "#0d0887"
                        ],
                        [
                          0.1111111111111111,
                          "#46039f"
                        ],
                        [
                          0.2222222222222222,
                          "#7201a8"
                        ],
                        [
                          0.3333333333333333,
                          "#9c179e"
                        ],
                        [
                          0.4444444444444444,
                          "#bd3786"
                        ],
                        [
                          0.5555555555555556,
                          "#d8576b"
                        ],
                        [
                          0.6666666666666666,
                          "#ed7953"
                        ],
                        [
                          0.7777777777777778,
                          "#fb9f3a"
                        ],
                        [
                          0.8888888888888888,
                          "#fdca26"
                        ],
                        [
                          1,
                          "#f0f921"
                        ]
                      ]
                    },
                    "colorway": [
                      "#636efa",
                      "#EF553B",
                      "#00cc96",
                      "#ab63fa",
                      "#FFA15A",
                      "#19d3f3",
                      "#FF6692",
                      "#B6E880",
                      "#FF97FF",
                      "#FECB52"
                    ],
                    "font": {
                      "color": "#2a3f5f"
                    },
                    "geo": {
                      "bgcolor": "white",
                      "lakecolor": "white",
                      "landcolor": "#E5ECF6",
                      "showlakes": true,
                      "showland": true,
                      "subunitcolor": "white"
                    },
                    "hoverlabel": {
                      "align": "left"
                    },
                    "hovermode": "closest",
                    "mapbox": {
                      "style": "light"
                    },
                    "paper_bgcolor": "white",
                    "plot_bgcolor": "#E5ECF6",
                    "polar": {
                      "angularaxis": {
                        "gridcolor": "white",
                        "linecolor": "white",
                        "ticks": ""
                      },
                      "bgcolor": "#E5ECF6",
                      "radialaxis": {
                        "gridcolor": "white",
                        "linecolor": "white",
                        "ticks": ""
                      }
                    },
                    "scene": {
                      "xaxis": {
                        "backgroundcolor": "#E5ECF6",
                        "gridcolor": "white",
                        "gridwidth": 2,
                        "linecolor": "white",
                        "showbackground": true,
                        "ticks": "",
                        "zerolinecolor": "white"
                      },
                      "yaxis": {
                        "backgroundcolor": "#E5ECF6",
                        "gridcolor": "white",
                        "gridwidth": 2,
                        "linecolor": "white",
                        "showbackground": true,
                        "ticks": "",
                        "zerolinecolor": "white"
                      },
                      "zaxis": {
                        "backgroundcolor": "#E5ECF6",
                        "gridcolor": "white",
                        "gridwidth": 2,
                        "linecolor": "white",
                        "showbackground": true,
                        "ticks": "",
                        "zerolinecolor": "white"
                      }
                    },
                    "shapedefaults": {
                      "line": {
                        "color": "#2a3f5f"
                      }
                    },
                    "ternary": {
                      "aaxis": {
                        "gridcolor": "white",
                        "linecolor": "white",
                        "ticks": ""
                      },
                      "baxis": {
                        "gridcolor": "white",
                        "linecolor": "white",
                        "ticks": ""
                      },
                      "bgcolor": "#E5ECF6",
                      "caxis": {
                        "gridcolor": "white",
                        "linecolor": "white",
                        "ticks": ""
                      }
                    },
                    "title": {
                      "x": 0.05
                    },
                    "xaxis": {
                      "automargin": true,
                      "gridcolor": "white",
                      "linecolor": "white",
                      "ticks": "",
                      "title": {
                        "standoff": 15
                      },
                      "zerolinecolor": "white",
                      "zerolinewidth": 2
                    },
                    "yaxis": {
                      "automargin": true,
                      "gridcolor": "white",
                      "linecolor": "white",
                      "ticks": "",
                      "title": {
                        "standoff": 15
                      },
                      "zerolinecolor": "white",
                      "zerolinewidth": 2
                    }
                  }
                },
                "title": {
                  "text": "Первая десятка компаний по количеству сфер деятельности заявленных в вакансиях"
                }
              }
            }
          },
          "metadata": {},
          "output_type": "display_data"
        }
      ],
      "source": [
        "# текст запроса\n",
        "query_5_5_1 = f'''\n",
        "                select\n",
        "                    count(e.id) cnt_e,\n",
        "                    e.name\n",
        "                from employers e\n",
        "                right join employers_industries ei on ei.employer_id = e.id\n",
        "                group by e.name\n",
        "                order by cnt_e desc\n",
        "             '''\n",
        "with engine.begin() as conn:\n",
        "    df_5_5_1 = pd.read_sql_query(sa.text(query_5_5_1), conn)\n",
        "    \n",
        "fig = px.treemap(df_5_5_1.head(10), path=['name', 'cnt_e'], values='cnt_e', color='cnt_e', color_continuous_scale='Blues', \n",
        "                 title='Первая десятка компаний по количеству сфер деятельности заявленных в вакансиях')\n",
        "\n",
        "fig.update_traces(marker=dict(cornerradius=5))\n",
        "fig.show()    "
      ]
    },
    {
      "cell_type": "markdown",
      "id": "48368c5b",
      "metadata": {},
      "source": [
        "7. В городах с более чем 20 работодателей существует явная зависимость: больше работодателей – больше вакансий. В Москве вообще возникает ситуация, когда количество вакансий превышает количество, тех кто их предлагает. Но при количестве работодателей менее 20 закономерность нарушается, уступая место значительному разбросу количества вакансий от региона к региону. Эта специфика характерна для стран или небольших городов и наводит на мысль, что работодателями являются в том числе кадровые агентства."
      ]
    },
    {
      "cell_type": "code",
      "execution_count": 106,
      "id": "6735d1c7",
      "metadata": {},
      "outputs": [
        {
          "data": {
            "application/vnd.plotly.v1+json": {
              "config": {
                "plotlyServerURL": "https://plot.ly"
              },
              "data": [
                {
                  "hovertemplate": "<b>%{hovertext}</b><br><br>cnt_e=%{x}<br>cnt_v=%{y}<extra></extra>",
                  "hovertext": [
                    "Москва",
                    "Санкт-Петербург",
                    "Минск",
                    "Алматы",
                    "Екатеринбург",
                    "Новосибирск",
                    "Казань",
                    "Нижний Новгород",
                    "Россия",
                    "Краснодар",
                    "Ростов-на-Дону",
                    "Красноярск",
                    "Ташкент",
                    "Самара",
                    "Нур-Султан",
                    "Челябинск",
                    "Воронеж",
                    "Уфа",
                    "Пермь",
                    "Тюмень",
                    "Омск",
                    "Казахстан",
                    "Томск",
                    "Ижевск",
                    "Иркутск",
                    "Барнаул",
                    "Калининград",
                    "Тула",
                    "Владивосток",
                    "Саратов",
                    "Ярославль",
                    "Кемерово",
                    "Белгород",
                    "Рязань",
                    "Хабаровск",
                    "Киров (Кировская область)",
                    "Пенза",
                    "Сочи",
                    "Волгоград",
                    "Тольятти",
                    "Тверь",
                    "Иваново (Ивановская область)",
                    "Чебоксары",
                    "Набережные Челны",
                    "Ульяновск",
                    "Липецк",
                    "Владимир",
                    "Ставрополь",
                    "Бишкек",
                    "Московская область",
                    "Новокузнецк",
                    "Оренбург",
                    "Симферополь",
                    "Кострома",
                    "Вологда",
                    "Курск",
                    "США",
                    "Караганда",
                    "Смоленск",
                    "Таганрог",
                    "Калуга",
                    "Брянск",
                    "Мурманск",
                    "Атырау",
                    "Архангельск",
                    "Тамбов",
                    "Орел",
                    "Улан-Удэ",
                    "Севастополь",
                    "Магнитогорск",
                    "Астрахань",
                    "Благовещенск (Амурская область)",
                    "Саранск",
                    "Брест",
                    "Сургут",
                    "Гродно",
                    "Витебск",
                    "Чита",
                    "Кипр",
                    "Йошкар-Ола",
                    "Нижневартовск",
                    "Гомель",
                    "Великий Новгород",
                    "Псков",
                    "Мытищи",
                    "Петрозаводск",
                    "Южно-Сахалинск",
                    "Одинцово",
                    "Павлодар",
                    "Могилев",
                    "Курган",
                    "Шымкент",
                    "Костанай",
                    "Зеленоград",
                    "Махачкала",
                    "Череповец",
                    "Новороссийск",
                    "Якутск",
                    "Сыктывкар",
                    "Усть-Каменогорск",
                    "Подольск (Московская область)",
                    "Великобритания",
                    "Волжский (Волгоградская область)",
                    "Бийск",
                    "Химки",
                    "Обнинск",
                    "Эстония",
                    "Красногорск",
                    "Краснодарский край",
                    "Беларусь",
                    "Ростовская область",
                    "Азербайджан",
                    "Пятигорск",
                    "Петропавловск-Камчатский",
                    "Нижегородская область",
                    "Энгельс",
                    "Германия",
                    "Нижний Тагил",
                    "Республика Татарстан",
                    "Узбекистан",
                    "Королев",
                    "Ангарск",
                    "Ханты-Мансийск",
                    "Дзержинск (Нижегородская область)",
                    "Тбилиси",
                    "Абакан",
                    "Актобе",
                    "Уральск",
                    "Нижнекамск",
                    "Дубна",
                    "Актау",
                    "Борисов",
                    "Владикавказ",
                    "Альметьевск",
                    "Иннополис",
                    "Анапа",
                    "Латвия",
                    "Новый Уренгой",
                    "Видное",
                    "Старый Оскол",
                    "Братск",
                    "Рыбинск",
                    "Раменское",
                    "Ногинск",
                    "Баку",
                    "Люберцы",
                    "Магадан",
                    "Армения",
                    "Белгородская область",
                    "Петропавловск",
                    "Чехия",
                    "Миасс",
                    "Сингапур",
                    "Балашиха",
                    "Щелково",
                    "Ялта",
                    "Ленинградская область",
                    "Истра",
                    "Калужская область",
                    "Ковров",
                    "Армавир",
                    "Тараз",
                    "Норильск",
                    "Кокшетау",
                    "Литва",
                    "Самарканд",
                    "Домодедово",
                    "Воронежская область",
                    "Майкоп",
                    "Барановичи",
                    "Дмитров",
                    "Гатчина",
                    "Семей",
                    "Финляндия",
                    "Солнечногорск",
                    "Электросталь",
                    "Минеральные Воды",
                    "Самарская область",
                    "Долгопрудный",
                    "ОАЭ",
                    "Бердск",
                    "Ставропольский край",
                    "Белово",
                    "Орехово-Зуево",
                    "Всеволожск",
                    "Новочеркасск",
                    "Волгодонск",
                    "Ульяновская область",
                    "Кыргызстан",
                    "Стерлитамак",
                    "Елабуга",
                    "Кировская область",
                    "Австралия",
                    "Комсомольск-на-Амуре",
                    "Березники",
                    "Тобольск",
                    "Серпухов",
                    "Новокуйбышевск",
                    "Нидерланды",
                    "Новомосковск (Тульская область)",
                    "Черкесск",
                    "Нефтекамск",
                    "Кстово",
                    "Чехов",
                    "Балаково",
                    "Салават",
                    "Швейцария",
                    "Ноябрьск",
                    "Новосибирская область",
                    "Муром",
                    "Тульская область",
                    "Канада",
                    "Уссурийск",
                    "Клин",
                    "Ивановская область",
                    "Пушкино (Московская область)",
                    "Находка",
                    "Салехард",
                    "Жуковский",
                    "Липецкая область",
                    "Первоуральск",
                    "Новочебоксарск",
                    "Елец",
                    "Климовск (Московская область)",
                    "Краснокамск",
                    "Иркутская область",
                    "Северодвинск",
                    "Чувашская Республика",
                    "Кирово-Чепецк",
                    "Свердловская область",
                    "Коломна",
                    "Златоуст",
                    "Талдыкорган",
                    "Аксай (Ростовская область)",
                    "Кемеровская область",
                    "Фрязино",
                    "Димитровград",
                    "Шахты",
                    "Нефтеюганск",
                    "Польша",
                    "Ивантеевка",
                    "Реутов",
                    "Каменск-Уральский",
                    "Орск",
                    "Пензенская область",
                    "Лида",
                    "Сызрань",
                    "Аксай (Казахстан)",
                    "Республика Крым",
                    "Сергиев Посад",
                    "Солигорск",
                    "Рязанская область",
                    "Волгоградская область",
                    "Темиртау",
                    "Когалым",
                    "Выборг",
                    "Бобруйск",
                    "Ачинск",
                    "Ярославская область",
                    "Прокопьевск",
                    "Пермский край",
                    "Минская область",
                    "Костромская область",
                    "Копейск",
                    "Камышин",
                    "Наро-Фоминск",
                    "Турция",
                    "Ступино",
                    "Ессентуки",
                    "Другие регионы",
                    "Испания",
                    "Экибастуз",
                    "Красноярский край",
                    "Полоцк",
                    "Сосновоборск",
                    "Октябрьский (Республика Башкортостан)",
                    "Ухта",
                    "Удмуртская Республика",
                    "Павловск (Воронежская область)",
                    "Бор",
                    "Кызыл",
                    "Израиль",
                    "Саяногорск",
                    "Китай",
                    "Усть-Кут",
                    "Михайловка (Волгоградская область)",
                    "Владимирская область",
                    "Новоалтайск",
                    "Калининградская область",
                    "Кингисепп",
                    "Сосновый Бор (Ленинградская область)",
                    "Томская область",
                    "Алтайский край",
                    "Батайск",
                    "Асбест",
                    "Норвегия",
                    "Черногорск",
                    "Бодайбо",
                    "Приморский край",
                    "Тосно",
                    "Северск (Томская область)",
                    "Рудный",
                    "Серов",
                    "Искитим",
                    "Россошь",
                    "Мценск",
                    "Муравленко",
                    "Черногория",
                    "Котельники",
                    "Солнечный (Ханты-Мансийский АО)",
                    "Томилино",
                    "Омская область",
                    "Алушта",
                    "Селятино",
                    "Верхняя Пышма",
                    "Щучинск",
                    "Азов",
                    "Котлас",
                    "Озерск (Челябинская область)",
                    "Адлер",
                    "Новополоцк",
                    "Сарапул",
                    "Щербинка",
                    "Волжск",
                    "Лабинск",
                    "Смоленская область",
                    "Краснознаменск (Московская область)",
                    "Старая Купавна",
                    "Черноголовка",
                    "Камчатский край",
                    "Электрогорск",
                    "Усинск",
                    "Молодечно",
                    "Шатура",
                    "Тверская область",
                    "Малоярославец",
                    "Шебекино",
                    "Краснообск",
                    "Заречный (Свердловская область)",
                    "Белорецк",
                    "Кисловодск",
                    "Юбилейный (Московская область)",
                    "Индонезия",
                    "Саратовская область",
                    "Арамиль",
                    "Железнодорожный",
                    "Гусь-Хрустальный",
                    "Дудинка (Красноярский край)",
                    "Дедовск",
                    "Рощино (Ленинградская область)",
                    "Кировск (Ленинградская область)",
                    "Ворсино (Калужская область)",
                    "Рубцовск",
                    "Мальта",
                    "Ейск",
                    "Балхаш",
                    "Невинномысск",
                    "Арзамас",
                    "Геленджик",
                    "Кунгур",
                    "Кулебаки",
                    "Смолевичи",
                    "Переславль-Залесский",
                    "Челябинская область",
                    "Жодино",
                    "Талгар",
                    "Абинск",
                    "Канаш",
                    "Соликамск",
                    "Грузия",
                    "Донецк (Ростовская область)",
                    "Элиста",
                    "Бахчисарай",
                    "Усть-Лабинск",
                    "Чапаевск",
                    "Радужный (Владимирская область)",
                    "Ленск",
                    "Славянск-на-Кубани",
                    "Пушкин",
                    "Горно-Алтайск",
                    "Воскресенск",
                    "Павлово",
                    "Торжок",
                    "Десногорск",
                    "Красково",
                    "Восточный (Свердловская область)",
                    "Михайловка (Уфимский район, Башкортостан)",
                    "Кутаиси",
                    "Шардара",
                    "Лянтор",
                    "Хабаровский край",
                    "Приозерск",
                    "Сортавала",
                    "Киев",
                    "Архангельское (Республика Башкортостан)",
                    "Рассказово",
                    "Камешково",
                    "Лангепас",
                    "Лермонтов",
                    "Оренбургская область",
                    "Кимовск",
                    "Рузаевка",
                    "Керчь",
                    "Несвиж",
                    "Шахтинск",
                    "Отрадная",
                    "Невьянск",
                    "Сириус",
                    "Венгрия",
                    "Индия",
                    "Кореновск",
                    "Пласт",
                    "Чусовой",
                    "Южная Корея",
                    "Кропоткин",
                    "Кызылорда",
                    "Харабали",
                    "Минусинск",
                    "Рыбное",
                    "Новотроицк (Оренбургская область)",
                    "Чишмы",
                    "Жаркент",
                    "Зудилово",
                    "Астраханская область",
                    "Выкса",
                    "Котовск (Тамбовская область)",
                    "Усть-Илимск",
                    "Жезказган",
                    "Плавск",
                    "Нягань",
                    "Костюковичи",
                    "Кировск (Мурманская область)",
                    "Большой Камень",
                    "Спасск-Дальний",
                    "Липки",
                    "Мамадыш",
                    "Ишимбай",
                    "Черлак (Омская область) \t",
                    "Михнево (Московская область, Ступинский район)",
                    "Словения",
                    "Апшеронск",
                    "Заринск",
                    "Власиха",
                    "Менделеевск",
                    "Заволжье",
                    "Усть-Ордынский",
                    "Джанкой",
                    "Марфино (Астраханская область)",
                    "Миллерово",
                    "Мелеуз",
                    "Федоровский",
                    "Александров",
                    "Калач",
                    "Пыть-Ях",
                    "Бронницы",
                    "Сербия",
                    "Путилково",
                    "Андижан",
                    "Республика Башкортостан",
                    "Ломоносов",
                    "Псковская область",
                    "Красное Село",
                    "Курганинск",
                    "Балабаново",
                    "Тихорецк",
                    "Эквадор",
                    "Ликино-Дулево",
                    "Кашира",
                    "Лебедянь",
                    "Березовка (Красноярский край)",
                    "Усть-Нера",
                    "Чекалин",
                    "Можайск",
                    "Елизово",
                    "Усолье-Сибирское",
                    "Конаково",
                    "Березовский (Кемеровская область)",
                    "Дубровно",
                    "Коченево",
                    "Семилуки",
                    "Заречный (Пензенская область)",
                    "Алексеевская",
                    "Донской",
                    "Ишим",
                    "Радужный (Ханты-Мансийский АО - Югра)",
                    "Белиз",
                    "Звёздный Городок",
                    "Электроугли",
                    "Аса",
                    "Балахна",
                    "Гремячинск",
                    "Среднеуральск",
                    "Нижняя Тура",
                    "Чистополь",
                    "Артем",
                    "Ефремов",
                    "Междуреченск",
                    "Калач-на-Дону",
                    "Берёзово",
                    "Кинель",
                    "Ржев",
                    "Вязьма",
                    "Атбасар",
                    "Некрасовский (Московская область)",
                    "Бобров",
                    "Киржач",
                    "Кыштым",
                    "Яблоновский (Республика Адыгея)",
                    "Звенигород",
                    "Белокуриха",
                    "Брянская область",
                    "Республика Бурятия",
                    "Венев",
                    "Дивногорск",
                    "Шелехов",
                    "Железногорск (Курская область)",
                    "Зарайск",
                    "Дубовое",
                    "Троицк (Московская область)",
                    "Троицко-Печорск",
                    "Тюменская область\n",
                    "Логойск",
                    "Ишлеи",
                    "Португалия",
                    "Тазовский",
                    "Надым",
                    "Дальнегорск",
                    "Майна (Ульяновская область)",
                    "Адамовка",
                    "Сатис",
                    "Ангрен",
                    "Забайкальский край",
                    "Суздаль",
                    "Панама",
                    "Павловский Посад",
                    "Светлый",
                    "Мегион",
                    "Балыкчы",
                    "Буда-Кошелево",
                    "Пересвет",
                    "Апрелевка",
                    "Болгария",
                    "Республика Адыгея",
                    "Туапсе",
                    "Воротынск\n",
                    "Буйнакск",
                    "Угольные Копи",
                    "Красная Поляна",
                    "Тимашевск",
                    "Правдинск (Калининградская область)",
                    "Верхняя Салда",
                    "Верхнетуломский",
                    "Дзержинск (Беларусь)",
                    "Учалы",
                    "Шушенское",
                    "Ванино",
                    "Чайковский",
                    "Пинск",
                    "Далматово",
                    "Нефтекумск",
                    "Шарыпово",
                    "Новодвинск",
                    "Иноземцево",
                    "Целинное",
                    "Грозный",
                    "Феодосия",
                    "Топчиха",
                    "Воткинск",
                    "Лесной",
                    "Агрыз",
                    "Великий Устюг",
                    "Туркестан",
                    "Чеченская республика",
                    "Себеж",
                    "Республика Карелия",
                    "Луховицы",
                    "Хандыга",
                    "Афипский",
                    "Алапаевск",
                    "Боровичи",
                    "Белогорск (Крым)",
                    "Колпашево",
                    "Мама",
                    "Сибай",
                    "Зеленоградск",
                    "Узловая",
                    "Шарья",
                    "Строитель (Белгородская область)",
                    "Инсар",
                    "Лысьва",
                    "Северо-Курильск",
                    "Алдан",
                    "Лесной (Минская область)",
                    "Кизилюрт",
                    "Отрадный (Самарская область)",
                    "Новошахтинск",
                    "Орловская область",
                    "Сухой Лог",
                    "Губаха",
                    "Сосенский",
                    "Гидроторф",
                    "Витебская область",
                    "Красный Сулин",
                    "Навои",
                    "Удобная",
                    "Ивацевичи",
                    "Архангельская область",
                    "Жуков",
                    "Губкин",
                    "Краснокаменск",
                    "Парфино",
                    "Буденновск",
                    "Сатка",
                    "Беломорск",
                    "Бугульма",
                    "Щучье",
                    "Фряново",
                    "Губкинский",
                    "Таиланд",
                    "Шуя",
                    "Южноуральск",
                    "Новомихайловский",
                    "Евпатория",
                    "Филиппины",
                    "Глазов",
                    "Оха",
                    "Жигулевск",
                    "Приморск (Ленинградская область)",
                    "Осинники",
                    "Батуми",
                    "Баймак",
                    "Гаврилов-Ям",
                    "Чемал",
                    "Людиново",
                    "Железноводск",
                    "Столбцы",
                    "Донецк",
                    "Вологодская область",
                    "Белореченск",
                    "Орша",
                    "Морозовск\n",
                    "Комсомольское (Чувашская Республика)",
                    "Дубки (Саратовская область)",
                    "Приморско-Ахтарск",
                    "Швеция",
                    "Кудрово",
                    "Красноармейск (Московская область)",
                    "Павловская Слобода",
                    "Железногорск (Красноярский край)",
                    "Березовский (Свердловская область)",
                    "Каневская",
                    "Австрия",
                    "Обь",
                    "Сморгонь",
                    "Усть-Луга",
                    "Кандры",
                    "Ртищево",
                    "Вышний Волочек",
                    "Балтаси",
                    "Нея",
                    "Икряное",
                    "Арсеньев",
                    "Айхал",
                    "Сунжа (Ингушетия)",
                    "Сковородино",
                    "Кронштадт",
                    "поселок Лев Толстой",
                    "Камень-Рыболов",
                    "Иланский",
                    "Куйбышево (Ростовская область)",
                    "Кумертау",
                    "Макушино",
                    "Тында",
                    "Динская станица",
                    "Ермолино (Калужская область)",
                    "Нарьян-Мар",
                    "Вихоревка",
                    "Кульсары",
                    "Дебёсы",
                    "Новоаннинский",
                    "Воркута",
                    "Телеханы",
                    "Тайга",
                    "Валдай",
                    "Урюпинск",
                    "Каспи",
                    "Алексеевка",
                    "Малые Вязёмы",
                    "Эртиль",
                    "Кемь",
                    "Суксун",
                    "Инзер",
                    "Вуктыл",
                    "Моргауши",
                    "Вязники",
                    "Калачинск",
                    "Северская станица",
                    "Юрга",
                    "Фокино (Брянская область)",
                    "Бологое",
                    "Кировград",
                    "Мирный (Архангельская область)",
                    "Красная Горка (Нуримановский район, Башкортостан)",
                    "Измалково",
                    "Панино",
                    "Хадыженск",
                    "Кыштовка",
                    "Богучар",
                    "Пролетарск",
                    "Пластун",
                    "Белоярский",
                    "Понежукай",
                    "Свободный",
                    "Моздок",
                    "Петушки",
                    "Васюринская",
                    "Родино",
                    "Красногорский (Челябинская область)",
                    "Ростов (Ярославская область)",
                    "Таврическое",
                    "Вольск",
                    "Хотьково",
                    "Горшечное",
                    "Орловский",
                    "Кобрин",
                    "Ильинка",
                    "Новогрудок",
                    "Архипо-Осиповка",
                    "Аша",
                    "Новоульяновск",
                    "Светлогорск (Калининградская область)",
                    "Ивангород",
                    "Дальнереченск",
                    "Новозавидовский",
                    "Ожерелье",
                    "Коротчаево",
                    "Ува",
                    "Кузнецк",
                    "Маргилан",
                    "Гай",
                    "Шацк (Рязанская область)",
                    "Мирный (Самарская область)",
                    "Ялуторовск",
                    "Седельниково",
                    "Джубга",
                    "Ордынское",
                    "Тамань",
                    "Гаджиево",
                    "Румыния",
                    "Сарань",
                    "Касимов",
                    "Красноуфимск",
                    "Нижнеудинск",
                    "Тучково",
                    "Хасавюрт",
                    "Голицыно",
                    "Линево (Новосибирская область)",
                    "Заводоуковск",
                    "Варна (Челябинская область)",
                    "Кольчугино",
                    "Жирновск",
                    "Игра",
                    "Куса",
                    "Атяшево",
                    "Фергана",
                    "Удомля",
                    "Нахабино",
                    "Завьялово (Алтайский край)",
                    "Пестово",
                    "Йемен",
                    "Греция",
                    "Серебрянск",
                    "Пангоды",
                    "Вятские Поляны",
                    "Промышленная",
                    "Волхов",
                    "Мичуринск",
                    "Зеленодольск (Республика Татарстан)",
                    "Струнино",
                    "Хвалынск",
                    "Становое",
                    "Сабетта (Ямало-Ненецкий АО)",
                    "Полысаево",
                    "Форносово",
                    "Актогай",
                    "Старый Городок (Одинцовский район)",
                    "Хомутово (Иркутская область)",
                    "Советск (Калининградская область)",
                    "Краснотурьинск",
                    "Чугуевка",
                    "Лесосибирск",
                    "Тайшет",
                    "Новокубанск",
                    "Пружаны",
                    "Малорита",
                    "Ессентукская",
                    "Излучинск",
                    "Саянск",
                    "Таксимо",
                    "Франция",
                    "Красное (Липецкая область)",
                    "Опочка",
                    "Елизаветинская",
                    "Тбилисская",
                    "Ключи (Камчатский край)",
                    "Коммунар",
                    "Лыткарино",
                    "Гиагинская",
                    "Дорогобуж",
                    "Елань",
                    "Мотыгино",
                    "Луга",
                    "Юрюзань",
                    "Максатиха",
                    "Словакия",
                    "Крымск",
                    "Нерехта",
                    "Сергиевск",
                    "Прохладный",
                    "Вольгинский",
                    "Колпино",
                    "Кинешма",
                    "Лиман (Астраханская область)",
                    "Буй",
                    "Горноуральский",
                    "Софьино (Раменский район)",
                    "Каскелен",
                    "Могойтуй",
                    "Тихвин",
                    "Белореченский",
                    "Амзя (Нефтекамск, Башкортостан)",
                    "Ракитное (Белгородская область)",
                    "Борисоглебск",
                    "Зеленогорск (Ленинградская обл)",
                    "Калязин",
                    "Береза",
                    "Оболенск",
                    "Малая Вишера",
                    "Великие Луки",
                    "Белоозерск",
                    "Серафимович",
                    "Шумерля",
                    "Кобулети",
                    "Болниси",
                    "Краснозёрское",
                    "Калининская",
                    "Можга",
                    "Мурмаши",
                    "Белоозёрский (Московская область)",
                    "Уренгой",
                    "Юрьев-Польский",
                    "Гудермес",
                    "Жабинка",
                    "Асино",
                    "Валуйки",
                    "Чебаркуль",
                    "Боржоми",
                    "Багаевская",
                    "Абхазия",
                    "Шахунья",
                    "Шлиссельбург",
                    "Волоколамск",
                    "Вольно-Надеждинское",
                    "Преображение",
                    "Светогорск",
                    "Крым (Ростовская область)",
                    "Металлострой",
                    "Кодинск",
                    "Магас",
                    "Киренск",
                    "Покров",
                    "Татарск",
                    "Богданович",
                    "Нарышкино",
                    "Фролово",
                    "Биробиджан",
                    "Большое Сорокино",
                    "Углич",
                    "Пучеж",
                    "Онгудай",
                    "Северо-Енисейский (Красноярский край)",
                    "Снежинск",
                    "Дагомыс",
                    "Красный Кут",
                    "Абдулино",
                    "Мончегорск",
                    "Слободской",
                    "Апатиты",
                    "Городец",
                    "Бежаницы",
                    "Алексин",
                    "Покачи",
                    "Посёлок совхоза имени Ленина",
                    "Большие Салы",
                    "Новый Ургал",
                    "Приволжье (Самарская область)",
                    "Топки",
                    "Шилово",
                    "Лениногорск",
                    "Медвежье Озеро",
                    "Абатское",
                    "Новохопёрск",
                    "Новоорск",
                    "Петропавловка (Воронежская область)",
                    "Назарово",
                    "Октябрьский (Рязанская область)",
                    "Енотаевка",
                    "Боготол",
                    "Богородицк",
                    "Курчатов",
                    "Печоры",
                    "Котельниково",
                    "Сердобск",
                    "Верхний Баскунчак",
                    "Реж",
                    "Сертолово",
                    "Ольгинская",
                    "Баткен",
                    "Тельмана",
                    "Усть-Катав",
                    "Углегорск",
                    "Медногорск",
                    "Пуровск",
                    "Криводановка",
                    "Мексика",
                    "Аткарск",
                    "Орлов",
                    "Ош",
                    "Нальчик",
                    "Пущино",
                    "Акташ (Узбекистан)",
                    "Малаховка (Московская область)",
                    "Сенгилей",
                    "Каспийск",
                    "Иглино",
                    "Саки",
                    "Абан",
                    "Богородск",
                    "Косулино (Свердловская область)",
                    "Кумылженская",
                    "Карабаново",
                    "Новый Городок (Одинцовский район)",
                    "Белый Яр (Республика Хакасия)",
                    "Темников",
                    "Урджар",
                    "Жигалово",
                    "Александровка (Ростовская область)",
                    "Пыталово",
                    "Нижнедевицк",
                    "Красногвардейское (Ставропольский край)",
                    "Мантурово",
                    "Нурлат",
                    "Козьмодемьянск",
                    "Закаменск",
                    "Балахта (Красноярский край)",
                    "Тарасовский",
                    "Ульяновка (Ленинградская область)",
                    "Бирюч",
                    "Гдов",
                    "Знаменск",
                    "Славгород (Алтайский край)",
                    "Приаргунск",
                    "Белоусово",
                    "Коркино",
                    "Павловск (Ленинградская область)",
                    "Индустриальный (Краснодарский край)",
                    "Олекминск",
                    "Николаевск",
                    "Адыгейск",
                    "Нижний Баскунчак",
                    "Нариманов",
                    "Лакинск",
                    "Ильский",
                    "Анна",
                    "Таштагол",
                    "Белебей",
                    "Шадринск",
                    "Тулун",
                    "Тацинская",
                    "Перемышль",
                    "Саров",
                    "Новоивановское",
                    "Ужур",
                    "Невель",
                    "Бородино",
                    "Каменск-Шахтинский",
                    "Первомайское (Ленинградская область)",
                    "Капчагай",
                    "Дзержинский",
                    "Пестяки",
                    "Белый Яр (Ханты-Мансийский АО)",
                    "Новосокольники",
                    "Товарково (Калужская область)",
                    "Ревда (Свердловская область)",
                    "Верхний Мамон",
                    "Дно",
                    "Цивильск",
                    "Отрадное (Ленинградская область)",
                    "Казачинское",
                    "Гусиноозерск",
                    "Поварово",
                    "Полярный",
                    "Ноглики",
                    "Гуково",
                    "Еманжелинск",
                    "Темрюк",
                    "Бугуруслан",
                    "Анжеро-Судженск",
                    "Краснозерское",
                    "Выселки",
                    "Сальск",
                    "Стрелецкое",
                    "Похвистнево",
                    "Цхалтубо",
                    "Отеген-Батыр",
                    "Крыловская станица (Крыловский район)",
                    "Слуцк",
                    "Казанское",
                    "Троицкое (Сахалинская область)",
                    "Белоярский (Свердловская область)",
                    "Кишинёв",
                    "Собинка",
                    "Амурск",
                    "Уруссу",
                    "Агинское (Забайкальский АО)",
                    "Благовещенск (Республика Башкортостан)",
                    "Петухово",
                    "Янино-1",
                    "Бузулук",
                    "Данков",
                    "Северобайкальск",
                    "Дорохово (Московская область)",
                    "Алатырь",
                    "Карталы",
                    "Фокино (Приморский край)",
                    "Красноуральск",
                    "Яя",
                    "Сарыагаш",
                    "Ясногорск",
                    "Краснослободск (Республика Мордовия)",
                    "Киров (Калужская область)",
                    "Урай",
                    "Верхний Тагил",
                    "Тасеево",
                    "Бутурлиновка",
                    "Духовщина",
                    "Новый Хушет",
                    "Лузино",
                    "Осташков",
                    "Кугеси",
                    "Печора",
                    "Прохоровка",
                    "Ветлуга",
                    "Нижние Серги",
                    "Петровск-Забайкальский",
                    "Тевриз",
                    "Нефтегорск (Самарская область)",
                    "Удачный",
                    "Карымское",
                    "Волковыск",
                    "Балакирево",
                    "Котово",
                    "Североморск",
                    "Винзили",
                    "Карши",
                    "Чернянка",
                    "Тайцы",
                    "Новый Оскол",
                    "Львовское",
                    "Солнечный (Воронежская область)",
                    "Новоржев",
                    "Лоухи",
                    "Теплое",
                    "Канск",
                    "Тербуны",
                    "Тымовское",
                    "Адыге-Хабль",
                    "Урень",
                    "Моршанск",
                    "Новое Ступино",
                    "Артемовский (Свердловская область)",
                    "Новая Усмань",
                    "Дубовка",
                    "Бердяуш",
                    "Визинга",
                    "Скидель",
                    "Палех",
                    "Гурьевск (Калининградская область)",
                    "Туймазы",
                    "Щекино",
                    "Ахтубинск",
                    "Раевский (Альшеевский район)",
                    "Власиха (Алтайский край)",
                    "Ленинский (Тульская область)",
                    "Шахтерск (Сахалинская область)",
                    "Новохоперск",
                    "Камызяк",
                    "Владимиро-Александровское",
                    "Кириши",
                    "Болохово",
                    "Нововоронеж",
                    "Аликово",
                    "Райчихинск",
                    "Макинск",
                    "Очер",
                    "Нязепетровск",
                    "Куркино",
                    "Октябрьская (Крыловский район,Краснодарский край)",
                    "Новоуральск",
                    "Жетысай",
                    "Каргасок",
                    "Пустошка",
                    "Гусев",
                    "Зеленогорск (Красноярский край)",
                    "Горки Ленинские",
                    "Бабаево",
                    "Верх-Тула",
                    "Италия",
                    "Пойковский",
                    "Приволжский",
                    "Талица",
                    "Чегдомын",
                    "Калтасы (Калтасинский район, Башкортостан)",
                    "Джизак",
                    "Костомукша",
                    "Лабытнанги",
                    "Нижний Ломов",
                    "Беслан",
                    "Большие Вязёмы",
                    "Шумиха",
                    "Тяжинский",
                    "Кетово",
                    "Катар",
                    "Виллози",
                    "Старица",
                    "Сергач",
                    "Октябрьское (Пригородный район)",
                    "Верхняя Тура",
                    "Киселевск",
                    "Икша",
                    "Мензелинск",
                    "Южа",
                    "Лобня",
                    "Кубинка",
                    "Ясный (Оренбургская область)",
                    "Рославль",
                    "Новый Уоян",
                    "Кашин",
                    "Толмачево",
                    "Приютово",
                    "Городище",
                    "Лихославль",
                    "Скопин",
                    "Павино",
                    "Изобильный",
                    "ВНИИССОК",
                    "Зверево",
                    "Пугачев",
                    "Шерегеш",
                    "Облучье",
                    "Кольцово (Новосибирская область)",
                    "Малайзия",
                    "Немчиновка",
                    "Хоринск",
                    "Карасук",
                    "Вагай",
                    "Вурнары",
                    "Бердюжье",
                    "Вьетнам",
                    "Нерюнгри",
                    "Михайлов",
                    "Верхний Уфалей",
                    "Энем",
                    "Усмань",
                    "Навашино",
                    "Зеленокумск",
                    "Заозерный",
                    "Зубова-Поляна",
                    "Новотитаровская",
                    "Судогда",
                    "Тогучин",
                    "Грамотеино",
                    "Павловка",
                    "Сосновка (Тамбовская область)",
                    "Избербаш",
                    "Глубокое (Восточно-Казахстанская область)",
                    "Камышлов",
                    "Развилка (Московская область)",
                    "Суоярви",
                    "Первомайский (Оренбургская область)",
                    "Борзя",
                    "Боровск",
                    "Октябрьский (Волгоградская область)",
                    "Грязи",
                    "Хромтау",
                    "Мга",
                    "Кимры",
                    "Уват (Тюменская область)",
                    "Большой Исток",
                    "Остров",
                    "Николо-Березовка",
                    "Петров Вал",
                    "Слюдянка",
                    "Коммунарка",
                    "Култаево",
                    "Синдор",
                    "Анива",
                    "Аргентина",
                    "Звериноголовское",
                    "Яшкино",
                    "Крекшино",
                    "Певек",
                    "Иловля",
                    "Давлеканово",
                    "Фёдоровское (Ленинградская область)",
                    "Верхние Киги",
                    "Каменка (Пензенская область)",
                    "Лосино-Петровский",
                    "Бичура",
                    "Мирный (Республика Саха (Якутия))",
                    "Верхневилюйск",
                    "Сорск",
                    "Кировский (Астраханская область)",
                    "Снегири",
                    "Московский",
                    "Сланцы",
                    "Чаплыгин",
                    "Советск (Тульская область)",
                    "Кордай",
                    "Салым",
                    "Тавда",
                    "Руза",
                    "Зимовники",
                    "Михайловск (Ставропольский край)",
                    "Сорочинск",
                    "Иваново (Брестская область)",
                    "Софрино",
                    "Кара-Балта",
                    "Ярцево",
                    "Нижняя Салда",
                    "Клинцы",
                    "Егорьевск",
                    "Волово",
                    "Енисейск",
                    "Инской",
                    "Коканд",
                    "Железногорск-Илимский",
                    "Нукус",
                    "Североуральск",
                    "Ильинка (Икрянинский район)",
                    "Витим",
                    "Богучаны",
                    "Термез",
                    "Дербент",
                    "Карабаш (Челябинская область)",
                    "Черемхово",
                    "Андреевка (Хасанский район)",
                    "Заинск",
                    "Кизляр",
                    "Ткибули",
                    "Озеры",
                    "Стрежевой",
                    "Мосты",
                    "Заполярный (Ямало-Ненецкий АО)",
                    "Кош-Агач",
                    "Петергоф",
                    "Сестрорецк",
                    "Баранчинский",
                    "Черепаново",
                    "Майма",
                    "Горячий Ключ",
                    "Верхнеднепровский",
                    "Чалтырь",
                    "Грахово",
                    "Риддер (ВКО)",
                    "Киреевск",
                    "Юргамыш",
                    "Тахтамукай",
                    "Ивдель",
                    "Карпинск",
                    "Нерчинск",
                    "Аргаяш",
                    "Полевской",
                    "Мглин",
                    "Сасово",
                    "Кант",
                    "Протвино",
                    "Таджикистан",
                    "Баргузин",
                    "Забайкальск",
                    "Нижний Одес",
                    "Чамзинка",
                    "Алупка",
                    "Саракташ",
                    "Сосногорск",
                    "Кушва",
                    "Куйбышев",
                    "Балашов",
                    "Билибино",
                    "Черняховск",
                    "Красные Баррикады",
                    "Зерноград",
                    "Ямбург (Ямало-Ненецкий АО)",
                    "Павловская",
                    "Касли",
                    "Павловск (Алтайский край)",
                    "Троицкое (Алтайский край)",
                    "Троицк (Челябинская область)",
                    "Бакал",
                    "Старотитаровская",
                    "Монино",
                    "Ташкиново",
                    "Камбоджа",
                    "Первомайский (Тамбовская область)",
                    "Степногорск",
                    "Пионерский",
                    "Калининец",
                    "Тарко-Сале",
                    "Сегежа",
                    "Песчаное",
                    "Малгобек",
                    "Ленинск-Кузнецкий",
                    "Нерчинский Завод",
                    "Курагино",
                    "Шушары",
                    "Белая Калитва",
                    "Солнечный (Красноярский край)",
                    "Лодейное Поле",
                    "Дрогичин",
                    "Глинищево",
                    "Ерзовка",
                    "Кондрово",
                    "Данилов",
                    "Волго-Каспийский",
                    "Порхов",
                    "Волоконовка",
                    "Эркен-Шахар",
                    "Верхнеяркеево",
                    "Байконур (Кызылорд. обл)",
                    "Дюртюли",
                    "Бирск",
                    "Ирбит",
                    "Тура (Красноярский край)",
                    "Обухово",
                    "Новая Ляля",
                    "Караваево",
                    "Долгоруково",
                    "Кирсанов",
                    "Ливны",
                    "Магистральный",
                    "Голубицкая",
                    "Ивня",
                    "Сафоново",
                    "Назрань",
                    "Усть-Абакан",
                    "Волгореченск",
                    "Прогресс (Янаульский район, Башкортостан)",
                    "Кувандык",
                    "Кола",
                    "Петропавловка (Республика Бурятия)",
                    "Ключи (Алтайский край)",
                    "Пикалево"
                  ],
                  "legendgroup": "",
                  "marker": {
                    "color": "#636efa",
                    "symbol": "circle"
                  },
                  "mode": "markers",
                  "name": "",
                  "showlegend": false,
                  "type": "scattergl",
                  "x": [
                    5864,
                    2217,
                    1115,
                    721,
                    609,
                    573,
                    480,
                    426,
                    410,
                    409,
                    335,
                    331,
                    326,
                    315,
                    312,
                    310,
                    292,
                    252,
                    250,
                    218,
                    210,
                    207,
                    191,
                    189,
                    187,
                    187,
                    157,
                    149,
                    148,
                    138,
                    137,
                    121,
                    115,
                    115,
                    112,
                    111,
                    111,
                    109,
                    107,
                    100,
                    94,
                    94,
                    91,
                    91,
                    88,
                    85,
                    83,
                    79,
                    77,
                    75,
                    71,
                    69,
                    68,
                    67,
                    66,
                    66,
                    61,
                    60,
                    57,
                    56,
                    55,
                    53,
                    50,
                    48,
                    48,
                    47,
                    47,
                    46,
                    44,
                    43,
                    42,
                    41,
                    39,
                    39,
                    38,
                    37,
                    37,
                    36,
                    35,
                    35,
                    34,
                    34,
                    34,
                    33,
                    32,
                    32,
                    31,
                    30,
                    30,
                    29,
                    28,
                    27,
                    27,
                    27,
                    27,
                    27,
                    26,
                    26,
                    26,
                    25,
                    23,
                    23,
                    23,
                    22,
                    22,
                    21,
                    19,
                    19,
                    19,
                    18,
                    18,
                    17,
                    17,
                    16,
                    16,
                    16,
                    16,
                    16,
                    16,
                    15,
                    15,
                    14,
                    14,
                    14,
                    13,
                    13,
                    13,
                    13,
                    13,
                    13,
                    12,
                    12,
                    12,
                    12,
                    12,
                    11,
                    11,
                    11,
                    11,
                    11,
                    11,
                    10,
                    10,
                    10,
                    10,
                    10,
                    10,
                    10,
                    10,
                    10,
                    10,
                    10,
                    10,
                    10,
                    10,
                    9,
                    9,
                    9,
                    9,
                    8,
                    8,
                    8,
                    8,
                    8,
                    8,
                    8,
                    7,
                    7,
                    7,
                    7,
                    7,
                    7,
                    7,
                    7,
                    7,
                    7,
                    7,
                    7,
                    6,
                    6,
                    6,
                    6,
                    6,
                    6,
                    6,
                    6,
                    6,
                    6,
                    6,
                    6,
                    6,
                    6,
                    6,
                    6,
                    6,
                    6,
                    6,
                    6,
                    6,
                    6,
                    6,
                    5,
                    5,
                    5,
                    5,
                    5,
                    5,
                    5,
                    5,
                    5,
                    5,
                    5,
                    5,
                    5,
                    5,
                    5,
                    5,
                    5,
                    5,
                    5,
                    5,
                    5,
                    5,
                    5,
                    4,
                    4,
                    4,
                    4,
                    4,
                    4,
                    4,
                    4,
                    4,
                    4,
                    4,
                    4,
                    4,
                    4,
                    4,
                    4,
                    4,
                    4,
                    4,
                    4,
                    4,
                    4,
                    4,
                    4,
                    4,
                    4,
                    4,
                    4,
                    4,
                    4,
                    3,
                    3,
                    3,
                    3,
                    3,
                    3,
                    3,
                    3,
                    3,
                    3,
                    3,
                    3,
                    3,
                    3,
                    3,
                    3,
                    3,
                    3,
                    3,
                    3,
                    3,
                    3,
                    3,
                    3,
                    3,
                    3,
                    3,
                    3,
                    3,
                    3,
                    3,
                    3,
                    3,
                    3,
                    3,
                    3,
                    3,
                    3,
                    3,
                    3,
                    2,
                    2,
                    2,
                    2,
                    2,
                    2,
                    2,
                    2,
                    2,
                    2,
                    2,
                    2,
                    2,
                    2,
                    2,
                    2,
                    2,
                    2,
                    2,
                    2,
                    2,
                    2,
                    2,
                    2,
                    2,
                    2,
                    2,
                    2,
                    2,
                    2,
                    2,
                    2,
                    2,
                    2,
                    2,
                    2,
                    2,
                    2,
                    2,
                    2,
                    2,
                    2,
                    2,
                    2,
                    2,
                    2,
                    2,
                    2,
                    2,
                    2,
                    2,
                    2,
                    2,
                    2,
                    2,
                    2,
                    2,
                    2,
                    2,
                    2,
                    2,
                    2,
                    2,
                    2,
                    2,
                    2,
                    2,
                    2,
                    2,
                    2,
                    2,
                    2,
                    2,
                    2,
                    2,
                    2,
                    2,
                    2,
                    2,
                    2,
                    2,
                    2,
                    2,
                    2,
                    2,
                    2,
                    2,
                    2,
                    2,
                    2,
                    1,
                    1,
                    1,
                    1,
                    1,
                    1,
                    1,
                    1,
                    1,
                    1,
                    1,
                    1,
                    1,
                    1,
                    1,
                    1,
                    1,
                    1,
                    1,
                    1,
                    1,
                    1,
                    1,
                    1,
                    1,
                    1,
                    1,
                    1,
                    1,
                    1,
                    1,
                    1,
                    1,
                    1,
                    1,
                    1,
                    1,
                    1,
                    1,
                    1,
                    1,
                    1,
                    1,
                    1,
                    1,
                    1,
                    1,
                    1,
                    1,
                    1,
                    1,
                    1,
                    1,
                    1,
                    1,
                    1,
                    1,
                    1,
                    1,
                    1,
                    1,
                    1,
                    1,
                    1,
                    1,
                    1,
                    1,
                    1,
                    1,
                    1,
                    1,
                    1,
                    1,
                    1,
                    1,
                    1,
                    1,
                    1,
                    1,
                    1,
                    1,
                    1,
                    1,
                    1,
                    1,
                    1,
                    1,
                    1,
                    1,
                    1,
                    1,
                    1,
                    1,
                    1,
                    1,
                    1,
                    1,
                    1,
                    1,
                    1,
                    1,
                    1,
                    1,
                    1,
                    1,
                    1,
                    1,
                    1,
                    1,
                    1,
                    1,
                    1,
                    1,
                    1,
                    1,
                    1,
                    1,
                    1,
                    1,
                    1,
                    1,
                    1,
                    1,
                    1,
                    1,
                    1,
                    1,
                    1,
                    1,
                    1,
                    1,
                    1,
                    1,
                    1,
                    1,
                    1,
                    1,
                    1,
                    1,
                    1,
                    1,
                    1,
                    1,
                    1,
                    1,
                    1,
                    1,
                    1,
                    1,
                    1,
                    1,
                    1,
                    1,
                    1,
                    1,
                    1,
                    1,
                    1,
                    1,
                    1,
                    1,
                    1,
                    1,
                    1,
                    1,
                    1,
                    1,
                    1,
                    1,
                    1,
                    1,
                    1,
                    1,
                    1,
                    1,
                    1,
                    1,
                    1,
                    1,
                    1,
                    1,
                    1,
                    1,
                    1,
                    1,
                    1,
                    1,
                    1,
                    1,
                    1,
                    1,
                    1,
                    1,
                    1,
                    1,
                    1,
                    1,
                    1,
                    1,
                    1,
                    1,
                    1,
                    1,
                    1,
                    1,
                    1,
                    1,
                    1,
                    1,
                    1,
                    1,
                    1,
                    1,
                    1,
                    1,
                    1,
                    1,
                    1,
                    1,
                    1,
                    1,
                    1,
                    1,
                    1,
                    1,
                    1,
                    1,
                    1,
                    1,
                    1,
                    1,
                    1,
                    1,
                    1,
                    1,
                    1,
                    1,
                    1,
                    1,
                    1,
                    1,
                    1,
                    1,
                    1,
                    1,
                    1,
                    1,
                    1,
                    1,
                    1,
                    1,
                    1,
                    1,
                    1,
                    1,
                    1,
                    1,
                    1,
                    1,
                    1,
                    1,
                    1,
                    1,
                    1,
                    1,
                    1,
                    1,
                    1,
                    1,
                    1,
                    0,
                    0,
                    0,
                    0,
                    0,
                    0,
                    0,
                    0,
                    0,
                    0,
                    0,
                    0,
                    0,
                    0,
                    0,
                    0,
                    0,
                    0,
                    0,
                    0,
                    0,
                    0,
                    0,
                    0,
                    0,
                    0,
                    0,
                    0,
                    0,
                    0,
                    0,
                    0,
                    0,
                    0,
                    0,
                    0,
                    0,
                    0,
                    0,
                    0,
                    0,
                    0,
                    0,
                    0,
                    0,
                    0,
                    0,
                    0,
                    0,
                    0,
                    0,
                    0,
                    0,
                    0,
                    0,
                    0,
                    0,
                    0,
                    0,
                    0,
                    0,
                    0,
                    0,
                    0,
                    0,
                    0,
                    0,
                    0,
                    0,
                    0,
                    0,
                    0,
                    0,
                    0,
                    0,
                    0,
                    0,
                    0,
                    0,
                    0,
                    0,
                    0,
                    0,
                    0,
                    0,
                    0,
                    0,
                    0,
                    0,
                    0,
                    0,
                    0,
                    0,
                    0,
                    0,
                    0,
                    0,
                    0,
                    0,
                    0,
                    0,
                    0,
                    0,
                    0,
                    0,
                    0,
                    0,
                    0,
                    0,
                    0,
                    0,
                    0,
                    0,
                    0,
                    0,
                    0,
                    0,
                    0,
                    0,
                    0,
                    0,
                    0,
                    0,
                    0,
                    0,
                    0,
                    0,
                    0,
                    0,
                    0,
                    0,
                    0,
                    0,
                    0,
                    0,
                    0,
                    0,
                    0,
                    0,
                    0,
                    0,
                    0,
                    0,
                    0,
                    0,
                    0,
                    0,
                    0,
                    0,
                    0,
                    0,
                    0,
                    0,
                    0,
                    0,
                    0,
                    0,
                    0,
                    0,
                    0,
                    0,
                    0,
                    0,
                    0,
                    0,
                    0,
                    0,
                    0,
                    0,
                    0,
                    0,
                    0,
                    0,
                    0,
                    0,
                    0,
                    0,
                    0,
                    0,
                    0,
                    0,
                    0,
                    0,
                    0,
                    0,
                    0,
                    0,
                    0,
                    0,
                    0,
                    0,
                    0,
                    0,
                    0,
                    0,
                    0,
                    0,
                    0,
                    0,
                    0,
                    0,
                    0,
                    0,
                    0,
                    0,
                    0,
                    0,
                    0,
                    0,
                    0,
                    0,
                    0,
                    0,
                    0,
                    0,
                    0,
                    0,
                    0,
                    0,
                    0,
                    0,
                    0,
                    0,
                    0,
                    0,
                    0,
                    0,
                    0,
                    0,
                    0,
                    0,
                    0,
                    0,
                    0,
                    0,
                    0,
                    0,
                    0,
                    0,
                    0,
                    0,
                    0,
                    0,
                    0,
                    0,
                    0,
                    0,
                    0,
                    0,
                    0,
                    0,
                    0,
                    0,
                    0,
                    0,
                    0,
                    0,
                    0,
                    0,
                    0,
                    0,
                    0,
                    0,
                    0,
                    0,
                    0,
                    0,
                    0,
                    0,
                    0,
                    0,
                    0,
                    0,
                    0,
                    0,
                    0,
                    0,
                    0,
                    0,
                    0,
                    0,
                    0,
                    0,
                    0,
                    0,
                    0,
                    0,
                    0,
                    0,
                    0,
                    0,
                    0,
                    0,
                    0,
                    0,
                    0,
                    0,
                    0,
                    0,
                    0,
                    0,
                    0,
                    0,
                    0,
                    0,
                    0,
                    0,
                    0,
                    0,
                    0,
                    0,
                    0,
                    0,
                    0,
                    0,
                    0,
                    0,
                    0,
                    0,
                    0,
                    0,
                    0,
                    0,
                    0,
                    0,
                    0,
                    0,
                    0,
                    0,
                    0,
                    0,
                    0,
                    0,
                    0,
                    0,
                    0,
                    0,
                    0,
                    0,
                    0,
                    0,
                    0,
                    0,
                    0,
                    0,
                    0,
                    0,
                    0,
                    0,
                    0,
                    0,
                    0,
                    0,
                    0,
                    0,
                    0,
                    0,
                    0,
                    0,
                    0,
                    0,
                    0,
                    0,
                    0,
                    0,
                    0,
                    0,
                    0,
                    0,
                    0,
                    0,
                    0,
                    0,
                    0,
                    0,
                    0,
                    0,
                    0,
                    0,
                    0,
                    0,
                    0,
                    0,
                    0,
                    0,
                    0,
                    0,
                    0,
                    0,
                    0,
                    0,
                    0,
                    0,
                    0,
                    0,
                    0,
                    0,
                    0,
                    0,
                    0,
                    0,
                    0,
                    0,
                    0,
                    0,
                    0,
                    0,
                    0,
                    0,
                    0,
                    0,
                    0,
                    0,
                    0,
                    0,
                    0,
                    0,
                    0,
                    0,
                    0,
                    0,
                    0,
                    0,
                    0,
                    0,
                    0,
                    0,
                    0,
                    0,
                    0,
                    0,
                    0,
                    0,
                    0,
                    0,
                    0,
                    0,
                    0,
                    0,
                    0,
                    0,
                    0,
                    0,
                    0,
                    0,
                    0,
                    0,
                    0,
                    0,
                    0,
                    0,
                    0,
                    0,
                    0,
                    0,
                    0,
                    0,
                    0,
                    0,
                    0,
                    0,
                    0,
                    0,
                    0,
                    0,
                    0,
                    0,
                    0,
                    0,
                    0,
                    0,
                    0,
                    0,
                    0,
                    0,
                    0,
                    0,
                    0,
                    0,
                    0,
                    0,
                    0,
                    0,
                    0,
                    0,
                    0,
                    0,
                    0,
                    0,
                    0,
                    0,
                    0,
                    0,
                    0,
                    0,
                    0,
                    0,
                    0,
                    0,
                    0,
                    0,
                    0,
                    0,
                    0,
                    0,
                    0,
                    0,
                    0,
                    0,
                    0,
                    0,
                    0,
                    0,
                    0,
                    0,
                    0,
                    0,
                    0,
                    0,
                    0,
                    0,
                    0,
                    0,
                    0,
                    0,
                    0,
                    0,
                    0,
                    0,
                    0,
                    0,
                    0,
                    0,
                    0,
                    0,
                    0,
                    0,
                    0,
                    0,
                    0,
                    0,
                    0,
                    0,
                    0,
                    0,
                    0,
                    0,
                    0,
                    0,
                    0,
                    0,
                    0,
                    0,
                    0,
                    0,
                    0,
                    0,
                    0,
                    0,
                    0,
                    0,
                    0,
                    0,
                    0,
                    0,
                    0,
                    0,
                    0,
                    0,
                    0,
                    0,
                    0,
                    0,
                    0,
                    0,
                    0,
                    0,
                    0,
                    0,
                    0,
                    0,
                    0,
                    0,
                    0,
                    0,
                    0,
                    0,
                    0,
                    0,
                    0,
                    0,
                    0,
                    0,
                    0,
                    0,
                    0,
                    0,
                    0,
                    0,
                    0,
                    0,
                    0,
                    0,
                    0,
                    0,
                    0,
                    0,
                    0,
                    0,
                    0,
                    0,
                    0,
                    0,
                    0,
                    0,
                    0,
                    0,
                    0,
                    0,
                    0,
                    0,
                    0,
                    0,
                    0,
                    0,
                    0,
                    0,
                    0,
                    0,
                    0,
                    0,
                    0,
                    0,
                    0,
                    0,
                    0,
                    0,
                    0,
                    0,
                    0,
                    0,
                    0,
                    0,
                    0,
                    0,
                    0,
                    0,
                    0,
                    0,
                    0,
                    0,
                    0,
                    0,
                    0,
                    0,
                    0,
                    0,
                    0,
                    0,
                    0,
                    0,
                    0,
                    0,
                    0,
                    0,
                    0,
                    0,
                    0,
                    0,
                    0,
                    0,
                    0,
                    0,
                    0,
                    0,
                    0,
                    0,
                    0,
                    0,
                    0,
                    0,
                    0,
                    0,
                    0,
                    0,
                    0,
                    0,
                    0,
                    0,
                    0,
                    0,
                    0,
                    0,
                    0,
                    0,
                    0,
                    0,
                    0,
                    0,
                    0,
                    0,
                    0,
                    0,
                    0,
                    0,
                    0,
                    0,
                    0
                  ],
                  "xaxis": "x",
                  "y": [
                    5333,
                    2851,
                    2112,
                    1892,
                    1698,
                    2006,
                    1415,
                    1670,
                    0,
                    1301,
                    1131,
                    847,
                    851,
                    1144,
                    840,
                    786,
                    1063,
                    767,
                    771,
                    547,
                    617,
                    0,
                    692,
                    466,
                    451,
                    374,
                    343,
                    343,
                    539,
                    579,
                    391,
                    316,
                    253,
                    346,
                    338,
                    293,
                    305,
                    230,
                    456,
                    229,
                    274,
                    190,
                    245,
                    202,
                    332,
                    203,
                    219,
                    155,
                    166,
                    0,
                    156,
                    199,
                    187,
                    146,
                    153,
                    178,
                    12,
                    102,
                    141,
                    116,
                    158,
                    161,
                    100,
                    93,
                    99,
                    123,
                    115,
                    84,
                    152,
                    91,
                    115,
                    94,
                    113,
                    54,
                    86,
                    50,
                    42,
                    111,
                    136,
                    97,
                    73,
                    61,
                    105,
                    90,
                    94,
                    97,
                    86,
                    56,
                    44,
                    34,
                    93,
                    62,
                    29,
                    132,
                    76,
                    99,
                    66,
                    54,
                    42,
                    27,
                    77,
                    2,
                    57,
                    48,
                    77,
                    57,
                    3,
                    45,
                    0,
                    0,
                    0,
                    0,
                    39,
                    61,
                    0,
                    34,
                    19,
                    43,
                    0,
                    0,
                    63,
                    39,
                    31,
                    46,
                    474,
                    37,
                    28,
                    18,
                    32,
                    28,
                    22,
                    10,
                    32,
                    35,
                    91,
                    31,
                    10,
                    43,
                    15,
                    40,
                    37,
                    44,
                    26,
                    20,
                    91,
                    37,
                    25,
                    223,
                    0,
                    23,
                    14,
                    24,
                    0,
                    46,
                    39,
                    16,
                    0,
                    16,
                    0,
                    37,
                    18,
                    11,
                    38,
                    13,
                    19,
                    16,
                    32,
                    0,
                    21,
                    5,
                    16,
                    13,
                    8,
                    7,
                    20,
                    16,
                    13,
                    0,
                    30,
                    12,
                    18,
                    0,
                    6,
                    21,
                    14,
                    40,
                    19,
                    0,
                    0,
                    26,
                    17,
                    0,
                    0,
                    49,
                    23,
                    16,
                    15,
                    25,
                    2,
                    27,
                    13,
                    13,
                    15,
                    11,
                    19,
                    18,
                    0,
                    11,
                    0,
                    25,
                    0,
                    0,
                    36,
                    14,
                    0,
                    32,
                    37,
                    7,
                    24,
                    0,
                    15,
                    14,
                    15,
                    3,
                    4,
                    0,
                    16,
                    0,
                    5,
                    0,
                    31,
                    10,
                    18,
                    5,
                    0,
                    9,
                    13,
                    15,
                    29,
                    53,
                    11,
                    13,
                    12,
                    24,
                    0,
                    4,
                    21,
                    25,
                    0,
                    21,
                    3,
                    0,
                    0,
                    7,
                    9,
                    5,
                    5,
                    9,
                    0,
                    13,
                    0,
                    0,
                    0,
                    15,
                    11,
                    16,
                    39,
                    8,
                    16,
                    0,
                    4,
                    5,
                    0,
                    2,
                    8,
                    13,
                    7,
                    0,
                    6,
                    1,
                    7,
                    2,
                    6,
                    1,
                    9,
                    4,
                    0,
                    12,
                    0,
                    13,
                    7,
                    0,
                    0,
                    8,
                    6,
                    0,
                    4,
                    5,
                    0,
                    6,
                    16,
                    2,
                    7,
                    5,
                    2,
                    2,
                    4,
                    14,
                    5,
                    0,
                    3,
                    0,
                    3,
                    1,
                    12,
                    0,
                    5,
                    2,
                    3,
                    13,
                    2,
                    4,
                    3,
                    7,
                    3,
                    0,
                    3,
                    1,
                    5,
                    0,
                    2,
                    7,
                    4,
                    0,
                    0,
                    4,
                    8,
                    1,
                    2,
                    1,
                    12,
                    0,
                    1,
                    0,
                    0,
                    9,
                    2,
                    0,
                    6,
                    2,
                    4,
                    0,
                    12,
                    0,
                    2,
                    1,
                    6,
                    11,
                    7,
                    0,
                    3,
                    0,
                    8,
                    0,
                    0,
                    2,
                    6,
                    2,
                    6,
                    0,
                    3,
                    10,
                    2,
                    5,
                    6,
                    1,
                    1,
                    4,
                    3,
                    9,
                    4,
                    2,
                    3,
                    3,
                    0,
                    0,
                    0,
                    4,
                    0,
                    1,
                    0,
                    2,
                    0,
                    14,
                    0,
                    1,
                    2,
                    1,
                    0,
                    0,
                    2,
                    1,
                    17,
                    0,
                    1,
                    0,
                    1,
                    1,
                    9,
                    2,
                    2,
                    1,
                    3,
                    0,
                    4,
                    5,
                    0,
                    4,
                    0,
                    3,
                    0,
                    0,
                    0,
                    0,
                    16,
                    0,
                    3,
                    4,
                    0,
                    1,
                    0,
                    4,
                    6,
                    2,
                    0,
                    3,
                    3,
                    0,
                    1,
                    0,
                    1,
                    4,
                    2,
                    4,
                    1,
                    0,
                    3,
                    0,
                    0,
                    1,
                    0,
                    5,
                    1,
                    5,
                    8,
                    26,
                    0,
                    0,
                    0,
                    5,
                    0,
                    3,
                    3,
                    3,
                    1,
                    0,
                    1,
                    4,
                    3,
                    0,
                    0,
                    0,
                    0,
                    4,
                    4,
                    7,
                    2,
                    0,
                    0,
                    1,
                    2,
                    0,
                    3,
                    2,
                    0,
                    0,
                    0,
                    1,
                    0,
                    2,
                    0,
                    4,
                    2,
                    0,
                    40,
                    4,
                    9,
                    0,
                    1,
                    3,
                    5,
                    2,
                    0,
                    2,
                    0,
                    2,
                    7,
                    2,
                    1,
                    2,
                    0,
                    0,
                    0,
                    3,
                    7,
                    17,
                    2,
                    0,
                    10,
                    0,
                    0,
                    0,
                    0,
                    0,
                    4,
                    1,
                    0,
                    0,
                    0,
                    0,
                    0,
                    0,
                    0,
                    0,
                    6,
                    0,
                    2,
                    0,
                    0,
                    1,
                    3,
                    12,
                    0,
                    16,
                    0,
                    2,
                    0,
                    1,
                    3,
                    0,
                    1,
                    0,
                    3,
                    3,
                    2,
                    7,
                    6,
                    3,
                    1,
                    0,
                    1,
                    3,
                    0,
                    0,
                    17,
                    4,
                    0,
                    6,
                    0,
                    0,
                    0,
                    4,
                    0,
                    1,
                    0,
                    6,
                    0,
                    3,
                    0,
                    0,
                    0,
                    3,
                    0,
                    2,
                    0,
                    6,
                    2,
                    4,
                    0,
                    1,
                    0,
                    5,
                    0,
                    0,
                    4,
                    6,
                    0,
                    2,
                    0,
                    0,
                    0,
                    0,
                    1,
                    1,
                    0,
                    0,
                    0,
                    5,
                    9,
                    5,
                    0,
                    1,
                    2,
                    0,
                    4,
                    0,
                    0,
                    7,
                    0,
                    9,
                    9,
                    0,
                    7,
                    0,
                    8,
                    0,
                    3,
                    1,
                    5,
                    83,
                    1,
                    1,
                    0,
                    5,
                    1,
                    0,
                    0,
                    0,
                    1,
                    3,
                    0,
                    0,
                    0,
                    0,
                    0,
                    2,
                    4,
                    3,
                    8,
                    4,
                    0,
                    4,
                    5,
                    0,
                    3,
                    0,
                    0,
                    0,
                    0,
                    0,
                    0,
                    1,
                    0,
                    1,
                    1,
                    3,
                    0,
                    0,
                    1,
                    0,
                    1,
                    0,
                    0,
                    3,
                    0,
                    5,
                    2,
                    0,
                    0,
                    1,
                    2,
                    0,
                    3,
                    1,
                    1,
                    0,
                    4,
                    0,
                    1,
                    1,
                    0,
                    0,
                    1,
                    0,
                    2,
                    2,
                    0,
                    1,
                    2,
                    1,
                    1,
                    3,
                    0,
                    0,
                    0,
                    0,
                    0,
                    1,
                    0,
                    0,
                    0,
                    2,
                    7,
                    0,
                    3,
                    0,
                    0,
                    1,
                    4,
                    1,
                    0,
                    1,
                    0,
                    0,
                    1,
                    0,
                    1,
                    0,
                    0,
                    1,
                    0,
                    0,
                    1,
                    0,
                    0,
                    0,
                    0,
                    3,
                    0,
                    0,
                    0,
                    0,
                    3,
                    0,
                    0,
                    0,
                    3,
                    0,
                    1,
                    0,
                    0,
                    0,
                    2,
                    2,
                    6,
                    4,
                    2,
                    2,
                    0,
                    0,
                    1,
                    0,
                    1,
                    0,
                    1,
                    2,
                    10,
                    0,
                    1,
                    0,
                    0,
                    0,
                    2,
                    0,
                    0,
                    4,
                    2,
                    10,
                    0,
                    0,
                    0,
                    0,
                    2,
                    0,
                    1,
                    0,
                    1,
                    2,
                    2,
                    0,
                    3,
                    3,
                    0,
                    0,
                    0,
                    0,
                    1,
                    0,
                    0,
                    0,
                    1,
                    0,
                    1,
                    1,
                    0,
                    1,
                    0,
                    0,
                    1,
                    0,
                    0,
                    1,
                    0,
                    0,
                    1,
                    4,
                    0,
                    1,
                    0,
                    1,
                    10,
                    3,
                    0,
                    1,
                    0,
                    2,
                    0,
                    1,
                    4,
                    0,
                    0,
                    0,
                    4,
                    2,
                    0,
                    1,
                    2,
                    0,
                    5,
                    0,
                    0,
                    1,
                    0,
                    0,
                    0,
                    0,
                    1,
                    1,
                    1,
                    1,
                    0,
                    1,
                    0,
                    0,
                    2,
                    1,
                    0,
                    0,
                    1,
                    0,
                    1,
                    0,
                    3,
                    0,
                    0,
                    0,
                    0,
                    5,
                    0,
                    0,
                    2,
                    0,
                    0,
                    0,
                    2,
                    6,
                    1,
                    0,
                    0,
                    0,
                    1,
                    2,
                    0,
                    0,
                    1,
                    5,
                    1,
                    9,
                    1,
                    0,
                    5,
                    1,
                    0,
                    0,
                    0,
                    0,
                    2,
                    0,
                    0,
                    0,
                    0,
                    1,
                    0,
                    1,
                    3,
                    0,
                    0,
                    2,
                    1,
                    2,
                    0,
                    0,
                    1,
                    0,
                    0,
                    3,
                    0,
                    0,
                    0,
                    1,
                    0,
                    0,
                    0,
                    0,
                    0,
                    0,
                    0,
                    2,
                    8,
                    0,
                    4,
                    1,
                    0,
                    4,
                    2,
                    1,
                    1,
                    1,
                    0,
                    0,
                    0,
                    0,
                    0,
                    0,
                    0,
                    0,
                    0,
                    0,
                    0,
                    0,
                    0,
                    0,
                    0,
                    1,
                    2,
                    0,
                    0,
                    0,
                    0,
                    2,
                    0,
                    2,
                    1,
                    3,
                    1,
                    0,
                    0,
                    0,
                    0,
                    0,
                    0,
                    2,
                    2,
                    1,
                    3,
                    3,
                    0,
                    0,
                    0,
                    0,
                    6,
                    0,
                    4,
                    1,
                    0,
                    6,
                    1,
                    3,
                    4,
                    0,
                    2,
                    0,
                    0,
                    0,
                    2,
                    0,
                    1,
                    0,
                    1,
                    0,
                    0,
                    0,
                    0,
                    0,
                    4,
                    6,
                    3,
                    3,
                    0,
                    2,
                    1,
                    0,
                    1,
                    0,
                    1,
                    0,
                    0,
                    0,
                    2,
                    0,
                    23,
                    0,
                    1,
                    0,
                    2,
                    9,
                    0,
                    0,
                    9,
                    0,
                    1,
                    1,
                    0,
                    0,
                    1,
                    0,
                    1,
                    1,
                    2,
                    0,
                    0,
                    1,
                    0,
                    0,
                    0,
                    1,
                    0,
                    0,
                    1,
                    1,
                    0,
                    0,
                    0,
                    1,
                    1,
                    0,
                    1,
                    9,
                    1,
                    0,
                    0,
                    0,
                    3,
                    1,
                    0,
                    0,
                    0,
                    0,
                    0,
                    0,
                    0,
                    0,
                    0,
                    4,
                    1,
                    0,
                    1,
                    1,
                    0,
                    0,
                    1,
                    1,
                    0,
                    1,
                    0,
                    0,
                    1,
                    3,
                    3,
                    5,
                    1,
                    2,
                    0,
                    0,
                    1,
                    0,
                    0,
                    0,
                    4,
                    0,
                    0,
                    1,
                    1,
                    1,
                    0,
                    0,
                    0,
                    0,
                    5,
                    0,
                    0,
                    0,
                    4,
                    6,
                    2,
                    0,
                    1,
                    0,
                    3,
                    0,
                    0,
                    0,
                    0,
                    1,
                    4,
                    1,
                    1,
                    2,
                    1,
                    0,
                    0,
                    0,
                    0,
                    0,
                    0,
                    1,
                    0,
                    0,
                    3,
                    0,
                    1,
                    0,
                    16,
                    7,
                    0,
                    2,
                    0,
                    3,
                    0,
                    1,
                    0,
                    0,
                    0,
                    0,
                    1,
                    0,
                    0,
                    0,
                    2,
                    0,
                    0,
                    0,
                    0,
                    0,
                    1,
                    0,
                    0,
                    0,
                    0,
                    6,
                    0,
                    0,
                    3,
                    0,
                    1,
                    0,
                    3,
                    0,
                    1,
                    2,
                    1,
                    0,
                    0,
                    0,
                    0,
                    0,
                    1,
                    3,
                    0,
                    0,
                    3,
                    2,
                    0,
                    2,
                    0,
                    0,
                    2,
                    1,
                    0,
                    0,
                    0,
                    0,
                    0,
                    1,
                    0,
                    0,
                    0,
                    0,
                    0,
                    0,
                    2,
                    0,
                    1,
                    2,
                    0,
                    0,
                    0,
                    0,
                    0,
                    12,
                    0,
                    1,
                    0,
                    2,
                    2,
                    3,
                    0,
                    0,
                    0,
                    0,
                    0,
                    1,
                    0,
                    4,
                    0,
                    0,
                    4,
                    0,
                    2,
                    0,
                    0,
                    8,
                    0,
                    1,
                    0,
                    2,
                    5,
                    0,
                    2,
                    0,
                    0,
                    4,
                    0,
                    4,
                    0,
                    0,
                    0,
                    0,
                    1,
                    0,
                    0,
                    5,
                    0,
                    1,
                    0,
                    4,
                    3,
                    0,
                    2,
                    0,
                    1,
                    0,
                    0,
                    0,
                    1,
                    0,
                    0,
                    2,
                    1,
                    2,
                    1,
                    0,
                    3,
                    0,
                    1,
                    0,
                    0,
                    4,
                    1,
                    4,
                    0,
                    0,
                    0,
                    1,
                    0,
                    0,
                    0,
                    0,
                    0,
                    4,
                    0,
                    0,
                    0,
                    0,
                    0,
                    0,
                    0,
                    4,
                    0,
                    1,
                    1,
                    0,
                    0,
                    0,
                    1,
                    0,
                    0,
                    1,
                    3,
                    0,
                    0,
                    5,
                    1,
                    1,
                    1,
                    0,
                    0,
                    0,
                    0,
                    0,
                    0,
                    2,
                    0,
                    0,
                    0,
                    0,
                    0,
                    0,
                    0,
                    2,
                    1,
                    1,
                    1,
                    0,
                    0,
                    0,
                    0,
                    1,
                    1,
                    0,
                    0,
                    0,
                    3,
                    7,
                    0,
                    0,
                    0,
                    0,
                    2,
                    1,
                    0,
                    1
                  ],
                  "yaxis": "y"
                }
              ],
              "layout": {
                "legend": {
                  "tracegroupgap": 0
                },
                "template": {
                  "data": {
                    "bar": [
                      {
                        "error_x": {
                          "color": "#2a3f5f"
                        },
                        "error_y": {
                          "color": "#2a3f5f"
                        },
                        "marker": {
                          "line": {
                            "color": "#E5ECF6",
                            "width": 0.5
                          },
                          "pattern": {
                            "fillmode": "overlay",
                            "size": 10,
                            "solidity": 0.2
                          }
                        },
                        "type": "bar"
                      }
                    ],
                    "barpolar": [
                      {
                        "marker": {
                          "line": {
                            "color": "#E5ECF6",
                            "width": 0.5
                          },
                          "pattern": {
                            "fillmode": "overlay",
                            "size": 10,
                            "solidity": 0.2
                          }
                        },
                        "type": "barpolar"
                      }
                    ],
                    "carpet": [
                      {
                        "aaxis": {
                          "endlinecolor": "#2a3f5f",
                          "gridcolor": "white",
                          "linecolor": "white",
                          "minorgridcolor": "white",
                          "startlinecolor": "#2a3f5f"
                        },
                        "baxis": {
                          "endlinecolor": "#2a3f5f",
                          "gridcolor": "white",
                          "linecolor": "white",
                          "minorgridcolor": "white",
                          "startlinecolor": "#2a3f5f"
                        },
                        "type": "carpet"
                      }
                    ],
                    "choropleth": [
                      {
                        "colorbar": {
                          "outlinewidth": 0,
                          "ticks": ""
                        },
                        "type": "choropleth"
                      }
                    ],
                    "contour": [
                      {
                        "colorbar": {
                          "outlinewidth": 0,
                          "ticks": ""
                        },
                        "colorscale": [
                          [
                            0,
                            "#0d0887"
                          ],
                          [
                            0.1111111111111111,
                            "#46039f"
                          ],
                          [
                            0.2222222222222222,
                            "#7201a8"
                          ],
                          [
                            0.3333333333333333,
                            "#9c179e"
                          ],
                          [
                            0.4444444444444444,
                            "#bd3786"
                          ],
                          [
                            0.5555555555555556,
                            "#d8576b"
                          ],
                          [
                            0.6666666666666666,
                            "#ed7953"
                          ],
                          [
                            0.7777777777777778,
                            "#fb9f3a"
                          ],
                          [
                            0.8888888888888888,
                            "#fdca26"
                          ],
                          [
                            1,
                            "#f0f921"
                          ]
                        ],
                        "type": "contour"
                      }
                    ],
                    "contourcarpet": [
                      {
                        "colorbar": {
                          "outlinewidth": 0,
                          "ticks": ""
                        },
                        "type": "contourcarpet"
                      }
                    ],
                    "heatmap": [
                      {
                        "colorbar": {
                          "outlinewidth": 0,
                          "ticks": ""
                        },
                        "colorscale": [
                          [
                            0,
                            "#0d0887"
                          ],
                          [
                            0.1111111111111111,
                            "#46039f"
                          ],
                          [
                            0.2222222222222222,
                            "#7201a8"
                          ],
                          [
                            0.3333333333333333,
                            "#9c179e"
                          ],
                          [
                            0.4444444444444444,
                            "#bd3786"
                          ],
                          [
                            0.5555555555555556,
                            "#d8576b"
                          ],
                          [
                            0.6666666666666666,
                            "#ed7953"
                          ],
                          [
                            0.7777777777777778,
                            "#fb9f3a"
                          ],
                          [
                            0.8888888888888888,
                            "#fdca26"
                          ],
                          [
                            1,
                            "#f0f921"
                          ]
                        ],
                        "type": "heatmap"
                      }
                    ],
                    "heatmapgl": [
                      {
                        "colorbar": {
                          "outlinewidth": 0,
                          "ticks": ""
                        },
                        "colorscale": [
                          [
                            0,
                            "#0d0887"
                          ],
                          [
                            0.1111111111111111,
                            "#46039f"
                          ],
                          [
                            0.2222222222222222,
                            "#7201a8"
                          ],
                          [
                            0.3333333333333333,
                            "#9c179e"
                          ],
                          [
                            0.4444444444444444,
                            "#bd3786"
                          ],
                          [
                            0.5555555555555556,
                            "#d8576b"
                          ],
                          [
                            0.6666666666666666,
                            "#ed7953"
                          ],
                          [
                            0.7777777777777778,
                            "#fb9f3a"
                          ],
                          [
                            0.8888888888888888,
                            "#fdca26"
                          ],
                          [
                            1,
                            "#f0f921"
                          ]
                        ],
                        "type": "heatmapgl"
                      }
                    ],
                    "histogram": [
                      {
                        "marker": {
                          "pattern": {
                            "fillmode": "overlay",
                            "size": 10,
                            "solidity": 0.2
                          }
                        },
                        "type": "histogram"
                      }
                    ],
                    "histogram2d": [
                      {
                        "colorbar": {
                          "outlinewidth": 0,
                          "ticks": ""
                        },
                        "colorscale": [
                          [
                            0,
                            "#0d0887"
                          ],
                          [
                            0.1111111111111111,
                            "#46039f"
                          ],
                          [
                            0.2222222222222222,
                            "#7201a8"
                          ],
                          [
                            0.3333333333333333,
                            "#9c179e"
                          ],
                          [
                            0.4444444444444444,
                            "#bd3786"
                          ],
                          [
                            0.5555555555555556,
                            "#d8576b"
                          ],
                          [
                            0.6666666666666666,
                            "#ed7953"
                          ],
                          [
                            0.7777777777777778,
                            "#fb9f3a"
                          ],
                          [
                            0.8888888888888888,
                            "#fdca26"
                          ],
                          [
                            1,
                            "#f0f921"
                          ]
                        ],
                        "type": "histogram2d"
                      }
                    ],
                    "histogram2dcontour": [
                      {
                        "colorbar": {
                          "outlinewidth": 0,
                          "ticks": ""
                        },
                        "colorscale": [
                          [
                            0,
                            "#0d0887"
                          ],
                          [
                            0.1111111111111111,
                            "#46039f"
                          ],
                          [
                            0.2222222222222222,
                            "#7201a8"
                          ],
                          [
                            0.3333333333333333,
                            "#9c179e"
                          ],
                          [
                            0.4444444444444444,
                            "#bd3786"
                          ],
                          [
                            0.5555555555555556,
                            "#d8576b"
                          ],
                          [
                            0.6666666666666666,
                            "#ed7953"
                          ],
                          [
                            0.7777777777777778,
                            "#fb9f3a"
                          ],
                          [
                            0.8888888888888888,
                            "#fdca26"
                          ],
                          [
                            1,
                            "#f0f921"
                          ]
                        ],
                        "type": "histogram2dcontour"
                      }
                    ],
                    "mesh3d": [
                      {
                        "colorbar": {
                          "outlinewidth": 0,
                          "ticks": ""
                        },
                        "type": "mesh3d"
                      }
                    ],
                    "parcoords": [
                      {
                        "line": {
                          "colorbar": {
                            "outlinewidth": 0,
                            "ticks": ""
                          }
                        },
                        "type": "parcoords"
                      }
                    ],
                    "pie": [
                      {
                        "automargin": true,
                        "type": "pie"
                      }
                    ],
                    "scatter": [
                      {
                        "fillpattern": {
                          "fillmode": "overlay",
                          "size": 10,
                          "solidity": 0.2
                        },
                        "type": "scatter"
                      }
                    ],
                    "scatter3d": [
                      {
                        "line": {
                          "colorbar": {
                            "outlinewidth": 0,
                            "ticks": ""
                          }
                        },
                        "marker": {
                          "colorbar": {
                            "outlinewidth": 0,
                            "ticks": ""
                          }
                        },
                        "type": "scatter3d"
                      }
                    ],
                    "scattercarpet": [
                      {
                        "marker": {
                          "colorbar": {
                            "outlinewidth": 0,
                            "ticks": ""
                          }
                        },
                        "type": "scattercarpet"
                      }
                    ],
                    "scattergeo": [
                      {
                        "marker": {
                          "colorbar": {
                            "outlinewidth": 0,
                            "ticks": ""
                          }
                        },
                        "type": "scattergeo"
                      }
                    ],
                    "scattergl": [
                      {
                        "marker": {
                          "colorbar": {
                            "outlinewidth": 0,
                            "ticks": ""
                          }
                        },
                        "type": "scattergl"
                      }
                    ],
                    "scattermapbox": [
                      {
                        "marker": {
                          "colorbar": {
                            "outlinewidth": 0,
                            "ticks": ""
                          }
                        },
                        "type": "scattermapbox"
                      }
                    ],
                    "scatterpolar": [
                      {
                        "marker": {
                          "colorbar": {
                            "outlinewidth": 0,
                            "ticks": ""
                          }
                        },
                        "type": "scatterpolar"
                      }
                    ],
                    "scatterpolargl": [
                      {
                        "marker": {
                          "colorbar": {
                            "outlinewidth": 0,
                            "ticks": ""
                          }
                        },
                        "type": "scatterpolargl"
                      }
                    ],
                    "scatterternary": [
                      {
                        "marker": {
                          "colorbar": {
                            "outlinewidth": 0,
                            "ticks": ""
                          }
                        },
                        "type": "scatterternary"
                      }
                    ],
                    "surface": [
                      {
                        "colorbar": {
                          "outlinewidth": 0,
                          "ticks": ""
                        },
                        "colorscale": [
                          [
                            0,
                            "#0d0887"
                          ],
                          [
                            0.1111111111111111,
                            "#46039f"
                          ],
                          [
                            0.2222222222222222,
                            "#7201a8"
                          ],
                          [
                            0.3333333333333333,
                            "#9c179e"
                          ],
                          [
                            0.4444444444444444,
                            "#bd3786"
                          ],
                          [
                            0.5555555555555556,
                            "#d8576b"
                          ],
                          [
                            0.6666666666666666,
                            "#ed7953"
                          ],
                          [
                            0.7777777777777778,
                            "#fb9f3a"
                          ],
                          [
                            0.8888888888888888,
                            "#fdca26"
                          ],
                          [
                            1,
                            "#f0f921"
                          ]
                        ],
                        "type": "surface"
                      }
                    ],
                    "table": [
                      {
                        "cells": {
                          "fill": {
                            "color": "#EBF0F8"
                          },
                          "line": {
                            "color": "white"
                          }
                        },
                        "header": {
                          "fill": {
                            "color": "#C8D4E3"
                          },
                          "line": {
                            "color": "white"
                          }
                        },
                        "type": "table"
                      }
                    ]
                  },
                  "layout": {
                    "annotationdefaults": {
                      "arrowcolor": "#2a3f5f",
                      "arrowhead": 0,
                      "arrowwidth": 1
                    },
                    "autotypenumbers": "strict",
                    "coloraxis": {
                      "colorbar": {
                        "outlinewidth": 0,
                        "ticks": ""
                      }
                    },
                    "colorscale": {
                      "diverging": [
                        [
                          0,
                          "#8e0152"
                        ],
                        [
                          0.1,
                          "#c51b7d"
                        ],
                        [
                          0.2,
                          "#de77ae"
                        ],
                        [
                          0.3,
                          "#f1b6da"
                        ],
                        [
                          0.4,
                          "#fde0ef"
                        ],
                        [
                          0.5,
                          "#f7f7f7"
                        ],
                        [
                          0.6,
                          "#e6f5d0"
                        ],
                        [
                          0.7,
                          "#b8e186"
                        ],
                        [
                          0.8,
                          "#7fbc41"
                        ],
                        [
                          0.9,
                          "#4d9221"
                        ],
                        [
                          1,
                          "#276419"
                        ]
                      ],
                      "sequential": [
                        [
                          0,
                          "#0d0887"
                        ],
                        [
                          0.1111111111111111,
                          "#46039f"
                        ],
                        [
                          0.2222222222222222,
                          "#7201a8"
                        ],
                        [
                          0.3333333333333333,
                          "#9c179e"
                        ],
                        [
                          0.4444444444444444,
                          "#bd3786"
                        ],
                        [
                          0.5555555555555556,
                          "#d8576b"
                        ],
                        [
                          0.6666666666666666,
                          "#ed7953"
                        ],
                        [
                          0.7777777777777778,
                          "#fb9f3a"
                        ],
                        [
                          0.8888888888888888,
                          "#fdca26"
                        ],
                        [
                          1,
                          "#f0f921"
                        ]
                      ],
                      "sequentialminus": [
                        [
                          0,
                          "#0d0887"
                        ],
                        [
                          0.1111111111111111,
                          "#46039f"
                        ],
                        [
                          0.2222222222222222,
                          "#7201a8"
                        ],
                        [
                          0.3333333333333333,
                          "#9c179e"
                        ],
                        [
                          0.4444444444444444,
                          "#bd3786"
                        ],
                        [
                          0.5555555555555556,
                          "#d8576b"
                        ],
                        [
                          0.6666666666666666,
                          "#ed7953"
                        ],
                        [
                          0.7777777777777778,
                          "#fb9f3a"
                        ],
                        [
                          0.8888888888888888,
                          "#fdca26"
                        ],
                        [
                          1,
                          "#f0f921"
                        ]
                      ]
                    },
                    "colorway": [
                      "#636efa",
                      "#EF553B",
                      "#00cc96",
                      "#ab63fa",
                      "#FFA15A",
                      "#19d3f3",
                      "#FF6692",
                      "#B6E880",
                      "#FF97FF",
                      "#FECB52"
                    ],
                    "font": {
                      "color": "#2a3f5f"
                    },
                    "geo": {
                      "bgcolor": "white",
                      "lakecolor": "white",
                      "landcolor": "#E5ECF6",
                      "showlakes": true,
                      "showland": true,
                      "subunitcolor": "white"
                    },
                    "hoverlabel": {
                      "align": "left"
                    },
                    "hovermode": "closest",
                    "mapbox": {
                      "style": "light"
                    },
                    "paper_bgcolor": "white",
                    "plot_bgcolor": "#E5ECF6",
                    "polar": {
                      "angularaxis": {
                        "gridcolor": "white",
                        "linecolor": "white",
                        "ticks": ""
                      },
                      "bgcolor": "#E5ECF6",
                      "radialaxis": {
                        "gridcolor": "white",
                        "linecolor": "white",
                        "ticks": ""
                      }
                    },
                    "scene": {
                      "xaxis": {
                        "backgroundcolor": "#E5ECF6",
                        "gridcolor": "white",
                        "gridwidth": 2,
                        "linecolor": "white",
                        "showbackground": true,
                        "ticks": "",
                        "zerolinecolor": "white"
                      },
                      "yaxis": {
                        "backgroundcolor": "#E5ECF6",
                        "gridcolor": "white",
                        "gridwidth": 2,
                        "linecolor": "white",
                        "showbackground": true,
                        "ticks": "",
                        "zerolinecolor": "white"
                      },
                      "zaxis": {
                        "backgroundcolor": "#E5ECF6",
                        "gridcolor": "white",
                        "gridwidth": 2,
                        "linecolor": "white",
                        "showbackground": true,
                        "ticks": "",
                        "zerolinecolor": "white"
                      }
                    },
                    "shapedefaults": {
                      "line": {
                        "color": "#2a3f5f"
                      }
                    },
                    "ternary": {
                      "aaxis": {
                        "gridcolor": "white",
                        "linecolor": "white",
                        "ticks": ""
                      },
                      "baxis": {
                        "gridcolor": "white",
                        "linecolor": "white",
                        "ticks": ""
                      },
                      "bgcolor": "#E5ECF6",
                      "caxis": {
                        "gridcolor": "white",
                        "linecolor": "white",
                        "ticks": ""
                      }
                    },
                    "title": {
                      "x": 0.05
                    },
                    "xaxis": {
                      "automargin": true,
                      "gridcolor": "white",
                      "linecolor": "white",
                      "ticks": "",
                      "title": {
                        "standoff": 15
                      },
                      "zerolinecolor": "white",
                      "zerolinewidth": 2
                    },
                    "yaxis": {
                      "automargin": true,
                      "gridcolor": "white",
                      "linecolor": "white",
                      "ticks": "",
                      "title": {
                        "standoff": 15
                      },
                      "zerolinecolor": "white",
                      "zerolinewidth": 2
                    }
                  }
                },
                "title": {
                  "text": "Зависимость количества вакансий от количества работодателей в регионе"
                },
                "xaxis": {
                  "anchor": "y",
                  "domain": [
                    0,
                    1
                  ],
                  "title": {
                    "text": "cnt_e"
                  },
                  "type": "log"
                },
                "yaxis": {
                  "anchor": "x",
                  "domain": [
                    0,
                    1
                  ],
                  "title": {
                    "text": "cnt_v"
                  },
                  "type": "log"
                }
              }
            }
          },
          "metadata": {},
          "output_type": "display_data"
        }
      ],
      "source": [
        "query_5_2 = f'''with x as \n",
        "                        (\n",
        "                        select\n",
        "                            a.name,\n",
        "                            a.id,\n",
        "                            count(e.area) as cnt_e\n",
        "                        from areas a\n",
        "                        left join employers e on e.area = a.id\n",
        "                        group by a.name, a.id\n",
        "                        )\n",
        "                select\n",
        "                    x.name,\n",
        "                    coalesce(x.cnt_e, 0) as cnt_e,\n",
        "                    coalesce(count(v.area_id), 0) as cnt_v\n",
        "                from x\n",
        "                left join vacancies v on x.id = v.area_id\n",
        "                group by x.name, x.cnt_e\n",
        "                --having coalesce(count(v.area_id), 0) <> 0\n",
        "                order by x.cnt_e desc\n",
        "                --limit 1\n",
        "            '''\n",
        "with engine.begin() as conn:\n",
        "    df_5_2 = pd.read_sql_query(sa.text(query_5_2), conn)\n",
        "\n",
        "fig = px.scatter(df_5_2, x='cnt_e', y='cnt_v', hover_name='name', log_x=True, log_y=True, title='Зависимость количества вакансий от количества работодателей в регионе')\n",
        "fig.show()"
      ]
    }
  ],
  "metadata": {
    "colab": {
      "provenance": []
    },
    "kernelspec": {
      "display_name": "Python 3 (ipykernel)",
      "language": "python",
      "name": "python3"
    },
    "language_info": {
      "codemirror_mode": {
        "name": "ipython",
        "version": 3
      },
      "file_extension": ".py",
      "mimetype": "text/x-python",
      "name": "python",
      "nbconvert_exporter": "python",
      "pygments_lexer": "ipython3",
      "version": "3.10.9"
    }
  },
  "nbformat": 4,
  "nbformat_minor": 5
}
