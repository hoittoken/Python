{
  "cells": [
    {
      "cell_type": "markdown",
      "id": "42289889-bd57-434e-9637-d3e354756316",
      "metadata": {
        "id": "42289889-bd57-434e-9637-d3e354756316"
      },
      "source": [
        "<center> <img src = https://raw.githubusercontent.com/AndreyRysistov/DatasetsForPandas/main/hh%20label.jpg alt=\"drawing\" style=\"width:400px;\">"
      ]
    },
    {
      "cell_type": "markdown",
      "id": "829cb75b-f14e-4ba8-9195-7ba929a7d656",
      "metadata": {
        "id": "829cb75b-f14e-4ba8-9195-7ba929a7d656",
        "tags": []
      },
      "source": [
        "# <center> Проект: Анализ вакансий из HeadHunter\n",
        "   "
      ]
    },
    {
      "cell_type": "code",
      "execution_count": 4,
      "id": "dccfde33-2452-43fb-a8a5-5c6ebc02a71d",
      "metadata": {
        "id": "dccfde33-2452-43fb-a8a5-5c6ebc02a71d"
      },
      "outputs": [],
      "source": [
        "# импортируем библиотеки\n",
        "import pandas as pd\n",
        "import psycopg2\n",
        "import warnings\n",
        "warnings.filterwarnings(\"ignore\")\n",
        "\n",
        "import plotly\n",
        "import plotly.graph_objs as go\n",
        "import plotly.express as px\n",
        "from plotly.subplots import make_subplots\n",
        "\n",
        "# импортируем библиотеку от одного продвинутого студента\n",
        "import urllib.parse as req"
      ]
    },
    {
      "cell_type": "code",
      "execution_count": 6,
      "id": "G4X_q8KBf7SF",
      "metadata": {
        "id": "G4X_q8KBf7SF"
      },
      "outputs": [],
      "source": [
        "connection = psycopg2.connect(\n",
        "    dbname=DBNAME,\n",
        "    user=USER,\n",
        "    host=HOST,\n",
        "    password=PASSWORD,\n",
        "    port=PORT\n",
        ")"
      ]
    },
    {
      "cell_type": "markdown",
      "id": "e5c2fa19",
      "metadata": {},
      "source": [
        "# Юнит 0. Подготовка к дополнительным исследованиям"
      ]
    },
    {
      "cell_type": "markdown",
      "id": "20c83014",
      "metadata": {},
      "source": [
        "Для дополнительных исследований целесообразно подготовить информацию о городах России и их населению. Воспользуемся Википедией.\n",
        "\n",
        "По состоянию **на 9 марта 2024 года** в России насчитывается 1122 города.\n",
        "\n",
        "Согласно своду правил «Градостроительство. Планировка и застройка городских и сельских поселений» (СП 42.13330.2016) от Минстроя РФ, города страны классифицированы следующим образом:\n",
        "\n",
        "* *Крупнейшие* —  с населением свыше 1 миллиона человек\n",
        "* *Крупные* —  от 250 тысяч человек до 1 миллиона человек (в том числе подкатегории от 250 до 500 тысяч и от 500 тысяч до 1 миллиона человек)\n",
        "* *Большие* —  от 100 до 250 тысяч человек\n",
        "* *Средние* —  от 50 до 100 тысяч человек\n",
        "* *Малые* —  до 50 тысяч человек \n",
        "\n",
        "1. Названия городов соответствующих категроий схраним в виде кортежей\n",
        "2. Сохраняем данные в отдельные DataFrame(Со столбцами:\"Название город\", \"Население\")"
      ]
    },
    {
      "cell_type": "code",
      "execution_count": 7,
      "id": "28e0eb13",
      "metadata": {},
      "outputs": [],
      "source": [
        "# функция для предобработки данных:\n",
        "def get_df_from_viki(list_of_tables, table_index):\n",
        "    \"\"\"Функция для обработки таблиц скачанных со страниц Википедии. Необходима конкретно для выгрузки данных о названии города и его населении. Приводит к числовому типу данных сведения о населении.\n",
        "\n",
        "    Args:\n",
        "        list_of_tables (list whith pandas.DataFrames as  items ): если таблиц больше одной на странице то нужно указать ее индекс\n",
        "        table_index (int): index of table\n",
        "\n",
        "    Returns:\n",
        "        _type_: pandas.DataFrame\n",
        "    \"\"\"\n",
        "    # формируем сырой DataFrame\n",
        "    df = list_of_tables[table_index].iloc[:,[1,3]] \n",
        "    # укорачиваем название столбца 'Население...'\n",
        "    # чтобы не заморачиваться со старым и новым именем столбца просто\n",
        "    # присвоим новые назщвания столбцам\n",
        "    df.columns = ['Город', 'Население']\n",
        "    # удаляем пробелы\n",
        "    df['Население'] = df['Население'].apply(lambda x: x.replace(' ','')) \n",
        "    # приводим к числовому типу данных\n",
        "    df['Население'] = df['Население'].astype('int64')\n",
        "    return df"
      ]
    },
    {
      "cell_type": "code",
      "execution_count": 8,
      "id": "8ca4fc6f",
      "metadata": {},
      "outputs": [],
      "source": [
        "# код для получения списка городов-милионников для задания №\n",
        "\n",
        "# вставляем оригинальную ссылку из Википедии\n",
        "path_common = req.urlparse('https://ru.wikipedia.org/wiki/Города-миллионеры_России')\n",
        "# приводим в читабельный вид\n",
        "url = path_common.scheme + '://' + req.quote(path_common.netloc) +  req.quote(path_common.path) + '#'+ req.quote(path_common.fragment)\n",
        "# получаем списао таблиц на страницу\n",
        "tables_m = pd.read_html(url)\n",
        "# сохраняем в кортеж с названиями стран в переменную \n",
        "million_cities = tuple(tables_m[1]['Город'])\n",
        "#million_cities_df = get_df_from_viki(tables_m,7)"
      ]
    },
    {
      "cell_type": "code",
      "execution_count": 9,
      "id": "24787bcd",
      "metadata": {},
      "outputs": [],
      "source": [
        "\n",
        "# вставляем оригинальную ссылку из Википедии на стараницу с данными о городах России\n",
        "path_common = req.urlparse('https://ru.wikipedia.org/wiki/Города_России')\n",
        "# приводим в читабельный вид\n",
        "url = path_common.scheme + '://' + req.quote(path_common.netloc) +  req.quote(path_common.path) + '#'+ req.quote(path_common.fragment)\n",
        "# получаем списао таблиц на страницу\n",
        "tables = pd.read_html(url)\n",
        "\n",
        "# сохраняем в кортеж с названиями стран в переменную \n",
        "# крупные города 500 тысяч до 1 миллиона человек\n",
        "large_cities_500_1000 = tuple(tables[7]['Город'])\n",
        "large_cities_500_1000_df = get_df_from_viki(tables,7)\n",
        "\n",
        "# крупные города от 250 до 500 тысяч человек\n",
        "large_cities_250_500 = tuple(tables[8]['Город'])\n",
        "large_cities_250_500_df = get_df_from_viki(tables,8)\n",
        "\n",
        "# большие города от 100 до 250 тысяч человек \n",
        "big_cities = tuple(tables[9]['Город'])\n",
        "big_cities_df = get_df_from_viki(tables,9)\n",
        "\n",
        "# средние города от 50 до 100 тысяч человек\n",
        "middle_cities = tuple(tables[10]['Город'])\n",
        "middle_cities_df = get_df_from_viki(tables,10)\n",
        "\n",
        "# средние города от 50 до 100 тысяч человек\n",
        "small_cities = tuple(tables[11]['Город'])\n",
        "small_cities_df = get_df_from_viki(tables,11)\n"
      ]
    },
    {
      "cell_type": "markdown",
      "id": "0dc6476b-7a00-44f1-ac93-6e3baed33a29",
      "metadata": {
        "id": "0dc6476b-7a00-44f1-ac93-6e3baed33a29"
      },
      "source": [
        "# Юнит 3. Предварительный анализ данных"
      ]
    },
    {
      "cell_type": "markdown",
      "id": "889782b6-8d1c-410e-8920-e57f27917c64",
      "metadata": {
        "id": "889782b6-8d1c-410e-8920-e57f27917c64"
      },
      "source": [
        "1. Напишите запрос, который посчитает количество вакансий в нашей базе (вакансии находятся в таблице vacancies). "
      ]
    },
    {
      "cell_type": "code",
      "execution_count": 10,
      "id": "bc39e68e-ed02-4ee2-9235-7258a2f867a8",
      "metadata": {
        "id": "bc39e68e-ed02-4ee2-9235-7258a2f867a8"
      },
      "outputs": [],
      "source": [
        "# текст запроса \n",
        "# считаем количество строк в таблице vacancies\n",
        "query_3_1 = f'''select\n",
        "                --посчитаем все сторки\n",
        "                count(*)\n",
        "                --в таблице с вакансиями\n",
        "                from vacancies \n",
        "            '''"
      ]
    },
    {
      "cell_type": "code",
      "execution_count": 11,
      "id": "7mAwtsk4hEHY",
      "metadata": {
        "id": "7mAwtsk4hEHY"
      },
      "outputs": [
        {
          "name": "stdout",
          "output_type": "stream",
          "text": [
            "Общее количество вакансий в базе: 49197\n"
          ]
        }
      ],
      "source": [
        "# результат запроса\n",
        "df_3_1 = pd.read_sql_query(query_3_1, connection)\n",
        "vacancies_total_amount = df_3_1.iloc[0,0]\n",
        "print(f'Общее количество вакансий в базе: {vacancies_total_amount}')"
      ]
    },
    {
      "cell_type": "markdown",
      "id": "b583485d-1f9e-494e-ada4-80ffff7c53d6",
      "metadata": {
        "id": "b583485d-1f9e-494e-ada4-80ffff7c53d6"
      },
      "source": [
        "2. Напишите запрос, который посчитает количество работодателей (таблица employers). "
      ]
    },
    {
      "cell_type": "code",
      "execution_count": 12,
      "id": "5408c52c-3407-4a63-b25b-1aafa2322d28",
      "metadata": {
        "id": "5408c52c-3407-4a63-b25b-1aafa2322d28"
      },
      "outputs": [],
      "source": [
        "# текст запроса\n",
        "# считаем количество строк в таблице employers\n",
        "query_3_2 = f'''select\n",
        "                --посчитаем все сторки\n",
        "                count(*)\n",
        "                --в таблице с работодателями\n",
        "                from employers\n",
        "            '''"
      ]
    },
    {
      "cell_type": "code",
      "execution_count": 13,
      "id": "jVL4eshKhdqc",
      "metadata": {
        "id": "jVL4eshKhdqc"
      },
      "outputs": [
        {
          "name": "stdout",
          "output_type": "stream",
          "text": [
            "Общее количество работодателей в базе: 23501\n"
          ]
        }
      ],
      "source": [
        "# результат запроса\n",
        "df_3_2 = pd.read_sql_query(query_3_2, connection)\n",
        "employers_total_amount = df_3_2.iloc[0,0]\n",
        "print(f'Общее количество работодателей в базе: {employers_total_amount}')"
      ]
    },
    {
      "cell_type": "markdown",
      "id": "jVL4eshKhdqc",
      "metadata": {
        "id": "jVL4eshKhdqc"
      },
      "source": [
        "3. Посчитате с помощью запроса количество регионов (таблица areas)."
      ]
    },
    {
      "cell_type": "code",
      "execution_count": 14,
      "id": "1m8QJwBYhey6",
      "metadata": {
        "id": "1m8QJwBYhey6"
      },
      "outputs": [],
      "source": [
        "# текст запроса\n",
        "# считаем количество строк в таблице areas\n",
        "query_3_3 = f'''select\n",
        "                --посчитаем все сторки\n",
        "                count(*)\n",
        "                --в таблице с регионами\n",
        "                from areas\n",
        "            '''"
      ]
    },
    {
      "cell_type": "code",
      "execution_count": 15,
      "id": "1m8QJwBYhey6",
      "metadata": {
        "id": "1m8QJwBYhey6"
      },
      "outputs": [
        {
          "name": "stdout",
          "output_type": "stream",
          "text": [
            "Общее количество регионов в базе: 1362\n"
          ]
        }
      ],
      "source": [
        "# результат запроса\n",
        "df_3_3 = pd.read_sql_query(query_3_3, connection)\n",
        "areas_total_amount = df_3_3.iloc[0,0]\n",
        "print(f'Общее количество регионов в базе: {areas_total_amount}')"
      ]
    },
    {
      "cell_type": "markdown",
      "id": "EZsn9tlfhe7f",
      "metadata": {
        "id": "EZsn9tlfhe7f"
      },
      "source": [
        "4. Посчитате с помощью запроса количество сфер деятельности в базе (таблица industries)."
      ]
    },
    {
      "cell_type": "code",
      "execution_count": 16,
      "id": "d286cf4c-707b-4cd2-9190-7ab3587d04a1",
      "metadata": {
        "id": "d286cf4c-707b-4cd2-9190-7ab3587d04a1"
      },
      "outputs": [],
      "source": [
        "# текст запроса\n",
        "# считаем количество строк в таблице industries\n",
        "query_3_4 = f'''select\n",
        "                --посчитаем все сторки\n",
        "                count(*)\n",
        "                --в таблице с видами деяетельности\n",
        "                from industries\n",
        "            '''"
      ]
    },
    {
      "cell_type": "code",
      "execution_count": 17,
      "id": "d286cf4c-707b-4cd2-9190-7ab3587d04a1",
      "metadata": {
        "id": "d286cf4c-707b-4cd2-9190-7ab3587d04a1"
      },
      "outputs": [
        {
          "name": "stdout",
          "output_type": "stream",
          "text": [
            "Общее количество сфер деятельности в базе: 294\n"
          ]
        }
      ],
      "source": [
        "# результат запроса\n",
        "df = pd.read_sql_query(query_3_4, connection)\n",
        "industries_total_amount = df.iloc[0,0]\n",
        "print(f'Общее количество сфер деятельности в базе: {industries_total_amount}')"
      ]
    },
    {
      "cell_type": "markdown",
      "id": "JYAaoZ4qhfzW",
      "metadata": {
        "id": "JYAaoZ4qhfzW"
      },
      "source": [
        "***"
      ]
    },
    {
      "cell_type": "code",
      "execution_count": 18,
      "id": "be4e9bd3-a4db-4a20-82fb-6b02fc2957e0",
      "metadata": {
        "id": "be4e9bd3-a4db-4a20-82fb-6b02fc2957e0"
      },
      "outputs": [
        {
          "name": "stdout",
          "output_type": "stream",
          "text": [
            "Общее количество вакансий в базе: 49197\n",
            "Общее количество работодателей в базе: 23501\n",
            "Общее количество регионов в базе: 1362\n",
            "Общее количество сфер деятельности в базе: 294\n",
            "\n",
            "Грубые средние оценки\n",
            "Количество вакансий на одного работодателя: 2\n",
            "Количество вакансий на один регион: 36\n",
            "Количество вакансий на одну сферу деятельности: 167\n",
            "Количество работодателей на один регион: 17\n"
          ]
        }
      ],
      "source": [
        "# выводы по предварительному анализу данных\n",
        "print(f'Общее количество вакансий в базе: {vacancies_total_amount}')\n",
        "print(f'Общее количество работодателей в базе: {employers_total_amount}')\n",
        "print(f'Общее количество регионов в базе: {areas_total_amount}')\n",
        "print(f'Общее количество сфер деятельности в базе: {industries_total_amount}')\n",
        "print()\n",
        "print(f'Грубые средние оценки')\n",
        "print(f'Количество вакансий на одного работодателя: {round(vacancies_total_amount/employers_total_amount)}')\n",
        "print(f'Количество вакансий на один регион: {round(vacancies_total_amount/areas_total_amount)}')\n",
        "print(f'Количество вакансий на одну сферу деятельности: {round(vacancies_total_amount/industries_total_amount)}')\n",
        "print(f'Количество работодателей на один регион: {round(employers_total_amount/areas_total_amount)}')"
      ]
    },
    {
      "cell_type": "markdown",
      "id": "be4e9bd3-a4db-4a20-82fb-6b02fc2957e0",
      "metadata": {
        "id": "be4e9bd3-a4db-4a20-82fb-6b02fc2957e0"
      },
      "source": [
        "**Общие выводы** по количественным данным и полученным соотношениям:<br>\n",
        "*Количество вакансий больше чем работодателей в 2 раз, или 2 вакансии на одного работодателя,* это грубый вывод, требующей уточнения в дальнейшем, конечно это не означает что у каждого работодателя по 2 вакансии.<br>\n",
        "\n",
        "Это означает что данные логичны и *потенциально* означает что у каждого работодателя есть хотя бы по одной вакансии, а может и нет, и значит необходимо *уточнить список работодателей у которых нет вакансий и в каких эти работодатели регионах и сферах деятельности.*<br>\n",
        "\n",
        "Если таковые имеются то необходимо *учесть их долю* в общем количестве и в разрезе регионов.<br>\n",
        "\n",
        "Судя по этим цифрам в каждом регионе по 17 работотелей, но в реальности это конечно же не так распределение работодателей по регионам *будет свидетельствовать о показателе деловой активности*, особенно если учесть уровни предлагаемых зарплат и количесвто сотрудников компании.<br>\n",
        "\n",
        "Также интересно соотнести фактически показатель среднего числа вакансий на одного работодателя в общем к фактическому показателю среднего числа вакансий в каждом регионе. Число вакансий на одного работодателя может свидетельствовать: об уровне \"текучки\" кадров(хотя тут необходимо смотреть на соотношение к общему количеству сотрудников, и частоту закрытий/открытий одних и тех же вакансий на протяжении времени, т.е. добавляется временной разрез для каждой компании), развитии компании (т.е. создание новых подразделений)<br>\n",
        "\n",
        "Если принять что в каждой сфере деятельности по 167 вакансий, то можно сказать что все они в равной мере испытывают потребность в кадрах, но это не так каждая сфера испытывает разную потребность в кадрах, и фактические значения это подтвердят. <br>\n"
      ]
    },
    {
      "cell_type": "markdown",
      "id": "8d62a9f3-f64e-4fe7-bdac-c4dffa16155e",
      "metadata": {
        "id": "8d62a9f3-f64e-4fe7-bdac-c4dffa16155e"
      },
      "source": [
        "# Юнит 4. Детальный анализ вакансий"
      ]
    },
    {
      "cell_type": "markdown",
      "id": "93053d3d-b284-481a-9cf7-012d7014c0e0",
      "metadata": {
        "id": "93053d3d-b284-481a-9cf7-012d7014c0e0"
      },
      "source": [
        "1. Напишите запрос, который позволит узнать, сколько (cnt) вакансий в каждом регионе (area).\n",
        "Отсортируйте по количеству вакансий в порядке убывания."
      ]
    },
    {
      "cell_type": "code",
      "execution_count": 19,
      "id": "3f069da6-fdc9-4ae7-b514-fafe2675efd3",
      "metadata": {
        "id": "3f069da6-fdc9-4ae7-b514-fafe2675efd3"
      },
      "outputs": [],
      "source": [
        "# текст запроса\n",
        "query_4_1 = f'''select\n",
        "                --столбец с названиями регионов из таблицы регионов\n",
        "                a.name as area,\n",
        "                --считаем общее количество вакансий по столбцу id из таблицы вакансий   \n",
        "                count(v.id) as total_vacancies\n",
        "                --присоединямем к таблице вакансиями \n",
        "                from vacancies as v\n",
        "                --таблицу с регионами по id региона (регион в котором размещена вакансия)\n",
        "                join areas as a on v.area_id = a.id\n",
        "                --группируем по названию региона\n",
        "                group by a.name\n",
        "                --сортировка по количеству вакансий в порядке убывания\n",
        "                order by count(v.id) desc\n",
        "            '''"
      ]
    },
    {
      "cell_type": "code",
      "execution_count": 20,
      "id": "3f069da6-fdc9-4ae7-b514-fafe2675efd3",
      "metadata": {
        "id": "3f069da6-fdc9-4ae7-b514-fafe2675efd3"
      },
      "outputs": [
        {
          "data": {
            "text/html": [
              "<div>\n",
              "<style scoped>\n",
              "    .dataframe tbody tr th:only-of-type {\n",
              "        vertical-align: middle;\n",
              "    }\n",
              "\n",
              "    .dataframe tbody tr th {\n",
              "        vertical-align: top;\n",
              "    }\n",
              "\n",
              "    .dataframe thead th {\n",
              "        text-align: right;\n",
              "    }\n",
              "</style>\n",
              "<table border=\"1\" class=\"dataframe\">\n",
              "  <thead>\n",
              "    <tr style=\"text-align: right;\">\n",
              "      <th></th>\n",
              "      <th>area</th>\n",
              "      <th>total_vacancies</th>\n",
              "    </tr>\n",
              "  </thead>\n",
              "  <tbody>\n",
              "    <tr>\n",
              "      <th>0</th>\n",
              "      <td>Москва</td>\n",
              "      <td>5333</td>\n",
              "    </tr>\n",
              "    <tr>\n",
              "      <th>1</th>\n",
              "      <td>Санкт-Петербург</td>\n",
              "      <td>2851</td>\n",
              "    </tr>\n",
              "    <tr>\n",
              "      <th>2</th>\n",
              "      <td>Минск</td>\n",
              "      <td>2112</td>\n",
              "    </tr>\n",
              "    <tr>\n",
              "      <th>3</th>\n",
              "      <td>Новосибирск</td>\n",
              "      <td>2006</td>\n",
              "    </tr>\n",
              "    <tr>\n",
              "      <th>4</th>\n",
              "      <td>Алматы</td>\n",
              "      <td>1892</td>\n",
              "    </tr>\n",
              "    <tr>\n",
              "      <th>...</th>\n",
              "      <td>...</td>\n",
              "      <td>...</td>\n",
              "    </tr>\n",
              "    <tr>\n",
              "      <th>764</th>\n",
              "      <td>Тарко-Сале</td>\n",
              "      <td>1</td>\n",
              "    </tr>\n",
              "    <tr>\n",
              "      <th>765</th>\n",
              "      <td>Новоаннинский</td>\n",
              "      <td>1</td>\n",
              "    </tr>\n",
              "    <tr>\n",
              "      <th>766</th>\n",
              "      <td>Бирск</td>\n",
              "      <td>1</td>\n",
              "    </tr>\n",
              "    <tr>\n",
              "      <th>767</th>\n",
              "      <td>Сасово</td>\n",
              "      <td>1</td>\n",
              "    </tr>\n",
              "    <tr>\n",
              "      <th>768</th>\n",
              "      <td>Анна</td>\n",
              "      <td>1</td>\n",
              "    </tr>\n",
              "  </tbody>\n",
              "</table>\n",
              "<p>769 rows × 2 columns</p>\n",
              "</div>"
            ],
            "text/plain": [
              "                area  total_vacancies\n",
              "0             Москва             5333\n",
              "1    Санкт-Петербург             2851\n",
              "2              Минск             2112\n",
              "3        Новосибирск             2006\n",
              "4             Алматы             1892\n",
              "..               ...              ...\n",
              "764       Тарко-Сале                1\n",
              "765    Новоаннинский                1\n",
              "766            Бирск                1\n",
              "767           Сасово                1\n",
              "768             Анна                1\n",
              "\n",
              "[769 rows x 2 columns]"
            ]
          },
          "metadata": {},
          "output_type": "display_data"
        }
      ],
      "source": [
        "# результат запроса\n",
        "df_4_1 = pd.read_sql_query(query_4_1, connection)\n",
        "display(df_4_1)"
      ]
    },
    {
      "cell_type": "markdown",
      "id": "P7QL86hrjhRJ",
      "metadata": {
        "id": "P7QL86hrjhRJ"
      },
      "source": [
        "2. Напишите запрос, чтобы определить у какого количества вакансий заполнено хотя бы одно из двух полей с зарплатой."
      ]
    },
    {
      "cell_type": "code",
      "execution_count": 21,
      "id": "0c44b350-72eb-4d65-8b54-a1fc449ba9fd",
      "metadata": {
        "id": "0c44b350-72eb-4d65-8b54-a1fc449ba9fd"
      },
      "outputs": [],
      "source": [
        "# текст запроса\n",
        "query_4_2 = f'''select\n",
        "                    --считаем все строки\n",
        "                    count(*)\n",
        "                --в таблице с вакансиями \n",
        "                from vacancies\n",
        "                --где заполнена либо нижняя \n",
        "                where salary_from is not null\n",
        "                    --либо верхняя граница зарплатной вилки\n",
        "                    or salary_to is not null\n",
        "            '''"
      ]
    },
    {
      "cell_type": "code",
      "execution_count": 22,
      "id": "0c44b350-72eb-4d65-8b54-a1fc449ba9fd",
      "metadata": {
        "id": "0c44b350-72eb-4d65-8b54-a1fc449ba9fd"
      },
      "outputs": [
        {
          "name": "stdout",
          "output_type": "stream",
          "text": [
            "Количество вакансий у которых заполнено хотя бы одно из двух полей с зарплатой: 24073\n"
          ]
        }
      ],
      "source": [
        "# результат запроса\n",
        "df = pd.read_sql_query(query_4_2, connection)\n",
        "not_null_salary_amount = df.iloc[0,0]\n",
        "print(f'Количество вакансий у которых заполнено хотя бы одно из двух полей с зарплатой: {not_null_salary_amount}')"
      ]
    },
    {
      "cell_type": "markdown",
      "id": "rhvwaMDkoWTi",
      "metadata": {
        "id": "rhvwaMDkoWTi"
      },
      "source": [
        "2. 1. Дополнительно выясним у какого количества вакансий не  заполнено ни одно из двух полей с зарплатой."
      ]
    },
    {
      "cell_type": "code",
      "execution_count": 23,
      "id": "dfcdb452",
      "metadata": {},
      "outputs": [
        {
          "name": "stdout",
          "output_type": "stream",
          "text": [
            "Количество вакансий у которых не заполнено ни одно из двух полей с зарплатой: 25124\n"
          ]
        }
      ],
      "source": [
        "query_4_2_2 = f'''select\n",
        "                    --считаем все строки\n",
        "                    count(*)\n",
        "                --в таблицу с вакансиями\n",
        "                from vacancies\n",
        "                --где и верхняя и нижняя граница зарплатной вилки не заполнена\n",
        "                where salary_from is null\n",
        "                    and salary_to is null\n",
        "            '''\n",
        "df_4_2_2  = pd.read_sql_query(query_4_2_2, connection)\n",
        "null_salary_amount = df_4_2_2.iloc[0,0]\n",
        "print(f'Количество вакансий у которых не заполнено ни одно из двух полей с зарплатой: {null_salary_amount}')"
      ]
    },
    {
      "cell_type": "markdown",
      "id": "dfcdb452",
      "metadata": {},
      "source": [
        "3. Найдите средние значения для нижней и верхней границы зарплатной вилки. Округлите значения до целого."
      ]
    },
    {
      "cell_type": "code",
      "execution_count": 24,
      "id": "603cdbe4-0ec3-4106-8eaf-c73fcdd29165",
      "metadata": {
        "id": "603cdbe4-0ec3-4106-8eaf-c73fcdd29165"
      },
      "outputs": [],
      "source": [
        "# текст запроса\n",
        "query_4_3 = f'''select\n",
        "                    --находим среднее значение нижней границы зарплатной вилки\n",
        "                    avg(salary_from) as average_low_salary,\n",
        "                    --находим среднее значение верхней границы зарплатной вилки\n",
        "                    avg(salary_to) as average_high_salary\n",
        "                --в таблице с вакансиями\n",
        "                from vacancies\n",
        "            '''"
      ]
    },
    {
      "cell_type": "code",
      "execution_count": 25,
      "id": "603cdbe4-0ec3-4106-8eaf-c73fcdd29165",
      "metadata": {
        "id": "603cdbe4-0ec3-4106-8eaf-c73fcdd29165"
      },
      "outputs": [
        {
          "name": "stdout",
          "output_type": "stream",
          "text": [
            "Среднее значение нижней границы зарплатной вилки: 71065\n",
            "Среднее значение верхней границы зарплатной вилки: 110537\n"
          ]
        }
      ],
      "source": [
        "# результат запроса\n",
        "df = pd.read_sql_query(query_4_3, connection)\n",
        "average_low_salary = round(df.iloc[0,0])\n",
        "average_high_salary = round(df.iloc[0,1])\n",
        "print(f'Среднее значение нижней границы зарплатной вилки: {average_low_salary}')\n",
        "print(f'Среднее значение верхней границы зарплатной вилки: {average_high_salary}')"
      ]
    },
    {
      "cell_type": "markdown",
      "id": "pswpAb66ovZZ",
      "metadata": {
        "id": "pswpAb66ovZZ"
      },
      "source": [
        "3. 1. Дополнительно найдем средние значения для нижней и верхней границы \"зарплатной вилки\", а также диапазон \"зарплатной вилки\"  в разрезе опыта, отсортируем по нижней границе:"
      ]
    },
    {
      "cell_type": "code",
      "execution_count": 26,
      "id": "c640bd9c",
      "metadata": {},
      "outputs": [
        {
          "data": {
            "text/html": [
              "<div>\n",
              "<style scoped>\n",
              "    .dataframe tbody tr th:only-of-type {\n",
              "        vertical-align: middle;\n",
              "    }\n",
              "\n",
              "    .dataframe tbody tr th {\n",
              "        vertical-align: top;\n",
              "    }\n",
              "\n",
              "    .dataframe thead th {\n",
              "        text-align: right;\n",
              "    }\n",
              "</style>\n",
              "<table border=\"1\" class=\"dataframe\">\n",
              "  <thead>\n",
              "    <tr style=\"text-align: right;\">\n",
              "      <th></th>\n",
              "      <th>Опыт работы</th>\n",
              "      <th>Средний нижний уровень</th>\n",
              "      <th>Средний верхний уровень</th>\n",
              "      <th>Диапазон вилки</th>\n",
              "    </tr>\n",
              "  </thead>\n",
              "  <tbody>\n",
              "    <tr>\n",
              "      <th>0</th>\n",
              "      <td>Нет опыта</td>\n",
              "      <td>34699.0</td>\n",
              "      <td>56990.0</td>\n",
              "      <td>22292.0</td>\n",
              "    </tr>\n",
              "    <tr>\n",
              "      <th>1</th>\n",
              "      <td>От 1 года до 3 лет</td>\n",
              "      <td>64456.0</td>\n",
              "      <td>97436.0</td>\n",
              "      <td>32980.0</td>\n",
              "    </tr>\n",
              "    <tr>\n",
              "      <th>2</th>\n",
              "      <td>От 3 до 6 лет</td>\n",
              "      <td>112544.0</td>\n",
              "      <td>171974.0</td>\n",
              "      <td>59430.0</td>\n",
              "    </tr>\n",
              "    <tr>\n",
              "      <th>3</th>\n",
              "      <td>Более 6 лет</td>\n",
              "      <td>150156.0</td>\n",
              "      <td>197819.0</td>\n",
              "      <td>47664.0</td>\n",
              "    </tr>\n",
              "  </tbody>\n",
              "</table>\n",
              "</div>"
            ],
            "text/plain": [
              "          Опыт работы  Средний нижний уровень  Средний верхний уровень  \\\n",
              "0           Нет опыта                 34699.0                  56990.0   \n",
              "1  От 1 года до 3 лет                 64456.0                  97436.0   \n",
              "2       От 3 до 6 лет                112544.0                 171974.0   \n",
              "3         Более 6 лет                150156.0                 197819.0   \n",
              "\n",
              "   Диапазон вилки  \n",
              "0         22292.0  \n",
              "1         32980.0  \n",
              "2         59430.0  \n",
              "3         47664.0  "
            ]
          },
          "metadata": {},
          "output_type": "display_data"
        }
      ],
      "source": [
        "query_4_3_1 = f'''select\n",
        "                    --выводим значение опыта работы\n",
        "                    experience \"Опыт работы\",\n",
        "                    --считаем средний нижний уровень и округляем до целых\n",
        "                    round(avg(salary_from)) \"Средний нижний уровень\",\n",
        "                    --считаем средний верхний уровень и округляем до целых\n",
        "                    round(avg(salary_to)) \"Средний верхний уровень\",\n",
        "                    --считаем разницу между средним верхним и нижним уровнем, округляем до целых\n",
        "                    round(avg(salary_to)- avg(salary_from)) \"Диапазон вилки\"\n",
        "                --из таблицы с вакансиями\n",
        "                from vacancies \n",
        "                --группируем по опыту\n",
        "                group by experience\n",
        "                --сортируем по среднему нижнему уровню,округляем до целых\n",
        "                order by round(avg(salary_from))\n",
        "            '''\n",
        "\n",
        "df_4_3_1 = pd.read_sql_query(query_4_3_1, connection)\n",
        "display(df_4_3_1)"
      ]
    },
    {
      "cell_type": "markdown",
      "id": "c640bd9c",
      "metadata": {},
      "source": [
        "3. 2. Дополнительно найдем средние значения для нижней и верхней границы зарплатной вилки в разрезе регионов - только города-миллионники, при условии что одно из полей с ЗП заполнены и сопоставим с количеством населения в этих городах:"
      ]
    },
    {
      "cell_type": "code",
      "execution_count": 27,
      "id": "de2f7af8",
      "metadata": {},
      "outputs": [
        {
          "data": {
            "text/html": [
              "<div>\n",
              "<style scoped>\n",
              "    .dataframe tbody tr th:only-of-type {\n",
              "        vertical-align: middle;\n",
              "    }\n",
              "\n",
              "    .dataframe tbody tr th {\n",
              "        vertical-align: top;\n",
              "    }\n",
              "\n",
              "    .dataframe thead th {\n",
              "        text-align: right;\n",
              "    }\n",
              "</style>\n",
              "<table border=\"1\" class=\"dataframe\">\n",
              "  <thead>\n",
              "    <tr style=\"text-align: right;\">\n",
              "      <th></th>\n",
              "      <th>Регион</th>\n",
              "      <th>Средний нижний уровень</th>\n",
              "      <th>Средний верхний уровень</th>\n",
              "      <th>Количество вакансий</th>\n",
              "      <th>Диапазон вилки</th>\n",
              "    </tr>\n",
              "  </thead>\n",
              "  <tbody>\n",
              "    <tr>\n",
              "      <th>0</th>\n",
              "      <td>Москва</td>\n",
              "      <td>113409.0</td>\n",
              "      <td>160594.0</td>\n",
              "      <td>1592</td>\n",
              "      <td>47185.0</td>\n",
              "    </tr>\n",
              "    <tr>\n",
              "      <th>1</th>\n",
              "      <td>Новосибирск</td>\n",
              "      <td>91272.0</td>\n",
              "      <td>137573.0</td>\n",
              "      <td>929</td>\n",
              "      <td>46301.0</td>\n",
              "    </tr>\n",
              "    <tr>\n",
              "      <th>2</th>\n",
              "      <td>Санкт-Петербург</td>\n",
              "      <td>89892.0</td>\n",
              "      <td>127249.0</td>\n",
              "      <td>1203</td>\n",
              "      <td>37356.0</td>\n",
              "    </tr>\n",
              "    <tr>\n",
              "      <th>3</th>\n",
              "      <td>Нижний Новгород</td>\n",
              "      <td>83734.0</td>\n",
              "      <td>126921.0</td>\n",
              "      <td>680</td>\n",
              "      <td>43187.0</td>\n",
              "    </tr>\n",
              "    <tr>\n",
              "      <th>4</th>\n",
              "      <td>Ростов-на-Дону</td>\n",
              "      <td>79391.0</td>\n",
              "      <td>119708.0</td>\n",
              "      <td>612</td>\n",
              "      <td>40317.0</td>\n",
              "    </tr>\n",
              "    <tr>\n",
              "      <th>5</th>\n",
              "      <td>Пермь</td>\n",
              "      <td>78932.0</td>\n",
              "      <td>130215.0</td>\n",
              "      <td>352</td>\n",
              "      <td>51282.0</td>\n",
              "    </tr>\n",
              "    <tr>\n",
              "      <th>6</th>\n",
              "      <td>Краснодар</td>\n",
              "      <td>78483.0</td>\n",
              "      <td>117144.0</td>\n",
              "      <td>693</td>\n",
              "      <td>38660.0</td>\n",
              "    </tr>\n",
              "    <tr>\n",
              "      <th>7</th>\n",
              "      <td>Екатеринбург</td>\n",
              "      <td>77489.0</td>\n",
              "      <td>120404.0</td>\n",
              "      <td>901</td>\n",
              "      <td>42915.0</td>\n",
              "    </tr>\n",
              "    <tr>\n",
              "      <th>8</th>\n",
              "      <td>Казань</td>\n",
              "      <td>76117.0</td>\n",
              "      <td>119942.0</td>\n",
              "      <td>628</td>\n",
              "      <td>43825.0</td>\n",
              "    </tr>\n",
              "    <tr>\n",
              "      <th>9</th>\n",
              "      <td>Омск</td>\n",
              "      <td>74898.0</td>\n",
              "      <td>107685.0</td>\n",
              "      <td>333</td>\n",
              "      <td>32787.0</td>\n",
              "    </tr>\n",
              "    <tr>\n",
              "      <th>10</th>\n",
              "      <td>Челябинск</td>\n",
              "      <td>69563.0</td>\n",
              "      <td>93330.0</td>\n",
              "      <td>501</td>\n",
              "      <td>23767.0</td>\n",
              "    </tr>\n",
              "    <tr>\n",
              "      <th>11</th>\n",
              "      <td>Воронеж</td>\n",
              "      <td>69203.0</td>\n",
              "      <td>108997.0</td>\n",
              "      <td>467</td>\n",
              "      <td>39794.0</td>\n",
              "    </tr>\n",
              "    <tr>\n",
              "      <th>12</th>\n",
              "      <td>Самара</td>\n",
              "      <td>67885.0</td>\n",
              "      <td>101157.0</td>\n",
              "      <td>505</td>\n",
              "      <td>33272.0</td>\n",
              "    </tr>\n",
              "    <tr>\n",
              "      <th>13</th>\n",
              "      <td>Красноярск</td>\n",
              "      <td>64130.0</td>\n",
              "      <td>90962.0</td>\n",
              "      <td>500</td>\n",
              "      <td>26832.0</td>\n",
              "    </tr>\n",
              "    <tr>\n",
              "      <th>14</th>\n",
              "      <td>Уфа</td>\n",
              "      <td>62638.0</td>\n",
              "      <td>103065.0</td>\n",
              "      <td>383</td>\n",
              "      <td>40427.0</td>\n",
              "    </tr>\n",
              "    <tr>\n",
              "      <th>15</th>\n",
              "      <td>Волгоград</td>\n",
              "      <td>61013.0</td>\n",
              "      <td>93073.0</td>\n",
              "      <td>255</td>\n",
              "      <td>32059.0</td>\n",
              "    </tr>\n",
              "  </tbody>\n",
              "</table>\n",
              "</div>"
            ],
            "text/plain": [
              "             Регион  Средний нижний уровень  Средний верхний уровень  \\\n",
              "0            Москва                113409.0                 160594.0   \n",
              "1       Новосибирск                 91272.0                 137573.0   \n",
              "2   Санкт-Петербург                 89892.0                 127249.0   \n",
              "3   Нижний Новгород                 83734.0                 126921.0   \n",
              "4    Ростов-на-Дону                 79391.0                 119708.0   \n",
              "5             Пермь                 78932.0                 130215.0   \n",
              "6         Краснодар                 78483.0                 117144.0   \n",
              "7      Екатеринбург                 77489.0                 120404.0   \n",
              "8            Казань                 76117.0                 119942.0   \n",
              "9              Омск                 74898.0                 107685.0   \n",
              "10        Челябинск                 69563.0                  93330.0   \n",
              "11          Воронеж                 69203.0                 108997.0   \n",
              "12           Самара                 67885.0                 101157.0   \n",
              "13       Красноярск                 64130.0                  90962.0   \n",
              "14              Уфа                 62638.0                 103065.0   \n",
              "15        Волгоград                 61013.0                  93073.0   \n",
              "\n",
              "    Количество вакансий  Диапазон вилки  \n",
              "0                  1592         47185.0  \n",
              "1                   929         46301.0  \n",
              "2                  1203         37356.0  \n",
              "3                   680         43187.0  \n",
              "4                   612         40317.0  \n",
              "5                   352         51282.0  \n",
              "6                   693         38660.0  \n",
              "7                   901         42915.0  \n",
              "8                   628         43825.0  \n",
              "9                   333         32787.0  \n",
              "10                  501         23767.0  \n",
              "11                  467         39794.0  \n",
              "12                  505         33272.0  \n",
              "13                  500         26832.0  \n",
              "14                  383         40427.0  \n",
              "15                  255         32059.0  "
            ]
          },
          "metadata": {},
          "output_type": "display_data"
        }
      ],
      "source": [
        "query_4_3_2 = f'''select\n",
        "                    --выбираем столбец с названием региона\n",
        "                    a.name \"Регион\",\n",
        "                    --находим среднее значение нижней границы зарплатной вилки,округляем до целых\n",
        "                    round(avg(v.salary_from)) \"Средний нижний уровень\",\n",
        "                    --находим среднее значение верхне границы зарплатной вилки,округляем до целых\n",
        "                    round(avg(v.salary_to)) \"Средний верхний уровень\",\n",
        "                    --считаем количество вакансий по столбцу id\n",
        "                    count(v.id) \"Количество вакансий\", \n",
        "                    --считаем разницу между средним верхним и нижним уровнем, округляем до целых\n",
        "                    round(avg(v.salary_to)- avg(v.salary_from)) \"Диапазон вилки\"\n",
        "                  --к таблице вакансий\n",
        "                  from vacancies v\n",
        "                    --присоединяем таблицу с регионами по id региона (регион в котором размещена вакансия)\n",
        "                    join areas a on v.area_id = a.id\n",
        "                  --где заполнена либо нижняя \n",
        "                  where salary_from is not null\n",
        "                    --либо верхняя граница зарплатной вилки\n",
        "                    or salary_to is not null\n",
        "                  --группируем по id региона\n",
        "                  group by a.id\n",
        "                  --фильтруем сгруппированные значения по спику городов-миллионников\n",
        "                  having a.name in {million_cities}\n",
        "                  --сортируем по среднему нижнему уровню, в порядку убывания,округляем до целых\n",
        "                  order by round(avg(v.salary_from)) desc\n",
        "                \n",
        "            '''\n",
        "\n",
        "df_4_3_2 = pd.read_sql_query(query_4_3_2, connection)\n",
        "display(df_4_3_2)"
      ]
    },
    {
      "cell_type": "code",
      "execution_count": 28,
      "id": "de2f7af8",
      "metadata": {},
      "outputs": [],
      "source": [
        "# выгружаем из википедии данные о населении в городах миллионниках в переменную population\n",
        "population = tables_m[1][['Город', 'Население, тыс. чел.  (на 1 января 2023 года)']]\n",
        "# укорачиваем название столбца 'Население...'\n",
        "population.rename(columns={'Население, тыс. чел.  (на 1 января 2023 года)':'Население,тыс. чел.'}, inplace=True)\n",
        "# Для того чтобы сортировать по значениям\n",
        "# 1. убираем пробелы в значениях\n",
        "population['Население,тыс. чел.'] = population['Население,тыс. чел.'].apply(lambda x: x.replace(' ','')) \n",
        "# 2. присваиваем значениям числовой тип данных\n",
        "population['Население,тыс. чел.'] = population['Население,тыс. чел.'].astype('int64')\n",
        "# присоединяем полученный DF\n",
        "new_df =  df_4_3_2.join(\n",
        "    population.set_index('Город'),\n",
        "    on='Регион',\n",
        "    how='inner'\n",
        "# и сортируем по населению в порядке убывания\n",
        ").sort_values(by='Население,тыс. чел.', ascending=False)\n"
      ]
    },
    {
      "cell_type": "code",
      "execution_count": 29,
      "id": "f004afc6",
      "metadata": {},
      "outputs": [
        {
          "data": {
            "application/vnd.plotly.v1+json": {
              "config": {
                "plotlyServerURL": "https://plot.ly"
              },
              "data": [
                {
                  "hoverinfo": "all",
                  "hovertemplate": "Город: %{x}<br>Деньги: %{y}",
                  "name": "Верхний уровень ЗП",
                  "type": "scatter",
                  "x": [
                    "Москва",
                    "Санкт-Петербург",
                    "Новосибирск",
                    "Екатеринбург",
                    "Казань",
                    "Нижний Новгород",
                    "Красноярск",
                    "Челябинск",
                    "Самара",
                    "Уфа",
                    "Ростов-на-Дону",
                    "Краснодар",
                    "Омск",
                    "Воронеж",
                    "Пермь",
                    "Волгоград"
                  ],
                  "xaxis": "x",
                  "y": [
                    160594,
                    127249,
                    137573,
                    120404,
                    119942,
                    126921,
                    90962,
                    93330,
                    101157,
                    103065,
                    119708,
                    117144,
                    107685,
                    108997,
                    130215,
                    93073
                  ],
                  "yaxis": "y"
                },
                {
                  "hoverinfo": "all",
                  "hovertemplate": "Город: %{x}<br>Деньги: %{y}",
                  "name": "Нижний уровень ЗП",
                  "type": "scatter",
                  "x": [
                    "Москва",
                    "Санкт-Петербург",
                    "Новосибирск",
                    "Екатеринбург",
                    "Казань",
                    "Нижний Новгород",
                    "Красноярск",
                    "Челябинск",
                    "Самара",
                    "Уфа",
                    "Ростов-на-Дону",
                    "Краснодар",
                    "Омск",
                    "Воронеж",
                    "Пермь",
                    "Волгоград"
                  ],
                  "xaxis": "x",
                  "y": [
                    113409,
                    89892,
                    91272,
                    77489,
                    76117,
                    83734,
                    64130,
                    69563,
                    67885,
                    62638,
                    79391,
                    78483,
                    74898,
                    69203,
                    78932,
                    61013
                  ],
                  "yaxis": "y"
                },
                {
                  "hoverinfo": "all",
                  "hovertemplate": "Город: %{x}<br>Деньги: %{y}",
                  "name": "Диапазон вилки",
                  "type": "scatter",
                  "x": [
                    "Москва",
                    "Санкт-Петербург",
                    "Новосибирск",
                    "Екатеринбург",
                    "Казань",
                    "Нижний Новгород",
                    "Красноярск",
                    "Челябинск",
                    "Самара",
                    "Уфа",
                    "Ростов-на-Дону",
                    "Краснодар",
                    "Омск",
                    "Воронеж",
                    "Пермь",
                    "Волгоград"
                  ],
                  "xaxis": "x",
                  "y": [
                    47185,
                    37356,
                    46301,
                    42915,
                    43825,
                    43187,
                    26832,
                    23767,
                    33272,
                    40427,
                    40317,
                    38660,
                    32787,
                    39794,
                    51282,
                    32059
                  ],
                  "yaxis": "y"
                },
                {
                  "hoverinfo": "all",
                  "hovertemplate": "Город: %{x}<br>Количесвто: %{y}",
                  "name": "Количество вакансий",
                  "type": "scatter",
                  "x": [
                    "Москва",
                    "Санкт-Петербург",
                    "Новосибирск",
                    "Екатеринбург",
                    "Казань",
                    "Нижний Новгород",
                    "Красноярск",
                    "Челябинск",
                    "Самара",
                    "Уфа",
                    "Ростов-на-Дону",
                    "Краснодар",
                    "Омск",
                    "Воронеж",
                    "Пермь",
                    "Волгоград"
                  ],
                  "xaxis": "x2",
                  "y": [
                    1592,
                    1203,
                    929,
                    901,
                    628,
                    680,
                    500,
                    501,
                    505,
                    383,
                    612,
                    693,
                    333,
                    467,
                    352,
                    255
                  ],
                  "yaxis": "y2"
                },
                {
                  "hoverinfo": "all",
                  "hovertemplate": "Город: %{x}<br>Население: %{y}",
                  "name": "Население,тыс.чел.",
                  "type": "scatter",
                  "x": [
                    "Москва",
                    "Санкт-Петербург",
                    "Новосибирск",
                    "Екатеринбург",
                    "Казань",
                    "Нижний Новгород",
                    "Красноярск",
                    "Челябинск",
                    "Самара",
                    "Уфа",
                    "Ростов-на-Дону",
                    "Краснодар",
                    "Омск",
                    "Воронеж",
                    "Пермь",
                    "Волгоград"
                  ],
                  "xaxis": "x3",
                  "y": [
                    13098,
                    5598,
                    1635,
                    1539,
                    1315,
                    1213,
                    1197,
                    1183,
                    1164,
                    1158,
                    1136,
                    1121,
                    1111,
                    1052,
                    1027,
                    1026
                  ],
                  "yaxis": "y3"
                }
              ],
              "layout": {
                "annotations": [
                  {
                    "font": {
                      "size": 16
                    },
                    "showarrow": false,
                    "text": "Зависимость средней предлагаемой ЗП от города",
                    "x": 0.5,
                    "xanchor": "center",
                    "xref": "paper",
                    "y": 1,
                    "yanchor": "bottom",
                    "yref": "paper"
                  },
                  {
                    "font": {
                      "size": 16
                    },
                    "showarrow": false,
                    "text": "Зависимость количества вакансий от города",
                    "x": 0.5,
                    "xanchor": "center",
                    "xref": "paper",
                    "y": 0.4333333333333334,
                    "yanchor": "bottom",
                    "yref": "paper"
                  },
                  {
                    "font": {
                      "size": 16
                    },
                    "showarrow": false,
                    "text": "Население по городам",
                    "x": 0.5,
                    "xanchor": "center",
                    "xref": "paper",
                    "y": 0.13333333333333336,
                    "yanchor": "bottom",
                    "yref": "paper"
                  }
                ],
                "height": 1000,
                "hovermode": "x",
                "legend": {
                  "orientation": "h",
                  "x": 0.5,
                  "xanchor": "center"
                },
                "margin": {
                  "b": 10,
                  "l": 10,
                  "r": 10,
                  "t": 40
                },
                "template": {
                  "data": {
                    "bar": [
                      {
                        "error_x": {
                          "color": "#2a3f5f"
                        },
                        "error_y": {
                          "color": "#2a3f5f"
                        },
                        "marker": {
                          "line": {
                            "color": "#E5ECF6",
                            "width": 0.5
                          },
                          "pattern": {
                            "fillmode": "overlay",
                            "size": 10,
                            "solidity": 0.2
                          }
                        },
                        "type": "bar"
                      }
                    ],
                    "barpolar": [
                      {
                        "marker": {
                          "line": {
                            "color": "#E5ECF6",
                            "width": 0.5
                          },
                          "pattern": {
                            "fillmode": "overlay",
                            "size": 10,
                            "solidity": 0.2
                          }
                        },
                        "type": "barpolar"
                      }
                    ],
                    "carpet": [
                      {
                        "aaxis": {
                          "endlinecolor": "#2a3f5f",
                          "gridcolor": "white",
                          "linecolor": "white",
                          "minorgridcolor": "white",
                          "startlinecolor": "#2a3f5f"
                        },
                        "baxis": {
                          "endlinecolor": "#2a3f5f",
                          "gridcolor": "white",
                          "linecolor": "white",
                          "minorgridcolor": "white",
                          "startlinecolor": "#2a3f5f"
                        },
                        "type": "carpet"
                      }
                    ],
                    "choropleth": [
                      {
                        "colorbar": {
                          "outlinewidth": 0,
                          "ticks": ""
                        },
                        "type": "choropleth"
                      }
                    ],
                    "contour": [
                      {
                        "colorbar": {
                          "outlinewidth": 0,
                          "ticks": ""
                        },
                        "colorscale": [
                          [
                            0,
                            "#0d0887"
                          ],
                          [
                            0.1111111111111111,
                            "#46039f"
                          ],
                          [
                            0.2222222222222222,
                            "#7201a8"
                          ],
                          [
                            0.3333333333333333,
                            "#9c179e"
                          ],
                          [
                            0.4444444444444444,
                            "#bd3786"
                          ],
                          [
                            0.5555555555555556,
                            "#d8576b"
                          ],
                          [
                            0.6666666666666666,
                            "#ed7953"
                          ],
                          [
                            0.7777777777777778,
                            "#fb9f3a"
                          ],
                          [
                            0.8888888888888888,
                            "#fdca26"
                          ],
                          [
                            1,
                            "#f0f921"
                          ]
                        ],
                        "type": "contour"
                      }
                    ],
                    "contourcarpet": [
                      {
                        "colorbar": {
                          "outlinewidth": 0,
                          "ticks": ""
                        },
                        "type": "contourcarpet"
                      }
                    ],
                    "heatmap": [
                      {
                        "colorbar": {
                          "outlinewidth": 0,
                          "ticks": ""
                        },
                        "colorscale": [
                          [
                            0,
                            "#0d0887"
                          ],
                          [
                            0.1111111111111111,
                            "#46039f"
                          ],
                          [
                            0.2222222222222222,
                            "#7201a8"
                          ],
                          [
                            0.3333333333333333,
                            "#9c179e"
                          ],
                          [
                            0.4444444444444444,
                            "#bd3786"
                          ],
                          [
                            0.5555555555555556,
                            "#d8576b"
                          ],
                          [
                            0.6666666666666666,
                            "#ed7953"
                          ],
                          [
                            0.7777777777777778,
                            "#fb9f3a"
                          ],
                          [
                            0.8888888888888888,
                            "#fdca26"
                          ],
                          [
                            1,
                            "#f0f921"
                          ]
                        ],
                        "type": "heatmap"
                      }
                    ],
                    "heatmapgl": [
                      {
                        "colorbar": {
                          "outlinewidth": 0,
                          "ticks": ""
                        },
                        "colorscale": [
                          [
                            0,
                            "#0d0887"
                          ],
                          [
                            0.1111111111111111,
                            "#46039f"
                          ],
                          [
                            0.2222222222222222,
                            "#7201a8"
                          ],
                          [
                            0.3333333333333333,
                            "#9c179e"
                          ],
                          [
                            0.4444444444444444,
                            "#bd3786"
                          ],
                          [
                            0.5555555555555556,
                            "#d8576b"
                          ],
                          [
                            0.6666666666666666,
                            "#ed7953"
                          ],
                          [
                            0.7777777777777778,
                            "#fb9f3a"
                          ],
                          [
                            0.8888888888888888,
                            "#fdca26"
                          ],
                          [
                            1,
                            "#f0f921"
                          ]
                        ],
                        "type": "heatmapgl"
                      }
                    ],
                    "histogram": [
                      {
                        "marker": {
                          "pattern": {
                            "fillmode": "overlay",
                            "size": 10,
                            "solidity": 0.2
                          }
                        },
                        "type": "histogram"
                      }
                    ],
                    "histogram2d": [
                      {
                        "colorbar": {
                          "outlinewidth": 0,
                          "ticks": ""
                        },
                        "colorscale": [
                          [
                            0,
                            "#0d0887"
                          ],
                          [
                            0.1111111111111111,
                            "#46039f"
                          ],
                          [
                            0.2222222222222222,
                            "#7201a8"
                          ],
                          [
                            0.3333333333333333,
                            "#9c179e"
                          ],
                          [
                            0.4444444444444444,
                            "#bd3786"
                          ],
                          [
                            0.5555555555555556,
                            "#d8576b"
                          ],
                          [
                            0.6666666666666666,
                            "#ed7953"
                          ],
                          [
                            0.7777777777777778,
                            "#fb9f3a"
                          ],
                          [
                            0.8888888888888888,
                            "#fdca26"
                          ],
                          [
                            1,
                            "#f0f921"
                          ]
                        ],
                        "type": "histogram2d"
                      }
                    ],
                    "histogram2dcontour": [
                      {
                        "colorbar": {
                          "outlinewidth": 0,
                          "ticks": ""
                        },
                        "colorscale": [
                          [
                            0,
                            "#0d0887"
                          ],
                          [
                            0.1111111111111111,
                            "#46039f"
                          ],
                          [
                            0.2222222222222222,
                            "#7201a8"
                          ],
                          [
                            0.3333333333333333,
                            "#9c179e"
                          ],
                          [
                            0.4444444444444444,
                            "#bd3786"
                          ],
                          [
                            0.5555555555555556,
                            "#d8576b"
                          ],
                          [
                            0.6666666666666666,
                            "#ed7953"
                          ],
                          [
                            0.7777777777777778,
                            "#fb9f3a"
                          ],
                          [
                            0.8888888888888888,
                            "#fdca26"
                          ],
                          [
                            1,
                            "#f0f921"
                          ]
                        ],
                        "type": "histogram2dcontour"
                      }
                    ],
                    "mesh3d": [
                      {
                        "colorbar": {
                          "outlinewidth": 0,
                          "ticks": ""
                        },
                        "type": "mesh3d"
                      }
                    ],
                    "parcoords": [
                      {
                        "line": {
                          "colorbar": {
                            "outlinewidth": 0,
                            "ticks": ""
                          }
                        },
                        "type": "parcoords"
                      }
                    ],
                    "pie": [
                      {
                        "automargin": true,
                        "type": "pie"
                      }
                    ],
                    "scatter": [
                      {
                        "fillpattern": {
                          "fillmode": "overlay",
                          "size": 10,
                          "solidity": 0.2
                        },
                        "type": "scatter"
                      }
                    ],
                    "scatter3d": [
                      {
                        "line": {
                          "colorbar": {
                            "outlinewidth": 0,
                            "ticks": ""
                          }
                        },
                        "marker": {
                          "colorbar": {
                            "outlinewidth": 0,
                            "ticks": ""
                          }
                        },
                        "type": "scatter3d"
                      }
                    ],
                    "scattercarpet": [
                      {
                        "marker": {
                          "colorbar": {
                            "outlinewidth": 0,
                            "ticks": ""
                          }
                        },
                        "type": "scattercarpet"
                      }
                    ],
                    "scattergeo": [
                      {
                        "marker": {
                          "colorbar": {
                            "outlinewidth": 0,
                            "ticks": ""
                          }
                        },
                        "type": "scattergeo"
                      }
                    ],
                    "scattergl": [
                      {
                        "marker": {
                          "colorbar": {
                            "outlinewidth": 0,
                            "ticks": ""
                          }
                        },
                        "type": "scattergl"
                      }
                    ],
                    "scattermapbox": [
                      {
                        "marker": {
                          "colorbar": {
                            "outlinewidth": 0,
                            "ticks": ""
                          }
                        },
                        "type": "scattermapbox"
                      }
                    ],
                    "scatterpolar": [
                      {
                        "marker": {
                          "colorbar": {
                            "outlinewidth": 0,
                            "ticks": ""
                          }
                        },
                        "type": "scatterpolar"
                      }
                    ],
                    "scatterpolargl": [
                      {
                        "marker": {
                          "colorbar": {
                            "outlinewidth": 0,
                            "ticks": ""
                          }
                        },
                        "type": "scatterpolargl"
                      }
                    ],
                    "scatterternary": [
                      {
                        "marker": {
                          "colorbar": {
                            "outlinewidth": 0,
                            "ticks": ""
                          }
                        },
                        "type": "scatterternary"
                      }
                    ],
                    "surface": [
                      {
                        "colorbar": {
                          "outlinewidth": 0,
                          "ticks": ""
                        },
                        "colorscale": [
                          [
                            0,
                            "#0d0887"
                          ],
                          [
                            0.1111111111111111,
                            "#46039f"
                          ],
                          [
                            0.2222222222222222,
                            "#7201a8"
                          ],
                          [
                            0.3333333333333333,
                            "#9c179e"
                          ],
                          [
                            0.4444444444444444,
                            "#bd3786"
                          ],
                          [
                            0.5555555555555556,
                            "#d8576b"
                          ],
                          [
                            0.6666666666666666,
                            "#ed7953"
                          ],
                          [
                            0.7777777777777778,
                            "#fb9f3a"
                          ],
                          [
                            0.8888888888888888,
                            "#fdca26"
                          ],
                          [
                            1,
                            "#f0f921"
                          ]
                        ],
                        "type": "surface"
                      }
                    ],
                    "table": [
                      {
                        "cells": {
                          "fill": {
                            "color": "#EBF0F8"
                          },
                          "line": {
                            "color": "white"
                          }
                        },
                        "header": {
                          "fill": {
                            "color": "#C8D4E3"
                          },
                          "line": {
                            "color": "white"
                          }
                        },
                        "type": "table"
                      }
                    ]
                  },
                  "layout": {
                    "annotationdefaults": {
                      "arrowcolor": "#2a3f5f",
                      "arrowhead": 0,
                      "arrowwidth": 1
                    },
                    "autotypenumbers": "strict",
                    "coloraxis": {
                      "colorbar": {
                        "outlinewidth": 0,
                        "ticks": ""
                      }
                    },
                    "colorscale": {
                      "diverging": [
                        [
                          0,
                          "#8e0152"
                        ],
                        [
                          0.1,
                          "#c51b7d"
                        ],
                        [
                          0.2,
                          "#de77ae"
                        ],
                        [
                          0.3,
                          "#f1b6da"
                        ],
                        [
                          0.4,
                          "#fde0ef"
                        ],
                        [
                          0.5,
                          "#f7f7f7"
                        ],
                        [
                          0.6,
                          "#e6f5d0"
                        ],
                        [
                          0.7,
                          "#b8e186"
                        ],
                        [
                          0.8,
                          "#7fbc41"
                        ],
                        [
                          0.9,
                          "#4d9221"
                        ],
                        [
                          1,
                          "#276419"
                        ]
                      ],
                      "sequential": [
                        [
                          0,
                          "#0d0887"
                        ],
                        [
                          0.1111111111111111,
                          "#46039f"
                        ],
                        [
                          0.2222222222222222,
                          "#7201a8"
                        ],
                        [
                          0.3333333333333333,
                          "#9c179e"
                        ],
                        [
                          0.4444444444444444,
                          "#bd3786"
                        ],
                        [
                          0.5555555555555556,
                          "#d8576b"
                        ],
                        [
                          0.6666666666666666,
                          "#ed7953"
                        ],
                        [
                          0.7777777777777778,
                          "#fb9f3a"
                        ],
                        [
                          0.8888888888888888,
                          "#fdca26"
                        ],
                        [
                          1,
                          "#f0f921"
                        ]
                      ],
                      "sequentialminus": [
                        [
                          0,
                          "#0d0887"
                        ],
                        [
                          0.1111111111111111,
                          "#46039f"
                        ],
                        [
                          0.2222222222222222,
                          "#7201a8"
                        ],
                        [
                          0.3333333333333333,
                          "#9c179e"
                        ],
                        [
                          0.4444444444444444,
                          "#bd3786"
                        ],
                        [
                          0.5555555555555556,
                          "#d8576b"
                        ],
                        [
                          0.6666666666666666,
                          "#ed7953"
                        ],
                        [
                          0.7777777777777778,
                          "#fb9f3a"
                        ],
                        [
                          0.8888888888888888,
                          "#fdca26"
                        ],
                        [
                          1,
                          "#f0f921"
                        ]
                      ]
                    },
                    "colorway": [
                      "#636efa",
                      "#EF553B",
                      "#00cc96",
                      "#ab63fa",
                      "#FFA15A",
                      "#19d3f3",
                      "#FF6692",
                      "#B6E880",
                      "#FF97FF",
                      "#FECB52"
                    ],
                    "font": {
                      "color": "#2a3f5f"
                    },
                    "geo": {
                      "bgcolor": "white",
                      "lakecolor": "white",
                      "landcolor": "#E5ECF6",
                      "showlakes": true,
                      "showland": true,
                      "subunitcolor": "white"
                    },
                    "hoverlabel": {
                      "align": "left"
                    },
                    "hovermode": "closest",
                    "mapbox": {
                      "style": "light"
                    },
                    "paper_bgcolor": "white",
                    "plot_bgcolor": "#E5ECF6",
                    "polar": {
                      "angularaxis": {
                        "gridcolor": "white",
                        "linecolor": "white",
                        "ticks": ""
                      },
                      "bgcolor": "#E5ECF6",
                      "radialaxis": {
                        "gridcolor": "white",
                        "linecolor": "white",
                        "ticks": ""
                      }
                    },
                    "scene": {
                      "xaxis": {
                        "backgroundcolor": "#E5ECF6",
                        "gridcolor": "white",
                        "gridwidth": 2,
                        "linecolor": "white",
                        "showbackground": true,
                        "ticks": "",
                        "zerolinecolor": "white"
                      },
                      "yaxis": {
                        "backgroundcolor": "#E5ECF6",
                        "gridcolor": "white",
                        "gridwidth": 2,
                        "linecolor": "white",
                        "showbackground": true,
                        "ticks": "",
                        "zerolinecolor": "white"
                      },
                      "zaxis": {
                        "backgroundcolor": "#E5ECF6",
                        "gridcolor": "white",
                        "gridwidth": 2,
                        "linecolor": "white",
                        "showbackground": true,
                        "ticks": "",
                        "zerolinecolor": "white"
                      }
                    },
                    "shapedefaults": {
                      "line": {
                        "color": "#2a3f5f"
                      }
                    },
                    "ternary": {
                      "aaxis": {
                        "gridcolor": "white",
                        "linecolor": "white",
                        "ticks": ""
                      },
                      "baxis": {
                        "gridcolor": "white",
                        "linecolor": "white",
                        "ticks": ""
                      },
                      "bgcolor": "#E5ECF6",
                      "caxis": {
                        "gridcolor": "white",
                        "linecolor": "white",
                        "ticks": ""
                      }
                    },
                    "title": {
                      "x": 0.05
                    },
                    "xaxis": {
                      "automargin": true,
                      "gridcolor": "white",
                      "linecolor": "white",
                      "ticks": "",
                      "title": {
                        "standoff": 15
                      },
                      "zerolinecolor": "white",
                      "zerolinewidth": 2
                    },
                    "yaxis": {
                      "automargin": true,
                      "gridcolor": "white",
                      "linecolor": "white",
                      "ticks": "",
                      "title": {
                        "standoff": 15
                      },
                      "zerolinecolor": "white",
                      "zerolinewidth": 2
                    }
                  }
                },
                "title": {
                  "x": 0.5
                },
                "xaxis": {
                  "anchor": "y",
                  "domain": [
                    0,
                    1
                  ],
                  "title": {
                    "text": "Города-миллионники в порядке убывания населения"
                  }
                },
                "xaxis2": {
                  "anchor": "y2",
                  "domain": [
                    0,
                    1
                  ],
                  "title": {
                    "text": "Города-миллионники в порядке убывания населения"
                  }
                },
                "xaxis3": {
                  "anchor": "y3",
                  "domain": [
                    0,
                    1
                  ],
                  "title": {
                    "text": "Города-миллионники в порядке убывания населения"
                  }
                },
                "yaxis": {
                  "anchor": "x",
                  "domain": [
                    0.6000000000000001,
                    1
                  ],
                  "title": {
                    "text": "ЗП, руб."
                  }
                },
                "yaxis2": {
                  "anchor": "x2",
                  "domain": [
                    0.30000000000000004,
                    0.4333333333333334
                  ],
                  "range": [
                    0,
                    1700
                  ],
                  "title": {
                    "text": "Количество вакансий"
                  }
                },
                "yaxis3": {
                  "anchor": "x3",
                  "domain": [
                    0,
                    0.13333333333333336
                  ],
                  "range": [
                    0,
                    14000
                  ],
                  "title": {
                    "text": "Население,тыс.чел."
                  }
                }
              }
            }
          },
          "metadata": {},
          "output_type": "display_data"
        }
      ],
      "source": [
        "# визуализируем в Plotly\n",
        "# создаем фигуру с несколькими областями\n",
        "fig = make_subplots(\n",
        "    rows=3,\n",
        "    cols=1,\n",
        "    # устанавливаем пропорции\n",
        "    row_heights=[3, 1,1],\n",
        "    # задаем названия грфиков\n",
        "    subplot_titles=(\n",
        "        \"Зависимость средней предлагаемой ЗП от города\",\n",
        "        \"Зависимость количества вакансий от города\",\n",
        "        \"Население по городам\"\n",
        "        )\n",
        "    )\n",
        "\n",
        "# добавляем данные по зарплатной вилке:верхний, нижний уровни и диапазон\n",
        "fig.add_trace(go.Scatter(x = new_df['Регион'], y = new_df['Средний верхний уровень'], name='Верхний уровень ЗП'),1,1)\n",
        "fig.add_trace(go.Scatter(x = new_df['Регион'], y = new_df['Средний нижний уровень'], name='Нижний уровень ЗП'),1,1)\n",
        "fig.add_trace(go.Scatter(x = new_df['Регион'], y = new_df['Диапазон вилки'], name='Диапазон вилки'),1,1)\n",
        "# добавляем данные по количесвтву вакансий\n",
        "fig.add_trace(go.Scatter(x = new_df['Регион'], y = new_df['Количество вакансий'], name='Количество вакансий'),2,1)\n",
        "fig.update_yaxes(range=[0, 1700], row=2, title='Количество вакансий')\n",
        "fig.update_xaxes(row=2, title='Города-миллионники в порядке убывания населения')\n",
        "# добавляем данные по населению\n",
        "fig.add_trace(go.Scatter(x = new_df['Регион'], y = new_df['Население,тыс. чел.'], name='Население,тыс.чел.'),3,1)\n",
        "fig.update_yaxes(range=[0, 14000], row=3, title='Население,тыс.чел.')\n",
        "fig.update_xaxes(row=3, title='Города-миллионники в порядке убывания населения')\n",
        "\n",
        "# настраиваем внешний вид\n",
        "fig.update_layout(legend_orientation=\"h\",\n",
        "                  legend=dict(x=.5, xanchor=\"center\"),\n",
        "                  hovermode=\"x\",\n",
        "                  margin=dict(l=10, r=10, t=40, b=10),\n",
        "                  #title=\"Зависимость средней предлагаемой ЗП от города\",\n",
        "                  title_x=0.5,\n",
        "                  xaxis_title=\"Города-миллионники в порядке убывания населения\",\n",
        "                  yaxis_title=\"ЗП, руб.\",\n",
        "                  height=1000\n",
        "                  )\n",
        "#настраиваем внешний вид интерактивных подсказок\n",
        "fig.update_traces(hoverinfo=\"all\", hovertemplate=\"Город: %{x}<br>Деньги: %{y}\",row=1)                  \n",
        "fig.update_traces(hoverinfo=\"all\", hovertemplate=\"Город: %{x}<br>Количесвто: %{y}\",row=2)\n",
        "fig.update_traces(hoverinfo=\"all\", hovertemplate=\"Город: %{x}<br>Население: %{y}\",row=3)                  \n",
        "fig.show()"
      ]
    },
    {
      "cell_type": "markdown",
      "id": "2065c1d5",
      "metadata": {},
      "source": [
        "![](pictures/million_cities_salary.png)"
      ]
    },
    {
      "cell_type": "markdown",
      "id": "f3fdaec9-5fd3-4260-9cf5-1d7406b628a5",
      "metadata": {
        "id": "f3fdaec9-5fd3-4260-9cf5-1d7406b628a5"
      },
      "source": [
        "4. Напишите запрос, который выведет количество вакансий для каждого сочетания типа рабочего графика (schedule) и типа трудоустройства (employment), используемого в вакансиях. Результат отсортируйте по убыванию количества.\n"
      ]
    },
    {
      "cell_type": "code",
      "execution_count": 30,
      "id": "1ea710ec-871b-431e-9462-c7d0fd87011b",
      "metadata": {
        "id": "1ea710ec-871b-431e-9462-c7d0fd87011b"
      },
      "outputs": [],
      "source": [
        "# текст запроса\n",
        "query_4_4 = f'''select\n",
        "                    --выводим тип графика\n",
        "                    schedule schedule_type,\n",
        "                    --выводими тип трудоустройства\n",
        "                    employment employment_type,\n",
        "                    --считаем количество вакансий по стобцу id\n",
        "                    count(id) total_count    \n",
        "                --из таблицы вакансий\n",
        "                from vacancies \n",
        "                --группируем по типу графика, затем по типу трудоустройства\n",
        "                group by schedule,employment\n",
        "                --сортируем по количеству вакансий в порядку убывания\n",
        "                order by count(id) desc    \n",
        "            '''"
      ]
    },
    {
      "cell_type": "code",
      "execution_count": 31,
      "id": "1ea710ec-871b-431e-9462-c7d0fd87011b",
      "metadata": {
        "id": "1ea710ec-871b-431e-9462-c7d0fd87011b"
      },
      "outputs": [
        {
          "data": {
            "text/html": [
              "<div>\n",
              "<style scoped>\n",
              "    .dataframe tbody tr th:only-of-type {\n",
              "        vertical-align: middle;\n",
              "    }\n",
              "\n",
              "    .dataframe tbody tr th {\n",
              "        vertical-align: top;\n",
              "    }\n",
              "\n",
              "    .dataframe thead th {\n",
              "        text-align: right;\n",
              "    }\n",
              "</style>\n",
              "<table border=\"1\" class=\"dataframe\">\n",
              "  <thead>\n",
              "    <tr style=\"text-align: right;\">\n",
              "      <th></th>\n",
              "      <th>schedule_type</th>\n",
              "      <th>employment_type</th>\n",
              "      <th>total_count</th>\n",
              "    </tr>\n",
              "  </thead>\n",
              "  <tbody>\n",
              "    <tr>\n",
              "      <th>0</th>\n",
              "      <td>Полный день</td>\n",
              "      <td>Полная занятость</td>\n",
              "      <td>35367</td>\n",
              "    </tr>\n",
              "    <tr>\n",
              "      <th>1</th>\n",
              "      <td>Удаленная работа</td>\n",
              "      <td>Полная занятость</td>\n",
              "      <td>7802</td>\n",
              "    </tr>\n",
              "    <tr>\n",
              "      <th>2</th>\n",
              "      <td>Гибкий график</td>\n",
              "      <td>Полная занятость</td>\n",
              "      <td>1593</td>\n",
              "    </tr>\n",
              "    <tr>\n",
              "      <th>3</th>\n",
              "      <td>Удаленная работа</td>\n",
              "      <td>Частичная занятость</td>\n",
              "      <td>1312</td>\n",
              "    </tr>\n",
              "    <tr>\n",
              "      <th>4</th>\n",
              "      <td>Сменный график</td>\n",
              "      <td>Полная занятость</td>\n",
              "      <td>940</td>\n",
              "    </tr>\n",
              "    <tr>\n",
              "      <th>5</th>\n",
              "      <td>Полный день</td>\n",
              "      <td>Стажировка</td>\n",
              "      <td>569</td>\n",
              "    </tr>\n",
              "    <tr>\n",
              "      <th>6</th>\n",
              "      <td>Вахтовый метод</td>\n",
              "      <td>Полная занятость</td>\n",
              "      <td>367</td>\n",
              "    </tr>\n",
              "    <tr>\n",
              "      <th>7</th>\n",
              "      <td>Полный день</td>\n",
              "      <td>Частичная занятость</td>\n",
              "      <td>347</td>\n",
              "    </tr>\n",
              "    <tr>\n",
              "      <th>8</th>\n",
              "      <td>Гибкий график</td>\n",
              "      <td>Частичная занятость</td>\n",
              "      <td>312</td>\n",
              "    </tr>\n",
              "    <tr>\n",
              "      <th>9</th>\n",
              "      <td>Полный день</td>\n",
              "      <td>Проектная работа</td>\n",
              "      <td>141</td>\n",
              "    </tr>\n",
              "    <tr>\n",
              "      <th>10</th>\n",
              "      <td>Удаленная работа</td>\n",
              "      <td>Проектная работа</td>\n",
              "      <td>133</td>\n",
              "    </tr>\n",
              "    <tr>\n",
              "      <th>11</th>\n",
              "      <td>Гибкий график</td>\n",
              "      <td>Стажировка</td>\n",
              "      <td>116</td>\n",
              "    </tr>\n",
              "    <tr>\n",
              "      <th>12</th>\n",
              "      <td>Сменный график</td>\n",
              "      <td>Частичная занятость</td>\n",
              "      <td>101</td>\n",
              "    </tr>\n",
              "    <tr>\n",
              "      <th>13</th>\n",
              "      <td>Удаленная работа</td>\n",
              "      <td>Стажировка</td>\n",
              "      <td>64</td>\n",
              "    </tr>\n",
              "    <tr>\n",
              "      <th>14</th>\n",
              "      <td>Гибкий график</td>\n",
              "      <td>Проектная работа</td>\n",
              "      <td>18</td>\n",
              "    </tr>\n",
              "    <tr>\n",
              "      <th>15</th>\n",
              "      <td>Сменный график</td>\n",
              "      <td>Стажировка</td>\n",
              "      <td>12</td>\n",
              "    </tr>\n",
              "    <tr>\n",
              "      <th>16</th>\n",
              "      <td>Вахтовый метод</td>\n",
              "      <td>Проектная работа</td>\n",
              "      <td>2</td>\n",
              "    </tr>\n",
              "    <tr>\n",
              "      <th>17</th>\n",
              "      <td>Сменный график</td>\n",
              "      <td>Проектная работа</td>\n",
              "      <td>1</td>\n",
              "    </tr>\n",
              "  </tbody>\n",
              "</table>\n",
              "</div>"
            ],
            "text/plain": [
              "       schedule_type      employment_type  total_count\n",
              "0        Полный день     Полная занятость        35367\n",
              "1   Удаленная работа     Полная занятость         7802\n",
              "2      Гибкий график     Полная занятость         1593\n",
              "3   Удаленная работа  Частичная занятость         1312\n",
              "4     Сменный график     Полная занятость          940\n",
              "5        Полный день           Стажировка          569\n",
              "6     Вахтовый метод     Полная занятость          367\n",
              "7        Полный день  Частичная занятость          347\n",
              "8      Гибкий график  Частичная занятость          312\n",
              "9        Полный день     Проектная работа          141\n",
              "10  Удаленная работа     Проектная работа          133\n",
              "11     Гибкий график           Стажировка          116\n",
              "12    Сменный график  Частичная занятость          101\n",
              "13  Удаленная работа           Стажировка           64\n",
              "14     Гибкий график     Проектная работа           18\n",
              "15    Сменный график           Стажировка           12\n",
              "16    Вахтовый метод     Проектная работа            2\n",
              "17    Сменный график     Проектная работа            1"
            ]
          },
          "metadata": {},
          "output_type": "display_data"
        }
      ],
      "source": [
        "# результат запроса\n",
        "df = pd.read_sql_query(query_4_4, connection)\n",
        "display(df)"
      ]
    },
    {
      "cell_type": "markdown",
      "id": "lGUVqavdo4JQ",
      "metadata": {
        "id": "lGUVqavdo4JQ"
      },
      "source": [
        "5. Напишите запрос, выводящий значения поля Требуемый опыт работы (experience) в порядке возрастания количества вакансий, в которых указан данный вариант опыта. "
      ]
    },
    {
      "cell_type": "code",
      "execution_count": 32,
      "id": "5b3a8e79-f7ab-4008-b767-12aea3a205ea",
      "metadata": {
        "id": "5b3a8e79-f7ab-4008-b767-12aea3a205ea"
      },
      "outputs": [],
      "source": [
        "# текст запроса\n",
        "query_4_5 = f'''select\n",
        "                    --выводим значение опыта\n",
        "                    experience,\n",
        "                    --считаем вакансии по id\n",
        "                    count(id) total_count   \n",
        "                --из таблицы вакансий\n",
        "                from vacancies \n",
        "                --группируем по опыту\n",
        "                group by experience\n",
        "                --сортируем по количеству вакансий в порядку убывания\n",
        "                order by count(id) asc\n",
        "            '''"
      ]
    },
    {
      "cell_type": "code",
      "execution_count": 33,
      "id": "5b3a8e79-f7ab-4008-b767-12aea3a205ea",
      "metadata": {
        "id": "5b3a8e79-f7ab-4008-b767-12aea3a205ea"
      },
      "outputs": [
        {
          "data": {
            "text/html": [
              "<div>\n",
              "<style scoped>\n",
              "    .dataframe tbody tr th:only-of-type {\n",
              "        vertical-align: middle;\n",
              "    }\n",
              "\n",
              "    .dataframe tbody tr th {\n",
              "        vertical-align: top;\n",
              "    }\n",
              "\n",
              "    .dataframe thead th {\n",
              "        text-align: right;\n",
              "    }\n",
              "</style>\n",
              "<table border=\"1\" class=\"dataframe\">\n",
              "  <thead>\n",
              "    <tr style=\"text-align: right;\">\n",
              "      <th></th>\n",
              "      <th>experience</th>\n",
              "      <th>total_count</th>\n",
              "    </tr>\n",
              "  </thead>\n",
              "  <tbody>\n",
              "    <tr>\n",
              "      <th>0</th>\n",
              "      <td>Более 6 лет</td>\n",
              "      <td>1337</td>\n",
              "    </tr>\n",
              "    <tr>\n",
              "      <th>1</th>\n",
              "      <td>Нет опыта</td>\n",
              "      <td>7197</td>\n",
              "    </tr>\n",
              "    <tr>\n",
              "      <th>2</th>\n",
              "      <td>От 3 до 6 лет</td>\n",
              "      <td>14511</td>\n",
              "    </tr>\n",
              "    <tr>\n",
              "      <th>3</th>\n",
              "      <td>От 1 года до 3 лет</td>\n",
              "      <td>26152</td>\n",
              "    </tr>\n",
              "  </tbody>\n",
              "</table>\n",
              "</div>"
            ],
            "text/plain": [
              "           experience  total_count\n",
              "0         Более 6 лет         1337\n",
              "1           Нет опыта         7197\n",
              "2       От 3 до 6 лет        14511\n",
              "3  От 1 года до 3 лет        26152"
            ]
          },
          "metadata": {},
          "output_type": "display_data"
        }
      ],
      "source": [
        "# результат запроса\n",
        "df_4_5 = pd.read_sql_query(query_4_5, connection)\n",
        "display(df_4_5)"
      ]
    },
    {
      "cell_type": "markdown",
      "id": "3Is64Y-hpDpq",
      "metadata": {
        "id": "3Is64Y-hpDpq"
      },
      "source": [
        "5. 1. Добавим к предыдущему заданию фильтр: рассмотрим только те вакансии у которых нет данных о ЗП"
      ]
    },
    {
      "cell_type": "code",
      "execution_count": 34,
      "id": "7d06cb29",
      "metadata": {},
      "outputs": [
        {
          "data": {
            "text/html": [
              "<div>\n",
              "<style scoped>\n",
              "    .dataframe tbody tr th:only-of-type {\n",
              "        vertical-align: middle;\n",
              "    }\n",
              "\n",
              "    .dataframe tbody tr th {\n",
              "        vertical-align: top;\n",
              "    }\n",
              "\n",
              "    .dataframe thead th {\n",
              "        text-align: right;\n",
              "    }\n",
              "</style>\n",
              "<table border=\"1\" class=\"dataframe\">\n",
              "  <thead>\n",
              "    <tr style=\"text-align: right;\">\n",
              "      <th></th>\n",
              "      <th>experience</th>\n",
              "      <th>null_salary_count</th>\n",
              "    </tr>\n",
              "  </thead>\n",
              "  <tbody>\n",
              "    <tr>\n",
              "      <th>0</th>\n",
              "      <td>Более 6 лет</td>\n",
              "      <td>787</td>\n",
              "    </tr>\n",
              "    <tr>\n",
              "      <th>1</th>\n",
              "      <td>Нет опыта</td>\n",
              "      <td>2142</td>\n",
              "    </tr>\n",
              "    <tr>\n",
              "      <th>2</th>\n",
              "      <td>От 3 до 6 лет</td>\n",
              "      <td>8862</td>\n",
              "    </tr>\n",
              "    <tr>\n",
              "      <th>3</th>\n",
              "      <td>От 1 года до 3 лет</td>\n",
              "      <td>13333</td>\n",
              "    </tr>\n",
              "  </tbody>\n",
              "</table>\n",
              "</div>"
            ],
            "text/plain": [
              "           experience  null_salary_count\n",
              "0         Более 6 лет                787\n",
              "1           Нет опыта               2142\n",
              "2       От 3 до 6 лет               8862\n",
              "3  От 1 года до 3 лет              13333"
            ]
          },
          "metadata": {},
          "output_type": "display_data"
        }
      ],
      "source": [
        "# текст запроса\n",
        "query_4_5_1 = f'''select\n",
        "                    --выводим значение опыта\n",
        "                    experience,\n",
        "                    --считаем вакансии по id\n",
        "                    count(id) null_salary_count   \n",
        "                --из таблицы вакансий\n",
        "                from vacancies \n",
        "                --где и верхняя и нижняя граница зарплатной вилки не заполнена\n",
        "                where salary_from is null\n",
        "                    and salary_to is null\n",
        "                --группируем по опыту\n",
        "                group by experience\n",
        "                --сортируем по количеству вакансий в порядку убывания\n",
        "                order by count(id) asc\n",
        "            '''\n",
        "# результат запроса\n",
        "df_4_5_1 = pd.read_sql_query(query_4_5_1, connection)\n",
        "display(df_4_5_1)            "
      ]
    },
    {
      "cell_type": "code",
      "execution_count": 35,
      "id": "7d06cb29",
      "metadata": {},
      "outputs": [
        {
          "data": {
            "text/html": [
              "<div>\n",
              "<style scoped>\n",
              "    .dataframe tbody tr th:only-of-type {\n",
              "        vertical-align: middle;\n",
              "    }\n",
              "\n",
              "    .dataframe tbody tr th {\n",
              "        vertical-align: top;\n",
              "    }\n",
              "\n",
              "    .dataframe thead th {\n",
              "        text-align: right;\n",
              "    }\n",
              "</style>\n",
              "<table border=\"1\" class=\"dataframe\">\n",
              "  <thead>\n",
              "    <tr style=\"text-align: right;\">\n",
              "      <th></th>\n",
              "      <th>Опыт</th>\n",
              "      <th>Вакансии все</th>\n",
              "      <th>Вакансии без ЗП</th>\n",
              "      <th>Доля вакансий без ЗП,%</th>\n",
              "    </tr>\n",
              "  </thead>\n",
              "  <tbody>\n",
              "    <tr>\n",
              "      <th>0</th>\n",
              "      <td>Более 6 лет</td>\n",
              "      <td>1337</td>\n",
              "      <td>787</td>\n",
              "      <td>59.0</td>\n",
              "    </tr>\n",
              "    <tr>\n",
              "      <th>1</th>\n",
              "      <td>Нет опыта</td>\n",
              "      <td>7197</td>\n",
              "      <td>2142</td>\n",
              "      <td>30.0</td>\n",
              "    </tr>\n",
              "    <tr>\n",
              "      <th>2</th>\n",
              "      <td>От 3 до 6 лет</td>\n",
              "      <td>14511</td>\n",
              "      <td>8862</td>\n",
              "      <td>61.0</td>\n",
              "    </tr>\n",
              "    <tr>\n",
              "      <th>3</th>\n",
              "      <td>От 1 года до 3 лет</td>\n",
              "      <td>26152</td>\n",
              "      <td>13333</td>\n",
              "      <td>51.0</td>\n",
              "    </tr>\n",
              "  </tbody>\n",
              "</table>\n",
              "</div>"
            ],
            "text/plain": [
              "                 Опыт  Вакансии все  Вакансии без ЗП  Доля вакансий без ЗП,%\n",
              "0         Более 6 лет          1337              787                    59.0\n",
              "1           Нет опыта          7197             2142                    30.0\n",
              "2       От 3 до 6 лет         14511             8862                    61.0\n",
              "3  От 1 года до 3 лет         26152            13333                    51.0"
            ]
          },
          "metadata": {},
          "output_type": "display_data"
        }
      ],
      "source": [
        "# присоединим ко всем вакансиям вакансии без ЗП\n",
        "# и сохраним в переменную \n",
        "experience_df = df_4_5.join(\n",
        "    df_4_5_1.set_index('experience'),\n",
        "    on='experience',\n",
        "    how='inner'    \n",
        ")\n",
        "# переопределим названия столбцов \n",
        "experience_df.columns = ['Опыт', 'Вакансии все','Вакансии без ЗП']\n",
        "# добавим столбец с долей вакансии без ЗП\n",
        "experience_df['Доля вакансий без ЗП,%'] = round(experience_df['Вакансии без ЗП']/experience_df['Вакансии все']*100)\n",
        "display(experience_df)"
      ]
    },
    {
      "cell_type": "markdown",
      "id": "4fc3d946",
      "metadata": {},
      "source": [
        "***"
      ]
    },
    {
      "cell_type": "markdown",
      "id": "0bf0e07c",
      "metadata": {},
      "source": [
        "1. Подавляющее число работодателей рассматривает вариант сочетания: \n",
        "* типа графика - \"полный день\" и;\n",
        "* типа трудоустройства - \"полная занятость\"\n",
        "\n",
        "1. 1. Возможные причины в том, что работодатели **ищут работников на основное место работы**, и не заинтересованы в совместительстве;\n",
        "\n",
        "2. Подавляющее число вакансий требует опыт работы от 1 года до 6 лет. Более половины соискателей имеют опыт от 1 до 3 лет. Вышеуказанное распределение может свидетельствовать о том, что люди набирающие опыт активно ищут новые возможности и лучшие места, соответственно они проще меняют работу, и \"текучка\" таких кадров больше. Также это может говорить о занитересованности в молодых, но уже опытных (чуть-чуть) специалистах, которые уже имеют представление о профессии и обучаемы в силу возраста.\n",
        "\n",
        "3. Большинство вакансий сконцентрированно в крупных городах, что логично т.к. там больше работодателей.\n",
        "\n",
        "4. Значение средних нижних и верхних границ \"вилки\" предлагаемых вакансий от 71 до 110 тысяч рублей. Это \"средняя температура по больнице\" которая дает глобальное представление о предложении на рынке труда - т.е. во что оценивают работодатели потенциальных работников. \n",
        "\n",
        "* 4. 1. **В разрезе опыта:** с увеличением опыта вилка сдвигается вправо, т.е. чем больше опыта, тем больше значения средних нижних и верхних границ \"вилки\". Диапазон разброса увеличивается от 0 до 6 лет опыта, а после опять уменьшается. Возможно это связано с тем что в течении 6 лет человек набирается опыта, каждый развивается с разной скоростью и соответственно возможен разный набор  компитенций, а после 6 лет уже набирается какой-то прогнозируемый набор компитенций, который работодатель может просчитать.\n",
        "\n",
        "* 4. 2. **В разрезе региона**, а именно городов-миллионников РФ, при условии что хотя-бы одно из полей с ЗП заполнено: С уменьшением населения и уменьшаются верхние и нижние значения зарплатной вилки, также уменьшается и диапазон зарплатной вилки. Тенденция на уменьшение присутствует. Наблюдается большая корреляция с количеством вакансий, а не с населением конкретного города. **Примечательно что Новосибирск обогнал Санкт-Петербург** по значениям зарплатной вилки, хотя вакансий там меньше, возможные причины: Возможно компании побогаче, такое может быть если там открываются филиалы крупных компаний, но я предпочитаю думать что это по тому, что в Новосибирске преобладают более квалифицированные вакансии т.е. требуются управленцы, и уникальные специалисты.\n",
        "\n",
        "\n",
        "5. Чуть более половины всех вакансий имеют пустые отметки о предлагаемой ЗП, что может свидетельствовать о:\n",
        " * гибком индивидуальном подходе, т.е. ЗП определяется по  результатам собедования, или;\n",
        " * ЗП - является конфиденциальной информацией и не выкладывается в открытый доступ, такая у  компании корпоративная политика;\n",
        " \n",
        "\n"
      ]
    },
    {
      "cell_type": "markdown",
      "id": "7ea20ab6-04a7-40a0-adec-443a0e5a42c3",
      "metadata": {
        "id": "7ea20ab6-04a7-40a0-adec-443a0e5a42c3"
      },
      "source": [
        "# Юнит 5. Анализ работодателей"
      ]
    },
    {
      "cell_type": "markdown",
      "id": "968aed80-74ef-4ffb-b5bf-c65b84e9caea",
      "metadata": {
        "id": "968aed80-74ef-4ffb-b5bf-c65b84e9caea"
      },
      "source": [
        "1. Напишите запрос, который позволит узнать, какие работодатели находятся на первом и пятом месте по количеству вакансий."
      ]
    },
    {
      "cell_type": "code",
      "execution_count": 36,
      "id": "f2d62796-d400-4ec1-a675-88112739a50e",
      "metadata": {
        "id": "f2d62796-d400-4ec1-a675-88112739a50e"
      },
      "outputs": [],
      "source": [
        "# текст запроса\n",
        "query_5_1 = f'''select\n",
        "                    --выведем название работодателя\n",
        "                    e.name as employer,\n",
        "                    --посчитаем количесво вакансий\n",
        "                    count(v.id) as total_vacancies\n",
        "                --к таблице вакансий\n",
        "                from vacancies as v\n",
        "                    --присоединим таблицу работодателй по id работодателя\n",
        "                    join employers as e on v.employer_id = e.id\n",
        "                --сгруппируем по названию руботодателя\n",
        "                group by e.name\n",
        "                --отсортируем по количеству ваканий в порядке убывания\n",
        "                order by count(v.id) desc\n",
        "                --выводим топ 5\n",
        "                limit 5\n",
        "            '''"
      ]
    },
    {
      "cell_type": "code",
      "execution_count": 37,
      "id": "f2d62796-d400-4ec1-a675-88112739a50e",
      "metadata": {
        "id": "f2d62796-d400-4ec1-a675-88112739a50e"
      },
      "outputs": [
        {
          "data": {
            "text/html": [
              "<div>\n",
              "<style scoped>\n",
              "    .dataframe tbody tr th:only-of-type {\n",
              "        vertical-align: middle;\n",
              "    }\n",
              "\n",
              "    .dataframe tbody tr th {\n",
              "        vertical-align: top;\n",
              "    }\n",
              "\n",
              "    .dataframe thead th {\n",
              "        text-align: right;\n",
              "    }\n",
              "</style>\n",
              "<table border=\"1\" class=\"dataframe\">\n",
              "  <thead>\n",
              "    <tr style=\"text-align: right;\">\n",
              "      <th></th>\n",
              "      <th>employer</th>\n",
              "      <th>total_vacancies</th>\n",
              "    </tr>\n",
              "  </thead>\n",
              "  <tbody>\n",
              "    <tr>\n",
              "      <th>0</th>\n",
              "      <td>Яндекс</td>\n",
              "      <td>1933</td>\n",
              "    </tr>\n",
              "    <tr>\n",
              "      <th>1</th>\n",
              "      <td>Ростелеком</td>\n",
              "      <td>491</td>\n",
              "    </tr>\n",
              "    <tr>\n",
              "      <th>2</th>\n",
              "      <td>Тинькофф</td>\n",
              "      <td>444</td>\n",
              "    </tr>\n",
              "    <tr>\n",
              "      <th>3</th>\n",
              "      <td>СБЕР</td>\n",
              "      <td>428</td>\n",
              "    </tr>\n",
              "    <tr>\n",
              "      <th>4</th>\n",
              "      <td>Газпром нефть</td>\n",
              "      <td>331</td>\n",
              "    </tr>\n",
              "  </tbody>\n",
              "</table>\n",
              "</div>"
            ],
            "text/plain": [
              "        employer  total_vacancies\n",
              "0         Яндекс             1933\n",
              "1     Ростелеком              491\n",
              "2       Тинькофф              444\n",
              "3           СБЕР              428\n",
              "4  Газпром нефть              331"
            ]
          },
          "metadata": {},
          "output_type": "display_data"
        }
      ],
      "source": [
        "# результат запроса\n",
        "df_5_1 = pd.read_sql_query(query_5_1, connection)\n",
        "display(df_5_1)\n",
        "# сохраним количество вакансий яндекса в переменную\n",
        "total_yandex_vacancies = df_5_1.iloc[0,1]"
      ]
    },
    {
      "cell_type": "markdown",
      "id": "64tOMkAxqkQk",
      "metadata": {
        "id": "64tOMkAxqkQk"
      },
      "source": [
        "2. Напишите запрос, который для каждого региона выведет количество работодателей и вакансий в нём.\n",
        "Среди регионов, в которых нет вакансий, найдите тот, в котором наибольшее количество работодателей.\n"
      ]
    },
    {
      "cell_type": "code",
      "execution_count": 38,
      "id": "dd7df27a-e3e8-412e-a21a-5d389b71e891",
      "metadata": {
        "id": "dd7df27a-e3e8-412e-a21a-5d389b71e891"
      },
      "outputs": [],
      "source": [
        "# текст запроса\n",
        "query_5_2 = f'''select\n",
        "                    --выбираем столбец с названием региона    \n",
        "                    a.name area,\n",
        "                    --считаем количество работодателей\n",
        "                    count(e.id) employers_count,\n",
        "                    --считаем количесвтво вакансий\n",
        "                    count(v.id) vac_count\n",
        "                --к таблице с регионами\n",
        "                from  areas a\n",
        "                    --присоединяем таблицу с работодателями по id региона в котором расположен работодатель\n",
        "                    left join employers e on a.id = e.area\n",
        "                    --присоединяем таблицу с работодателями по id региона в котором расположена вакансия\n",
        "                    left join vacancies v on a.id = v.area_id \n",
        "                --фильтруем по регионам в которых нет вакансий\n",
        "                where v.name is null \n",
        "                --группируем по регионам(по id региона)\n",
        "                group by a.id\n",
        "                --сортируем по второму столбцу, т.е. по количеству работодателей\n",
        "                order by 2 desc\n",
        "            '''"
      ]
    },
    {
      "cell_type": "code",
      "execution_count": 39,
      "id": "dd7df27a-e3e8-412e-a21a-5d389b71e891",
      "metadata": {
        "id": "dd7df27a-e3e8-412e-a21a-5d389b71e891"
      },
      "outputs": [
        {
          "data": {
            "text/html": [
              "<div>\n",
              "<style scoped>\n",
              "    .dataframe tbody tr th:only-of-type {\n",
              "        vertical-align: middle;\n",
              "    }\n",
              "\n",
              "    .dataframe tbody tr th {\n",
              "        vertical-align: top;\n",
              "    }\n",
              "\n",
              "    .dataframe thead th {\n",
              "        text-align: right;\n",
              "    }\n",
              "</style>\n",
              "<table border=\"1\" class=\"dataframe\">\n",
              "  <thead>\n",
              "    <tr style=\"text-align: right;\">\n",
              "      <th></th>\n",
              "      <th>area</th>\n",
              "      <th>employers_count</th>\n",
              "      <th>vac_count</th>\n",
              "    </tr>\n",
              "  </thead>\n",
              "  <tbody>\n",
              "    <tr>\n",
              "      <th>0</th>\n",
              "      <td>Россия</td>\n",
              "      <td>410</td>\n",
              "      <td>0</td>\n",
              "    </tr>\n",
              "    <tr>\n",
              "      <th>1</th>\n",
              "      <td>Казахстан</td>\n",
              "      <td>207</td>\n",
              "      <td>0</td>\n",
              "    </tr>\n",
              "    <tr>\n",
              "      <th>2</th>\n",
              "      <td>Московская область</td>\n",
              "      <td>75</td>\n",
              "      <td>0</td>\n",
              "    </tr>\n",
              "    <tr>\n",
              "      <th>3</th>\n",
              "      <td>Краснодарский край</td>\n",
              "      <td>19</td>\n",
              "      <td>0</td>\n",
              "    </tr>\n",
              "    <tr>\n",
              "      <th>4</th>\n",
              "      <td>Ростовская область</td>\n",
              "      <td>18</td>\n",
              "      <td>0</td>\n",
              "    </tr>\n",
              "    <tr>\n",
              "      <th>...</th>\n",
              "      <td>...</td>\n",
              "      <td>...</td>\n",
              "      <td>...</td>\n",
              "    </tr>\n",
              "    <tr>\n",
              "      <th>588</th>\n",
              "      <td>Скидель</td>\n",
              "      <td>0</td>\n",
              "      <td>0</td>\n",
              "    </tr>\n",
              "    <tr>\n",
              "      <th>589</th>\n",
              "      <td>Белоозерск</td>\n",
              "      <td>0</td>\n",
              "      <td>0</td>\n",
              "    </tr>\n",
              "    <tr>\n",
              "      <th>590</th>\n",
              "      <td>Орловский</td>\n",
              "      <td>0</td>\n",
              "      <td>0</td>\n",
              "    </tr>\n",
              "    <tr>\n",
              "      <th>591</th>\n",
              "      <td>Павловская</td>\n",
              "      <td>0</td>\n",
              "      <td>0</td>\n",
              "    </tr>\n",
              "    <tr>\n",
              "      <th>592</th>\n",
              "      <td>Таксимо</td>\n",
              "      <td>0</td>\n",
              "      <td>0</td>\n",
              "    </tr>\n",
              "  </tbody>\n",
              "</table>\n",
              "<p>593 rows × 3 columns</p>\n",
              "</div>"
            ],
            "text/plain": [
              "                   area  employers_count  vac_count\n",
              "0                Россия              410          0\n",
              "1             Казахстан              207          0\n",
              "2    Московская область               75          0\n",
              "3    Краснодарский край               19          0\n",
              "4    Ростовская область               18          0\n",
              "..                  ...              ...        ...\n",
              "588             Скидель                0          0\n",
              "589          Белоозерск                0          0\n",
              "590           Орловский                0          0\n",
              "591          Павловская                0          0\n",
              "592             Таксимо                0          0\n",
              "\n",
              "[593 rows x 3 columns]"
            ]
          },
          "metadata": {},
          "output_type": "display_data"
        },
        {
          "data": {
            "text/plain": [
              "'Регион где нет вакансий и самое болшое количество работодателей:Россия'"
            ]
          },
          "metadata": {},
          "output_type": "display_data"
        }
      ],
      "source": [
        "# результат запроса\n",
        "df_5_2 = pd.read_sql_query(query_5_2, connection)\n",
        "display(df_5_2)\n",
        "display(f'Регион где нет вакансий и самое болшое количество работодателей:{df_5_2.iloc[0,0]}')"
      ]
    },
    {
      "cell_type": "markdown",
      "id": "x1ikWbydrbf6",
      "metadata": {
        "id": "x1ikWbydrbf6"
      },
      "source": [
        "3. Для каждого работодателя посчитайте количество регионов, в которых он публикует свои вакансии. Отсортируйте результат по убыванию количества.\n"
      ]
    },
    {
      "cell_type": "code",
      "execution_count": 40,
      "id": "6271f8ad-bd2e-4196-ae4a-5b39c4c1010e",
      "metadata": {
        "id": "6271f8ad-bd2e-4196-ae4a-5b39c4c1010e"
      },
      "outputs": [],
      "source": [
        "# текст запроса\n",
        "query_5_3 = f'''select\n",
        "                    --выбираем работодателей    \n",
        "                    e.name employer,\n",
        "                    --считаем уникальные значения по id региона\n",
        "                    count(distinct v.area_id) areas_count    \n",
        "                --к таблице работодателей \n",
        "                from  employers e \n",
        "                    --присоединяем левым join таблицу вакансий по id работодателя\n",
        "                    left join vacancies v on e.id = v.employer_id \n",
        "                --группируем по id работодателя \n",
        "                group by e.id\n",
        "                --сортируем по второму столбцу, т.е. по количеству уникальных id региона\n",
        "                order by 2 desc\n",
        "            '''"
      ]
    },
    {
      "cell_type": "code",
      "execution_count": 41,
      "id": "1EIvX3HasH4F",
      "metadata": {
        "id": "1EIvX3HasH4F"
      },
      "outputs": [
        {
          "data": {
            "text/html": [
              "<div>\n",
              "<style scoped>\n",
              "    .dataframe tbody tr th:only-of-type {\n",
              "        vertical-align: middle;\n",
              "    }\n",
              "\n",
              "    .dataframe tbody tr th {\n",
              "        vertical-align: top;\n",
              "    }\n",
              "\n",
              "    .dataframe thead th {\n",
              "        text-align: right;\n",
              "    }\n",
              "</style>\n",
              "<table border=\"1\" class=\"dataframe\">\n",
              "  <thead>\n",
              "    <tr style=\"text-align: right;\">\n",
              "      <th></th>\n",
              "      <th>employer</th>\n",
              "      <th>areas_count</th>\n",
              "    </tr>\n",
              "  </thead>\n",
              "  <tbody>\n",
              "    <tr>\n",
              "      <th>0</th>\n",
              "      <td>Яндекс</td>\n",
              "      <td>181</td>\n",
              "    </tr>\n",
              "    <tr>\n",
              "      <th>1</th>\n",
              "      <td>Ростелеком</td>\n",
              "      <td>152</td>\n",
              "    </tr>\n",
              "    <tr>\n",
              "      <th>2</th>\n",
              "      <td>Спецремонт</td>\n",
              "      <td>116</td>\n",
              "    </tr>\n",
              "    <tr>\n",
              "      <th>3</th>\n",
              "      <td>Поляков Денис Иванович</td>\n",
              "      <td>88</td>\n",
              "    </tr>\n",
              "    <tr>\n",
              "      <th>4</th>\n",
              "      <td>ООО ЕФИН</td>\n",
              "      <td>71</td>\n",
              "    </tr>\n",
              "    <tr>\n",
              "      <th>...</th>\n",
              "      <td>...</td>\n",
              "      <td>...</td>\n",
              "    </tr>\n",
              "    <tr>\n",
              "      <th>23496</th>\n",
              "      <td>Но Смокинг</td>\n",
              "      <td>0</td>\n",
              "    </tr>\n",
              "    <tr>\n",
              "      <th>23497</th>\n",
              "      <td>МАСТЕРСКАЯ CREED</td>\n",
              "      <td>0</td>\n",
              "    </tr>\n",
              "    <tr>\n",
              "      <th>23498</th>\n",
              "      <td>Dzing Finance</td>\n",
              "      <td>0</td>\n",
              "    </tr>\n",
              "    <tr>\n",
              "      <th>23499</th>\n",
              "      <td>КОРС</td>\n",
              "      <td>0</td>\n",
              "    </tr>\n",
              "    <tr>\n",
              "      <th>23500</th>\n",
              "      <td>Наука-Связь</td>\n",
              "      <td>0</td>\n",
              "    </tr>\n",
              "  </tbody>\n",
              "</table>\n",
              "<p>23501 rows × 2 columns</p>\n",
              "</div>"
            ],
            "text/plain": [
              "                     employer  areas_count\n",
              "0                      Яндекс          181\n",
              "1                  Ростелеком          152\n",
              "2                  Спецремонт          116\n",
              "3      Поляков Денис Иванович           88\n",
              "4                   ООО ЕФИН            71\n",
              "...                       ...          ...\n",
              "23496              Но Смокинг            0\n",
              "23497        МАСТЕРСКАЯ CREED            0\n",
              "23498           Dzing Finance            0\n",
              "23499                    КОРС            0\n",
              "23500             Наука-Связь            0\n",
              "\n",
              "[23501 rows x 2 columns]"
            ]
          },
          "metadata": {},
          "output_type": "display_data"
        }
      ],
      "source": [
        "# результат запроса\n",
        "df_5_3 = pd.read_sql_query(query_5_3, connection)\n",
        "display(df_5_3)\n"
      ]
    },
    {
      "cell_type": "markdown",
      "id": "eab2206d-d95b-468b-8e5f-34381abf0ce7",
      "metadata": {
        "id": "eab2206d-d95b-468b-8e5f-34381abf0ce7"
      },
      "source": [
        "4. Напишите запрос для подсчёта количества работодателей, у которых не указана сфера деятельности. "
      ]
    },
    {
      "cell_type": "code",
      "execution_count": 42,
      "id": "80defb23-bfb1-4a18-8be6-bf36aa7165d5",
      "metadata": {
        "id": "80defb23-bfb1-4a18-8be6-bf36aa7165d5"
      },
      "outputs": [],
      "source": [
        "# текст запроса\n",
        "query_5_4 = f'''select\n",
        "                    --считаем уникальные id работодателя    \n",
        "                    count(distinct e.id)    \n",
        "                --к таблице работодателей\n",
        "                from  employers e \n",
        "                    --присоединяем левым join таблицу employers_industries по id работодателя\n",
        "                    left join employers_industries ei on e.id = ei.employer_id \n",
        "                --фильтруем значения, оставляеме только тех работодалей\n",
        "                --у которых не заполнена сфера деятельности\n",
        "                where ei.industry_id is null\n",
        "             '''"
      ]
    },
    {
      "cell_type": "code",
      "execution_count": 43,
      "id": "Dp_yCx6ysQSu",
      "metadata": {
        "id": "Dp_yCx6ysQSu"
      },
      "outputs": [
        {
          "data": {
            "text/plain": [
              "'Количество работодателей у которых не указана сфера деятульности:8419'"
            ]
          },
          "metadata": {},
          "output_type": "display_data"
        }
      ],
      "source": [
        "# результат запроса\n",
        "df_5_4 = pd.read_sql_query(query_5_4, connection)\n",
        "display(f'Количество работодателей у которых не указана сфера деятульности:{df_5_4.iloc[0,0]}')"
      ]
    },
    {
      "cell_type": "markdown",
      "id": "0112af31-f6b0-4e3b-82ab-71296e752e5e",
      "metadata": {
        "id": "0112af31-f6b0-4e3b-82ab-71296e752e5e"
      },
      "source": [
        "5. Напишите запрос, чтобы узнать название компании, находящейся на третьем месте в алфавитном списке (по названию) компаний, у которых указано четыре сферы деятельности. "
      ]
    },
    {
      "cell_type": "code",
      "execution_count": 44,
      "id": "973b0cfc-a972-470a-8b4a-68744ef220c4",
      "metadata": {
        "id": "973b0cfc-a972-470a-8b4a-68744ef220c4"
      },
      "outputs": [],
      "source": [
        "# текст запроса\n",
        "query_5_5 = f'''select\n",
        "                    --название компании\n",
        "                    e.name    \n",
        "                --к таблице связке работодатель-сферая деятельности\n",
        "                from employers_industries ei \n",
        "                    --присоединяем таблицу работодателей по id работотдателя\n",
        "                    join employers e on ei.employer_id = e.id \n",
        "                --группируем по имени работодателя\n",
        "                group by e.name\n",
        "                --фильтруем по количеству видов деятельности равному четырем\n",
        "                having count(ei.industry_id) = 4\n",
        "                --сортируем в алфавитном порядку\n",
        "                order by e.name\n",
        "                --выводим 3 место\n",
        "                offset 2 limit 1\n",
        "             '''"
      ]
    },
    {
      "cell_type": "code",
      "execution_count": 45,
      "id": "xsPtpp8EsaED",
      "metadata": {
        "id": "xsPtpp8EsaED"
      },
      "outputs": [
        {
          "data": {
            "text/plain": [
              "'Название компании, находящейся на третьем месте в алфавитном списке (по названию) компаний, у которой указано четыре сферы деятельности:2ГИС'"
            ]
          },
          "metadata": {},
          "output_type": "display_data"
        }
      ],
      "source": [
        "# результат запроса\n",
        "df_5_5 = pd.read_sql_query(query_5_5, connection)\n",
        "display(f'Название компании, находящейся на третьем месте в алфавитном списке (по названию) компаний, у которой указано четыре сферы деятельности:{df_5_5.iloc[0,0]}')\n"
      ]
    },
    {
      "cell_type": "markdown",
      "id": "3bfcfdaf-755d-4d2b-8ed8-326201dc07ab",
      "metadata": {
        "id": "3bfcfdaf-755d-4d2b-8ed8-326201dc07ab"
      },
      "source": [
        "6. С помощью запроса выясните, у какого количества работодателей в качестве сферы деятельности указана Разработка программного обеспечения.\n"
      ]
    },
    {
      "cell_type": "code",
      "execution_count": 46,
      "id": "ad3f270f-2991-47eb-929b-e8f88a55b0d1",
      "metadata": {
        "id": "ad3f270f-2991-47eb-929b-e8f88a55b0d1"
      },
      "outputs": [],
      "source": [
        "# текст запроса\n",
        "query_5_6 = f'''select\n",
        "                    --считаем количество работодателей \n",
        "                    count(ei.employer_id)    \n",
        "                --к таблице связке работодатель-сферая деятельности\n",
        "                from employers_industries ei \n",
        "                    --присоединяем таблицу сфер деятельности  по id сферы деятельности\n",
        "                    join industries i on ei.industry_id = i.id \n",
        "                --фильтруем по сфере деятельности\n",
        "                where i.name like 'Разработка программного обеспечения'\n",
        "                \n",
        "             '''"
      ]
    },
    {
      "cell_type": "code",
      "execution_count": 47,
      "id": "H72qxWM0shPR",
      "metadata": {
        "id": "H72qxWM0shPR"
      },
      "outputs": [
        {
          "data": {
            "text/plain": [
              "'Количество работодателей у которых в качестве сферы деятельности указана \"Разработка программного обеспечения\":3553'"
            ]
          },
          "metadata": {},
          "output_type": "display_data"
        }
      ],
      "source": [
        "# результат запроса\n",
        "df_5_6 = pd.read_sql_query(query_5_6, connection)\n",
        "count_it_vac = df_5_6.iloc[0,0]\n",
        "display(f'Количество работодателей у которых в качестве сферы деятельности указана \"Разработка программного обеспечения\":{count_it_vac}')"
      ]
    },
    {
      "cell_type": "markdown",
      "id": "68fb9c33",
      "metadata": {},
      "source": [
        "6. 1. Дополнительно вычислим долю работодателей у которых в качестве сферы деятельности<br> указана \"Разработка программного обеспечения\""
      ]
    },
    {
      "cell_type": "code",
      "execution_count": 48,
      "id": "afb3aad6",
      "metadata": {},
      "outputs": [
        {
          "data": {
            "text/plain": [
              "'Доля работодателей у которых в качестве сферы деятельности указана \"Разработка программного обеспечения\":15%'"
            ]
          },
          "metadata": {},
          "output_type": "display_data"
        }
      ],
      "source": [
        "display(f'Доля работодателей у которых в качестве сферы деятельности указана \"Разработка программного обеспечения\":{round(count_it_vac/employers_total_amount*100)}%')"
      ]
    },
    {
      "cell_type": "markdown",
      "id": "7b02bb86-0546-40fb-94a4-242f050a5c57",
      "metadata": {
        "id": "7b02bb86-0546-40fb-94a4-242f050a5c57"
      },
      "source": [
        "7. Для компании «Яндекс» выведите список регионов-миллионников, в которых представлены вакансии компании, вместе с количеством вакансий в этих регионах. Также добавьте строку Total с общим количеством вакансий компании. Результат отсортируйте по возрастанию количества.\n",
        "\n",
        "\n",
        "Список городов-милионников надо взять [отсюда](https://ru.wikipedia.org/wiki/%D0%93%D0%BE%D1%80%D0%BE%D0%B4%D0%B0-%D0%BC%D0%B8%D0%BB%D0%BB%D0%B8%D0%BE%D0%BD%D0%B5%D1%80%D1%8B_%D0%A0%D0%BE%D1%81%D1%81%D0%B8%D0%B8). \n",
        "\n",
        "Если возникнут трудности с этим задание посмотрите материалы модуля  PYTHON-17. Как получать данные из веб-источников и API. "
      ]
    },
    {
      "cell_type": "code",
      "execution_count": 49,
      "id": "ZdfrL6gIs1Pn",
      "metadata": {
        "id": "ZdfrL6gIs1Pn"
      },
      "outputs": [],
      "source": [
        "# код для получения списка городов-милионников\n",
        "\n",
        "# вставляем оригинальную ссылку из Википедии\n",
        "path_common = req.urlparse('https://ru.wikipedia.org/wiki/Города-миллионеры_России')\n",
        "# приводим в читабельный вид\n",
        "url = path_common.scheme + '://' + req.quote(path_common.netloc) +  req.quote(path_common.path) + '#'+ req.quote(path_common.fragment)\n",
        "# получаем списао таблиц на страницу\n",
        "tables = pd.read_html(url)\n",
        "# сохраняем в кортеж с названиями стран в переменную \n",
        "million_cities = tuple(tables[1]['Город'])\n"
      ]
    },
    {
      "cell_type": "code",
      "execution_count": 50,
      "id": "5a0e32a4-e68a-4365-8a39-2fe24c542c36",
      "metadata": {
        "id": "5a0e32a4-e68a-4365-8a39-2fe24c542c36"
      },
      "outputs": [],
      "source": [
        "# текст запроса\n",
        "query_5_7 = f'''select\n",
        "                    --название региона \n",
        "                    a.name \"регион\",\n",
        "                    --количество вакансий в нем\n",
        "                    count(v.id) \"количество вакансий\"\n",
        "                --к таблице вакансий       \n",
        "                from vacancies v \n",
        "                    --присоединяем таблицу работодателей по id работодателя\n",
        "                    join employers e on v.employer_id = e.id\n",
        "                    --присоединяем таблицу регионов по id региона\n",
        "                    join areas a on v.area_id = a.id\n",
        "                --фильтарция по имени работодателя\n",
        "                where e.name like 'Яндекс'\n",
        "                --группировка по регионам\n",
        "                group by a.id\n",
        "                --фильтарция только городов миллионников\n",
        "                having a.name in {million_cities}\n",
        "                \n",
        "                union all --объединяем \n",
        "                \n",
        "                -- добавляем строчку с общим количеством вакансий Яндекса\n",
        "                select\n",
        "                    'Total',\n",
        "                    --считаем общее количесвто вакансий Яндекса\n",
        "                    count(v.id)        \n",
        "                from vacancies v \n",
        "                    join employers e on v.employer_id = e.id\n",
        "                    join areas a on v.area_id = a.id\n",
        "                where e.name like 'Яндекс'\n",
        "                    and a.name in {million_cities}\n",
        "                \n",
        "                --сортируем по убыванию количества вакансий \n",
        "                order by \"количество вакансий\"\n",
        "                \n",
        "             '''"
      ]
    },
    {
      "cell_type": "code",
      "execution_count": 51,
      "id": "ttPhiO1rsvPq",
      "metadata": {
        "id": "ttPhiO1rsvPq"
      },
      "outputs": [
        {
          "data": {
            "text/html": [
              "<div>\n",
              "<style scoped>\n",
              "    .dataframe tbody tr th:only-of-type {\n",
              "        vertical-align: middle;\n",
              "    }\n",
              "\n",
              "    .dataframe tbody tr th {\n",
              "        vertical-align: top;\n",
              "    }\n",
              "\n",
              "    .dataframe thead th {\n",
              "        text-align: right;\n",
              "    }\n",
              "</style>\n",
              "<table border=\"1\" class=\"dataframe\">\n",
              "  <thead>\n",
              "    <tr style=\"text-align: right;\">\n",
              "      <th></th>\n",
              "      <th>регион</th>\n",
              "      <th>количество вакансий</th>\n",
              "    </tr>\n",
              "  </thead>\n",
              "  <tbody>\n",
              "    <tr>\n",
              "      <th>0</th>\n",
              "      <td>Омск</td>\n",
              "      <td>21</td>\n",
              "    </tr>\n",
              "    <tr>\n",
              "      <th>1</th>\n",
              "      <td>Челябинск</td>\n",
              "      <td>22</td>\n",
              "    </tr>\n",
              "    <tr>\n",
              "      <th>2</th>\n",
              "      <td>Красноярск</td>\n",
              "      <td>23</td>\n",
              "    </tr>\n",
              "    <tr>\n",
              "      <th>3</th>\n",
              "      <td>Волгоград</td>\n",
              "      <td>24</td>\n",
              "    </tr>\n",
              "    <tr>\n",
              "      <th>4</th>\n",
              "      <td>Пермь</td>\n",
              "      <td>25</td>\n",
              "    </tr>\n",
              "    <tr>\n",
              "      <th>5</th>\n",
              "      <td>Казань</td>\n",
              "      <td>25</td>\n",
              "    </tr>\n",
              "    <tr>\n",
              "      <th>6</th>\n",
              "      <td>Ростов-на-Дону</td>\n",
              "      <td>25</td>\n",
              "    </tr>\n",
              "    <tr>\n",
              "      <th>7</th>\n",
              "      <td>Самара</td>\n",
              "      <td>26</td>\n",
              "    </tr>\n",
              "    <tr>\n",
              "      <th>8</th>\n",
              "      <td>Уфа</td>\n",
              "      <td>26</td>\n",
              "    </tr>\n",
              "    <tr>\n",
              "      <th>9</th>\n",
              "      <td>Краснодар</td>\n",
              "      <td>30</td>\n",
              "    </tr>\n",
              "    <tr>\n",
              "      <th>10</th>\n",
              "      <td>Воронеж</td>\n",
              "      <td>32</td>\n",
              "    </tr>\n",
              "    <tr>\n",
              "      <th>11</th>\n",
              "      <td>Новосибирск</td>\n",
              "      <td>35</td>\n",
              "    </tr>\n",
              "    <tr>\n",
              "      <th>12</th>\n",
              "      <td>Нижний Новгород</td>\n",
              "      <td>36</td>\n",
              "    </tr>\n",
              "    <tr>\n",
              "      <th>13</th>\n",
              "      <td>Екатеринбург</td>\n",
              "      <td>39</td>\n",
              "    </tr>\n",
              "    <tr>\n",
              "      <th>14</th>\n",
              "      <td>Санкт-Петербург</td>\n",
              "      <td>42</td>\n",
              "    </tr>\n",
              "    <tr>\n",
              "      <th>15</th>\n",
              "      <td>Москва</td>\n",
              "      <td>54</td>\n",
              "    </tr>\n",
              "    <tr>\n",
              "      <th>16</th>\n",
              "      <td>Total</td>\n",
              "      <td>485</td>\n",
              "    </tr>\n",
              "  </tbody>\n",
              "</table>\n",
              "</div>"
            ],
            "text/plain": [
              "             регион  количество вакансий\n",
              "0              Омск                   21\n",
              "1         Челябинск                   22\n",
              "2        Красноярск                   23\n",
              "3         Волгоград                   24\n",
              "4             Пермь                   25\n",
              "5            Казань                   25\n",
              "6    Ростов-на-Дону                   25\n",
              "7            Самара                   26\n",
              "8               Уфа                   26\n",
              "9         Краснодар                   30\n",
              "10          Воронеж                   32\n",
              "11      Новосибирск                   35\n",
              "12  Нижний Новгород                   36\n",
              "13     Екатеринбург                   39\n",
              "14  Санкт-Петербург                   42\n",
              "15           Москва                   54\n",
              "16            Total                  485"
            ]
          },
          "metadata": {},
          "output_type": "display_data"
        }
      ],
      "source": [
        "# результат запроса\n",
        "df_5_7 = pd.read_sql_query(query_5_7, connection)\n",
        "display(df_5_7)"
      ]
    },
    {
      "cell_type": "markdown",
      "id": "04966e40-3bc3-4dc8-9ba2-e80580ce3abc",
      "metadata": {
        "id": "04966e40-3bc3-4dc8-9ba2-e80580ce3abc"
      },
      "source": [
        "***"
      ]
    },
    {
      "cell_type": "markdown",
      "id": "edc880fd",
      "metadata": {},
      "source": [
        "7. 1. Дополнительно выясним сколько вакансий \"Янекс\" разместил по всей стране\". Сгруппируем вакансии группам городов в зависимости от количества населения:\n",
        "\n",
        "* *Крупнейшие* —  с населением свыше 1 миллиона человек\n",
        "* *Крупные* —  от 250 тысяч человек до 1 миллиона человек (в том числе подкатегории от 250 до 500 тысяч и от 500 тысяч до 1 миллиона человек)\n",
        "* *Большие* —  от 100 до 250 тысяч человек\n",
        "* *Средние* —  от 50 до 100 тысяч человек\n",
        "* *Малые* —  до 50 тысяч человек"
      ]
    },
    {
      "cell_type": "code",
      "execution_count": 52,
      "id": "9afb706f",
      "metadata": {},
      "outputs": [],
      "source": [
        "all_rus_cities = million_cities+large_cities_500_1000+large_cities_250_500+big_cities+middle_cities+small_cities\n"
      ]
    },
    {
      "cell_type": "code",
      "execution_count": 53,
      "id": "21c863d5",
      "metadata": {},
      "outputs": [],
      "source": [
        "# текст запроса\n",
        "query_5_7_1 = f'''\n",
        "                -- добавляем строчку с общим количеством вакансий Яндекса в городах-миллионниках\n",
        "                select\n",
        "                    'Крупнейшие,более 1 миллиона человек'\"Тип города по населению\",\n",
        "                    count(v.id) \"количество вакансий\"\n",
        "                        \n",
        "                from vacancies v \n",
        "                    join employers e on v.employer_id = e.id\n",
        "                    join areas a on v.area_id = a.id\n",
        "                where e.name like 'Яндекс'\n",
        "                        and a.name in {million_cities}\n",
        "                \n",
        "                union all\n",
        "                -- добавляем строчку с общим количеством вакансий Яндекса в Крупных горохда 500000-1000000 человек\n",
        "                \n",
        "                select\n",
        "                    'Крупные 500000-1000000 человек',\n",
        "                    count(v.id)\n",
        "                        \n",
        "                from vacancies v \n",
        "                    join employers e on v.employer_id = e.id\n",
        "                    join areas a on v.area_id = a.id\n",
        "                where e.name like 'Яндекс'\n",
        "                        and a.name in {large_cities_500_1000}\n",
        "                        \n",
        "                union all\n",
        "                -- добавляем строчку с общим количеством вакансий Яндекса в Крупных городах 250000-500000 человек\n",
        "                \n",
        "                select\n",
        "                    'Крупные 250000-500000 человек',\n",
        "                    count(v.id)\n",
        "                        \n",
        "                from vacancies v \n",
        "                    join employers e on v.employer_id = e.id\n",
        "                    join areas a on v.area_id = a.id\n",
        "                where e.name like 'Яндекс'\n",
        "                        and a.name in {large_cities_250_500}\n",
        "                        \n",
        "                union all\n",
        "                -- добавляем строчку с общим количеством вакансий Яндекса в Больших города 250000-500000 человек\n",
        "                \n",
        "                select\n",
        "                    'Большие, 100000-250000 человек',\n",
        "                    count(v.id)\n",
        "                        \n",
        "                from vacancies v \n",
        "                    join employers e on v.employer_id = e.id\n",
        "                    join areas a on v.area_id = a.id\n",
        "                where e.name like 'Яндекс'\n",
        "                        and a.name in {big_cities}\n",
        "                \n",
        "                union all\n",
        "                -- добавляем строчку с общим количеством вакансий Яндекса в Средних городах 250000-500000 человек\n",
        "                \n",
        "                select\n",
        "                    'Средние,50000-100000 человек',\n",
        "                    count(v.id)\n",
        "                        \n",
        "                from vacancies v \n",
        "                    join employers e on v.employer_id = e.id\n",
        "                    join areas a on v.area_id = a.id\n",
        "                where e.name like 'Яндекс'\n",
        "                        and a.name in {middle_cities}\n",
        "                \n",
        "                union all \n",
        "                -- добавляем строчку с общим количеством вакансий Яндекса в малых городах до 50000 человек   \n",
        "                \n",
        "                select\n",
        "                    'Малые, до 50000 человек',\n",
        "                    count(v.id)\n",
        "                        \n",
        "                from vacancies v \n",
        "                    join employers e on v.employer_id = e.id\n",
        "                    join areas a on v.area_id = a.id\n",
        "                where e.name like 'Яндекс'\n",
        "                        and a.name in {small_cities}\n",
        "                        \n",
        "                union all    \n",
        "                -- добавляем строчку с общим количеством вакансий Яндекса в российских городах \n",
        "                \n",
        "                select\n",
        "                    'Всего в российских городах',\n",
        "                    count(v.id)\n",
        "                        \n",
        "                from vacancies v \n",
        "                    join employers e on v.employer_id = e.id\n",
        "                    join areas a on v.area_id = a.id\n",
        "                where e.name like 'Яндекс'\n",
        "                        and a.name in {all_rus_cities}\n",
        "                        \n",
        "                union all    \n",
        "                -- добавляем строчку с общим количеством вакансий Яндекса \n",
        "                \n",
        "                select\n",
        "                    'Всего вакансий Яндекса',\n",
        "                    {total_yandex_vacancies}\n",
        "                    \n",
        "                --сортируем по убыванию количества вакансий         \n",
        "                order by \"количество вакансий\" desc\n",
        "                '''"
      ]
    },
    {
      "cell_type": "code",
      "execution_count": 54,
      "id": "27488fc2",
      "metadata": {},
      "outputs": [
        {
          "data": {
            "text/html": [
              "<div>\n",
              "<style scoped>\n",
              "    .dataframe tbody tr th:only-of-type {\n",
              "        vertical-align: middle;\n",
              "    }\n",
              "\n",
              "    .dataframe tbody tr th {\n",
              "        vertical-align: top;\n",
              "    }\n",
              "\n",
              "    .dataframe thead th {\n",
              "        text-align: right;\n",
              "    }\n",
              "</style>\n",
              "<table border=\"1\" class=\"dataframe\">\n",
              "  <thead>\n",
              "    <tr style=\"text-align: right;\">\n",
              "      <th></th>\n",
              "      <th>Тип города по населению</th>\n",
              "      <th>количество вакансий</th>\n",
              "    </tr>\n",
              "  </thead>\n",
              "  <tbody>\n",
              "    <tr>\n",
              "      <th>0</th>\n",
              "      <td>Всего вакансий Яндекса</td>\n",
              "      <td>1933</td>\n",
              "    </tr>\n",
              "    <tr>\n",
              "      <th>1</th>\n",
              "      <td>Всего в российских городах</td>\n",
              "      <td>1797</td>\n",
              "    </tr>\n",
              "    <tr>\n",
              "      <th>2</th>\n",
              "      <td>Крупнейшие,более 1 миллиона человек</td>\n",
              "      <td>485</td>\n",
              "    </tr>\n",
              "    <tr>\n",
              "      <th>3</th>\n",
              "      <td>Большие, 100000-250000 человек</td>\n",
              "      <td>474</td>\n",
              "    </tr>\n",
              "    <tr>\n",
              "      <th>4</th>\n",
              "      <td>Крупные 250000-500000 человек</td>\n",
              "      <td>422</td>\n",
              "    </tr>\n",
              "    <tr>\n",
              "      <th>5</th>\n",
              "      <td>Крупные 500000-1000000 человек</td>\n",
              "      <td>405</td>\n",
              "    </tr>\n",
              "    <tr>\n",
              "      <th>6</th>\n",
              "      <td>Средние,50000-100000 человек</td>\n",
              "      <td>11</td>\n",
              "    </tr>\n",
              "    <tr>\n",
              "      <th>7</th>\n",
              "      <td>Малые, до 50000 человек</td>\n",
              "      <td>0</td>\n",
              "    </tr>\n",
              "  </tbody>\n",
              "</table>\n",
              "</div>"
            ],
            "text/plain": [
              "               Тип города по населению  количество вакансий\n",
              "0               Всего вакансий Яндекса                 1933\n",
              "1           Всего в российских городах                 1797\n",
              "2  Крупнейшие,более 1 миллиона человек                  485\n",
              "3       Большие, 100000-250000 человек                  474\n",
              "4        Крупные 250000-500000 человек                  422\n",
              "5       Крупные 500000-1000000 человек                  405\n",
              "6         Средние,50000-100000 человек                   11\n",
              "7              Малые, до 50000 человек                    0"
            ]
          },
          "metadata": {},
          "output_type": "display_data"
        }
      ],
      "source": [
        "df_5_7_1 = pd.read_sql_query(query_5_7_1, connection)\n",
        "display(df_5_7_1)"
      ]
    },
    {
      "cell_type": "code",
      "execution_count": 55,
      "id": "90974ee3",
      "metadata": {},
      "outputs": [
        {
          "data": {
            "text/plain": [
              "'93% вакансий Яндекса в России'"
            ]
          },
          "metadata": {},
          "output_type": "display_data"
        },
        {
          "data": {
            "text/plain": [
              "'27% российских вакансий Яндекса в городах миллионниках'"
            ]
          },
          "metadata": {},
          "output_type": "display_data"
        },
        {
          "data": {
            "text/plain": [
              "'26% российских вакансий Яндекса в крупных городах (500 тыс.-1 млн. чел.)'"
            ]
          },
          "metadata": {},
          "output_type": "display_data"
        },
        {
          "data": {
            "text/plain": [
              "'23% российских вакансий Яндекса в крупных городах (250-500 тыс.чел.)'"
            ]
          },
          "metadata": {},
          "output_type": "display_data"
        },
        {
          "data": {
            "text/plain": [
              "'23% российских вакансий Яндекса в больших городах (100-250 тыс.чел.)'"
            ]
          },
          "metadata": {},
          "output_type": "display_data"
        },
        {
          "data": {
            "text/plain": [
              "'1% российских вакансий Яндекса в средних городах (50-100 тыс.чел.)'"
            ]
          },
          "metadata": {},
          "output_type": "display_data"
        }
      ],
      "source": [
        "display(f'{round(df_5_7_1.iloc[1,1]/total_yandex_vacancies*100)}% вакансий Яндекса в России')\n",
        "display(f'{round(df_5_7_1.iloc[2,1]/df_5_7_1.iloc[1,1]*100)}% российских вакансий Яндекса в городах миллионниках')\n",
        "display(f'{round(df_5_7_1.iloc[3,1]/df_5_7_1.iloc[1,1]*100)}% российских вакансий Яндекса в крупных городах (500 тыс.-1 млн. чел.)')\n",
        "display(f'{round(df_5_7_1.iloc[4,1]/df_5_7_1.iloc[1,1]*100)}% российских вакансий Яндекса в крупных городах (250-500 тыс.чел.)')\n",
        "display(f'{round(df_5_7_1.iloc[5,1]/df_5_7_1.iloc[1,1]*100)}% российских вакансий Яндекса в больших городах (100-250 тыс.чел.)')\n",
        "display(f'{round(df_5_7_1.iloc[6,1]/df_5_7_1.iloc[1,1]*100)}% российских вакансий Яндекса в средних городах (50-100 тыс.чел.)')"
      ]
    },
    {
      "cell_type": "markdown",
      "id": "c81e0e0b",
      "metadata": {},
      "source": [
        "7. 2. Посмотрим как Яндекс раскинул свои вакансии по нашей необъятной Родине"
      ]
    },
    {
      "cell_type": "code",
      "execution_count": 76,
      "id": "d16e6fc6",
      "metadata": {},
      "outputs": [],
      "source": [
        "# Сведения о географических кооординатах возьмем от сюда\n",
        "cities = pd.read_csv('city.csv')\n",
        "# Для некоторых городов федерального значения значения не заполнены \n",
        "# приравняем эти названия к названию региона\n",
        "cities.loc[cities['city'].isna(), 'city'] = cities.loc[cities['city'].isna(), 'region']\n",
        "                   "
      ]
    },
    {
      "cell_type": "code",
      "execution_count": 77,
      "id": "85955b76",
      "metadata": {},
      "outputs": [],
      "source": [
        "query_5_7_2 = f'''\n",
        "                select\n",
        "                    --название региона \n",
        "                    a.name \"регион\",\n",
        "                    --количество вакансий в нем\n",
        "                    count(v.id) \"количество вакансий\"\n",
        "                --к таблице вакансий       \n",
        "                from vacancies v \n",
        "                    --присоединяем таблицу работодателей по id работодателя\n",
        "                    join employers e on v.employer_id = e.id\n",
        "                    --присоединяем таблицу регионов по id региона\n",
        "                    join areas a on v.area_id = a.id\n",
        "                --фильтарция по имени работодателя\n",
        "                where e.name like 'Яндекс'\n",
        "                --группировка по регионам\n",
        "                group by a.id\n",
        "                --фильтарция только городов миллионников\n",
        "                having a.name in {million_cities}\n",
        "                '''\n",
        "df_5_7_2 = pd.read_sql_query(query_5_7_2, connection)\n",
        "\n",
        "# присоединяем полученный DF\n",
        "mil_df =  df_5_7_2.join(\n",
        "    cities.set_index('city'),\n",
        "    on='регион',\n",
        "    how='left'\n",
        "# и сортируем по количеству вакансий\n",
        ").sort_values(by='количество вакансий', ascending=False)"
      ]
    },
    {
      "cell_type": "code",
      "execution_count": 78,
      "id": "6779688a",
      "metadata": {},
      "outputs": [],
      "source": [
        "query_5_7_3 = f'''\n",
        "                select\n",
        "                    --название региона \n",
        "                    a.name \"регион\",\n",
        "                    --количество вакансий в нем\n",
        "                    count(v.id) \"количество вакансий\"\n",
        "                --к таблице вакансий       \n",
        "                from vacancies v \n",
        "                    --присоединяем таблицу работодателей по id работодателя\n",
        "                    join employers e on v.employer_id = e.id\n",
        "                    --присоединяем таблицу регионов по id региона\n",
        "                    join areas a on v.area_id = a.id\n",
        "                --фильтарция по имени работодателя\n",
        "                where e.name like 'Яндекс'\n",
        "                --группировка по регионам\n",
        "                group by a.id\n",
        "                --фильтарция только городов миллионников\n",
        "                having a.name in {large_cities_500_1000}\n",
        "                '''\n",
        "df_5_7_3 = pd.read_sql_query(query_5_7_3, connection)\n",
        "# присоединяем полученный DF\n",
        "large_cities_500_1000_df =  df_5_7_3.join(\n",
        "    cities.set_index('city'),\n",
        "    on='регион',\n",
        "    how='left'\n",
        "# и сортируем по количеству вакансий\n",
        ").sort_values(by='количество вакансий', ascending=False)"
      ]
    },
    {
      "cell_type": "code",
      "execution_count": 79,
      "id": "37eea11c",
      "metadata": {},
      "outputs": [],
      "source": [
        "query_5_7_4 = f'''\n",
        "                select\n",
        "                    a.name \"регион\",\n",
        "                    count(v.id) \"количество вакансий\"     \n",
        "                from vacancies v \n",
        "                    join employers e on v.employer_id = e.id\n",
        "                    join areas a on v.area_id = a.id\n",
        "                where e.name like 'Яндекс'\n",
        "                group by a.id\n",
        "                having a.name in {large_cities_250_500}\n",
        "                '''\n",
        "df_5_7_4 = pd.read_sql_query(query_5_7_4, connection)\n",
        "# присоединяем полученный DF\n",
        "large_cities_250_500_df =  df_5_7_4.join(\n",
        "    cities.set_index('city'),\n",
        "    on='регион',\n",
        "    how='left'\n",
        "# и сортируем по количеству вакансий\n",
        ").sort_values(by='количество вакансий', ascending=False)"
      ]
    },
    {
      "cell_type": "code",
      "execution_count": 80,
      "id": "b407768b",
      "metadata": {},
      "outputs": [],
      "source": [
        "query_5_7_5 = f'''\n",
        "                select\n",
        "                    a.name \"регион\",\n",
        "                    count(v.id) \"количество вакансий\"     \n",
        "                from vacancies v \n",
        "                    join employers e on v.employer_id = e.id\n",
        "                    join areas a on v.area_id = a.id\n",
        "                where e.name like 'Яндекс'\n",
        "                group by a.id\n",
        "                having a.name in {big_cities}\n",
        "                '''\n",
        "df_5_7_5 = pd.read_sql_query(query_5_7_5, connection)\n",
        "# присоединяем полученный DF\n",
        "big_cities_df =  df_5_7_5.join(\n",
        "    cities.set_index('city'),\n",
        "    on='регион',\n",
        "    how='left'\n",
        "# и сортируем по количеству вакансий\n",
        ").sort_values(by='количество вакансий', ascending=False)"
      ]
    },
    {
      "cell_type": "code",
      "execution_count": 81,
      "id": "cbaa2915",
      "metadata": {},
      "outputs": [],
      "source": [
        "query_5_7_6 = f'''\n",
        "                select\n",
        "                    a.name \"регион\",\n",
        "                    count(v.id) \"количество вакансий\"     \n",
        "                from vacancies v \n",
        "                    join employers e on v.employer_id = e.id\n",
        "                    join areas a on v.area_id = a.id\n",
        "                where e.name like 'Яндекс'\n",
        "                group by a.id\n",
        "                having a.name in {middle_cities}\n",
        "                '''\n",
        "df_5_7_6 = pd.read_sql_query(query_5_7_6, connection)\n",
        "# присоединяем полученный DF\n",
        "middle_cities_df =  df_5_7_6.join(\n",
        "    cities.set_index('city'),\n",
        "    on='регион',\n",
        "    how='left'\n",
        "# и сортируем по количеству вакансий\n",
        ").sort_values(by='количество вакансий', ascending=False)"
      ]
    },
    {
      "cell_type": "code",
      "execution_count": 82,
      "id": "d177c787",
      "metadata": {},
      "outputs": [
        {
          "data": {
            "application/vnd.plotly.v1+json": {
              "config": {
                "plotlyServerURL": "https://plot.ly"
              },
              "data": [
                {
                  "lat": [
                    55.7540471,
                    59.9391313,
                    56.8385216,
                    56.3240627,
                    55.028191,
                    51.6593332,
                    45.0401604,
                    53.1950306,
                    54.734944,
                    58.0102583,
                    47.2224566,
                    55.7943584,
                    48.7070042,
                    56.0093879,
                    55.1602624,
                    54.9848566
                  ],
                  "lon": [
                    37.620405,
                    30.3159004,
                    60.6054911,
                    44.0053913,
                    82.9211489,
                    39.1969229,
                    38.9759647,
                    50.1069518,
                    55.9578468,
                    56.2342034,
                    39.718803,
                    49.1114975,
                    44.5170339,
                    92.8524806,
                    61.4008078,
                    73.3674517
                  ],
                  "marker": {
                    "size": [
                      54,
                      42,
                      39,
                      36,
                      35,
                      32,
                      30,
                      26,
                      26,
                      25,
                      25,
                      25,
                      24,
                      23,
                      22,
                      21
                    ]
                  },
                  "name": "Города миллионники",
                  "text": [
                    "Город: Москва.<br>Количество вакансий 54 шт.",
                    "Город: Санкт-Петербург.<br>Количество вакансий 42 шт.",
                    "Город: Екатеринбург.<br>Количество вакансий 39 шт.",
                    "Город: Нижний Новгород.<br>Количество вакансий 36 шт.",
                    "Город: Новосибирск.<br>Количество вакансий 35 шт.",
                    "Город: Воронеж.<br>Количество вакансий 32 шт.",
                    "Город: Краснодар.<br>Количество вакансий 30 шт.",
                    "Город: Самара.<br>Количество вакансий 26 шт.",
                    "Город: Уфа.<br>Количество вакансий 26 шт.",
                    "Город: Пермь.<br>Количество вакансий 25 шт.",
                    "Город: Ростов-на-Дону.<br>Количество вакансий 25 шт.",
                    "Город: Казань.<br>Количество вакансий 25 шт.",
                    "Город: Волгоград.<br>Количество вакансий 24 шт.",
                    "Город: Красноярск.<br>Количество вакансий 23 шт.",
                    "Город: Челябинск.<br>Количество вакансий 22 шт.",
                    "Город: Омск.<br>Количество вакансий 21 шт."
                  ],
                  "type": "scattermapbox"
                },
                {
                  "lat": [
                    43.1164904,
                    51.7875092,
                    48.4647258,
                    52.2864036,
                    57.6215477,
                    51.533557,
                    56.852738,
                    53.5205348,
                    42.9849159,
                    53.3479968,
                    53.1753314,
                    57.1529744,
                    54.3079415,
                    56.4845804,
                    54.6254445,
                    55.3910651,
                    45.044516,
                    55.7434619,
                    44.6167013,
                    55.796389,
                    53.794315
                  ],
                  "lon": [
                    131.8823937,
                    55.1018828,
                    135.0598942,
                    104.2807466,
                    39.8977411,
                    46.034257,
                    53.2114896,
                    49.3894028,
                    47.5047181,
                    83.7798064,
                    45.0348625,
                    65.5344099,
                    48.3748487,
                    84.9481582,
                    39.7358609,
                    86.0467781,
                    41.9689655,
                    52.3959165,
                    33.525355,
                    37.938283,
                    87.2142745
                  ],
                  "marker": {
                    "size": [
                      27,
                      24,
                      24,
                      23,
                      23,
                      23,
                      23,
                      22,
                      21,
                      20,
                      20,
                      20,
                      19,
                      19,
                      19,
                      19,
                      16,
                      14,
                      13,
                      9,
                      7
                    ]
                  },
                  "name": "Крупные города 500 тыс.- миллион человек",
                  "text": [
                    "Город: Владивосток.<br>Количество вакансий 27 шт.",
                    "Город: Оренбург.<br>Количество вакансий 24 шт.",
                    "Город: Хабаровск.<br>Количество вакансий 24 шт.",
                    "Город: Иркутск.<br>Количество вакансий 23 шт.",
                    "Город: Ярославль.<br>Количество вакансий 23 шт.",
                    "Город: Саратов.<br>Количество вакансий 23 шт.",
                    "Город: Ижевск.<br>Количество вакансий 23 шт.",
                    "Город: Тольятти.<br>Количество вакансий 22 шт.",
                    "Город: Махачкала.<br>Количество вакансий 21 шт.",
                    "Город: Барнаул.<br>Количество вакансий 20 шт.",
                    "Город: Пенза.<br>Количество вакансий 20 шт.",
                    "Город: Тюмень.<br>Количество вакансий 20 шт.",
                    "Город: Ульяновск.<br>Количество вакансий 19 шт.",
                    "Город: Томск.<br>Количество вакансий 19 шт.",
                    "Город: Рязань.<br>Количество вакансий 19 шт.",
                    "Город: Кемерово.<br>Количество вакансий 19 шт.",
                    "Город: Ставрополь.<br>Количество вакансий 16 шт.",
                    "Город: Набережные Челны.<br>Количество вакансий 14 шт.",
                    "Город: Севастополь.<br>Количество вакансий 13 шт.",
                    "Город: Балашиха.<br>Количество вакансий 9 шт.",
                    "Город: Новокузнецк.<br>Количество вакансий 7 шт."
                  ],
                  "type": "scattermapbox"
                },
                {
                  "lat": [
                    46.3655652,
                    43.5854551,
                    44.9482948,
                    54.1920559,
                    43.3180145,
                    54.1809332,
                    54.5059848,
                    52.610249,
                    56.8586059,
                    54.7074702,
                    50.5976472,
                    51.7303637,
                    51.8335853,
                    52.0340142,
                    53.2419535,
                    53.4072153,
                    56.1438298,
                    52.7213154,
                    54.782635,
                    61.2541083,
                    44.7235026,
                    64.5394289,
                    43.020588,
                    56.6343662,
                    57.768,
                    59.2483905,
                    55.4443883,
                    62.0281405,
                    56.1280804,
                    59.1269212,
                    69.007721,
                    53.6300864,
                    60.9396698,
                    55.9105782,
                    57.910126,
                    55.888657
                  ],
                  "lon": [
                    48.0559236,
                    39.7231548,
                    34.1001151,
                    37.6153842,
                    45.698291,
                    45.1862632,
                    36.2516245,
                    39.5947883,
                    35.9116761,
                    20.5073241,
                    36.5856652,
                    36.1925603,
                    107.5842223,
                    113.4994,
                    34.3652146,
                    58.9791437,
                    47.2489782,
                    41.452264,
                    32.045251,
                    73.3961587,
                    37.7686135,
                    40.5169606,
                    44.6819182,
                    47.8999706,
                    40.927,
                    39.8355662,
                    65.3161963,
                    129.7325887,
                    40.4084376,
                    37.9090497,
                    33.0685865,
                    55.9317089,
                    76.5696184,
                    37.7363579,
                    59.9812853,
                    37.4303702
                  ],
                  "marker": {
                    "size": [
                      21,
                      19,
                      16,
                      16,
                      15,
                      15,
                      14,
                      14,
                      14,
                      14,
                      14,
                      13,
                      13,
                      13,
                      13,
                      12,
                      12,
                      12,
                      12,
                      11,
                      11,
                      11,
                      11,
                      11,
                      11,
                      11,
                      10,
                      9,
                      8,
                      8,
                      7,
                      7,
                      7,
                      7,
                      5,
                      5
                    ]
                  },
                  "name": "Крупные города 250-500 тыс.человек",
                  "text": [
                    "Город: Астрахань.<br>Количество вакансий 21 шт.",
                    "Город: Сочи.<br>Количество вакансий 19 шт.",
                    "Город: Симферополь.<br>Количество вакансий 16 шт.",
                    "Город: Тула.<br>Количество вакансий 16 шт.",
                    "Город: Грозный.<br>Количество вакансий 15 шт.",
                    "Город: Саранск.<br>Количество вакансий 15 шт.",
                    "Город: Калуга.<br>Количество вакансий 14 шт.",
                    "Город: Липецк.<br>Количество вакансий 14 шт.",
                    "Город: Тверь.<br>Количество вакансий 14 шт.",
                    "Город: Калининград.<br>Количество вакансий 14 шт.",
                    "Город: Белгород.<br>Количество вакансий 14 шт.",
                    "Город: Курск.<br>Количество вакансий 13 шт.",
                    "Город: Улан-Удэ.<br>Количество вакансий 13 шт.",
                    "Город: Чита.<br>Количество вакансий 13 шт.",
                    "Город: Брянск.<br>Количество вакансий 13 шт.",
                    "Город: Магнитогорск.<br>Количество вакансий 12 шт.",
                    "Город: Чебоксары.<br>Количество вакансий 12 шт.",
                    "Город: Тамбов.<br>Количество вакансий 12 шт.",
                    "Город: Смоленск.<br>Количество вакансий 12 шт.",
                    "Город: Сургут.<br>Количество вакансий 11 шт.",
                    "Город: Новороссийск.<br>Количество вакансий 11 шт.",
                    "Город: Архангельск.<br>Количество вакансий 11 шт.",
                    "Город: Владикавказ.<br>Количество вакансий 11 шт.",
                    "Город: Йошкар-Ола.<br>Количество вакансий 11 шт.",
                    "Город: Кострома.<br>Количество вакансий 11 шт.",
                    "Город: Вологда.<br>Количество вакансий 11 шт.",
                    "Город: Курган.<br>Количество вакансий 10 шт.",
                    "Город: Якутск.<br>Количество вакансий 9 шт.",
                    "Город: Владимир.<br>Количество вакансий 8 шт.",
                    "Город: Череповец.<br>Количество вакансий 8 шт.",
                    "Город: Мурманск.<br>Количество вакансий 7 шт.",
                    "Город: Стерлитамак.<br>Количество вакансий 7 шт.",
                    "Город: Нижневартовск.<br>Количество вакансий 7 шт.",
                    "Город: Мытищи.<br>Количество вакансий 7 шт.",
                    "Город: Нижний Тагил.<br>Количество вакансий 5 шт.",
                    "Город: Химки.<br>Количество вакансий 5 шт."
                  ],
                  "type": "scattermapbox"
                },
                {
                  "lat": [
                    46.9591631,
                    42.8239372,
                    50.5498936,
                    53.036908,
                    43.7971818,
                    44.041091,
                    61.7891264,
                    58.5213846,
                    47.2094917,
                    45.0012149,
                    null,
                    61.6686617,
                    58.0485495,
                    57.8194415,
                    55.0943144,
                    55.102814,
                    43.2257841,
                    56.3554349,
                    55.6313609,
                    54.9014619,
                    55.5495132,
                    54.9226466,
                    43.4845464,
                    44.0446186,
                    44.6098268,
                    45.3562627,
                    52.5393864,
                    53.7223325,
                    51.4854003,
                    43.2504665,
                    56.088377,
                    56.1094977,
                    52.544879,
                    51.2967101,
                    55.3945814,
                    55.4363283,
                    51.2294282,
                    55.676499,
                    55.599803,
                    44.2269425,
                    66.0839433,
                    55.9385999,
                    53.3616974,
                    null,
                    55.8317203,
                    null,
                    46.3083344,
                    64.5625385,
                    55.7582621,
                    54.2167926,
                    53.1558674,
                    59.4079923,
                    43.9052044,
                    55.0456457,
                    54.7582156,
                    42.058966,
                    61.0882676,
                    47.411919,
                    47.5165338,
                    56.9080085,
                    50.0651529,
                    44.6226031,
                    51.7191047,
                    63.2018039,
                    55.1714905,
                    55.116665,
                    55.7847291,
                    45.190629,
                    42.8916007,
                    47.7085287,
                    52.0224231,
                    51.5012067,
                    61.0023984,
                    47.1383299,
                    55.5630311,
                    56.1513108,
                    56.253907,
                    47.757773,
                    56.414962,
                    null,
                    53.8604265,
                    69.3489978
                  ],
                  "lon": [
                    142.737976,
                    132.8927361,
                    137.0079408,
                    158.6559254,
                    131.9518229,
                    43.0661553,
                    34.3596434,
                    31.2755394,
                    38.9350989,
                    41.1324168,
                    null,
                    50.8358151,
                    38.8584119,
                    28.3317198,
                    36.6121639,
                    38.7531002,
                    44.7645779,
                    41.3170576,
                    51.8144669,
                    52.2970467,
                    38.2728914,
                    37.4033859,
                    43.60713,
                    42.8588653,
                    40.1006606,
                    36.4674513,
                    85.2138453,
                    91.4436721,
                    46.126722,
                    46.5851292,
                    54.2483061,
                    47.4791113,
                    103.888543,
                    37.8350182,
                    43.8408141,
                    37.7664984,
                    58.4752777,
                    37.898125,
                    38.1224298,
                    42.0466704,
                    76.6809681,
                    37.5101021,
                    55.9245224,
                    null,
                    37.3295266,
                    null,
                    44.2702088,
                    39.8180934,
                    37.8618553,
                    49.6262585,
                    48.4744629,
                    56.8039427,
                    42.7168721,
                    60.1077572,
                    83.1070605,
                    48.2907452,
                    72.6164079,
                    40.1042098,
                    42.1984951,
                    59.942926,
                    45.3844202,
                    41.9476723,
                    94.4376882,
                    75.4510581,
                    59.6725549,
                    61.6179185,
                    38.4447045,
                    33.367634,
                    47.6367066,
                    40.2159846,
                    47.7827765,
                    81.2078695,
                    69.0184798,
                    39.7507179,
                    42.0231362,
                    101.6340035,
                    90.4794397,
                    39.9363697,
                    61.9188674,
                    null,
                    86.7183577,
                    88.2009846
                  ],
                  "marker": {
                    "size": [
                      20,
                      20,
                      18,
                      18,
                      18,
                      15,
                      13,
                      12,
                      9,
                      9,
                      8,
                      8,
                      8,
                      7,
                      7,
                      6,
                      6,
                      6,
                      6,
                      6,
                      6,
                      6,
                      6,
                      6,
                      6,
                      6,
                      6,
                      6,
                      5,
                      5,
                      5,
                      5,
                      5,
                      5,
                      5,
                      5,
                      5,
                      5,
                      5,
                      5,
                      5,
                      5,
                      5,
                      4,
                      4,
                      4,
                      4,
                      4,
                      4,
                      4,
                      4,
                      4,
                      4,
                      4,
                      4,
                      4,
                      4,
                      4,
                      4,
                      4,
                      4,
                      4,
                      3,
                      3,
                      3,
                      3,
                      3,
                      3,
                      3,
                      3,
                      3,
                      3,
                      3,
                      3,
                      3,
                      3,
                      3,
                      3,
                      2,
                      2,
                      2,
                      1
                    ]
                  },
                  "name": "Большие города 100-250 тыс.человек",
                  "text": [
                    "Город: Южно-Сахалинск.<br>Количество вакансий 20 шт.",
                    "Город: Находка.<br>Количество вакансий 20 шт.",
                    "Город: Комсомольск-на-Амуре.<br>Количество вакансий 18 шт.",
                    "Город: Петропавловск-Камчатский.<br>Количество вакансий 18 шт.",
                    "Город: Уссурийск.<br>Количество вакансий 18 шт.",
                    "Город: Пятигорск.<br>Количество вакансий 15 шт.",
                    "Город: Петрозаводск.<br>Количество вакансий 13 шт.",
                    "Город: Великий Новгород.<br>Количество вакансий 12 шт.",
                    "Город: Таганрог.<br>Количество вакансий 9 шт.",
                    "Город: Армавир.<br>Количество вакансий 9 шт.",
                    "Город: Одинцово.<br>Количество вакансий 8 шт.",
                    "Город: Сыктывкар.<br>Количество вакансий 8 шт.",
                    "Город: Рыбинск.<br>Количество вакансий 8 шт.",
                    "Город: Псков.<br>Количество вакансий 7 шт.",
                    "Город: Обнинск.<br>Количество вакансий 7 шт.",
                    "Город: Коломна.<br>Количество вакансий 6 шт.",
                    "Город: Назрань.<br>Количество вакансий 6 шт.",
                    "Город: Ковров.<br>Количество вакансий 6 шт.",
                    "Город: Нижнекамск.<br>Количество вакансий 6 шт.",
                    "Город: Альметьевск.<br>Количество вакансий 6 шт.",
                    "Город: Раменское.<br>Количество вакансий 6 шт.",
                    "Город: Серпухов.<br>Количество вакансий 6 шт.",
                    "Город: Нальчик.<br>Количество вакансий 6 шт.",
                    "Город: Ессентуки.<br>Количество вакансий 6 шт.",
                    "Город: Майкоп.<br>Количество вакансий 6 шт.",
                    "Город: Керчь.<br>Количество вакансий 6 шт.",
                    "Город: Бийск.<br>Количество вакансий 6 шт.",
                    "Город: Абакан.<br>Количество вакансий 6 шт.",
                    "Город: Энгельс.<br>Количество вакансий 5 шт.",
                    "Город: Хасавюрт.<br>Количество вакансий 5 шт.",
                    "Город: Нефтекамск.<br>Количество вакансий 5 шт.",
                    "Город: Новочебоксарск.<br>Количество вакансий 5 шт.",
                    "Город: Ангарск.<br>Количество вакансий 5 шт.",
                    "Город: Старый Оскол.<br>Количество вакансий 5 шт.",
                    "Город: Арзамас.<br>Количество вакансий 5 шт.",
                    "Город: Домодедово.<br>Количество вакансий 5 шт.",
                    "Город: Орск.<br>Количество вакансий 5 шт.",
                    "Город: Люберцы.<br>Количество вакансий 5 шт.",
                    "Город: Жуковский.<br>Количество вакансий 5 шт.",
                    "Город: Черкесск.<br>Количество вакансий 5 шт.",
                    "Город: Новый Уренгой.<br>Количество вакансий 5 шт.",
                    "Город: Долгопрудный.<br>Количество вакансий 5 шт.",
                    "Город: Салават.<br>Количество вакансий 5 шт.",
                    "Город: Ногинск.<br>Количество вакансий 4 шт.",
                    "Город: Красногорск.<br>Количество вакансий 4 шт.",
                    "Город: Сергиев Посад.<br>Количество вакансий 4 шт.",
                    "Город: Элиста.<br>Количество вакансий 4 шт.",
                    "Город: Северодвинск.<br>Количество вакансий 4 шт.",
                    "Город: Реутов.<br>Количество вакансий 4 шт.",
                    "Город: Димитровград.<br>Количество вакансий 4 шт.",
                    "Город: Сызрань.<br>Количество вакансий 4 шт.",
                    "Город: Березники.<br>Количество вакансий 4 шт.",
                    "Город: Кисловодск.<br>Количество вакансий 4 шт.",
                    "Город: Миасс.<br>Количество вакансий 4 шт.",
                    "Город: Бердск.<br>Количество вакансий 4 шт.",
                    "Город: Дербент.<br>Количество вакансий 4 шт.",
                    "Город: Нефтеюганск.<br>Количество вакансий 4 шт.",
                    "Город: Новочеркасск.<br>Количество вакансий 4 шт.",
                    "Город: Волгодонск.<br>Количество вакансий 4 шт.",
                    "Город: Первоуральск.<br>Количество вакансий 4 шт.",
                    "Город: Камышин.<br>Количество вакансий 4 шт.",
                    "Город: Невинномысск.<br>Количество вакансий 4 шт.",
                    "Город: Кызыл.<br>Количество вакансий 3 шт.",
                    "Город: Ноябрьск.<br>Количество вакансий 3 шт.",
                    "Город: Златоуст.<br>Количество вакансий 3 шт.",
                    "Город: Копейск.<br>Количество вакансий 3 шт.",
                    "Город: Электросталь.<br>Количество вакансий 3 шт.",
                    "Город: Евпатория.<br>Количество вакансий 3 шт.",
                    "Город: Каспийск.<br>Количество вакансий 3 шт.",
                    "Город: Шахты.<br>Количество вакансий 3 шт.",
                    "Город: Балаково.<br>Количество вакансий 3 шт.",
                    "Город: Рубцовск.<br>Количество вакансий 3 шт.",
                    "Город: Ханты-Мансийск.<br>Количество вакансий 3 шт.",
                    "Город: Батайск.<br>Количество вакансий 3 шт.",
                    "Город: Муром.<br>Количество вакансий 3 шт.",
                    "Город: Братск.<br>Количество вакансий 3 шт.",
                    "Город: Ачинск.<br>Количество вакансий 3 шт.",
                    "Город: Новошахтинск.<br>Количество вакансий 3 шт.",
                    "Город: Каменск-Уральский.<br>Количество вакансий 2 шт.",
                    "Город: Орехово-Зуево.<br>Количество вакансий 2 шт.",
                    "Город: Прокопьевск.<br>Количество вакансий 2 шт.",
                    "Город: Норильск.<br>Количество вакансий 1 шт."
                  ],
                  "type": "scattermapbox"
                },
                {
                  "lat": [
                    53.0994565,
                    52.6152411,
                    55.9741665
                  ],
                  "lon": [
                    49.9477382,
                    38.5289342,
                    37.9207539
                  ],
                  "marker": {
                    "size": [
                      6,
                      4,
                      1
                    ]
                  },
                  "name": "Средние города 50-100 тыс.человек",
                  "text": [
                    "Город: Новокуйбышевск.<br>Количество вакансий 6 шт.",
                    "Город: Елец.<br>Количество вакансий 4 шт.",
                    "Город: Ивантеевка.<br>Количество вакансий 1 шт."
                  ],
                  "type": "scattermapbox"
                }
              ],
              "layout": {
                "legend": {
                  "orientation": "h",
                  "x": 0.5,
                  "xanchor": "center"
                },
                "mapbox": {
                  "center": {
                    "lat": 55.88031605,
                    "lon": 98.70779965
                  },
                  "style": "open-street-map",
                  "zoom": 2
                },
                "template": {
                  "data": {
                    "bar": [
                      {
                        "error_x": {
                          "color": "#2a3f5f"
                        },
                        "error_y": {
                          "color": "#2a3f5f"
                        },
                        "marker": {
                          "line": {
                            "color": "#E5ECF6",
                            "width": 0.5
                          },
                          "pattern": {
                            "fillmode": "overlay",
                            "size": 10,
                            "solidity": 0.2
                          }
                        },
                        "type": "bar"
                      }
                    ],
                    "barpolar": [
                      {
                        "marker": {
                          "line": {
                            "color": "#E5ECF6",
                            "width": 0.5
                          },
                          "pattern": {
                            "fillmode": "overlay",
                            "size": 10,
                            "solidity": 0.2
                          }
                        },
                        "type": "barpolar"
                      }
                    ],
                    "carpet": [
                      {
                        "aaxis": {
                          "endlinecolor": "#2a3f5f",
                          "gridcolor": "white",
                          "linecolor": "white",
                          "minorgridcolor": "white",
                          "startlinecolor": "#2a3f5f"
                        },
                        "baxis": {
                          "endlinecolor": "#2a3f5f",
                          "gridcolor": "white",
                          "linecolor": "white",
                          "minorgridcolor": "white",
                          "startlinecolor": "#2a3f5f"
                        },
                        "type": "carpet"
                      }
                    ],
                    "choropleth": [
                      {
                        "colorbar": {
                          "outlinewidth": 0,
                          "ticks": ""
                        },
                        "type": "choropleth"
                      }
                    ],
                    "contour": [
                      {
                        "colorbar": {
                          "outlinewidth": 0,
                          "ticks": ""
                        },
                        "colorscale": [
                          [
                            0,
                            "#0d0887"
                          ],
                          [
                            0.1111111111111111,
                            "#46039f"
                          ],
                          [
                            0.2222222222222222,
                            "#7201a8"
                          ],
                          [
                            0.3333333333333333,
                            "#9c179e"
                          ],
                          [
                            0.4444444444444444,
                            "#bd3786"
                          ],
                          [
                            0.5555555555555556,
                            "#d8576b"
                          ],
                          [
                            0.6666666666666666,
                            "#ed7953"
                          ],
                          [
                            0.7777777777777778,
                            "#fb9f3a"
                          ],
                          [
                            0.8888888888888888,
                            "#fdca26"
                          ],
                          [
                            1,
                            "#f0f921"
                          ]
                        ],
                        "type": "contour"
                      }
                    ],
                    "contourcarpet": [
                      {
                        "colorbar": {
                          "outlinewidth": 0,
                          "ticks": ""
                        },
                        "type": "contourcarpet"
                      }
                    ],
                    "heatmap": [
                      {
                        "colorbar": {
                          "outlinewidth": 0,
                          "ticks": ""
                        },
                        "colorscale": [
                          [
                            0,
                            "#0d0887"
                          ],
                          [
                            0.1111111111111111,
                            "#46039f"
                          ],
                          [
                            0.2222222222222222,
                            "#7201a8"
                          ],
                          [
                            0.3333333333333333,
                            "#9c179e"
                          ],
                          [
                            0.4444444444444444,
                            "#bd3786"
                          ],
                          [
                            0.5555555555555556,
                            "#d8576b"
                          ],
                          [
                            0.6666666666666666,
                            "#ed7953"
                          ],
                          [
                            0.7777777777777778,
                            "#fb9f3a"
                          ],
                          [
                            0.8888888888888888,
                            "#fdca26"
                          ],
                          [
                            1,
                            "#f0f921"
                          ]
                        ],
                        "type": "heatmap"
                      }
                    ],
                    "heatmapgl": [
                      {
                        "colorbar": {
                          "outlinewidth": 0,
                          "ticks": ""
                        },
                        "colorscale": [
                          [
                            0,
                            "#0d0887"
                          ],
                          [
                            0.1111111111111111,
                            "#46039f"
                          ],
                          [
                            0.2222222222222222,
                            "#7201a8"
                          ],
                          [
                            0.3333333333333333,
                            "#9c179e"
                          ],
                          [
                            0.4444444444444444,
                            "#bd3786"
                          ],
                          [
                            0.5555555555555556,
                            "#d8576b"
                          ],
                          [
                            0.6666666666666666,
                            "#ed7953"
                          ],
                          [
                            0.7777777777777778,
                            "#fb9f3a"
                          ],
                          [
                            0.8888888888888888,
                            "#fdca26"
                          ],
                          [
                            1,
                            "#f0f921"
                          ]
                        ],
                        "type": "heatmapgl"
                      }
                    ],
                    "histogram": [
                      {
                        "marker": {
                          "pattern": {
                            "fillmode": "overlay",
                            "size": 10,
                            "solidity": 0.2
                          }
                        },
                        "type": "histogram"
                      }
                    ],
                    "histogram2d": [
                      {
                        "colorbar": {
                          "outlinewidth": 0,
                          "ticks": ""
                        },
                        "colorscale": [
                          [
                            0,
                            "#0d0887"
                          ],
                          [
                            0.1111111111111111,
                            "#46039f"
                          ],
                          [
                            0.2222222222222222,
                            "#7201a8"
                          ],
                          [
                            0.3333333333333333,
                            "#9c179e"
                          ],
                          [
                            0.4444444444444444,
                            "#bd3786"
                          ],
                          [
                            0.5555555555555556,
                            "#d8576b"
                          ],
                          [
                            0.6666666666666666,
                            "#ed7953"
                          ],
                          [
                            0.7777777777777778,
                            "#fb9f3a"
                          ],
                          [
                            0.8888888888888888,
                            "#fdca26"
                          ],
                          [
                            1,
                            "#f0f921"
                          ]
                        ],
                        "type": "histogram2d"
                      }
                    ],
                    "histogram2dcontour": [
                      {
                        "colorbar": {
                          "outlinewidth": 0,
                          "ticks": ""
                        },
                        "colorscale": [
                          [
                            0,
                            "#0d0887"
                          ],
                          [
                            0.1111111111111111,
                            "#46039f"
                          ],
                          [
                            0.2222222222222222,
                            "#7201a8"
                          ],
                          [
                            0.3333333333333333,
                            "#9c179e"
                          ],
                          [
                            0.4444444444444444,
                            "#bd3786"
                          ],
                          [
                            0.5555555555555556,
                            "#d8576b"
                          ],
                          [
                            0.6666666666666666,
                            "#ed7953"
                          ],
                          [
                            0.7777777777777778,
                            "#fb9f3a"
                          ],
                          [
                            0.8888888888888888,
                            "#fdca26"
                          ],
                          [
                            1,
                            "#f0f921"
                          ]
                        ],
                        "type": "histogram2dcontour"
                      }
                    ],
                    "mesh3d": [
                      {
                        "colorbar": {
                          "outlinewidth": 0,
                          "ticks": ""
                        },
                        "type": "mesh3d"
                      }
                    ],
                    "parcoords": [
                      {
                        "line": {
                          "colorbar": {
                            "outlinewidth": 0,
                            "ticks": ""
                          }
                        },
                        "type": "parcoords"
                      }
                    ],
                    "pie": [
                      {
                        "automargin": true,
                        "type": "pie"
                      }
                    ],
                    "scatter": [
                      {
                        "fillpattern": {
                          "fillmode": "overlay",
                          "size": 10,
                          "solidity": 0.2
                        },
                        "type": "scatter"
                      }
                    ],
                    "scatter3d": [
                      {
                        "line": {
                          "colorbar": {
                            "outlinewidth": 0,
                            "ticks": ""
                          }
                        },
                        "marker": {
                          "colorbar": {
                            "outlinewidth": 0,
                            "ticks": ""
                          }
                        },
                        "type": "scatter3d"
                      }
                    ],
                    "scattercarpet": [
                      {
                        "marker": {
                          "colorbar": {
                            "outlinewidth": 0,
                            "ticks": ""
                          }
                        },
                        "type": "scattercarpet"
                      }
                    ],
                    "scattergeo": [
                      {
                        "marker": {
                          "colorbar": {
                            "outlinewidth": 0,
                            "ticks": ""
                          }
                        },
                        "type": "scattergeo"
                      }
                    ],
                    "scattergl": [
                      {
                        "marker": {
                          "colorbar": {
                            "outlinewidth": 0,
                            "ticks": ""
                          }
                        },
                        "type": "scattergl"
                      }
                    ],
                    "scattermapbox": [
                      {
                        "marker": {
                          "colorbar": {
                            "outlinewidth": 0,
                            "ticks": ""
                          }
                        },
                        "type": "scattermapbox"
                      }
                    ],
                    "scatterpolar": [
                      {
                        "marker": {
                          "colorbar": {
                            "outlinewidth": 0,
                            "ticks": ""
                          }
                        },
                        "type": "scatterpolar"
                      }
                    ],
                    "scatterpolargl": [
                      {
                        "marker": {
                          "colorbar": {
                            "outlinewidth": 0,
                            "ticks": ""
                          }
                        },
                        "type": "scatterpolargl"
                      }
                    ],
                    "scatterternary": [
                      {
                        "marker": {
                          "colorbar": {
                            "outlinewidth": 0,
                            "ticks": ""
                          }
                        },
                        "type": "scatterternary"
                      }
                    ],
                    "surface": [
                      {
                        "colorbar": {
                          "outlinewidth": 0,
                          "ticks": ""
                        },
                        "colorscale": [
                          [
                            0,
                            "#0d0887"
                          ],
                          [
                            0.1111111111111111,
                            "#46039f"
                          ],
                          [
                            0.2222222222222222,
                            "#7201a8"
                          ],
                          [
                            0.3333333333333333,
                            "#9c179e"
                          ],
                          [
                            0.4444444444444444,
                            "#bd3786"
                          ],
                          [
                            0.5555555555555556,
                            "#d8576b"
                          ],
                          [
                            0.6666666666666666,
                            "#ed7953"
                          ],
                          [
                            0.7777777777777778,
                            "#fb9f3a"
                          ],
                          [
                            0.8888888888888888,
                            "#fdca26"
                          ],
                          [
                            1,
                            "#f0f921"
                          ]
                        ],
                        "type": "surface"
                      }
                    ],
                    "table": [
                      {
                        "cells": {
                          "fill": {
                            "color": "#EBF0F8"
                          },
                          "line": {
                            "color": "white"
                          }
                        },
                        "header": {
                          "fill": {
                            "color": "#C8D4E3"
                          },
                          "line": {
                            "color": "white"
                          }
                        },
                        "type": "table"
                      }
                    ]
                  },
                  "layout": {
                    "annotationdefaults": {
                      "arrowcolor": "#2a3f5f",
                      "arrowhead": 0,
                      "arrowwidth": 1
                    },
                    "autotypenumbers": "strict",
                    "coloraxis": {
                      "colorbar": {
                        "outlinewidth": 0,
                        "ticks": ""
                      }
                    },
                    "colorscale": {
                      "diverging": [
                        [
                          0,
                          "#8e0152"
                        ],
                        [
                          0.1,
                          "#c51b7d"
                        ],
                        [
                          0.2,
                          "#de77ae"
                        ],
                        [
                          0.3,
                          "#f1b6da"
                        ],
                        [
                          0.4,
                          "#fde0ef"
                        ],
                        [
                          0.5,
                          "#f7f7f7"
                        ],
                        [
                          0.6,
                          "#e6f5d0"
                        ],
                        [
                          0.7,
                          "#b8e186"
                        ],
                        [
                          0.8,
                          "#7fbc41"
                        ],
                        [
                          0.9,
                          "#4d9221"
                        ],
                        [
                          1,
                          "#276419"
                        ]
                      ],
                      "sequential": [
                        [
                          0,
                          "#0d0887"
                        ],
                        [
                          0.1111111111111111,
                          "#46039f"
                        ],
                        [
                          0.2222222222222222,
                          "#7201a8"
                        ],
                        [
                          0.3333333333333333,
                          "#9c179e"
                        ],
                        [
                          0.4444444444444444,
                          "#bd3786"
                        ],
                        [
                          0.5555555555555556,
                          "#d8576b"
                        ],
                        [
                          0.6666666666666666,
                          "#ed7953"
                        ],
                        [
                          0.7777777777777778,
                          "#fb9f3a"
                        ],
                        [
                          0.8888888888888888,
                          "#fdca26"
                        ],
                        [
                          1,
                          "#f0f921"
                        ]
                      ],
                      "sequentialminus": [
                        [
                          0,
                          "#0d0887"
                        ],
                        [
                          0.1111111111111111,
                          "#46039f"
                        ],
                        [
                          0.2222222222222222,
                          "#7201a8"
                        ],
                        [
                          0.3333333333333333,
                          "#9c179e"
                        ],
                        [
                          0.4444444444444444,
                          "#bd3786"
                        ],
                        [
                          0.5555555555555556,
                          "#d8576b"
                        ],
                        [
                          0.6666666666666666,
                          "#ed7953"
                        ],
                        [
                          0.7777777777777778,
                          "#fb9f3a"
                        ],
                        [
                          0.8888888888888888,
                          "#fdca26"
                        ],
                        [
                          1,
                          "#f0f921"
                        ]
                      ]
                    },
                    "colorway": [
                      "#636efa",
                      "#EF553B",
                      "#00cc96",
                      "#ab63fa",
                      "#FFA15A",
                      "#19d3f3",
                      "#FF6692",
                      "#B6E880",
                      "#FF97FF",
                      "#FECB52"
                    ],
                    "font": {
                      "color": "#2a3f5f"
                    },
                    "geo": {
                      "bgcolor": "white",
                      "lakecolor": "white",
                      "landcolor": "#E5ECF6",
                      "showlakes": true,
                      "showland": true,
                      "subunitcolor": "white"
                    },
                    "hoverlabel": {
                      "align": "left"
                    },
                    "hovermode": "closest",
                    "mapbox": {
                      "style": "light"
                    },
                    "paper_bgcolor": "white",
                    "plot_bgcolor": "#E5ECF6",
                    "polar": {
                      "angularaxis": {
                        "gridcolor": "white",
                        "linecolor": "white",
                        "ticks": ""
                      },
                      "bgcolor": "#E5ECF6",
                      "radialaxis": {
                        "gridcolor": "white",
                        "linecolor": "white",
                        "ticks": ""
                      }
                    },
                    "scene": {
                      "xaxis": {
                        "backgroundcolor": "#E5ECF6",
                        "gridcolor": "white",
                        "gridwidth": 2,
                        "linecolor": "white",
                        "showbackground": true,
                        "ticks": "",
                        "zerolinecolor": "white"
                      },
                      "yaxis": {
                        "backgroundcolor": "#E5ECF6",
                        "gridcolor": "white",
                        "gridwidth": 2,
                        "linecolor": "white",
                        "showbackground": true,
                        "ticks": "",
                        "zerolinecolor": "white"
                      },
                      "zaxis": {
                        "backgroundcolor": "#E5ECF6",
                        "gridcolor": "white",
                        "gridwidth": 2,
                        "linecolor": "white",
                        "showbackground": true,
                        "ticks": "",
                        "zerolinecolor": "white"
                      }
                    },
                    "shapedefaults": {
                      "line": {
                        "color": "#2a3f5f"
                      }
                    },
                    "ternary": {
                      "aaxis": {
                        "gridcolor": "white",
                        "linecolor": "white",
                        "ticks": ""
                      },
                      "baxis": {
                        "gridcolor": "white",
                        "linecolor": "white",
                        "ticks": ""
                      },
                      "bgcolor": "#E5ECF6",
                      "caxis": {
                        "gridcolor": "white",
                        "linecolor": "white",
                        "ticks": ""
                      }
                    },
                    "title": {
                      "x": 0.05
                    },
                    "xaxis": {
                      "automargin": true,
                      "gridcolor": "white",
                      "linecolor": "white",
                      "ticks": "",
                      "title": {
                        "standoff": 15
                      },
                      "zerolinecolor": "white",
                      "zerolinewidth": 2
                    },
                    "yaxis": {
                      "automargin": true,
                      "gridcolor": "white",
                      "linecolor": "white",
                      "ticks": "",
                      "title": {
                        "standoff": 15
                      },
                      "zerolinecolor": "white",
                      "zerolinewidth": 2
                    }
                  }
                },
                "title": {
                  "text": "Распределение вакансий Яндекса по городам России",
                  "x": 0.5
                }
              }
            }
          },
          "metadata": {},
          "output_type": "display_data"
        }
      ],
      "source": [
        "# визуализируем\n",
        "# Отражаем города миллионники\n",
        "fig = go.Figure(go.Scattermapbox(name='Города миллионники',\n",
        "                                 lat=mil_df['geo_lat'], \n",
        "                                 lon=mil_df['geo_lon'],\n",
        "                                 text='Город: '+mil_df['регион']+'.<br>' \\\n",
        "                                     +'Количество вакансий '+mil_df['количество вакансий'].astype(str)+' шт.',\n",
        "                                 marker=dict(size=mil_df['количество вакансий'])))                                             \n",
        "# Добавляем крупные города 500000-1000000 человек\n",
        "fig.add_trace(go.Scattermapbox(name='Крупные города 500 тыс.- миллион человек',\n",
        "                               lat=large_cities_500_1000_df['geo_lat'], \n",
        "                               lon=large_cities_500_1000_df['geo_lon'],\n",
        "                               text='Город: '+large_cities_500_1000_df['регион']+'.<br>' \\\n",
        "                                    +'Количество вакансий '+large_cities_500_1000_df['количество вакансий'].astype(str)+' шт.',\n",
        "                               marker=dict(size=large_cities_500_1000_df['количество вакансий']))) \n",
        "\n",
        "# Добавляем крупные города 250000-500000 человек\n",
        "fig.add_trace(go.Scattermapbox(name='Крупные города 250-500 тыс.человек',\n",
        "                               lat=large_cities_250_500_df['geo_lat'], \n",
        "                               lon=large_cities_250_500_df['geo_lon'],\n",
        "                               text='Город: '+large_cities_250_500_df['регион']+'.<br>' \\\n",
        "                                    +'Количество вакансий '+large_cities_250_500_df['количество вакансий'].astype(str)+' шт.',\n",
        "                               marker=dict(size=large_cities_250_500_df['количество вакансий']))) \n",
        "\n",
        "# Добавляем большие города 100000-250000 человек\n",
        "fig.add_trace(go.Scattermapbox(name='Большие города 100-250 тыс.человек',\n",
        "                               lat=big_cities_df['geo_lat'], \n",
        "                               lon=big_cities_df['geo_lon'],\n",
        "                               text='Город: '+big_cities_df['регион']+'.<br>' \\\n",
        "                                    +'Количество вакансий '+big_cities_df['количество вакансий'].astype(str)+' шт.',\n",
        "                               marker=dict(size=big_cities_df['количество вакансий']))) \n",
        "\n",
        "\n",
        "# Добавляем средние города 50000-100000 человек\n",
        "fig.add_trace(go.Scattermapbox(name='Средние города 50-100 тыс.человек',\n",
        "                               lat=middle_cities_df['geo_lat'], \n",
        "                               lon=middle_cities_df['geo_lon'],\n",
        "                               text='Город: '+middle_cities_df['регион']+'.<br>' \\\n",
        "                                    +'Количество вакансий '+middle_cities_df['количество вакансий'].astype(str)+' шт.',\n",
        "                               marker=dict(size=middle_cities_df['количество вакансий']))) \n",
        "# настраиваем центр карты                   \n",
        "map_center = go.layout.mapbox.Center(lat=(cities['geo_lat'].max()+cities['geo_lat'].min())/2, \n",
        "                                     lon=(cities['geo_lon'].max()+cities['geo_lon'].min())/2)\n",
        "\n",
        "fig.update_layout(title='Распределение вакансий Яндекса по городам России',\n",
        "                  title_x=0.5,\n",
        "                  legend_orientation=\"h\",\n",
        "                  legend=dict(x=.5, xanchor=\"center\"),\n",
        "                  mapbox_style=\"open-street-map\",\n",
        "                  mapbox=dict(center=map_center, zoom=2))\n",
        "\n",
        "\n",
        "fig.show()"
      ]
    },
    {
      "cell_type": "markdown",
      "id": "5a7fe61f",
      "metadata": {},
      "source": [
        "![](pictures/yandex_cities.png)"
      ]
    },
    {
      "cell_type": "markdown",
      "id": "5a339ae3",
      "metadata": {},
      "source": [
        "Выводы по анализу работодателей:\n",
        "\n",
        "1. В топе по количеству вакансий технолочичные компании:такие как Яндекс, Ростелеком, СБЕР - это может свидетельствовать о том , для них портал HH.ru является хорошим источником для поиска персонала, и соискатели которые там обитают их устраивают по корпоративным требованиям.\n",
        "\n",
        "2. На HH.ru больше всего работодателей без вакансий из России. Возможные причины: \n",
        "\n",
        "* портал изначально российский;\n",
        "* В России больше всего работодателей с полностью укомплектованным штатом сотрудников в данный момент;\n",
        "\n",
        "3. Доля IT компаний на HH.ru составляет 15% что является существенной долей в структуре клиентов компании (HH.ru), что обязывает учитывать интиресы индустирии (IT) и при работе, развитии сервиса.\n",
        "\n",
        "4. Яндекс раскинул свои щупальца по всей стране(России). 93% вакансий  Яндекса в России. Российские вакансии распределены по городам-миллионикам(27%), крупным городам до 1 млн.чел (26%),крупным городам до 500 тыс.чел.(23%), большим городам (23%). В средних городах 1 % В малых городах Яндекс не размещал свои вакансии, это логично ведь из малых городов соискатели будут искать вакансии в ближайших средних и больших городах. Либо они от туда уже уехали вообще. Основная масса вакансий сосредоточена в Европейской части России.\n",
        "\n"
      ]
    },
    {
      "cell_type": "markdown",
      "id": "b1ef156a-efcb-49ce-bb23-90763e7f35b2",
      "metadata": {
        "id": "b1ef156a-efcb-49ce-bb23-90763e7f35b2",
        "tags": []
      },
      "source": [
        "# Юнит 6. Предметный анализ"
      ]
    },
    {
      "cell_type": "markdown",
      "id": "b9cd50a0-992d-4988-8463-2b2b1c4629b4",
      "metadata": {
        "id": "b9cd50a0-992d-4988-8463-2b2b1c4629b4"
      },
      "source": [
        "1. Сколько вакансий имеет отношение к данным?\n",
        "\n",
        "Считаем, что вакансия имеет отношение к данным, если в её названии содержатся слова 'data' или 'данн'.\n",
        "\n",
        "*Подсказка: Обратите внимание, что названия вакансий могут быть написаны в любом регистре.* \n"
      ]
    },
    {
      "cell_type": "code",
      "execution_count": 64,
      "id": "54ab0e50-c0f1-47cc-a54b-bc5c8bc363f9",
      "metadata": {
        "id": "54ab0e50-c0f1-47cc-a54b-bc5c8bc363f9"
      },
      "outputs": [],
      "source": [
        "# текст запроса\n",
        "query_6_1 = f'''select\n",
        "                    --считаем  по id\n",
        "                    count(id)    \n",
        "                --из таблицы вакансий\n",
        "                from vacancies    \n",
        "                --фильтрация по вхождению строки в название вакансии\n",
        "                where name ilike '%data%' or name ilike '%данн%' \n",
        "             '''"
      ]
    },
    {
      "cell_type": "code",
      "execution_count": 65,
      "id": "9F1meAqsuUjd",
      "metadata": {
        "id": "9F1meAqsuUjd"
      },
      "outputs": [
        {
          "data": {
            "text/plain": [
              "'1771 вакансий имеют отношение к данным'"
            ]
          },
          "metadata": {},
          "output_type": "display_data"
        },
        {
          "data": {
            "text/plain": [
              "'4% вакансий от общей базы имеют отношение к данным'"
            ]
          },
          "metadata": {},
          "output_type": "display_data"
        }
      ],
      "source": [
        "# результат запроса\n",
        "df_6_1 = pd.read_sql_query(query_6_1, connection)\n",
        "total_ds_vac = df_6_1.iloc[0,0]\n",
        "display(f'{total_ds_vac} вакансий имеют отношение к данным')\n",
        "display(f'{round(total_ds_vac/vacancies_total_amount*100)}% вакансий от общей базы имеют отношение к данным')"
      ]
    },
    {
      "cell_type": "markdown",
      "id": "4dea20cb-a36b-474a-a0b9-e08e8e3857a5",
      "metadata": {
        "id": "4dea20cb-a36b-474a-a0b9-e08e8e3857a5"
      },
      "source": [
        "2. Сколько есть подходящих вакансий для начинающего дата-сайентиста? \n",
        "Будем считать вакансиями для дата-сайентистов такие, в названии которых есть хотя бы одно из следующих сочетаний:\n",
        "* 'data scientist'\n",
        "* 'data science'\n",
        "* 'исследователь данных'\n",
        "* 'ML' (здесь не нужно брать вакансии по HTML)\n",
        "* 'machine learning'\n",
        "* 'машинн%обучен%'\n",
        "\n",
        "** В следующих заданиях мы продолжим работать с вакансиями по этому условию.*\n",
        "\n",
        "Считаем вакансиями для специалистов уровня Junior следующие:\n",
        "* в названии есть слово 'junior' *или*\n",
        "* требуемый опыт — Нет опыта *или*\n",
        "* тип трудоустройства — Стажировка.\n",
        " "
      ]
    },
    {
      "cell_type": "code",
      "execution_count": 66,
      "id": "9c61b3c0-bb66-46c9-ae1e-81d3f5752b4a",
      "metadata": {
        "id": "9c61b3c0-bb66-46c9-ae1e-81d3f5752b4a"
      },
      "outputs": [],
      "source": [
        "# текст запроса\n",
        "query_6_2 = f'''select\n",
        "                    --считаем  по id\n",
        "                    count(id)    \n",
        "                --из таблицы вакансий\n",
        "                from vacancies    \n",
        "                --фильтрация по вхождению строки \n",
        "                --для дата-сайентистов\n",
        "                where (name ilike '%data scientist%'\n",
        "                    or name ilike '%data science%'\n",
        "                    or name ilike '%исследователь данных%'\n",
        "                    --исключаем вакансии по HTML\n",
        "                    or (name like '%ML%' and name not like '%HTML%')\n",
        "                    or name ilike '%machine learning%'\n",
        "                    or name ilike '%машинн%обучен%')\n",
        "                    --для специалистов уровня Junior\n",
        "                    and (name ilike '%junior%'\n",
        "                    or experience like 'Нет опыта'\n",
        "                    or employment like 'Стажировка')  \n",
        "             '''"
      ]
    },
    {
      "cell_type": "code",
      "execution_count": 67,
      "id": "ZNM-LLYuu1dj",
      "metadata": {
        "id": "ZNM-LLYuu1dj"
      },
      "outputs": [
        {
          "data": {
            "text/plain": [
              "'51 вакансий для начинающего дата-сайентиста'"
            ]
          },
          "metadata": {},
          "output_type": "display_data"
        },
        {
          "data": {
            "text/plain": [
              "'3% вакансий которые имеют отношение к данным для начинающего дата-сайентиста'"
            ]
          },
          "metadata": {},
          "output_type": "display_data"
        }
      ],
      "source": [
        "# результат запроса\n",
        "df_6_2 = pd.read_sql_query(query_6_2, connection)\n",
        "junior_vac = df_6_2.iloc[0,0] \n",
        "display(f'{junior_vac} вакансий для начинающего дата-сайентиста')\n",
        "display(f'{round(junior_vac/total_ds_vac*100)}% вакансий которые имеют отношение к данным для начинающего дата-сайентиста')\n"
      ]
    },
    {
      "cell_type": "markdown",
      "id": "eedceb80-c5ca-480e-b27a-278dfb8b4438",
      "metadata": {
        "id": "eedceb80-c5ca-480e-b27a-278dfb8b4438"
      },
      "source": [
        "3. Сколько есть вакансий для DS, в которых в качестве ключевого навыка указан SQL или postgres?\n",
        "\n",
        "** Критерии для отнесения вакансии к DS указаны в предыдущем задании.*"
      ]
    },
    {
      "cell_type": "code",
      "execution_count": 68,
      "id": "69621713-0cc5-4f1b-a1d7-bb144fa6148c",
      "metadata": {
        "id": "69621713-0cc5-4f1b-a1d7-bb144fa6148c"
      },
      "outputs": [],
      "source": [
        "# текст запроса\n",
        "query_6_3 = f'''select\n",
        "                    count(id)    \n",
        "                from vacancies    \n",
        "                --фильтрация по вхождению строки \n",
        "                --для дата-сайентистов\n",
        "                where (name ilike '%data scientist%'\n",
        "                    or name ilike '%data science%'\n",
        "                    or name ilike '%исследователь данных%'\n",
        "                    or (name like '%ML%' and name not like '%HTML%')\n",
        "                    or name ilike '%machine learning%'\n",
        "                    or name ilike '%машинн%обучен%')\n",
        "                    --по ключевым навыкам\n",
        "                    and key_skills is not null\n",
        "                    and (key_skills ilike '%sql%'\n",
        "                    or key_skills ilike '%postgres%')  \n",
        "             '''"
      ]
    },
    {
      "cell_type": "code",
      "execution_count": 69,
      "id": "alA8WEAAvGdf",
      "metadata": {
        "id": "alA8WEAAvGdf"
      },
      "outputs": [
        {
          "data": {
            "text/plain": [
              "'201 вакансий для DS, в которых в качестве ключевого навыка указан SQL или postgres'"
            ]
          },
          "metadata": {},
          "output_type": "display_data"
        },
        {
          "data": {
            "text/plain": [
              "'11% вакансий которые имеют отношение к данным, в которых в качестве ключевого навыка указан SQL или postgres'"
            ]
          },
          "metadata": {},
          "output_type": "display_data"
        }
      ],
      "source": [
        "# результат запроса\n",
        "df_6_3 = pd.read_sql_query(query_6_3, connection)\n",
        "sql_skill_vac = df_6_3.iloc[0,0]\n",
        "display(f'{sql_skill_vac} вакансий для DS, в которых в качестве ключевого навыка указан SQL или postgres')\n",
        "display(f'{round(sql_skill_vac/total_ds_vac*100)}% вакансий которые имеют отношение к данным, в которых в качестве ключевого навыка указан SQL или postgres')"
      ]
    },
    {
      "cell_type": "markdown",
      "id": "1be1e9c6-37cf-4a5f-bfeb-04cab799dc80",
      "metadata": {
        "id": "1be1e9c6-37cf-4a5f-bfeb-04cab799dc80"
      },
      "source": [
        "4. Проверьте, насколько популярен Python в требованиях работодателей к DS.Для этого вычислите количество вакансий, в которых в качестве ключевого навыка указан Python.\n",
        "\n",
        "** Это можно сделать помощью запроса, аналогичного предыдущему.*"
      ]
    },
    {
      "cell_type": "code",
      "execution_count": 70,
      "id": "0036a355-9ccf-4564-8b01-73d8194297e7",
      "metadata": {
        "id": "0036a355-9ccf-4564-8b01-73d8194297e7"
      },
      "outputs": [],
      "source": [
        "# текст запроса\n",
        "query_6_4 = f'''select\n",
        "                    count(id)    \n",
        "                from vacancies    \n",
        "                --фильтрация по вхождению строки \n",
        "                --для дата-сайентистов\n",
        "                where (name ilike '%data scientist%'\n",
        "                    or name ilike '%data science%'\n",
        "                    or name ilike '%исследователь данных%'\n",
        "                    or (name like '%ML%' and name not like '%HTML%')\n",
        "                    or name ilike '%machine learning%'\n",
        "                    or name ilike '%машинн%обучен%')\n",
        "                    --по ключевым навыкам\n",
        "                    and key_skills is not null\n",
        "                    and key_skills ilike '%python%'\n",
        "             '''\n",
        "                    "
      ]
    },
    {
      "cell_type": "code",
      "execution_count": 71,
      "id": "1i-5WyucvQ6v",
      "metadata": {
        "id": "1i-5WyucvQ6v"
      },
      "outputs": [
        {
          "data": {
            "text/plain": [
              "'351 вакансий для DS, в которых в качестве ключевого навыка указан Python'"
            ]
          },
          "metadata": {},
          "output_type": "display_data"
        },
        {
          "data": {
            "text/plain": [
              "'20% вакансий которые имеют отношение к данным, в которых в качестве ключевого навыка указан Python'"
            ]
          },
          "metadata": {},
          "output_type": "display_data"
        }
      ],
      "source": [
        "# результат запроса\n",
        "df_6_4 = pd.read_sql_query(query_6_4, connection)\n",
        "python_skill_vac = df_6_4.iloc[0,0]\n",
        "display(f'{python_skill_vac} вакансий для DS, в которых в качестве ключевого навыка указан Python')\n",
        "display(f'{round(python_skill_vac/total_ds_vac*100)}% вакансий которые имеют отношение к данным, в которых в качестве ключевого навыка указан Python')"
      ]
    },
    {
      "cell_type": "markdown",
      "id": "ec3c8db7-fa21-4a41-a994-1af63742a642",
      "metadata": {
        "id": "ec3c8db7-fa21-4a41-a994-1af63742a642"
      },
      "source": [
        "5. Сколько ключевых навыков в среднем указывают в вакансиях для DS?\n",
        "Ответ округлите до двух знаков после точки-разделителя."
      ]
    },
    {
      "cell_type": "code",
      "execution_count": 72,
      "id": "949132bc-d5b6-4611-8218-0b9a504d74f4",
      "metadata": {
        "id": "949132bc-d5b6-4611-8218-0b9a504d74f4"
      },
      "outputs": [],
      "source": [
        "# текст запроса\n",
        "query_6_5 = f'''select\n",
        "                    --считаем среднее количесвто ключевых навыков\n",
        "                    avg(length(key_skills) - length(replace(key_skills, CHR(9), ''))+1)\n",
        "                from vacancies    \n",
        "                where name ilike '%data scientist%'\n",
        "                    or name ilike '%data science%'\n",
        "                    or name ilike '%исследователь данных%'\n",
        "                    or name like '%ML%' and name not like '%HTML%'\n",
        "                    or name ilike '%machine learning%'\n",
        "                    or name ilike '%машинн%обучен%'\n",
        "             '''"
      ]
    },
    {
      "cell_type": "code",
      "execution_count": 73,
      "id": "a3V24Tvmviqk",
      "metadata": {
        "id": "a3V24Tvmviqk"
      },
      "outputs": [
        {
          "data": {
            "text/plain": [
              "'Среднее количесвтво ключевых навыков:6.41'"
            ]
          },
          "metadata": {},
          "output_type": "display_data"
        }
      ],
      "source": [
        "# результат запроса\n",
        "df_6_5 = pd.read_sql_query(query_6_5, connection)\n",
        "display(f'Среднее количесвтво ключевых навыков:{round(df_6_5.iloc[0,0],2)}')"
      ]
    },
    {
      "cell_type": "markdown",
      "id": "1041c17a-ca8f-4543-a0ca-32778914fb00",
      "metadata": {
        "id": "1041c17a-ca8f-4543-a0ca-32778914fb00"
      },
      "source": [
        "6. Напишите запрос, позволяющий вычислить, какую зарплату для DS в **среднем** указывают для каждого типа требуемого опыта (уникальное значение из поля *experience*). \n",
        "\n",
        "При решении задачи примите во внимание следующее:\n",
        "1. Рассматриваем только вакансии, у которых заполнено хотя бы одно из двух полей с зарплатой.\n",
        "2. Если заполнены оба поля с зарплатой, то считаем зарплату по каждой вакансии как сумму двух полей, делённую на 2. Если заполнено только одно из полей, то его и считаем зарплатой по вакансии.\n",
        "3. Если в расчётах участвует null, в результате он тоже даст null (посмотрите, что возвращает запрос select 1 + null). Чтобы избежать этой ситуацию, мы воспользуемся функцией [coalesce](https://postgrespro.ru/docs/postgresql/9.5/functions-conditional#functions-coalesce-nvl-ifnull), которая заменит null на значение, которое мы передадим. Например, посмотрите, что возвращает запрос `select 1 + coalesce(null, 0)`\n",
        "\n",
        "Выясните, на какую зарплату в среднем может рассчитывать дата-сайентист с опытом работы от 3 до 6 лет. Результат округлите до целого числа. "
      ]
    },
    {
      "cell_type": "code",
      "execution_count": 74,
      "id": "6a743d39-5204-48d3-8271-b9f88e68d40e",
      "metadata": {
        "id": "6a743d39-5204-48d3-8271-b9f88e68d40e"
      },
      "outputs": [],
      "source": [
        "# текст запроса\n",
        "query_6_6 = f'''select\n",
        "                    --опыт\n",
        "                    experience,\n",
        "                    --считаем среднее значение ЗП\n",
        "                    ROUND(AVG(coalesce((salary_from + salary_to) / 2, salary_from, salary_to)), 0)    \n",
        "                from vacancies    \n",
        "                --фильтрация по вхождению строки \n",
        "                --для дата-сайентистов\n",
        "                where (name ilike '%data scientist%'\n",
        "                    or name ilike '%data science%'\n",
        "                    or name ilike '%исследователь данных%'\n",
        "                    or (name like '%ML%' and name not like '%HTML%')\n",
        "                    or name ilike '%machine learning%'\n",
        "                    or name ilike '%машинн%обучен%')\n",
        "                    -- заполнено хотя бы одно из двух полей с зарплатой\n",
        "                    and (salary_from is not null\n",
        "                    or salary_to is not null)\n",
        "                --группировка по опыту\n",
        "                group by experience\n",
        "             '''"
      ]
    },
    {
      "cell_type": "code",
      "execution_count": 75,
      "id": "aRIJ0mZEwU1_",
      "metadata": {
        "id": "aRIJ0mZEwU1_"
      },
      "outputs": [
        {
          "data": {
            "text/html": [
              "<div>\n",
              "<style scoped>\n",
              "    .dataframe tbody tr th:only-of-type {\n",
              "        vertical-align: middle;\n",
              "    }\n",
              "\n",
              "    .dataframe tbody tr th {\n",
              "        vertical-align: top;\n",
              "    }\n",
              "\n",
              "    .dataframe thead th {\n",
              "        text-align: right;\n",
              "    }\n",
              "</style>\n",
              "<table border=\"1\" class=\"dataframe\">\n",
              "  <thead>\n",
              "    <tr style=\"text-align: right;\">\n",
              "      <th></th>\n",
              "      <th>experience</th>\n",
              "      <th>round</th>\n",
              "    </tr>\n",
              "  </thead>\n",
              "  <tbody>\n",
              "    <tr>\n",
              "      <th>0</th>\n",
              "      <td>Нет опыта</td>\n",
              "      <td>74643.0</td>\n",
              "    </tr>\n",
              "    <tr>\n",
              "      <th>1</th>\n",
              "      <td>От 1 года до 3 лет</td>\n",
              "      <td>139675.0</td>\n",
              "    </tr>\n",
              "    <tr>\n",
              "      <th>2</th>\n",
              "      <td>От 3 до 6 лет</td>\n",
              "      <td>243115.0</td>\n",
              "    </tr>\n",
              "  </tbody>\n",
              "</table>\n",
              "</div>"
            ],
            "text/plain": [
              "           experience     round\n",
              "0           Нет опыта   74643.0\n",
              "1  От 1 года до 3 лет  139675.0\n",
              "2       От 3 до 6 лет  243115.0"
            ]
          },
          "metadata": {},
          "output_type": "display_data"
        }
      ],
      "source": [
        "# результат запроса\n",
        "df_6_6 = pd.read_sql_query(query_6_6, connection)\n",
        "display(df_6_6)"
      ]
    },
    {
      "cell_type": "markdown",
      "id": "6a7892b4-4113-4746-adce-18aa2844f18e",
      "metadata": {
        "id": "6a7892b4-4113-4746-adce-18aa2844f18e"
      },
      "source": [
        "***"
      ]
    },
    {
      "cell_type": "markdown",
      "id": "fa77b24a",
      "metadata": {},
      "source": [
        "**Выводы по предметному анализу:**\n",
        "\n",
        "1. Есть вакансии для Дата-саентиста.4% вакансий от всей базы имеют отношение к данным\n",
        "\n",
        "2. Вакансии для Дата-саентиста с опытом до одного года отсутствуют в базе не представлены, возможно это связано что опыт меньше года рассматривается работодателем как отсутствие опыта. Проще взять способного с теоретическими знаниями и заточить под свои задачи, чем переучивать криворуких и самонадеянных.\n",
        "\n",
        "3. За первый год рабыты ЗП Дата-саентиста может вырасти почти в два раза. На реальной работе оттачиваются реально важные навыки и знания, лишняя теория отсеивается - так нарабатываются компетенции. Реальные проекты в портфолио дает возможность работодателю подтвердить наличие и оценить уровень реальных навыков\n",
        "\n",
        "4. Среднее количество навыков Дата саентиста более 6 это означает что дата саентист должен обдадать комплексными знаниями и навыками и уметь сопрягать их.\n",
        "\n",
        "5. 97% вакансий для уже опытного Дата-саентиста. Но есть вакансии и для совсем начинающих. Все хотят уже опытных работников\n",
        "\n",
        "6. Среди ключевых навыков Python (20%) практически в 2 раза востребованее чем SQL или postgres (11%)\n"
      ]
    },
    {
      "cell_type": "markdown",
      "id": "c0ED6fh7wiBT",
      "metadata": {
        "id": "c0ED6fh7wiBT"
      },
      "source": [
        "# Общий вывод по проекту"
      ]
    },
    {
      "cell_type": "markdown",
      "id": "e36992bc",
      "metadata": {},
      "source": [
        "1. Общие выводы: Наблюдается прямая зависимость уровня ЗП от размеров городов по численности населения. т.е. чем больше население тем больше работодателей в этом регионе, и они конкурируют между собой. \n",
        "\n",
        "**Каких вакансий много?** - *около половины вакансий без указания какого либо уровня ЗП*. Только 30 % вакансий для людей без опыта не имеют данных о ЗП. *Для других категорий опыта(1-3 года, 3-6 лет, более 6 лет)- доля вакансий не имеющих данных о ЗП более 50%*.\n",
        "\n",
        "Причиной тому может быть: \n",
        "* гибкий подход к назначению ЗП, т.е. по резульататам собеседования;\n",
        "* конфиденциальность ЗП согласно корпоративной политике (в больших корпорациях бюрократия часто превыше всего, и здравого смысла в том числе);\n",
        "* сложная структура начисления ЗП, т.е. есть фиксированный оклад и много разных надбавок, в результате чего ЗП от месяца к месяцу меняется, HR страхуются и не публикуют эти данные в самой вакансии, а доводят информацию в на этапе общения с кандидатом. Следует понимать что причины могут быть разными как в отдельной отрасли, в отдельном регионе, у отдельного работодателя\n",
        "* уж совсем дикая версия - это дубликаты вакансий с ЗП)\n",
        "\n",
        "При построении модели стоит учесть влияние вакансий с незаполненными данными о ЗП. \n",
        "\n",
        "2. Прогнозы: Без учета вакансий с незаполненными данными о ЗП, модель вероятно не будет корректной.\n",
        "\n",
        "3. Варианты продолжения исследования: \n",
        "\n",
        "* вакансии с незаполненными данными о ЗП нуждаются в дополнительном исследования для установления причин отсутствия этих данных и принятия решения об их учете(удалить, заполнить, чем заполнить); в разрезе: опыта, работодателя, индустрии;\n",
        "* провести исследование распределения всех вакансий, вакансий сферы IT, вакансий на позицию Data Scientist по городам России по образцу исследования компании \"Яндекс\"(Размер маркера: количество вакансий, цвет маркера: средняя ЗП)\n",
        "\n",
        "\n"
      ]
    }
  ],
  "metadata": {
    "colab": {
      "collapsed_sections": [
        "8d62a9f3-f64e-4fe7-bdac-c4dffa16155e"
      ],
      "provenance": []
    },
    "kernelspec": {
      "display_name": "Python 3 (ipykernel)",
      "language": "python",
      "name": "python3"
    },
    "language_info": {
      "codemirror_mode": {
        "name": "ipython",
        "version": 3
      },
      "file_extension": ".py",
      "mimetype": "text/x-python",
      "name": "python",
      "nbconvert_exporter": "python",
      "pygments_lexer": "ipython3",
      "version": "3.11.8"
    }
  },
  "nbformat": 4,
  "nbformat_minor": 5
}
