{
  "cells": [
    {
      "cell_type": "markdown",
      "id": "42289889-bd57-434e-9637-d3e354756316",
      "metadata": {
        "id": "42289889-bd57-434e-9637-d3e354756316"
      },
      "source": [
        "<center> <img src = https://raw.githubusercontent.com/AndreyRysistov/DatasetsForPandas/main/hh%20label.jpg alt=\"drawing\" style=\"width:400px;\">"
      ]
    },
    {
      "cell_type": "markdown",
      "id": "829cb75b-f14e-4ba8-9195-7ba929a7d656",
      "metadata": {
        "id": "829cb75b-f14e-4ba8-9195-7ba929a7d656",
        "tags": []
      },
      "source": [
        "# <center> Проект: Анализ вакансий из HeadHunter\n",
        "   "
      ]
    },
    {
      "cell_type": "code",
      "execution_count": 1,
      "id": "dccfde33-2452-43fb-a8a5-5c6ebc02a71d",
      "metadata": {
        "id": "dccfde33-2452-43fb-a8a5-5c6ebc02a71d"
      },
      "outputs": [],
      "source": [
        "import pandas as pd\n",
        "import matplotlib.pyplot as plt\n",
        "import seaborn as sns\n",
        "from sqlalchemy import create_engine, text\n",
        "import requests\n",
        "from bs4 import BeautifulSoup\n",
        "import os\n",
        "from dotenv import load_dotenv"
      ]
    },
    {
      "cell_type": "code",
      "execution_count": 2,
      "id": "oVKH4ehvf8Ay",
      "metadata": {
        "id": "oVKH4ehvf8Ay"
      },
      "outputs": [],
      "source": [
        "# Загружаем переменные из .env файла\n",
        "load_dotenv()\n",
        "\n",
        "DBNAME = os.getenv('DBNAME')\n",
        "USER = os.getenv('USER')\n",
        "PASSWORD = os.getenv('PASSWORD')\n",
        "HOST = os.getenv('HOST')\n",
        "PORT = os.getenv('PORT')"
      ]
    },
    {
      "cell_type": "code",
      "execution_count": 4,
      "id": "MDttIMjGTyQb",
      "metadata": {
        "id": "MDttIMjGTyQb"
      },
      "outputs": [],
      "source": [
        "db_params = f'postgresql://{USER}:{PASSWORD}@{HOST}:{PORT}/{DBNAME}'\n",
        "engine = create_engine(db_params)"
      ]
    },
    {
      "cell_type": "markdown",
      "id": "0dc6476b-7a00-44f1-ac93-6e3baed33a29",
      "metadata": {
        "id": "0dc6476b-7a00-44f1-ac93-6e3baed33a29"
      },
      "source": [
        "# Юнит 3. Предварительный анализ данных"
      ]
    },
    {
      "cell_type": "markdown",
      "id": "889782b6-8d1c-410e-8920-e57f27917c64",
      "metadata": {
        "id": "889782b6-8d1c-410e-8920-e57f27917c64"
      },
      "source": [
        "1. Напишите запрос, который посчитает количество вакансий в нашей базе (вакансии находятся в таблице vacancies)."
      ]
    },
    {
      "cell_type": "code",
      "execution_count": 5,
      "id": "bc39e68e-ed02-4ee2-9235-7258a2f867a8",
      "metadata": {
        "id": "bc39e68e-ed02-4ee2-9235-7258a2f867a8"
      },
      "outputs": [],
      "source": [
        "query_3_1 = f'''\n",
        "SELECT\n",
        "      count(*) cnt_vacancies\n",
        "FROM\n",
        "      vacancies\n",
        "'''"
      ]
    },
    {
      "cell_type": "code",
      "execution_count": 6,
      "id": "7mAwtsk4hEHY",
      "metadata": {
        "colab": {
          "base_uri": "https://localhost:8080/"
        },
        "id": "7mAwtsk4hEHY",
        "outputId": "6ddde8c2-2b65-477e-bbea-a6e7114002c6"
      },
      "outputs": [
        {
          "name": "stdout",
          "output_type": "stream",
          "text": [
            "49197 вакансий в таблице vacancies\n"
          ]
        }
      ],
      "source": [
        "count_vacanties = pd.read_sql_query(query_3_1, engine)\n",
        "print(f\"{count_vacanties['cnt_vacancies'].iloc[0]} вакансий в таблице vacancies\")"
      ]
    },
    {
      "cell_type": "markdown",
      "id": "b583485d-1f9e-494e-ada4-80ffff7c53d6",
      "metadata": {
        "id": "b583485d-1f9e-494e-ada4-80ffff7c53d6"
      },
      "source": [
        "2. Напишите запрос, который посчитает количество работодателей (таблица employers)."
      ]
    },
    {
      "cell_type": "code",
      "execution_count": 7,
      "id": "5408c52c-3407-4a63-b25b-1aafa2322d28",
      "metadata": {
        "id": "5408c52c-3407-4a63-b25b-1aafa2322d28"
      },
      "outputs": [],
      "source": [
        "query_3_2 = f'''\n",
        "SELECT\n",
        "      count(*) cnt_employers\n",
        "FROM\n",
        "      employers\n",
        "'''"
      ]
    },
    {
      "cell_type": "code",
      "execution_count": 8,
      "id": "jVL4eshKhdqc",
      "metadata": {
        "colab": {
          "base_uri": "https://localhost:8080/"
        },
        "id": "jVL4eshKhdqc",
        "outputId": "3b929222-14c2-4764-d71d-8cfc4a861c94"
      },
      "outputs": [
        {
          "name": "stdout",
          "output_type": "stream",
          "text": [
            "23501 работодатель в таблице employers\n"
          ]
        }
      ],
      "source": [
        "empl_count = pd.read_sql_query(query_3_2, engine)\n",
        "print(f\"{empl_count['cnt_employers'].iloc[0]} работодатель в таблице employers\")"
      ]
    },
    {
      "cell_type": "markdown",
      "id": "a2bfff1f-c975-4bf6-84be-2185d79dcb76",
      "metadata": {
        "id": "a2bfff1f-c975-4bf6-84be-2185d79dcb76"
      },
      "source": [
        "3. Посчитате с помощью запроса количество регионов (таблица areas)."
      ]
    },
    {
      "cell_type": "code",
      "execution_count": 9,
      "id": "1m8QJwBYhey6",
      "metadata": {
        "id": "1m8QJwBYhey6"
      },
      "outputs": [],
      "source": [
        "query_3_3 = f'''\n",
        "SELECT\n",
        "      count(*) cnt_areas\n",
        "FROM\n",
        "      areas\n",
        "'''"
      ]
    },
    {
      "cell_type": "code",
      "execution_count": 10,
      "id": "EZsn9tlfhe7f",
      "metadata": {
        "colab": {
          "base_uri": "https://localhost:8080/"
        },
        "id": "EZsn9tlfhe7f",
        "outputId": "fce23001-d132-4467-b2f9-3827818be642"
      },
      "outputs": [
        {
          "name": "stdout",
          "output_type": "stream",
          "text": [
            "1362 региона в таблице areas\n"
          ]
        }
      ],
      "source": [
        "areas_count = pd.read_sql_query(query_3_3, engine)\n",
        "print(f\"{areas_count['cnt_areas'].iloc[0]} региона в таблице areas\")"
      ]
    },
    {
      "cell_type": "markdown",
      "id": "41bb59f3-53cc-4a67-a5bc-bedf573955e4",
      "metadata": {
        "id": "41bb59f3-53cc-4a67-a5bc-bedf573955e4"
      },
      "source": [
        "4. Посчитате с помощью запроса количество сфер деятельности в базе (таблица industries)."
      ]
    },
    {
      "cell_type": "code",
      "execution_count": 11,
      "id": "d286cf4c-707b-4cd2-9190-7ab3587d04a1",
      "metadata": {
        "id": "d286cf4c-707b-4cd2-9190-7ab3587d04a1"
      },
      "outputs": [],
      "source": [
        "query_3_4 = f'''\n",
        "SELECT\n",
        "      count(*) cnt_industries\n",
        "FROM\n",
        "      industries\n",
        "'''"
      ]
    },
    {
      "cell_type": "code",
      "execution_count": 12,
      "id": "JYAaoZ4qhfzW",
      "metadata": {
        "colab": {
          "base_uri": "https://localhost:8080/"
        },
        "id": "JYAaoZ4qhfzW",
        "outputId": "938b6a3a-3d2b-47d5-b1e1-5cb4c63428a4"
      },
      "outputs": [
        {
          "name": "stdout",
          "output_type": "stream",
          "text": [
            "294 сферы деятельности в базе (таблица industries)\n"
          ]
        }
      ],
      "source": [
        "industry_count = pd.read_sql_query(query_3_4, engine)\n",
        "print(f\"{industry_count['cnt_industries'].iloc[0]} сферы деятельности в базе (таблица industries)\")\n"
      ]
    },
    {
      "cell_type": "markdown",
      "id": "9a8a2181-6914-448b-85f1-38f5f18b8a93",
      "metadata": {
        "id": "9a8a2181-6914-448b-85f1-38f5f18b8a93"
      },
      "source": [
        "***"
      ]
    },
    {
      "cell_type": "markdown",
      "id": "8d62a9f3-f64e-4fe7-bdac-c4dffa16155e",
      "metadata": {
        "id": "8d62a9f3-f64e-4fe7-bdac-c4dffa16155e"
      },
      "source": [
        "# Юнит 4. Детальный анализ вакансий"
      ]
    },
    {
      "cell_type": "markdown",
      "id": "93053d3d-b284-481a-9cf7-012d7014c0e0",
      "metadata": {
        "id": "93053d3d-b284-481a-9cf7-012d7014c0e0"
      },
      "source": [
        "1. Напишите запрос, который позволит узнать, сколько (cnt) вакансий в каждом регионе (area).\n",
        "Отсортируйте по количеству вакансий в порядке убывания."
      ]
    },
    {
      "cell_type": "code",
      "execution_count": 13,
      "id": "3f069da6-fdc9-4ae7-b514-fafe2675efd3",
      "metadata": {
        "id": "3f069da6-fdc9-4ae7-b514-fafe2675efd3"
      },
      "outputs": [],
      "source": [
        "# Подготавливаем SQL-запрос для получения топ-5 городов с максимальным количеством вакансий\n",
        "query_4_1 = f'''\n",
        "SELECT\n",
        "        a.name AS Город,                          -- Имя города\n",
        "        COUNT(DISTINCT v.name) AS Количество_вакансий  -- Количество уникальных вакансий в данном городе\n",
        "FROM\n",
        "        vacancies v                              -- Таблица вакансий\n",
        "JOIN\n",
        "        areas a                                  -- Таблица с городами\n",
        "ON\n",
        "        a.id = v.area_id                        -- Соединяем по идентификатору города\n",
        "GROUP BY\n",
        "        a.name                                   -- Группируем результаты по имени города\n",
        "ORDER BY\n",
        "        Количество_вакансий DESC                -- Сортируем результаты по убыванию количества вакансий\n",
        "LIMIT 5                                        -- Ограничиваем вывод 5 записями\n",
        "'''"
      ]
    },
    {
      "cell_type": "code",
      "execution_count": 14,
      "id": "P7QL86hrjhRJ",
      "metadata": {
        "colab": {
          "base_uri": "https://localhost:8080/",
          "height": 206
        },
        "id": "P7QL86hrjhRJ",
        "outputId": "62c6d495-21b1-460b-a81b-4863a77fb213"
      },
      "outputs": [
        {
          "data": {
            "text/html": [
              "<div>\n",
              "<style scoped>\n",
              "    .dataframe tbody tr th:only-of-type {\n",
              "        vertical-align: middle;\n",
              "    }\n",
              "\n",
              "    .dataframe tbody tr th {\n",
              "        vertical-align: top;\n",
              "    }\n",
              "\n",
              "    .dataframe thead th {\n",
              "        text-align: right;\n",
              "    }\n",
              "</style>\n",
              "<table border=\"1\" class=\"dataframe\">\n",
              "  <thead>\n",
              "    <tr style=\"text-align: right;\">\n",
              "      <th></th>\n",
              "      <th>Город</th>\n",
              "      <th>Количество_вакансий</th>\n",
              "    </tr>\n",
              "  </thead>\n",
              "  <tbody>\n",
              "    <tr>\n",
              "      <th>0</th>\n",
              "      <td>Москва</td>\n",
              "      <td>3894</td>\n",
              "    </tr>\n",
              "    <tr>\n",
              "      <th>1</th>\n",
              "      <td>Санкт-Петербург</td>\n",
              "      <td>2143</td>\n",
              "    </tr>\n",
              "    <tr>\n",
              "      <th>2</th>\n",
              "      <td>Новосибирск</td>\n",
              "      <td>1501</td>\n",
              "    </tr>\n",
              "    <tr>\n",
              "      <th>3</th>\n",
              "      <td>Минск</td>\n",
              "      <td>1497</td>\n",
              "    </tr>\n",
              "    <tr>\n",
              "      <th>4</th>\n",
              "      <td>Алматы</td>\n",
              "      <td>1421</td>\n",
              "    </tr>\n",
              "  </tbody>\n",
              "</table>\n",
              "</div>"
            ],
            "text/plain": [
              "             Город  Количество_вакансий\n",
              "0           Москва                 3894\n",
              "1  Санкт-Петербург                 2143\n",
              "2      Новосибирск                 1501\n",
              "3            Минск                 1497\n",
              "4           Алматы                 1421"
            ]
          },
          "execution_count": 14,
          "metadata": {},
          "output_type": "execute_result"
        }
      ],
      "source": [
        "cnt_vacanties_by_area = pd.read_sql_query(query_4_1, engine)\n",
        "cnt_vacanties_by_area"
      ]
    },
    {
      "cell_type": "code",
      "execution_count": 15,
      "id": "zhoIUPOgk_s7",
      "metadata": {
        "colab": {
          "base_uri": "https://localhost:8080/",
          "height": 531
        },
        "id": "zhoIUPOgk_s7",
        "outputId": "af512019-7474-400a-fe4b-53c114ffcd28"
      },
      "outputs": [
        {
          "data": {
            "text/plain": [
              "<Figure size 400x700 with 0 Axes>"
            ]
          },
          "metadata": {},
          "output_type": "display_data"
        },
        {
          "data": {
            "image/png": "[encoded data removed]",
            "text/plain": [
              "<Figure size 640x480 with 1 Axes>"
            ]
          },
          "metadata": {},
          "output_type": "display_data"
        }
      ],
      "source": [
        "plt.figure(figsize=(4, 7))\n",
        "cnt_vacanties_by_area.plot(\n",
        "                            kind='bar',\n",
        "                            x='Город',\n",
        "                            y='Количество_вакансий',\n",
        "                            color='teal'\n",
        "                            )\n",
        "plt.xticks(rotation=20)\n",
        "plt.title('Количество вакансий по городам')\n",
        "plt.xlabel('Город')\n",
        "plt.ylabel('Количество вакансий')\n",
        "plt.grid(\n",
        "    axis='y',\n",
        "    linestyle='--',\n",
        "    linewidth=0.4\n",
        "    )\n",
        "plt.show()\n"
      ]
    },
    {
      "cell_type": "markdown",
      "id": "4266f0b6-1646-492a-88b4-2f6a46502135",
      "metadata": {
        "id": "4266f0b6-1646-492a-88b4-2f6a46502135"
      },
      "source": [
        "2. Напишите запрос, чтобы определить у какого количества вакансий заполнено хотя бы одно из двух полей с зарплатой."
      ]
    },
    {
      "cell_type": "code",
      "execution_count": 16,
      "id": "0c44b350-72eb-4d65-8b54-a1fc449ba9fd",
      "metadata": {
        "id": "0c44b350-72eb-4d65-8b54-a1fc449ba9fd"
      },
      "outputs": [],
      "source": [
        "query_4_2 = f'''\n",
        "SELECT\n",
        "      count(*) cnt_not_null\n",
        "FROM\n",
        "      vacancies\n",
        "WHERE\n",
        "      salary_from IS NOT NULL\n",
        "      OR\n",
        "      salary_to IS NOT NULL\n",
        "'''"
      ]
    },
    {
      "cell_type": "code",
      "execution_count": 17,
      "id": "rhvwaMDkoWTi",
      "metadata": {
        "colab": {
          "base_uri": "https://localhost:8080/"
        },
        "id": "rhvwaMDkoWTi",
        "outputId": "dbc79b9a-64e8-48d7-c629-c304f8b3724c"
      },
      "outputs": [
        {
          "name": "stdout",
          "output_type": "stream",
          "text": [
            "У 24073 вакансий заполнено хотя бы одно поле с зарплатой\n"
          ]
        }
      ],
      "source": [
        "cnt_salary_without_null = pd.read_sql_query(query_4_2, engine)\n",
        "print(f\"У {cnt_salary_without_null['cnt_not_null'].iloc[0]} вакансий заполнено хотя бы одно поле с зарплатой\")"
      ]
    },
    {
      "cell_type": "code",
      "execution_count": 18,
      "id": "GxuhXMVs4Q2S",
      "metadata": {
        "id": "GxuhXMVs4Q2S"
      },
      "outputs": [],
      "source": [
        "query_4_2_1 = f'''\n",
        "SELECT\n",
        "      ROUND(SUM(CASE WHEN salary_from is null THEN 0 ELSE 1 END)::numeric / COUNT(*) , 2) * 100 from_not_null,\n",
        "      ROUND(SUM(CASE WHEN salary_to is null THEN 0 ELSE 1 END)::numeric / COUNT(*) , 2) * 100 to_not_null,\n",
        "      ROUND(SUM(CASE WHEN (salary_from is not null OR salary_to is not null) THEN 1 ELSE 0 END)::numeric / COUNT(*) , 2) * 100 from_or_to_not_null,\n",
        "      ROUND(SUM(CASE WHEN (salary_from is not null AND salary_to is not null) THEN 1 ELSE 0 END)::numeric / COUNT(*) , 2) * 100 from_and_to_not_null\n",
        "FROM\n",
        "      vacancies\n",
        "'''"
      ]
    },
    {
      "cell_type": "code",
      "execution_count": 19,
      "id": "4iRarhZT5UUF",
      "metadata": {
        "colab": {
          "base_uri": "https://localhost:8080/",
          "height": 80
        },
        "id": "4iRarhZT5UUF",
        "outputId": "de70f278-2ab3-4c6d-e9d0-fec20387ab3e"
      },
      "outputs": [
        {
          "data": {
            "text/html": [
              "<div>\n",
              "<style scoped>\n",
              "    .dataframe tbody tr th:only-of-type {\n",
              "        vertical-align: middle;\n",
              "    }\n",
              "\n",
              "    .dataframe tbody tr th {\n",
              "        vertical-align: top;\n",
              "    }\n",
              "\n",
              "    .dataframe thead th {\n",
              "        text-align: right;\n",
              "    }\n",
              "</style>\n",
              "<table border=\"1\" class=\"dataframe\">\n",
              "  <thead>\n",
              "    <tr style=\"text-align: right;\">\n",
              "      <th></th>\n",
              "      <th>from_not_null</th>\n",
              "      <th>to_not_null</th>\n",
              "      <th>from_or_to_not_null</th>\n",
              "      <th>from_and_to_not_null</th>\n",
              "    </tr>\n",
              "  </thead>\n",
              "  <tbody>\n",
              "    <tr>\n",
              "      <th>0</th>\n",
              "      <td>44.0</td>\n",
              "      <td>26.0</td>\n",
              "      <td>49.0</td>\n",
              "      <td>21.0</td>\n",
              "    </tr>\n",
              "  </tbody>\n",
              "</table>\n",
              "</div>"
            ],
            "text/plain": [
              "   from_not_null  to_not_null  from_or_to_not_null  from_and_to_not_null\n",
              "0           44.0         26.0                 49.0                  21.0"
            ]
          },
          "execution_count": 19,
          "metadata": {},
          "output_type": "execute_result"
        }
      ],
      "source": [
        "r = pd.read_sql_query(query_4_2_1,engine)\n",
        "r"
      ]
    },
    {
      "cell_type": "markdown",
      "id": "635c4d5d-f323-4c66-b428-50a088120aa0",
      "metadata": {
        "id": "635c4d5d-f323-4c66-b428-50a088120aa0"
      },
      "source": [
        "3. Найдите средние значения для нижней и верхней границы зарплатной вилки. Округлите значения до целого."
      ]
    },
    {
      "cell_type": "code",
      "execution_count": 20,
      "id": "603cdbe4-0ec3-4106-8eaf-c73fcdd29165",
      "metadata": {
        "id": "603cdbe4-0ec3-4106-8eaf-c73fcdd29165"
      },
      "outputs": [],
      "source": [
        "# Подготавливаем SQL-запрос для получения средней и медианной зарплаты\n",
        "query_4_3 = f'''\n",
        "SELECT\n",
        "      ROUND(AVG(salary_from)) AS avg_salary_from,          -- Средняя зарплата (от) округленная\n",
        "      ROUND(AVG(salary_to)) AS avg_salary_to,              -- Средняя зарплата (до) округленная\n",
        "      PERCENTILE_CONT(0.5) WITHIN GROUP (ORDER BY salary_from) AS median_salary_from,  -- Медианная зарплата (от)\n",
        "      PERCENTILE_CONT(0.5) WITHIN GROUP (ORDER BY salary_to) AS median_salary_to       -- Медианная зарплата (до)\n",
        "FROM\n",
        "      vacancies                                             -- Таблица с вакансиями\n",
        "'''"
      ]
    },
    {
      "cell_type": "code",
      "execution_count": 21,
      "id": "pswpAb66ovZZ",
      "metadata": {
        "colab": {
          "base_uri": "https://localhost:8080/"
        },
        "id": "pswpAb66ovZZ",
        "outputId": "7c71166b-aca5-4600-e65d-ef3ee0a1925e"
      },
      "outputs": [
        {
          "name": "stdout",
          "output_type": "stream",
          "text": [
            "Среднее значение нижней границы зарплатной вилки равна 71065.0\n",
            "Среднее значение верхней границы зарплатной вилки равна 110537.0\n",
            "Медианное значение нижней границы зарплатной вилки равна 50000.0\n",
            "Медианное значение верхней границы зарплатной вилки равна 80000.0\n"
          ]
        }
      ],
      "source": [
        "avg_salary_fork = pd.read_sql_query(query_4_3, engine)\n",
        "print(f\"Среднее значение нижней границы зарплатной вилки равна {avg_salary_fork['avg_salary_from'].iloc[0]}\\n\\\n",
        "Среднее значение верхней границы зарплатной вилки равна {avg_salary_fork['avg_salary_to'].iloc[0]}\\n\\\n",
        "Медианное значение нижней границы зарплатной вилки равна {avg_salary_fork['median_salary_from'].iloc[0]}\\n\\\n",
        "Медианное значение верхней границы зарплатной вилки равна {avg_salary_fork['median_salary_to'].iloc[0]}\")"
      ]
    },
    {
      "cell_type": "markdown",
      "id": "f3fdaec9-5fd3-4260-9cf5-1d7406b628a5",
      "metadata": {
        "id": "f3fdaec9-5fd3-4260-9cf5-1d7406b628a5"
      },
      "source": [
        "4. Напишите запрос, который выведет количество вакансий для каждого сочетания типа рабочего графика (schedule) и типа трудоустройства (employment), используемого в вакансиях. Результат отсортируйте по убыванию количества.\n"
      ]
    },
    {
      "cell_type": "code",
      "execution_count": 22,
      "id": "1ea710ec-871b-431e-9462-c7d0fd87011b",
      "metadata": {
        "id": "1ea710ec-871b-431e-9462-c7d0fd87011b"
      },
      "outputs": [],
      "source": [
        "query_4_4 = f'''\n",
        "SELECT\n",
        "      schedule,\n",
        "      employment,\n",
        "      count(*) as cnt\n",
        "FROM\n",
        "      vacancies\n",
        "GROUP BY\n",
        "        schedule,\n",
        "        employment\n",
        "ORDER BY\n",
        "        3 DESC\n",
        "'''"
      ]
    },
    {
      "cell_type": "code",
      "execution_count": 23,
      "id": "lGUVqavdo4JQ",
      "metadata": {
        "colab": {
          "base_uri": "https://localhost:8080/",
          "height": 613
        },
        "id": "lGUVqavdo4JQ",
        "outputId": "3c359864-1a1a-41ad-d8b8-7c141af5f1e7"
      },
      "outputs": [
        {
          "data": {
            "text/html": [
              "<div>\n",
              "<style scoped>\n",
              "    .dataframe tbody tr th:only-of-type {\n",
              "        vertical-align: middle;\n",
              "    }\n",
              "\n",
              "    .dataframe tbody tr th {\n",
              "        vertical-align: top;\n",
              "    }\n",
              "\n",
              "    .dataframe thead th {\n",
              "        text-align: right;\n",
              "    }\n",
              "</style>\n",
              "<table border=\"1\" class=\"dataframe\">\n",
              "  <thead>\n",
              "    <tr style=\"text-align: right;\">\n",
              "      <th></th>\n",
              "      <th>schedule</th>\n",
              "      <th>employment</th>\n",
              "      <th>cnt</th>\n",
              "    </tr>\n",
              "  </thead>\n",
              "  <tbody>\n",
              "    <tr>\n",
              "      <th>0</th>\n",
              "      <td>Полный день</td>\n",
              "      <td>Полная занятость</td>\n",
              "      <td>35367</td>\n",
              "    </tr>\n",
              "    <tr>\n",
              "      <th>1</th>\n",
              "      <td>Удаленная работа</td>\n",
              "      <td>Полная занятость</td>\n",
              "      <td>7802</td>\n",
              "    </tr>\n",
              "    <tr>\n",
              "      <th>2</th>\n",
              "      <td>Гибкий график</td>\n",
              "      <td>Полная занятость</td>\n",
              "      <td>1593</td>\n",
              "    </tr>\n",
              "    <tr>\n",
              "      <th>3</th>\n",
              "      <td>Удаленная работа</td>\n",
              "      <td>Частичная занятость</td>\n",
              "      <td>1312</td>\n",
              "    </tr>\n",
              "    <tr>\n",
              "      <th>4</th>\n",
              "      <td>Сменный график</td>\n",
              "      <td>Полная занятость</td>\n",
              "      <td>940</td>\n",
              "    </tr>\n",
              "    <tr>\n",
              "      <th>5</th>\n",
              "      <td>Полный день</td>\n",
              "      <td>Стажировка</td>\n",
              "      <td>569</td>\n",
              "    </tr>\n",
              "    <tr>\n",
              "      <th>6</th>\n",
              "      <td>Вахтовый метод</td>\n",
              "      <td>Полная занятость</td>\n",
              "      <td>367</td>\n",
              "    </tr>\n",
              "    <tr>\n",
              "      <th>7</th>\n",
              "      <td>Полный день</td>\n",
              "      <td>Частичная занятость</td>\n",
              "      <td>347</td>\n",
              "    </tr>\n",
              "    <tr>\n",
              "      <th>8</th>\n",
              "      <td>Гибкий график</td>\n",
              "      <td>Частичная занятость</td>\n",
              "      <td>312</td>\n",
              "    </tr>\n",
              "    <tr>\n",
              "      <th>9</th>\n",
              "      <td>Полный день</td>\n",
              "      <td>Проектная работа</td>\n",
              "      <td>141</td>\n",
              "    </tr>\n",
              "    <tr>\n",
              "      <th>10</th>\n",
              "      <td>Удаленная работа</td>\n",
              "      <td>Проектная работа</td>\n",
              "      <td>133</td>\n",
              "    </tr>\n",
              "    <tr>\n",
              "      <th>11</th>\n",
              "      <td>Гибкий график</td>\n",
              "      <td>Стажировка</td>\n",
              "      <td>116</td>\n",
              "    </tr>\n",
              "    <tr>\n",
              "      <th>12</th>\n",
              "      <td>Сменный график</td>\n",
              "      <td>Частичная занятость</td>\n",
              "      <td>101</td>\n",
              "    </tr>\n",
              "    <tr>\n",
              "      <th>13</th>\n",
              "      <td>Удаленная работа</td>\n",
              "      <td>Стажировка</td>\n",
              "      <td>64</td>\n",
              "    </tr>\n",
              "    <tr>\n",
              "      <th>14</th>\n",
              "      <td>Гибкий график</td>\n",
              "      <td>Проектная работа</td>\n",
              "      <td>18</td>\n",
              "    </tr>\n",
              "    <tr>\n",
              "      <th>15</th>\n",
              "      <td>Сменный график</td>\n",
              "      <td>Стажировка</td>\n",
              "      <td>12</td>\n",
              "    </tr>\n",
              "    <tr>\n",
              "      <th>16</th>\n",
              "      <td>Вахтовый метод</td>\n",
              "      <td>Проектная работа</td>\n",
              "      <td>2</td>\n",
              "    </tr>\n",
              "    <tr>\n",
              "      <th>17</th>\n",
              "      <td>Сменный график</td>\n",
              "      <td>Проектная работа</td>\n",
              "      <td>1</td>\n",
              "    </tr>\n",
              "  </tbody>\n",
              "</table>\n",
              "</div>"
            ],
            "text/plain": [
              "            schedule           employment    cnt\n",
              "0        Полный день     Полная занятость  35367\n",
              "1   Удаленная работа     Полная занятость   7802\n",
              "2      Гибкий график     Полная занятость   1593\n",
              "3   Удаленная работа  Частичная занятость   1312\n",
              "4     Сменный график     Полная занятость    940\n",
              "5        Полный день           Стажировка    569\n",
              "6     Вахтовый метод     Полная занятость    367\n",
              "7        Полный день  Частичная занятость    347\n",
              "8      Гибкий график  Частичная занятость    312\n",
              "9        Полный день     Проектная работа    141\n",
              "10  Удаленная работа     Проектная работа    133\n",
              "11     Гибкий график           Стажировка    116\n",
              "12    Сменный график  Частичная занятость    101\n",
              "13  Удаленная работа           Стажировка     64\n",
              "14     Гибкий график     Проектная работа     18\n",
              "15    Сменный график           Стажировка     12\n",
              "16    Вахтовый метод     Проектная работа      2\n",
              "17    Сменный график     Проектная работа      1"
            ]
          },
          "execution_count": 23,
          "metadata": {},
          "output_type": "execute_result"
        }
      ],
      "source": [
        "cnt_vacancies_by_shedule_empl = pd.read_sql_query(query_4_4, engine)\n",
        "cnt_vacancies_by_shedule_empl"
      ]
    },
    {
      "cell_type": "markdown",
      "id": "0136ffee-0ead-4a6b-b608-61d1c753a438",
      "metadata": {
        "id": "0136ffee-0ead-4a6b-b608-61d1c753a438"
      },
      "source": [
        "5. Напишите запрос, выводящий значения поля Требуемый опыт работы (experience) в порядке возрастания количества вакансий, в которых указан данный вариант опыта."
      ]
    },
    {
      "cell_type": "code",
      "execution_count": 24,
      "id": "5b3a8e79-f7ab-4008-b767-12aea3a205ea",
      "metadata": {
        "id": "5b3a8e79-f7ab-4008-b767-12aea3a205ea"
      },
      "outputs": [],
      "source": [
        "query_4_5 = f'''\n",
        "SELECT\n",
        "      experience,\n",
        "      count(*) as cnt\n",
        "FROM\n",
        "      vacancies\n",
        "GROUP BY\n",
        "      experience\n",
        "ORDER BY\n",
        "        2\n",
        "'''"
      ]
    },
    {
      "cell_type": "code",
      "execution_count": 25,
      "id": "3Is64Y-hpDpq",
      "metadata": {
        "colab": {
          "base_uri": "https://localhost:8080/",
          "height": 174
        },
        "id": "3Is64Y-hpDpq",
        "outputId": "011b57c4-6f23-4f50-82f4-e5c89bde83db"
      },
      "outputs": [
        {
          "data": {
            "text/html": [
              "<div>\n",
              "<style scoped>\n",
              "    .dataframe tbody tr th:only-of-type {\n",
              "        vertical-align: middle;\n",
              "    }\n",
              "\n",
              "    .dataframe tbody tr th {\n",
              "        vertical-align: top;\n",
              "    }\n",
              "\n",
              "    .dataframe thead th {\n",
              "        text-align: right;\n",
              "    }\n",
              "</style>\n",
              "<table border=\"1\" class=\"dataframe\">\n",
              "  <thead>\n",
              "    <tr style=\"text-align: right;\">\n",
              "      <th></th>\n",
              "      <th>experience</th>\n",
              "      <th>cnt</th>\n",
              "    </tr>\n",
              "  </thead>\n",
              "  <tbody>\n",
              "    <tr>\n",
              "      <th>0</th>\n",
              "      <td>Более 6 лет</td>\n",
              "      <td>1337</td>\n",
              "    </tr>\n",
              "    <tr>\n",
              "      <th>1</th>\n",
              "      <td>Нет опыта</td>\n",
              "      <td>7197</td>\n",
              "    </tr>\n",
              "    <tr>\n",
              "      <th>2</th>\n",
              "      <td>От 3 до 6 лет</td>\n",
              "      <td>14511</td>\n",
              "    </tr>\n",
              "    <tr>\n",
              "      <th>3</th>\n",
              "      <td>От 1 года до 3 лет</td>\n",
              "      <td>26152</td>\n",
              "    </tr>\n",
              "  </tbody>\n",
              "</table>\n",
              "</div>"
            ],
            "text/plain": [
              "           experience    cnt\n",
              "0         Более 6 лет   1337\n",
              "1           Нет опыта   7197\n",
              "2       От 3 до 6 лет  14511\n",
              "3  От 1 года до 3 лет  26152"
            ]
          },
          "execution_count": 25,
          "metadata": {},
          "output_type": "execute_result"
        }
      ],
      "source": [
        "cnt_vacancies_by_exp = pd.read_sql_query(query_4_5, engine)\n",
        "cnt_vacancies_by_exp"
      ]
    },
    {
      "cell_type": "markdown",
      "id": "oq2b7n1QpIka",
      "metadata": {
        "id": "oq2b7n1QpIka"
      },
      "source": [
        "***"
      ]
    },
    {
      "cell_type": "markdown",
      "id": "PbUUn2A_1zlS",
      "metadata": {
        "id": "PbUUn2A_1zlS"
      },
      "source": [
        "* **Лидеры по количеству вакансий**:\n",
        "\n",
        "Москва, Санкт-Петербург и Новосибирск.\n",
        "Это объясняется тем, что крупные города обычно имеют развитую экономику и большой рынок труда, что привлекает как местных специалистов, так и талантливых специалистов из других регионов. Также в больших городах чаще встречаются компании различных отраслей, что также способствует большему количеству вакансий.\n",
        "* **Диапазоны зарплат и карьерный рост**\n",
        "\n",
        "Только половина вакансий указывает либо нижнюю, либо верхнюю границу зарплаты. В большинстве случаев указывается нижняя граница зарплаты, что говорит о том, что половина вакансий предлагает карьерный рост или возможности для получения более высокой зарплаты. Некоторые вакансии вообще не указывают зарплату, что может означать, что обсуждение зарплаты и условий работы может происходить на этапе собеседования, что может быть как плюсом, так и минусом для соискателей. В целом, наличие различных вариантов зарплаты в вакансиях свидетельствует о разнообразии предложений на рынке труда и дает соискателям возможность выбора.\n",
        "* **Средние диапазоны зарплат**\n",
        "\n",
        "Средний диапозон зарплат, которые предлагает работодатель варьируются от 71 тыс.руб до 110 тыс.руб. Но если взглянуть на медианное значение, то получм цифры значительно ниже - от 50 до 80 тыс.руб. Такую разницу получаем за счет крупных городов, потому как в крупных городах уровень зарплат всегда выше.\n",
        "* **График работы и опыт**\n",
        "\n",
        "    * Большинство вакансий требуют сотрудников на полную занятость и полный рабочий день. Вакансии на удаленную работу с полным днем в 4,5 раза менее распространены. Среди стажировок и проектных работ также чаще требуются сотрудники на полный день.\n",
        "    * Работодатели в основном ищут сотрудников с опытом работы от 1 до 6 лет, причем большинство вакансий предназначены для опыта от 1 года до 3 лет. Лишь в 15% вакансий требуются сотрудники без опыта, а в 3% вакансий требуется очень высокий опыт работы, более 6 лет.\n"
      ]
    },
    {
      "cell_type": "markdown",
      "id": "7ea20ab6-04a7-40a0-adec-443a0e5a42c3",
      "metadata": {
        "id": "7ea20ab6-04a7-40a0-adec-443a0e5a42c3"
      },
      "source": [
        "# Юнит 5. Анализ работодателей"
      ]
    },
    {
      "cell_type": "markdown",
      "id": "968aed80-74ef-4ffb-b5bf-c65b84e9caea",
      "metadata": {
        "id": "968aed80-74ef-4ffb-b5bf-c65b84e9caea"
      },
      "source": [
        "1. Напишите запрос, который позволит узнать, какие работодатели находятся на первом и пятом месте по количеству вакансий."
      ]
    },
    {
      "cell_type": "code",
      "execution_count": 26,
      "id": "f2d62796-d400-4ec1-a675-88112739a50e",
      "metadata": {
        "id": "f2d62796-d400-4ec1-a675-88112739a50e"
      },
      "outputs": [],
      "source": [
        "# SQL-запрос для получения топ-5 работодателей по количеству размещенных вакансий\n",
        "query_5_1 = f'''\n",
        "SELECT\n",
        "      e.name AS employer_name,                     -- Имя работодателя\n",
        "      COUNT(v.id) AS cnt_vacancies                 -- Количество вакансий, размещенных работодателем\n",
        "FROM\n",
        "      employers e                                  -- Таблица работодателей\n",
        "JOIN\n",
        "      vacancies v                                  -- Таблица вакансий\n",
        "ON\n",
        "      v.employer_id = e.id                        -- Соединяем таблицы по идентификатору работодателя\n",
        "GROUP BY\n",
        "      e.name                                       -- Группируем результаты по имени работодателя\n",
        "ORDER BY\n",
        "      cnt_vacancies DESC                           -- Сортируем по количеству вакансий в порядке убывания\n",
        "LIMIT\n",
        "      5                                            -- Ограничиваем вывод 5 записями\n",
        "'''"
      ]
    },
    {
      "cell_type": "code",
      "execution_count": 27,
      "id": "64tOMkAxqkQk",
      "metadata": {
        "colab": {
          "base_uri": "https://localhost:8080/",
          "height": 240
        },
        "id": "64tOMkAxqkQk",
        "outputId": "fa8013ee-453e-4eb1-ba0f-a124bac52114"
      },
      "outputs": [
        {
          "name": "stdout",
          "output_type": "stream",
          "text": [
            "На первом месте по количеству размещенных вакансий находится Яндекс,\n",
            "На пятом месте - Газпром нефть\n"
          ]
        },
        {
          "data": {
            "text/html": [
              "<div>\n",
              "<style scoped>\n",
              "    .dataframe tbody tr th:only-of-type {\n",
              "        vertical-align: middle;\n",
              "    }\n",
              "\n",
              "    .dataframe tbody tr th {\n",
              "        vertical-align: top;\n",
              "    }\n",
              "\n",
              "    .dataframe thead th {\n",
              "        text-align: right;\n",
              "    }\n",
              "</style>\n",
              "<table border=\"1\" class=\"dataframe\">\n",
              "  <thead>\n",
              "    <tr style=\"text-align: right;\">\n",
              "      <th></th>\n",
              "      <th>employer_name</th>\n",
              "      <th>cnt_vacancies</th>\n",
              "    </tr>\n",
              "  </thead>\n",
              "  <tbody>\n",
              "    <tr>\n",
              "      <th>0</th>\n",
              "      <td>Яндекс</td>\n",
              "      <td>1933</td>\n",
              "    </tr>\n",
              "    <tr>\n",
              "      <th>1</th>\n",
              "      <td>Ростелеком</td>\n",
              "      <td>491</td>\n",
              "    </tr>\n",
              "    <tr>\n",
              "      <th>2</th>\n",
              "      <td>Тинькофф</td>\n",
              "      <td>444</td>\n",
              "    </tr>\n",
              "    <tr>\n",
              "      <th>3</th>\n",
              "      <td>СБЕР</td>\n",
              "      <td>428</td>\n",
              "    </tr>\n",
              "    <tr>\n",
              "      <th>4</th>\n",
              "      <td>Газпром нефть</td>\n",
              "      <td>331</td>\n",
              "    </tr>\n",
              "  </tbody>\n",
              "</table>\n",
              "</div>"
            ],
            "text/plain": [
              "   employer_name  cnt_vacancies\n",
              "0         Яндекс           1933\n",
              "1     Ростелеком            491\n",
              "2       Тинькофф            444\n",
              "3           СБЕР            428\n",
              "4  Газпром нефть            331"
            ]
          },
          "metadata": {},
          "output_type": "display_data"
        }
      ],
      "source": [
        "# Выполнение SQL-запроса и сохранение результата в DataFrame\n",
        "cnt_vacancies_by_empl = pd.read_sql_query(query_5_1, engine)\n",
        "\n",
        "# Вывод информации о работодателе с наибольшим и наименьшим количеством вакансий\n",
        "print(f\"На первом месте по количеству размещенных вакансий находится {cnt_vacancies_by_empl['employer_name'].iloc[0]},\\n\\\n",
        "На пятом месте - {cnt_vacancies_by_empl['employer_name'].iloc[4]}\")\n",
        "\n",
        "# Отображение DataFrame с количеством вакансий по работодателям\n",
        "display(cnt_vacancies_by_empl)"
      ]
    },
    {
      "cell_type": "markdown",
      "id": "68377cfc-b378-43dc-ab7d-1195abf2c515",
      "metadata": {
        "id": "68377cfc-b378-43dc-ab7d-1195abf2c515"
      },
      "source": [
        "2. Напишите запрос, который для каждого региона выведет количество работодателей и вакансий в нём.\n",
        "Среди регионов, в которых нет вакансий, найдите тот, в котором наибольшее количество работодателей.\n"
      ]
    },
    {
      "cell_type": "code",
      "execution_count": 28,
      "id": "dd7df27a-e3e8-412e-a21a-5d389b71e891",
      "metadata": {
        "id": "dd7df27a-e3e8-412e-a21a-5d389b71e891"
      },
      "outputs": [],
      "source": [
        "# SQL-запрос для получения количества вакансий и работодателей по областям\n",
        "query_5_2 = f'''\n",
        "WITH cnt_e AS (  -- Определяем временную таблицу для подсчета работодателей\n",
        "    SELECT\n",
        "        a.name AS area_name,                   -- Имя области\n",
        "        COUNT(DISTINCT e.id) AS cnt_employers  -- Количество уникальных работодателей\n",
        "    FROM\n",
        "        areas a                                -- Таблица областей\n",
        "    LEFT JOIN\n",
        "        employers e                            -- Таблица работодателей\n",
        "    ON\n",
        "        e.area = a.id                         -- Соединяем по идентификатору области\n",
        "    GROUP BY\n",
        "        a.name                                -- Группируем результаты по имени области\n",
        "),\n",
        "cnt_v AS (  -- Определяем временную таблицу для подсчета вакансий\n",
        "    SELECT\n",
        "        a.name AS area_name,                   -- Имя области\n",
        "        COUNT(DISTINCT v.id) AS cnt_vacancies  -- Количество уникальных вакансий\n",
        "    FROM\n",
        "        areas a                                -- Таблица областей\n",
        "    LEFT JOIN\n",
        "        vacancies v                            -- Таблица вакансий\n",
        "    ON\n",
        "        v.area_id = a.id                      -- Соединяем по идентификатору области\n",
        "    GROUP BY\n",
        "        a.name                                -- Группируем результаты по имени области\n",
        ")\n",
        "\n",
        "SELECT\n",
        "    v.area_name,                               -- Имя области из временной таблицы cnt_v\n",
        "    v.cnt_vacancies,                           -- Количество вакансий из cnt_v\n",
        "    e.cnt_employers                            -- Количество работодателей из cnt_e\n",
        "FROM\n",
        "    cnt_v v                                    -- Используем временную таблицу cnt_v\n",
        "LEFT JOIN\n",
        "    cnt_e e                                    -- Соединяем с временной таблицей cnt_e\n",
        "ON\n",
        "    e.area_name = v.area_name                 -- Соединяем по имени области\n",
        "ORDER BY\n",
        "    2,                                         -- Сортируем результаты по количеству вакансий (второй столбец)\n",
        "    3 DESC                                     -- Затем по количеству работодателей (третий столбец) в порядке убывания\n",
        "'''"
      ]
    },
    {
      "cell_type": "code",
      "execution_count": 29,
      "id": "x1ikWbydrbf6",
      "metadata": {
        "colab": {
          "base_uri": "https://localhost:8080/",
          "height": 423
        },
        "id": "x1ikWbydrbf6",
        "outputId": "e39deff7-876a-4f9e-8490-ae953f08e24e"
      },
      "outputs": [
        {
          "data": {
            "text/html": [
              "<div>\n",
              "<style scoped>\n",
              "    .dataframe tbody tr th:only-of-type {\n",
              "        vertical-align: middle;\n",
              "    }\n",
              "\n",
              "    .dataframe tbody tr th {\n",
              "        vertical-align: top;\n",
              "    }\n",
              "\n",
              "    .dataframe thead th {\n",
              "        text-align: right;\n",
              "    }\n",
              "</style>\n",
              "<table border=\"1\" class=\"dataframe\">\n",
              "  <thead>\n",
              "    <tr style=\"text-align: right;\">\n",
              "      <th></th>\n",
              "      <th>area_name</th>\n",
              "      <th>cnt_vacancies</th>\n",
              "      <th>cnt_employers</th>\n",
              "    </tr>\n",
              "  </thead>\n",
              "  <tbody>\n",
              "    <tr>\n",
              "      <th>0</th>\n",
              "      <td>Россия</td>\n",
              "      <td>0</td>\n",
              "      <td>410</td>\n",
              "    </tr>\n",
              "    <tr>\n",
              "      <th>1</th>\n",
              "      <td>Казахстан</td>\n",
              "      <td>0</td>\n",
              "      <td>207</td>\n",
              "    </tr>\n",
              "    <tr>\n",
              "      <th>2</th>\n",
              "      <td>Московская область</td>\n",
              "      <td>0</td>\n",
              "      <td>75</td>\n",
              "    </tr>\n",
              "    <tr>\n",
              "      <th>3</th>\n",
              "      <td>Краснодарский край</td>\n",
              "      <td>0</td>\n",
              "      <td>19</td>\n",
              "    </tr>\n",
              "    <tr>\n",
              "      <th>4</th>\n",
              "      <td>Беларусь</td>\n",
              "      <td>0</td>\n",
              "      <td>18</td>\n",
              "    </tr>\n",
              "    <tr>\n",
              "      <th>...</th>\n",
              "      <td>...</td>\n",
              "      <td>...</td>\n",
              "      <td>...</td>\n",
              "    </tr>\n",
              "    <tr>\n",
              "      <th>1357</th>\n",
              "      <td>Алматы</td>\n",
              "      <td>1892</td>\n",
              "      <td>721</td>\n",
              "    </tr>\n",
              "    <tr>\n",
              "      <th>1358</th>\n",
              "      <td>Новосибирск</td>\n",
              "      <td>2006</td>\n",
              "      <td>573</td>\n",
              "    </tr>\n",
              "    <tr>\n",
              "      <th>1359</th>\n",
              "      <td>Минск</td>\n",
              "      <td>2112</td>\n",
              "      <td>1115</td>\n",
              "    </tr>\n",
              "    <tr>\n",
              "      <th>1360</th>\n",
              "      <td>Санкт-Петербург</td>\n",
              "      <td>2851</td>\n",
              "      <td>2217</td>\n",
              "    </tr>\n",
              "    <tr>\n",
              "      <th>1361</th>\n",
              "      <td>Москва</td>\n",
              "      <td>5333</td>\n",
              "      <td>5864</td>\n",
              "    </tr>\n",
              "  </tbody>\n",
              "</table>\n",
              "<p>1362 rows × 3 columns</p>\n",
              "</div>"
            ],
            "text/plain": [
              "               area_name  cnt_vacancies  cnt_employers\n",
              "0                 Россия              0            410\n",
              "1              Казахстан              0            207\n",
              "2     Московская область              0             75\n",
              "3     Краснодарский край              0             19\n",
              "4               Беларусь              0             18\n",
              "...                  ...            ...            ...\n",
              "1357              Алматы           1892            721\n",
              "1358         Новосибирск           2006            573\n",
              "1359               Минск           2112           1115\n",
              "1360     Санкт-Петербург           2851           2217\n",
              "1361              Москва           5333           5864\n",
              "\n",
              "[1362 rows x 3 columns]"
            ]
          },
          "execution_count": 29,
          "metadata": {},
          "output_type": "execute_result"
        }
      ],
      "source": [
        "cnt_empl_vac_by_areas = pd.read_sql_query(query_5_2, engine)\n",
        "cnt_empl_vac_by_areas"
      ]
    },
    {
      "cell_type": "markdown",
      "id": "f2fe0acb-ab1a-4e15-9326-2560e22d73c1",
      "metadata": {
        "id": "f2fe0acb-ab1a-4e15-9326-2560e22d73c1"
      },
      "source": [
        "3. Для каждого работодателя посчитайте количество регионов, в которых он публикует свои вакансии. Отсортируйте результат по убыванию количества.\n"
      ]
    },
    {
      "cell_type": "code",
      "execution_count": 30,
      "id": "6271f8ad-bd2e-4196-ae4a-5b39c4c1010e",
      "metadata": {
        "id": "6271f8ad-bd2e-4196-ae4a-5b39c4c1010e"
      },
      "outputs": [],
      "source": [
        "# SQL-запрос для получения количества уникальных регионов, в которых размещены вакансии каждого работодателя\n",
        "query_5_3 = f'''\n",
        "SELECT\n",
        "      e.name AS employer_name,                   -- Имя работодателя\n",
        "      COUNT(DISTINCT v.area_id) AS cnt_areas    -- Количество уникальных регионов, где размещены вакансии\n",
        "FROM\n",
        "      employers e                               -- Таблица работодателей\n",
        "JOIN\n",
        "      vacancies v                               -- Таблица вакансий\n",
        "ON\n",
        "      v.employer_id = e.id                     -- Соединение по идентификатору работодателя\n",
        "GROUP BY\n",
        "      e.name                                    -- Группировка результатов по имени работодателя\n",
        "ORDER BY\n",
        "      cnt_areas DESC                           -- Сортировка по количеству регионов в порядке убывания\n",
        "'''"
      ]
    },
    {
      "cell_type": "code",
      "execution_count": 31,
      "id": "1EIvX3HasH4F",
      "metadata": {
        "colab": {
          "base_uri": "https://localhost:8080/",
          "height": 458
        },
        "id": "1EIvX3HasH4F",
        "outputId": "6fcb151b-49eb-49bf-b664-e8babc9954e3"
      },
      "outputs": [
        {
          "name": "stdout",
          "output_type": "stream",
          "text": [
            "Яндекс лидирует среди всех работодателей по количеству регионов, где размещаются вакансии.\n",
            "Вакансии этого работодателя размещены в 181 регионе\n"
          ]
        },
        {
          "data": {
            "text/html": [
              "<div>\n",
              "<style scoped>\n",
              "    .dataframe tbody tr th:only-of-type {\n",
              "        vertical-align: middle;\n",
              "    }\n",
              "\n",
              "    .dataframe tbody tr th {\n",
              "        vertical-align: top;\n",
              "    }\n",
              "\n",
              "    .dataframe thead th {\n",
              "        text-align: right;\n",
              "    }\n",
              "</style>\n",
              "<table border=\"1\" class=\"dataframe\">\n",
              "  <thead>\n",
              "    <tr style=\"text-align: right;\">\n",
              "      <th></th>\n",
              "      <th>employer_name</th>\n",
              "      <th>cnt_areas</th>\n",
              "    </tr>\n",
              "  </thead>\n",
              "  <tbody>\n",
              "    <tr>\n",
              "      <th>0</th>\n",
              "      <td>Яндекс</td>\n",
              "      <td>181</td>\n",
              "    </tr>\n",
              "    <tr>\n",
              "      <th>1</th>\n",
              "      <td>Ростелеком</td>\n",
              "      <td>152</td>\n",
              "    </tr>\n",
              "    <tr>\n",
              "      <th>2</th>\n",
              "      <td>Спецремонт</td>\n",
              "      <td>116</td>\n",
              "    </tr>\n",
              "    <tr>\n",
              "      <th>3</th>\n",
              "      <td>Поляков Денис Иванович</td>\n",
              "      <td>88</td>\n",
              "    </tr>\n",
              "    <tr>\n",
              "      <th>4</th>\n",
              "      <td>ООО ЕФИН</td>\n",
              "      <td>71</td>\n",
              "    </tr>\n",
              "    <tr>\n",
              "      <th>...</th>\n",
              "      <td>...</td>\n",
              "      <td>...</td>\n",
              "    </tr>\n",
              "    <tr>\n",
              "      <th>14761</th>\n",
              "      <td>UniSol</td>\n",
              "      <td>1</td>\n",
              "    </tr>\n",
              "    <tr>\n",
              "      <th>14762</th>\n",
              "      <td>UNISTORY LLC</td>\n",
              "      <td>1</td>\n",
              "    </tr>\n",
              "    <tr>\n",
              "      <th>14763</th>\n",
              "      <td>UNIT6</td>\n",
              "      <td>1</td>\n",
              "    </tr>\n",
              "    <tr>\n",
              "      <th>14764</th>\n",
              "      <td>United Distribution</td>\n",
              "      <td>1</td>\n",
              "    </tr>\n",
              "    <tr>\n",
              "      <th>14765</th>\n",
              "      <td>UNITEL LLC</td>\n",
              "      <td>1</td>\n",
              "    </tr>\n",
              "  </tbody>\n",
              "</table>\n",
              "<p>14766 rows × 2 columns</p>\n",
              "</div>"
            ],
            "text/plain": [
              "                employer_name  cnt_areas\n",
              "0                      Яндекс        181\n",
              "1                  Ростелеком        152\n",
              "2                  Спецремонт        116\n",
              "3      Поляков Денис Иванович         88\n",
              "4                   ООО ЕФИН          71\n",
              "...                       ...        ...\n",
              "14761                  UniSol          1\n",
              "14762            UNISTORY LLC          1\n",
              "14763                   UNIT6          1\n",
              "14764     United Distribution          1\n",
              "14765              UNITEL LLC          1\n",
              "\n",
              "[14766 rows x 2 columns]"
            ]
          },
          "metadata": {},
          "output_type": "display_data"
        }
      ],
      "source": [
        "# Выполнение SQL-запроса и сохранение результата в DataFrame\n",
        "cnt_areas_by_empl = pd.read_sql_query(query_5_3, engine)\n",
        "\n",
        "# Вывод информации о работодателе с наибольшим количеством регионов\n",
        "print(f\"{cnt_areas_by_empl['employer_name'].iloc[0]} лидирует среди всех работодателей по количеству регионов, где размещаются вакансии.\\n\\\n",
        "Вакансии этого работодателя размещены в {cnt_areas_by_empl['cnt_areas'].iloc[0]} регионе\")\n",
        "\n",
        "# Отображение DataFrame с количеством регионов по работодателям\n",
        "display(cnt_areas_by_empl)"
      ]
    },
    {
      "cell_type": "markdown",
      "id": "eab2206d-d95b-468b-8e5f-34381abf0ce7",
      "metadata": {
        "id": "eab2206d-d95b-468b-8e5f-34381abf0ce7"
      },
      "source": [
        "4. Напишите запрос для подсчёта количества работодателей, у которых не указана сфера деятельности."
      ]
    },
    {
      "cell_type": "code",
      "execution_count": 32,
      "id": "80defb23-bfb1-4a18-8be6-bf36aa7165d5",
      "metadata": {
        "id": "80defb23-bfb1-4a18-8be6-bf36aa7165d5"
      },
      "outputs": [],
      "source": [
        "query_5_4 = f'''\n",
        "SELECT\n",
        "      count(e.name)\n",
        "FROM\n",
        "      employers e\n",
        "left JOIN\n",
        "      employers_industries ei\n",
        "ON\n",
        "      e.id = ei.employer_id\n",
        "WHERE\n",
        "      ei.industry_id is  NULL\n",
        "'''"
      ]
    },
    {
      "cell_type": "code",
      "execution_count": 33,
      "id": "Dp_yCx6ysQSu",
      "metadata": {
        "colab": {
          "base_uri": "https://localhost:8080/"
        },
        "id": "Dp_yCx6ysQSu",
        "outputId": "7e65c4eb-1bf8-426e-c0de-5dd13d9062fe"
      },
      "outputs": [
        {
          "name": "stdout",
          "output_type": "stream",
          "text": [
            "У 8419 работодателей не указана сфера деятельности.\n"
          ]
        }
      ],
      "source": [
        "epl_not_indust = pd.read_sql_query(query_5_4, engine)\n",
        "print(f\"У {epl_not_indust['count'].iloc[0]} работодателей не указана сфера деятельности.\")"
      ]
    },
    {
      "cell_type": "markdown",
      "id": "0112af31-f6b0-4e3b-82ab-71296e752e5e",
      "metadata": {
        "id": "0112af31-f6b0-4e3b-82ab-71296e752e5e"
      },
      "source": [
        "5. Напишите запрос, чтобы узнать название компании, находящейся на третьем месте в алфавитном списке (по названию) компаний, у которых указано четыре сферы деятельности."
      ]
    },
    {
      "cell_type": "code",
      "execution_count": 34,
      "id": "973b0cfc-a972-470a-8b4a-68744ef220c4",
      "metadata": {
        "id": "973b0cfc-a972-470a-8b4a-68744ef220c4"
      },
      "outputs": [],
      "source": [
        "query_5_5 = f'''\n",
        "SELECT\n",
        "      e.name\n",
        "FROM\n",
        "      employers e\n",
        "left JOIN\n",
        "      employers_industries ei\n",
        "ON\n",
        "      e.id = ei.employer_id\n",
        "GROUP BY\n",
        "      e.name\n",
        "HAVING\n",
        "      count(ei.industry_id) = 4\n",
        "ORDER BY\n",
        "      1\n",
        "OFFSET 2\n",
        "LIMIT 1\n",
        "'''"
      ]
    },
    {
      "cell_type": "code",
      "execution_count": 35,
      "id": "xsPtpp8EsaED",
      "metadata": {
        "colab": {
          "base_uri": "https://localhost:8080/"
        },
        "id": "xsPtpp8EsaED",
        "outputId": "34c665bf-6d90-4ae9-9ece-80f0d1dde0f0"
      },
      "outputs": [
        {
          "name": "stdout",
          "output_type": "stream",
          "text": [
            "На третьем месте в алфавитном списке (по названию) компаний, у которых указано четыре сферы деятельности находится - 2ГИС\n"
          ]
        }
      ],
      "source": [
        "cnt_idustries_by_empl = pd.read_sql_query(query_5_5, engine)\n",
        "print(f\"На третьем месте в алфавитном списке (по названию) компаний, у которых указано четыре сферы деятельности находится - {cnt_idustries_by_empl['name'].iloc[0]}\")"
      ]
    },
    {
      "cell_type": "markdown",
      "id": "3bfcfdaf-755d-4d2b-8ed8-326201dc07ab",
      "metadata": {
        "id": "3bfcfdaf-755d-4d2b-8ed8-326201dc07ab"
      },
      "source": [
        "6. С помощью запроса выясните, у какого количества работодателей в качестве сферы деятельности указана Разработка программного обеспечения.\n"
      ]
    },
    {
      "cell_type": "code",
      "execution_count": 36,
      "id": "ad3f270f-2991-47eb-929b-e8f88a55b0d1",
      "metadata": {
        "id": "ad3f270f-2991-47eb-929b-e8f88a55b0d1"
      },
      "outputs": [],
      "source": [
        "query_5_6 = f'''\n",
        "SELECT\n",
        "      count(e.name)\n",
        "FROM\n",
        "      employers e\n",
        "left JOIN\n",
        "      employers_industries ei\n",
        "ON\n",
        "      e.id = ei.employer_id\n",
        "WHERE\n",
        "    ei.industry_id = (select id from industries where name = 'Разработка программного обеспечения')\n",
        "ORDER BY\n",
        "      1\n",
        "'''"
      ]
    },
    {
      "cell_type": "code",
      "execution_count": 37,
      "id": "PEhnIYx-ecCs",
      "metadata": {
        "colab": {
          "base_uri": "https://localhost:8080/"
        },
        "id": "PEhnIYx-ecCs",
        "outputId": "ccb6390d-265e-4434-e3e1-84ea1c1a3f93"
      },
      "outputs": [
        {
          "name": "stdout",
          "output_type": "stream",
          "text": [
            "У 3553 работодателей в качестве сферы деятельности указана «Разработка программного обеспечения».\n"
          ]
        }
      ],
      "source": [
        "cnt_indust_software_dev = pd.read_sql_query(query_5_6, engine)\n",
        "print(f\"У {cnt_indust_software_dev['count'].iloc[0]} работодателей в качестве сферы деятельности указана «Разработка программного обеспечения».\")"
      ]
    },
    {
      "cell_type": "markdown",
      "id": "7b02bb86-0546-40fb-94a4-242f050a5c57",
      "metadata": {
        "id": "7b02bb86-0546-40fb-94a4-242f050a5c57"
      },
      "source": [
        "7. Для компании «Яндекс» выведите список регионов-миллионников, в которых представлены вакансии компании, вместе с количеством вакансий в этих регионах. Также добавьте строку Total с общим количеством вакансий компании. Результат отсортируйте по возрастанию количества.\n",
        "\n",
        "Список городов-милионников надо взять [отсюда](https://ru.wikipedia.org/wiki/%D0%93%D0%BE%D1%80%D0%BE%D0%B4%D0%B0-%D0%BC%D0%B8%D0%BB%D0%BB%D0%B8%D0%BE%D0%BD%D0%B5%D1%80%D1%8B_%D0%A0%D0%BE%D1%81%D1%81%D0%B8%D0%B8).\n",
        "\n",
        "Если возникнут трудности с этим задание посмотрите материалы модуля  PYTHON-17. Как получать данные из веб-источников и API."
      ]
    },
    {
      "cell_type": "code",
      "execution_count": 38,
      "id": "ZdfrL6gIs1Pn",
      "metadata": {
        "id": "ZdfrL6gIs1Pn"
      },
      "outputs": [],
      "source": [
        "url = 'https://ru.m.wikipedia.org/wiki/Города-миллионеры_России' # Определяем адрес страницы\n",
        "response = requests.get(url) # Выполняем GET-запрос, содержимое ответа присваивается переменной response\n",
        "page = BeautifulSoup(response.text, 'html.parser') # Создаём объект BeautifulSoup, указывая html-парсер\n",
        "links = page.find_all('a') # Ищем все ссылки на странице и сохраняем в переменной links в виде списка\n",
        "cities_ml = ([link.text for link in links[49:65]])"
      ]
    },
    {
      "cell_type": "code",
      "execution_count": 39,
      "id": "5a0e32a4-e68a-4365-8a39-2fe24c542c36",
      "metadata": {
        "id": "5a0e32a4-e68a-4365-8a39-2fe24c542c36"
      },
      "outputs": [],
      "source": [
        "query_5_7 = f'''\n",
        "SELECT\n",
        "      a.name region,\n",
        "      count(v.id) vacancies\n",
        "FROM\n",
        "      areas a\n",
        "left JOIN\n",
        "      vacancies v\n",
        "ON\n",
        "      v.area_id = a.id\n",
        "WHERE\n",
        "    v.employer_id = (select distinct id from employers where name = 'Яндекс')\n",
        "GROUP BY\n",
        "      a.name\n",
        "ORDER BY\n",
        "      2\n",
        "'''"
      ]
    },
    {
      "cell_type": "code",
      "execution_count": 40,
      "id": "ttPhiO1rsvPq",
      "metadata": {
        "colab": {
          "base_uri": "https://localhost:8080/",
          "height": 582
        },
        "id": "ttPhiO1rsvPq",
        "outputId": "a1374448-4baa-4215-89e1-b532bf518b13"
      },
      "outputs": [
        {
          "data": {
            "text/html": [
              "<div>\n",
              "<style scoped>\n",
              "    .dataframe tbody tr th:only-of-type {\n",
              "        vertical-align: middle;\n",
              "    }\n",
              "\n",
              "    .dataframe tbody tr th {\n",
              "        vertical-align: top;\n",
              "    }\n",
              "\n",
              "    .dataframe thead th {\n",
              "        text-align: right;\n",
              "    }\n",
              "</style>\n",
              "<table border=\"1\" class=\"dataframe\">\n",
              "  <thead>\n",
              "    <tr style=\"text-align: right;\">\n",
              "      <th></th>\n",
              "      <th>region</th>\n",
              "      <th>vacancies</th>\n",
              "    </tr>\n",
              "  </thead>\n",
              "  <tbody>\n",
              "    <tr>\n",
              "      <th>0</th>\n",
              "      <td>Омск</td>\n",
              "      <td>21</td>\n",
              "    </tr>\n",
              "    <tr>\n",
              "      <th>1</th>\n",
              "      <td>Челябинск</td>\n",
              "      <td>22</td>\n",
              "    </tr>\n",
              "    <tr>\n",
              "      <th>2</th>\n",
              "      <td>Красноярск</td>\n",
              "      <td>23</td>\n",
              "    </tr>\n",
              "    <tr>\n",
              "      <th>3</th>\n",
              "      <td>Волгоград</td>\n",
              "      <td>24</td>\n",
              "    </tr>\n",
              "    <tr>\n",
              "      <th>4</th>\n",
              "      <td>Пермь</td>\n",
              "      <td>25</td>\n",
              "    </tr>\n",
              "    <tr>\n",
              "      <th>5</th>\n",
              "      <td>Казань</td>\n",
              "      <td>25</td>\n",
              "    </tr>\n",
              "    <tr>\n",
              "      <th>6</th>\n",
              "      <td>Ростов-на-Дону</td>\n",
              "      <td>25</td>\n",
              "    </tr>\n",
              "    <tr>\n",
              "      <th>7</th>\n",
              "      <td>Уфа</td>\n",
              "      <td>26</td>\n",
              "    </tr>\n",
              "    <tr>\n",
              "      <th>8</th>\n",
              "      <td>Самара</td>\n",
              "      <td>26</td>\n",
              "    </tr>\n",
              "    <tr>\n",
              "      <th>9</th>\n",
              "      <td>Краснодар</td>\n",
              "      <td>30</td>\n",
              "    </tr>\n",
              "    <tr>\n",
              "      <th>10</th>\n",
              "      <td>Воронеж</td>\n",
              "      <td>32</td>\n",
              "    </tr>\n",
              "    <tr>\n",
              "      <th>11</th>\n",
              "      <td>Новосибирск</td>\n",
              "      <td>35</td>\n",
              "    </tr>\n",
              "    <tr>\n",
              "      <th>12</th>\n",
              "      <td>Нижний Новгород</td>\n",
              "      <td>36</td>\n",
              "    </tr>\n",
              "    <tr>\n",
              "      <th>13</th>\n",
              "      <td>Екатеринбург</td>\n",
              "      <td>39</td>\n",
              "    </tr>\n",
              "    <tr>\n",
              "      <th>14</th>\n",
              "      <td>Санкт-Петербург</td>\n",
              "      <td>42</td>\n",
              "    </tr>\n",
              "    <tr>\n",
              "      <th>15</th>\n",
              "      <td>Москва</td>\n",
              "      <td>54</td>\n",
              "    </tr>\n",
              "    <tr>\n",
              "      <th>16</th>\n",
              "      <td>Total</td>\n",
              "      <td>485</td>\n",
              "    </tr>\n",
              "  </tbody>\n",
              "</table>\n",
              "</div>"
            ],
            "text/plain": [
              "             region  vacancies\n",
              "0              Омск         21\n",
              "1         Челябинск         22\n",
              "2        Красноярск         23\n",
              "3         Волгоград         24\n",
              "4             Пермь         25\n",
              "5            Казань         25\n",
              "6    Ростов-на-Дону         25\n",
              "7               Уфа         26\n",
              "8            Самара         26\n",
              "9         Краснодар         30\n",
              "10          Воронеж         32\n",
              "11      Новосибирск         35\n",
              "12  Нижний Новгород         36\n",
              "13     Екатеринбург         39\n",
              "14  Санкт-Петербург         42\n",
              "15           Москва         54\n",
              "16            Total        485"
            ]
          },
          "execution_count": 40,
          "metadata": {},
          "output_type": "execute_result"
        }
      ],
      "source": [
        "yandex = pd.read_sql_query(query_5_7, engine)\n",
        "yandex = yandex[yandex['region'].isin(cities_ml)]\n",
        "new_row = pd.DataFrame({'region': ['Total'], 'vacancies' : [yandex[yandex['region'].isin(cities_ml)]['vacancies'].sum()]})\n",
        "yandex = pd.concat([yandex, new_row], ignore_index=True)\n",
        "yandex"
      ]
    },
    {
      "cell_type": "markdown",
      "id": "04966e40-3bc3-4dc8-9ba2-e80580ce3abc",
      "metadata": {
        "id": "04966e40-3bc3-4dc8-9ba2-e80580ce3abc"
      },
      "source": [
        "***"
      ]
    },
    {
      "cell_type": "markdown",
      "id": "_mEyedm43-AT",
      "metadata": {
        "id": "_mEyedm43-AT"
      },
      "source": [
        "На рынке вакансий наиболее активно представлены крупные компании, включая Яндекс, Ростелеком, Тинькофф, СБЕР, Газпром нефть. Эти компании имеют офисы в различных регионах и активно ищут сотрудников как на центральные, так и на удаленные позиции. На платформе HeadHunter больше всего работодателей из России, причем на втором месте по количеству работодателей расположен Казахстан. Например, компании Яндекс и Ростелеком разместили вакансии более чем в 150 различных регионах. Некоторые работодатели указывают более 10 сфер деятельности, такие как Модуль, Энергия, Прайд. Более 1000 работодателей укажут 4 сферы деятельности, в то время как более 3000 работодателей сферой деятельности называют Разработку программного обеспечения. Компания Яндекс размещает вакансии в столичных и миллионных городах, особенно активно это происходит в Москве, Санкт-Петербурге и Екатеринбурге.\n",
        "\n",
        "В целом, можно сказать, что рынок вакансий представлен широким спектром компаний, сфер деятельности и регионов. Крупные компании активно ищут сотрудников в различных городах, включая как центральные, так и удаленные локации."
      ]
    },
    {
      "cell_type": "markdown",
      "id": "b1ef156a-efcb-49ce-bb23-90763e7f35b2",
      "metadata": {
        "id": "b1ef156a-efcb-49ce-bb23-90763e7f35b2",
        "tags": []
      },
      "source": [
        "# Юнит 6. Предметный анализ"
      ]
    },
    {
      "cell_type": "markdown",
      "id": "b9cd50a0-992d-4988-8463-2b2b1c4629b4",
      "metadata": {
        "id": "b9cd50a0-992d-4988-8463-2b2b1c4629b4"
      },
      "source": [
        "1. Сколько вакансий имеет отношение к данным?\n",
        "\n",
        "Считаем, что вакансия имеет отношение к данным, если в её названии содержатся слова 'data' или 'данн'.\n",
        "\n",
        "*Подсказка: Обратите внимание, что названия вакансий могут быть написаны в любом регистре.*\n"
      ]
    },
    {
      "cell_type": "code",
      "execution_count": 41,
      "id": "i_doxoPp8p5j",
      "metadata": {
        "id": "i_doxoPp8p5j"
      },
      "outputs": [],
      "source": [
        "# SQL-запрос для подсчета количества вакансий, содержащих определенные ключевые слова в названии\n",
        "query_6_1 = text(f'''\n",
        "SELECT\n",
        "      COUNT(*) AS cnt_data_vac,                                      -- Общее количество вакансий, удовлетворяющих условиям\n",
        "      ROUND(COUNT(*)::NUMERIC / (SELECT COUNT(*) FROM vacancies) * 100, 2) AS percent_of_the_total  -- Процент от общего числа вакансий\n",
        "FROM\n",
        "      vacancies                                                      -- Таблица с вакансиями\n",
        "WHERE\n",
        "      name ILIKE :param1                                            -- Фильтр по названию вакансии (нечувствительный к регистру) с параметром :param1\n",
        "OR\n",
        "      name ILIKE :param2                                            -- Фильтр по названию вакансии (нечувствительный к регистру) с параметром :param2\n",
        "''')\n"
      ]
    },
    {
      "cell_type": "code",
      "execution_count": 42,
      "id": "HvNjQBPCYnpp",
      "metadata": {
        "colab": {
          "base_uri": "https://localhost:8080/"
        },
        "id": "HvNjQBPCYnpp",
        "outputId": "768e722c-9e38-461d-a690-b9a424b8b70c"
      },
      "outputs": [
        {
          "name": "stdout",
          "output_type": "stream",
          "text": [
            "1771 вакансия содержит в своем названии 'данн' или 'data'.\n",
            "Это лишь 3.6% от всех вакансий, размещенных на HH.\n"
          ]
        }
      ],
      "source": [
        "# Параметры\n",
        "param_values = {\"param1\": \"%data%\", \"param2\": \"%данн%\"}\n",
        "\n",
        "# Выполнение запроса\n",
        "cnt_suitable_vac = pd.read_sql_query(query_6_1, engine, params=param_values)\n",
        "\n",
        "print(f\"{cnt_suitable_vac['cnt_data_vac'].iloc[0]} вакансия содержит в своем названии 'данн' или 'data'.\\n\\\n",
        "Это лишь {cnt_suitable_vac['percent_of_the_total'].iloc[0]}% от всех вакансий, размещенных на HH.\")"
      ]
    },
    {
      "cell_type": "markdown",
      "id": "4dea20cb-a36b-474a-a0b9-e08e8e3857a5",
      "metadata": {
        "id": "4dea20cb-a36b-474a-a0b9-e08e8e3857a5"
      },
      "source": [
        "2. Сколько есть подходящих вакансий для начинающего дата-сайентиста?\n",
        "Будем считать вакансиями для дата-сайентистов такие, в названии которых есть хотя бы одно из следующих сочетаний:\n",
        "* 'data scientist'\n",
        "* 'data science'\n",
        "* 'исследователь данных'\n",
        "* 'ML' (здесь не нужно брать вакансии по HTML)\n",
        "* 'machine learning'\n",
        "* 'машинн%обучен%'\n",
        "\n",
        "** В следующих заданиях мы продолжим работать с вакансиями по этому условию.*\n",
        "\n",
        "Считаем вакансиями для специалистов уровня Junior следующие:\n",
        "* в названии есть слово 'junior' *или*\n",
        "* требуемый опыт — Нет опыта *или*\n",
        "* тип трудоустройства — Стажировка.\n"
      ]
    },
    {
      "cell_type": "code",
      "execution_count": 43,
      "id": "9ksDJo2vpMW2",
      "metadata": {
        "id": "9ksDJo2vpMW2"
      },
      "outputs": [],
      "source": [
        "query_6_2 = text(f'''\n",
        "SELECT\n",
        "      *\n",
        "FROM\n",
        "      vacancies\n",
        "''')"
      ]
    },
    {
      "cell_type": "code",
      "execution_count": 44,
      "id": "EmjQqitn2v-Y",
      "metadata": {
        "id": "EmjQqitn2v-Y"
      },
      "outputs": [],
      "source": [
        "all_vacancies = pd.read_sql_query(query_6_2, engine)"
      ]
    },
    {
      "cell_type": "code",
      "execution_count": 45,
      "id": "fRk0vwRr235c",
      "metadata": {
        "colab": {
          "base_uri": "https://localhost:8080/"
        },
        "id": "fRk0vwRr235c",
        "outputId": "e02667d2-7f2a-4584-a20d-d39e6f648b72"
      },
      "outputs": [
        {
          "name": "stdout",
          "output_type": "stream",
          "text": [
            "Количество подходящих вакансий для начинающего дата-сайентиста: 51\n"
          ]
        }
      ],
      "source": [
        "\n",
        "# Функция для фильтрации вакансий по ключевым словам для дата-сайентиста\n",
        "def filter_DS_vacancies(df):\n",
        "\n",
        "  data_science_keywords = [\n",
        "      r'\\bdata scientist\\b',           # 'data scientist'\n",
        "      r'\\bdata science\\b',             # 'data science'\n",
        "      r'\\bисследователь данных\\b',         # 'исследователь данных'\n",
        "      r'\\bML\\b',                       # 'ML', не включая HTML\n",
        "      r'\\bmachine learning\\b',         # 'machine learning'\n",
        "      r'\\bмашинн.*обучен.*'                # 'машинн%обучен%', где .* соответствует любому тексту между словами\n",
        "  ]\n",
        "\n",
        "  df = df[\n",
        "      df['name'].str.contains('|'.join(data_science_keywords), case=False, regex=True)\n",
        "  ]\n",
        "  return df\n",
        "# Применяем функцию фильтровки к датафрейму со всеми вакансиями\n",
        "data_sc_vac = filter_DS_vacancies(all_vacancies)\n",
        "# Фильтруем вакансии для уровня Junior\n",
        "junior_conditions = (\n",
        "    data_sc_vac['name'].str.contains('junior', case=False) |\n",
        "    (data_sc_vac['experience'] == 'Нет опыта') |\n",
        "    (data_sc_vac['employment'] == 'Стажировка')\n",
        ")\n",
        "\n",
        "junior_vacancies = data_sc_vac[junior_conditions]\n",
        "h=data_sc_vac[~junior_conditions]\n",
        "# Считаем количество подходящих вакансий\n",
        "number_of_junior_vacancies = junior_vacancies.shape[0]\n",
        "\n",
        "print(f\"Количество подходящих вакансий для начинающего дата-сайентиста: {number_of_junior_vacancies}\")\n"
      ]
    },
    {
      "cell_type": "markdown",
      "id": "eedceb80-c5ca-480e-b27a-278dfb8b4438",
      "metadata": {
        "id": "eedceb80-c5ca-480e-b27a-278dfb8b4438"
      },
      "source": [
        "3. Сколько есть вакансий для DS, в которых в качестве ключевого навыка указан SQL или postgres?\n",
        "\n",
        "** Критерии для отнесения вакансии к DS указаны в предыдущем задании.*"
      ]
    },
    {
      "cell_type": "code",
      "execution_count": 46,
      "id": "69621713-0cc5-4f1b-a1d7-bb144fa6148c",
      "metadata": {
        "id": "69621713-0cc5-4f1b-a1d7-bb144fa6148c"
      },
      "outputs": [],
      "source": [
        "# SQL-запрос для выбора вакансий на основе нескольких условий для названия и опыта\n",
        "query_6_3 = text(f'''\n",
        "    SELECT * FROM vacancies\n",
        "    WHERE\n",
        "        (\n",
        "            name ILIKE :param1 OR          -- Проверяем, совпадает ли название с одним из названий в области data science\n",
        "            name ILIKE :param2 OR\n",
        "            name ILIKE :param3 OR\n",
        "            name ILIKE :param4 OR\n",
        "            name ILIKE :param6 OR          -- Позволяет совпадения, связанные с \"машинным обучением\"\n",
        "            (name ILIKE :param5 AND name NOT ILIKE :param7)  -- Совпадает с 'ML', но исключаем 'HTML'\n",
        "        )\n",
        "        AND\n",
        "        (\n",
        "            name NOT ILIKE :param8 OR      -- Исключаем позиции для junior\n",
        "            experience NOT ILIKE :param9 OR -- Исключаем кандидатов с \"Нет опыта\"\n",
        "            experience NOT ILIKE :param10   -- Исключаем кандидатов, проходящих \"Стажировку\"\n",
        "        )\n",
        "        AND\n",
        "        (\n",
        "            key_skills ILIKE :param11 OR    -- Убедиться, что ключевые навыки включают SQL\n",
        "            key_skills ILIKE :param12      -- Или PostgreSQL\n",
        "        )\n",
        "''')\n",
        "\n",
        "# Параметры, используемые в SQL-запросе\n",
        "param_values_3 = {\n",
        "    \"param1\": \"%data science%\",             # Соответствует 'data science'\n",
        "    \"param2\": \"%data scientist%\",           # Соответствует 'data scientist'\n",
        "    \"param3\": \"%исследователь данных%\",     # Соответствует 'исследователь данных'\n",
        "    \"param4\": \"%machine learning%\",         # Соответствует 'machine learning'\n",
        "    \"param5\": \"%ML%\",                       # Соответствует 'ML'\n",
        "    \"param6\": \"%машинн%обучен%\",            # Соответствует любой последовательности, содержащей 'машинное обучение'\n",
        "    \"param7\": \"%HTML%\",                     # Исключает 'HTML', если есть 'ML'\n",
        "    \"param8\": \"%junior%\",                   # Исключает любые упоминания о позициях 'junior'\n",
        "    \"param9\": \"%Нет опыта%\",                # Исключает кандидатов с 'Нет опыта'\n",
        "    \"param10\": \"%Стажировка%\",              # Исключает кандидатов на 'Стажировку'\n",
        "    \"param11\": \"%SQL%\",                     # Соответствует кандидату с навыком 'SQL'\n",
        "    \"param12\": \"postgres\"                   # Соответствует кандидату с навыком 'PostgreSQL'\n",
        "}"
      ]
    },
    {
      "cell_type": "code",
      "execution_count": 47,
      "id": "alA8WEAAvGdf",
      "metadata": {
        "colab": {
          "base_uri": "https://localhost:8080/"
        },
        "id": "alA8WEAAvGdf",
        "outputId": "8f636e5d-227f-4acf-9133-1ddcf13d3a22"
      },
      "outputs": [
        {
          "name": "stdout",
          "output_type": "stream",
          "text": [
            "Есть 229 вакансий для DS, в которых в качестве ключевого навыка указан SQL или postgres\n"
          ]
        }
      ],
      "source": [
        "filter_key_skills = pd.read_sql_query(query_6_3, engine, params=param_values_3)\n",
        "print(f\"Есть {filter_key_skills.shape[0]} вакансий для DS, в которых в качестве ключевого навыка указан SQL или postgres\")"
      ]
    },
    {
      "cell_type": "markdown",
      "id": "1be1e9c6-37cf-4a5f-bfeb-04cab799dc80",
      "metadata": {
        "id": "1be1e9c6-37cf-4a5f-bfeb-04cab799dc80"
      },
      "source": [
        "4. Проверьте, насколько популярен Python в требованиях работодателей к DS.Для этого вычислите количество вакансий, в которых в качестве ключевого навыка указан Python.\n",
        "\n",
        "** Это можно сделать помощью запроса, аналогичного предыдущему.*"
      ]
    },
    {
      "cell_type": "code",
      "execution_count": 48,
      "id": "0036a355-9ccf-4564-8b01-73d8194297e7",
      "metadata": {
        "id": "0036a355-9ccf-4564-8b01-73d8194297e7"
      },
      "outputs": [],
      "source": [
        "# SQL-запрос для выбора вакансий на основе различных условий для названия, опыта и ключевых навыков\n",
        "query_6_4 = text(f'''\n",
        "SELECT\n",
        "      *   -- Выбрать все поля из таблицы vacancies\n",
        "FROM\n",
        "      vacancies   -- Из таблицы вакансий\n",
        "WHERE\n",
        "      (name ILIKE :param1     -- Проверяем, совпадает ли название с одним из указанных названий\n",
        "OR\n",
        "      name ILIKE :param2\n",
        "OR\n",
        "      name ILIKE :param3\n",
        "OR\n",
        "      name ILIKE :param4\n",
        "OR\n",
        "      name ILIKE :param6\n",
        "OR\n",
        "      (name ILIKE :param5     -- Если название содержит 'ML'\n",
        "      AND\n",
        "      name NOT ILIKE :param7))  -- Но не должно содержать 'HTML'\n",
        "AND\n",
        "      (name NOT ILIKE :param8   -- Исключаем кандидатов с названием 'junior'\n",
        "       OR\n",
        "       experience NOT ILIKE :param9  -- Или опыт не содержит 'Нет опыта'\n",
        "       OR\n",
        "       experience NOT ILIKE :param10) -- Или опыт не содержит 'Стажировка'\n",
        "AND\n",
        "      key_skills ILIKE :param11  -- Обязательно должен содержать 'python' в ключевых навыках\n",
        "''')\n",
        "\n",
        "# Параметры для запроса\n",
        "param_values_4 = {\n",
        "                \"param1\": \"%data science%\",      # Соответствует 'data science'\n",
        "                \"param2\": \"%data scientist%\",    # Соответствует 'data scientist'\n",
        "                \"param3\": \"%исследователь данных%\",  # Соответствует 'исследователь данных'\n",
        "                \"param4\": \"%machine learning%\",   # Соответствует 'machine learning'\n",
        "                \"param5\": \"%ML%\",                # Соответствует 'ML'\n",
        "                \"param6\": \"%машинн%обучен%\",     # Соответствует любой последовательности, содержащей 'машинное обучение'\n",
        "                \"param7\": \"%HTML%\",              # Исключает 'HTML', если есть 'ML'\n",
        "                \"param8\": \"%junior%\",            # Исключает любые упоминания о позициях 'junior'\n",
        "                \"param9\": \"%Нет опыта%\",         # Исключает кандидатов с 'Нет опыта'\n",
        "                \"param10\": \"%Стажировка%\",       # Исключает кандидатов на 'Стажировку'\n",
        "                \"param11\": \"%python%\"            # Соответствует кандидатам с навыком 'python'\n",
        "                }"
      ]
    },
    {
      "cell_type": "code",
      "execution_count": 49,
      "id": "1i-5WyucvQ6v",
      "metadata": {
        "colab": {
          "base_uri": "https://localhost:8080/"
        },
        "id": "1i-5WyucvQ6v",
        "outputId": "67aa75de-bcb3-40f0-d072-eed5845408d3"
      },
      "outputs": [
        {
          "name": "stdout",
          "output_type": "stream",
          "text": [
            "Есть 357 вакансий для DS, в которых в качестве ключевого навыка указан Python\n"
          ]
        }
      ],
      "source": [
        "filter_key_skill_python = pd.read_sql_query(query_6_4, engine, params=param_values_4)\n",
        "print(f\"Есть {filter_key_skill_python.shape[0]} вакансий для DS, в которых в качестве ключевого навыка указан Python\")"
      ]
    },
    {
      "cell_type": "markdown",
      "id": "ec3c8db7-fa21-4a41-a994-1af63742a642",
      "metadata": {
        "id": "ec3c8db7-fa21-4a41-a994-1af63742a642"
      },
      "source": [
        "5. Сколько ключевых навыков в среднем указывают в вакансиях для DS?\n",
        "Ответ округлите до двух знаков после точки-разделителя."
      ]
    },
    {
      "cell_type": "code",
      "execution_count": 50,
      "id": "949132bc-d5b6-4611-8218-0b9a504d74f4",
      "metadata": {
        "id": "949132bc-d5b6-4611-8218-0b9a504d74f4"
      },
      "outputs": [],
      "source": [
        "# SQL-запрос для вычисления среднего количества ключевых навыков\n",
        "# в вакансиях, соответствующих определенным условиям\n",
        "query_6_5 = text(f'''\n",
        "SELECT\n",
        "    Round(avg(length(key_skills) - length(replace(key_skills, CHR(9), '')) + 1), 2) AS avg\n",
        "FROM\n",
        "    vacancies\n",
        "WHERE\n",
        "    (\n",
        "        name ILIKE :param1 OR       -- Проверяем, совпадает ли имя вакансии с одним из заданных параметров\n",
        "        name ILIKE :param2 OR\n",
        "        name ILIKE :param3 OR\n",
        "        name ILIKE :param4 OR\n",
        "        name ILIKE :param6 OR\n",
        "        (\n",
        "            name LIKE :param5 AND   -- Если название вакансии содержит 'ML'\n",
        "            name NOT LIKE :param7    -- и не содержит 'HTML'\n",
        "        )\n",
        "    )\n",
        "AND\n",
        "    (\n",
        "        name NOT ILIKE :param8 OR   -- Исключаем позиции с именем, содержащим 'junior'\n",
        "        experience NOT ILIKE :param9 OR -- Исключаем кандидатов с опытом 'Нет опыта'\n",
        "        experience NOT ILIKE :param10   -- Исключаем кандидатов со стажировкой\n",
        "    )\n",
        "AND\n",
        "    key_skills IS NOT NULL            -- Убедимся, что ключевые навыки не NULL\n",
        "''')\n",
        "\n",
        "# Параметры для запроса\n",
        "param_values_5 = {\n",
        "    \"param1\": \"%data science%\",         # Соответствует 'data science'\n",
        "    \"param2\": \"%data scientist%\",       # Соответствует 'data scientist'\n",
        "    \"param3\": \"%исследователь данных%\", # Соответствует 'исследователь данных'\n",
        "    \"param4\": \"%machine learning%\",     # Соответствует 'machine learning'\n",
        "    \"param5\": \"%ML%\",                   # Соответствует 'ML'\n",
        "    \"param6\": \"%машинн%обучен%\",        # Соответствует любой последовательности, содержащей 'машинное обучение'\n",
        "    \"param7\": \"%HTML%\",                 # Исключаем 'HTML'\n",
        "    \"param8\": \"%junior%\",               # Исключаем кандидатов с названием 'junior'\n",
        "    \"param9\": \"%Нет опыта%\",            # Исключаем кандидатов с 'Нет опыта'\n",
        "    \"param10\": \"%Стажировка%\"           # Исключаем кандидатов на стажировку\n",
        "}"
      ]
    },
    {
      "cell_type": "code",
      "execution_count": 51,
      "id": "a3V24Tvmviqk",
      "metadata": {
        "colab": {
          "base_uri": "https://localhost:8080/"
        },
        "id": "a3V24Tvmviqk",
        "outputId": "38c1d201-ddf4-462d-e591-97f04ccec62f"
      },
      "outputs": [
        {
          "name": "stdout",
          "output_type": "stream",
          "text": [
            "6.41 ключевых навыка в среднем указывают в вакансиях для DS\n"
          ]
        }
      ],
      "source": [
        "\n",
        "key_skills = pd.read_sql_query(query_6_5, engine, params=param_values_5)\n",
        "print(f\"{key_skills['avg'].iloc[0]} ключевых навыка в среднем указывают в вакансиях для DS\")"
      ]
    },
    {
      "cell_type": "markdown",
      "id": "1041c17a-ca8f-4543-a0ca-32778914fb00",
      "metadata": {
        "id": "1041c17a-ca8f-4543-a0ca-32778914fb00"
      },
      "source": [
        "6. Напишите запрос, позволяющий вычислить, какую зарплату для DS в **среднем** указывают для каждого типа требуемого опыта (уникальное значение из поля *experience*).\n",
        "\n",
        "При решении задачи примите во внимание следующее:\n",
        "1. Рассматриваем только вакансии, у которых заполнено хотя бы одно из двух полей с зарплатой.\n",
        "2. Если заполнены оба поля с зарплатой, то считаем зарплату по каждой вакансии как сумму двух полей, делённую на 2. Если заполнено только одно из полей, то его и считаем зарплатой по вакансии.\n",
        "3. Если в расчётах участвует null, в результате он тоже даст null (посмотрите, что возвращает запрос select 1 + null). Чтобы избежать этой ситуацию, мы воспользуемся функцией [coalesce](https://postgrespro.ru/docs/postgresql/9.5/functions-conditional#functions-coalesce-nvl-ifnull), которая заменит null на значение, которое мы передадим. Например, посмотрите, что возвращает запрос `select 1 + coalesce(null, 0)`\n",
        "\n",
        "Выясните, на какую зарплату в среднем может рассчитывать дата-сайентист с опытом работы от 3 до 6 лет. Результат округлите до целого числа."
      ]
    },
    {
      "cell_type": "code",
      "execution_count": 52,
      "id": "6a743d39-5204-48d3-8271-b9f88e68d40e",
      "metadata": {
        "id": "6a743d39-5204-48d3-8271-b9f88e68d40e"
      },
      "outputs": [],
      "source": [
        "# SQL-запрос для вычисления средней зарплаты по опыту работы\n",
        "# в вакансиях, соответствующих определённым условиям\n",
        "query_6_6 = text('''\n",
        "    SELECT\n",
        "        experience,  -- Возвращаем опыт работы\n",
        "        ROUND(AVG(   -- Рассчитываем среднюю зарплату\n",
        "            CASE\n",
        "                WHEN salary_from IS NOT NULL AND salary_to IS NOT NULL\n",
        "                    THEN (salary_from + salary_to) / 2  -- Если указаны обе зарплаты, берем их среднее\n",
        "                WHEN salary_from IS NULL OR salary_to IS NULL\n",
        "                    THEN COALESCE(salary_to, salary_from)  -- Если одна из зарплат отсутствует, используем другую\n",
        "            END\n",
        "        )) AS avg_salary  -- Псевдоним для средней зарплаты\n",
        "    FROM\n",
        "        vacancies  -- Из таблицы вакансий\n",
        "    WHERE\n",
        "        (salary_from IS NOT NULL OR salary_to IS NOT NULL)  -- Условие: хотя бы одна зарплата должна быть указана\n",
        "        AND (\n",
        "            name ILIKE :param1 OR  -- Проверяем, совпадает ли название вакансии с одним из параметров\n",
        "            name ILIKE :param2 OR\n",
        "            name ILIKE :param3 OR\n",
        "            name ILIKE :param4 OR\n",
        "            name ILIKE :param6 OR\n",
        "            (name LIKE :param5 AND name NOT LIKE :param7)  -- Если имя содержит 'ML', но не содержит 'HTML'\n",
        "        )\n",
        "    GROUP BY\n",
        "        experience  -- Группируем результаты по опыту работы\n",
        "''')\n",
        "\n",
        "# Параметры для запроса\n",
        "param_values_6 = {\n",
        "    \"param1\": \"%data science%\",  # Соответствует 'data science'\n",
        "    \"param2\": \"%data scientist%\",  # Соответствует 'data scientist'\n",
        "    \"param3\": \"%исследователь данных%\",  # Соответствует 'исследователь данных'\n",
        "    \"param4\": \"%machine learning%\",  # Соответствует 'machine learning'\n",
        "    \"param5\": \"%ML%\",  # Соответствует 'ML'\n",
        "    \"param6\": \"%машинн%обучен%\",  # Совпадает с любой последовательностью, содержащей 'машинное обучение'\n",
        "    \"param7\": \"%HTML%\"  # Исключает названия, содержащие 'HTML'\n",
        "}\n"
      ]
    },
    {
      "cell_type": "code",
      "execution_count": 53,
      "id": "aRIJ0mZEwU1_",
      "metadata": {
        "colab": {
          "base_uri": "https://localhost:8080/",
          "height": 143
        },
        "id": "aRIJ0mZEwU1_",
        "outputId": "00fb1738-f3bf-4381-c4d4-9a541dd30651"
      },
      "outputs": [
        {
          "data": {
            "text/html": [
              "<div>\n",
              "<style scoped>\n",
              "    .dataframe tbody tr th:only-of-type {\n",
              "        vertical-align: middle;\n",
              "    }\n",
              "\n",
              "    .dataframe tbody tr th {\n",
              "        vertical-align: top;\n",
              "    }\n",
              "\n",
              "    .dataframe thead th {\n",
              "        text-align: right;\n",
              "    }\n",
              "</style>\n",
              "<table border=\"1\" class=\"dataframe\">\n",
              "  <thead>\n",
              "    <tr style=\"text-align: right;\">\n",
              "      <th></th>\n",
              "      <th>experience</th>\n",
              "      <th>avg_salary</th>\n",
              "    </tr>\n",
              "  </thead>\n",
              "  <tbody>\n",
              "    <tr>\n",
              "      <th>0</th>\n",
              "      <td>Нет опыта</td>\n",
              "      <td>74643.0</td>\n",
              "    </tr>\n",
              "    <tr>\n",
              "      <th>1</th>\n",
              "      <td>От 1 года до 3 лет</td>\n",
              "      <td>139675.0</td>\n",
              "    </tr>\n",
              "    <tr>\n",
              "      <th>2</th>\n",
              "      <td>От 3 до 6 лет</td>\n",
              "      <td>243115.0</td>\n",
              "    </tr>\n",
              "  </tbody>\n",
              "</table>\n",
              "</div>"
            ],
            "text/plain": [
              "           experience  avg_salary\n",
              "0           Нет опыта     74643.0\n",
              "1  От 1 года до 3 лет    139675.0\n",
              "2       От 3 до 6 лет    243115.0"
            ]
          },
          "execution_count": 53,
          "metadata": {},
          "output_type": "execute_result"
        }
      ],
      "source": [
        "avg_salary = pd.read_sql_query(query_6_6, engine,params=param_values_6)\n",
        "avg_salary"
      ]
    },
    {
      "cell_type": "markdown",
      "id": "TFPJdwnQocBp",
      "metadata": {
        "id": "TFPJdwnQocBp"
      },
      "source": [
        "1. Вакансии, содержащие в своем названии 'данн' или 'data', составляют 1771, что составляет около 3.6% от общего числа вакансий на платформе HH. Это может указывать на то, что Data Science — это специализированная область с ограниченным количеством вакансий по сравнению с общим числом предлагаемых работ в различных секторах.\n",
        "\n",
        "2. Из 1771 вакансии только 51 подходит для начинающего дата-сайентиста. Это говорит о том, что в данной области существует высокая конкуренция, и работодатели часто ищут кандидатов с некоторым уровнем опыта или навыками, которые увеличивают их рыночную стоимость.\n",
        "\n",
        "3. Из всех вакансий для Data Science 229 содержат в качестве ключевого навыка SQL или Postgres. Это подчеркивает важность работы с базами данных и навыков работы с данными для специалистов в области Data Science.\n",
        "- 357 вакансий упоминают Python как ключевой навык, что подтверждает его статус как одного из наиболее востребованных языков программирования в аналитике данных и машинном обучении. Python, благодаря своей простоте и множеству библиотек для анализа данных, является стандартом для специалистов в этой области.\n",
        "4. Заработная плата:\n",
        "- **Нет опыта**: 74,643 руб. — уровень начальной зарплаты, что является разумным для начинающего специалиста, но, вероятно, не позволяет обеспечить полноценную финансовую независимость в более высоких ценовых регионах.\n",
        "- **От 1 года до 3 лет**: 139,675 руб. — это уже более высокая зарплата, что показывает, что с наращиванием опыта значимо увеличиваются и финансовые вознаграждения.\n",
        "- **От 3 до 6 лет**: 243,115 руб. — показывает, что на более высоких уровнях профессионального роста дата-сайентисты могут рассчитывать на значительное увеличение своей зарплаты, что делает данную область привлекательной с точки зрения долгосрочных карьерных перспектив."
      ]
    },
    {
      "cell_type": "markdown",
      "id": "6a7892b4-4113-4746-adce-18aa2844f18e",
      "metadata": {
        "id": "6a7892b4-4113-4746-adce-18aa2844f18e"
      },
      "source": [
        "***"
      ]
    },
    {
      "cell_type": "markdown",
      "id": "aZIKBBu8ZGF5",
      "metadata": {
        "id": "aZIKBBu8ZGF5"
      },
      "source": [
        "# Дополнительные исследовния"
      ]
    },
    {
      "cell_type": "code",
      "execution_count": 54,
      "id": "AD2EE-6HENcr",
      "metadata": {
        "colab": {
          "base_uri": "https://localhost:8080/",
          "height": 1000
        },
        "id": "AD2EE-6HENcr",
        "outputId": "9840df8e-c9fa-4306-a27e-7e98af33b998"
      },
      "outputs": [
        {
          "name": "stdout",
          "output_type": "stream",
          "text": [
            "Общее количество удаленных вакансий - 115\n",
            "Общее количество вакансий с полным днем - 322\n",
            "Общее количество вакансий с гибким графиком - 41\n"
          ]
        },
        {
          "data": {
            "text/html": [
              "<div>\n",
              "<style scoped>\n",
              "    .dataframe tbody tr th:only-of-type {\n",
              "        vertical-align: middle;\n",
              "    }\n",
              "\n",
              "    .dataframe tbody tr th {\n",
              "        vertical-align: top;\n",
              "    }\n",
              "\n",
              "    .dataframe thead th {\n",
              "        text-align: right;\n",
              "    }\n",
              "</style>\n",
              "<table border=\"1\" class=\"dataframe\">\n",
              "  <thead>\n",
              "    <tr style=\"text-align: right;\">\n",
              "      <th></th>\n",
              "      <th>Город</th>\n",
              "      <th>Количество_вакансий_полный_день</th>\n",
              "      <th>Количество_вакансий_удаленка</th>\n",
              "      <th>Количество_вакансий_г</th>\n",
              "    </tr>\n",
              "  </thead>\n",
              "  <tbody>\n",
              "    <tr>\n",
              "      <th>0</th>\n",
              "      <td>Москва</td>\n",
              "      <td>161</td>\n",
              "      <td>45</td>\n",
              "      <td>11</td>\n",
              "    </tr>\n",
              "    <tr>\n",
              "      <th>1</th>\n",
              "      <td>Санкт-Петербург</td>\n",
              "      <td>45</td>\n",
              "      <td>11</td>\n",
              "      <td>8</td>\n",
              "    </tr>\n",
              "    <tr>\n",
              "      <th>2</th>\n",
              "      <td>Нижний Новгород</td>\n",
              "      <td>14</td>\n",
              "      <td>3</td>\n",
              "      <td>3</td>\n",
              "    </tr>\n",
              "    <tr>\n",
              "      <th>3</th>\n",
              "      <td>Новосибирск</td>\n",
              "      <td>13</td>\n",
              "      <td>5</td>\n",
              "      <td>5</td>\n",
              "    </tr>\n",
              "    <tr>\n",
              "      <th>4</th>\n",
              "      <td>Алматы</td>\n",
              "      <td>12</td>\n",
              "      <td>4</td>\n",
              "      <td>0</td>\n",
              "    </tr>\n",
              "    <tr>\n",
              "      <th>5</th>\n",
              "      <td>Казань</td>\n",
              "      <td>10</td>\n",
              "      <td>5</td>\n",
              "      <td>1</td>\n",
              "    </tr>\n",
              "    <tr>\n",
              "      <th>6</th>\n",
              "      <td>Минск</td>\n",
              "      <td>7</td>\n",
              "      <td>1</td>\n",
              "      <td>1</td>\n",
              "    </tr>\n",
              "    <tr>\n",
              "      <th>7</th>\n",
              "      <td>Нур-Султан</td>\n",
              "      <td>5</td>\n",
              "      <td>1</td>\n",
              "      <td>0</td>\n",
              "    </tr>\n",
              "    <tr>\n",
              "      <th>8</th>\n",
              "      <td>Ростов-на-Дону</td>\n",
              "      <td>5</td>\n",
              "      <td>0</td>\n",
              "      <td>1</td>\n",
              "    </tr>\n",
              "    <tr>\n",
              "      <th>9</th>\n",
              "      <td>Томск</td>\n",
              "      <td>4</td>\n",
              "      <td>1</td>\n",
              "      <td>3</td>\n",
              "    </tr>\n",
              "    <tr>\n",
              "      <th>10</th>\n",
              "      <td>Краснодар</td>\n",
              "      <td>4</td>\n",
              "      <td>2</td>\n",
              "      <td>0</td>\n",
              "    </tr>\n",
              "    <tr>\n",
              "      <th>11</th>\n",
              "      <td>Екатеринбург</td>\n",
              "      <td>4</td>\n",
              "      <td>2</td>\n",
              "      <td>1</td>\n",
              "    </tr>\n",
              "    <tr>\n",
              "      <th>12</th>\n",
              "      <td>Пермь</td>\n",
              "      <td>3</td>\n",
              "      <td>1</td>\n",
              "      <td>1</td>\n",
              "    </tr>\n",
              "    <tr>\n",
              "      <th>13</th>\n",
              "      <td>Армения</td>\n",
              "      <td>3</td>\n",
              "      <td>3</td>\n",
              "      <td>0</td>\n",
              "    </tr>\n",
              "    <tr>\n",
              "      <th>14</th>\n",
              "      <td>Владивосток</td>\n",
              "      <td>3</td>\n",
              "      <td>0</td>\n",
              "      <td>0</td>\n",
              "    </tr>\n",
              "    <tr>\n",
              "      <th>15</th>\n",
              "      <td>Омск</td>\n",
              "      <td>3</td>\n",
              "      <td>0</td>\n",
              "      <td>0</td>\n",
              "    </tr>\n",
              "    <tr>\n",
              "      <th>16</th>\n",
              "      <td>Самара</td>\n",
              "      <td>3</td>\n",
              "      <td>2</td>\n",
              "      <td>0</td>\n",
              "    </tr>\n",
              "    <tr>\n",
              "      <th>17</th>\n",
              "      <td>Ташкент</td>\n",
              "      <td>2</td>\n",
              "      <td>1</td>\n",
              "      <td>1</td>\n",
              "    </tr>\n",
              "    <tr>\n",
              "      <th>18</th>\n",
              "      <td>Кипр</td>\n",
              "      <td>2</td>\n",
              "      <td>3</td>\n",
              "      <td>0</td>\n",
              "    </tr>\n",
              "    <tr>\n",
              "      <th>19</th>\n",
              "      <td>Тбилиси</td>\n",
              "      <td>2</td>\n",
              "      <td>0</td>\n",
              "      <td>1</td>\n",
              "    </tr>\n",
              "    <tr>\n",
              "      <th>20</th>\n",
              "      <td>Тверь</td>\n",
              "      <td>1</td>\n",
              "      <td>0</td>\n",
              "      <td>0</td>\n",
              "    </tr>\n",
              "    <tr>\n",
              "      <th>21</th>\n",
              "      <td>Киров (Кировская область)</td>\n",
              "      <td>1</td>\n",
              "      <td>0</td>\n",
              "      <td>1</td>\n",
              "    </tr>\n",
              "    <tr>\n",
              "      <th>22</th>\n",
              "      <td>Королев</td>\n",
              "      <td>1</td>\n",
              "      <td>0</td>\n",
              "      <td>0</td>\n",
              "    </tr>\n",
              "    <tr>\n",
              "      <th>23</th>\n",
              "      <td>Тюмень</td>\n",
              "      <td>1</td>\n",
              "      <td>0</td>\n",
              "      <td>0</td>\n",
              "    </tr>\n",
              "    <tr>\n",
              "      <th>24</th>\n",
              "      <td>Уфа</td>\n",
              "      <td>1</td>\n",
              "      <td>1</td>\n",
              "      <td>0</td>\n",
              "    </tr>\n",
              "    <tr>\n",
              "      <th>25</th>\n",
              "      <td>Челябинск</td>\n",
              "      <td>1</td>\n",
              "      <td>0</td>\n",
              "      <td>0</td>\n",
              "    </tr>\n",
              "    <tr>\n",
              "      <th>26</th>\n",
              "      <td>Иннополис</td>\n",
              "      <td>1</td>\n",
              "      <td>2</td>\n",
              "      <td>0</td>\n",
              "    </tr>\n",
              "    <tr>\n",
              "      <th>27</th>\n",
              "      <td>Пенза</td>\n",
              "      <td>1</td>\n",
              "      <td>0</td>\n",
              "      <td>1</td>\n",
              "    </tr>\n",
              "    <tr>\n",
              "      <th>28</th>\n",
              "      <td>Воронеж</td>\n",
              "      <td>1</td>\n",
              "      <td>1</td>\n",
              "      <td>0</td>\n",
              "    </tr>\n",
              "    <tr>\n",
              "      <th>29</th>\n",
              "      <td>Набережные Челны</td>\n",
              "      <td>1</td>\n",
              "      <td>0</td>\n",
              "      <td>0</td>\n",
              "    </tr>\n",
              "    <tr>\n",
              "      <th>30</th>\n",
              "      <td>Волгоград</td>\n",
              "      <td>1</td>\n",
              "      <td>0</td>\n",
              "      <td>0</td>\n",
              "    </tr>\n",
              "    <tr>\n",
              "      <th>31</th>\n",
              "      <td>Батуми</td>\n",
              "      <td>1</td>\n",
              "      <td>0</td>\n",
              "      <td>0</td>\n",
              "    </tr>\n",
              "    <tr>\n",
              "      <th>32</th>\n",
              "      <td>Рязань</td>\n",
              "      <td>1</td>\n",
              "      <td>1</td>\n",
              "      <td>2</td>\n",
              "    </tr>\n",
              "    <tr>\n",
              "      <th>33</th>\n",
              "      <td>Барнаул</td>\n",
              "      <td>1</td>\n",
              "      <td>0</td>\n",
              "      <td>0</td>\n",
              "    </tr>\n",
              "    <tr>\n",
              "      <th>34</th>\n",
              "      <td>Ижевск</td>\n",
              "      <td>1</td>\n",
              "      <td>0</td>\n",
              "      <td>0</td>\n",
              "    </tr>\n",
              "    <tr>\n",
              "      <th>35</th>\n",
              "      <td>Саратов</td>\n",
              "      <td>1</td>\n",
              "      <td>0</td>\n",
              "      <td>0</td>\n",
              "    </tr>\n",
              "    <tr>\n",
              "      <th>36</th>\n",
              "      <td>Белгород</td>\n",
              "      <td>1</td>\n",
              "      <td>0</td>\n",
              "      <td>0</td>\n",
              "    </tr>\n",
              "    <tr>\n",
              "      <th>37</th>\n",
              "      <td>Израиль</td>\n",
              "      <td>0</td>\n",
              "      <td>2</td>\n",
              "      <td>0</td>\n",
              "    </tr>\n",
              "    <tr>\n",
              "      <th>38</th>\n",
              "      <td>Литва</td>\n",
              "      <td>0</td>\n",
              "      <td>2</td>\n",
              "      <td>0</td>\n",
              "    </tr>\n",
              "    <tr>\n",
              "      <th>39</th>\n",
              "      <td>Зеленоград</td>\n",
              "      <td>0</td>\n",
              "      <td>1</td>\n",
              "      <td>0</td>\n",
              "    </tr>\n",
              "    <tr>\n",
              "      <th>40</th>\n",
              "      <td>Бишкек</td>\n",
              "      <td>0</td>\n",
              "      <td>1</td>\n",
              "      <td>0</td>\n",
              "    </tr>\n",
              "    <tr>\n",
              "      <th>41</th>\n",
              "      <td>Черногория</td>\n",
              "      <td>0</td>\n",
              "      <td>1</td>\n",
              "      <td>0</td>\n",
              "    </tr>\n",
              "    <tr>\n",
              "      <th>42</th>\n",
              "      <td>Орел</td>\n",
              "      <td>0</td>\n",
              "      <td>1</td>\n",
              "      <td>0</td>\n",
              "    </tr>\n",
              "    <tr>\n",
              "      <th>43</th>\n",
              "      <td>Абхазия</td>\n",
              "      <td>0</td>\n",
              "      <td>1</td>\n",
              "      <td>0</td>\n",
              "    </tr>\n",
              "    <tr>\n",
              "      <th>44</th>\n",
              "      <td>Петрозаводск</td>\n",
              "      <td>0</td>\n",
              "      <td>1</td>\n",
              "      <td>0</td>\n",
              "    </tr>\n",
              "    <tr>\n",
              "      <th>45</th>\n",
              "      <td>Польша</td>\n",
              "      <td>0</td>\n",
              "      <td>1</td>\n",
              "      <td>0</td>\n",
              "    </tr>\n",
              "    <tr>\n",
              "      <th>46</th>\n",
              "      <td>Чехия</td>\n",
              "      <td>0</td>\n",
              "      <td>2</td>\n",
              "      <td>0</td>\n",
              "    </tr>\n",
              "    <tr>\n",
              "      <th>47</th>\n",
              "      <td>Сербия</td>\n",
              "      <td>0</td>\n",
              "      <td>3</td>\n",
              "      <td>0</td>\n",
              "    </tr>\n",
              "    <tr>\n",
              "      <th>48</th>\n",
              "      <td>Баку</td>\n",
              "      <td>0</td>\n",
              "      <td>2</td>\n",
              "      <td>0</td>\n",
              "    </tr>\n",
              "    <tr>\n",
              "      <th>49</th>\n",
              "      <td>Турция</td>\n",
              "      <td>0</td>\n",
              "      <td>2</td>\n",
              "      <td>0</td>\n",
              "    </tr>\n",
              "  </tbody>\n",
              "</table>\n",
              "</div>"
            ],
            "text/plain": [
              "                        Город  Количество_вакансий_полный_день  \\\n",
              "0                      Москва                              161   \n",
              "1             Санкт-Петербург                               45   \n",
              "2             Нижний Новгород                               14   \n",
              "3                 Новосибирск                               13   \n",
              "4                      Алматы                               12   \n",
              "5                      Казань                               10   \n",
              "6                       Минск                                7   \n",
              "7                  Нур-Султан                                5   \n",
              "8              Ростов-на-Дону                                5   \n",
              "9                       Томск                                4   \n",
              "10                  Краснодар                                4   \n",
              "11               Екатеринбург                                4   \n",
              "12                      Пермь                                3   \n",
              "13                    Армения                                3   \n",
              "14                Владивосток                                3   \n",
              "15                       Омск                                3   \n",
              "16                     Самара                                3   \n",
              "17                    Ташкент                                2   \n",
              "18                       Кипр                                2   \n",
              "19                    Тбилиси                                2   \n",
              "20                      Тверь                                1   \n",
              "21  Киров (Кировская область)                                1   \n",
              "22                    Королев                                1   \n",
              "23                     Тюмень                                1   \n",
              "24                        Уфа                                1   \n",
              "25                  Челябинск                                1   \n",
              "26                  Иннополис                                1   \n",
              "27                      Пенза                                1   \n",
              "28                    Воронеж                                1   \n",
              "29           Набережные Челны                                1   \n",
              "30                  Волгоград                                1   \n",
              "31                     Батуми                                1   \n",
              "32                     Рязань                                1   \n",
              "33                    Барнаул                                1   \n",
              "34                     Ижевск                                1   \n",
              "35                    Саратов                                1   \n",
              "36                   Белгород                                1   \n",
              "37                    Израиль                                0   \n",
              "38                      Литва                                0   \n",
              "39                 Зеленоград                                0   \n",
              "40                     Бишкек                                0   \n",
              "41                 Черногория                                0   \n",
              "42                       Орел                                0   \n",
              "43                    Абхазия                                0   \n",
              "44               Петрозаводск                                0   \n",
              "45                     Польша                                0   \n",
              "46                      Чехия                                0   \n",
              "47                     Сербия                                0   \n",
              "48                       Баку                                0   \n",
              "49                     Турция                                0   \n",
              "\n",
              "    Количество_вакансий_удаленка  Количество_вакансий_г  \n",
              "0                             45                     11  \n",
              "1                             11                      8  \n",
              "2                              3                      3  \n",
              "3                              5                      5  \n",
              "4                              4                      0  \n",
              "5                              5                      1  \n",
              "6                              1                      1  \n",
              "7                              1                      0  \n",
              "8                              0                      1  \n",
              "9                              1                      3  \n",
              "10                             2                      0  \n",
              "11                             2                      1  \n",
              "12                             1                      1  \n",
              "13                             3                      0  \n",
              "14                             0                      0  \n",
              "15                             0                      0  \n",
              "16                             2                      0  \n",
              "17                             1                      1  \n",
              "18                             3                      0  \n",
              "19                             0                      1  \n",
              "20                             0                      0  \n",
              "21                             0                      1  \n",
              "22                             0                      0  \n",
              "23                             0                      0  \n",
              "24                             1                      0  \n",
              "25                             0                      0  \n",
              "26                             2                      0  \n",
              "27                             0                      1  \n",
              "28                             1                      0  \n",
              "29                             0                      0  \n",
              "30                             0                      0  \n",
              "31                             0                      0  \n",
              "32                             1                      2  \n",
              "33                             0                      0  \n",
              "34                             0                      0  \n",
              "35                             0                      0  \n",
              "36                             0                      0  \n",
              "37                             2                      0  \n",
              "38                             2                      0  \n",
              "39                             1                      0  \n",
              "40                             1                      0  \n",
              "41                             1                      0  \n",
              "42                             1                      0  \n",
              "43                             1                      0  \n",
              "44                             1                      0  \n",
              "45                             1                      0  \n",
              "46                             2                      0  \n",
              "47                             3                      0  \n",
              "48                             2                      0  \n",
              "49                             2                      0  "
            ]
          },
          "metadata": {},
          "output_type": "display_data"
        }
      ],
      "source": [
        "# SQL-запрос для получения количества вакансий по типу расписания в зависимости от города\n",
        "query_00 = text(f'''\n",
        "SELECT\n",
        "    a.name AS Город,  -- Название города\n",
        "    SUM(CASE WHEN v.schedule = 'Полный день' THEN 1 ELSE 0 END) AS Количество_вакансий_полный_день,  -- Количество вакансий с полным днем\n",
        "    SUM(CASE WHEN v.schedule = 'Удаленная работа' THEN 1 ELSE 0 END) AS Количество_вакансий_удаленка,  -- Количество удаленных вакансий\n",
        "    SUM(CASE WHEN v.schedule = 'Гибкий график' THEN 1 ELSE 0 END) AS Количество_вакансий_г  -- Количество вакансий с гибким графиком\n",
        "FROM\n",
        "    vacancies v\n",
        "JOIN\n",
        "    areas a ON a.id = v.area_id  -- Объединение таблиц по идентификатору области\n",
        "WHERE\n",
        "    (v.name ILIKE :param1 OR  -- Условия фильтрации вакансий по их названию\n",
        "     v.name ILIKE :param2 OR\n",
        "     v.name ILIKE :param3 OR\n",
        "     v.name ILIKE :param4 OR\n",
        "     v.name ILIKE :param6 OR\n",
        "     (v.name LIKE :param5 AND v.name NOT LIKE :param7))  -- Специальные условия для LIKE\n",
        "GROUP BY\n",
        "    a.name  -- Группировка результатов по названию города\n",
        "HAVING\n",
        "    SUM(CASE WHEN v.schedule = 'Полный день' THEN 1 ELSE 0 END) != 0 OR  -- Условие: хотя бы одна вакансия с полным днем\n",
        "    SUM(CASE WHEN v.schedule = 'Удаленная работа' THEN 1 ELSE 0 END) != 0  -- Условие: хотя бы одна удаленная вакансия\n",
        "ORDER BY\n",
        "    Количество_вакансий_полный_день DESC  -- Сортировка по количеству вакансий с полным днем в порядке убывания\n",
        "''')\n",
        "\n",
        "# Параметры для фильтрации вакансий по названию\n",
        "param_values_00 = {\n",
        "    \"param1\": \"%data science%\",\n",
        "    \"param2\": \"%data scientist%\",\n",
        "    \"param3\": \"%исследователь данных%\",\n",
        "    \"param4\": \"%machine learning%\",\n",
        "    \"param5\": \"%ML%\",\n",
        "    \"param6\": \"%машинн%обучен%\",\n",
        "    \"param7\": \"%HTML%\"\n",
        "}\n",
        "\n",
        "# Выполнение SQL-запроса и получение результата в виде DataFrame\n",
        "res1 = pd.read_sql_query(query_00, engine, params=param_values_00)\n",
        "\n",
        "# Вывод сумм вакансий по различным графикам работы\n",
        "print(f\"Общее количество удаленных вакансий - {res1['Количество_вакансий_удаленка'].sum()}\") # Общее количество удаленных вакансий\n",
        "print(f\"Общее количество вакансий с полным днем - {res1['Количество_вакансий_полный_день'].sum()}\")  # Общее количество вакансий с полным днем\n",
        "print(f\"Общее количество вакансий с гибким графиком - {res1['Количество_вакансий_г'].sum()}\")  # Общее количество вакансий с гибким графиком\n",
        "\n",
        "# Отображение результатов запроса\n",
        "display(res1)"
      ]
    },
    {
      "cell_type": "code",
      "execution_count": 55,
      "id": "FiyQgsvzJUvz",
      "metadata": {
        "colab": {
          "base_uri": "https://localhost:8080/"
        },
        "id": "FiyQgsvzJUvz",
        "outputId": "fa922204-4cf0-45bd-e864-ec04ec48f960"
      },
      "outputs": [
        {
          "name": "stdout",
          "output_type": "stream",
          "text": [
            "Всего найдено 480 вакансий\n",
            "В 49 вакансиях не были указаны ключевые навыки\n",
            "\n",
            "Основные навыки, которые требуются от соискателя:\n",
            "\n",
            "   * В 348 вакансиях требуется знание PYTHON\n",
            "   * В 191 вакансиях требуется знание SQL\n",
            "   * В 140 вакансиях требуется знание MACHINE LEARNING\n",
            "   * В 66 вакансиях требуется знание GIT\n",
            "   * В 64 вакансиях требуется знание DATA SCIENCE\n",
            "   * В 62 вакансиях требуется знание МАТЕМАТИЧЕСКАЯ СТАТИСТИКА\n",
            "   * В 61 вакансиях требуется знание PYTORCH\n",
            "   * В 55 вакансиях требуется знание PANDAS\n",
            "   * В 54 вакансиях требуется знание DATA ANALYSIS\n",
            "   * В 49 вакансиях требуется знание ML\n",
            "   * В 49 вакансиях требуется знание NONE\n",
            "   * В 48 вакансиях требуется знание АНГЛИЙСКИЙ ЯЗЫК\n",
            "   * В 47 вакансиях требуется знание LINUX\n",
            "   * В 46 вакансиях требуется знание АНАЛИЗ ДАННЫХ\n",
            "   * В 42 вакансиях требуется знание TENSORFLOW\n",
            "   * В 42 вакансиях требуется знание NLP\n",
            "   * В 42 вакансиях требуется знание BIG DATA\n"
          ]
        }
      ],
      "source": [
        "# SQL-запрос для извлечения имен городов и ключевых навыков из вакансий\n",
        "query_01 = text(f'''\n",
        "SELECT\n",
        "        a.name AS Город,\n",
        "        v.key_skills\n",
        "FROM\n",
        "        vacancies v\n",
        "JOIN\n",
        "        areas a ON a.id = v.area_id\n",
        "WHERE\n",
        "      (v.name ILIKE :param1\n",
        "OR\n",
        "      v.name ILIKE :param2\n",
        "OR\n",
        "      v.name ILIKE :param3\n",
        "OR\n",
        "      v.name ILIKE :param4\n",
        "OR\n",
        "      v.name ILIKE :param6\n",
        "OR\n",
        "      (v.name LIKE :param5 AND v.name NOT LIKE :param7))\n",
        "''')\n",
        "\n",
        "# Выполнение SQL-запроса и получение результата в виде DataFrame\n",
        "res2 = pd.read_sql_query(query_01, engine, params=param_values_00)\n",
        "\n",
        "# Инициализация словаря для подсчета уникальных ключевых навыков\n",
        "key_skills_cnt = {}\n",
        "\n",
        "# Обработка каждого навыка из результата\n",
        "for skills in res2['key_skills']:\n",
        "    # Преобразование строковых значений в список, используя табуляцию как разделитель\n",
        "    skills = str(skills).split('\\t')\n",
        "    for skill in skills:\n",
        "        # Приведение навыка к верхнему регистру для унификации\n",
        "        skill = skill.upper()\n",
        "        # Увеличение счетчика навыка в словаре\n",
        "        key_skills_cnt[skill] = key_skills_cnt.get(skill, 0) + 1\n",
        "\n",
        "print(f'Всего найдено {res2.shape[0]} вакансий')\n",
        "print(f\"В {key_skills_cnt['NONE']} вакансиях не были указаны ключевые навыки\\n\")\n",
        "# Вывод основных навыков, которые требуются от соискателей\n",
        "print(f'Основные навыки, которые требуются от соискателя:\\n')\n",
        "for skill, cnt in sorted(key_skills_cnt.items(), key=lambda x: x[1], reverse=True)[:17]:\n",
        "    # Игнорируем навыки, если они равны 'none'\n",
        "    if skill == 'none':\n",
        "        continue\n",
        "    print(f'   * В {cnt} вакансиях требуется знание {skill}')"
      ]
    },
    {
      "cell_type": "code",
      "execution_count": 56,
      "id": "4bXfZvvdaOY_",
      "metadata": {
        "colab": {
          "base_uri": "https://localhost:8080/",
          "height": 537
        },
        "id": "4bXfZvvdaOY_",
        "outputId": "198600fd-7991-496b-e0fa-1530ab8c48be"
      },
      "outputs": [
        {
          "name": "stdout",
          "output_type": "stream",
          "text": [
            "Посмотрим на распределение вакансий по работодателям и опыту работы:\n"
          ]
        },
        {
          "data": {
            "text/html": [
              "<div>\n",
              "<style scoped>\n",
              "    .dataframe tbody tr th:only-of-type {\n",
              "        vertical-align: middle;\n",
              "    }\n",
              "\n",
              "    .dataframe tbody tr th {\n",
              "        vertical-align: top;\n",
              "    }\n",
              "\n",
              "    .dataframe thead th {\n",
              "        text-align: right;\n",
              "    }\n",
              "</style>\n",
              "<table border=\"1\" class=\"dataframe\">\n",
              "  <thead>\n",
              "    <tr style=\"text-align: right;\">\n",
              "      <th></th>\n",
              "      <th>name</th>\n",
              "      <th>Нет опыта</th>\n",
              "      <th>От 1 года до 3 лет</th>\n",
              "      <th>От 3 до 6 лет</th>\n",
              "    </tr>\n",
              "  </thead>\n",
              "  <tbody>\n",
              "    <tr>\n",
              "      <th>0</th>\n",
              "      <td>СБЕР</td>\n",
              "      <td>1</td>\n",
              "      <td>17</td>\n",
              "      <td>21</td>\n",
              "    </tr>\n",
              "    <tr>\n",
              "      <th>1</th>\n",
              "      <td>Positive Technologies</td>\n",
              "      <td>0</td>\n",
              "      <td>0</td>\n",
              "      <td>11</td>\n",
              "    </tr>\n",
              "    <tr>\n",
              "      <th>2</th>\n",
              "      <td>EvenBet Gaming</td>\n",
              "      <td>0</td>\n",
              "      <td>0</td>\n",
              "      <td>9</td>\n",
              "    </tr>\n",
              "    <tr>\n",
              "      <th>3</th>\n",
              "      <td>Andersen</td>\n",
              "      <td>0</td>\n",
              "      <td>0</td>\n",
              "      <td>7</td>\n",
              "    </tr>\n",
              "    <tr>\n",
              "      <th>4</th>\n",
              "      <td>Яндекс</td>\n",
              "      <td>0</td>\n",
              "      <td>3</td>\n",
              "      <td>6</td>\n",
              "    </tr>\n",
              "    <tr>\n",
              "      <th>5</th>\n",
              "      <td>Контур</td>\n",
              "      <td>0</td>\n",
              "      <td>0</td>\n",
              "      <td>6</td>\n",
              "    </tr>\n",
              "    <tr>\n",
              "      <th>6</th>\n",
              "      <td>VK</td>\n",
              "      <td>0</td>\n",
              "      <td>9</td>\n",
              "      <td>5</td>\n",
              "    </tr>\n",
              "    <tr>\n",
              "      <th>7</th>\n",
              "      <td>МТС</td>\n",
              "      <td>0</td>\n",
              "      <td>1</td>\n",
              "      <td>5</td>\n",
              "    </tr>\n",
              "    <tr>\n",
              "      <th>8</th>\n",
              "      <td>2ГИС</td>\n",
              "      <td>0</td>\n",
              "      <td>0</td>\n",
              "      <td>5</td>\n",
              "    </tr>\n",
              "    <tr>\n",
              "      <th>9</th>\n",
              "      <td>Ozon</td>\n",
              "      <td>1</td>\n",
              "      <td>1</td>\n",
              "      <td>4</td>\n",
              "    </tr>\n",
              "    <tr>\n",
              "      <th>10</th>\n",
              "      <td>A4.finance</td>\n",
              "      <td>0</td>\n",
              "      <td>0</td>\n",
              "      <td>4</td>\n",
              "    </tr>\n",
              "    <tr>\n",
              "      <th>11</th>\n",
              "      <td>Semrush</td>\n",
              "      <td>0</td>\n",
              "      <td>0</td>\n",
              "      <td>4</td>\n",
              "    </tr>\n",
              "    <tr>\n",
              "      <th>12</th>\n",
              "      <td>USETECH</td>\n",
              "      <td>0</td>\n",
              "      <td>0</td>\n",
              "      <td>3</td>\n",
              "    </tr>\n",
              "    <tr>\n",
              "      <th>13</th>\n",
              "      <td>Business and Technology Services</td>\n",
              "      <td>0</td>\n",
              "      <td>0</td>\n",
              "      <td>3</td>\n",
              "    </tr>\n",
              "    <tr>\n",
              "      <th>14</th>\n",
              "      <td>IntelligiChain</td>\n",
              "      <td>0</td>\n",
              "      <td>0</td>\n",
              "      <td>3</td>\n",
              "    </tr>\n",
              "  </tbody>\n",
              "</table>\n",
              "</div>"
            ],
            "text/plain": [
              "                                name  Нет опыта  От 1 года до 3 лет  \\\n",
              "0                               СБЕР          1                  17   \n",
              "1              Positive Technologies          0                   0   \n",
              "2                     EvenBet Gaming          0                   0   \n",
              "3                           Andersen          0                   0   \n",
              "4                             Яндекс          0                   3   \n",
              "5                             Контур          0                   0   \n",
              "6                                 VK          0                   9   \n",
              "7                                МТС          0                   1   \n",
              "8                               2ГИС          0                   0   \n",
              "9                               Ozon          1                   1   \n",
              "10                        A4.finance          0                   0   \n",
              "11                           Semrush          0                   0   \n",
              "12                           USETECH          0                   0   \n",
              "13  Business and Technology Services          0                   0   \n",
              "14                    IntelligiChain          0                   0   \n",
              "\n",
              "    От 3 до 6 лет  \n",
              "0              21  \n",
              "1              11  \n",
              "2               9  \n",
              "3               7  \n",
              "4               6  \n",
              "5               6  \n",
              "6               5  \n",
              "7               5  \n",
              "8               5  \n",
              "9               4  \n",
              "10              4  \n",
              "11              4  \n",
              "12              3  \n",
              "13              3  \n",
              "14              3  "
            ]
          },
          "metadata": {},
          "output_type": "display_data"
        }
      ],
      "source": [
        "# SQL-запрос для получения распределения вакансий по работодателям и опыту работы\n",
        "query_02 = text(f'''\n",
        "SELECT\n",
        "      e.name,  -- Имя работодателя\n",
        "      SUM(CASE WHEN v.experience = 'Нет опыта' THEN 1 ELSE 0 END) AS \"Нет опыта\",  -- Количество вакансий для кандидатов без опыта\n",
        "      SUM(CASE WHEN v.experience = 'От 1 года до 3 лет' THEN 1 ELSE 0 END) AS \"От 1 года до 3 лет\",  -- Количество вакансий для кандидатов с опытом от 1 до 3 лет\n",
        "      SUM(CASE WHEN v.experience = 'От 3 до 6 лет' THEN 1 ELSE 0 END) AS \"От 3 до 6 лет\"  -- Количество вакансий для кандидатов с опытом от 3 до 6 лет\n",
        "FROM\n",
        "      vacancies v  -- Таблица вакансий\n",
        "JOIN\n",
        "      employers e  -- Объединяем с таблицей работодателей\n",
        "ON\n",
        "      e.id = v.employer_id  -- Условия объединения\n",
        "WHERE\n",
        "      (v.name ILIKE :param1 OR  -- Фильтрация вакансий по названию с использованием параметров, нечувствительных к регистру\n",
        "      v.name ILIKE :param2 OR\n",
        "      v.name ILIKE :param3 OR\n",
        "      v.name ILIKE :param4 OR\n",
        "      v.name ILIKE :param6 OR\n",
        "      (v.name ILIKE :param5 AND  -- Дополнительное условие для параметров\n",
        "      v.name NOT ILIKE :param7))\n",
        "GROUP BY e.name  -- Группируем результаты по имени работодателя\n",
        "HAVING\n",
        "      SUM(CASE WHEN v.experience = 'Нет опыта' THEN 1 ELSE 0 END) != 0 OR  -- Условие: хотя бы одна вакансия без опыта\n",
        "      SUM(CASE WHEN v.experience = 'От 1 года до 3 лет' THEN 1 ELSE 0 END) != 0 OR  -- Условие: хотя бы одна вакансия с опытом от 1 до 3 лет\n",
        "      SUM(CASE WHEN v.experience = 'От 3 до 6 лет' THEN 1 ELSE 0 END) != 0  -- Условие: хотя бы одна вакансия с опытом от 3 до 6 лет\n",
        "ORDER BY 4 DESC, 3 DESC, 2 DESC  -- Сортировка по количеству вакансий от самого большого к самому маленькому\n",
        "LIMIT 15  -- Ограничиваем количество результатов до 15\n",
        "''')\n",
        "\n",
        "# Выполняем SQL-запрос и возвращаем результаты в DataFrame\n",
        "res3 = pd.read_sql_query(query_02, engine, params=param_values_00)\n",
        "\n",
        "# Выводим сообщение и отображаем результаты\n",
        "print(f\"Посмотрим на распределение вакансий по работодателям и опыту работы:\")\n",
        "display(res3)"
      ]
    },
    {
      "cell_type": "markdown",
      "id": "LzpTLq48W9NN",
      "metadata": {
        "id": "LzpTLq48W9NN"
      },
      "source": [
        "Также необходимо более тщательно проработать фильтрацию вакансий data science, чтобы и не упустить ничего и не захватить лишних вакансий.\n",
        "Проанализируем разные способы фильтрации данных и найдем лучший способ."
      ]
    },
    {
      "cell_type": "code",
      "execution_count": 57,
      "id": "xPeOcKQfWAzc",
      "metadata": {
        "colab": {
          "base_uri": "https://localhost:8080/"
        },
        "id": "xPeOcKQfWAzc",
        "outputId": "df32acb5-3d38-481b-8b13-a52697c3caa0"
      },
      "outputs": [
        {
          "name": "stdout",
          "output_type": "stream",
          "text": [
            "Через фильтрацию в sql - 480 строк\n",
            "через фильтрацию пандас рег.выражениями 454 строк\n",
            "Только в SQL:\n",
            "['Разработчик C++/Qt/QML' 'C++ разработчик (QML)' 'Разработчик С++/QML'\n",
            " 'MLOps Backend-разработчик' 'MLOps Engineer'\n",
            " 'MLOps Engineer (AI Driving Data)' 'Бизнес-аналитик (направление AML)'\n",
            " 'Бизнес-аналитик (AML и валютный контроль)'\n",
            " 'Java Разработчик (направление AML)' 'Middle MLE (Big Data Department)'\n",
            " 'MLOps Engineer в области рекомендательных систем'\n",
            " 'Архитектор решений (с опытом в TinyML)'\n",
            " 'Бизнес-аналитик (на оптимизацию опер.инструментов AML)']\n"
          ]
        }
      ],
      "source": [
        "# SQL-запрос для выборки всех вакансий, название которых соответствует определённым критериям\n",
        "query_1 = text(f'''\n",
        "SELECT *\n",
        "FROM vacancies  -- Выбор всех столбцов из таблицы вакансий\n",
        "WHERE (\n",
        "    name ILIKE :param1 OR  -- Поиск по названию вакансии (независимо от регистра) с использованием параметров\n",
        "    name ILIKE :param2 OR\n",
        "    name ILIKE :param3 OR\n",
        "    name ILIKE :param4 OR\n",
        "    name ILIKE :param6 OR\n",
        "    (name LIKE :param5 AND  -- Поиск по шаблону, который может содержать подстроки\n",
        "     name NOT LIKE :param7)  -- Исключение вакансий, содержащих определённый шаблон\n",
        ")\n",
        "''')\n",
        "\n",
        "# Параметры для фильтрации названий вакансий\n",
        "param_values = {\n",
        "    \"param1\": \"%data science%\",  # Вакансии, связанные с наукой о данных\n",
        "    \"param2\": \"%data scientist%\",  # Вакансии для специалистов по данным\n",
        "    \"param3\": \"%исследователь данных%\",  # Вакансии для исследователей данных\n",
        "    \"param4\": \"%machine learning%\",  # Вакансии, связанные с машинным обучением\n",
        "    \"param5\": \"%ML%\",  # Вакансии, содержащие аббревиатуру \"ML\"\n",
        "    \"param6\": \"%машинн%обучен%\",  # Вакансии с ключевыми словами, связанными с машинным обучением\n",
        "    \"param7\": \"%HTML%\"  # Исключение вакансий, содержащих \"HTML\" в названии\n",
        "}\n",
        "# выводим результат sql запроса\n",
        "sql_result = pd.read_sql_query(query_1, engine, params=param_values)\n",
        "\n",
        "# Берем отфильтрованный датафрейм из юнита 6.2 (фильтрация в пандас)\n",
        "regex_result = data_sc_vac\n",
        "\n",
        "# Выводим сколько строк дал каждый запрос и сравниваем  их\n",
        "print(f'Через фильтрацию в sql - {sql_result.shape[0]} строк\\n\\\n",
        "через фильтрацию пандас рег.выражениями {regex_result.shape[0]} строк')\n",
        "\n",
        "# Проверка уникальных строк в SQL, которых нет в датафрейме отфильтрованным в pandas\n",
        "only_in_sql = sql_result[~sql_result['name'].isin(regex_result['name'])]\n",
        "\n",
        "print(\"Только в SQL:\")\n",
        "print(only_in_sql['name'].unique())"
      ]
    },
    {
      "cell_type": "markdown",
      "id": "c6hMjNPOWPcx",
      "metadata": {
        "id": "c6hMjNPOWPcx"
      },
      "source": [
        "Изучив список вакансий, которые не вошли в результат при фильтаци через pandas практически все не имеют отношения к data science.  \n",
        "Список вакансий, которые могут быть связаны с областью Data Science:\n",
        "\n",
        "1. **MLOps Backend-разработчик**\n",
        "2. **MLOps Engineer**\n",
        "3. **MLOps Engineer (AI Driving Data)**\n",
        "4. **TeamLead Analyst BI (AI Driving Data)**\n",
        "5. **Middle MLE (Big Data Department)**\n",
        "6. **MLOps Engineer в области рекомендательных систем**\n",
        "7. **Ведущий аналитик (teamlead)**\n",
        "8. **Архитектор решений (с опытом в TinyML)**\n",
        "\n",
        "Эти вакансии содержат ключевые термины и специализации, которые связаны с Data Science, такими как MLOps, аналитика, работа с большими данными и машинное обучение.\n",
        "Возможно для корректной выборки вакансий, относящихся к data science необходимо добавить несколько дополнительных запросов для фильтрации:\n",
        "1. **big data**\n",
        "2. **аналитик**\n",
        "3. **MLOps**\n",
        "4. **рекоменд%систе%**\n",
        "5. **analysr bi**\n",
        "6. **архитектор решений**\n",
        "\n",
        "Что касается вакансий, в которых есть слово аналитик, можем захватить много лишних вакансий. Возможно для идеального результата необходимо брать только те вакансии, в которых есть самые распостраненные для data science ключевые навыки."
      ]
    },
    {
      "cell_type": "code",
      "execution_count": 58,
      "id": "wm6gCANnWlXC",
      "metadata": {
        "colab": {
          "base_uri": "https://localhost:8080/"
        },
        "id": "wm6gCANnWlXC",
        "outputId": "6c431a40-0010-4b07-ede7-751fc896edbd"
      },
      "outputs": [
        {
          "name": "stdout",
          "output_type": "stream",
          "text": [
            "Нашлось 556 вакансии для области data science\n"
          ]
        }
      ],
      "source": [
        "# Функция для фильтрации вакансий по ключевым словам для дата-сайентиста\n",
        "def filter_DS_vacancies_new(df):\n",
        "\n",
        "  data_science_keywords = [\n",
        "      r'\\bdata scientist\\b',           # 'data scientist'\n",
        "      r'\\bdata science\\b',             # 'data science'\n",
        "      r'\\bисследователь данных\\b',     # 'исследователь данных'\n",
        "      r'\\bML[Ops]{0,1}\\b',             # 'ML' или 'MLOps', не включая HTML\n",
        "      r'\\bmachine learning\\b',         # 'machine learning'\n",
        "      r'\\bмашинн.*обучен.*',            # 'машинн%обучен%', где .* соответствует любому тексту между словами\n",
        "      r'\\bbig data\\b',\n",
        "      r'\\bархитектор решений\\b',\n",
        "      r'\\banalyst bi\\b',\n",
        "      r'\\bрекоменд.+систе.+'\n",
        "  ]\n",
        "\n",
        "\n",
        "  df = df[\n",
        "      df['name'].str.contains('|'.join(data_science_keywords), case=False, regex=True)\n",
        "  ]\n",
        "  return df\n",
        "# Применяем функцию фильтровки к датафрейму со всеми вакансиями\n",
        "data_sc_vac_new = filter_DS_vacancies_new(all_vacancies)\n",
        "print(f\"Нашлось {data_sc_vac_new['name'].count()} вакансии для области data science\")"
      ]
    },
    {
      "cell_type": "markdown",
      "id": "T0X1M52wfSOm",
      "metadata": {
        "id": "T0X1M52wfSOm"
      },
      "source": [
        "#### 1. **Общее состояние рынка вакансий**\n",
        "- **Общее количество вакансий**: 322 вакансии с полным днем, 115 удаленных, 41 с гибким графиком.\n",
        "- **Географическое распределение**: Основные центры трудовой активности — Москва и Санкт-Петербург; остальные города, такие как Нижний Новгород и Новосибирск, имеют значительно меньшее количество вакансий.\n",
        "\n",
        "#### 2. **Работодатели и требования к опыту**\n",
        "- **Лидер по количеству вакансий**: Работодатель СБЕР предлагает:\n",
        "- 1 вакансию для соискателей без опыта.\n",
        "- 17 вакансий для соискателей с опытом от 1 до 3 лет.\n",
        "- 21 вакансию для соискателей с опытом от 3 до 6 лет.\n",
        "- **Другие работодатели**: Positive Technologies, EvenBet Gaming, Andersen и Яндекс не предлагают вакансий для кандидатов без опыта, акцентируя внимание на более опытных специалистах.\n",
        "- **Возможности для роста**: Некоторые компании, включая СБЕР и VK, имеют вакансии для кандидатов с опытом от 1 до 3 лет, что создает потенциал для профессионального развития молодых специалистов.\n",
        "\n",
        "#### 3. **Нехватка вакансий для новичков**\n",
        "- Низкое количество вакансий для соискателей без опыта ставит под сомнение возможность начать карьеру в отрасли. Это подчеркивает необходимость программ стажировок и дополнительных обучающих инициатив от работодателей.\n",
        "\n",
        "#### 4. **Востребованные навыки**\n",
        "- **Наиболее востребованные навыки**:\n",
        "- Python — 348 вакансий.\n",
        "- SQL — 191 вакансия.\n",
        "- Знания в области машинного обучения — 140 вакансий.\n",
        "- Инструменты для разработки моделей (PyTorch и TensorFlow) также являются важными навыками.\n",
        "- Знание Git (66 вакансий) подчеркивает значение командной работы в современных IT проектах.\n",
        "\n",
        "#### 5. **Типы занятости**\n",
        "- Вакансии предлагают разнообразие форм занятости (полный день, удаленно, гибкий график), что создает гибкость для соискателей при поиске работы.\n",
        "\n",
        "#### 6. **Региональные различия**\n",
        "- Москва и Санкт-Петербург остаются центрами трудовой активности, в то время как трудовой рынок в других городах, таких как Казань и Минск, требует дополнительных мер для привлечения специалистов."
      ]
    },
    {
      "cell_type": "markdown",
      "id": "c0ED6fh7wiBT",
      "metadata": {
        "id": "c0ED6fh7wiBT"
      },
      "source": [
        "# Общий вывод по проекту"
      ]
    },
    {
      "cell_type": "markdown",
      "id": "CTrbO_WxpXSn",
      "metadata": {
        "id": "CTrbO_WxpXSn"
      },
      "source": [
        "Анализ рынка вакансий в области Data Science показывает, что в этой сфере сохраняется высокая конкуренция и очень маленкое число позиций для начинающих специалистов. Изученные данные подчеркивают важность опыта и наличия специфических навыков, таких как программирование на Python и работа с базами данных SQL, для повышения вероятности трудоустройства.\n",
        "\n",
        "**Основные выводы**:\n",
        "\n",
        "1. Высокая конкуренция на рынке труда требует от соискателей наличия большого опыта и определенных навыков. Невозможность получения работы без предварительного опыта ставит под сомнение возможности для входа в профессию, что может быть проблемой для молодых специалистов.\n",
        "\n",
        "2. Ключевыми навыками для успешной карьеры в Data Science остаются программирование на Python, знание SQL и основные концепции машинного обучения. Поскольку технологии продолжают развиваться, навыки работы с современными фреймворками, такими как PyTorch и TensorFlow, становятся всё более актуальными.\n",
        "\n",
        "3. Наличие вакансий с полным днём, удаленной работой и гибким графиком свидетельствует о том, что компании адаптируют свои предложения к потребностям соискателей, что, в свою очередь, может повысить их привлекательность как работодателей.\n",
        "\n",
        "4. Доминирование крупных городов, таких как Москва и Санкт-Петербург, в количественном выражении вакансий указывает на необходимость развития трудовых ресурсов в других регионах, чтобы помочь обеспечить равномерное распределение возможностей между городами.\n",
        "\n",
        "В целом, для успешной карьеры в Data Science кандидатам необходимо сосредоточиться на приобретении специализированных навыков, активно участвовать в обучающих программах и наращивать опыт работы, чтобы увеличить свои шансы. Работодателям стоит рассмотреть возможность создания более доступных вакансий для новичков и программ стажировок, что поможет обогатить рынок труда новыми талантливыми специалистами и укрепить свою позицию как желаемого работодателя."
      ]
    },
    {
      "cell_type": "code",
      "execution_count": 75,
      "id": "1d902b98",
      "metadata": {},
      "outputs": [
        {
          "name": "stderr",
          "output_type": "stream",
          "text": [
            "C:\\Users\\xikka\\AppData\\Local\\Temp\\ipykernel_15688\\3786404887.py:10: FutureWarning: \n",
            "\n",
            "Passing `palette` without assigning `hue` is deprecated and will be removed in v0.14.0. Assign the `x` variable to `hue` and set `legend=False` for the same effect.\n",
            "\n",
            "  sns.barplot(df, x='area', y='cnt', palette=filtred_color);\n"
          ]
        },
        {
          "data": {
            "image/png": "[encoded data removed]",
            "text/plain": [
              "<Figure size 640x480 with 1 Axes>"
            ]
          },
          "metadata": {},
          "output_type": "display_data"
        }
      ],
      "source": [
        "query_4_1 = f'''SELECT a.name area, COUNT(v.area_id) cnt\n",
        "FROM vacancies v JOIN areas a ON v.area_id = a.id\n",
        "GROUP BY a.id, a.name\n",
        "ORDER BY 2 DESC\n",
        "LIMIT 5\n",
        "'''\n",
        "df = pd.read_sql_query(query_4_1, engine)\n",
        "\n",
        "filtred_color = [('tab:red' if x > 3000 else 'tab:blue') for x in df.cnt]\n",
        "sns.barplot(df, x='area', y='cnt', palette=filtred_color);"
      ]
    },
    {
      "cell_type": "code",
      "execution_count": 77,
      "id": "3d097a7d",
      "metadata": {},
      "outputs": [
        {
          "data": {
            "image/png": "[encoded data removed]",
            "text/plain": [
              "<Figure size 640x480 with 1 Axes>"
            ]
          },
          "metadata": {},
          "output_type": "display_data"
        }
      ],
      "source": [
        "query_4_5 = f'''SELECT experience, COUNT(id)\n",
        "FROM vacancies\n",
        "GROUP BY 1\n",
        "ORDER BY 2\n",
        "'''\n",
        "df = pd.read_sql_query(query_4_5, engine)\n",
        "\n",
        "plt.pie(\n",
        "    df['count'],\n",
        "    labels = df['experience'].values,\n",
        "    autopct = '%.2f%%',\n",
        "    explode = (0.05, 0.1, 0, 0.05),\n",
        "    wedgeprops = {'lw':0.8,'edgecolor':'k'},   \n",
        ");"
      ]
    },
    {
      "cell_type": "code",
      "execution_count": 78,
      "id": "002c6926",
      "metadata": {},
      "outputs": [
        {
          "data": {
            "image/png": "[encoded data removed]",
            "text/plain": [
              "<Figure size 640x480 with 1 Axes>"
            ]
          },
          "metadata": {},
          "output_type": "display_data"
        }
      ],
      "source": [
        "query_4_3 = f'''\n",
        "SELECT \n",
        "    salary_from as salary_from, \n",
        "    salary_to as salary_to\n",
        "FROM \n",
        "    vacancies\n",
        "'''\n",
        "df = pd.read_sql_query(query_4_3, engine)\n",
        "df.dropna(inplace=True)\n",
        "sns.histplot(data=df, bins=30);"
      ]
    }
  ],
  "metadata": {
    "colab": {
      "provenance": []
    },
    "kernelspec": {
      "display_name": "Python 3 (ipykernel)",
      "language": "python",
      "name": "python3"
    },
    "language_info": {
      "codemirror_mode": {
        "name": "ipython",
        "version": 3
      },
      "file_extension": ".py",
      "mimetype": "text/x-python",
      "name": "python",
      "nbconvert_exporter": "python",
      "pygments_lexer": "ipython3",
      "version": "3.11.8"
    }
  },
  "nbformat": 4,
  "nbformat_minor": 5
}
