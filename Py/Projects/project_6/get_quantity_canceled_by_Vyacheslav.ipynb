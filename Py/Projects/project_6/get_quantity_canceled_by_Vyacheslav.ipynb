{
 "cells": [
  {
   "cell_type": "code",
   "execution_count": 1,
   "metadata": {},
   "outputs": [],
   "source": [
    "import pandas as pd\n",
    "import numpy as np"
   ]
  },
  {
   "cell_type": "code",
   "execution_count": 2,
   "metadata": {},
   "outputs": [],
   "source": [
    "data = pd.read_csv(\n",
    "    \"customer_segmentation_project.zip\", \n",
    "    encoding=\"ISO-8859-1\", \n",
    "    dtype={'CustomerID': str,'InvoiceID': str}\n",
    ")\n",
    "\n",
    "data['InvoiceDate'] = data['InvoiceDate'].astype('datetime64[ns]')\n",
    "\n",
    "data = data.dropna(axis=0)\n",
    "\n",
    "data = data.drop_duplicates()\n",
    "\n",
    "#negative_quantity = data[(data['Quantity']<0)]\n",
    "#temp = data.groupby(by=['CustomerID', 'InvoiceNo'], as_index=False)['InvoiceDate'].count()\n",
    "#nb_products_per_basket = temp.rename(columns = {'InvoiceDate':'Number of products'})\n",
    "#nb_products_per_basket['order_canceled'] = nb_products_per_basket['InvoiceNo'].apply(lambda x: 1 if x[0] == 'C' else 0)\n"
   ]
  },
  {
   "cell_type": "code",
   "execution_count": 3,
   "metadata": {},
   "outputs": [
    {
     "data": {
      "text/plain": [
       "245266.0"
      ]
     },
     "execution_count": 3,
     "metadata": {},
     "output_type": "execute_result"
    }
   ],
   "source": [
    "#  От Вячеслава\n",
    "# cоздаем датафрейм только из продаж\n",
    "data_sales = data[(data['Quantity'] > 0)].reset_index()\n",
    "# cоздаем датафрейм только из возвратов и убираем ненужные колонки\n",
    "data_returns = data[(data['Quantity'] < 0)].reset_index().drop(['Description', 'Country', 'InvoiceNo', 'UnitPrice'], axis=1)\n",
    "# объединяем созданные датафреймы в один, в котором будут только покупки с возвратами\n",
    "data_merged = data_sales.merge(data_returns, how = 'inner',on = ['StockCode','CustomerID'])\n",
    "# оставляем в объединенном датафрейме только те данные, где покупки были ранее возвратов \n",
    "data_merged = data_merged[(data_merged['InvoiceDate_x'] < data_merged['InvoiceDate_y'])]\n",
    "# мы получили фрейм с несколькими вариантами соответствий транзакций-возвратов транзакциям-покупок,\n",
    "# далее нам нужно оставить по одному соответствию каждому возврату (это должна быть ближайшая покупка к каждому возврату)\n",
    "\n",
    "# на этом этапе, чтобы попасть в логику предоставленной студентам функции get_quantity_canceled(), и соответственно, получить \n",
    "# идентичный датафрейм, мне приходится найти дубликаты индексов возвратов (то есть для тех транзакций-возвратов, \n",
    "# которые имеет несколько противоположных транзакций) и удалить те, в которых количество товаров возврата больше покупки\n",
    "# (для транзакций-возвратов, имеющих только одну противоположную транзакцию, функцией-образцом такой опции не предусмотрено,\n",
    "# поэтому я также этого не делаю)\n",
    "duplicate_list = list(set(data_merged[data_merged.duplicated(['index_y'])]['index_y']))\n",
    "data_merged['dup'] = 0\n",
    "data_merged.loc[data_merged['index_y'].isin(duplicate_list), 'dup'] = 1\n",
    "data_merged = data_merged[(data_merged['Quantity_x'] >= (- data_merged['Quantity_y'])) | (data_merged['dup'] == 0)]\n",
    "\n",
    "# группируем полученный фрейм по индексам возвратов и находим для каждого такого индекса максимальное значение индекса транзакции-покупки \n",
    "# (это как раз будет ближайшая покупка к возврату) \n",
    "data_group = data_merged.groupby(['index_y']).agg({'index_x': ['max'] }).reset_index()\n",
    "data_group.columns = ['index_y', 'index_x']\n",
    "# группируем полученный фрейм по индексам покупок и находим для каждого такого индекса максимальное значение индекса транзакции-возврата\n",
    "# (это как раз будет ближайший возврат к покупке)\n",
    "data_group_2 = data_group.groupby(['index_x',]).agg( {'index_y': ['max'] }).reset_index()\n",
    "data_group_2.columns = ['index_x', 'index_y']\n",
    "# в этом фрейме мы получили все уникальные индексы возвратов с соответсвующими им уникальными индексами покупок\n",
    "\n",
    "# теперь нам нужно количество в каждой найденной нами транзакции-возврате, для этого объединяем полученный фрейм\n",
    "# с датафреймом, состоящим из возвратов\n",
    "data_returns_merged = data_returns.merge(data_group_2, how = 'inner',left_on = 'index',right_on = 'index_y')\n",
    "# убираем ненужные колонки\n",
    "data_returns_merged.drop (data_returns_merged.columns [[0,1,3,4]], axis = 1 , inplace = True )\n",
    "# и теперь осталось получить результирующий датафрейм \n",
    "# объединяем фрейм  покупок с фреймом возвратов\n",
    "data_merged_2 = data_sales.merge(data_returns_merged, how = 'left', left_on = 'index', right_on = 'index_x')\n",
    "# сменим знак в количестве возвратов на положительный и заполним нулями невостребованные для возвратов транзакции-покупок\n",
    "data_merged_2['Quantity_y'] = (-data_merged_2['Quantity_y']). fillna (0)\n",
    "# причешем полученный датафрейм для получения необходимого нам результирующего фрейма:\n",
    "data_merged_2.drop (data_merged_2.columns [[0,10,11]], axis= 1 , inplace= True )\n",
    "data_merged_2.rename(columns = {'Quantity_x':'Quantity', 'Quantity_y':'QuantityCanceled'}, inplace = True )\n",
    "data_merged_2\n",
    "# времы выполнения меньше секунды:\n",
    "# CPU times: user 544 ms, sys: 41 ms, total: 585 ms\n",
    "# Wall time: 586 ms\n",
    "# и кстати, здесь мы решаем сразу задание 3.8 :)\n",
    "data = data_merged_2\n",
    "\n",
    "data['QuantityCanceled'].sum()"
   ]
  }
 ],
 "metadata": {
  "kernelspec": {
   "display_name": "base",
   "language": "python",
   "name": "python3"
  },
  "language_info": {
   "codemirror_mode": {
    "name": "ipython",
    "version": 3
   },
   "file_extension": ".py",
   "mimetype": "text/x-python",
   "name": "python",
   "nbconvert_exporter": "python",
   "pygments_lexer": "ipython3",
   "version": "3.10.9"
  }
 },
 "nbformat": 4,
 "nbformat_minor": 2
}
