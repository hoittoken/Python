{
  "cells": [
    {
      "cell_type": "code",
      "execution_count": null,
      "metadata": {},
      "outputs": [],
      "source": [
        "#загрузка библиотек\n",
        "import pandas as pd\n",
        "import numpy as np"
      ]
    },
    {
      "cell_type": "markdown",
      "metadata": {
        "id": "NyHIGVhfa_Wf"
      },
      "source": [
        "# Стохастический градиентный и координатный спуски"
      ]
    },
    {
      "cell_type": "markdown",
      "metadata": {
        "id": "gn6lluIADUKa"
      },
      "source": [
        "Для каждого задания указано количество баллов (если они оцениваются отдельно) + 1 балл за аккуратное и полное выполнение всего задания"
      ]
    },
    {
      "cell_type": "markdown",
      "metadata": {
        "id": "txCccYvha_Wv"
      },
      "source": [
        "## Загрузка и подготовка данных"
      ]
    },
    {
      "cell_type": "markdown",
      "metadata": {
        "id": "NbyOzeZ6a_Wx"
      },
      "source": [
        "**Загрузите уже знакомый вам файл *Advertising.csv* как объект DataFrame.** "
      ]
    },
    {
      "cell_type": "code",
      "execution_count": null,
      "metadata": {
        "id": "E1L4_xeDa_Wz"
      },
      "outputs": [],
      "source": [
        "data = pd.read_csv('Advertising.zip')\n",
        "df = data.copy()\n",
        "df.head()"
      ]
    },
    {
      "cell_type": "markdown",
      "metadata": {
        "id": "bf4aVFndDUKf"
      },
      "source": [
        "**Проверьте, есть ли в данных пропуски и, если они есть - удалите их**"
      ]
    },
    {
      "cell_type": "code",
      "execution_count": null,
      "metadata": {
        "id": "tiVeFnR5DUKg"
      },
      "outputs": [],
      "source": [
        "df.isnull().sum()"
      ]
    },
    {
      "cell_type": "code",
      "execution_count": null,
      "metadata": {},
      "outputs": [],
      "source": [
        "df = df.drop(['Unnamed: 0'], axis =1)\n",
        "df.info()"
      ]
    },
    {
      "cell_type": "code",
      "execution_count": null,
      "metadata": {},
      "outputs": [],
      "source": [
        "# Чтобы не использовать .drop(['Unnamed: 0'], axis =1) можно сразу прочитать с параметром index_col = 0\n",
        "\n",
        "df = pd.read_csv('Advertising.zip', index_col = 0)\n",
        "df.head()\n"
      ]
    },
    {
      "cell_type": "markdown",
      "metadata": {
        "id": "rTkiqPr_DUKh"
      },
      "source": [
        "**Преобразуйте ваши признаки в массивы NumPy и разделите их на переменные X (предикторы) и y(целевая переменная)** "
      ]
    },
    {
      "cell_type": "code",
      "execution_count": null,
      "metadata": {
        "id": "R9OHIRB3a_Xa"
      },
      "outputs": [],
      "source": [
        "X = df[['TV', 'radio', 'newspaper']].values\n",
        "y = df['sales'].values"
      ]
    },
    {
      "cell_type": "markdown",
      "metadata": {
        "id": "KCvjSoHEDUKo"
      },
      "source": [
        "## Координатный спуск (3 балла)"
      ]
    },
    {
      "cell_type": "markdown",
      "metadata": {
        "id": "yjNm8dATDUKq"
      },
      "source": [
        "**Добавим единичный столбец для того, чтобы у нас был свободный коэффициент в уравнении регрессии:**"
      ]
    },
    {
      "cell_type": "code",
      "execution_count": null,
      "metadata": {
        "id": "LMgq0fmKDUKr"
      },
      "outputs": [],
      "source": [
        "X = np.hstack([np.ones(X.shape[0]).reshape(-1, 1), X])\n",
        "y = y.reshape(-1, 1)\n",
        "print(X.shape, y.shape)"
      ]
    },
    {
      "cell_type": "markdown",
      "metadata": {
        "id": "R008OQwcDUKt"
      },
      "source": [
        "**Нормализуем данные: обычно это необходимо для корректной работы алгоритма**"
      ]
    },
    {
      "cell_type": "code",
      "execution_count": null,
      "metadata": {
        "id": "2Sk7Wx-SDUKt"
      },
      "outputs": [],
      "source": [
        "X = X / np.sqrt(np.sum(np.square(X), axis=0))"
      ]
    },
    {
      "cell_type": "markdown",
      "metadata": {
        "id": "F_pHHbAdDUKu"
      },
      "source": [
        "**Реализуйте алгоритм координатного спуска:** (3 балла)\n",
        "\n",
        "Ниже приведен алгоритм координатного спуска для случая нормализованных данных:"
      ]
    },
    {
      "cell_type": "markdown",
      "metadata": {},
      "source": [
        "**Задано:**\n",
        "\n",
        "* $X=(x_{ij})$ - матрица наблюдений, размерностью $dim(X)=(m, n)$\n",
        "* $N=1000$ - количество итераций\n",
        "\n",
        "**Примечание:** *1000 итераций здесь указаны для этого задания, на самом деле их может быть намного больше, нет детерменированного значения.*\n",
        "\n",
        "**Алгоритм (математическая запись):**\n",
        "* Создать нулевой вектор параметров $w_0=(0, 0,..., 0)^T$\n",
        "* Для всех $t=1, 2, ..., N$ итераций:\n",
        "    * Для всех $k = 1, 2,..., n$:\n",
        "        * Фиксируем значение всех признаков, кроме $k$-ого и вычисляем прогноз модели линейной регрессии.Для этого исключаем признак $k$-ый из данных и $w_j$ из параметров при построении прогноза.\n",
        "        Математически это можно записать следующим образом:\n",
        "\n",
        "        $$h_i = \\sum_{j=1}^{k-1} x_{ij}w_{j} + \\sum_{j=k+1}^{n} x_{ij}w_j $$\n",
        "\n",
        "        **Примечание:**\n",
        "        \n",
        "        *Обратите, что в данной записи текущий признак под номером $k$ не участвует в сумме.Сравните эту запись с классической записью прогноза линейной регрессии в случае нормированных данных (когда участвуют все признаки):*\n",
        "\n",
        "        $$h_i = \\sum_{j=1}^{n} x_{ij}w_{j}$$ \n",
        "        \n",
        "        * Вычисляем новое значение параметра $k$-ого коэффициента: \n",
        "        $$w_k = \\sum_{i=1}^{m} x_{ik} (y_i - h_i) = x_k^T(y-h) $$\n",
        "\n",
        "    * Вычисляем значение функции потерь и сохраняем в историю изменения функции потерь (В оценке функции потерь участвуют все признаки):\n",
        "        $$\\hat{y_i} = \\sum_{j=1}^{n}x_{ij}w_j$$\n",
        "        $$Loss_t = \\frac{1}{n} \\sum_{i=1}^{m}(y_i-\\hat{y_i})^2$$\n",
        "        \n",
        "        или в векторном виде:\n",
        "        \n",
        "        $$\\hat{y} = Xw$$\n",
        "        $$Loss_t = \\frac{1}{n}(y-\\hat{y})^T(y-\\hat{y})$$\n",
        "    \n",
        "\n"
      ]
    },
    {
      "cell_type": "markdown",
      "metadata": {},
      "source": [
        "**Алгоритм (псевдокод):**\n",
        "```python\n",
        "\n",
        "num_iters = #количество итераций\n",
        "m = # количество строк в матрице X\n",
        "n = # количество столбцов в матрице X\n",
        "w = #вектор размера nx1, состояющий из нулей\n",
        "\n",
        "for i in range(num_iters):\n",
        "    for k in range(n):\n",
        "        # Вычисляем прогноз без k-ого фактора\n",
        "        h = (X[:,0:k] @ w[0:k]) + (X[:,k+1:] @ w[k+1:])\n",
        "        # Обновляем новое значение k-ого коэффициента\n",
        "        w[k] =  (X[:,k].T @ (y - h))\n",
        "        # Вычисляем функцию потерь\n",
        "        cost = sum((X @ w) - y) ** 2)/(len(y))\n",
        "\n",
        "```"
      ]
    },
    {
      "cell_type": "markdown",
      "metadata": {
        "id": "y3IdiHm9DUKv"
      },
      "source": [
        "Вам необходимо реализовать координатный спуск, и вывести веса в модели линейной регрессии."
      ]
    },
    {
      "cell_type": "code",
      "execution_count": null,
      "metadata": {},
      "outputs": [],
      "source": [
        "X.shape"
      ]
    },
    {
      "cell_type": "code",
      "execution_count": null,
      "metadata": {},
      "outputs": [],
      "source": [
        "num_iters = 250000\n",
        "m = 200\n",
        "n = 4\n",
        "w = np.zeros((X.shape[1], 1))\n",
        "\n",
        "def gradient_descent(X, y, w, num_iters):\n",
        "    m, n = X.shape\n",
        "    \n",
        "    for i in range(num_iters):\n",
        "        for k in range(n):\n",
        "            h = (X[:,0:k] @ w[0:k]) + (X[:,k+1:] @ w[k+1:])\n",
        "            w[k] =  (X[:,k].T @ (y - h))\n",
        "            \n",
        "            cost = sum(((X @ w) - y) ** 2)/(len(y))   \n",
        "    return w\n",
        "\n",
        "w_optimal = gradient_descent(X, y, w, num_iters)\n",
        "print(\"Оптимальные коэффициенты:\", w_optimal)\n",
        "# тут можно было записать вектор весов в более привычном виде и далее это бы сильно упростило алгоритм "
      ]
    },
    {
      "cell_type": "code",
      "execution_count": null,
      "metadata": {},
      "outputs": [],
      "source": [
        "# Зачем так много итераций? Уже после 100 получаются вполне приличные результаты\n",
        "num_iters = 100\n",
        "m = 200\n",
        "n = 4\n",
        "w = np.zeros((X.shape[1], 1))\n",
        "\n",
        "def gradient_descent(X, y, w, num_iters):\n",
        "    m, n = X.shape\n",
        "    \n",
        "    for i in range(num_iters):\n",
        "        for k in range(n):\n",
        "            h = (X[:,0:k] @ w[0:k]) + (X[:,k+1:] @ w[k+1:])\n",
        "            w[k] =  (X[:,k].T @ (y - h))\n",
        "            \n",
        "            cost = sum(((X @ w) - y) ** 2)/(len(y))   \n",
        "    return w\n",
        "\n",
        "w_optimal = gradient_descent(X, y, w, num_iters)\n",
        "print(\"Оптимальные коэффициенты:\", w_optimal)"
      ]
    },
    {
      "cell_type": "markdown",
      "metadata": {
        "id": "a3jG-7UADUKx"
      },
      "source": [
        "Сравните результаты с реализацией линейной регрессии из библиотеки sklearn:"
      ]
    },
    {
      "cell_type": "code",
      "execution_count": null,
      "metadata": {
        "id": "SBl-1Yb5DUKy"
      },
      "outputs": [],
      "source": [
        "from sklearn.linear_model import LinearRegression\n",
        " \n",
        "model = LinearRegression(fit_intercept=False)\n",
        "model.fit(X, y)\n",
        " \n",
        "print(model.coef_)"
      ]
    },
    {
      "cell_type": "markdown",
      "metadata": {
        "id": "hIl0AGLyDUKy"
      },
      "source": [
        "Если вы все сделали верно, они должны практически совпасть!"
      ]
    },
    {
      "cell_type": "markdown",
      "metadata": {
        "id": "VCGwFnPdDUKz"
      },
      "source": [
        "## Стохастический градиентный спуск (6 баллов)"
      ]
    },
    {
      "cell_type": "markdown",
      "metadata": {
        "id": "5u7Q2YJla_Xk"
      },
      "source": [
        "**Отмасштабируйте столбцы исходной матрицы *X* (которую мы не нормализовали еще!). Для того, чтобы это сделать, надо вычесть из каждого значения среднее и разделить на стандартное отклонение** (0.5 баллов)"
      ]
    },
    {
      "cell_type": "code",
      "execution_count": null,
      "metadata": {},
      "outputs": [],
      "source": [
        "X = df[['TV', 'radio', 'newspaper']].values\n",
        "y = df['sales'].values"
      ]
    },
    {
      "cell_type": "code",
      "execution_count": null,
      "metadata": {
        "id": "9cEpV_5La_Xo"
      },
      "outputs": [],
      "source": [
        "mean = np.mean(X, axis = 0)\n",
        "std = np.std(X, axis = 0)\n",
        "X = (X - mean)/ std"
      ]
    },
    {
      "cell_type": "markdown",
      "metadata": {
        "id": "8WkNYILHDUK1"
      },
      "source": [
        "**Добавим единичный столбец**"
      ]
    },
    {
      "cell_type": "code",
      "execution_count": null,
      "metadata": {
        "id": "EVl5tEGtDUK1"
      },
      "outputs": [],
      "source": [
        "X = np.hstack([np.ones(X.shape[0]).reshape(-1, 1), X])"
      ]
    },
    {
      "cell_type": "code",
      "execution_count": null,
      "metadata": {},
      "outputs": [],
      "source": [
        "X.shape"
      ]
    },
    {
      "cell_type": "markdown",
      "metadata": {
        "id": "m53tZA5fDUK1"
      },
      "source": [
        "**Создайте функцию mse_error для вычисления среднеквадратичной ошибки, принимающую два аргумента: реальные значения и предсказывающие, и возвращающую значение mse** (0.5 балла)"
      ]
    },
    {
      "cell_type": "code",
      "execution_count": null,
      "metadata": {
        "id": "0cvtC08Aa_YK"
      },
      "outputs": [],
      "source": [
        "def mse_error(y, y_pred):\n",
        "    return np.mean((y - y_pred)**2)"
      ]
    },
    {
      "cell_type": "markdown",
      "metadata": {
        "id": "lpOLhdvBDUK2"
      },
      "source": [
        "**Сделайте наивный прогноз: предскажите продажи средним значением. После этого рассчитайте среднеквадратичную ошибку для этого прогноза** (0.5 балла)"
      ]
    },
    {
      "cell_type": "code",
      "execution_count": null,
      "metadata": {
        "id": "kLV_XljVa_YZ"
      },
      "outputs": [],
      "source": [
        "mean_y = np.mean(y)\n",
        "y_pred = np.full_like(y, mean_y)\n",
        "mse = mse_error(y, y_pred)\n",
        "print(\"MSE =\",mse.round(2))\n",
        "\n",
        "# как сложно) я бы делал как-то так:\n",
        "print(f\"MSE = {mse_error(y, np.mean(y)).round(2)}\")"
      ]
    },
    {
      "cell_type": "markdown",
      "metadata": {
        "id": "BbybL2ola_ZM"
      },
      "source": [
        "**Создайте функцию *lin_pred*, которая может по матрице предикторов *X* и вектору весов линейной модели *w* получить вектор прогнозов** (0.5 балла)"
      ]
    },
    {
      "cell_type": "code",
      "execution_count": null,
      "metadata": {
        "id": "1Cyz-Luaa_ZO"
      },
      "outputs": [],
      "source": [
        "def lin_pred(X, w):\n",
        "    return np.dot(X, w)\n",
        "\n",
        "predict = lin_pred(X, w)\n",
        "print(np.mean(predict)) # зачем выводить средние по прогнозу не понятно, но ок пусть будет "
      ]
    },
    {
      "cell_type": "markdown",
      "metadata": {
        "id": "BU4adBrya_Zm"
      },
      "source": [
        "**Создайте функцию *stoch_grad_step* для реализации шага стохастического градиентного спуска. (1.5 балла) \n",
        "Функция должна принимать на вход следующие аргументы:**\n",
        "* матрицу *X*\n",
        "* вектора *y* и *w*\n",
        "* число *train_ind* - индекс объекта обучающей выборки (строки матрицы *X*), по которому считается изменение весов\n",
        "* число *$\\eta$* (eta) - шаг градиентного спуска\n",
        "\n",
        "Результатом будет вектор обновленных весов"
      ]
    },
    {
      "cell_type": "markdown",
      "metadata": {
        "id": "dyLY-P02DUK5"
      },
      "source": [
        "Шаг для стохастического градиентного спуска выглядит следующим образом:"
      ]
    },
    {
      "cell_type": "markdown",
      "metadata": {
        "id": "ORsAyIKNDUK5"
      },
      "source": [
        "$$\\Large w_j \\leftarrow w_j - \\frac{2\\eta}{\\ell} \\sum_{i=1}^\\ell{{x_{ij}((w_0 + w_1x_{i1} + w_2x_{i2} +  w_3x_{i3}) - y_i)}}$$"
      ]
    },
    {
      "cell_type": "markdown",
      "metadata": {
        "id": "CQl2FrpuDUK6"
      },
      "source": [
        "Для того, чтобы написать функцию, нужно сделать следующее:\n",
        "    \n",
        "*  посчитать направление изменения: умножить объект обучающей выборки на 2 и на разницу между предсказанным значением и реальным, а потом поделить на количество элементов в выборке.\n",
        "* вернуть разницу между вектором весов и направлением изменения, умноженным на шаг градиентного спуска"
      ]
    },
    {
      "cell_type": "code",
      "execution_count": null,
      "metadata": {
        "id": "YUhVQGsja_Zn"
      },
      "outputs": [],
      "source": [
        "def stoch_grad_step(X, y, w, train_ind, eta):\n",
        "    x_i = X[train_ind]\n",
        "    y_pred = np.dot(x_i, w)\n",
        "    direction = 2 * x_i * (y_pred - y[train_ind]) / len(y)\n",
        "    new_w = w - eta * direction\n",
        "    return new_w\n",
        "\n",
        "train_ind = 1\n",
        "eta = 0.01\n",
        "\n",
        "new_w = stoch_grad_step(X, y, w, train_ind, eta)\n",
        "print(\"Новые веса\\n\", new_w)\n",
        "# Из-за неудачной размерности вектора весов w, тут мы получаем не один шаг а целое семейство новых векторов w\n",
        "# возможно это имеет смысл, но нужно дальше исследовать алгорит. На данном этапе я бы защитал это ошибкой"
      ]
    },
    {
      "cell_type": "markdown",
      "metadata": {
        "id": "pXwIFd0Ma_Zx"
      },
      "source": [
        "**Создайте функцию *stochastic_gradient_descent*, для реализации стохастического градиентного спуска (2.5 балла)**\n",
        "\n",
        "**Функция принимает на вход следующие аргументы:**\n",
        "- Матрицу признаков X\n",
        "- Целевую переменнную\n",
        "- Изначальную точку (веса модели)\n",
        "- Параметр, определяющий темп обучения\n",
        "- Максимальное число итераций\n",
        "- Евклидово расстояние между векторами весов на соседних итерациях градиентного спуска,при котором алгоритм прекращает работу \n",
        "\n",
        "**На каждой итерации в вектор (список) должно записываться текущее значение среднеквадратичной ошибки. Функция должна возвращать вектор весов $w$, а также вектор (список) ошибок.**"
      ]
    },
    {
      "cell_type": "markdown",
      "metadata": {
        "id": "ZVeoNF1JDUK7"
      },
      "source": [
        "Алгоритм сследующий:\n",
        "    \n",
        "* Инициализируйте расстояние между векторами весов на соседних итерациях большим числом (можно бесконечностью)\n",
        "* Создайте пустой список для фиксации ошибок\n",
        "* Создайте счетчик итераций\n",
        "* Реализуйте оновной цикл обучения пока расстояние между векторами весов больше того, при котором надо прекратить работу (когда расстояния станут слишком маленькими - значит, мы застряли в одном месте) и количество итераций меньше максимально разрешенного: сгенерируйте случайный индекс, запишите текущую ошибку в вектор ошибок, запишите в переменную текущий шаг стохастического спуска с использованием функции, написанной ранее. Далее рассчитайте текущее расстояние между векторами весов и прибавьте к счетчику итераций 1.\n",
        "* Верните вектор весов и вектор ошибок"
      ]
    },
    {
      "cell_type": "code",
      "execution_count": null,
      "metadata": {
        "id": "CD_xcFNfa_Zy"
      },
      "outputs": [],
      "source": [
        "def stochastic_gradient_descent(X, y, w, eta, max_iter, tol):\n",
        "    errors = []\n",
        "    prev_w_dist = np.inf\n",
        "    iter_count = 0\n",
        "    \n",
        "    while prev_w_dist > tol and iter_count < max_iter:\n",
        "        idx = np.random.randint(len(X))\n",
        "        errors.append(lin_pred(X, w))\n",
        "        w_step = stoch_grad_step(X, y, w, idx, eta)\n",
        "        prev_w_dist = np.linalg.norm(w - w_step)\n",
        "        w = w_step\n",
        "        iter_count += 1\n",
        "    \n",
        "    return w, errors\n",
        "\n",
        "eta = 0.01\n",
        "max_iter = 1000\n",
        "tol = 0.00001\n",
        "\n",
        "w_final, errors = stochastic_gradient_descent(X, y, new_w, eta, max_iter, tol)\n",
        "print(\"Финальные веса:\", w_final)\n",
        "print(\"Ошибки на каждой итерации:\", errors)"
      ]
    },
    {
      "cell_type": "markdown",
      "metadata": {
        "id": "0OqHO1Rta_Z7"
      },
      "source": [
        " **Запустите $10^5$ итераций стохастического градиентного спуска. Укажите вектор начальных весов, состоящий из нулей. Можете поэкспериментировать с параметром, отвечающим за темп обучения.**"
      ]
    },
    {
      "cell_type": "markdown",
      "metadata": {
        "id": "N6fHHT6vDUK8"
      },
      "source": [
        "**Постройте график зависимости ошибки от номера итерации**"
      ]
    },
    {
      "cell_type": "code",
      "execution_count": null,
      "metadata": {},
      "outputs": [],
      "source": [
        "def stochastic_gradient_descent_2(X, y, w, eta, max_iter, tol, adaptive_lr=False, alpha=0.9, reg_param=0):\n",
        "    errors = []\n",
        "    prev_w_dist = np.inf\n",
        "    iter_count = 0\n",
        "    lr = eta\n",
        "    \n",
        "    while prev_w_dist > tol and iter_count < max_iter:\n",
        "        idx = np.random.randint(len(X))\n",
        "        errors.append(lin_pred(X, w))\n",
        "        w_step = stoch_grad_step(X, y, w, idx, lr)\n",
        "        \n",
        "        if adaptive_lr:\n",
        "            lr = alpha * lr + (1 - alpha) * np.linalg.norm(w - w_step)\n",
        "        \n",
        "        if reg_param > 0:\n",
        "            w_step -= reg_param * w  # L2 regularization\n",
        "            # круто, если вы сами прикрутили регуляризацию\n",
        "            # не круто, если это результат работы ИИ\n",
        "            # в любом случае алгорит не сходится к минимальной ошибке\n",
        "            \n",
        "        prev_w_dist = np.linalg.norm(w - w_step)\n",
        "        w = w_step\n",
        "        iter_count += 1\n",
        "    \n",
        "    return w, errors\n",
        "\n",
        "eta = 0.1\n",
        "max_iter = 100000\n",
        "tol = 0.00001\n",
        "new_w = np.zeros(X.shape[1])  # Initialize new weights\n",
        "w_final, errors = stochastic_gradient_descent_2(X, y, new_w, eta, max_iter, tol, adaptive_lr=True, alpha=0.9, reg_param=0.001)\n",
        "print(\"Финальные веса:\", w_final)\n",
        "print(\"Ошибки на каждой итерации:\", errors)"
      ]
    },
    {
      "cell_type": "code",
      "execution_count": null,
      "metadata": {},
      "outputs": [],
      "source": [
        "import matplotlib.pyplot as plt\n",
        "plt.plot(range(len(errors)), errors)\n",
        "plt.xlabel('Итерации')\n",
        "plt.ylabel('Ошибка')\n",
        "plt.title('График ошибок на каждой итерации в стохастическом градиентном спуске')\n",
        "plt.show()"
      ]
    },
    {
      "cell_type": "markdown",
      "metadata": {
        "id": "O-MVOcJ6a_aY"
      },
      "source": [
        "**Выведите вектор весов, к которому сошелся метод.**"
      ]
    },
    {
      "cell_type": "code",
      "execution_count": null,
      "metadata": {
        "id": "MPjVkXe4DUK9"
      },
      "outputs": [],
      "source": [
        "print(\"Финальные веса:\", w_final)"
      ]
    },
    {
      "cell_type": "markdown",
      "metadata": {
        "id": "qabzMc3Qa_a5"
      },
      "source": [
        "**Выведите среднеквадратичную ошибку на последней итерации.**"
      ]
    },
    {
      "cell_type": "code",
      "execution_count": null,
      "metadata": {
        "id": "7tPWleMIa_a7"
      },
      "outputs": [],
      "source": [
        "mse_error(y, errors[-1])"
      ]
    },
    {
      "cell_type": "markdown",
      "metadata": {},
      "source": [
        "***\n",
        "## Печально, что не вышло написать рабочий алгоритм\n",
        "Проблемы начались ещё на этапе определения вектора w с размерностью (4, 1), гораздо легче было бы сразу привести его к виду (4,). \n",
        "Для примера приведу алгоритм сделанный мной"
      ]
    },
    {
      "cell_type": "code",
      "execution_count": 1,
      "metadata": {},
      "outputs": [
        {
          "name": "stdout",
          "output_type": "stream",
          "text": [
            "w = [ 41.56217205 110.13144155  73.52860638  -0.55006384]\n",
            "w.shape = (4,)\n"
          ]
        },
        {
          "data": {
            "text/plain": [
              "Text(0.5, 1.0, 'График зависимости ошибок (MSE/MAE) от номера итерации')"
            ]
          },
          "execution_count": 1,
          "metadata": {},
          "output_type": "execute_result"
        },
        {
          "data": {
            "image/png": "[encoded data removed]",
            "text/plain": [
              "<Figure size 1500x1500 with 1 Axes>"
            ]
          },
          "metadata": {},
          "output_type": "display_data"
        }
      ],
      "source": [
        "import pandas as pd\n",
        "import numpy as np\n",
        "\n",
        "data = pd.read_csv('Advertising.zip', index_col=0)\n",
        "X = np.array(data[['TV','radio','newspaper']])\n",
        "y = np.array(data['sales'])\n",
        "X = np.hstack([np.ones(X.shape[0]).reshape(-1, 1), X])\n",
        "y = y.reshape(-1, 1)\n",
        "X = X / np.sqrt(np.sum(np.square(X), axis=0))\n",
        "\n",
        "num_iters = 130 # опытным путём добиваемся минимальной разницы с предсказаниями модели за меньшее число итерации\n",
        "m = X.shape[0]\n",
        "n = X.shape[1]\n",
        "w = np.zeros((n,1))\n",
        "for i in range(num_iters):\n",
        "\n",
        "    for k in range(n):\n",
        "        # Вычисляем прогноз без k-ого фактора\n",
        "        h = (X[:,0:k] @ w[0:k]) + (X[:,k+1:] @ w[k+1:])\n",
        "        # Обновляем новое значение k-ого коэффициента\n",
        "        w[k] =  (X[:,k].T @ (y - h))\n",
        "        # Вычисляем функцию потерь\n",
        "        cost = sum(((X @ w) - y) ** 2)/(len(y))\n",
        "  \n",
        "w = w.T[0]\n",
        "print(f'w = {w}')\n",
        "print(f'w.shape = {w.shape}')\n",
        "\n",
        "X = np.array(data[['TV','radio','newspaper']])\n",
        "X = (X - X.mean(axis=0)) / X.std(axis=0) \n",
        "X = np.hstack([np.ones(X.shape[0]).reshape(-1, 1), X])\n",
        "\n",
        "def mse_error(y_real, y_pred):\n",
        "    return np.square(np.subtract(y_real, y_pred)).mean()\n",
        "def mae_error(y_real, y_pred):\n",
        "    return np.mean(np.abs(y_real - y_pred))\n",
        "\n",
        "def lin_reg(X, y):\n",
        "    a = np.dot(X.T, X)\n",
        "    b = np.dot(X.T, y)\n",
        "    return np.linalg.solve(a, b)\n",
        "\n",
        "w = lin_reg(X, y).T\n",
        "\n",
        "def lin_pred(X,w):\n",
        "    res = np.zeros([len(X),1])\n",
        "    for i in range(len(X)):\n",
        "        res[i] = (np.dot(w,X[i]))\n",
        "    return res\n",
        "\n",
        "y_pred = lin_pred(X, w)\n",
        "\n",
        "def stoch_grad_step(X, y, w, train_ind, eta=0.01):\n",
        "    w_new = 2 * eta * X[train_ind] * (np.dot(w, X[train_ind]) - y[train_ind]) / y[train_ind].size\n",
        "    return (w - w_new)\n",
        "\n",
        "def stochastic_gradient_descent(X, y, w, eta=0.1, max_iter=10000, min_distance=0.000001):\n",
        "    distance = np.inf \n",
        "    w_init = w\n",
        "    mse_errors = []\n",
        "    mae_errors = []\n",
        "    w_values_list = []\n",
        "    iter_count = 0\n",
        "    np.random.seed(42)\n",
        "    while distance > min_distance and iter_count < max_iter:\n",
        "        random_ind = np.random.randint(X.shape[0])\n",
        "        distance = np.linalg.norm(w-stoch_grad_step(X, y, w, random_ind, eta))\n",
        "        w_new = stoch_grad_step(X, y, w, random_ind, eta)\n",
        "        mse_errors.append(mse_error(y, lin_pred(X, w_new)))\n",
        "        mae_errors.append(mae_error(y, lin_pred(X, w_new)))\n",
        "        w_values_list.append(w)\n",
        "        w = w_new\n",
        "        iter_count += 1  \n",
        "    return w, w_values_list, mse_errors, mae_errors, iter_count\n",
        "\n",
        "w, w_values, mse_errors, mae_errors, iter_count = stochastic_gradient_descent(X, y, np.zeros(4), 0.01, 10000, 0.0001)\n",
        "\n",
        "\n",
        "import matplotlib.pyplot as plt\n",
        "\n",
        "fig = plt.figure(figsize=(15, 15))\n",
        "ax = fig.add_axes([0.3,0.3,1,1])\n",
        "ax.plot(mse_errors, c='k', linewidth=4)\n",
        "ax.plot(mae_errors, c='r', linewidth=4)\n",
        "ax.set_xlim(0,150)\n",
        "ax.hlines(np.array(mse_errors).min(),0,200, color='g', linestyle='--')\n",
        "ax.text(5, 5, f'MSE: {round(np.array(mse_errors).min(),3)}', fontsize = 16, color='g')\n",
        "ax.hlines(np.array(mae_errors).min(),0,200, color='b', linestyle='--')\n",
        "ax.text(5, -4.2, f'MAE: {round(np.array(mae_errors).min(),3)}', fontsize = 16, color='b')\n",
        "ax.text(5, 15, f'MAE', fontsize = 22, color='r')\n",
        "ax.text(5.5, 190, f'MSE', fontsize = 22, color='k')\n",
        "ax.set_title('График зависимости ошибок (MSE/MAE) от номера итерации',fontsize = 18)"
      ]
    }
  ],
  "metadata": {
    "colab": {
      "collapsed_sections": [],
      "name": "Практика_Оптимизация.ipynb",
      "provenance": [],
      "toc_visible": true
    },
    "kernelspec": {
      "display_name": "Python 3.10.8 ('base')",
      "language": "python",
      "name": "python3"
    },
    "language_info": {
      "codemirror_mode": {
        "name": "ipython",
        "version": 3
      },
      "file_extension": ".py",
      "mimetype": "text/x-python",
      "name": "python",
      "nbconvert_exporter": "python",
      "pygments_lexer": "ipython3",
      "version": "3.11.9"
    },
    "vscode": {
      "interpreter": {
        "hash": "86c56a74836ad344b00594bf6f38fa6a676a207ceefe20d101fbc465800ccb8d"
      }
    }
  },
  "nbformat": 4,
  "nbformat_minor": 0
}
