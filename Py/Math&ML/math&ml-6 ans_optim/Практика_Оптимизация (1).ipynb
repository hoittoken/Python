{
  "cells": [
    {
      "cell_type": "markdown",
      "metadata": {
        "id": "NyHIGVhfa_Wf"
      },
      "source": [
        "# Стохастический градиентный и координатный спуски"
      ]
    },
    {
      "cell_type": "markdown",
      "metadata": {
        "id": "txCccYvha_Wv"
      },
      "source": [
        "## Загрузка и подготовка данных"
      ]
    },
    {
      "cell_type": "code",
      "execution_count": 1,
      "metadata": {},
      "outputs": [],
      "source": [
        "# импортируем необходимые библиотеки\n",
        "import pandas as pd                    # для работы с DataFrame\n",
        "import numpy as np                     # для работы с массивами\n",
        "import matplotlib.pyplot as plt        # библиотека для визуализации статистических данных, построения данных\n",
        "import seaborn as sns                  # библиотека для визуализации статистических данных, построения данных\n",
        "from sklearn.linear_model import LinearRegression      # алгоритм линейной регрессии\n",
        "from sklearn.metrics import mean_squared_error         # среднеквадратичная ошибка из модуля метрик"
      ]
    },
    {
      "cell_type": "markdown",
      "metadata": {
        "id": "NbyOzeZ6a_Wx"
      },
      "source": [
        "Файл для загрузки: https://lms-cdn.skillfactory.ru/assets/courseware/v1/be9ea3bcfb9e5ebc744c1f2af98fed61/asset-v1:SkillFactory+DSPR-2.0+14JULY2021+type@asset+block/Advertising.zip"
      ]
    },
    {
      "cell_type": "code",
      "execution_count": 2,
      "metadata": {
        "id": "E1L4_xeDa_Wz"
      },
      "outputs": [
        {
          "data": {
            "text/html": [
              "<div>\n",
              "<style scoped>\n",
              "    .dataframe tbody tr th:only-of-type {\n",
              "        vertical-align: middle;\n",
              "    }\n",
              "\n",
              "    .dataframe tbody tr th {\n",
              "        vertical-align: top;\n",
              "    }\n",
              "\n",
              "    .dataframe thead th {\n",
              "        text-align: right;\n",
              "    }\n",
              "</style>\n",
              "<table border=\"1\" class=\"dataframe\">\n",
              "  <thead>\n",
              "    <tr style=\"text-align: right;\">\n",
              "      <th></th>\n",
              "      <th>TV</th>\n",
              "      <th>radio</th>\n",
              "      <th>newspaper</th>\n",
              "      <th>sales</th>\n",
              "    </tr>\n",
              "  </thead>\n",
              "  <tbody>\n",
              "    <tr>\n",
              "      <th>1</th>\n",
              "      <td>230.1</td>\n",
              "      <td>37.8</td>\n",
              "      <td>69.2</td>\n",
              "      <td>22.1</td>\n",
              "    </tr>\n",
              "    <tr>\n",
              "      <th>2</th>\n",
              "      <td>44.5</td>\n",
              "      <td>39.3</td>\n",
              "      <td>45.1</td>\n",
              "      <td>10.4</td>\n",
              "    </tr>\n",
              "    <tr>\n",
              "      <th>3</th>\n",
              "      <td>17.2</td>\n",
              "      <td>45.9</td>\n",
              "      <td>69.3</td>\n",
              "      <td>9.3</td>\n",
              "    </tr>\n",
              "    <tr>\n",
              "      <th>4</th>\n",
              "      <td>151.5</td>\n",
              "      <td>41.3</td>\n",
              "      <td>58.5</td>\n",
              "      <td>18.5</td>\n",
              "    </tr>\n",
              "    <tr>\n",
              "      <th>5</th>\n",
              "      <td>180.8</td>\n",
              "      <td>10.8</td>\n",
              "      <td>58.4</td>\n",
              "      <td>12.9</td>\n",
              "    </tr>\n",
              "  </tbody>\n",
              "</table>\n",
              "</div>"
            ],
            "text/plain": [
              "      TV  radio  newspaper  sales\n",
              "1  230.1   37.8       69.2   22.1\n",
              "2   44.5   39.3       45.1   10.4\n",
              "3   17.2   45.9       69.3    9.3\n",
              "4  151.5   41.3       58.5   18.5\n",
              "5  180.8   10.8       58.4   12.9"
            ]
          },
          "execution_count": 2,
          "metadata": {},
          "output_type": "execute_result"
        }
      ],
      "source": [
        "# загрузка файла\n",
        "df = pd.read_csv('Advertising.zip', index_col=0)\n",
        "df.head()"
      ]
    },
    {
      "cell_type": "code",
      "execution_count": 3,
      "metadata": {
        "id": "tiVeFnR5DUKg"
      },
      "outputs": [
        {
          "name": "stdout",
          "output_type": "stream",
          "text": [
            "<class 'pandas.core.frame.DataFrame'>\n",
            "Index: 200 entries, 1 to 200\n",
            "Data columns (total 4 columns):\n",
            " #   Column     Non-Null Count  Dtype  \n",
            "---  ------     --------------  -----  \n",
            " 0   TV         200 non-null    float64\n",
            " 1   radio      200 non-null    float64\n",
            " 2   newspaper  200 non-null    float64\n",
            " 3   sales      200 non-null    float64\n",
            "dtypes: float64(4)\n",
            "memory usage: 7.8 KB\n"
          ]
        }
      ],
      "source": [
        "# посмотрим на общую информацию о признаках\n",
        "df.info()"
      ]
    },
    {
      "cell_type": "code",
      "execution_count": 4,
      "metadata": {},
      "outputs": [
        {
          "data": {
            "image/png": "[encoded data removed]",
            "text/plain": [
              "<Figure size 700x500 with 6 Axes>"
            ]
          },
          "metadata": {},
          "output_type": "display_data"
        }
      ],
      "source": [
        "# создание координатной плоскости\n",
        "fig, axes = plt.subplots(3, 2, figsize=(7, 5))\n",
        "# цикл для признаков датасета без таргета\n",
        "for i, feature in enumerate(df.drop(['sales'], axis=1).columns):\n",
        "    # строим гистограмму распределения признака \n",
        "    histplot = sns.histplot(data=df, x=feature, kde=True, ax=axes[i][0])\n",
        "    # название гистограммы\n",
        "    histplot.set_title('{}'.format(feature))\n",
        "    # строим диаграмму рассеяния + линейную регрессию в зависимости от целевого признака\n",
        "    regplot = sns.regplot(data=df, x=feature, y='sales', line_kws=dict(color=\"r\"), ax=axes[i][1])\n",
        "    # название графика\n",
        "    regplot.set_title('{} VS sales'.format(feature));\n",
        "plt.tight_layout()    # выравнивание графиков                                             "
      ]
    },
    {
      "cell_type": "markdown",
      "metadata": {},
      "source": [
        "**Пропусков нет, все данные числовые (но без нормального распределения) и мы можем приступить к решению задачи: предсказанию продаж - целевая переменная *sales***."
      ]
    },
    {
      "cell_type": "markdown",
      "metadata": {
        "id": "rTkiqPr_DUKh"
      },
      "source": [
        "**Преобразуем признаки в массивы NumPy и разделим их на переменные X (предикторы) и y (целевая переменная)** "
      ]
    },
    {
      "cell_type": "code",
      "execution_count": 5,
      "metadata": {
        "id": "R9OHIRB3a_Xa"
      },
      "outputs": [
        {
          "name": "stdout",
          "output_type": "stream",
          "text": [
            "Размерность матрицы наблюдений(предикторы): (200, 4)\n",
            "Размерность вектора правильных ответов: (200, 1)\n"
          ]
        }
      ],
      "source": [
        "X = df[['TV', 'radio', 'newspaper']]\n",
        "y = df['sales']\n",
        "# определим переменную: количество объектов\n",
        "n = len(y)\n",
        "# формируем матрицу значений с добавлением столбца из единиц для создания свободного коэффициента в уравнении регрессии\n",
        "X = np.append(np.ones((n,1)), X.values.reshape(n,3), axis = 1)\n",
        "# преобразование в двумерный массив целевой переменной\n",
        "y = df['sales'].values.reshape(n,1)\n",
        "\n",
        "print(f'Размерность матрицы наблюдений(предикторы): {X.shape}', f'Размерность вектора правильных ответов: {y.shape}', sep='\\n')"
      ]
    },
    {
      "cell_type": "markdown",
      "metadata": {
        "id": "KCvjSoHEDUKo"
      },
      "source": [
        "## Координатный спуск"
      ]
    },
    {
      "cell_type": "markdown",
      "metadata": {
        "id": "R008OQwcDUKt"
      },
      "source": [
        "**Нормализуем данные для корректной работы алгоритма**"
      ]
    },
    {
      "cell_type": "code",
      "execution_count": 6,
      "metadata": {
        "id": "2Sk7Wx-SDUKt"
      },
      "outputs": [],
      "source": [
        "# каждое значение матрицы разделим на евклидово расстояние между значениями\n",
        "X = X / np.sqrt(np.sum(np.square(X), axis=0))"
      ]
    },
    {
      "cell_type": "markdown",
      "metadata": {
        "id": "F_pHHbAdDUKu"
      },
      "source": [
        "**Алгоритм координатного спуска:** "
      ]
    },
    {
      "cell_type": "markdown",
      "metadata": {},
      "source": [
        "**Задано:**\n",
        "\n",
        "* $X=(x_{ij})$ - матрица наблюдений, размерностью $dim(X)=(m, n)$\n",
        "* $N=1000$ - количество итераций\n",
        "\n",
        "**Примечание:** *1000 итераций здесь указаны для этого задания, на самом деле их может быть намного больше, нет детерменированного значения.*\n",
        "\n",
        "**Алгоритм (математическая запись):**\n",
        "* Создать нулевой вектор параметров $w_0=(0, 0,..., 0)^T$\n",
        "* Для всех $t=1, 2, ..., N$ итераций:\n",
        "    * Для всех $k = 1, 2,..., n$:\n",
        "        * Фиксируем значение всех признаков, кроме $k$-ого и вычисляем прогноз модели линейной регрессии.Для этого исключаем признак $k$-ый из данных и $w_j$ из параметров при построении прогноза.\n",
        "        Математически это можно записать следующим образом:\n",
        "\n",
        "        $$h_i = \\sum_{j=1}^{k-1} x_{ij}w_{j} + \\sum_{j=k+1}^{n} x_{ij}w_j $$\n",
        "\n",
        "        **Примечание:**\n",
        "        \n",
        "        *В данной записи текущий признак под номером $k$ не участвует в сумме. Для сравнения с классической записью прогноза линейной регрессии в случае нормированных данных (когда участвуют все признаки):*\n",
        "\n",
        "        $$h_i = \\sum_{j=1}^{n} x_{ij}w_{j}$$\n",
        "        \n",
        "        * Вычисляем новое значение параметра $k$-ого коэффициента: \n",
        "        $$w_k = \\sum_{i=1}^{m} x_{ik} (y_i - h_i) = x_k^T(y-h) $$\n",
        "\n",
        "    * Вычисляем значение функции потерь и сохраняем в историю изменения функции потерь (В оценке функции потерь участвуют все признаки):\n",
        "        $$\\hat{y_i} = \\sum_{j=1}^{n}x_{ij}w_j$$\n",
        "        $$Loss_t = \\frac{1}{n} \\sum_{i=1}^{m}(y_i-\\hat{y_i})^2$$\n",
        "        \n",
        "        или в векторном виде:\n",
        "        \n",
        "        $$\\hat{y} = Xw$$\n",
        "        $$Loss_t = \\frac{1}{n}(y-\\hat{y})^T(y-\\hat{y})$$\n",
        "    \n",
        "\n"
      ]
    },
    {
      "cell_type": "markdown",
      "metadata": {},
      "source": [
        "**Алгоритм (псевдокод):**\n",
        "```python\n",
        "\n",
        "num_iters = #количество итераций\n",
        "m = # количество строк в матрице X\n",
        "n = # количество столбцов в матрице X\n",
        "w = #вектор размера nx1, состояющий из нулей\n",
        "\n",
        "for i in range(num_iters):\n",
        "    for k in range(n):\n",
        "        # Вычисляем прогноз без k-ого фактора\n",
        "        h = (X[:,0:k] @ w[0:k]) + (X[:,k+1:] @ w[k+1:])\n",
        "        # Обновляем новое значение k-ого коэффициента\n",
        "        w[k] =  (X[:,k].T @ (y - h))\n",
        "        # Вычисляем функцию потерь\n",
        "        cost = sum((X @ w) - y) ** 2)/(len(y))\n",
        "\n",
        "```"
      ]
    },
    {
      "cell_type": "code",
      "execution_count": 7,
      "metadata": {},
      "outputs": [
        {
          "name": "stdout",
          "output_type": "stream",
          "text": [
            "Вектор коэффициентов уравнения регрессии, т.н. вектор весов:  [41.56217] [110.13144] [73.52861] [-0.55006]\n",
            "MSE по методу координатного спуска:  2.78413\n"
          ]
        }
      ],
      "source": [
        "# задаем количество итераций\n",
        "num_iter = 1000\n",
        "# создаем вектор весов пока с нулевыми значениями двумерной размерности (количество столбцов матрицы)\n",
        "w = np.zeros((X.shape[1],1))\n",
        "# осуществляем цикл по количеству итераций\n",
        "for i in range(num_iter):\n",
        "    # осуществляем цикл по признакам (предикторам)\n",
        "    for k in range(X.shape[1]):\n",
        "        # вычисляем прогноз линейной регрессии для k признака\n",
        "        h = (X[:,0:k] @ w[0:k]) + (X[:,k+1:] @ w[k+1:])\n",
        "        # находим коэффициент обновленного k\n",
        "        w[k] = X[:,k].T @ (y - h)\n",
        "        # вычисляем функцию потерь - среднеквадратичную ошибку\n",
        "        cost = (((X @ w) - y)**2).mean()\n",
        "mse_ols = np.round(cost, 5)\n",
        "w_ols = list(np.round(w, 5))\n",
        "print('Вектор коэффициентов уравнения регрессии, т.н. вектор весов: ', *w_ols)\n",
        "print('MSE по методу координатного спуска: ', mse_ols)"
      ]
    },
    {
      "cell_type": "markdown",
      "metadata": {
        "id": "a3jG-7UADUKx"
      },
      "source": [
        "Сравним полученные значения вектора весов с коэффициентами при реализации линейной регрессии из библиотеки sklearn:"
      ]
    },
    {
      "cell_type": "code",
      "execution_count": 8,
      "metadata": {
        "id": "SBl-1Yb5DUKy"
      },
      "outputs": [
        {
          "name": "stdout",
          "output_type": "stream",
          "text": [
            "MSE модели линейной регрессии:  2.78413\n"
          ]
        },
        {
          "data": {
            "text/html": [
              "<div>\n",
              "<style scoped>\n",
              "    .dataframe tbody tr th:only-of-type {\n",
              "        vertical-align: middle;\n",
              "    }\n",
              "\n",
              "    .dataframe tbody tr th {\n",
              "        vertical-align: top;\n",
              "    }\n",
              "\n",
              "    .dataframe thead th {\n",
              "        text-align: right;\n",
              "    }\n",
              "</style>\n",
              "<table border=\"1\" class=\"dataframe\">\n",
              "  <thead>\n",
              "    <tr style=\"text-align: right;\">\n",
              "      <th></th>\n",
              "      <th>Coef manual coordinate descent</th>\n",
              "      <th>Coef sklearn</th>\n",
              "    </tr>\n",
              "  </thead>\n",
              "  <tbody>\n",
              "    <tr>\n",
              "      <th>0</th>\n",
              "      <td>41.56217</td>\n",
              "      <td>41.56217</td>\n",
              "    </tr>\n",
              "    <tr>\n",
              "      <th>1</th>\n",
              "      <td>110.13144</td>\n",
              "      <td>110.13144</td>\n",
              "    </tr>\n",
              "    <tr>\n",
              "      <th>2</th>\n",
              "      <td>73.52861</td>\n",
              "      <td>73.52861</td>\n",
              "    </tr>\n",
              "    <tr>\n",
              "      <th>3</th>\n",
              "      <td>-0.55006</td>\n",
              "      <td>-0.55006</td>\n",
              "    </tr>\n",
              "  </tbody>\n",
              "</table>\n",
              "</div>"
            ],
            "text/plain": [
              "   Coef manual coordinate descent  Coef sklearn\n",
              "0                        41.56217      41.56217\n",
              "1                       110.13144     110.13144\n",
              "2                        73.52861      73.52861\n",
              "3                        -0.55006      -0.55006"
            ]
          },
          "execution_count": 8,
          "metadata": {},
          "output_type": "execute_result"
        }
      ],
      "source": [
        "# инициализируем алгоритм линейной регрессии \n",
        "model = LinearRegression(fit_intercept=False)\n",
        "# обучем модель\n",
        "model.fit(X, y)\n",
        "\n",
        "# предсказываем целевую переменную и посмотрим на среднеквадратичную ошибку\n",
        "y_predict = model.predict(X)\n",
        "mse_linregr = np.round(mean_squared_error(y, y_predict),5)\n",
        "print('MSE модели линейной регрессии: ', mse_linregr)\n",
        "\n",
        "# посмотрим на коэффициенты регрессии и сравним их с коэффициентами, полученными вручную:\n",
        "w_linregr= list(np.round(model.coef_[0], 5))\n",
        "# оформим значения коэффициентов в датафрейм\n",
        "coef_df = pd.DataFrame({'Coef manual coordinate descent': [w_ols[0][0], w_ols[1][0], w_ols[2][0], w_ols[3][0]],\n",
        "                        'Coef sklearn' : [i for i in w_linregr]}) \n",
        "coef_df"
      ]
    },
    {
      "cell_type": "markdown",
      "metadata": {
        "id": "hIl0AGLyDUKy"
      },
      "source": [
        "**Мы видим, что коэффициенты регрессии, полученные ручным способом методом координатного спуска очень похожи на коэффициенты, полученнные с помощью алгоритма линейной регрессии из библиотеки sklearn. И соответственно, значение функции потерь идентичны, что говорит нам, что мы правильно решили задачу предсказания целевой переменной.**"
      ]
    },
    {
      "cell_type": "markdown",
      "metadata": {
        "id": "VCGwFnPdDUKz"
      },
      "source": [
        "## Стохастический градиентный спуск"
      ]
    },
    {
      "cell_type": "markdown",
      "metadata": {
        "id": "5u7Q2YJla_Xk"
      },
      "source": [
        "**Масшабируем столбцы исходной матрицы *X*  по принципу: вычесть из каждого значения среднее и разделить на стандартное отклонение**"
      ]
    },
    {
      "cell_type": "code",
      "execution_count": 9,
      "metadata": {
        "id": "9cEpV_5La_Xo"
      },
      "outputs": [
        {
          "data": {
            "text/plain": [
              "(200, 3)"
            ]
          },
          "execution_count": 9,
          "metadata": {},
          "output_type": "execute_result"
        }
      ],
      "source": [
        "# отделяем целевой признак от матрицы значений\n",
        "X = df.drop('sales', axis=1).values\n",
        "# маштабируем: из каждого значения вычитаем среднее и делим на стандартное отклонение\n",
        "X = (X - np.mean(X, axis=0))/np.std(X,axis=0)\n",
        "X.shape"
      ]
    },
    {
      "cell_type": "markdown",
      "metadata": {
        "id": "8WkNYILHDUK1"
      },
      "source": [
        "**Добавим единичный столбец**"
      ]
    },
    {
      "cell_type": "code",
      "execution_count": 10,
      "metadata": {
        "id": "EVl5tEGtDUK1"
      },
      "outputs": [
        {
          "data": {
            "text/plain": [
              "(200, 4)"
            ]
          },
          "execution_count": 10,
          "metadata": {},
          "output_type": "execute_result"
        }
      ],
      "source": [
        "X = np.hstack([np.ones(X.shape[0]).reshape(-1, 1), X])  # преобразуем в двумерный массив\n",
        "X.shape"
      ]
    },
    {
      "cell_type": "markdown",
      "metadata": {
        "id": "m53tZA5fDUK1"
      },
      "source": [
        "**Создим функцию mse_error для вычисления среднеквадратичной ошибки, принимающую два аргумента: реальные значения и предсказывающие, и возвращающую значение mse**"
      ]
    },
    {
      "cell_type": "code",
      "execution_count": 11,
      "metadata": {
        "id": "0cvtC08Aa_YK"
      },
      "outputs": [],
      "source": [
        "def mse_error(y, y_pred):\n",
        "    return ((y-y_pred)**2).mean() # суммируем разницы между реальным и предсказанным значениями, возведенными в квадрат, \n",
        "                                  # результат делим на количество наблюдений, т.е берем среднее арифметическое"
      ]
    },
    {
      "cell_type": "markdown",
      "metadata": {
        "id": "lpOLhdvBDUK2"
      },
      "source": [
        "**Осуществим наивный прогноз: предскажим продажи средним значением.**"
      ]
    },
    {
      "cell_type": "code",
      "execution_count": 12,
      "metadata": {},
      "outputs": [
        {
          "name": "stdout",
          "output_type": "stream",
          "text": [
            "Наивный прогноз (среднее значение продаж): 14.0225\n",
            "MSE для наивного прогноза: 27.08574\n"
          ]
        }
      ],
      "source": [
        "# вычисляем среднее арифметическое значение целевой переменной\n",
        "y_mean = np.array([np.mean(y)])\n",
        "print(\"Наивный прогноз (среднее значение продаж):\", y_mean[0])\n",
        "print(\"MSE для наивного прогноза:\", np.round(mse_error(y, y_mean),5))"
      ]
    },
    {
      "cell_type": "markdown",
      "metadata": {
        "id": "BbybL2ola_ZM"
      },
      "source": [
        "**Создадим функцию *lin_pred*, которая может по матрице предикторов *X* и вектору весов линейной модели *w* получить вектор прогнозов** "
      ]
    },
    {
      "cell_type": "code",
      "execution_count": 13,
      "metadata": {
        "id": "1Cyz-Luaa_ZO"
      },
      "outputs": [],
      "source": [
        "def lin_pred(X, w):\n",
        "    return (X @ w)"
      ]
    },
    {
      "cell_type": "markdown",
      "metadata": {
        "id": "BU4adBrya_Zm"
      },
      "source": [
        "**Создадим функцию *stoch_grad_step* для реализации шага стохастического градиентного спуска.**\\\n",
        "**Функция должна принимать на вход следующие аргументы:**\n",
        "* матрицу *X*\n",
        "* вектора *y* и *w*\n",
        "* число *train_ind* - индекс объекта обучающей выборки (строки матрицы *X*), по которому считается изменение весов\n",
        "* число *$\\eta$* (eta) - шаг градиентного спуска\n",
        "\n",
        "Результатом будет вектор обновленных весов"
      ]
    },
    {
      "cell_type": "markdown",
      "metadata": {
        "id": "dyLY-P02DUK5"
      },
      "source": [
        "Шаг для стохастического градиентного спуска выглядит следующим образом:"
      ]
    },
    {
      "cell_type": "markdown",
      "metadata": {
        "id": "ORsAyIKNDUK5"
      },
      "source": [
        "$$\\Large w_j \\leftarrow w_j - \\frac{2\\eta}{\\ell} \\sum_{i=1}^\\ell{{x_{ij}((w_0 + w_1x_{i1} + w_2x_{i2} +  w_3x_{i3}) - y_i)}}$$"
      ]
    },
    {
      "cell_type": "markdown",
      "metadata": {
        "id": "CQl2FrpuDUK6"
      },
      "source": [
        "Алгоритм функцию:\n",
        "*  посчитать направление изменения: умножить объект обучающей выборки на 2 и на разницу между предсказанным значением и реальным, а потом поделить на количество элементов в выборке.\n",
        "* вернуть разницу между вектором весов и направлением изменения, умноженным на шаг градиентного спуска"
      ]
    },
    {
      "cell_type": "code",
      "execution_count": 14,
      "metadata": {
        "id": "YUhVQGsja_Zn"
      },
      "outputs": [],
      "source": [
        "def stoch_grad_step(X, y, w, train_ind, eta):\n",
        "    # X - матрица предикторов\n",
        "    # y - вектор правильных ответов\n",
        "    # w - вектор весов\n",
        "    # train_ind - индекс наблюдения матрицы\n",
        "    # eta - шаг градиентного спуска, задается вручную\n",
        "    gradient = (X[train_ind]*2*((X[train_ind] @ w) - y[train_ind])/len(y)).reshape(-1,1)\n",
        "    # обновляем вектор весов\n",
        "    new_w = gradient*eta\n",
        "    # возвращаем разницу между весами(коэффициентами регрессии)\n",
        "    return (w - new_w)"
      ]
    },
    {
      "cell_type": "markdown",
      "metadata": {
        "id": "pXwIFd0Ma_Zx"
      },
      "source": [
        "**Создадим функцию *stochastic_gradient_descent* для реализации стохастического градиентного спуска**\n",
        "\n",
        "**Функция принимает на вход следующие аргументы:**\n",
        "- Матрицу признаков X\n",
        "- Целевую переменнную\n",
        "- Изначальную точку (веса модели)\n",
        "- Параметр, определяющий темп обучения\n",
        "- Максимальное число итераций\n",
        "- Евклидово расстояние между векторами весов на соседних итерациях градиентного спуска,при котором алгоритм прекращает работу \n",
        "\n",
        "**На каждой итерации в вектор (список) будем сохранять текущее значение среднеквадратичной ошибки. Функция возвращает вектор весов $w$, а также вектор (список) ошибок.**"
      ]
    },
    {
      "cell_type": "markdown",
      "metadata": {
        "id": "ZVeoNF1JDUK7"
      },
      "source": [
        "Алгоритм сследующий:\n",
        "    \n",
        "* Инициализировать расстояние между векторами весов на соседних итерациях большим числом (можно бесконечностью)\n",
        "* Создать пустой список для фиксации ошибок\n",
        "* Создать счетчик итераций\n",
        "* Реализовать оновной цикл обучения пока расстояние между векторами весов больше того, при котором надо прекратить работу (когда расстояния станут слишком маленькими - значит, мы застряли в одном месте) и количество итераций меньше максимально разрешенного: сгенерировать случайный индекс, сохранить текущую ошибку в вектор ошибок, записать в переменную текущий шаг стохастического спуска с использованием функции, написанной ранее. Рассчитать текущее расстояние между векторами весов и прибавить к счетчику итераций 1.\n",
        "* Вернуть вектор весов и вектор ошибок."
      ]
    },
    {
      "cell_type": "code",
      "execution_count": 15,
      "metadata": {
        "id": "CD_xcFNfa_Zy"
      },
      "outputs": [],
      "source": [
        "def stochastic_gradient_descent(X, y, w, eta, max_iter, epsilon=1e-20):\n",
        "    distance = 1e+10                                                  # расстояние между веторами\n",
        "    errors = []                                                       # список ошибок\n",
        "    iter = 0                                                          # счетчик итераций\n",
        "    # создаем цикл пока расстояние между векторами весов не будем меньше определенного или пока не закончатся итерации\n",
        "    while distance > epsilon and iter < max_iter:\n",
        "        ind = np.random.randint(X.shape[0])         # задаем индекс рандомного элемента из матрицы предикторов\n",
        "        y_pred = lin_pred(X,w)                      # предсказываем целевую переменную\n",
        "        errors.append(mse_error(y, y_pred))         # вычисляем mse и добавляем результат в список ошибок\n",
        "        w_new = stoch_grad_step(X, y, w, ind, eta)  # обновляем веса с помощью функции шага стохастического градиентого спуска\n",
        "        distance = np.linalg.norm(w-w_new)          # определяем расстояние между векторами весов(длина вектора разницы)\n",
        "        w = w_new                                   # обновлленные веса сохраняем в вектор весов\n",
        "        iter += 1                                   # обновляем счетчик итераций\n",
        "    # возвращаем вектор весов и список ошибок\n",
        "    return w, errors"
      ]
    },
    {
      "cell_type": "code",
      "execution_count": 26,
      "metadata": {},
      "outputs": [],
      "source": [
        "# применим созданную функцию: изначально определим вектор весов нулевым,\n",
        "# количество итерации зададим 10^5, шаг градиентного спуска = 0.01\n",
        "w, errors = stochastic_gradient_descent(X, y, w=np.zeros(X.shape[1]), eta=0.005, max_iter=1e+6)"
      ]
    },
    {
      "cell_type": "markdown",
      "metadata": {
        "id": "N6fHHT6vDUK8"
      },
      "source": [
        "**Визуализируем список ошибок**"
      ]
    },
    {
      "cell_type": "code",
      "execution_count": 27,
      "metadata": {
        "id": "zsSfHDzLDUK9"
      },
      "outputs": [
        {
          "data": {
            "image/png": "[encoded data removed]",
            "text/plain": [
              "<Figure size 1500x400 with 1 Axes>"
            ]
          },
          "metadata": {},
          "output_type": "display_data"
        }
      ],
      "source": [
        "plt.figure(figsize=(15,4))\n",
        "plt.plot(errors)\n",
        "plt.plot(np.ones_like(errors));"
      ]
    },
    {
      "cell_type": "markdown",
      "metadata": {
        "id": "O-MVOcJ6a_aY"
      },
      "source": [
        "**Посмотрим на вектор весов, к которому мы достигли заданного расстояния.**"
      ]
    },
    {
      "cell_type": "code",
      "execution_count": 28,
      "metadata": {
        "id": "MPjVkXe4DUK9"
      },
      "outputs": [
        {
          "name": "stdout",
          "output_type": "stream",
          "text": [
            "-0.03 -0.03 -0.03 -0.03\n"
          ]
        }
      ],
      "source": [
        "w_sag = np.round(w[-1],5)\n",
        "print(*w_sag)"
      ]
    },
    {
      "cell_type": "markdown",
      "metadata": {
        "id": "qabzMc3Qa_a5"
      },
      "source": [
        "**Какую среднеквадратичную ошибку мы получили на последней итерации.**"
      ]
    },
    {
      "cell_type": "code",
      "execution_count": 29,
      "metadata": {
        "id": "7tPWleMIa_a7"
      },
      "outputs": [
        {
          "data": {
            "text/plain": [
              "2.78424"
            ]
          },
          "execution_count": 29,
          "metadata": {},
          "output_type": "execute_result"
        }
      ],
      "source": [
        "mse_sag = round(errors[-1], 5)\n",
        "mse_sag"
      ]
    },
    {
      "cell_type": "code",
      "execution_count": 30,
      "metadata": {},
      "outputs": [
        {
          "data": {
            "text/html": [
              "<div>\n",
              "<style scoped>\n",
              "    .dataframe tbody tr th:only-of-type {\n",
              "        vertical-align: middle;\n",
              "    }\n",
              "\n",
              "    .dataframe tbody tr th {\n",
              "        vertical-align: top;\n",
              "    }\n",
              "\n",
              "    .dataframe thead th {\n",
              "        text-align: right;\n",
              "    }\n",
              "</style>\n",
              "<table border=\"1\" class=\"dataframe\">\n",
              "  <thead>\n",
              "    <tr style=\"text-align: right;\">\n",
              "      <th></th>\n",
              "      <th>Алгоритмы</th>\n",
              "      <th>Значение MSE</th>\n",
              "      <th>Вектор коэффциентов регрессии</th>\n",
              "    </tr>\n",
              "  </thead>\n",
              "  <tbody>\n",
              "    <tr>\n",
              "      <th>0</th>\n",
              "      <td>Coordinate Descent</td>\n",
              "      <td>2.78413</td>\n",
              "      <td>[[41.56217], [110.13144], [73.52861], [-0.55006]]</td>\n",
              "    </tr>\n",
              "    <tr>\n",
              "      <th>1</th>\n",
              "      <td>Stochastic Gradient Descent</td>\n",
              "      <td>2.78424</td>\n",
              "      <td>[-0.03, -0.03, -0.03, -0.03]</td>\n",
              "    </tr>\n",
              "    <tr>\n",
              "      <th>2</th>\n",
              "      <td>Linear Regression sklearn</td>\n",
              "      <td>2.78413</td>\n",
              "      <td>[41.56217, 110.13144, 73.52861, -0.55006]</td>\n",
              "    </tr>\n",
              "  </tbody>\n",
              "</table>\n",
              "</div>"
            ],
            "text/plain": [
              "                     Алгоритмы  Значение MSE  \\\n",
              "0           Coordinate Descent       2.78413   \n",
              "1  Stochastic Gradient Descent       2.78424   \n",
              "2    Linear Regression sklearn       2.78413   \n",
              "\n",
              "                       Вектор коэффциентов регрессии  \n",
              "0  [[41.56217], [110.13144], [73.52861], [-0.55006]]  \n",
              "1                       [-0.03, -0.03, -0.03, -0.03]  \n",
              "2          [41.56217, 110.13144, 73.52861, -0.55006]  "
            ]
          },
          "execution_count": 30,
          "metadata": {},
          "output_type": "execute_result"
        }
      ],
      "source": [
        "result_df = pd.DataFrame({'Алгоритмы': ['Coordinate Descent', 'Stochastic Gradient Descent', 'Linear Regression sklearn'],\n",
        "                          'Значение MSE': [mse_ols, mse_sag, mse_linregr],\n",
        "                          'Вектор коэффциентов регрессии': [w_ols, w_sag, w_linregr]})\n",
        "result_df"
      ]
    },
    {
      "cell_type": "markdown",
      "metadata": {},
      "source": [
        "## Заключение\n",
        "Мы решили задачу линейной регрессии различными методами, результаты качества близки по значению.\\\n",
        "На данном примере мы показали \"изнанку\" некоторых алгоритмов оптимизации, градиентный спуск очень популярный и эффективный метод оптимизации и имеет широкое применение, поэтому понимание его механизма поможет правильно его применять и настраивать.\n"
      ]
    }
  ],
  "metadata": {
    "colab": {
      "collapsed_sections": [],
      "name": "Практика_Оптимизация.ipynb",
      "provenance": [],
      "toc_visible": true
    },
    "kernelspec": {
      "display_name": "Python 3.10.8 ('base')",
      "language": "python",
      "name": "python3"
    },
    "language_info": {
      "codemirror_mode": {
        "name": "ipython",
        "version": 3
      },
      "file_extension": ".py",
      "mimetype": "text/x-python",
      "name": "python",
      "nbconvert_exporter": "python",
      "pygments_lexer": "ipython3",
      "version": "3.11.7"
    },
    "vscode": {
      "interpreter": {
        "hash": "86c56a74836ad344b00594bf6f38fa6a676a207ceefe20d101fbc465800ccb8d"
      }
    }
  },
  "nbformat": 4,
  "nbformat_minor": 0
}
