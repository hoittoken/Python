{
 "cells": [
  {
   "attachments": {},
   "cell_type": "markdown",
   "metadata": {},
   "source": [
    "# MATH&ML-3 Линейная алгебра в констекте линейных методов. Часть3\n",
    "###  Содержание <a class=\"anchor\" id=0></a>\n",
    "\n",
    "- [2. Линейный оператор](#2)\n",
    "- [3. Собственные векторы и числа](#3)\n",
    "- [4. Практика. Собственные векторы и числа](#4)\n",
    "- [5. Комплексные числа](#5)\n",
    "- [6. Метод главный компонент](#6)\n",
    "- [7. Сингулярное разложение](#7)\n",
    "- [8. Итоги](#8)"
   ]
  },
  {
   "attachments": {},
   "cell_type": "markdown",
   "metadata": {},
   "source": [
    "# 2. Линейный оператор <a class=\"anchor\" id=2></a>\n",
    "\n",
    "[к содержанию](#0)\n",
    "\n",
    "Умножение матрицы на вектор можно представить как его одновременный поворот и растяжение.\n",
    "\n",
    "А если рассмотреть умножение матрицы на все векторы пространства, то получится преобразование всего этого пространства или так называемый линейный оператор.\n",
    "\n",
    "<img src=m3_img1.png>"
   ]
  },
  {
   "attachments": {},
   "cell_type": "markdown",
   "metadata": {},
   "source": [
    "**Задача 1**\n",
    "\n",
    "Как действует матрица $A=\\left(\\begin{array}{} 0&2\\\\5&0 \\end{array}\\right)$ на вектор $\\vec{x}=\\left(\\begin{array}{} 3\\\\4 \\end{array}\\right)$\n",
    "\n",
    "**Решение**\n",
    "\n",
    "$y=Ax=\\left(\\begin{array}{} 0&2\\\\5&0 \\end{array}\\right)\\cdot \\left(\\begin{array}{} 3\\\\4 \\end{array}\\right) = \\left(\\begin{array}{} 8\\\\15 \\end{array}\\right)$ - Направление изменилось\n",
    "\n",
    "$|x| = \\sqrt{\\left(\\begin{array}{} 3&4 \\end{array}\\right)\\left(\\begin{array}{} 3\\\\4 \\end{array}\\right)} = 5$  и  $|y| = \\sqrt{\\left(\\begin{array}{} 8&15 \\end{array}\\right)\\left(\\begin{array}{} 8\\\\15 \\end{array}\\right)} = 17$ - Длина изменилась\n",
    "\n",
    "За изменение направления отвечает косинус угла между вектором $x$ и его образом $y$. В нашем случае косинус близок к 1, значит, **угол поворота небольшой**.\n",
    "\n",
    "$\\cos(\\widehat{\\vec{x},\\vec{y}})=\\frac{3\\cdot 8 + 4\\cdot 15}{5\\cdot 17}=\\frac{84}{85}\\approx 0.988$"
   ]
  },
  {
   "attachments": {},
   "cell_type": "markdown",
   "metadata": {},
   "source": [
    "**Задача 2**\n",
    "\n",
    "Как действует матрица $A=\\left(\\begin{array}{} 2&0\\\\0&5 \\end{array}\\right)$ на вектор $\\vec{x}=\\left(\\begin{array}{} 3\\\\4 \\end{array}\\right)$, $\\vec{u}=\\left(\\begin{array}{} 3\\\\0 \\end{array}\\right)$, $\\vec{v}=\\left(\\begin{array}{} 0\\\\4 \\end{array}\\right)$\n",
    "\n",
    "**Решение**\n",
    "\n",
    "Заметим, что в этом примере матрица $А$ диагональная.\n",
    "\n",
    "$Ax=\\left(\\begin{array}{} 2&0\\\\0&5 \\end{array}\\right)\\left(\\begin{array}{} 3\\\\4 \\end{array}\\right)$ - Компоненты вектора $\\vec{х}$ снова непропорциональны. Он снова и растянулся, и повернулся.\n",
    "\n",
    "$Au=\\left(\\begin{array}{} 2&0\\\\0&5 \\end{array}\\right)\\left(\\begin{array}{} 3\\\\0 \\end{array}\\right)$ - Вектор $\\vec{u}$ растянулся в 2 раза и сохранил направление.\n",
    "\n",
    "$Av=\\left(\\begin{array}{} 2&0\\\\0&5 \\end{array}\\right)\\left(\\begin{array}{} 0\\\\4 \\end{array}\\right)$ - Вектор $\\vec{v}$ растянулся в 5 раза и сохранил направление.\n",
    "\n",
    "Как мы узнаем позже, такие векторы как $\\vec{u}$ и $\\vec{v}$  называются собственными."
   ]
  },
  {
   "attachments": {},
   "cell_type": "markdown",
   "metadata": {},
   "source": [
    "**Задача 3**\n",
    "\n",
    "Как действует на пространство $\\mathbb{R}^2$ матрица $A=\\left(\\begin{array}{} 0&1\\\\-1&0 \\end{array}\\right)$\n",
    "\n",
    "**Решение**\n",
    "Применим оператор, заданный матрицей $А$ к произвольному вектору с координатами $x_1$, $x_2$\n",
    "\n",
    "$A=\\left(\\begin{array}{} 0&1\\\\-1&0 \\end{array}\\right)\\left(\\begin{array}{} x_1\\\\x_2 \\end{array}\\right)=\\left(\\begin{array}{} x_2\\\\-x_1 \\end{array}\\right)$\n",
    "\n",
    "Получим вектор с координатами $x_2$, – $x_1$. Как видим, координаты поменялись местами. Проверьте самостоятельно, что эта матрица задает **поворот на 90 градусов.**\n",
    "\n",
    ">Каждая квадратная матрица задаёт **линейный оператор**. Под действием этого оператора каждый вектор меняет длину и поворачивается. У разных векторов могут быть разные углы поворота и коэффициенты растяжения."
   ]
  },
  {
   "attachments": {},
   "cell_type": "markdown",
   "metadata": {},
   "source": [
    "## СОБСТВЕННЫЕ ВЕКТОРЫ И ЧИСЛА\n",
    "\n",
    "**Собственный вектор** или `айгенвектор` — это вектор, который не меняет направление под действием оператора, а только растягивается или сжимается.\n",
    "\n",
    "$A\\vec{v}=\\lambda \\vec{v}$\n",
    "\n",
    "Коэффициент растяжения или сжатия $\\lambda$ («лямбда») называется **собственным числом** оператора $А$ и его матрицы.\n",
    "\n",
    ">**Айгенпарой** называется пара, состоящая из собственного числа и соответствующего ему собственного вектора. \n",
    "\n",
    "**Спектром матрицы** называется набор её собственных чисел."
   ]
  },
  {
   "attachments": {},
   "cell_type": "markdown",
   "metadata": {},
   "source": [
    "## Задание 2.2\n",
    "\n",
    "Результат действия оператора на вектор называют **образом вектора**.\n",
    "\n",
    "a) Найдите образ вектора $\\vec{v}$ при действии оператора $F$, если\n",
    "\n",
    "$\\vec{v}=\\left(\\begin{array}{}1\\\\2\\\\3\\end{array}\\right)$, $F=\\left(\\begin{array}{}1&0&0\\\\0&0&1\\\\0&-1&0\\end{array}\\right) \\rightarrow \\vec{v}\\cdot F=\\left(\\begin{array}{}1\\\\3\\\\-2\\end{array}\\right)$\n",
    "\n",
    "b) Вектор изменил **только направление**\n",
    "\n",
    "с) Вектор $\\vec{v}$ НЕ является собственным для оператора $F$ (т.к. изменилось направление)"
   ]
  },
  {
   "attachments": {},
   "cell_type": "markdown",
   "metadata": {},
   "source": [
    "## Задание 2.3\n",
    "\n",
    "a) Найдите образы векторов $\\vec{u}$ и $\\vec{v}$ при действии оператора $F$, если\n",
    "\n",
    "$\\vec{u}=\\left(\\begin{array}{}1\\\\-1\\end{array}\\right)$, $\\vec{v}=\\left(\\begin{array}{}1\\\\1\\end{array}\\right)$, $F=\\left(\\begin{array}{}2&1\\\\1&2\\end{array}\\right)$\n",
    "\n",
    "$Fu=\\left(\\begin{array}{}2&1\\\\1&2\\end{array}\\right)\\left(\\begin{array}{}1\\\\-1\\end{array}\\right)=\\left(\\begin{array}{}1\\\\-1\\end{array}\\right)$\n",
    "\n",
    "$Fv=\\left(\\begin{array}{}2&1\\\\1&2\\end{array}\\right)\\left(\\begin{array}{}1\\\\1\\end{array}\\right)=\\left(\\begin{array}{}3\\\\3\\end{array}\\right)$\n",
    "\n",
    "b) В результате действия оператора $F$ вектор $\\vec{u}$ - НЕ изменил длину и направление.\n",
    "\n",
    "с) Вектор $\\vec{u}$ является собственным для оператора $F$\n",
    "\n",
    "d) В результате действия оператора $F$ вектор $\\vec{v}$ - изменил только длину\n",
    "\n",
    "е) Вектор $\\vec{v}$ является собственным для оператора $F$ с собственным числом 3\n",
    "\n",
    "f) Векторы $\\vec{u}$ и $\\vec{v}$ - ортогональны (значит линейно независимы)"
   ]
  },
  {
   "attachments": {},
   "cell_type": "markdown",
   "metadata": {},
   "source": [
    "# 3. Собственные векторы и числа <a class=\"anchor\" id=3></a>\n",
    "\n",
    "[к содержанию](#0)\n",
    "\n",
    "Давайте рассмотрим, как искать спектр матрицы и собственные числа на примере квадратной матрицы $А$.\n",
    "\n",
    "Итак, следующее уравнение должно иметь ненулевые решения:\n",
    "\n",
    "$A\\vec{v}=\\lambda \\vec{v}$\n",
    "\n",
    "Перенесём всё в левую часть уравнения:\n",
    "\n",
    "$A\\vec{v}-\\lambda \\vec{v}=0$\n",
    "\n",
    "Как вы помните, умножение вектора на число — это то же самое, что и умножение его на единичную матрицу $E$, помноженную на число. Нам это нужно, чтобы можно было честно вынести $\\vec{v}$ за скобку:\n",
    "\n",
    "$(A-\\lambda E)\\vec{v}=0$\n",
    "\n",
    "Так мы получили однородную систему уравнений, у которой всегда будет нулевое решение, но оно нам неинтересно, поскольку нулевые векторы не считаются собственными. Чтобы было ненулевое решение, столбцы матрицы $(A-\\lambda E)$ должны быть линейно зависимы. А как мы помним, столбцы квадратной матрицы линейно зависимы тогда и только тогда, когда она вырождена, то есть если её определитель равен нулю.\n",
    "\n",
    "$\\mathbb{det}(A-\\lambda E)=0$\n",
    "\n",
    "Заметим, что вычитание матрицы $\\lambda E$— это всё равно, что вычитание $\\lambda$ по диагонали матрицы $А$. "
   ]
  },
  {
   "attachments": {},
   "cell_type": "markdown",
   "metadata": {},
   "source": [
    "## АЛГОРИТМ ПОИСКА СОБСТВЕННЫХ ВЕКТОРОВ И ЧИСЕЛ НА ПРИМЕРЕ МАТРИЦЫ 2 × 2\n",
    "\n",
    "1. Записываем характеристическое уравнение:\n",
    "\n",
    "$det(A-\\lambda E)=det \\begin{pmatrix} a- \\lambda &b \\\\ c&d- \\lambda \\end{pmatrix} =(a- \\lambda)(d- \\lambda)-bc=0$\n",
    "\n",
    "2. Находим собственные числа $\\lambda_1=\\dots, \\lambda_2=\\dots$, решив характеристическое уравнение;\n",
    "\n",
    "3. Находим собственные векторы, решая систему уравнений $(A-\\lambda E)\\vec{v}$ для каждого $\\lambda$."
   ]
  },
  {
   "attachments": {},
   "cell_type": "markdown",
   "metadata": {},
   "source": [
    "## ПРИМЕР\n",
    "\n",
    "Найдите собственные числа и собственные вектора матрицы $A=\\begin{pmatrix} 3 & 2\\\\ 1 & 2 \\end{pmatrix}$\n",
    "\n",
    "**Решение:**\n",
    "\n",
    "Найдём собственные числа:\n",
    "\n",
    "$det(A-\\lambda E)=det \\begin{pmatrix} 3- \\lambda &2 \\\\ 1&2- \\lambda \\end{pmatrix} =(3- \\lambda)(2- \\lambda)-2=0$\n",
    "\n",
    "$\\lambda_1=1, \\lambda_2=4$\n",
    "\n",
    "Найдём собственный вектор для $\\lambda_1=1$\n",
    "\n",
    "$(A-\\lambda_1 E)\\vec{v}=0$\n",
    "\n",
    "$\\begin{pmatrix} 3-1&2 \\\\ 1&2-1\\end{pmatrix}\\begin{pmatrix} v_1 \\\\ v_2 \\end{pmatrix}=\\begin{pmatrix} 0 \\\\ 0 \\end{pmatrix}\\Rightarrow \\begin{pmatrix} 2&2 \\\\ 1&1\\end{pmatrix}\\begin{pmatrix} v_1 \\\\ v_2 \\end{pmatrix}=\\begin{pmatrix} 0 \\\\ 0 \\end{pmatrix}\\Rightarrow \\begin{pmatrix} 1&1 \\\\ 0&0\\end{pmatrix}\\begin{pmatrix} v_1 \\\\ v_2 \\end{pmatrix}=\\begin{pmatrix} 0 \\\\ 0 \\end{pmatrix}$\n",
    "\n",
    "Решив полученную систему, видим, что векторов $\\vec{v}$, удовлетворяющих ей, бесконечное множество. Вектор $\\vec{v}$ должен быть ортогонален (1 1). Возьмём:\n",
    "\n",
    "$\\vec{v}=\\begin{pmatrix}1\\\\-1\\end{pmatrix}$\n",
    "\n",
    "Повторим всё то же самое для $\\lambda_2=4$.  Вектор $\\vec{v}$ обозначим за $\\vec{u}$:\n",
    "\n",
    "$(A-\\lambda_2 E)\\vec{u}=0$\n",
    "\n",
    "$\\begin{pmatrix} 3-4&2 \\\\ 1&2-4\\end{pmatrix}\\begin{pmatrix} u_1 \\\\ u_2 \\end{pmatrix}=\\begin{pmatrix} 0 \\\\ 0 \\end{pmatrix}\\Rightarrow \\begin{pmatrix} -1&2 \\\\ 1&-2\\end{pmatrix}\\begin{pmatrix} u_1 \\\\ u_2 \\end{pmatrix}=\\begin{pmatrix} 0 \\\\ 0 \\end{pmatrix}\\Rightarrow \\begin{pmatrix} 1&-2 \\\\ 0&0\\end{pmatrix}\\begin{pmatrix} u_1 \\\\ u_2 \\end{pmatrix}=\\begin{pmatrix} 0 \\\\ 0 \\end{pmatrix}$\n",
    "\n",
    "Вектор $\\vec{u}$ должен быть ортогонален вектору (1 -2). Возьмём:\n",
    "\n",
    "$\\vec{u}=\\begin{pmatrix}2\\\\1\\end{pmatrix}$"
   ]
  },
  {
   "attachments": {},
   "cell_type": "markdown",
   "metadata": {},
   "source": [
    "## КАК ИСКАТЬ ДЛЯ МАТРИЦЫ $n\\times n$?\n",
    "\n",
    "В общем случае порядок нахождения собственных чисел и векторов тот же, но:\n",
    "\n",
    "* определитель считается не так просто, как в случае порядка 2;\n",
    "\n",
    "* характеристическое уравнение имеет ту же степень, что и порядок матрицы, т.е. $n$;\n",
    "\n",
    "* больше собственных чисел → больше вычислений для собственных векторов.\n",
    "\n",
    "***\n",
    "\n",
    "Свойство спектра матрицы: произведение собственных чисел равно в точности определителю матрицы.\n",
    "\n",
    "$\\lambda_1 \\cdot \\lambda_2 = \\mathbb{det}(A)$\n",
    "\n",
    "## ПРИМЕР\n",
    "\n",
    "Найдите определитель матрицы $A=\\begin{pmatrix} 3&2\\\\1&2 \\end{pmatrix}$. Как он выражается через спектр?\n",
    "\n",
    "Решение:\n",
    "\n",
    "$\\mathbb{det}(A)=3\\cdot 2 - 2\\cdot 1 = 4$\n",
    "\n",
    "Давайте теперь поговорим о свойствах спектра и свяжем это понятие с уже знакомыми нам из предыдущего модуля."
   ]
  },
  {
   "attachments": {},
   "cell_type": "markdown",
   "metadata": {},
   "source": [
    "**Пример**\n",
    "\n",
    "Найдите определитель матрица $A=\\begin{pmatrix} 3 & 2\\\\ 1 & 2 \\end{pmatrix}$\n",
    "\n",
    "Как он выражается через спектр?\n",
    "\n",
    "$det(A)=3\\cdot 2 - 2\\cdot 1=4$\n",
    "\n",
    "$det(A)=\\lambda_1\\cdot\\lambda_2=4$"
   ]
  },
  {
   "attachments": {},
   "cell_type": "markdown",
   "metadata": {},
   "source": [
    "## СВОЙСТВА СПЕКТРА\n",
    "\n",
    "1. На основе спектра матрицы можно понять определённость матрицы:\n",
    "\n",
    "* Если все λ > 0 → матрица $A$ **положительно определена**.\n",
    "\n",
    "* Если все λ ≥ 0 → матрица $A$ **НЕотрицательно определена**.\n",
    "\n",
    "* Если все λ < 0 → матрица $A$ **отрицательно определена**.\n",
    "\n",
    "* Если все λ ≤ 0 → матрица $A$ **НЕположительно определена**.\n",
    "\n",
    "2. Определитель матрицы равен произведению собственных чисел:\n",
    "\n",
    "$\\det(A)=\\lambda_{1}*\\lambda_{2}*...*\\lambda_{n}$\n",
    "\n",
    "3. Из пункта 2 следует, что нулевое собственное число означает вырожденность матрицы.\n",
    "\n",
    "То есть, если хотя бы одно из собственных чисел $\\lambda_i=0$, то и определитель матрицы $det(a)=0$, то есть матрица является вырожденной.\n",
    "\n",
    "Утверждение может быть и обратным: если определитель матрицы отличен от нуля $det(a)\\neq 0$, то это значит, что в спектре нет нулевых собственных чисел, то есть все $\\lambda_i\\neq 0$.\n",
    "\n",
    "Матрицы с нулевыми или близкими к нулю собственными числами называются **плохо обусловленными**.\n",
    "\n",
    "4. Собственные векторы из разных айгенпар, то есть отвечающие разным собственным значениям, всегда линейно независимы."
   ]
  },
  {
   "attachments": {},
   "cell_type": "markdown",
   "metadata": {},
   "source": [
    "***\n",
    "\n",
    "Отдельно отметим свойства спектра для **симметричных матриц**:\n",
    "\n",
    "1. У симметричных матриц всегда полный набор собственных чисел и векторов, то есть по одному собственному числу и собственному вектору на каждый столбец матрицы.\n",
    "\n",
    "2. Собственные векторы симметричных матриц всегда ортогональны, то есть скалярное произведение любых собственных векторов симметричной матрицы всегда равно 0: $(v_i, v_j)=0$.\n",
    "\n",
    "Например, матрица корреляций факторов $X$ и их матрица Грама $A$ симметричны и потому обладают всеми указанными полезными свойствами.\n",
    "\n",
    "К тому же, если $A$ — матрица Грама, то она всегда **неотрицательно** определена и даже **положительно** определена, если её столбцы (регрессионные признаки) линейно независимы.\n",
    "\n",
    "На перечисленных свойствах спектра основан метод главных компонент — один из методов понижения размерности, о котором мы поговорим далее."
   ]
  },
  {
   "attachments": {},
   "cell_type": "markdown",
   "metadata": {},
   "source": [
    "## ОСОБЫЕ СЛУЧАИ\n",
    "\n",
    "1. **Не решается характеристическое уравнение**. Матрица может не иметь вещественных собственных чисел вообще или иметь не полный набор. В анализе факторов регрессий это может значить, что мы выбрали не самый оптимальный алгоритм, и из-за накопившихся вычислительных ошибок матрица перестала быть симметричной. \n",
    "\n",
    "2. **Все собственные числа есть, но из-за особенностей кратности не хватило собственных векторов**. На этой проблеме мы не будем останавливаться.\n",
    "\n",
    "3. **Собственные числа нули или близки к нулю => Плохая обусловленность**. Давайте разберёмся, почему это плохо. Нулевые собственные числа дают нулевой определитель. Здесь всё ясно — обратная матрица к матрице $A^TA$ не существует, и алгоритм вычисления регрессионных коэффициентов по методу OLS рушится. В реальном мире, если матрица $A^TA$ необратима, это говорит о мультиколлинеарности признаков, то есть о линейной зависимости между признаками. Однако ненулевые, но близкие к нулю значения собственных чисел и определителя тоже не сулят ничего хорошего: обратная к плохо обусловненной матрице будет неустойчива. Это значит, что при добавлении одного нового измерения коэффициенты могут измениться очень сильно, и мы не сможем их интерпретировать. Кроме того, будет возникать переобучение регрессии: на обучающей выборке ошибка прогноза будет маленькая, а на тестовой — большая.\n",
    "\n",
    ">Бороться с плохой обусловленностью можно с помощью предварительного отбора признаков, **метода главных компонент** (`Principal Compoment Analysis, PCA`) и **сингулярного разложения** (`Singular Value Decomposition, SVD`)."
   ]
  },
  {
   "attachments": {},
   "cell_type": "markdown",
   "metadata": {},
   "source": [
    "##  СПЕКТРАЛЬНОЕ РАЗЛОЖЕНИЕ\n",
    "\n",
    "Если у матрицы есть полный набор айгенпар, то у неё есть так называемое **спектральное разложение**.\n",
    "\n",
    "$A=P \\cdot D \\cdot P^{-1}$\n",
    "\n",
    "Здесь $D$ — диагональная матрица, на диагонали которой стоят собственные числа $A$,\n",
    "$P$ — матрица, составленная из собственных векторов, записанных в столбцы. Все векторы записаны в столбцы в том порядке, в котором расположены парные к ним собственные числа в матрице $D$.\n",
    "\n",
    ">Про матрицу $A$ говорят, что она **диагонализуема**, а $D$ — её диагональный вид."
   ]
  },
  {
   "attachments": {},
   "cell_type": "markdown",
   "metadata": {},
   "source": [
    "# 4. Практика. Собственные векторы и числа <a class=\"anchor\" id=4></a>\n",
    "\n",
    "[к содержанию](#0)\n",
    "\n",
    "Для вычисления собственных чисел в библиотеке numpy предусмотрена специальная функция [np.linalg.eig()](https://numpy.org/doc/stable/reference/generated/numpy.linalg.eig.html). Эта функция возвращает кортеж, который состоит из собственных чисел и матрицы, составленной из собственных векторов, соответствующей собственным числам (собственные векторы записаны в столбцы матрицы)."
   ]
  },
  {
   "cell_type": "code",
   "execution_count": 12,
   "metadata": {},
   "outputs": [
    {
     "name": "stdout",
     "output_type": "stream",
     "text": [
      "Собственные числа: \n",
      " [4. 1.]\n",
      "Собственные векторы: \n",
      " [[ 0.89442719 -0.70710678]\n",
      " [ 0.4472136   0.70710678]]\n"
     ]
    }
   ],
   "source": [
    "import numpy as np\n",
    "\n",
    "# Найдите собственные числа и собственные вектора матрицы:\n",
    "# создаем матрицу А\n",
    "A = np.array([\n",
    "    [3, 1],\n",
    "    [2, 2]\n",
    "]).T\n",
    "# вычисляем собственные числа и собственные векторы\n",
    "eig_values, eig_vectors = np.linalg.eig(A)\n",
    "print('Собственные числа: \\n', eig_values)\n",
    "print('Собственные векторы: \\n', eig_vectors)"
   ]
  },
  {
   "attachments": {},
   "cell_type": "markdown",
   "metadata": {},
   "source": [
    "**Что мы получили? **\n",
    "\n",
    "* Во-первых, собственные числа $\\lambda_{1}=4$ и $\\lambda_{2}=1$, они совпадают с тем, что мы получали, когда решали данную задачу вручную. Единственное различие — порядок их вывода (в ручном счёте у нас $\\lambda_{1}=1$ и $\\lambda_{2}=4$, математически нет никакой разницы, главное не запутаться). \n",
    "\n",
    "* Во-вторых, собственные векторы, записанные в столбцы результирующей матрицы, соответствующие каждому из собственных чисел:\n",
    "\n",
    "$v_{1}=(-0.894, 0.447)^T$\n",
    "\n",
    "$v_{2}=(-0.707, 0.707)^T$\n",
    "\n",
    ">**Важно**! Каждый собственный вектор соответствует своему собственному числу. То есть вектор $v_{1}=(-0.894, 0.447)^T$ соответствует собственному числу $\\lambda_{1}=4$, а собственный вектор $v_{2}=(-0.707, 0.707)^T$ соответствует числу $\\lambda_{2}=1$. "
   ]
  },
  {
   "attachments": {},
   "cell_type": "markdown",
   "metadata": {},
   "source": [
    "## ПРИМЕР №2\n",
    "\n",
    "Найдите собственные числа матрицы:\n",
    "\n",
    "$A=\\begin{pmatrix} 1&4&5\\\\-5&8&9\\\\-6&7&11 \\end{pmatrix}$\n",
    "\n",
    "Является ли матрица положительно определенной?"
   ]
  },
  {
   "cell_type": "code",
   "execution_count": 11,
   "metadata": {},
   "outputs": [
    {
     "ename": "NameError",
     "evalue": "name 'np' is not defined",
     "output_type": "error",
     "traceback": [
      "\u001b[0;31m---------------------------------------------------------------------------\u001b[0m",
      "\u001b[0;31mNameError\u001b[0m                                 Traceback (most recent call last)",
      "\u001b[0;32m/tmp/ipykernel_25894/2566005567.py\u001b[0m in \u001b[0;36m<module>\u001b[0;34m\u001b[0m\n\u001b[1;32m      1\u001b[0m \u001b[0;31m# создаем матрицу А\u001b[0m\u001b[0;34m\u001b[0m\u001b[0;34m\u001b[0m\u001b[0m\n\u001b[0;32m----> 2\u001b[0;31m A = np.array([\n\u001b[0m\u001b[1;32m      3\u001b[0m     \u001b[0;34m[\u001b[0m\u001b[0;36m1\u001b[0m\u001b[0;34m,\u001b[0m \u001b[0;34m-\u001b[0m\u001b[0;36m5\u001b[0m\u001b[0;34m,\u001b[0m \u001b[0;34m-\u001b[0m\u001b[0;36m6\u001b[0m\u001b[0;34m]\u001b[0m\u001b[0;34m,\u001b[0m\u001b[0;34m\u001b[0m\u001b[0;34m\u001b[0m\u001b[0m\n\u001b[1;32m      4\u001b[0m     \u001b[0;34m[\u001b[0m\u001b[0;36m4\u001b[0m\u001b[0;34m,\u001b[0m \u001b[0;36m8\u001b[0m\u001b[0;34m,\u001b[0m \u001b[0;36m7\u001b[0m\u001b[0;34m]\u001b[0m\u001b[0;34m,\u001b[0m\u001b[0;34m\u001b[0m\u001b[0;34m\u001b[0m\u001b[0m\n\u001b[1;32m      5\u001b[0m     \u001b[0;34m[\u001b[0m\u001b[0;36m5\u001b[0m\u001b[0;34m,\u001b[0m \u001b[0;36m9\u001b[0m\u001b[0;34m,\u001b[0m \u001b[0;36m11\u001b[0m\u001b[0;34m]\u001b[0m\u001b[0;34m\u001b[0m\u001b[0;34m\u001b[0m\u001b[0m\n",
      "\u001b[0;31mNameError\u001b[0m: name 'np' is not defined"
     ]
    }
   ],
   "source": [
    "# создаем матрицу А\n",
    "A = np.array([\n",
    "    [1, -5, -6],\n",
    "    [4, 8, 7],\n",
    "    [5, 9, 11]\n",
    "]).T\n",
    "# вычисляем собственные числа и собственные векторы\n",
    "eig_values, eig_vectors = np.linalg.eig(A)\n",
    "print('Собственные числа: \\n', eig_values)\n",
    "print('Собственные векторы: \\n', eig_vectors)"
   ]
  },
  {
   "attachments": {},
   "cell_type": "markdown",
   "metadata": {},
   "source": [
    "Итак, получили следующий спектр матрицы — набор собственных чисел (округлим до третьего знака):\n",
    "\n",
    "$\\lambda_{1}=13.593$\n",
    "\n",
    "$\\lambda_{2}=5.032$\n",
    "\n",
    "$\\lambda_{3}=1.374$\n",
    "\n",
    "Все собственные числа **положительные**, а значит матрица **А положительно определённая**.\n",
    "\n",
    "Каждому собственному числу соответствует свой собственный вектор (записаны в столбцы результирующей матрицы):\n",
    "\n",
    "$v_{1}=(0.451, 0.623, 0.638)^T$\n",
    "\n",
    "$v_{2}=(0.836, 0.446, -0.772)^T$\n",
    "\n",
    "$v_{3}=(0.638, 0.318, -0.626)^T$\n",
    "\n",
    "Найдём собственные числа заведомо вырожденной матрицы. "
   ]
  },
  {
   "attachments": {},
   "cell_type": "markdown",
   "metadata": {},
   "source": [
    "## ПРИМЕР №3\n",
    "\n",
    "Найти собственные числа матрицы:\n",
    "\n",
    "$A=\\begin{pmatrix} 1&4&5&8\\\\-4&12&14&15\\\\-5&8&9&7\\\\-6&7&11&4 \\end{pmatrix}$\n",
    "\n",
    "Видно, что матрица A будет заведомо вырожденной, так как её третья строка — это результат вычитания первой строки из второй строки. Посмотрим, как поведут себя собственные числа:"
   ]
  },
  {
   "cell_type": "code",
   "execution_count": 3,
   "metadata": {},
   "outputs": [
    {
     "name": "stdout",
     "output_type": "stream",
     "text": [
      "Собственные числа: \n",
      " [ 2.54687092e+01  1.53129080e+00  1.63252001e-14 -1.00000000e+00]\n",
      "Собственные векторы: \n",
      " [[-0.33176532 -0.6739195   0.5479715  -0.5312532 ]\n",
      " [-0.75622544 -0.67703635  0.72006173 -0.64930947]\n",
      " [-0.42446012 -0.00311685 -0.00452869 -0.11805627]\n",
      " [-0.37133334  0.2957103  -0.42569687  0.5312532 ]]\n"
     ]
    }
   ],
   "source": [
    "# создаем матрицу А\n",
    "A = np.array([\n",
    "    [1, -4, -5, -6],\n",
    "    [4, 12, 8, 7],\n",
    "    [5, 14, 9, 11],\n",
    "    [8, 15, 7, 4]\n",
    "]).T\n",
    "# вычисляем собственные числа и собственные векторы\n",
    "eig_values, eig_vectors = np.linalg.eig(A)\n",
    "print('Собственные числа: \\n', eig_values)\n",
    "print('Собственные векторы: \\n', eig_vectors)"
   ]
  },
  {
   "attachments": {},
   "cell_type": "markdown",
   "metadata": {},
   "source": [
    "Итак, мы получили спектр матрицы:\n",
    "\n",
    "$\\lambda_{1}=2.546$\n",
    "\n",
    "$\\lambda_{2}=1.531$\n",
    "\n",
    "$\\lambda_{3}=0$\n",
    "\n",
    "$\\lambda_{3}=-1$\n",
    "\n",
    "**Что видим?** Одно из собственных чисел получилось **равным 0**. Это сигнал к тому, что строки или столбцы матрицы A являются линейно зависимыми, то есть матрица плохо обусловлена, а точнее — вырождена."
   ]
  },
  {
   "attachments": {},
   "cell_type": "markdown",
   "metadata": {},
   "source": [
    "## ПРИМЕР №4\n",
    "\n",
    "Найти собственные числа матрицы:\n",
    "\n",
    "$A=\\begin{pmatrix} 0&1\\\\-1&0 \\end{pmatrix}$\n",
    "\n",
    "Решение:\n",
    "\n",
    "Из теоретической части мы знаем, что у данной матрицы собственных чисел нет. Но давайте посмотрим, что по этому поводу думает Python:"
   ]
  },
  {
   "cell_type": "code",
   "execution_count": 4,
   "metadata": {},
   "outputs": [
    {
     "name": "stdout",
     "output_type": "stream",
     "text": [
      "Собственные числа: \n",
      " [0.+1.j 0.-1.j]\n",
      "Собственные векторы: \n",
      " [[0.70710678+0.j         0.70710678-0.j        ]\n",
      " [0.        -0.70710678j 0.        +0.70710678j]]\n"
     ]
    }
   ],
   "source": [
    "# создаем матрицу А\n",
    "A = np.array([\n",
    "    [0, 1],\n",
    "    [-1, 0],\n",
    "]).T\n",
    "# вычисляем собственные числа и собственные векторы\n",
    "eig_values, eig_vectors = np.linalg.eig(A)\n",
    "print('Собственные числа: \\n', eig_values)\n",
    "print('Собственные векторы: \\n', eig_vectors)"
   ]
  },
  {
   "attachments": {},
   "cell_type": "markdown",
   "metadata": {},
   "source": [
    ">**Опять магия!** Результат есть. Только какой-то странный: что за `+1.j` и `-1.j`? Забегая вперёд, скажем, что это комплексные числа. Однако оставим эту интригу и разберёмся с ними чуть позже.\n",
    "\n",
    "## ПРИМЕР №5\n",
    "\n",
    "А пока посмотрим на то, как найти спектр корреляционной матрицы на реальной задаче. Возьмём знакомый нам классический датасет о домах в Бостоне. "
   ]
  },
  {
   "cell_type": "code",
   "execution_count": 6,
   "metadata": {},
   "outputs": [
    {
     "data": {
      "text/html": [
       "<div>\n",
       "<style scoped>\n",
       "    .dataframe tbody tr th:only-of-type {\n",
       "        vertical-align: middle;\n",
       "    }\n",
       "\n",
       "    .dataframe tbody tr th {\n",
       "        vertical-align: top;\n",
       "    }\n",
       "\n",
       "    .dataframe thead th {\n",
       "        text-align: right;\n",
       "    }\n",
       "</style>\n",
       "<table border=\"1\" class=\"dataframe\">\n",
       "  <thead>\n",
       "    <tr style=\"text-align: right;\">\n",
       "      <th></th>\n",
       "      <th>CRIM</th>\n",
       "      <th>ZN</th>\n",
       "      <th>INDUS</th>\n",
       "      <th>CHAS</th>\n",
       "      <th>NOX</th>\n",
       "      <th>RM</th>\n",
       "      <th>AGE</th>\n",
       "      <th>DIS</th>\n",
       "      <th>RAD</th>\n",
       "      <th>TAX</th>\n",
       "      <th>PTRATIO</th>\n",
       "      <th>B</th>\n",
       "      <th>LSTAT</th>\n",
       "      <th>PRICE</th>\n",
       "    </tr>\n",
       "  </thead>\n",
       "  <tbody>\n",
       "    <tr>\n",
       "      <th>0</th>\n",
       "      <td>0.00632</td>\n",
       "      <td>18.0</td>\n",
       "      <td>2.31</td>\n",
       "      <td>0</td>\n",
       "      <td>0.538</td>\n",
       "      <td>6.575</td>\n",
       "      <td>65.2</td>\n",
       "      <td>4.0900</td>\n",
       "      <td>1</td>\n",
       "      <td>296.0</td>\n",
       "      <td>15.3</td>\n",
       "      <td>396.90</td>\n",
       "      <td>4.98</td>\n",
       "      <td>24.0</td>\n",
       "    </tr>\n",
       "    <tr>\n",
       "      <th>1</th>\n",
       "      <td>0.02731</td>\n",
       "      <td>0.0</td>\n",
       "      <td>7.07</td>\n",
       "      <td>0</td>\n",
       "      <td>0.469</td>\n",
       "      <td>6.421</td>\n",
       "      <td>78.9</td>\n",
       "      <td>4.9671</td>\n",
       "      <td>2</td>\n",
       "      <td>242.0</td>\n",
       "      <td>17.8</td>\n",
       "      <td>396.90</td>\n",
       "      <td>9.14</td>\n",
       "      <td>21.6</td>\n",
       "    </tr>\n",
       "    <tr>\n",
       "      <th>2</th>\n",
       "      <td>0.02729</td>\n",
       "      <td>0.0</td>\n",
       "      <td>7.07</td>\n",
       "      <td>0</td>\n",
       "      <td>0.469</td>\n",
       "      <td>7.185</td>\n",
       "      <td>61.1</td>\n",
       "      <td>4.9671</td>\n",
       "      <td>2</td>\n",
       "      <td>242.0</td>\n",
       "      <td>17.8</td>\n",
       "      <td>392.83</td>\n",
       "      <td>4.03</td>\n",
       "      <td>34.7</td>\n",
       "    </tr>\n",
       "    <tr>\n",
       "      <th>3</th>\n",
       "      <td>0.03237</td>\n",
       "      <td>0.0</td>\n",
       "      <td>2.18</td>\n",
       "      <td>0</td>\n",
       "      <td>0.458</td>\n",
       "      <td>6.998</td>\n",
       "      <td>45.8</td>\n",
       "      <td>6.0622</td>\n",
       "      <td>3</td>\n",
       "      <td>222.0</td>\n",
       "      <td>18.7</td>\n",
       "      <td>394.63</td>\n",
       "      <td>2.94</td>\n",
       "      <td>33.4</td>\n",
       "    </tr>\n",
       "    <tr>\n",
       "      <th>4</th>\n",
       "      <td>0.06905</td>\n",
       "      <td>0.0</td>\n",
       "      <td>2.18</td>\n",
       "      <td>0</td>\n",
       "      <td>0.458</td>\n",
       "      <td>7.147</td>\n",
       "      <td>54.2</td>\n",
       "      <td>6.0622</td>\n",
       "      <td>3</td>\n",
       "      <td>222.0</td>\n",
       "      <td>18.7</td>\n",
       "      <td>396.90</td>\n",
       "      <td>5.33</td>\n",
       "      <td>36.2</td>\n",
       "    </tr>\n",
       "  </tbody>\n",
       "</table>\n",
       "</div>"
      ],
      "text/plain": [
       "      CRIM    ZN  INDUS  CHAS    NOX     RM   AGE     DIS  RAD    TAX  \\\n",
       "0  0.00632  18.0   2.31     0  0.538  6.575  65.2  4.0900    1  296.0   \n",
       "1  0.02731   0.0   7.07     0  0.469  6.421  78.9  4.9671    2  242.0   \n",
       "2  0.02729   0.0   7.07     0  0.469  7.185  61.1  4.9671    2  242.0   \n",
       "3  0.03237   0.0   2.18     0  0.458  6.998  45.8  6.0622    3  222.0   \n",
       "4  0.06905   0.0   2.18     0  0.458  7.147  54.2  6.0622    3  222.0   \n",
       "\n",
       "   PTRATIO       B  LSTAT  PRICE  \n",
       "0     15.3  396.90   4.98   24.0  \n",
       "1     17.8  396.90   9.14   21.6  \n",
       "2     17.8  392.83   4.03   34.7  \n",
       "3     18.7  394.63   2.94   33.4  \n",
       "4     18.7  396.90   5.33   36.2  "
      ]
     },
     "execution_count": 6,
     "metadata": {},
     "output_type": "execute_result"
    }
   ],
   "source": [
    "from sklearn import datasets \n",
    "import pandas as pd\n",
    "\n",
    "import matplotlib.pyplot as plt\n",
    "import seaborn as sns\n",
    "import warnings\n",
    "warnings.simplefilter(action='ignore', category=FutureWarning)\n",
    "\n",
    "# загружаем датасет\n",
    "column_names = ['CRIM', 'ZN', 'INDUS', 'CHAS', 'NOX', 'RM', 'AGE', 'DIS', 'RAD', 'TAX', 'PTRATIO', 'B', 'LSTAT', 'PRICE']\n",
    "boston_data = pd.read_csv('housing.csv', header=None, delimiter=r\"\\s+\", names=column_names)\n",
    "\n",
    "boston_data.head()"
   ]
  },
  {
   "attachments": {},
   "cell_type": "markdown",
   "metadata": {},
   "source": [
    "Составим матрицу наблюдений, в которую войдут все исходные факторы и вектор целевой переменной: "
   ]
  },
  {
   "cell_type": "code",
   "execution_count": 7,
   "metadata": {},
   "outputs": [],
   "source": [
    "A = boston_data.drop('PRICE', axis=1)\n",
    "y = boston_data[['PRICE']]"
   ]
  },
  {
   "attachments": {},
   "cell_type": "markdown",
   "metadata": {},
   "source": [
    "Затем составим корреляционную матрицу для исходных факторов:"
   ]
  },
  {
   "cell_type": "code",
   "execution_count": 8,
   "metadata": {},
   "outputs": [
    {
     "data": {
      "image/png": "[encoded data removed]",
      "text/plain": [
       "<Figure size 720x360 with 2 Axes>"
      ]
     },
     "metadata": {
      "needs_background": "light"
     },
     "output_type": "display_data"
    }
   ],
   "source": [
    "C = A.corr()\n",
    "fig = plt.figure(figsize=(10, 5))\n",
    "sns.heatmap(C, annot=True, cmap='coolwarm');"
   ]
  },
  {
   "attachments": {},
   "cell_type": "markdown",
   "metadata": {},
   "source": [
    "А теперь найдём собственные числа полученной корреляционной матрицы:"
   ]
  },
  {
   "cell_type": "code",
   "execution_count": 9,
   "metadata": {},
   "outputs": [
    {
     "name": "stdout",
     "output_type": "stream",
     "text": [
      "Собственные числа: \n",
      " [6.12684883 1.43327512 1.24261667 0.85757511 0.83481594 0.65740718\n",
      " 0.53535609 0.39609731 0.06350926 0.27694333 0.16930298 0.18601437\n",
      " 0.22023782]\n"
     ]
    }
   ],
   "source": [
    "# вычисляем собственные числа и собственные векторы\n",
    "eig_values, eig_vectors = np.linalg.eig(C)\n",
    "print('Собственные числа: \\n', eig_values)\n",
    "#print('Собственные векторы: \\n', eig_vectors)"
   ]
  },
  {
   "attachments": {},
   "cell_type": "markdown",
   "metadata": {},
   "source": [
    ">Так как корреляционная матрица диагональная, то её собственные числа всегда действительны и различны между собой. Это мы и наблюдаем. \n",
    "\n",
    "Проверим, что все собственные векторы корреляционной матрицы **ортогональны** друг другу. Это свойство понадобится нам в** методе главных компонент**.\n",
    "\n",
    "Чтобы это проверить, достаточно найти матрицу Грама $L^TL$, где $L$ — матрица, составленная из собственных факторов. В результате мы должны будем получить единичную матрицу. \n",
    "\n",
    "На её главной диагонали должны быть расположены единицы, а внедиагональные элементы — скалярные произведения собственных векторов — должны быть равны 0. "
   ]
  },
  {
   "cell_type": "code",
   "execution_count": 10,
   "metadata": {},
   "outputs": [
    {
     "name": "stdout",
     "output_type": "stream",
     "text": [
      "[[ 1. -0.  0. -0. -0.  0.  0. -0. -0.  0. -0. -0.  0.]\n",
      " [-0.  1.  0.  0. -0.  0.  0.  0.  0.  0. -0. -0.  0.]\n",
      " [ 0.  0.  1. -0.  0.  0. -0.  0. -0.  0. -0. -0. -0.]\n",
      " [-0.  0. -0.  1. -0. -0.  0. -0. -0.  0. -0. -0.  0.]\n",
      " [-0. -0.  0. -0.  1.  0. -0.  0. -0. -0. -0.  0. -0.]\n",
      " [ 0.  0.  0. -0.  0.  1. -0. -0.  0.  0.  0. -0. -0.]\n",
      " [ 0.  0. -0.  0. -0. -0.  1.  0.  0. -0.  0. -0. -0.]\n",
      " [-0.  0.  0. -0.  0. -0.  0.  1.  0. -0.  0.  0. -0.]\n",
      " [-0.  0. -0. -0. -0.  0.  0.  0.  1. -0.  0.  0. -0.]\n",
      " [ 0.  0.  0.  0. -0.  0. -0. -0. -0.  1.  0.  0.  0.]\n",
      " [-0. -0. -0. -0. -0.  0.  0.  0.  0.  0.  1. -0.  0.]\n",
      " [-0. -0. -0. -0.  0. -0. -0.  0.  0.  0. -0.  1. -0.]\n",
      " [ 0.  0. -0.  0. -0. -0. -0. -0. -0.  0.  0. -0.  1.]]\n"
     ]
    }
   ],
   "source": [
    "# считаем матрицу Грамма L^T*L:\n",
    "print(np.round(eig_vectors.T @ eig_vectors, 2))"
   ]
  },
  {
   "attachments": {},
   "cell_type": "markdown",
   "metadata": {},
   "source": [
    "⭐️ Та-дам! Мы получили единичную матрицу, а значит, собственные вектора ортогональны друг другу. Мы доказали ещё одно свойство собственных чисел для диагональных матриц.\n",
    "\n",
    "А теперь перейдём к практическим заданиям."
   ]
  },
  {
   "attachments": {},
   "cell_type": "markdown",
   "metadata": {},
   "source": [
    "## Задание 4.1\n",
    "\n",
    "Найдите собственные числа для матрицы:\n",
    "\n",
    "$A=\\begin{pmatrix} 1&3&5\\\\4&-4&9\\\\13&7&12 \\end{pmatrix}$"
   ]
  },
  {
   "cell_type": "code",
   "execution_count": 11,
   "metadata": {},
   "outputs": [
    {
     "name": "stdout",
     "output_type": "stream",
     "text": [
      "Собственные числа: \n",
      " [19.52189628 -3.75422737 -6.76766891]\n",
      "Собственные векторы: \n",
      " [[-0.59065136 -0.9084069  -0.40394124]\n",
      " [-0.29844178 -0.16657961 -0.77823322]\n",
      " [-0.74970893  0.38346857  0.48081652]]\n"
     ]
    }
   ],
   "source": [
    "# создаем матрицу А\n",
    "A = np.array([\n",
    "    [1, 3, 5],\n",
    "    [4, -4, 9],\n",
    "    [13, 7, 12]\n",
    "]).T\n",
    "# вычисляем собственные числа и собственные векторы\n",
    "eig_values, eig_vectors = np.linalg.eig(A)\n",
    "print('Собственные числа: \\n', eig_values)\n",
    "print('Собственные векторы: \\n', eig_vectors)"
   ]
  },
  {
   "attachments": {},
   "cell_type": "markdown",
   "metadata": {},
   "source": [
    "## Задание 4.2\n",
    "\n",
    "Найдите собственные числа матрицы Грама $A^TA$, если:\n",
    "\n",
    "$A=\\begin{pmatrix} 1&9&4\\\\9&4&7\\\\4&7&12 \\end{pmatrix}$"
   ]
  },
  {
   "cell_type": "code",
   "execution_count": 17,
   "metadata": {},
   "outputs": [
    {
     "name": "stdout",
     "output_type": "stream",
     "text": [
      "Собственные числа:\n",
      "[391.  46.  16.]\n"
     ]
    }
   ],
   "source": [
    "# создаем матрицу А\n",
    "A = np.array([\n",
    "    [1, 9, 4],\n",
    "    [9, 4, 7],\n",
    "    [4, 7, 12]\n",
    "]).T\n",
    "\n",
    "L = A.T@A\n",
    "# вычисляем собственные числа и собственные векторы\n",
    "eig_values, eig_vectors = np.linalg.eig(L)\n",
    "print('Собственные числа:')\n",
    "print(np.round(eig_values))\n"
   ]
  },
  {
   "attachments": {},
   "cell_type": "markdown",
   "metadata": {},
   "source": [
    "# 5. Комплексные числа <a class=\"anchor\" id=5></a>\n",
    "\n",
    "[к содержанию](#0)\n",
    "\n",
    "[Пример возникновения комплексных чисел в регрессиях](https://habr.com/ru/company/ods/blog/322076/)\n",
    "\n",
    "[«Введение в комплексные числа»](https://habr.com/ru/post/354548/)\n",
    "\n",
    "[«Операции над комплексными числами»](https://habr.com/ru/post/429316/)"
   ]
  },
  {
   "attachments": {},
   "cell_type": "markdown",
   "metadata": {},
   "source": [
    "# 6. Метод главных компонент <a class=\"anchor\" id=6></a>\n",
    "\n",
    "[к содержанию](#0)\n",
    "\n",
    ">Задача снижения размерности — это задача преобразования данных с целью уменьшения количества признаков, которые описывают объект.\n",
    "\n",
    "Основными целями снижения размерности являются:\n",
    "\n",
    "* Сокращение времени работы моделей машинного обучения.\n",
    "\n",
    "* Сокращение избыточной информации за счёт выделения наиболее влиятельных факторов.\n",
    "\n",
    "* Подготовка данных для визуализации.\n",
    "\n",
    "Мы знаем, что снижать размерность можно как **линейными**, так и **нелинейными** способами.\n",
    "\n",
    "В этом модуле мы приведём обзор именно линейных методов снижения размерности. Начнём мы с **метода главных компонент** (`Principal Compoment Analysis, PCA`).\n",
    "\n",
    "Мы кратко познакомились с ним, когда говорили о задачах обучения без учителя в модуле ML-4. Обучение с учителем: кластеризация и техники понижения размерности. А сейчас посмотрим, на каких принципах линейной алгебры работает данный метод."
   ]
  },
  {
   "attachments": {},
   "cell_type": "markdown",
   "metadata": {},
   "source": [
    "## ПОСТАНОВКА ЗАДАЧИ\n",
    "\n",
    "Допустим, мы хотим прогнозировать целевую переменную $\\vec{y}$ по двум факторам: $\\vec{x}_1$ и $\\vec{x}_2$. В качестве модели мы можем использовать всё что угодно, но для конкретики мы возьмём модель линейной регрессии:\n",
    "\n",
    "$\\vec{y}=w_0+w_1\\vec{x}_1+w_2\\vec{x}_2$\n",
    "\n",
    "Вспомним классический датасет о домах в Бостоне (Boston Housing Dataset). "
   ]
  },
  {
   "cell_type": "code",
   "execution_count": 1,
   "metadata": {},
   "outputs": [
    {
     "data": {
      "text/html": [
       "<div>\n",
       "<style scoped>\n",
       "    .dataframe tbody tr th:only-of-type {\n",
       "        vertical-align: middle;\n",
       "    }\n",
       "\n",
       "    .dataframe tbody tr th {\n",
       "        vertical-align: top;\n",
       "    }\n",
       "\n",
       "    .dataframe thead th {\n",
       "        text-align: right;\n",
       "    }\n",
       "</style>\n",
       "<table border=\"1\" class=\"dataframe\">\n",
       "  <thead>\n",
       "    <tr style=\"text-align: right;\">\n",
       "      <th></th>\n",
       "      <th>CRIM</th>\n",
       "      <th>ZN</th>\n",
       "      <th>INDUS</th>\n",
       "      <th>CHAS</th>\n",
       "      <th>NOX</th>\n",
       "      <th>RM</th>\n",
       "      <th>AGE</th>\n",
       "      <th>DIS</th>\n",
       "      <th>RAD</th>\n",
       "      <th>TAX</th>\n",
       "      <th>PTRATIO</th>\n",
       "      <th>B</th>\n",
       "      <th>LSTAT</th>\n",
       "      <th>PRICE</th>\n",
       "    </tr>\n",
       "  </thead>\n",
       "  <tbody>\n",
       "    <tr>\n",
       "      <th>0</th>\n",
       "      <td>0.00632</td>\n",
       "      <td>18.0</td>\n",
       "      <td>2.31</td>\n",
       "      <td>0</td>\n",
       "      <td>0.538</td>\n",
       "      <td>6.575</td>\n",
       "      <td>65.2</td>\n",
       "      <td>4.0900</td>\n",
       "      <td>1</td>\n",
       "      <td>296.0</td>\n",
       "      <td>15.3</td>\n",
       "      <td>396.90</td>\n",
       "      <td>4.98</td>\n",
       "      <td>24.0</td>\n",
       "    </tr>\n",
       "    <tr>\n",
       "      <th>1</th>\n",
       "      <td>0.02731</td>\n",
       "      <td>0.0</td>\n",
       "      <td>7.07</td>\n",
       "      <td>0</td>\n",
       "      <td>0.469</td>\n",
       "      <td>6.421</td>\n",
       "      <td>78.9</td>\n",
       "      <td>4.9671</td>\n",
       "      <td>2</td>\n",
       "      <td>242.0</td>\n",
       "      <td>17.8</td>\n",
       "      <td>396.90</td>\n",
       "      <td>9.14</td>\n",
       "      <td>21.6</td>\n",
       "    </tr>\n",
       "    <tr>\n",
       "      <th>2</th>\n",
       "      <td>0.02729</td>\n",
       "      <td>0.0</td>\n",
       "      <td>7.07</td>\n",
       "      <td>0</td>\n",
       "      <td>0.469</td>\n",
       "      <td>7.185</td>\n",
       "      <td>61.1</td>\n",
       "      <td>4.9671</td>\n",
       "      <td>2</td>\n",
       "      <td>242.0</td>\n",
       "      <td>17.8</td>\n",
       "      <td>392.83</td>\n",
       "      <td>4.03</td>\n",
       "      <td>34.7</td>\n",
       "    </tr>\n",
       "    <tr>\n",
       "      <th>3</th>\n",
       "      <td>0.03237</td>\n",
       "      <td>0.0</td>\n",
       "      <td>2.18</td>\n",
       "      <td>0</td>\n",
       "      <td>0.458</td>\n",
       "      <td>6.998</td>\n",
       "      <td>45.8</td>\n",
       "      <td>6.0622</td>\n",
       "      <td>3</td>\n",
       "      <td>222.0</td>\n",
       "      <td>18.7</td>\n",
       "      <td>394.63</td>\n",
       "      <td>2.94</td>\n",
       "      <td>33.4</td>\n",
       "    </tr>\n",
       "    <tr>\n",
       "      <th>4</th>\n",
       "      <td>0.06905</td>\n",
       "      <td>0.0</td>\n",
       "      <td>2.18</td>\n",
       "      <td>0</td>\n",
       "      <td>0.458</td>\n",
       "      <td>7.147</td>\n",
       "      <td>54.2</td>\n",
       "      <td>6.0622</td>\n",
       "      <td>3</td>\n",
       "      <td>222.0</td>\n",
       "      <td>18.7</td>\n",
       "      <td>396.90</td>\n",
       "      <td>5.33</td>\n",
       "      <td>36.2</td>\n",
       "    </tr>\n",
       "  </tbody>\n",
       "</table>\n",
       "</div>"
      ],
      "text/plain": [
       "      CRIM    ZN  INDUS  CHAS    NOX     RM   AGE     DIS  RAD    TAX  \\\n",
       "0  0.00632  18.0   2.31     0  0.538  6.575  65.2  4.0900    1  296.0   \n",
       "1  0.02731   0.0   7.07     0  0.469  6.421  78.9  4.9671    2  242.0   \n",
       "2  0.02729   0.0   7.07     0  0.469  7.185  61.1  4.9671    2  242.0   \n",
       "3  0.03237   0.0   2.18     0  0.458  6.998  45.8  6.0622    3  222.0   \n",
       "4  0.06905   0.0   2.18     0  0.458  7.147  54.2  6.0622    3  222.0   \n",
       "\n",
       "   PTRATIO       B  LSTAT  PRICE  \n",
       "0     15.3  396.90   4.98   24.0  \n",
       "1     17.8  396.90   9.14   21.6  \n",
       "2     17.8  392.83   4.03   34.7  \n",
       "3     18.7  394.63   2.94   33.4  \n",
       "4     18.7  396.90   5.33   36.2  "
      ]
     },
     "execution_count": 1,
     "metadata": {},
     "output_type": "execute_result"
    }
   ],
   "source": [
    "import pandas as pd\n",
    "\n",
    "# загружаем датасет\n",
    "column_names = ['CRIM', 'ZN', 'INDUS', 'CHAS', 'NOX', 'RM', 'AGE', 'DIS', 'RAD', 'TAX', 'PTRATIO', 'B', 'LSTAT', 'PRICE']\n",
    "boston_data = pd.read_csv('housing.csv', header=None, delimiter=r\"\\s+\", names=column_names)\n",
    "\n",
    "boston_data.head()"
   ]
  },
  {
   "attachments": {},
   "cell_type": "markdown",
   "metadata": {},
   "source": [
    "Рассмотрим в качестве признаков `DIS` и `NOX` — это усреднённое расстояние до `Employment Centres` и уровень загрязнения воздуха. \n",
    "\n",
    "Зададимся вопросом: верно ли, что взять оба признака лучше, чем один?\n",
    "\n",
    "Два признака, как правило, содержат больше информации, чем один. Однако часто бывает, что они сильно скоррелированы. Это значит, что при построении оценки вектора весов линейной регрессии по классическому МНК:\n",
    "\n",
    "$\\hat{\\vec{w}}=(A^{T}A)^{-1}A^{T}\\vec{y}$\n",
    "\n",
    "…мы можем получить плохо обусловленную матрицу Грама $A^TA$\n",
    "\n",
    "Мы не умеем идеально точно считать на компьютере, поэтому получим огромные ошибки из-за округлений. Получается, что хотя мы неизбежно теряем часть информации при выборе только одного признака, с вычислительной точки зрения это более выгодная стратегия.\n",
    "\n",
    "Итак, мы хотим выбрать один фактор из двух, который даст нам лучшие регрессии.\n",
    "\n",
    "На тепловой карте видно, что корреляция между нашими признаками DIS и NOX достаточно велика и составляет –0.77:"
   ]
  },
  {
   "cell_type": "code",
   "execution_count": 2,
   "metadata": {},
   "outputs": [
    {
     "data": {
      "image/png": "[encoded data removed]",
      "text/plain": [
       "<Figure size 720x360 with 2 Axes>"
      ]
     },
     "metadata": {
      "needs_background": "light"
     },
     "output_type": "display_data"
    }
   ],
   "source": [
    "import matplotlib.pyplot as plt\n",
    "import seaborn as sns\n",
    "\n",
    "fig = plt.figure(figsize=(10, 5))\n",
    "sns.heatmap(boston_data.corr(), annot=True, cmap='coolwarm');"
   ]
  },
  {
   "cell_type": "code",
   "execution_count": 7,
   "metadata": {},
   "outputs": [
    {
     "data": {
      "text/html": [
       "<div>\n",
       "<style scoped>\n",
       "    .dataframe tbody tr th:only-of-type {\n",
       "        vertical-align: middle;\n",
       "    }\n",
       "\n",
       "    .dataframe tbody tr th {\n",
       "        vertical-align: top;\n",
       "    }\n",
       "\n",
       "    .dataframe thead th {\n",
       "        text-align: right;\n",
       "    }\n",
       "</style>\n",
       "<table border=\"1\" class=\"dataframe\">\n",
       "  <thead>\n",
       "    <tr style=\"text-align: right;\">\n",
       "      <th></th>\n",
       "      <th>DIS</th>\n",
       "      <th>NOX</th>\n",
       "    </tr>\n",
       "  </thead>\n",
       "  <tbody>\n",
       "    <tr>\n",
       "      <th>DIS</th>\n",
       "      <td>1.00000</td>\n",
       "      <td>-0.76923</td>\n",
       "    </tr>\n",
       "    <tr>\n",
       "      <th>NOX</th>\n",
       "      <td>-0.76923</td>\n",
       "      <td>1.00000</td>\n",
       "    </tr>\n",
       "  </tbody>\n",
       "</table>\n",
       "</div>"
      ],
      "text/plain": [
       "         DIS      NOX\n",
       "DIS  1.00000 -0.76923\n",
       "NOX -0.76923  1.00000"
      ]
     },
     "execution_count": 7,
     "metadata": {},
     "output_type": "execute_result"
    }
   ],
   "source": [
    "boston_data[['DIS','NOX']].corr()"
   ]
  },
  {
   "attachments": {},
   "cell_type": "markdown",
   "metadata": {},
   "source": [
    "Это значит, что в районах, которые расположены ближе к `Employment Centres`, выше уровень загрязнения воздуха. \n",
    "\n",
    "На следующей картинке вы видите диаграмму рассеивания по этим двум признакам, а также линейную регрессию, построенную для зависимости фактора `DIS` от фактора `NOX`:\n",
    "\n",
    "<img src=m3_img2.png width=400>"
   ]
  },
  {
   "attachments": {},
   "cell_type": "markdown",
   "metadata": {},
   "source": [
    "**Какой же фактор выбрать:** `NOX` или `DIS`?\n",
    "\n",
    "Ни тот, ни другой! Наилучшим новым признаком окажется линейная комбинация из старых факторов, расположенная вдоль синей прямой.\n",
    "\n",
    "Такая линейная комбинация называется **главной компонентой**. А алгоритм поиска этой комбинации как раз и называется **методом главных компонент**. Давайте приведём общую структуру алгоритма для случая двух факторов:\n",
    "\n",
    "1. Составить корреляционную матрицу факторов $C$. Она же — матрица Грама стандартизированных факторов:\n",
    "\n",
    "$C=corr(A)=G(x_{1_{st}}, x_{2_{st}})$\n",
    "\n",
    "где $G(x_{1_{st}}, x_{2_{st}})$ — матрица Грама, составленная из стандартизированных факторов $x_{1_{st}}$ и $x_{2_{st}}$.\n",
    "\n",
    "2. Найти собственные числа (спектр матрицы) и соответствующие им собственные числа матрицы $C$, решив характеристическое уравнение:\n",
    "\n",
    "$det(C-\\lambda E)=0$\n",
    "\n",
    "3. Выбрать наибольшее собственное число из полученных $\\lambda^{*}=max(\\lambda_{1},\\lambda_{2})$ и соответствующий ему собственный вектор $\\vec{v}^*$.\n",
    "\n",
    "4. Координаты выбранного собственного вектора $\\vec{v}^*_1$ и $\\vec{v}^*_2$ будут являться коэффициентами линейной комбинации — главной компонентой:\n",
    "\n",
    "$\\vec{x^*}=v_{1}^*\\vec{x_1}+ v_{2}^*\\vec{x_2}$"
   ]
  },
  {
   "attachments": {},
   "cell_type": "markdown",
   "metadata": {},
   "source": [
    ">**Примечание**. Дополнительно делается нормировка нового признака. Её можно выполнить в самом конце шага 4 после пересчёта, а можно нормировать собственные векторы на шаге 3 (так делает компьютер). Наличие или отсутствие нормировки не повлияет на большинство свойств главных компонент.\n",
    "\n",
    "Давайте применим метод главных компонент для выбора оптимального признака в нашей задаче. Пусть `NOX` будет первым фактором, а `DIS` — вторым.\n",
    "\n",
    "1. Вычислим корреляционную матрицу C:\n",
    "\n",
    "$corr(NOX, DIS)=-0.77$\n",
    "\n",
    "$C=\\begin{pmatrix} 1&-0.77\\\\-0.77&1 \\end{pmatrix}$\n",
    "\n",
    "Свойства корреляционной матрицы гарантируют нам положительные собственные числа и полный набор собственных векторов.\n",
    "\n",
    "2. Вычислим собственные числа и собственные вектора матрицы C:\n",
    "\n",
    "Собственные числа:\n",
    "\n",
    "$det(C-\\lambda E)=det\\begin{pmatrix} 1-\\lambda&-0.77\\\\-0.77&1-\\lambda \\end{pmatrix}=(\\lambda-0.23)(\\lambda-1.77)$\n",
    "\n",
    "$\\lambda_1=1.77$ и $\\lambda_2=0.23$\n",
    "\n",
    "Собственные векторы:\n",
    "\n",
    "$v_1=\\begin{pmatrix} 1\\\\-1 \\end{pmatrix}$ и $v_2=\\begin{pmatrix} 1\\\\1 \\end{pmatrix}$\n",
    "\n",
    "3. Выбираем максимальное из собственных чисел: $\\lambda^{*}=max(\\lambda_{1},\\lambda_{2})=max(1.77, 0.23)=1.77$ и соответствующий ему собственный вектор, это будет $\\vec{v}^*=v_{1}=(1, -1)^T$\n",
    "\n",
    "4. Координаты собственного вектора $\\vec{v}^*$ будут коэффициентами для линейной комбинации старых признаков:\n",
    "\n",
    "$NEWFACTOR =1 \\cdot NOX_{st} - 1 \\cdot DIS_{st}$"
   ]
  },
  {
   "attachments": {},
   "cell_type": "markdown",
   "metadata": {},
   "source": [
    ">**Важно**! При составлении нового фактора нужно брать именно стандартизированные признаки: центрированные и нормированные к единичной длине:\n",
    ">\n",
    ">$NOX_{st}=\\frac{NOX-NOX_{mean}}{\\left \\| NOX-NOX_{mean}\\right \\|}$\n",
    ">\n",
    ">$DIS_{st}=\\frac{DIS-DIS_{mean}}{\\left \\|DIS-DIS_{mean}\\right \\|}$"
   ]
  },
  {
   "attachments": {},
   "cell_type": "markdown",
   "metadata": {},
   "source": [
    "5. Далее необходимо будет нормировать полученный фактор:\n",
    "\n",
    "$NEWFACTOR_{st}=\\frac{NEWFACTOR}{\\left \\|NEWFACTOR\\right \\|}$\n",
    "\n",
    "На самом деле это даже не нормировка, а целая стандартизация, просто среднее значение $NEWFACTOR$ будет нулевым по особенностями построения.\n",
    "\n",
    "***\n",
    "\n",
    "$NEWFACTOR_{st}$ называется **главной компонентой**. Есть ещё одна главная компонента, соответствующая меньшему собственному числу $\\lambda_2$ и собственному вектору $v_2$. Для понижения размерности и борьбы с мультиколлинеарностью мы берём только первую главную компоненту.\n",
    "\n",
    ">Возникает вопрос: изменится ли алгоритм метода главных компонент в общем случае при $k$ факторах?\n",
    "\n",
    "* **Шаги 1** и **2** не изменятся.\n",
    "\n",
    "* **Шаг 3**. Для избавления от мультиколлинеарности нам нужно будет взять несколько самых больших собственных чисел и их айгенпар, а маленькие — игнорировать.\n",
    "\n",
    "* **Шаг 4**. Можно пересчитать старые признаки в новые матричными преобразованием."
   ]
  },
  {
   "attachments": {},
   "cell_type": "markdown",
   "metadata": {},
   "source": [
    "## АНАЛИЗ АЛГОРИТМА\n",
    "\n",
    "1. Так как собственные векторы корреляционной матрицы ортогональны, то и новые признаки (главные компоненты) тоже будут ортогональны. Для нас это будет означать **нескоррелированность**.\n",
    "\n",
    "2. В случае плохой обусловленности выбор значимых главных компонент позволяет достичь меньшей потери точности по сравнению с регрессией на сырые данные.\n",
    "\n",
    "3. Можно искать не все собственные векторы, а только значимые — с «большими» собственными числами.\n",
    "\n",
    "4. Есть несколько подходов к тому, какие собственные числа считать «большими».\n",
    "\n",
    "Самый простой из них — **метод Кайзера**: значимыми считаются только те компоненты, у которых собственное число больше среднего значения всех собственных чисел $\\lambda_{mean}$:\n",
    "\n",
    "$\\lambda_{mean}=\\frac{\\lambda_{1}+\\lambda_{2}+...+\\lambda_{k}}{k}$\n",
    "\n",
    ">**Примечание**. В нашем примере и согласно правилу Кайзера нужно выбрать одну компоненту.\n",
    "\n",
    "Есть также метод сломанной трости. Иногда просто берут несколько максимальных собственных значений.\n",
    "\n",
    ">**Важное замечание**. В процессе выбора новых признаков никак не участвует целевая переменная. Если в нашем примере взять в качестве целевой переменной незначимую главную компоненту  ,то наш новый классный признак вообще никак её не объяснит, потому что они ортогональны.\n",
    "\n",
    "Тем не менее для БОЛЬШИНСТВА целевых переменных выбор значимых главных компонент даёт лучший прогноз среди всех возможных линейных комбинаций признаков."
   ]
  },
  {
   "attachments": {},
   "cell_type": "markdown",
   "metadata": {},
   "source": [
    "***\n",
    "\n",
    ">ГРАНИЦЫ ПРИМЕНИМОСТИ\n",
    ">\n",
    ">1. В случае хорошо обусловленных данных обрезать главные компоненты часто не нужно, так как потери точности могут оказаться больше, чем мы хотели бы.\n",
    ">\n",
    ">2. Для плохо обусловленных данных МАЛЫХ размерностей (для малого количества факторов) PCA — «то, что доктор прописал».\n",
    ">\n",
    ">3. Для плохо обусловленных данных БОЛЬШИХ размерностей (для большого количества факторов) при попытке применить PCA «в лоб» возникают вычислительные сложности.\n",
    ">\n",
    ">Дело в том, что если у нас, например, 10 000 факторов, то придётся считать, хранить и обрабатывать матрицу корреляций размера 10 000 × 10 000, что не слишком удобно с точки зрения памяти и скорости.\n",
    ">\n",
    ">Поэтому в таких случаях значимые главные компоненты вычисляют через сингулярное разложение матрицы данных."
   ]
  },
  {
   "attachments": {},
   "cell_type": "markdown",
   "metadata": {},
   "source": [
    "### Задание 6.5\n",
    "\n",
    "Пусть $x_1=\\begin{pmatrix}1\\\\2\\\\1\\\\1 \\end{pmatrix}$ и $x_2=\\begin{pmatrix}70\\\\130\\\\65\\\\60 \\end{pmatrix}$, а корреляционная матрица $C=\\begin{pmatrix} 1&0.9922\\\\0.9922&1 \\end{pmatrix}$\n",
    "\n",
    "Выберите одну главную компоненту для дальнейшего анализа. Вычислите её значения.\n",
    "\n"
   ]
  },
  {
   "cell_type": "code",
   "execution_count": 28,
   "metadata": {},
   "outputs": [
    {
     "name": "stdout",
     "output_type": "stream",
     "text": [
      "[-0.24  0.86 -0.29 -0.33]\n"
     ]
    }
   ],
   "source": [
    "import numpy as np\n",
    "x1 = np.array([1, 2, 1, 1]).T\n",
    "x2 = np.array([70, 130, 65, 60]).T\n",
    "\n",
    "C = np.array([\n",
    "[1, 0.9922],\n",
    "[0.9922, 1],\n",
    "])\n",
    "\n",
    "eig_values, eig_vectors = np.linalg.eig(C)\n",
    "\n",
    "x1_norm = (x1 - x1.mean()) / np.linalg.norm(x1)\n",
    "x2_norm = (x2 - x2.mean()) / np.linalg.norm(x2)\n",
    "\n",
    "x_new = x1_norm * eig_vectors[0][0] + x2_norm * eig_vectors[1][0]\n",
    "\n",
    "x_new_norm = (x_new - x_new.mean()) / np.linalg.norm(x_new)\n",
    "\n",
    "print(np.round(x_new_norm, 2))"
   ]
  },
  {
   "attachments": {},
   "cell_type": "markdown",
   "metadata": {},
   "source": [
    "# 7. Сингулярное разложение <a class=\"anchor\" id=7></a>\n",
    "\n",
    "[к содержанию](#0)\n",
    "\n",
    "## Singular Value Decomposition, `SVD`\n",
    "\n",
    ">ТЕОРЕМА\n",
    ">\n",
    ">Любую прямоугольную матрицу A размера (n, m) можно представить в виде произведения трёх матриц:\n",
    ">\n",
    ">$A_{n \\times m}=U_{n \\times n}\\cdot D_{n \\times m}\\cdot V^T_{m \\times m}$\n",
    ">\n",
    ">* $U$ — матрица размера (n, n). Все её столбцы ортогональны друг другу и имеют единичную длину. Такие матрицы называются ортогональными.\n",
    ">\n",
    ">* $D$ — матрица размера (n, m). На её главной диагонали стоят числа, называемые сингулярными числами, а вне главной диагонали стоят нули.\n",
    ">\n",
    ">* $V$ — матрица размера (m, m). Она тоже ортогональная.\n",
    "\n",
    "## КАК ПОЛУЧАЮТСЯ ЭТИ МАТРИЦЫ?\n",
    "\n",
    "Столбцы матрицы $U$ — нормированные собственные векторы $u_j$ матрицы Грама $AA^T$. При этом $UU^T=E$.\n",
    "\n",
    "Столбцы матрицы $V$ — нормированные собственные векторы $v_j$ матрицы Грама $A^TA$. При этом $VV^T=E$.\n",
    "\n",
    "Диагональные элементы матрицы $D$ — это корни из собственных чисел $diag(\\sqrt{\\lambda_1},\\sqrt{\\lambda_2},...,\\sqrt{\\lambda_n})$ матриц $A^TA$ и $AA^T$ (они будут одинаковы). Диагональные элементы $\\sqrt{\\lambda_j}$ — сингулярные числа."
   ]
  },
  {
   "attachments": {},
   "cell_type": "markdown",
   "metadata": {},
   "source": [
    "## ПРИМЕР\n",
    "\n",
    "Сингулярно разложить матрицу $A$, если:\n",
    "\n",
    "$A=\\begin{pmatrix} 2&6\\\\5&3\\\\-4&0 \\end{pmatrix}$\n",
    "\n",
    "Решение:\n",
    "\n",
    "Для начала найдём компоненты правой матрицы $V^T$. Для этого составляем матрицу Грама $A^TA$:\n",
    "\n",
    "$A^TA=\\begin{pmatrix} 2&5&-4\\\\6&3&0 \\end{pmatrix}\\begin{pmatrix} 2&6\\\\5&3\\\\-4&0 \\end{pmatrix}=\\begin{pmatrix} 45&27\\\\27&45 \\end{pmatrix}$\n",
    "\n",
    "Следующим шагом находим собственные числа и собственные векторы матрицы $A^TA$. Для этого составляем характеристическое уравнение для этой матрицы:\n",
    "\n",
    "$det(A^{T}A-\\lambda E)=\\lambda^{2}-90\\lambda+1256=0$\n",
    "\n",
    "Корнями этого квадратного уравнения являются $\\lambda_1=72$ и $\\lambda_2=18$. Заметим сразу, что $\\lambda_1>\\lambda_2$. \n",
    "\n",
    "Подставив $\\lambda_1$ и $\\lambda_2$ в однородную систему $(A-\\lambda E)v=0$ и решив её дважды, найдём собственные векторы $\\vec{v}_1$ и $\\vec{v}_2$ (процедуру опустим в целях экономии времени):\n",
    "\n",
    "$\\vec{v_1}=(-1, -1)^T$\n",
    "\n",
    "$\\vec{v_2} =(1, -1)^T$\n",
    "\n",
    "Нормируем наши собственные векторы:\n",
    "\n",
    "$\\vec{v_{j}}=\\frac{\\vec{v_j}}{\\left \\| \\vec{v_{j}} \\right \\|}$\n",
    "\n",
    "$\\vec{v_{1}}=\\frac{\\vec{v_1}}{\\left \\| \\vec{v_{1}} \\right \\|}=\\frac{1}{\\sqrt{(-1)^2+(-1)^2}} \\begin{pmatrix}-1\\\\-1 \\end{pmatrix}=\\begin{pmatrix}-\\frac{\\sqrt{2}}{2}\\\\-\\frac{\\sqrt{2}}{2}\\ \\end{pmatrix}$\n",
    "\n",
    "$\\vec{v_{2}}=\\frac{\\vec{v_2}}{\\left \\| \\vec{v_{2}} \\right \\|}=\\frac{1}{\\sqrt{1^2+(-1)^2}} \\begin{pmatrix}1\\\\-1 \\end{pmatrix}=\\begin{pmatrix}\\frac{\\sqrt{2}}{2}\\\\-\\frac{\\sqrt{2}}{2}\\ \\end{pmatrix}$"
   ]
  },
  {
   "attachments": {},
   "cell_type": "markdown",
   "metadata": {},
   "source": [
    ">Теперь у нас есть всё для того, чтобы составить матрицу $V^T$. Для этого полученные собственные векторы располагаем в столбцах матрицы $V^T$ в порядке убывания их собственных чисел!\n",
    "\n",
    "$V^T=(\\vec{v}_1,\\vec{v}_2)^T=\\begin{pmatrix} -\\frac{\\sqrt{2}}{2}&-\\frac{\\sqrt{2}}{2} \\\\ -\\frac{\\sqrt{2}}{2}& \\frac{\\sqrt{2}}{2} \\end{pmatrix}^T$\n",
    "\n",
    ">Векторы $\\vec{v}_1$ и $\\vec{v}_2$ называются правыми сингулярными векторами матрицы $A$.\n",
    "\n",
    "Теперь найдём компоненты матрицы $U$. Для этого составляем матрицу Грама $AA^T$:\n",
    "\n",
    "$AA^T=\\begin{pmatrix} 2&6\\\\5&3\\\\-4&0 \\end{pmatrix}\\begin{pmatrix} 2&5&-4\\\\6&3&0 \\end{pmatrix}=\\begin{pmatrix} 40&28&-8\\\\28&34&-20\\\\-8&-20&16 \\end{pmatrix}$\n",
    "\n",
    "Составляем характеристическое уравнение для матрицы $AA^T$, чтобы найти ее собственные значения и собственные числа. Спойлер: ненулевые собственные числа для матриц $AA^T$ и $A^TA$ всегда будут совпадать:\n",
    "\n",
    "$det(A-\\lambda E)=\\lambda^{3}-90 \\lambda^{2}+1256 \\lambda =(\\lambda^{2}-90 \\lambda+1256)=0$\n",
    "\n",
    "Откуда получаем, что корнями данного уравнения являются $\\lambda_1=72$, $\\lambda_2=18$ и $\\lambda_3=0$. Заметим сразу, что $\\lambda_1>\\lambda_2>\\lambda_3$"
   ]
  },
  {
   "attachments": {},
   "cell_type": "markdown",
   "metadata": {},
   "source": [
    "Подставив $\\lambda_1$ и $\\lambda_2$ в однородную систему $(AA^T-\\lambda E)v=0$ и решив её трижды, найдем собственные векторы $\\vec{u}_1$, $\\vec{u}_2$ и $\\vec{u}_3$ (процедуру опустим в целях экономии времени):\n",
    "\n",
    "$\\vec{u_1}=(-2, -2, 1)^T$\n",
    "\n",
    "$\\vec{u_2}=(2,-1, 2)^T$\n",
    "\n",
    "$\\vec{u_3}=(-1,2, 2)^T$\n",
    "\n",
    "Осталось только нормировать полученные собственные векторы:\n",
    "\n",
    "$\\vec{u_{j}}=\\frac{\\vec{u_j}}{\\left \\| \\vec{u_{j}} \\right \\|}$\n",
    "\n",
    "$\\vec{u_{1}}=\\frac{\\vec{u_1}}{\\left \\| \\vec{u_{1}} \\right \\|}=\\frac{1}{\\sqrt{(-2)^2+(-2)^2+1^2}} \\begin{pmatrix}-2\\\\-2\\\\1 \\end{pmatrix}=\\begin{pmatrix}-\\frac{2}{3}\\\\-\\frac{2}{3}\\\\ \\frac{1}{3} \\end{pmatrix}$\n",
    "\n",
    "$\\vec{u_{2}}=\\frac{\\vec{u_2}}{\\left \\| \\vec{u_{2}} \\right \\|}=\\frac{1}{\\sqrt{2^2+(-1)^2+2^2}} \\begin{pmatrix}2\\\\-1\\\\2 \\end{pmatrix}=\\begin{pmatrix}\\frac{2}{3}\\\\-\\frac{1}{3}\\\\ \\frac{2}{3} \\end{pmatrix}$\n",
    "\n",
    "$\\vec{u_{3}}=\\frac{\\vec{u_3}}{\\left \\| \\vec{u_{3}} \\right \\|}=\\frac{1}{\\sqrt{(-1)^2+2^2+2^2}} \\begin{pmatrix}2\\\\-1\\\\2 \\end{pmatrix}=\\begin{pmatrix}-\\frac{1}{3}\\\\ \\frac{2}{3}\\\\ \\frac{2}{3} \\end{pmatrix}$"
   ]
  },
  {
   "attachments": {},
   "cell_type": "markdown",
   "metadata": {},
   "source": [
    "Составляем матрицу $U$ из нормированных векторов $\\vec{u}_1$, $\\vec{u}_2$ и $\\vec{u}_3$, расположив их в столбцах в порядке убывания собственных чисел, соответствующих собственным векторам:\n",
    "\n",
    "$U=(\\vec{u}_1,\\vec{u}_2,\\vec{u}_3)=\\begin{pmatrix} -\\frac{2}{3}&\\frac{2}{3}&-\\frac{1}{3}\\\\-\\frac{2}{3}&-\\frac{1}{3}&\\frac{2}{3}\\\\\\frac{1}{3}&\\frac{2}{3}&\\frac{2}{3} \\end{pmatrix}$\n",
    "\n",
    "Векторы $\\vec{u}_1$, $\\vec{u}_2$ и $\\vec{u}_3$ называются **левыми сингулярными векторами** матрицы $A$.\n",
    "\n",
    "Для составления сингулярного разложения нам с вами осталось найти матрицу $D$. На её диагонали будут располагаться сингулярные числа, которые вычисляются как квадратные корни из ненулевых собственных чисел:\n",
    "\n",
    "$\\sigma_{i}=\\sqrt{\\lambda_{i}}$\n",
    "\n",
    "$\\sigma_{1}=\\sqrt{\\lambda_{1}}=\\sqrt{72}=6\\sqrt{2}$\n",
    "\n",
    "$\\sigma_{2}=\\sqrt{\\lambda_{2}}=\\sqrt{18}=3\\sqrt{2}$"
   ]
  },
  {
   "attachments": {},
   "cell_type": "markdown",
   "metadata": {},
   "source": [
    "Полученные сингулярные числа располагаются в матрице $D$ на главной диагонали, оставшиеся строки матрицы заполняются нулями.\n",
    "\n",
    "$D=\\begin{pmatrix} \\sigma_1&0 \\\\ 0&\\sigma_2 \\\\ 0&0 \\end{pmatrix}=\\begin{pmatrix} 6\\sqrt{2}&0\\\\0&3\\sqrt{2}\\\\0&0 \\end{pmatrix}$\n",
    "\n",
    ">Теперь у нас есть все компоненты, чтобы составить сингулярное разложение! \n",
    "\n",
    "Вспоминаем формулу:\n",
    "\n",
    "$A=UDV^T=\\begin{pmatrix} -\\frac{2}{3}&\\frac{2}{3}&-\\frac{1}{3}\\\\-\\frac{2}{3}&-\\frac{1}{3}&\\frac{2}{3}\\\\\\frac{1}{3}&\\frac{2}{3}&\\frac{2}{3} \\end{pmatrix} \\begin{pmatrix} 6\\sqrt{2}&0\\\\0&3\\sqrt{2}\\\\0&0 \\end{pmatrix} \\begin{pmatrix} -\\frac{\\sqrt{2}}{2}&-\\frac{\\sqrt{2}}{2} \\\\ -\\frac{\\sqrt{2}}{2}& \\frac{\\sqrt{2}}{2} \\end{pmatrix}^T$"
   ]
  },
  {
   "attachments": {},
   "cell_type": "markdown",
   "metadata": {},
   "source": [
    "Если мы перемножим все полученные матрицы между собой, мы получим изначальную матрицу $A$! Проверьте это самостоятельно. Проверьте также, что $U^{T}U=UU^{T}=E$ и $V^{T}V=VV^{T}=E$.\n",
    "\n",
    "***\n",
    "## Примечание\n",
    "\n",
    "В библиотеке numpy сингулярное разложение реализовано в функции [np.linalg.svd()](https://numpy.org/doc/stable/reference/generated/numpy.linalg.svd.html):"
   ]
  },
  {
   "cell_type": "code",
   "execution_count": 1,
   "metadata": {},
   "outputs": [
    {
     "data": {
      "text/plain": [
       "(array([[-0.66666667,  0.66666667, -0.33333333],\n",
       "        [-0.66666667, -0.33333333,  0.66666667],\n",
       "        [ 0.33333333,  0.66666667,  0.66666667]]),\n",
       " array([8.48528137, 4.24264069]),\n",
       " array([[-0.70710678, -0.70710678],\n",
       "        [-0.70710678,  0.70710678]]))"
      ]
     },
     "execution_count": 1,
     "metadata": {},
     "output_type": "execute_result"
    }
   ],
   "source": [
    "import numpy as np\n",
    "# составляем матрицу А \n",
    "A = np.array([\n",
    "    [2, 5, -4],\n",
    "    [6, 3, 0],\n",
    "]).T\n",
    "# применяем сингулярное разложение\n",
    "np.linalg.svd(A)"
   ]
  },
  {
   "attachments": {},
   "cell_type": "markdown",
   "metadata": {},
   "source": [
    "Функция возвращает кортеж из трёх массивов:\n",
    "\n",
    "* Левая матрица сингулярного разложения $U$, состоящая из собственных векторов матрицы $AA^T$.\n",
    "\n",
    "* Сингулярные числа, стоящие на главной диагонали матрицы $D$.\n",
    "\n",
    "* Правая матрица сингулярного разложения $V^T$, состоящая из собственных векторов матрицы $A^TA$.\n",
    "\n",
    "Кстати, заметьте, что наш результат полностью совпал с результатом сингулярного разложения, вычисленным вручную."
   ]
  },
  {
   "attachments": {},
   "cell_type": "markdown",
   "metadata": {},
   "source": [
    "*** \n",
    ">Вы спросите: а в чём бонусы сингулярного разложения? Была одна матрица, а стало три — зачем такие сложности? \n",
    "\n",
    "В действительности бонусов довольно много и каждый из них находит своё применение. Более подробно вы можете ознакомиться с ними в дополнительных материалах [здесь](http://www.machinelearning.ru/wiki/index.php?title=Сингулярное_разложение) и [здесь](https://kpfu.ru/portal/docs/F984109526/SVD.pdf). \n",
    "\n",
    "Мы коснёмся основных преимуществ, которые имеют значение именно для нас."
   ]
  },
  {
   "attachments": {},
   "cell_type": "markdown",
   "metadata": {},
   "source": [
    "# 8. Итоги <a class=\"anchor\" id=8></a>\n",
    "\n",
    "[к содержанию](#0)"
   ]
  }
 ],
 "metadata": {
  "kernelspec": {
   "display_name": "Python 3",
   "language": "python",
   "name": "python3"
  },
  "language_info": {
   "codemirror_mode": {
    "name": "ipython",
    "version": 3
   },
   "file_extension": ".py",
   "mimetype": "text/x-python",
   "name": "python",
   "nbconvert_exporter": "python",
   "pygments_lexer": "ipython3",
   "version": "3.10.6"
  },
  "orig_nbformat": 4,
  "vscode": {
   "interpreter": {
    "hash": "916dbcbb3f70747c44a77c7bcd40155683ae19c65e1c03b4aa3499c5328201f1"
   }
  }
 },
 "nbformat": 4,
 "nbformat_minor": 2
}
