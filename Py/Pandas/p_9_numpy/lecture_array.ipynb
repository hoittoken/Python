{
 "cells": [
  {
   "attachments": {},
   "cell_type": "markdown",
   "metadata": {},
   "source": [
    "## Содержание <a class=\"anchor\" id=\"0\"></a>\n",
    "\n",
    "- [1. Введение](#1)\n",
    "- [2. Collections. Counter и defaultdict](#2)\n",
    "- [2.1 Collections. Операции с Counter](#2-1)\n",
    "- [2.2 Collections. Дополнительные функции Counter](#2-2)\n",
    "- [2.3 Collections. defaultdict](#2-3)\n",
    "- [3. Collections. Deque и OrderedDict](#3)\n",
    "- [3. Collections. OrderedDict](#3)\n",
    "- [3. Collections. Deque](#3-2)\n",
    "- [4. Collections. Примеры](#4)\n",
    "- [5. NumPy. Типы данных](#5)\n",
    "- [5.1 NumPy. Целочисленные данные](#5-1)\n",
    "- [5.2 NumPy. Float](#5-2)\n",
    "- [6. NumPy. Массивы](#6)\n",
    "- [6. NumPy. Свойства массивов](#6-1)\n",
    "- [6. NumPy. Заполнение новых массивов](#6-2)\n",
    "- [7. NumPy. Действия с массивами](#7)\n",
    "- [8. NumPy. Операции с векторами](#8)\n",
    "- [9. NumPy. Случайные числа](#9)\n",
    "- [10. NumPy. Документация](#10)"
   ]
  },
  {
   "attachments": {},
   "cell_type": "markdown",
   "metadata": {},
   "source": [
    "### 1. Введение <a class=\"anchor\" id=\"1\"></a>\n",
    "\n",
    "[к содержанию](#0)\n",
    "\n",
    "При работе с данными очень часто возникают однотипные задачи: посчитать число различных элементов в списке, быстро произвести вычисления сразу для всех элементов в списке, обработать поступающие данные по очереди и т. д. Как специалисты в Data Science, вы обязательно будете с ними сталкиваться. Отличные новости! Помимо вас, с такими задачами сталкиваются миллионы программистов по всему миру, поэтому очень часто подобный функционал либо уже реализован в Python, либо доступен для установки в виде дополнительных модулей.\n",
    "\n",
    "Вам же необходимо научиться использовать эти инструменты для решения собственных задач."
   ]
  },
  {
   "attachments": {},
   "cell_type": "markdown",
   "metadata": {},
   "source": [
    "### 2. Collections. Counter и defaultdict <a class=\"anchor\" id=\"2\"></a>\n",
    "\n",
    "[к содержанию](#0)\n",
    "\n",
    "### COUNTER\n",
    "\n",
    "Как уже было сказано ранее, объект Counter (от англ. «счётчик») предназначен для решения часто возникающей задачи по подсчёту различных элементов."
   ]
  },
  {
   "cell_type": "code",
   "execution_count": 1,
   "metadata": {},
   "outputs": [],
   "source": [
    "# Импортируем объект Counter из модуля collections\n",
    "from collections import Counter\n",
    "# Создаём пустой объект Counter\n",
    "c = Counter()"
   ]
  },
  {
   "attachments": {},
   "cell_type": "markdown",
   "metadata": {},
   "source": [
    "Теперь в переменной c хранится объект с возможностями Counter.\n",
    "\n",
    "Рассмотрим базовый синтаксис этого инструмента. Например, будем считать цвета проезжающих машин: если встретили красную машину, посчитаем её. Для этого прибавим к ключу 'red' единицу. Синтаксис очень похож на работу со словарём:"
   ]
  },
  {
   "cell_type": "code",
   "execution_count": 8,
   "metadata": {},
   "outputs": [
    {
     "name": "stdout",
     "output_type": "stream",
     "text": [
      "Counter({'red': 1})\n"
     ]
    }
   ],
   "source": [
    "c['red'] += 1\n",
    "print(c)\n",
    "# Будет напечатано:\n",
    "# Counter({'red': 1})"
   ]
  },
  {
   "attachments": {},
   "cell_type": "markdown",
   "metadata": {},
   "source": [
    "Допустим, у нас есть список цветов проехавших машин:"
   ]
  },
  {
   "cell_type": "code",
   "execution_count": 9,
   "metadata": {},
   "outputs": [],
   "source": [
    "cars = ['red', 'blue', 'black', 'black', 'black', 'red', 'blue', 'red', 'white']"
   ]
  },
  {
   "attachments": {},
   "cell_type": "markdown",
   "metadata": {},
   "source": [
    "Посчитать значения, конечно, можно и в цикле, используя синтаксис из предыдущего примера:"
   ]
  },
  {
   "cell_type": "code",
   "execution_count": 10,
   "metadata": {},
   "outputs": [
    {
     "name": "stdout",
     "output_type": "stream",
     "text": [
      "Counter({'red': 3, 'black': 3, 'blue': 2, 'white': 1})\n"
     ]
    }
   ],
   "source": [
    "c = Counter()\n",
    "for car in cars:\n",
    "    c[car] += 1\n",
    " \n",
    "print(c)\n",
    "# Counter({'red': 3, 'black': 3, 'blue': 2, 'white': 1})"
   ]
  },
  {
   "attachments": {},
   "cell_type": "markdown",
   "metadata": {},
   "source": [
    "Однако гораздо проще при создании Counter сразу передать в круглых скобках итерируемый объект, в котором необходимо посчитать значения:"
   ]
  },
  {
   "cell_type": "code",
   "execution_count": 11,
   "metadata": {},
   "outputs": [
    {
     "name": "stdout",
     "output_type": "stream",
     "text": [
      "Counter({'red': 3, 'black': 3, 'blue': 2, 'white': 1})\n"
     ]
    }
   ],
   "source": [
    "c = Counter(cars)\n",
    "print(c)\n",
    "# Counter({'red': 3, 'black': 3, 'blue': 2, 'white': 1})"
   ]
  },
  {
   "attachments": {},
   "cell_type": "markdown",
   "metadata": {},
   "source": [
    "Узнать, сколько раз встретился конкретный элемент, можно, обратившись к счётчику по ключу как к обычному словарю:"
   ]
  },
  {
   "cell_type": "code",
   "execution_count": 12,
   "metadata": {},
   "outputs": [
    {
     "name": "stdout",
     "output_type": "stream",
     "text": [
      "3\n"
     ]
    }
   ],
   "source": [
    "print(c['black'])"
   ]
  },
  {
   "attachments": {},
   "cell_type": "markdown",
   "metadata": {},
   "source": [
    "Если обратиться к счётчику по несуществующему ключу, то, в отличие от словаря, ошибка `KeyError` не возникнет:"
   ]
  },
  {
   "cell_type": "code",
   "execution_count": 13,
   "metadata": {},
   "outputs": [
    {
     "name": "stdout",
     "output_type": "stream",
     "text": [
      "0\n"
     ]
    }
   ],
   "source": [
    "print(c['purple'])"
   ]
  },
  {
   "attachments": {},
   "cell_type": "markdown",
   "metadata": {},
   "source": [
    "Узнать сумму всех значений в объекте Counter можно, воспользовавшись следующей конструкцией:"
   ]
  },
  {
   "cell_type": "code",
   "execution_count": 14,
   "metadata": {},
   "outputs": [
    {
     "name": "stdout",
     "output_type": "stream",
     "text": [
      "9\n"
     ]
    }
   ],
   "source": [
    "print(sum(c.values()))"
   ]
  },
  {
   "attachments": {},
   "cell_type": "markdown",
   "metadata": {},
   "source": [
    "В этой конструкции мы сначала получаем элементы (число раз, когда встретился ключ) с помощью функции values (такая же функция есть и у словаря):"
   ]
  },
  {
   "cell_type": "code",
   "execution_count": 15,
   "metadata": {},
   "outputs": [
    {
     "name": "stdout",
     "output_type": "stream",
     "text": [
      "dict_values([3, 2, 3, 1])\n"
     ]
    }
   ],
   "source": [
    "print(c.values())\n",
    "# dict_values([3, 2, 3, 1])"
   ]
  },
  {
   "attachments": {},
   "cell_type": "markdown",
   "metadata": {},
   "source": [
    "### Операции с Counter <a class=\"anchor\" id=\"2-1\"></a>\n",
    "\n",
    "[к содержанию](#0)\n",
    "\n",
    "Возможности Counter не ограничиваются только подсчётом элементов. Этот объект обладает и дополнительным функционалом — например, счётчики можно складывать и вычитать."
   ]
  },
  {
   "attachments": {},
   "cell_type": "markdown",
   "metadata": {},
   "source": [
    "Допустим, вы с другом из другого города решили посчитать количество цветов встреченных на дороге машин. У вас получились такие списки цветов:"
   ]
  },
  {
   "cell_type": "code",
   "execution_count": 10,
   "metadata": {},
   "outputs": [],
   "source": [
    "cars_moscow = ['black', 'black', 'white', 'black', 'black', 'white', 'yellow', 'yellow', 'yellow']\n",
    "cars_spb = ['red', 'black', 'black', 'white', 'white', 'yellow', 'yellow', 'red', 'white']"
   ]
  },
  {
   "attachments": {},
   "cell_type": "markdown",
   "metadata": {},
   "source": [
    "Получим для них счётчики:"
   ]
  },
  {
   "cell_type": "code",
   "execution_count": 11,
   "metadata": {},
   "outputs": [
    {
     "name": "stdout",
     "output_type": "stream",
     "text": [
      "Counter({'black': 4, 'abc': 4, 'yellow': 3, 'white': 2})\n",
      "Counter({'white': 3, 'red': 2, 'black': 2, 'yellow': 2})\n"
     ]
    }
   ],
   "source": [
    "counter_moscow = Counter(cars_moscow)\n",
    "counter_spb = Counter(cars_spb)\n",
    " \n",
    "print(counter_moscow)\n",
    "print(counter_spb)"
   ]
  },
  {
   "attachments": {},
   "cell_type": "markdown",
   "metadata": {},
   "source": [
    "Чтобы узнать, сколько машин разных цветов встретилось в двух городах, можно сложить два исходных счётчика и получить новый счётчик:"
   ]
  },
  {
   "cell_type": "code",
   "execution_count": 18,
   "metadata": {},
   "outputs": [
    {
     "name": "stdout",
     "output_type": "stream",
     "text": [
      "Counter({'black': 6, 'white': 5, 'yellow': 5, 'red': 2})\n"
     ]
    }
   ],
   "source": [
    "print(counter_moscow + counter_spb)"
   ]
  },
  {
   "attachments": {},
   "cell_type": "markdown",
   "metadata": {},
   "source": [
    "Чтобы узнать **разницу** между объектами Counter, необходимо воспользоваться функцией `subtract`, которая меняет тот объект, к которому применяется. В примере выше из значений, посчитанных для Москвы, вычитаются значения, посчитанные для Санкт-Петербурга:"
   ]
  },
  {
   "cell_type": "code",
   "execution_count": 19,
   "metadata": {},
   "outputs": [
    {
     "name": "stdout",
     "output_type": "stream",
     "text": [
      "Counter({'black': 4, 'yellow': 3, 'white': 2})\n",
      "Counter({'white': 3, 'red': 2, 'black': 2, 'yellow': 2})\n",
      "Counter({'black': 2, 'yellow': 1, 'white': -1, 'red': -2})\n"
     ]
    }
   ],
   "source": [
    "print(counter_moscow)\n",
    "print(counter_spb)\n",
    "# Counter({'black': 4, 'yellow': 3, 'white': 2})\n",
    "# Counter({'white': 3, 'red': 2, 'black': 2, 'yellow': 2})\n",
    " \n",
    "counter_moscow.subtract(counter_spb)\n",
    "print(counter_moscow)"
   ]
  },
  {
   "attachments": {},
   "cell_type": "markdown",
   "metadata": {},
   "source": [
    "Заметьте, что белых машин в counter_spb оказалось больше, чем в counter_moscow, поэтому разность отрицательная. Красных машин в moscow вообще не было, а в spb их оказалось сразу две, поэтому разница равна -2. Значения для black и yellow остались положительными, потому что их было больше."
   ]
  },
  {
   "cell_type": "code",
   "execution_count": 20,
   "metadata": {},
   "outputs": [
    {
     "name": "stdout",
     "output_type": "stream",
     "text": [
      "Counter({'black': 2, 'yellow': 1})\n"
     ]
    }
   ],
   "source": [
    "# Пересоздаём счётчики, потому что объект counter_moscow поменял свои значения\n",
    "# после функции subtract.\n",
    "counter_moscow = Counter(cars_moscow)\n",
    "counter_spb = Counter(cars_spb)\n",
    " \n",
    "print(counter_moscow - counter_spb)\n",
    "# Counter({'black': 2, 'yellow': 1})"
   ]
  },
  {
   "attachments": {},
   "cell_type": "markdown",
   "metadata": {},
   "source": [
    "### ДОПОЛНИТЕЛЬНЫЕ ФУНКЦИИ  <a class=\"anchor\" id=\"2-2\"></a>\n",
    "\n",
    "[к содержанию](#0)\n",
    "\n",
    "Чтобы получить список всех элементов, которые содержатся в Counter, используется функция `elements()`. Она возвращает итератор, поэтому, чтобы напечатать все элементы, распакуем их с помощью *:"
   ]
  },
  {
   "cell_type": "code",
   "execution_count": 20,
   "metadata": {},
   "outputs": [
    {
     "name": "stdout",
     "output_type": "stream",
     "text": [
      "black black black black abc abc abc abc white white yellow yellow yellow\n"
     ]
    }
   ],
   "source": [
    "print(*counter_moscow.elements())"
   ]
  },
  {
   "attachments": {},
   "cell_type": "markdown",
   "metadata": {},
   "source": [
    ">Обратите внимание, что элементы возвращаются в алфавитном порядке, а не в том порядке, в котором их вносили в счётчик.\n",
    "\n",
    "Чтобы получить список уникальных элементов, достаточно воспользоваться функцией `list()`:"
   ]
  },
  {
   "cell_type": "code",
   "execution_count": 22,
   "metadata": {},
   "outputs": [
    {
     "name": "stdout",
     "output_type": "stream",
     "text": [
      "['black', 'white', 'yellow']\n"
     ]
    }
   ],
   "source": [
    "print(list(counter_moscow))"
   ]
  },
  {
   "attachments": {},
   "cell_type": "markdown",
   "metadata": {},
   "source": [
    "С помощью функции `dict()` можно превратить Counter в обычный словарь:"
   ]
  },
  {
   "cell_type": "code",
   "execution_count": 23,
   "metadata": {},
   "outputs": [
    {
     "name": "stdout",
     "output_type": "stream",
     "text": [
      "{'black': 4, 'white': 2, 'yellow': 3}\n"
     ]
    }
   ],
   "source": [
    "print(dict(counter_moscow))"
   ]
  },
  {
   "attachments": {},
   "cell_type": "markdown",
   "metadata": {},
   "source": [
    "Функция `most_common()` позволяет получить список из кортежей элементов в порядке убывания их встречаемости:"
   ]
  },
  {
   "cell_type": "code",
   "execution_count": 24,
   "metadata": {},
   "outputs": [
    {
     "name": "stdout",
     "output_type": "stream",
     "text": [
      "[('black', 4), ('yellow', 3), ('white', 2)]\n"
     ]
    }
   ],
   "source": [
    "print(counter_moscow.most_common())"
   ]
  },
  {
   "attachments": {},
   "cell_type": "markdown",
   "metadata": {},
   "source": [
    "В неё также можно передать значение, которое задаёт желаемое число первых наиболее частых элементов, например, 2:"
   ]
  },
  {
   "cell_type": "code",
   "execution_count": 25,
   "metadata": {},
   "outputs": [
    {
     "name": "stdout",
     "output_type": "stream",
     "text": [
      "[('black', 4), ('yellow', 3)]\n"
     ]
    }
   ],
   "source": [
    "print(counter_moscow.most_common(2))"
   ]
  },
  {
   "attachments": {},
   "cell_type": "markdown",
   "metadata": {},
   "source": [
    "Наконец, функция `clear()` позволяет полностью обнулить счётчик:"
   ]
  },
  {
   "cell_type": "code",
   "execution_count": 26,
   "metadata": {},
   "outputs": [
    {
     "name": "stdout",
     "output_type": "stream",
     "text": [
      "Counter()\n"
     ]
    }
   ],
   "source": [
    "counter_moscow.clear()\n",
    "print(counter_moscow)"
   ]
  },
  {
   "attachments": {},
   "cell_type": "markdown",
   "metadata": {},
   "source": [
    "### DEFAULTDICT <a class=\"anchor\" id=\"7\"></a>\n",
    "\n",
    "[к содержанию](#0)\n",
    "\n",
    "Возможно, вы уже сталкивались с задачей, когда необходимо было создать словарь, в котором по ключам расположены списки. Например, у нас есть список из кортежей с фамилиями студентов и их учебными группами:"
   ]
  },
  {
   "cell_type": "code",
   "execution_count": 28,
   "metadata": {},
   "outputs": [],
   "source": [
    "students = [('Ivanov',1),('Smirnov',4),('Petrov',3),('Kuznetsova',1),\n",
    "            ('Nikitina',2),('Markov',3),('Pavlov',2)]"
   ]
  },
  {
   "attachments": {},
   "cell_type": "markdown",
   "metadata": {},
   "source": [
    "Сохраним эти данные в словаре, в котором ключами будут номера групп, а элементами — списки студентов. Сделать это можно следующим образом:"
   ]
  },
  {
   "cell_type": "code",
   "execution_count": 29,
   "metadata": {},
   "outputs": [
    {
     "name": "stdout",
     "output_type": "stream",
     "text": [
      "{1: ['Ivanov', 'Kuznetsova'], 4: ['Smirnov'], 3: ['Petrov', 'Markov'], 2: ['Nikitina', 'Pavlov']}\n"
     ]
    }
   ],
   "source": [
    "groups = dict()\n",
    " \n",
    "for student, group in students:\n",
    "    # Проверяем, есть ли уже эта группа в словаре\n",
    "    if group not in groups:\n",
    "        # Если группы ещё нет в словаре, создаём для неё пустой список\n",
    "        groups[group] = list()\n",
    "    groups[group].append(student)\n",
    " \n",
    "print(groups)"
   ]
  },
  {
   "attachments": {},
   "cell_type": "markdown",
   "metadata": {},
   "source": [
    "В данном коде в цикле for происходит распаковка кортежа: в переменные цикла student и group попадают первый и второй элементы кортежей из списка students. То есть на первой итерации цикла в переменной student содержится строка 'Ivanov', а в переменной group — целое число 1. На второй итерации цикла в переменной student содержится строка 'Smirnov', а в переменной group — целое число 4. И так далее.\n",
    "\n",
    "Обратите внимание, что для решения этой задачи нам потребовался шаг с проверкой наличия номера группы в словаре. Если номера группы не было, для этой группы мы создавали новый список в словаре. Без шага проверки мы бы натолкнулись на `KeyError`:"
   ]
  },
  {
   "cell_type": "code",
   "execution_count": 30,
   "metadata": {},
   "outputs": [
    {
     "ename": "KeyError",
     "evalue": "1",
     "output_type": "error",
     "traceback": [
      "\u001b[1;31m---------------------------------------------------------------------------\u001b[0m",
      "\u001b[1;31mKeyError\u001b[0m                                  Traceback (most recent call last)",
      "\u001b[1;32mc:\\Личные документы\\Python\\Py\\p_9_numpy\\lecture_array.ipynb Ячейка 49\u001b[0m in \u001b[0;36m<cell line: 3>\u001b[1;34m()\u001b[0m\n\u001b[0;32m      <a href='vscode-notebook-cell:/c%3A/%D0%9B%D0%B8%D1%87%D0%BD%D1%8B%D0%B5%20%D0%B4%D0%BE%D0%BA%D1%83%D0%BC%D0%B5%D0%BD%D1%82%D1%8B/Python/Py/p_9_numpy/lecture_array.ipynb#ch0000118?line=0'>1</a>\u001b[0m groups \u001b[39m=\u001b[39m \u001b[39mdict\u001b[39m()\n\u001b[0;32m      <a href='vscode-notebook-cell:/c%3A/%D0%9B%D0%B8%D1%87%D0%BD%D1%8B%D0%B5%20%D0%B4%D0%BE%D0%BA%D1%83%D0%BC%D0%B5%D0%BD%D1%82%D1%8B/Python/Py/p_9_numpy/lecture_array.ipynb#ch0000118?line=2'>3</a>\u001b[0m \u001b[39mfor\u001b[39;00m student, group \u001b[39min\u001b[39;00m students:\n\u001b[1;32m----> <a href='vscode-notebook-cell:/c%3A/%D0%9B%D0%B8%D1%87%D0%BD%D1%8B%D0%B5%20%D0%B4%D0%BE%D0%BA%D1%83%D0%BC%D0%B5%D0%BD%D1%82%D1%8B/Python/Py/p_9_numpy/lecture_array.ipynb#ch0000118?line=3'>4</a>\u001b[0m     groups[group]\u001b[39m.\u001b[39mappend(student)\n\u001b[0;32m      <a href='vscode-notebook-cell:/c%3A/%D0%9B%D0%B8%D1%87%D0%BD%D1%8B%D0%B5%20%D0%B4%D0%BE%D0%BA%D1%83%D0%BC%D0%B5%D0%BD%D1%82%D1%8B/Python/Py/p_9_numpy/lecture_array.ipynb#ch0000118?line=5'>6</a>\u001b[0m \u001b[39mprint\u001b[39m(groups)\n",
      "\u001b[1;31mKeyError\u001b[0m: 1"
     ]
    }
   ],
   "source": [
    "groups = dict()\n",
    " \n",
    "for student, group in students:\n",
    "    groups[group].append(student)\n",
    " \n",
    "print(groups)"
   ]
  },
  {
   "attachments": {},
   "cell_type": "markdown",
   "metadata": {},
   "source": [
    "Данная ошибка означает, что ключа 1 нет в словаре.\n",
    "\n",
    "**? Можно ли было сделать проще? Да!**\n",
    "\n",
    ">Для этого существует объект `defaultdict` из модуля `collections`. Он позволяет задавать тот тип данных, который хранится в словаре по умолчанию (в нашем случае это должен быть список). Это бывает удобно в том случае, если приходится заполнять одну и ту же структуру данных, экземпляр которой должен храниться по каждому ключу в словаре.\n",
    "\n",
    "Например, чтобы сохранить информацию о колебании курсов валют за последний месяц, можно создать словарь из валютных пар (USD/RUB, EUR/RUB и т. д.), а по ключам разместить списки из стоимости валюты по курсу ЦБ за последние 30 дней. В таком словаре по каждому ключу должен быть доступен список.\n",
    "\n",
    "Создадим `defaultdict`, в котором при обращении по несуществующему ключу будет автоматически создаваться новый список. Для этого при создании объекта `defaultdict` в круглых скобках передадим параметр list:"
   ]
  },
  {
   "cell_type": "code",
   "execution_count": 31,
   "metadata": {},
   "outputs": [],
   "source": [
    "from collections import defaultdict\n",
    "groups = defaultdict(list)"
   ]
  },
  {
   "attachments": {},
   "cell_type": "markdown",
   "metadata": {},
   "source": [
    "Обратите внимание, что в скобках мы передаём именно указатель на класс объекта (например `list`; также можно было бы применить `set`, `dict`) без круглых скобок, которые используются для создания нового экземпляра объекта.\n",
    "\n",
    "Теперь тот же код, который вызывал ошибку при работе с обычным словарём, сработает так, как ожидается:"
   ]
  },
  {
   "cell_type": "code",
   "execution_count": 32,
   "metadata": {},
   "outputs": [
    {
     "name": "stdout",
     "output_type": "stream",
     "text": [
      "defaultdict(<class 'list'>, {1: ['Ivanov', 'Kuznetsova'], 4: ['Smirnov'], 3: ['Petrov', 'Markov'], 2: ['Nikitina', 'Pavlov']})\n"
     ]
    }
   ],
   "source": [
    "for student, group in students:\n",
    "    groups[group].append(student)\n",
    " \n",
    "print(groups)"
   ]
  },
  {
   "attachments": {},
   "cell_type": "markdown",
   "metadata": {},
   "source": [
    "В выводе есть небольшое отличие от обычного словаря: печатаются не только элементы словаря, но и само название объекта `defaultdict`, а также класс объекта, который задан по умолчанию. В данном случае это `<class 'list'>`. \n",
    "\n",
    "Получить элемент из `defaultdict` по ключу можно так же, как и из обычного словаря:"
   ]
  },
  {
   "cell_type": "code",
   "execution_count": 33,
   "metadata": {},
   "outputs": [
    {
     "name": "stdout",
     "output_type": "stream",
     "text": [
      "['Petrov', 'Markov']\n"
     ]
    }
   ],
   "source": [
    "print(groups[3])"
   ]
  },
  {
   "attachments": {},
   "cell_type": "markdown",
   "metadata": {},
   "source": [
    "Если запрашиваемого ключа нет в словаре, `KeyError` не возникнет. Вместо этого будет напечатан пустой элемент, который создаётся в словаре по умолчанию:"
   ]
  },
  {
   "cell_type": "code",
   "execution_count": 34,
   "metadata": {},
   "outputs": [
    {
     "name": "stdout",
     "output_type": "stream",
     "text": [
      "[]\n"
     ]
    }
   ],
   "source": [
    "print(groups[2021])"
   ]
  },
  {
   "attachments": {},
   "cell_type": "markdown",
   "metadata": {},
   "source": [
    "Теперь в словаре `groups` автоматически появился элемент 2021 с пустым списком внутри, несмотря на то что мы его не создавали:"
   ]
  },
  {
   "cell_type": "code",
   "execution_count": 35,
   "metadata": {},
   "outputs": [
    {
     "name": "stdout",
     "output_type": "stream",
     "text": [
      "defaultdict(<class 'list'>, {1: ['Ivanov', 'Kuznetsova'], 4: ['Smirnov'], 3: ['Petrov', 'Markov'], 2: ['Nikitina', 'Pavlov'], 2021: []})\n"
     ]
    }
   ],
   "source": [
    "print(groups)"
   ]
  },
  {
   "attachments": {},
   "cell_type": "markdown",
   "metadata": {},
   "source": [
    "Итак, вы обратили внимание, что поведение `defaultdict` в коде отличается от обычного словаря `dict`. Узнать, с каким именно словарём мы имеем дело в коде, можно с помощью встроенной функции type:"
   ]
  },
  {
   "cell_type": "code",
   "execution_count": 36,
   "metadata": {},
   "outputs": [
    {
     "name": "stdout",
     "output_type": "stream",
     "text": [
      "<class 'dict'>\n",
      "<class 'collections.defaultdict'>\n"
     ]
    }
   ],
   "source": [
    "dict_object = dict()\n",
    "defaultdict_object = defaultdict()\n",
    " \n",
    "print(type(dict_object))\n",
    "# <class 'dict'>\n",
    "print(type(defaultdict_object))\n",
    "# <class 'collections.defaultdict'>"
   ]
  },
  {
   "attachments": {},
   "cell_type": "markdown",
   "metadata": {},
   "source": [
    "Видно, что типы переменных `dict_object` и `defaultdict_object` отличаются."
   ]
  },
  {
   "cell_type": "code",
   "execution_count": 37,
   "metadata": {},
   "outputs": [
    {
     "name": "stdout",
     "output_type": "stream",
     "text": [
      "{}\n",
      "defaultdict(None, {})\n"
     ]
    }
   ],
   "source": [
    "print(dict_object)\n",
    "# {}\n",
    "print(defaultdict_object)\n",
    "# defaultdict(None, {})"
   ]
  },
  {
   "attachments": {},
   "cell_type": "markdown",
   "metadata": {},
   "source": [
    "## Collections. Deque и OrderedDict <a class=\"anchor\" id=\"3\"></a>\n",
    "\n",
    "[к содержанию](#0)\n",
    "\n",
    "### ORDEREDDICT\n",
    "\n",
    "В далёкие времена (а точнее, до 2018 года) словари в Python не сохраняли порядок ключей, которые в них добавляли. Попробуйте в Codeboard создать несколько раз словарь с одними и теми же ключами и значениями и напечатать его:"
   ]
  },
  {
   "cell_type": "code",
   "execution_count": 38,
   "metadata": {},
   "outputs": [
    {
     "name": "stdout",
     "output_type": "stream",
     "text": [
      "{'Ivan': 19, 'Mark': 25, 'Andrey': 23, 'Maria': 20}\n"
     ]
    }
   ],
   "source": [
    "# Напоминаем способ создания словаря через список кортежей\n",
    "# (ключ, значение)\n",
    "data = [('Ivan', 19),('Mark', 25),('Andrey', 23),('Maria', 20)]\n",
    "client_ages = dict(data)\n",
    "print(client_ages)\n",
    "# По результатам 3 повторов получились вот такие результаты:\n",
    "# {'Maria': 20, 'Mark': 25, 'Ivan': 19, 'Andrey': 23}\n",
    "# {'Ivan': 19, 'Andrey': 23, 'Mark': 25, 'Maria': 20}\n",
    "# {'Andrey': 23, 'Mark': 25, 'Maria': 20, 'Ivan': 19}"
   ]
  },
  {
   "attachments": {},
   "cell_type": "markdown",
   "metadata": {},
   "source": [
    "Как видите, каждый раз при повторном запуске кода порядок элементов меняется. Изначально объект `dict` не гарантировал выдачу ключей и значений в порядке их добавления.\n",
    "\n",
    "Сохранение ключей в словаре в порядке добавления не всегда является существенным, но при необходимости словарь с таким функционалом можно получить из модуля `collections`."
   ]
  },
  {
   "cell_type": "code",
   "execution_count": 39,
   "metadata": {},
   "outputs": [
    {
     "name": "stdout",
     "output_type": "stream",
     "text": [
      "OrderedDict([('Ivan', 19), ('Mark', 25), ('Andrey', 23), ('Maria', 20)])\n"
     ]
    }
   ],
   "source": [
    "from collections import OrderedDict\n",
    "data = [('Ivan', 19),('Mark', 25),('Andrey', 23),('Maria', 20)]\n",
    "ordered_client_ages = OrderedDict(data)\n",
    "print(ordered_client_ages)\n",
    "# По результатам 3 повторов получились вот такие результаты:\n",
    "# OrderedDict([('Ivan', 19), ('Mark', 25), ('Andrey', 23), ('Maria', 20)])\n",
    "# OrderedDict([('Ivan', 19), ('Mark', 25), ('Andrey', 23), ('Maria', 20)])\n",
    "# OrderedDict([('Ivan', 19), ('Mark', 25), ('Andrey', 23), ('Maria', 20)])"
   ]
  },
  {
   "attachments": {},
   "cell_type": "markdown",
   "metadata": {},
   "source": [
    "Как видите, порядок добавленных ключей сохраняется. Также при выводе словаря на экран печатается тип данных (`OrderedDict`), к которому он относится.\n",
    "\n",
    "Можно, например, отсортировать с помощью функции `sorted` список кортежей при создании из него `OrderedDict`, и объекты будут добавлены в порядке сортировки:"
   ]
  },
  {
   "cell_type": "code",
   "execution_count": 40,
   "metadata": {},
   "outputs": [
    {
     "name": "stdout",
     "output_type": "stream",
     "text": [
      "OrderedDict([('Ivan', 19), ('Maria', 20), ('Andrey', 23), ('Mark', 25)])\n"
     ]
    }
   ],
   "source": [
    "data = [('Ivan', 19),('Mark', 25),('Andrey', 23),('Maria', 20)]\n",
    "# Сортируем по второму значению из кортежа, то есть по возрасту\n",
    "ordered_client_ages = OrderedDict(sorted(data, key=lambda x: x[1]))\n",
    "print(ordered_client_ages)\n",
    "# OrderedDict([('Ivan', 19), ('Maria', 20), ('Andrey', 23), ('Mark', 25)])"
   ]
  },
  {
   "attachments": {},
   "cell_type": "markdown",
   "metadata": {},
   "source": [
    "Если теперь добавить нового человека в словарь, новая запись окажется в конце:"
   ]
  },
  {
   "cell_type": "code",
   "execution_count": 41,
   "metadata": {},
   "outputs": [
    {
     "name": "stdout",
     "output_type": "stream",
     "text": [
      "OrderedDict([('Ivan', 19), ('Maria', 20), ('Andrey', 23), ('Mark', 25), ('Nikita', 18)])\n"
     ]
    }
   ],
   "source": [
    "ordered_client_ages['Nikita'] = 18\n",
    "print(ordered_client_ages)\n",
    "# OrderedDict([('Ivan', 19), ('Maria', 20), ('Andrey', 23), ('Mark', 25), ('Nikita', 18)])"
   ]
  },
  {
   "attachments": {},
   "cell_type": "markdown",
   "metadata": {},
   "source": [
    "Если удалить элемент, а затем добавить его снова, он также окажется в конце:"
   ]
  },
  {
   "cell_type": "code",
   "execution_count": 42,
   "metadata": {},
   "outputs": [
    {
     "name": "stdout",
     "output_type": "stream",
     "text": [
      "OrderedDict([('Ivan', 19), ('Maria', 20), ('Mark', 25), ('Nikita', 18)])\n",
      "OrderedDict([('Ivan', 19), ('Maria', 20), ('Mark', 25), ('Nikita', 18), ('Andrey', 23)])\n"
     ]
    }
   ],
   "source": [
    "del ordered_client_ages['Andrey']\n",
    "print(ordered_client_ages)\n",
    "# OrderedDict([('Ivan', 19), ('Mark', 25), ('Maria', 20), ('Nikita', 18)])\n",
    "ordered_client_ages['Andrey'] = 23\n",
    "print(ordered_client_ages)\n",
    "# OrderedDict([('Ivan', 19), ('Mark', 25), ('Maria', 20), ('Nikita', 18), ('Andrey', 23)])"
   ]
  },
  {
   "attachments": {},
   "cell_type": "markdown",
   "metadata": {},
   "source": [
    "⭐ Хорошие новости! Начиная с версии Python 3.7, гарантируется сохранение ключей в том порядке, в котором они добавлялись в словарь. Однако вам следует помнить о том, что в более старых версиях Python порядок ключей не сохраняется. Это важно для обратной совместимости, то есть для корректной работы программы со старыми версиями интерпретатора. Например, если требуется, чтобы код работал и с версиями Python старше 3.7, и в нём используется очерёдность ключей в словаре, необходимо создавать `OrderedDict` вместо `dict`."
   ]
  },
  {
   "attachments": {},
   "cell_type": "markdown",
   "metadata": {},
   "source": [
    "## DEQUE <a class=\"anchor\" id=\"3-2\"></a>\n",
    "\n",
    "[к содержанию](#0)\n",
    "\n",
    "Вы уже умеете использовать такую упорядоченную структуру данных, как список. Существуют и другие упорядоченные структуры данных. В данном случае речь пойдёт про **очереди** и **рюкзаки** (**стеки**). Они применяются при решении некоторых задач (в том числе довольно сложных), поэтому иметь представление об этих объектах очень важно. Также про стеки и очереди вас могут спросить на собеседовании, поскольку знание этих объектов показывает общую IT-грамотность специалиста.\n",
    "\n",
    ">Очередь — это упорядоченный тип данных, который обладает двумя ключевыми функциями: добавление элемента в конец очереди и извлечение самого первого элемента из очереди. То есть очередь подразумевает, что тот элемент, который первым добавлен в очередь, будет первым потом и обработан. Всё как в обычной очереди! Этот принцип сокращённо также называется FIFO (от англ. First In — First Out, «первым пришёл — первым ушёл»).\n",
    "\n",
    "Очереди часто используются на серверах для обработки поступающих на них задач. Например, программист запускает для вычисления задачу, которая занимает все вычислительные возможности сервера. Новые задачи не могут быть запущены в обработку сразу, поэтому вынуждены находиться в очереди: когда на сервер поступает новая задача, с помощью обязательной для очереди функции «добавить в очередь» задача добавляется в конец очереди.\n",
    "\n",
    "Когда сервер освободится от задачи, будет запущена функция «извлечь из очереди», и сервер запустит в обработку следующую по очереди задачу. При этом та задача, которая была добавлена в очередь самой первой, будет и обработана самой первой, то есть «в порядке очереди».\n",
    "\n",
    ">Стек (от англ. stack — стопка) — это упорядоченный тип данных, который обладает двумя основными функциями: добавление элемента в конец стека и извлечение элемента из конца стека. Эта структура данных также называется рюкзаком. Действительно, представьте себе, что вы набили вещами рюкзак. Теперь, когда вы решите достать из него самую верхнюю вещь, что это будет за вещь? Верно — та самая, которую вы убрали в рюкзак последней. Поэтому принцип стека (рюкзака) также сокращённо называется LIFO (Last In — First Out, «последним пришёл — первым ушёл»).\n",
    "\n",
    "Наконец, существует структура данных `deque` (читается как «дек», англ. `double-ended queue` — двухконцевая очередь). Она объединяет в себе возможности и стека, и очереди: содержит функции, которые позволяют добавлять элементы в начало или в конец очереди, а также извлекать первый или последний элемент из неё. "
   ]
  },
  {
   "attachments": {},
   "cell_type": "markdown",
   "metadata": {},
   "source": [
    "В Python `deque` уже реализован, и им можно пользоваться для решения задач, для которых требуется как стек, так и очередь. При этом вы как разработчик уже самостоятельно решаете, каким именно функционалом из `deque` вы будете пользоваться для решения вашей задачи: либо вы будете обрабатывать элементы в порядке очереди, либо будете добавлять и извлекать элементы с помощью функций для стека. Также можно добавлять и извлекать данные с обеих доступных сторон: нельзя указать, что вы собираетесь использовать `deque`  только как стек или очередь.\n",
    "\n",
    "Создадим пустой дек (`deque`). Для этого сначала импортируем эту структуру данных из модуля `collections`, а затем создадим её пустой экземпляр:"
   ]
  },
  {
   "cell_type": "code",
   "execution_count": 43,
   "metadata": {},
   "outputs": [
    {
     "name": "stdout",
     "output_type": "stream",
     "text": [
      "deque([])\n"
     ]
    }
   ],
   "source": [
    "from collections import deque\n",
    "dq = deque()\n",
    "print(dq)\n",
    "# deque([])"
   ]
  },
  {
   "attachments": {},
   "cell_type": "markdown",
   "metadata": {},
   "source": [
    "У `deque` есть четыре ключевые функции:\n",
    "\n",
    "* `append` (добавить элемент в конец дека);\n",
    "* `appendleft` (добавить элемент в начало дека);\n",
    "* `pop` (удалить и вернуть элемент из конца дека);\n",
    "* `popleft` (удалить и вернуть элемент из начала дека).\n",
    "\n",
    "\n",
    "Рассмотрим их на примере.\n",
    "\n",
    "Начался рабочий день, и в службу поддержки оператора связи стали поступать звонки от клиентов. В какой-то момент свободные операторы закончились и начала образовываться очередь в ожидании. Добавим несколько человек в очередь с помощью append:"
   ]
  },
  {
   "cell_type": "code",
   "execution_count": 44,
   "metadata": {},
   "outputs": [
    {
     "name": "stdout",
     "output_type": "stream",
     "text": [
      "deque(['Ivanov', 'Petrov', 'Smirnov', 'Tikhonova'])\n"
     ]
    }
   ],
   "source": [
    "clients = deque()\n",
    "clients.append('Ivanov')\n",
    "clients.append('Petrov')\n",
    "clients.append('Smirnov')\n",
    "clients.append('Tikhonova')\n",
    "print(clients)\n",
    "# deque(['Ivanov', 'Petrov', 'Smirnov', 'Tikhonova'])"
   ]
  },
  {
   "attachments": {},
   "cell_type": "markdown",
   "metadata": {},
   "source": [
    "Объект deque поддерживает индексацию по элементам:"
   ]
  },
  {
   "cell_type": "code",
   "execution_count": 45,
   "metadata": {},
   "outputs": [
    {
     "name": "stdout",
     "output_type": "stream",
     "text": [
      "Smirnov\n"
     ]
    }
   ],
   "source": [
    "print(clients[2])\n",
    "# Smirnov"
   ]
  },
  {
   "attachments": {},
   "cell_type": "markdown",
   "metadata": {},
   "source": [
    "Освободилось два оператора — заберём двоих человек из начала очереди с помощью `popleft`:"
   ]
  },
  {
   "cell_type": "code",
   "execution_count": 46,
   "metadata": {},
   "outputs": [
    {
     "name": "stdout",
     "output_type": "stream",
     "text": [
      "First client: Ivanov\n",
      "Second client: Petrov\n",
      "deque(['Smirnov', 'Tikhonova'])\n"
     ]
    }
   ],
   "source": [
    "first_client = clients.popleft()\n",
    "second_client = clients.popleft()\n",
    " \n",
    "print(\"First client:\", first_client)\n",
    "print(\"Second client:\", second_client)\n",
    "print(clients)\n",
    "# First client: Ivanov\n",
    "# Second client: Petrov\n",
    "# deque(['Smirnov', 'Tikhonova'])"
   ]
  },
  {
   "attachments": {},
   "cell_type": "markdown",
   "metadata": {},
   "source": [
    "Как видите, первые элементы исчезли из очереди. Функции `pop` и `popleft` возвращают тот элемент, который они удаляют (последний или первый соответственно).\n",
    "\n",
    "Вдруг появился VIP-клиент. Для него тоже нет свободного оператора, но добавить его нужно в начало очереди с помощью `appendleft`:"
   ]
  },
  {
   "cell_type": "code",
   "execution_count": 47,
   "metadata": {},
   "outputs": [
    {
     "name": "stdout",
     "output_type": "stream",
     "text": [
      "deque(['Vip-client', 'Smirnov', 'Tikhonova'])\n"
     ]
    }
   ],
   "source": [
    "clients.appendleft('Vip-client')\n",
    " \n",
    "print(clients)\n",
    "# deque(['Vip-client', 'Smirnov', 'Tikhonova'])"
   ]
  },
  {
   "attachments": {},
   "cell_type": "markdown",
   "metadata": {},
   "source": [
    "VIP-клиент теперь оказался самым первым в очереди.\n",
    "\n",
    "Последний клиент в очереди устал ждать и отменил вызов. Удалим его с помощью `pop`:"
   ]
  },
  {
   "cell_type": "code",
   "execution_count": 48,
   "metadata": {},
   "outputs": [
    {
     "name": "stdout",
     "output_type": "stream",
     "text": [
      "Tikhonova left the queue\n",
      "deque(['Vip-client', 'Smirnov'])\n"
     ]
    }
   ],
   "source": [
    "tired_client = clients.pop()\n",
    "print(tired_client, \"left the queue\")\n",
    "print(clients)\n",
    "# Tikhonova left the queue\n",
    "# deque(['Vip-client', 'Smirnov'])"
   ]
  },
  {
   "attachments": {},
   "cell_type": "markdown",
   "metadata": {},
   "source": [
    "С помощью pop всегда удаляется последний элемент из дэка. Чтобы удалить конкретный элемент по индексу, необходимо воспользоваться встроенной конструкцией `del`:"
   ]
  },
  {
   "cell_type": "code",
   "execution_count": 49,
   "metadata": {},
   "outputs": [
    {
     "name": "stdout",
     "output_type": "stream",
     "text": [
      "deque(['Ivanov', 'Petrov', 'Smirnov', 'Tikhonova'])\n",
      "deque(['Ivanov', 'Petrov', 'Tikhonova'])\n"
     ]
    }
   ],
   "source": [
    "clients = deque(['Ivanov', 'Petrov', 'Smirnov', 'Tikhonova'])\n",
    "print(clients)\n",
    "# deque(['Ivanov', 'Petrov', 'Smirnov', 'Tikhonova'])\n",
    "del clients[2]\n",
    "print(clients)\n",
    "# deque(['Ivanov', 'Petrov', 'Tikhonova'])"
   ]
  },
  {
   "attachments": {},
   "cell_type": "markdown",
   "metadata": {},
   "source": [
    "Также в очередь возможно добавить сразу несколько элементов из итерируемого объекта в дек. Для этого используют функции `extend` (добавить в конец дека) и `extendleft` (добавить в начало дека)."
   ]
  },
  {
   "cell_type": "code",
   "execution_count": 50,
   "metadata": {},
   "outputs": [
    {
     "name": "stdout",
     "output_type": "stream",
     "text": [
      "deque([1, 2, 3, 4, 5])\n",
      "deque([1, 2, 3, 4, 5, 11, 12, 13, 14, 15, 16, 17])\n"
     ]
    }
   ],
   "source": [
    "# В скобках передаём список при создании deque,\n",
    "# чтобы сразу добавить все его элементы в очередь\n",
    "shop = deque([1, 2, 3, 4, 5])\n",
    "print(shop)\n",
    "# deque([1, 2, 3, 4, 5])\n",
    "shop.extend([11, 12, 13, 14, 15, 16, 17])\n",
    "print(shop)\n",
    "# deque([1, 2, 3, 4, 5, 11, 12, 13, 14, 15, 16, 17])"
   ]
  },
  {
   "attachments": {},
   "cell_type": "markdown",
   "metadata": {},
   "source": [
    "Если вдруг у турфирмы имеется договорённость с магазином, что клиенты турфирмы обслуживаются вне очереди, добавим их в начало той же очереди с помощью `extendleft`:"
   ]
  },
  {
   "cell_type": "code",
   "execution_count": 51,
   "metadata": {},
   "outputs": [
    {
     "name": "stdout",
     "output_type": "stream",
     "text": [
      "deque([1, 2, 3, 4, 5])\n",
      "deque([17, 16, 15, 14, 13, 12, 11, 1, 2, 3, 4, 5])\n"
     ]
    }
   ],
   "source": [
    "shop = deque([1, 2, 3, 4, 5])\n",
    "print(shop)\n",
    "# deque([1, 2, 3, 4, 5])\n",
    "shop.extendleft([11, 12, 13, 14, 15, 16, 17])\n",
    "print(shop)\n",
    "# deque([17, 16, 15, 14, 13, 12, 11, 1, 2, 3, 4, 5])"
   ]
  },
  {
   "attachments": {},
   "cell_type": "markdown",
   "metadata": {},
   "source": [
    "Обратите внимание, что «клиенты из автобуса» оказались в очереди не в том порядке, в каком они «выходили из автобуса». То есть добавленные номера не только приписаны перед записанными в очереди номерами, но также порядок добавленных элементов поменялся на обратный. Это связано с тем, что действие функции `extendleft` аналогично многократному применению функции `appendleft`, поэтому самый последний клиент из автобуса оказался в итоге первым в очереди."
   ]
  },
  {
   "attachments": {},
   "cell_type": "markdown",
   "metadata": {},
   "source": [
    "### ОЧЕРЕДЬ С ОГРАНИЧЕННОЙ МАКСИМАЛЬНОЙ ДЛИНОЙ\n",
    "\n",
    "При создании очереди можно также указать её максимальную длину с помощью параметра `maxlen`. Сделать это можно как при создании пустой очереди, так и при создании очереди от заданного итерируемого объекта:"
   ]
  },
  {
   "cell_type": "code",
   "execution_count": 52,
   "metadata": {},
   "outputs": [
    {
     "name": "stdout",
     "output_type": "stream",
     "text": [
      "deque([], maxlen=3)\n",
      "deque([5, 6, 7], maxlen=3)\n"
     ]
    }
   ],
   "source": [
    "limited = deque(maxlen=3)\n",
    "print(limited)\n",
    "# deque([], maxlen=3)\n",
    " \n",
    "limited_from_list = deque([1,3,4,5,6,7], maxlen=3)\n",
    "print(limited_from_list)\n",
    "# deque([5, 6, 7], maxlen=3)"
   ]
  },
  {
   "attachments": {},
   "cell_type": "markdown",
   "metadata": {},
   "source": [
    "Обратите внимание, что теперь дополнительно печатается максимальная длина очереди.\n",
    "\n",
    "Также заметьте, что в очереди с ограниченной длиной сохраняются только последние элементы, а первые исчезают из памяти:"
   ]
  },
  {
   "cell_type": "code",
   "execution_count": 53,
   "metadata": {},
   "outputs": [
    {
     "name": "stdout",
     "output_type": "stream",
     "text": [
      "deque([1, 2, 3], maxlen=3)\n",
      "None\n",
      "deque([2, 3, 8], maxlen=3)\n"
     ]
    }
   ],
   "source": [
    "limited.extend([1,2,3])\n",
    "print(limited)\n",
    "# deque([1, 2, 3], maxlen=3)\n",
    " \n",
    "print(limited.append(8))\n",
    "# None\n",
    "print(limited)\n",
    "# deque([2, 3, 8], maxlen=3)"
   ]
  },
  {
   "attachments": {},
   "cell_type": "markdown",
   "metadata": {},
   "source": [
    "При этом, как видно из результата операции `limited.append(8)`, удаляемый элемент не возвращается, а просто исчезает.\n",
    "\n",
    "?Для чего может пригодиться такая возможность?\n",
    "\n",
    "Например, необходимость в таком инструменте возникает, когда за один раз необходимо обрабатывать строго фиксированное число элементов. Особенно это актуально для анализа динамики какого-то значения во времени.\n",
    "\n",
    "Ниже приведены средние дневные температуры в Москве за июль:"
   ]
  },
  {
   "cell_type": "code",
   "execution_count": 54,
   "metadata": {},
   "outputs": [],
   "source": [
    "temps = [20.6, 19.4, 19.0, 19.0, 22.1,\n",
    "        22.5, 22.8, 24.1, 25.6, 27.0,\n",
    "        27.0, 25.6, 26.8, 27.3, 22.5,\n",
    "        25.4, 24.4, 23.7, 23.6, 22.6,\n",
    "        20.4, 17.9, 17.3, 17.3, 18.1,\n",
    "        20.1, 22.2, 19.8, 21.3, 21.3,\n",
    "        21.9]"
   ]
  },
  {
   "attachments": {},
   "cell_type": "markdown",
   "metadata": {},
   "source": [
    "Посчитаем динамику средней температуры с **усреднением**(Такое преобразование называется **скользящим средним**. Оно позволяет сгладить колебания в данных и чётче увидеть тренд.) за каждые последние 7 дней для каждого рассматриваемого дня. Для этого воспользуемся очередью с параметром `maxlen=7`:"
   ]
  },
  {
   "cell_type": "code",
   "execution_count": 55,
   "metadata": {},
   "outputs": [
    {
     "name": "stdout",
     "output_type": "stream",
     "text": [
      "20.77; 21.27; 22.16; 23.3; 24.44; 24.94; 25.56; 26.2; 25.97; 25.94; 25.57; 25.1; 24.81; 24.21; 23.23; 22.57; 21.41; 20.4; 19.6; 19.1; 19.04; 18.96; 19.44; 20.01; 20.67; \n"
     ]
    }
   ],
   "source": [
    "days = deque(maxlen=7)\n",
    " \n",
    "for temp in temps:\n",
    "    # Добавляем температуру в очередь\n",
    "    days.append(temp)\n",
    "    # Если длина очереди оказалась равной максимальной длине очереди (7),\n",
    "    # печатаем среднюю температуру за последние 7 дней\n",
    "    if len(days) == days.maxlen:\n",
    "        print(round(sum(days) / len(days), 2), end='; ')\n",
    "# Напечатаем пустую строку, чтобы завершить действие параметра\n",
    "# end. Иначе следующая строка окажется напечатанной на предыдущей\n",
    "print(\"\")\n",
    "# Результат:\n",
    "# 20.77; 21.27; 22.16; 23.3; 24.44; 24.94; 25.56; 26.2; 25.97;\n",
    "# 25.94; 25.57; 25.1; 24.81; 24.21; 23.23; 22.57; 21.41; 20.4;\n",
    "# 19.6; 19.1; 19.04; 18.96; 19.44; 20.01; 20.67;"
   ]
  },
  {
   "attachments": {},
   "cell_type": "markdown",
   "metadata": {},
   "source": [
    "Как видите, для решения этой задачи очень подошла очередь с ограниченной длиной, поскольку нам не приходилось самостоятельно контролировать число элементов. Структура данных сама контролировала все технические детали.\n",
    "\n",
    "### ДОПОЛНИТЕЛЬНЫЕ ФУНКЦИИ\n",
    "\n",
    "Вы уже узнали основные функции `append`, `pop` и `extend` (а также их собратьев для аналогичных действий с левого конца дека). Теперь рассмотрим дополнительные функции, которые позволяют совершать действия с очередью.\n",
    "\n",
    "`reverse` позволяет поменять порядок элементов в очереди на обратный:"
   ]
  },
  {
   "cell_type": "code",
   "execution_count": 56,
   "metadata": {},
   "outputs": [
    {
     "name": "stdout",
     "output_type": "stream",
     "text": [
      "deque([1, 2, 3, 4, 5])\n",
      "deque([5, 4, 3, 2, 1])\n"
     ]
    }
   ],
   "source": [
    "dq = deque([1,2,3,4,5])\n",
    "print(dq)\n",
    "# deque([1, 2, 3, 4, 5])\n",
    " \n",
    "dq.reverse()\n",
    "print(dq)\n",
    "# deque([5, 4, 3, 2, 1])"
   ]
  },
  {
   "attachments": {},
   "cell_type": "markdown",
   "metadata": {},
   "source": [
    "`rotate` переносит `n` заданных элементов из конца очереди в начало:"
   ]
  },
  {
   "cell_type": "code",
   "execution_count": 57,
   "metadata": {},
   "outputs": [
    {
     "name": "stdout",
     "output_type": "stream",
     "text": [
      "deque([1, 2, 3, 4, 5])\n",
      "deque([4, 5, 1, 2, 3])\n"
     ]
    }
   ],
   "source": [
    "dq = deque([1,2,3,4,5])\n",
    "print(dq)\n",
    "# deque([1, 2, 3, 4, 5])\n",
    " \n",
    "dq.rotate(2)\n",
    "print(dq)\n",
    "# deque([4, 5, 1, 2, 3])"
   ]
  },
  {
   "attachments": {},
   "cell_type": "markdown",
   "metadata": {},
   "source": [
    "Элементы можно переносить и из начала в конец:"
   ]
  },
  {
   "cell_type": "code",
   "execution_count": 58,
   "metadata": {},
   "outputs": [
    {
     "name": "stdout",
     "output_type": "stream",
     "text": [
      "deque([1, 2, 3, 4, 5])\n",
      "deque([3, 4, 5, 1, 2])\n"
     ]
    }
   ],
   "source": [
    "dq = deque([1,2,3,4,5])\n",
    "print(dq)\n",
    "# deque([1, 2, 3, 4, 5])\n",
    " \n",
    "# Отрицательное значение аргумента переносит\n",
    "# n элементов из начала в конец\n",
    "dq.rotate(-2)\n",
    "print(dq)\n",
    "# deque([3, 4, 5, 1, 2])"
   ]
  },
  {
   "attachments": {},
   "cell_type": "markdown",
   "metadata": {},
   "source": [
    "Обратите внимание, что порядок внутри перенесённых элементов остался тем же, каким был изначально. Вспомните, в каком порядке добавляются элементы в начало очереди функцией `extend`, и сопоставьте с действием `rotate`.\n",
    "\n",
    "Функция `index` позволяет найти первый индекс искомого элемента, а `count` позволяет подсчитать, сколько раз элемент встретился в очереди (функции аналогичны одноимённым функциям для списков):"
   ]
  },
  {
   "cell_type": "code",
   "execution_count": 59,
   "metadata": {},
   "outputs": [
    {
     "name": "stdout",
     "output_type": "stream",
     "text": [
      "2\n",
      "6\n"
     ]
    }
   ],
   "source": [
    "dq = [1,2,4,2,3,1,5,4,4,4,4,4,3]\n",
    "print(dq.index(4))\n",
    "# 2\n",
    "print(dq.count(4))\n",
    "# 6"
   ]
  },
  {
   "attachments": {},
   "cell_type": "markdown",
   "metadata": {},
   "source": [
    "Обратите внимание, что при попытке узнать индекс несуществующего элемента возникнет ValueError:"
   ]
  },
  {
   "cell_type": "code",
   "execution_count": 60,
   "metadata": {},
   "outputs": [
    {
     "ename": "ValueError",
     "evalue": "25 is not in deque",
     "output_type": "error",
     "traceback": [
      "\u001b[1;31m---------------------------------------------------------------------------\u001b[0m",
      "\u001b[1;31mValueError\u001b[0m                                Traceback (most recent call last)",
      "\u001b[1;32mc:\\Личные документы\\Python\\Py\\p_9_numpy\\lecture_array.ipynb Ячейка 112\u001b[0m in \u001b[0;36m<cell line: 2>\u001b[1;34m()\u001b[0m\n\u001b[0;32m      <a href='vscode-notebook-cell:/c%3A/%D0%9B%D0%B8%D1%87%D0%BD%D1%8B%D0%B5%20%D0%B4%D0%BE%D0%BA%D1%83%D0%BC%D0%B5%D0%BD%D1%82%D1%8B/Python/Py/p_9_numpy/lecture_array.ipynb#ch0000181?line=0'>1</a>\u001b[0m dq \u001b[39m=\u001b[39m deque([\u001b[39m1\u001b[39m,\u001b[39m2\u001b[39m,\u001b[39m4\u001b[39m,\u001b[39m2\u001b[39m,\u001b[39m3\u001b[39m,\u001b[39m1\u001b[39m,\u001b[39m5\u001b[39m,\u001b[39m4\u001b[39m,\u001b[39m4\u001b[39m,\u001b[39m4\u001b[39m,\u001b[39m4\u001b[39m,\u001b[39m4\u001b[39m,\u001b[39m3\u001b[39m])\n\u001b[1;32m----> <a href='vscode-notebook-cell:/c%3A/%D0%9B%D0%B8%D1%87%D0%BD%D1%8B%D0%B5%20%D0%B4%D0%BE%D0%BA%D1%83%D0%BC%D0%B5%D0%BD%D1%82%D1%8B/Python/Py/p_9_numpy/lecture_array.ipynb#ch0000181?line=1'>2</a>\u001b[0m \u001b[39mprint\u001b[39m(dq\u001b[39m.\u001b[39;49mindex(\u001b[39m25\u001b[39;49m))\n",
      "\u001b[1;31mValueError\u001b[0m: 25 is not in deque"
     ]
    }
   ],
   "source": [
    "dq = deque([1,2,4,2,3,1,5,4,4,4,4,4,3])\n",
    "print(dq.index(25))\n",
    "# ValueError: 25 is not in deque"
   ]
  },
  {
   "attachments": {},
   "cell_type": "markdown",
   "metadata": {},
   "source": [
    "А вот посчитать несуществующий элемент можно (получится просто 0):"
   ]
  },
  {
   "cell_type": "code",
   "execution_count": 61,
   "metadata": {},
   "outputs": [
    {
     "name": "stdout",
     "output_type": "stream",
     "text": [
      "0\n"
     ]
    }
   ],
   "source": [
    "dq = deque([1,2,4,2,3,1,5,4,4,4,4,4,3])\n",
    "print(dq.count(25))\n",
    "# 0"
   ]
  },
  {
   "attachments": {},
   "cell_type": "markdown",
   "metadata": {},
   "source": [
    "Наконец, функция `clear` позволяет очистить очередь:\n"
   ]
  },
  {
   "cell_type": "code",
   "execution_count": 62,
   "metadata": {},
   "outputs": [
    {
     "name": "stdout",
     "output_type": "stream",
     "text": [
      "deque([1, 2, 4, 2, 3, 1, 5, 4, 4, 4, 4, 4, 3])\n",
      "deque([])\n"
     ]
    }
   ],
   "source": [
    "dq = deque([1,2,4,2,3,1,5,4,4,4,4,4,3])\n",
    "print(dq)\n",
    "# deque([1, 2, 4, 2, 3, 1, 5, 4, 4, 4, 4, 4, 3])\n",
    "dq.clear()\n",
    "print(dq)\n",
    "# deque([])"
   ]
  },
  {
   "attachments": {},
   "cell_type": "markdown",
   "metadata": {},
   "source": [
    "## NumPy. Типы данных <a class=\"anchor\" id=\"5\"></a>\n",
    "\n",
    "[к содержанию](#0)\n",
    "\n",
    "ТИПЫ ДАННЫХ\n",
    "\n",
    "Когда вы только начали изучать Python, вы узнали, что существуют различные типы данных: строковые (str), целочисленные (int), числа с плавающей точкой (float), булевы (bool). Также вы научились преобразовывать одни типы данных в другие, используя встроенные в Python возможности.\n",
    "\n",
    "Сейчас вам предстоит изучить типы данных, которые используются в NumPy. К счастью, они основываются на уже знакомых вам типах данных, однако обладают некоторыми особенностями.\n",
    "\n",
    ">Чтобы лучше понимать суть встроенных в NumPy типов данных, сначала вспомним, как данные хранятся в компьютере.\n",
    "\n",
    "По сути, данные в памяти компьютера представлены последовательностью из 0 и 1.\n",
    "\n",
    ">Такая одна позиция в памяти, в которой может храниться 0 или 1, называется битом.\n",
    "\n",
    ">В памяти компьютера принято объединять биты в группы по 8 штук. Группа из 8 битов называется байтом.\n",
    "\n",
    "На самом деле, минимальная ячейка памяти, с которой обычно работают программы, — это всё же байт.\n",
    "\n",
    "Сколько различных чисел можно записать в 1 бит? Два числа: 0 или 1. А в 2 бита? Уже четыре: 00 -> 0, 01 -> 1, 10 -> 2, 11 -> 3. В три бита войдёт уже восемь чисел: 000 -> 0, 001 -> 1, 010 -> 2, 011 -> 3, 100 -> 4, 101 -> 5, 110 -> 6, 111 -> 7.\n",
    "\n",
    "Заметьте, что каждый раз число возможных вариантов увеличивается в два раза. Таким образом, существует формула, позволяющая узнать максимальное число последовательностей из n 0 и 1:"
   ]
  },
  {
   "attachments": {},
   "cell_type": "markdown",
   "metadata": {},
   "source": [
    "Сколько же чисел войдёт в 1 байт? 2 ** 8 = 256. Если мы захотим записать в байт целые неотрицательные числа, мы сможем записать числа от 0 до 255 включительно.\n",
    "\n",
    ">Обратите внимание, число 256 вписать уже не получится, поскольку считать начали не с 1, а с 0."
   ]
  },
  {
   "attachments": {},
   "cell_type": "markdown",
   "metadata": {},
   "source": [
    "### ЦЕЛОЧИСЛЕННЫЕ ТИПЫ ДАННЫХ В NUMPY <a class=\"anchor\" id=\"5-1\"></a>\n",
    "\n",
    "[к содержанию](#0)\n",
    "\n",
    "Вся предыдущая теория была необходима для лучшего понимания того, как строятся названия типов данных в NumPy.\n",
    "\n",
    "Начнём с целочисленных типов данных в NumPy.\n",
    "\n",
    ">Это тип данных с общим корнем `int`. Int может быть со следующими окончаниями: `int8`, `int16`, `int32` и `int64`. Окончание типа данных в NumPy показывает, сколько битов памяти должно быть выделено для хранения переменной.\n",
    "\n",
    "Преобразуем обычное целое число в NumPy-тип, например в `int8`. Для этого напишем выражение `np.int8` и круглые скобки. В круглых скобках в качестве аргумента передадим тот объект, который должен быть преобразован:"
   ]
  },
  {
   "cell_type": "code",
   "execution_count": 63,
   "metadata": {},
   "outputs": [
    {
     "name": "stdout",
     "output_type": "stream",
     "text": [
      "25\n"
     ]
    }
   ],
   "source": [
    "import numpy as np\n",
    "a = np.int8(25)\n",
    "print(a)\n",
    "# 25"
   ]
  },
  {
   "attachments": {},
   "cell_type": "markdown",
   "metadata": {},
   "source": [
    "Как видите, при печати нет никакой разницы между встроенным `int` и `np.int8`. Как же понять, что в a теперь действительно NumPy-тип данных? Воспользуемся функцией `type`:"
   ]
  },
  {
   "cell_type": "code",
   "execution_count": 64,
   "metadata": {},
   "outputs": [
    {
     "name": "stdout",
     "output_type": "stream",
     "text": [
      "<class 'numpy.int8'>\n"
     ]
    }
   ],
   "source": [
    "print(type(a))\n",
    "# <class 'numpy.int8'>"
   ]
  },
  {
   "attachments": {},
   "cell_type": "markdown",
   "metadata": {},
   "source": [
    "В самом деле, переменная a теперь принадлежит к типу `int8`. \n",
    "\n",
    "Ранее вы изучили, как по заданному числу бит узнать, в каких границах может находиться целое число в памяти. На самом деле с NumPy вам не потребуется считать это вручную!\n",
    "\n",
    "Чтобы узнать границы `int`, можно воспользоваться функцией `np.iinfo` (`int info`):"
   ]
  },
  {
   "cell_type": "code",
   "execution_count": 65,
   "metadata": {},
   "outputs": [
    {
     "data": {
      "text/plain": [
       "iinfo(min=-128, max=127, dtype=int8)"
      ]
     },
     "execution_count": 65,
     "metadata": {},
     "output_type": "execute_result"
    }
   ],
   "source": [
    "# Можно применить к самому\n",
    "# названию типа данных\n",
    "np.iinfo(np.int8)\n",
    "# iinfo(min=-128, max=127, dtype=int8)\n",
    "\n",
    "# Можно применить к существующему\n",
    "# конкретному объекту\n",
    "np.iinfo(a)\n",
    "# iinfo(min=-128, max=127, dtype=int8)"
   ]
  },
  {
   "attachments": {},
   "cell_type": "markdown",
   "metadata": {},
   "source": [
    "В NumPy доступны и беззнаковые целочисленные типы данных. Они имеют корень `uint` (`unsigned int` — беззнаковое целое). `uint` доступны также с выделением памяти в 8, 16, 32 и 64 бита. При этом максимально возможное число оказывается в два раза больше, чем для соответствующего `int`, поскольку отрицательные числа исключены из типа данных `uint`."
   ]
  },
  {
   "cell_type": "code",
   "execution_count": 66,
   "metadata": {},
   "outputs": [
    {
     "name": "stdout",
     "output_type": "stream",
     "text": [
      "124\n",
      "<class 'numpy.uint8'>\n"
     ]
    },
    {
     "data": {
      "text/plain": [
       "iinfo(min=0, max=255, dtype=uint8)"
      ]
     },
     "execution_count": 66,
     "metadata": {},
     "output_type": "execute_result"
    }
   ],
   "source": [
    "b = np.uint8(124)\n",
    "print(b)\n",
    "# 124\n",
    "print(type(b))\n",
    "# <class 'numpy.uint8'>\n",
    "np.iinfo(b)\n",
    "# iinfo(min=0, max=255, dtype=uint8)"
   ]
  },
  {
   "attachments": {},
   "cell_type": "markdown",
   "metadata": {},
   "source": [
    "Сравните вывод `iinfo` с аналогичным выводом для `int8`. Обратите внимание на минимальное и максимальное значения."
   ]
  },
  {
   "attachments": {},
   "cell_type": "markdown",
   "metadata": {},
   "source": [
    "Как вы могли заметить на примере целочисленных типов, преобразовывать числа довольно просто: главное, не забыть написать np, указать новый тип данных, а в скобках передать то число или ту переменную, которую необходимо преобразовать. Однако следует учитывать несколько моментов.\n",
    "\n",
    "Тип данных **не сохранится**, если просто присвоить переменной с заданным NumPy-типом данных новое значение:"
   ]
  },
  {
   "cell_type": "code",
   "execution_count": 67,
   "metadata": {},
   "outputs": [
    {
     "name": "stdout",
     "output_type": "stream",
     "text": [
      "1000\n",
      "<class 'numpy.int32'>\n",
      "2056\n",
      "<class 'int'>\n"
     ]
    }
   ],
   "source": [
    "a = np.int32(1000)\n",
    "print(a)\n",
    "# 1000\n",
    "print(type(a))\n",
    "# <class 'numpy.int32'>\n",
    "a = 2056\n",
    "print(a)\n",
    "# 2056\n",
    "print(type(a))\n",
    "# <class 'int'>"
   ]
  },
  {
   "attachments": {},
   "cell_type": "markdown",
   "metadata": {},
   "source": [
    "Вместо этого следует снова указать нужный NumPy-тип данных:"
   ]
  },
  {
   "cell_type": "code",
   "execution_count": 68,
   "metadata": {},
   "outputs": [
    {
     "name": "stdout",
     "output_type": "stream",
     "text": [
      "1000\n",
      "<class 'numpy.int32'>\n",
      "2056\n",
      "<class 'numpy.int32'>\n"
     ]
    }
   ],
   "source": [
    "a = np.int32(1000)\n",
    "print(a)\n",
    "# 1000\n",
    "print(type(a))\n",
    "# <class 'numpy.int32'>\n",
    "a = np.int32(2056)\n",
    "print(a)\n",
    "# 2056\n",
    "print(type(a))\n",
    "# <class 'numpy.int32'>"
   ]
  },
  {
   "attachments": {},
   "cell_type": "markdown",
   "metadata": {},
   "source": [
    "А вот арифметические операции сохраняют NumPy-тип данных:"
   ]
  },
  {
   "cell_type": "code",
   "execution_count": 69,
   "metadata": {},
   "outputs": [
    {
     "name": "stdout",
     "output_type": "stream",
     "text": [
      "1025\n",
      "<class 'numpy.int32'>\n"
     ]
    }
   ],
   "source": [
    "a = np.int32(1000)\n",
    "b = a + 25\n",
    "print(b)\n",
    "# 1025\n",
    "print(type(b))\n",
    "# <class 'numpy.int64'>"
   ]
  },
  {
   "attachments": {},
   "cell_type": "markdown",
   "metadata": {},
   "source": [
    "Если операция проводится с двумя NumPy-типами с фиксированным объёмом памяти, в результате сохраняется наиболее «старший» тип:"
   ]
  },
  {
   "cell_type": "code",
   "execution_count": null,
   "metadata": {},
   "outputs": [],
   "source": [
    "a = np.int32(1000)\n",
    "b = np.int8(25)\n",
    "c = a + b\n",
    "print(c)\n",
    "# 1025\n",
    "print(type(c))\n",
    "# <class 'numpy.int32'>"
   ]
  },
  {
   "attachments": {},
   "cell_type": "markdown",
   "metadata": {},
   "source": [
    "Следует понимать, что произойдёт, если выделенной памяти для хранения переменной окажется недостаточно.\n",
    "\n",
    "Например, попробуем преобразовать число 260 в тип данных `np.int8`. Вспомните, какое максимальное число может храниться в этом типе данных."
   ]
  },
  {
   "cell_type": "code",
   "execution_count": 70,
   "metadata": {},
   "outputs": [
    {
     "name": "stdout",
     "output_type": "stream",
     "text": [
      "4\n"
     ]
    }
   ],
   "source": [
    "a = np.int8(260)\n",
    "print(a)\n",
    "# 4"
   ]
  },
  {
   "attachments": {},
   "cell_type": "markdown",
   "metadata": {},
   "source": [
    "Например, выполним сложение двух очень больших чисел типа `int32` (максимум для этого типа — 2147483647):"
   ]
  },
  {
   "cell_type": "code",
   "execution_count": 71,
   "metadata": {},
   "outputs": [
    {
     "name": "stdout",
     "output_type": "stream",
     "text": [
      "2147483610 2147483605\n",
      "-81\n"
     ]
    },
    {
     "name": "stderr",
     "output_type": "stream",
     "text": [
      "C:\\Users\\AubakirovMA\\AppData\\Local\\Temp\\ipykernel_17548\\2257502981.py:5: RuntimeWarning: overflow encountered in long_scalars\n",
      "  print(a + b)\n"
     ]
    }
   ],
   "source": [
    "a = np.int32(2147483610)\n",
    "b = np.int32(2147483605)\n",
    "print(a, b)\n",
    "# 2147483610 2147483605\n",
    "print(a + b)\n",
    "# -81\n",
    "# RuntimeWarning: overflow encountered in int_scalars\n",
    "# Переполнено int'овое значение"
   ]
  },
  {
   "attachments": {},
   "cell_type": "markdown",
   "metadata": {},
   "source": [
    "Значение было посчитано, но при этом оно явно отличается от той суммы, которую мы хотели получить.\n",
    "\n",
    "Чтобы избежать этой ошибки, вначале следовало преобразовать переменные к большему типу:"
   ]
  },
  {
   "cell_type": "code",
   "execution_count": 72,
   "metadata": {},
   "outputs": [
    {
     "name": "stdout",
     "output_type": "stream",
     "text": [
      "2147483610 2147483605\n",
      "4294967215\n"
     ]
    }
   ],
   "source": [
    "a = np.int32(2147483610)\n",
    "b = np.int32(2147483605)\n",
    "print(a, b)\n",
    "# 2147483610 2147483605\n",
    "print(np.int64(a) + np.int64(b))\n",
    "# 4294967215"
   ]
  },
  {
   "attachments": {},
   "cell_type": "markdown",
   "metadata": {},
   "source": [
    "### ТИПЫ ДАННЫХ С ПЛАВАЮЩЕЙ ТОЧКОЙ В NUMPY  <a class=\"anchor\" id=\"5-2\"></a>\n",
    "\n",
    "[к содержанию](#0)\n",
    "\n",
    "Помимо целых чисел, в NumPy, конечно, есть и дробные — `float`. Их названия строятся по тому же принципу: корень + объём памяти в битах. Беззнаковых `float` нет.\n",
    "\n",
    ">Доступны следующие типы данных `float`: `float16`, `float32`, `float64` (применяется по умолчанию, если объём памяти не задан дополнительно), `float128`.\n",
    "\n",
    "Чтобы узнать границы `float` и его точность, можно воспользоваться функцией `np.finfo(<float тип данных>)` (от англ. float info):"
   ]
  },
  {
   "cell_type": "code",
   "execution_count": 74,
   "metadata": {},
   "outputs": [
    {
     "data": {
      "text/plain": [
       "finfo(resolution=1e-15, min=-1.7976931348623157e+308, max=1.7976931348623157e+308, dtype=float64)"
      ]
     },
     "execution_count": 74,
     "metadata": {},
     "output_type": "execute_result"
    }
   ],
   "source": [
    "np.finfo(np.float16)\n",
    "# finfo(resolution=0.001, min=-6.55040e+04, max=6.55040e+04, dtype=float16)\n",
    "np.finfo(np.float32)\n",
    "# finfo(resolution=1e-06, min=-3.4028235e+38, max=3.4028235e+38, dtype=float32)\n",
    "np.finfo(np.float64)\n",
    "# finfo(resolution=1e-15, min=-1.7976931348623157e+308, max=1.7976931348623157e+308, dtype=float64)\n"
   ]
  },
  {
   "attachments": {},
   "cell_type": "markdown",
   "metadata": {},
   "source": [
    "`Resolution` (от англ. «разрешение») в выводе `finfo` означает точность, с которой сохраняется десятичная часть числа в стандартном виде. Для `float16` это `0.001`, то есть числа 4.12 и 4.13 будут отличимы друг от друга, а вот 4.124 и 4.125 — нет. Третий знак числа `float16` идёт уже с шагом `0.005`:"
   ]
  },
  {
   "cell_type": "code",
   "execution_count": 75,
   "metadata": {},
   "outputs": [
    {
     "name": "stdout",
     "output_type": "stream",
     "text": [
      "4.12\n",
      "4.13\n",
      "4.12\n",
      "4.125\n",
      "4.125\n"
     ]
    }
   ],
   "source": [
    "print(np.float16(4.12))\n",
    "# 4.12\n",
    "print(np.float16(4.13))\n",
    "# 4.13\n",
    "print(np.float16(4.123))\n",
    "# 4.12\n",
    "print(np.float16(4.124))\n",
    "# 4.125\n",
    "print(np.float16(4.125))\n",
    "# 4.125"
   ]
  },
  {
   "attachments": {},
   "cell_type": "markdown",
   "metadata": {},
   "source": [
    "### ДОПОЛНИТЕЛЬНЫЕ ТИПЫ ДАННЫХ В NUMPY\n",
    "\n",
    "Полный список (а точнее, словарь) типов данных в NumPy можно получить с помощью атрибута `sctypeDict`. Вывод не приводится, поскольку в этом словаре содержится более 100 ключей (их число может варьироваться в зависимости от версии NumPy)! Однако основные названия типов данных в NumPy не меняются от версии к версии."
   ]
  },
  {
   "cell_type": "code",
   "execution_count": 76,
   "metadata": {},
   "outputs": [
    {
     "name": "stdout",
     "output_type": "stream",
     "text": [
      "{'?': <class 'numpy.bool_'>, 0: <class 'numpy.bool_'>, 'byte': <class 'numpy.int8'>, 'b': <class 'numpy.int8'>, 1: <class 'numpy.int8'>, 'ubyte': <class 'numpy.uint8'>, 'B': <class 'numpy.uint8'>, 2: <class 'numpy.uint8'>, 'short': <class 'numpy.int16'>, 'h': <class 'numpy.int16'>, 3: <class 'numpy.int16'>, 'ushort': <class 'numpy.uint16'>, 'H': <class 'numpy.uint16'>, 4: <class 'numpy.uint16'>, 'i': <class 'numpy.intc'>, 5: <class 'numpy.intc'>, 'uint': <class 'numpy.uint32'>, 'I': <class 'numpy.uintc'>, 6: <class 'numpy.uintc'>, 'intp': <class 'numpy.int64'>, 'p': <class 'numpy.int64'>, 9: <class 'numpy.int64'>, 'uintp': <class 'numpy.uint64'>, 'P': <class 'numpy.uint64'>, 10: <class 'numpy.uint64'>, 'long': <class 'numpy.int32'>, 'l': <class 'numpy.int32'>, 7: <class 'numpy.int32'>, 'L': <class 'numpy.uint32'>, 8: <class 'numpy.uint32'>, 'longlong': <class 'numpy.int64'>, 'q': <class 'numpy.int64'>, 'ulonglong': <class 'numpy.uint64'>, 'Q': <class 'numpy.uint64'>, 'half': <class 'numpy.float16'>, 'e': <class 'numpy.float16'>, 23: <class 'numpy.float16'>, 'f': <class 'numpy.float32'>, 11: <class 'numpy.float32'>, 'double': <class 'numpy.float64'>, 'd': <class 'numpy.float64'>, 12: <class 'numpy.float64'>, 'longdouble': <class 'numpy.longdouble'>, 'g': <class 'numpy.longdouble'>, 13: <class 'numpy.longdouble'>, 'cfloat': <class 'numpy.complex128'>, 'F': <class 'numpy.complex64'>, 14: <class 'numpy.complex64'>, 'cdouble': <class 'numpy.complex128'>, 'D': <class 'numpy.complex128'>, 15: <class 'numpy.complex128'>, 'clongdouble': <class 'numpy.clongdouble'>, 'G': <class 'numpy.clongdouble'>, 16: <class 'numpy.clongdouble'>, 'O': <class 'numpy.object_'>, 17: <class 'numpy.object_'>, 'S': <class 'numpy.bytes_'>, 18: <class 'numpy.bytes_'>, 'unicode': <class 'numpy.str_'>, 'U': <class 'numpy.str_'>, 19: <class 'numpy.str_'>, 'void': <class 'numpy.void'>, 'V': <class 'numpy.void'>, 20: <class 'numpy.void'>, 'M': <class 'numpy.datetime64'>, 21: <class 'numpy.datetime64'>, 'm': <class 'numpy.timedelta64'>, 22: <class 'numpy.timedelta64'>, 'bool8': <class 'numpy.bool_'>, 'b1': <class 'numpy.bool_'>, 'int64': <class 'numpy.int64'>, 'i8': <class 'numpy.int64'>, 'uint64': <class 'numpy.uint64'>, 'u8': <class 'numpy.uint64'>, 'float16': <class 'numpy.float16'>, 'f2': <class 'numpy.float16'>, 'float32': <class 'numpy.float32'>, 'f4': <class 'numpy.float32'>, 'float64': <class 'numpy.float64'>, 'f8': <class 'numpy.float64'>, 'complex64': <class 'numpy.complex64'>, 'c8': <class 'numpy.complex64'>, 'complex128': <class 'numpy.complex128'>, 'c16': <class 'numpy.complex128'>, 'object0': <class 'numpy.object_'>, 'bytes0': <class 'numpy.bytes_'>, 'str0': <class 'numpy.str_'>, 'void0': <class 'numpy.void'>, 'datetime64': <class 'numpy.datetime64'>, 'M8': <class 'numpy.datetime64'>, 'timedelta64': <class 'numpy.timedelta64'>, 'm8': <class 'numpy.timedelta64'>, 'Bytes0': <class 'numpy.bytes_'>, 'Datetime64': <class 'numpy.datetime64'>, 'Str0': <class 'numpy.str_'>, 'Uint64': <class 'numpy.uint64'>, 'int32': <class 'numpy.int32'>, 'i4': <class 'numpy.int32'>, 'uint32': <class 'numpy.uint32'>, 'u4': <class 'numpy.uint32'>, 'int16': <class 'numpy.int16'>, 'i2': <class 'numpy.int16'>, 'uint16': <class 'numpy.uint16'>, 'u2': <class 'numpy.uint16'>, 'int8': <class 'numpy.int8'>, 'i1': <class 'numpy.int8'>, 'uint8': <class 'numpy.uint8'>, 'u1': <class 'numpy.uint8'>, 'complex_': <class 'numpy.complex128'>, 'int0': <class 'numpy.int64'>, 'uint0': <class 'numpy.uint64'>, 'single': <class 'numpy.float32'>, 'csingle': <class 'numpy.complex64'>, 'singlecomplex': <class 'numpy.complex64'>, 'float_': <class 'numpy.float64'>, 'intc': <class 'numpy.intc'>, 'uintc': <class 'numpy.uintc'>, 'int_': <class 'numpy.int32'>, 'longfloat': <class 'numpy.longdouble'>, 'clongfloat': <class 'numpy.clongdouble'>, 'longcomplex': <class 'numpy.clongdouble'>, 'bool_': <class 'numpy.bool_'>, 'bytes_': <class 'numpy.bytes_'>, 'string_': <class 'numpy.bytes_'>, 'str_': <class 'numpy.str_'>, 'unicode_': <class 'numpy.str_'>, 'object_': <class 'numpy.object_'>, 'int': <class 'numpy.int32'>, 'float': <class 'numpy.float64'>, 'complex': <class 'numpy.complex128'>, 'bool': <class 'numpy.bool_'>, 'object': <class 'numpy.object_'>, 'str': <class 'numpy.str_'>, 'bytes': <class 'numpy.bytes_'>, 'a': <class 'numpy.bytes_'>}\n",
      "135\n"
     ]
    }
   ],
   "source": [
    "print(np.sctypeDict)\n",
    "print(len(np.sctypeDict))\n",
    "# 158, но может быть 135 или 139"
   ]
  },
  {
   "attachments": {},
   "cell_type": "markdown",
   "metadata": {},
   "source": [
    "На самом деле реальных типов данных **гораздо меньше**, просто одни и те же типы данных могут иметь разные ярлыки. Получить список названий уникальных типов данных NumPy можно с помощью следующего выражения. Попробуйте вспомнить, что делают все функции, которые в нём использованы:"
   ]
  },
  {
   "cell_type": "code",
   "execution_count": 77,
   "metadata": {},
   "outputs": [
    {
     "name": "stdout",
     "output_type": "stream",
     "text": [
      "<class 'numpy.bool_'>\n",
      "<class 'numpy.bytes_'>\n",
      "<class 'numpy.clongdouble'>\n",
      "<class 'numpy.complex128'>\n",
      "<class 'numpy.complex64'>\n",
      "<class 'numpy.datetime64'>\n",
      "<class 'numpy.float16'>\n",
      "<class 'numpy.float32'>\n",
      "<class 'numpy.float64'>\n",
      "<class 'numpy.int16'>\n",
      "<class 'numpy.int32'>\n",
      "<class 'numpy.int64'>\n",
      "<class 'numpy.int8'>\n",
      "<class 'numpy.intc'>\n",
      "<class 'numpy.longdouble'>\n",
      "<class 'numpy.object_'>\n",
      "<class 'numpy.str_'>\n",
      "<class 'numpy.timedelta64'>\n",
      "<class 'numpy.uint16'>\n",
      "<class 'numpy.uint32'>\n",
      "<class 'numpy.uint64'>\n",
      "<class 'numpy.uint8'>\n",
      "<class 'numpy.uintc'>\n",
      "<class 'numpy.void'>\n"
     ]
    }
   ],
   "source": [
    "print(*sorted(map(str, set(np.sctypeDict.values()))), sep='\\n')"
   ]
  },
  {
   "attachments": {},
   "cell_type": "markdown",
   "metadata": {},
   "source": [
    ">Следует обратить внимание на типы данных `bool_` и `str_`. Они аналогичны bool и str из встроенных в Python, однако записывать их необходимо именно с нижним подчёркиванием, иначе произойдёт приведение к стандартному типу данных, а не типу NumPy. В целом, существенной разницы между этими типами данных нет, однако о такой двойственности следует помнить при сравнении типов переменных: тип `bool` не является эквивалентным `numpy.bool_`, несмотря на то что оба типа данных хранят значения `True` или `False`.\n",
    "\n",
    "**Примечание**: в версиях NumPy 1.20 и выше появится предупреждение, если попытаться привести типы с помощью `np.bool` или `np.str`, а не `np.bool_` или `np.str_`. Однако в более ранних версиях данное предупреждение не появляется."
   ]
  },
  {
   "cell_type": "code",
   "execution_count": 78,
   "metadata": {},
   "outputs": [
    {
     "name": "stdout",
     "output_type": "stream",
     "text": [
      "<class 'bool'>\n",
      "<class 'bool'>\n",
      "<class 'numpy.bool_'>\n",
      "True\n",
      "False\n"
     ]
    },
    {
     "name": "stderr",
     "output_type": "stream",
     "text": [
      "C:\\Users\\AubakirovMA\\AppData\\Local\\Temp\\ipykernel_17548\\1122834797.py:4: DeprecationWarning: `np.bool` is a deprecated alias for the builtin `bool`. To silence this warning, use `bool` by itself. Doing this will not modify any behavior and is safe. If you specifically wanted the numpy scalar type, use `np.bool_` here.\n",
      "Deprecated in NumPy 1.20; for more details and guidance: https://numpy.org/devdocs/release/1.20.0-notes.html#deprecations\n",
      "  a = np.bool(a)\n",
      "C:\\Users\\AubakirovMA\\AppData\\Local\\Temp\\ipykernel_17548\\1122834797.py:12: DeprecationWarning: `np.bool` is a deprecated alias for the builtin `bool`. To silence this warning, use `bool` by itself. Doing this will not modify any behavior and is safe. If you specifically wanted the numpy scalar type, use `np.bool_` here.\n",
      "Deprecated in NumPy 1.20; for more details and guidance: https://numpy.org/devdocs/release/1.20.0-notes.html#deprecations\n",
      "  print(np.bool(True) == np.bool_(True))\n",
      "C:\\Users\\AubakirovMA\\AppData\\Local\\Temp\\ipykernel_17548\\1122834797.py:15: DeprecationWarning: `np.bool` is a deprecated alias for the builtin `bool`. To silence this warning, use `bool` by itself. Doing this will not modify any behavior and is safe. If you specifically wanted the numpy scalar type, use `np.bool_` here.\n",
      "Deprecated in NumPy 1.20; for more details and guidance: https://numpy.org/devdocs/release/1.20.0-notes.html#deprecations\n",
      "  print(type(np.bool(True)) == type(np.bool_(True)))\n"
     ]
    }
   ],
   "source": [
    "a = True\n",
    "print(type(a))\n",
    "# <class 'bool'>\n",
    "a = np.bool(a)\n",
    "print(type(a))\n",
    "# <class 'bool'>\n",
    "a = np.bool_(a)\n",
    "print(type(a))\n",
    "# <class 'numpy.bool_'>\n",
    " \n",
    "# Значения равны\n",
    "print(np.bool(True) == np.bool_(True))\n",
    "# True\n",
    "# А типы — нет:\n",
    "print(type(np.bool(True)) == type(np.bool_(True)))\n",
    "# False"
   ]
  },
  {
   "cell_type": "code",
   "execution_count": 79,
   "metadata": {},
   "outputs": [
    {
     "name": "stdout",
     "output_type": "stream",
     "text": [
      "<class 'str'>\n",
      "<class 'str'>\n",
      "<class 'numpy.str_'>\n"
     ]
    },
    {
     "name": "stderr",
     "output_type": "stream",
     "text": [
      "C:\\Users\\AubakirovMA\\AppData\\Local\\Temp\\ipykernel_17548\\985064762.py:4: DeprecationWarning: `np.str` is a deprecated alias for the builtin `str`. To silence this warning, use `str` by itself. Doing this will not modify any behavior and is safe. If you specifically wanted the numpy scalar type, use `np.str_` here.\n",
      "Deprecated in NumPy 1.20; for more details and guidance: https://numpy.org/devdocs/release/1.20.0-notes.html#deprecations\n",
      "  a = np.str(a)\n"
     ]
    }
   ],
   "source": [
    "a = \"Hello world!\"\n",
    "print(type(a))\n",
    "# <class 'str'>\n",
    "a = np.str(a)\n",
    "print(type(a))\n",
    "# <class 'str'>\n",
    "a = np.str_(a)\n",
    "print(type(a))\n",
    "# <class 'numpy.str_'>"
   ]
  },
  {
   "attachments": {},
   "cell_type": "markdown",
   "metadata": {},
   "source": [
    "Небольшое замечание про `bool`: несмотря на то что для хранения значения истина/ложь было бы достаточно только одного бита, из-за особенностей работы с памятью компьютера булевая переменная всё равно занимает в памяти целый байт."
   ]
  },
  {
   "attachments": {},
   "cell_type": "markdown",
   "metadata": {},
   "source": [
    "### NUMPY. Array. Массивы  <a class=\"anchor\" id=\"6\"></a>\n",
    "\n",
    "[к содержанию](#0)\n",
    "\n",
    "Массив в программировании — это ещё одна структура данных. Она позволяет хранить элементы в заданном порядке точно так же, как это делают списки. \n",
    "<img src=p_9_img1.png>\n",
    "\n",
    ">Однако массивы обладают особым свойством: **элемент по любому номеру из массива можно получить за одно и то же время**. Другими словами, неважно, находится элемент в начале, в середине или в конце списка — на времени получения элемента из массива по индексу (номеру) это никак не скажется.\n",
    "\n",
    "Обычно такое быстродействие массивов достигается за счёт того, что все элементы в массиве приведены к одному и тому же типу данных. Как именно это позволяет ускорить работу с данными, будет показано немного позднее.\n",
    "\n",
    "Наконец, традиционные массивы обладают заданной программистом длиной (числом элементов), на которую компьютер выделяет память. Для сравнения — в списке длина изначально ничем не ограничена.\n",
    "\n",
    "Итак, массив — это структура данных, в которой:\n",
    "\n",
    "1. Элементы хранятся в указанном порядке.\n",
    "\n",
    "2. Каждый элемент можно получить по индексу за одинаковое время.\n",
    "\n",
    "3. Все элементы приведены к одному и тому же типу данных.\n",
    "\n",
    "4. Максимальное число элементов и объём выделенной памяти заданы заранее.\n",
    "\n",
    "**Размерностью массива** называют то число индексов, которое необходимо для однозначного получения элемента из массива.\n",
    "\n",
    "* Соответственно, чтобы найти элемент в массиве размерности 1 (строка из чисел) достаточно одного индекса.\n",
    "* В двумерном массиве (таблице из чисел) потребуется уже два индекса: номер строки и номер столбца.\n",
    "* Для трёхмерного массива (например, контейнеры на судне расположены по длине, ширине и высоте судна) потребуется уже три индекса.\n",
    "\n",
    "Максимальная размерность массива программно не ограничена, но с добавлением каждой размерности в несколько раз увеличивается объём требуемой для его хранения памяти. Поэтому в какой-то момент места для массива большой размерности может не хватить, однако фактическая максимальная размерность зависит от возможностей компьютера.\n",
    "\n",
    "**Чем же всё это отличается от списка?**\n",
    "\n",
    "* В списке не гарантируется получение любого элемента по индексу за одинаковое время (обычно чем больше индекс, тем дольше занимает время получения элемента).\n",
    "\n",
    "* Также с совокупностью элементов списка работать дольше, чем с элементами массива. На самом деле Python list является чем-то средним между классическим списком из теории структур данных и массивом, но по скорости он тоже проигрывает массивам."
   ]
  },
  {
   "attachments": {},
   "cell_type": "markdown",
   "metadata": {},
   "source": [
    "### СОЗДАНИЕ МАССИВА ИЗ СПИСКА\n",
    "\n",
    "Создать массив из списка можно с помощью функции `np.array(<объект>)`:"
   ]
  },
  {
   "cell_type": "code",
   "execution_count": 80,
   "metadata": {},
   "outputs": [
    {
     "data": {
      "text/plain": [
       "array([ 1,  5,  2,  9, 10])"
      ]
     },
     "execution_count": 80,
     "metadata": {},
     "output_type": "execute_result"
    }
   ],
   "source": [
    "import numpy as np\n",
    "arr = np.array([1,5,2,9,10])\n",
    "arr\n",
    "# array([ 1,  5,  2,  9, 10])"
   ]
  },
  {
   "attachments": {},
   "cell_type": "markdown",
   "metadata": {},
   "source": [
    "Давайте теперь создадим двумерный массив из списка списков. Его также можно назвать таблицей чисел или матрицей. Сделаем это с помощью той же функции `np.array()`:"
   ]
  },
  {
   "cell_type": "code",
   "execution_count": 81,
   "metadata": {},
   "outputs": [
    {
     "data": {
      "text/plain": [
       "array([[12, 45, 78],\n",
       "       [34, 56, 13],\n",
       "       [12, 98, 76]])"
      ]
     },
     "execution_count": 81,
     "metadata": {},
     "output_type": "execute_result"
    }
   ],
   "source": [
    "# Перечислить список из списков можно\n",
    "# было и в одну строку, но на нескольких\n",
    "# строках получается нагляднее\n",
    "nd_arr = np.array([\n",
    "               [12, 45, 78],\n",
    "               [34, 56, 13],\n",
    "               [12, 98, 76]\n",
    "               ])\n",
    "nd_arr\n",
    "# array([[12, 45, 78],\n",
    "#        [34, 56, 13],\n",
    "#        [12, 98, 76]])"
   ]
  },
  {
   "attachments": {},
   "cell_type": "markdown",
   "metadata": {},
   "source": [
    "### ТИПЫ ДАННЫХ В МАССИВЕ\n",
    "\n",
    "Мы только что узнали, что массив — это набор однотипных данных, но не указали никакой тип. Какого типа данные хранятся теперь в массиве `arr`? Узнать это можно, напечатав свойство `dtype`:"
   ]
  },
  {
   "cell_type": "code",
   "execution_count": 82,
   "metadata": {},
   "outputs": [
    {
     "data": {
      "text/plain": [
       "dtype('int32')"
      ]
     },
     "execution_count": 82,
     "metadata": {},
     "output_type": "execute_result"
    }
   ],
   "source": [
    "arr = np.array([1,5,2,9,10])\n",
    "arr.dtype\n",
    "# dtype('int64')"
   ]
  },
  {
   "attachments": {},
   "cell_type": "markdown",
   "metadata": {},
   "source": [
    "NumPy автоматически определил наш набор чисел как числа типа `int64`. Если мы, например, не планируем хранить в этом массиве целые числа более 127, можно было сразу при создании массива задать тип данных int8.\n",
    "\n",
    ">Также тип данных можно будет указать или изменить позднее, если окажется, что текущий тип избыточен или, наоборот, недостаточен для хранения чисел с требуемой точностью. Однако числа в массиве всё равно будут одного и того же типа данных, даже если разработчик этого явно не указал.\n",
    "\n",
    "Задать тип данных сразу при создании массива можно с помощью параметра `dtype`:"
   ]
  },
  {
   "cell_type": "code",
   "execution_count": null,
   "metadata": {},
   "outputs": [],
   "source": [
    "arr = np.array([1,5,2,9,10], dtype=np.int8)\n",
    "arr\n",
    "# array([ 1,  5,  2,  9, 10], dtype=int8)"
   ]
  },
  {
   "attachments": {},
   "cell_type": "markdown",
   "metadata": {},
   "source": [
    "Теперь, если добавить в arr число больше 127 или меньше -128, оно потеряет исходное значение, как и при преобразовании к меньшему типу:"
   ]
  },
  {
   "cell_type": "code",
   "execution_count": 83,
   "metadata": {},
   "outputs": [
    {
     "data": {
      "text/plain": [
       "array([   1,    5, 2000,    9,   10])"
      ]
     },
     "execution_count": 83,
     "metadata": {},
     "output_type": "execute_result"
    }
   ],
   "source": [
    "arr[2] = 2000\n",
    "arr\n",
    "# array([  1,   5, -48,   9,  10], dtype=int8)"
   ]
  },
  {
   "attachments": {},
   "cell_type": "markdown",
   "metadata": {},
   "source": [
    "Если добавить `float` в массив `int`, пропадёт десятичная часть:"
   ]
  },
  {
   "cell_type": "code",
   "execution_count": 84,
   "metadata": {},
   "outputs": [
    {
     "data": {
      "text/plain": [
       "array([  1,   5, 125,   9,  10])"
      ]
     },
     "execution_count": 84,
     "metadata": {},
     "output_type": "execute_result"
    }
   ],
   "source": [
    "arr[2] = 125.5\n",
    "arr\n",
    "# array([  1,   5, 125,   9,  10], dtype=int8)"
   ]
  },
  {
   "attachments": {},
   "cell_type": "markdown",
   "metadata": {},
   "source": [
    "Строку, которую можно преобразовать в число, можно сразу положить в массив. Она будет приведена к нужному типу автоматически:"
   ]
  },
  {
   "cell_type": "code",
   "execution_count": 85,
   "metadata": {},
   "outputs": [
    {
     "data": {
      "text/plain": [
       "array([ 1,  5, 12,  9, 10])"
      ]
     },
     "execution_count": 85,
     "metadata": {},
     "output_type": "execute_result"
    }
   ],
   "source": [
    "arr[2] = '12'\n",
    "arr\n",
    "# array([ 1,  5, 12,  9, 10], dtype=int8)"
   ]
  },
  {
   "attachments": {},
   "cell_type": "markdown",
   "metadata": {},
   "source": [
    "А вот при попытке положить в массив строку, которую нельзя преобразовать в число, возникнет ошибка:"
   ]
  },
  {
   "cell_type": "code",
   "execution_count": 86,
   "metadata": {},
   "outputs": [
    {
     "ename": "ValueError",
     "evalue": "invalid literal for int() with base 10: 'test'",
     "output_type": "error",
     "traceback": [
      "\u001b[1;31m---------------------------------------------------------------------------\u001b[0m",
      "\u001b[1;31mValueError\u001b[0m                                Traceback (most recent call last)",
      "\u001b[1;32mc:\\Личные документы\\Python\\Py\\p_9_numpy\\lecture_array.ipynb Ячейка 170\u001b[0m in \u001b[0;36m<cell line: 1>\u001b[1;34m()\u001b[0m\n\u001b[1;32m----> <a href='vscode-notebook-cell:/c%3A/%D0%9B%D0%B8%D1%87%D0%BD%D1%8B%D0%B5%20%D0%B4%D0%BE%D0%BA%D1%83%D0%BC%D0%B5%D0%BD%D1%82%D1%8B/Python/Py/p_9_numpy/lecture_array.ipynb#ch0000238?line=0'>1</a>\u001b[0m arr[\u001b[39m2\u001b[39m] \u001b[39m=\u001b[39m \u001b[39m'\u001b[39m\u001b[39mtest\u001b[39m\u001b[39m'\u001b[39m\n",
      "\u001b[1;31mValueError\u001b[0m: invalid literal for int() with base 10: 'test'"
     ]
    }
   ],
   "source": [
    "arr[2] = 'test'\n",
    "# ValueError: invalid literal for int() with base 10: 'test'"
   ]
  },
  {
   "attachments": {},
   "cell_type": "markdown",
   "metadata": {},
   "source": [
    "Поменять тип данных во всём массиве можно с помощью тех же функций, которыми мы пользовались для преобразования типов отдельных переменных в предыдущем юните (например, `np.int32` или `np.float128`):"
   ]
  },
  {
   "cell_type": "code",
   "execution_count": 88,
   "metadata": {},
   "outputs": [
    {
     "data": {
      "text/plain": [
       "array([ 1.,  5., 12.,  9., 10.])"
      ]
     },
     "execution_count": 88,
     "metadata": {},
     "output_type": "execute_result"
    }
   ],
   "source": [
    "arr = np.float64(arr)\n",
    "arr\n",
    "# array([ 1.,  5., 12.,  9., 10.], dtype=float64)"
   ]
  },
  {
   "attachments": {},
   "cell_type": "markdown",
   "metadata": {},
   "source": [
    "При преобразовании типов данных в массиве не забывайте о том, что часть чисел может потерять смысл, если менять тип данных с более ёмкого на менее ёмкий:"
   ]
  },
  {
   "cell_type": "code",
   "execution_count": 89,
   "metadata": {},
   "outputs": [
    {
     "data": {
      "text/plain": [
       "array([ 33,  46, 107,  42, 100], dtype=uint8)"
      ]
     },
     "execution_count": 89,
     "metadata": {},
     "output_type": "execute_result"
    }
   ],
   "source": [
    "arr = np.array([12321, -1234, 3435, -214, 100], dtype=np.int32)\n",
    "arr\n",
    "# array([12321, -1234,  3435,  -214,   100], dtype=int32)\n",
    " \n",
    "arr = np.uint8(arr)\n",
    "arr\n",
    "# array([ 33,  46, 107,  42, 100], dtype=uint8)"
   ]
  },
  {
   "attachments": {},
   "cell_type": "markdown",
   "metadata": {},
   "source": [
    "### СВОЙСТВА NUMPY-МАССИВОВ <a class=\"anchor\" id=\"6-1\"></a>\n",
    "\n",
    "[к содержанию](#0)\n",
    "\n",
    "Вы уже узнали, как получить тип данных, который хранится в массиве. Сделать это можно с помощью атрибута `dtype`. Есть и другие свойства массивов, которые будет полезно узнать.\n",
    "\n",
    "Будем тренироваться на массивах `arr` и `nd_arr`:"
   ]
  },
  {
   "cell_type": "code",
   "execution_count": 90,
   "metadata": {},
   "outputs": [],
   "source": [
    "arr = np.array([1,5,2,9,10], dtype=np.int8)\n",
    "nd_arr = np.array([\n",
    "               [12, 45, 78],\n",
    "               [34, 56, 13],\n",
    "               [12, 98, 76]\n",
    "               ], dtype=np.int16)"
   ]
  },
  {
   "attachments": {},
   "cell_type": "markdown",
   "metadata": {},
   "source": [
    "Узнать размерность массива можно с помощью `.ndim`:"
   ]
  },
  {
   "cell_type": "code",
   "execution_count": 91,
   "metadata": {},
   "outputs": [
    {
     "data": {
      "text/plain": [
       "2"
      ]
     },
     "execution_count": 91,
     "metadata": {},
     "output_type": "execute_result"
    }
   ],
   "source": [
    "arr.ndim\n",
    "# 1\n",
    "nd_arr.ndim\n",
    "# 2"
   ]
  },
  {
   "attachments": {},
   "cell_type": "markdown",
   "metadata": {},
   "source": [
    "Узнать общее число элементов в массиве можно с помощью `.size`:"
   ]
  },
  {
   "cell_type": "code",
   "execution_count": 92,
   "metadata": {},
   "outputs": [
    {
     "data": {
      "text/plain": [
       "9"
      ]
     },
     "execution_count": 92,
     "metadata": {},
     "output_type": "execute_result"
    }
   ],
   "source": [
    "arr.size\n",
    "# 5\n",
    "nd_arr.size\n",
    "# 9"
   ]
  },
  {
   "attachments": {},
   "cell_type": "markdown",
   "metadata": {},
   "source": [
    "Форма или структура массива хранится в атрибуте `.shape`:"
   ]
  },
  {
   "cell_type": "code",
   "execution_count": 93,
   "metadata": {},
   "outputs": [
    {
     "data": {
      "text/plain": [
       "(3, 3)"
      ]
     },
     "execution_count": 93,
     "metadata": {},
     "output_type": "execute_result"
    }
   ],
   "source": [
    "arr.shape\n",
    "# (5,)\n",
    "nd_arr.shape\n",
    "# (3, 3)"
   ]
  },
  {
   "attachments": {},
   "cell_type": "markdown",
   "metadata": {},
   "source": [
    ">Форма массива хранится в виде кортежа с числом элементов, равным размерности массива. Соответственно, для одномерного массива напечатан кортеж длины 1. Обратите внимание, что для двумерного массива вначале было напечатано число «строк», а затем число «столбцов». Это так только отчасти. На самом деле массив как бы состоит из внешних и внутренних массивов: вспомните, что мы передавали список, состоящий из трёх списков, длина каждого из которых равнялась трём. Форма массива определяется от длины внешнего массива (3) к внутреннему (3).\n",
    "\n",
    "Наконец, узнать, сколько «весит» каждый элемент массива в байтах позволяет `.itemsize`:"
   ]
  },
  {
   "cell_type": "code",
   "execution_count": 94,
   "metadata": {},
   "outputs": [
    {
     "data": {
      "text/plain": [
       "2"
      ]
     },
     "execution_count": 94,
     "metadata": {},
     "output_type": "execute_result"
    }
   ],
   "source": [
    "arr.itemsize\n",
    "# 1\n",
    "nd_arr.itemsize\n",
    "# 2"
   ]
  },
  {
   "attachments": {},
   "cell_type": "markdown",
   "metadata": {},
   "source": [
    "### ЗАПОЛНЕНИЕ НОВЫХ МАССИВОВ <a class=\"anchor\" id=\"6-2\"></a>\n",
    "\n",
    "[к содержанию](#0)\n",
    "\n",
    "→ Не всегда значения, которые будут храниться в массиве, уже доступны, а иметь для них массив уже хочется.\n",
    "\n",
    "Можно заранее подготовить массив заданной размерности, заполненный нулями, а потом загружать в него реальные данные по мере необходимости.\n",
    "\n",
    ">Массив из нулей создаётся функцией `np.zeros`. Она принимает аргументы `shape` (обязательный) — форма массива (одно число или кортеж) и `dtype` (необязательный) — тип данных, который будет храниться в массиве.\n",
    "\n",
    "Создадим одномерный массив из пяти элементов:"
   ]
  },
  {
   "cell_type": "code",
   "execution_count": 95,
   "metadata": {},
   "outputs": [
    {
     "data": {
      "text/plain": [
       "array([0., 0., 0., 0., 0.])"
      ]
     },
     "execution_count": 95,
     "metadata": {},
     "output_type": "execute_result"
    }
   ],
   "source": [
    "zeros_1d = np.zeros(5)\n",
    "zeros_1d\n",
    "# array([0., 0., 0., 0., 0.])"
   ]
  },
  {
   "attachments": {},
   "cell_type": "markdown",
   "metadata": {},
   "source": [
    "Создадим трёхмерный массив с формой 5x4x3 и типом `float32`:"
   ]
  },
  {
   "cell_type": "code",
   "execution_count": 96,
   "metadata": {},
   "outputs": [
    {
     "name": "stdout",
     "output_type": "stream",
     "text": [
      "(5, 4, 3)\n"
     ]
    }
   ],
   "source": [
    "zeros_3d = np.zeros((5,4,3), dtype=np.float32)\n",
    "print(zeros_3d.shape)\n",
    "# (5, 4, 3)"
   ]
  },
  {
   "attachments": {},
   "cell_type": "markdown",
   "metadata": {},
   "source": [
    "Ещё одной удобной функцией для создания одномерных массивов является `arange`. Она аналогична встроенной функции range, но обладает рядом особенностей. Вот её сигнатура: `arange([start,] stop, [step,], dtype=None)`.\n",
    "\n",
    "Аргументы `start` (по умолчанию 0), `step` (по умолчанию 1) и `dtype` (определяется автоматически) являются необязательными:\n",
    "\n",
    "* `start` (входит в диапазон возвращаемых значений) задаёт начальное число;\n",
    "* `stop` (не входит в диапазон возвращаемых значений, как и при использовании range) задаёт правую границу диапазона;\n",
    "* `step` задаёт шаг, с которым в массив добавляются новые значения.\n",
    "\n",
    "В отличие от `range`, в функции `arange` все перечисленные параметры могут иметь тип `float`.\n",
    "\n",
    "Поэкспериментируем. Создадим массив из пяти чисел от 0 до 4:"
   ]
  },
  {
   "cell_type": "code",
   "execution_count": 97,
   "metadata": {},
   "outputs": [
    {
     "data": {
      "text/plain": [
       "array([0, 1, 2, 3, 4])"
      ]
     },
     "execution_count": 97,
     "metadata": {},
     "output_type": "execute_result"
    }
   ],
   "source": [
    "np.arange(5)\n",
    "# array([0, 1, 2, 3, 4])"
   ]
  },
  {
   "attachments": {},
   "cell_type": "markdown",
   "metadata": {},
   "source": [
    "Создадим массив от 2.5 до 5 с шагом 0.5:"
   ]
  },
  {
   "cell_type": "code",
   "execution_count": 98,
   "metadata": {},
   "outputs": [
    {
     "data": {
      "text/plain": [
       "array([2.5, 3. , 3.5, 4. , 4.5])"
      ]
     },
     "execution_count": 98,
     "metadata": {},
     "output_type": "execute_result"
    }
   ],
   "source": [
    "np.arange(2.5, 5, 0.5)\n",
    "# array([2.5, 3. , 3.5, 4. , 4.5])"
   ]
  },
  {
   "attachments": {},
   "cell_type": "markdown",
   "metadata": {},
   "source": [
    "Создадим массив от 2.5 до 5 с шагом 0.5 и с типом `float16`:"
   ]
  },
  {
   "cell_type": "code",
   "execution_count": 99,
   "metadata": {},
   "outputs": [
    {
     "data": {
      "text/plain": [
       "array([2.5, 3. , 3.5, 4. , 4.5], dtype=float16)"
      ]
     },
     "execution_count": 99,
     "metadata": {},
     "output_type": "execute_result"
    }
   ],
   "source": [
    "np.arange(2.5, 5, 0.5, dtype=np.float16)\n",
    "# array([2.5, 3. , 3.5, 4. , 4.5], dtype=float16)"
   ]
  },
  {
   "attachments": {},
   "cell_type": "markdown",
   "metadata": {},
   "source": [
    "На самом деле операции с плавающей точкой не всегда бывают предсказуемыми из-за особенностей хранения таких чисел в памяти компьютера. Поэтому для работы с дробными параметрами `start`, `stop` и `step` лучше использовать функцию `linspace` (англ. linear space — линейное пространство). Она тоже возвращает одномерный массив из чисел, расположенных на равном удалении друг от друга между началом и концом диапазона, но обладает немного другим поведением и сигнатурой:\n",
    "\n",
    "`np.linspace(start, stop, num=50, endpoint=True, retstep=False, dtype=None)`\n",
    "\n",
    "* `start` и `stop` являются обязательными параметрами, задающими начало и конец возвращаемого диапазона;\n",
    "* `num` — параметр, задающий число элементов, которое должно оказаться в массиве (по умолчанию 50);\n",
    "* `endpoint` — включён или исключён конец диапазона (по умолчанию включён);\n",
    "* `retstep` (по умолчанию `False`) позволяет указать, возвращать ли использованный шаг между значениями, помимо самого массива;\n",
    "* `dtype` — уже хорошо знакомый нам параметр, задающий тип данных (если не задан, определяется автоматически).\n",
    "\n",
    "\n",
    "Давайте потренируемся. Создадим массив из десяти чисел между 1 и 2:"
   ]
  },
  {
   "cell_type": "code",
   "execution_count": 100,
   "metadata": {},
   "outputs": [
    {
     "data": {
      "text/plain": [
       "array([1.        , 1.11111111, 1.22222222, 1.33333333, 1.44444444,\n",
       "       1.55555556, 1.66666667, 1.77777778, 1.88888889, 2.        ])"
      ]
     },
     "execution_count": 100,
     "metadata": {},
     "output_type": "execute_result"
    }
   ],
   "source": [
    "arr = np.linspace(1, 2, 10)\n",
    "arr\n",
    "# array([1.        , 1.11111111, 1.22222222, 1.33333333, 1.44444444,\n",
    "#        1.55555556, 1.66666667, 1.77777778, 1.88888889, 2.        ])"
   ]
  },
  {
   "attachments": {},
   "cell_type": "markdown",
   "metadata": {},
   "source": [
    "Создадим массив из десяти чисел между 1 и 2, не включая 2:"
   ]
  },
  {
   "cell_type": "code",
   "execution_count": 101,
   "metadata": {},
   "outputs": [
    {
     "data": {
      "text/plain": [
       "array([1. , 1.1, 1.2, 1.3, 1.4, 1.5, 1.6, 1.7, 1.8, 1.9])"
      ]
     },
     "execution_count": 101,
     "metadata": {},
     "output_type": "execute_result"
    }
   ],
   "source": [
    "arr = np.linspace(1, 2, 10, endpoint=False)\n",
    "arr\n",
    "# array([1. , 1.1, 1.2, 1.3, 1.4, 1.5, 1.6, 1.7, 1.8, 1.9])"
   ]
  },
  {
   "attachments": {},
   "cell_type": "markdown",
   "metadata": {},
   "source": [
    "Узнаем, какой шаг был использован для создания массива из десяти чисел между 1 и 2, где 2 включалось и не включалось:"
   ]
  },
  {
   "cell_type": "code",
   "execution_count": 102,
   "metadata": {},
   "outputs": [
    {
     "name": "stdout",
     "output_type": "stream",
     "text": [
      "0.1111111111111111\n",
      "0.1\n"
     ]
    }
   ],
   "source": [
    "arr, step = np.linspace(1, 2, 10, endpoint=True, retstep=True)\n",
    "print(step)\n",
    "# 0.1111111111111111\n",
    "\n",
    "arr, step = np.linspace(1, 2, 10, endpoint=False, retstep=True)\n",
    "print(step)\n",
    "# 0.1"
   ]
  },
  {
   "attachments": {},
   "cell_type": "markdown",
   "metadata": {},
   "source": [
    ">Функцию `linspace` очень удобно использовать при построении графиков различных функций, поскольку она позволяет получить равномерный массив чисел, к которому можно применить исследуемую функцию и показать результат на графике. Вы научитесь это делать в модуле, посвящённом визуализации."
   ]
  },
  {
   "attachments": {},
   "cell_type": "markdown",
   "metadata": {},
   "source": [
    "### NumPy. Действия с массивами <a class=\"anchor\" id=\"7\"></a>\n",
    "\n",
    "[к содержанию](#0)\n",
    "\n",
    "\n",
    "В предыдущем юните вы научились получать одномерные массивы из чисел с помощью функции arange. В NumPy существуют функции, которые позволяют менять форму массива.\n",
    "\n",
    "Cоздаём массив из 8ми чисел"
   ]
  },
  {
   "cell_type": "code",
   "execution_count": 1,
   "metadata": {},
   "outputs": [
    {
     "data": {
      "text/plain": [
       "array([0, 1, 2, 3, 4, 5, 6, 7])"
      ]
     },
     "execution_count": 1,
     "metadata": {},
     "output_type": "execute_result"
    }
   ],
   "source": [
    "import numpy as np\n",
    "arr = np.arange(8)\n",
    "arr"
   ]
  },
  {
   "attachments": {},
   "cell_type": "markdown",
   "metadata": {},
   "source": [
    "Поменять форму массива arr можно с помощью присвоения атрибуту shape кортежа с желаемой формой: ('строк', 'столбцов')"
   ]
  },
  {
   "cell_type": "code",
   "execution_count": 2,
   "metadata": {},
   "outputs": [
    {
     "data": {
      "text/plain": [
       "array([[0, 1, 2, 3],\n",
       "       [4, 5, 6, 7]])"
      ]
     },
     "execution_count": 2,
     "metadata": {},
     "output_type": "execute_result"
    }
   ],
   "source": [
    "arr.shape = (2, 4)\n",
    "arr"
   ]
  },
  {
   "attachments": {},
   "cell_type": "markdown",
   "metadata": {},
   "source": [
    "Чтобы оставить исходный массив без изменений и дополнительно получить новый массив новой формы, нужно использовать функцию reshape. Она также принимает в качестве аргумента кортеж из чисел для формы, но возвращает новый массив, а не изменяет исходный:"
   ]
  },
  {
   "cell_type": "code",
   "execution_count": 3,
   "metadata": {},
   "outputs": [
    {
     "name": "stdout",
     "output_type": "stream",
     "text": [
      "[0 1 2 3 4 5 6 7]\n",
      "[[0 1 2 3]\n",
      " [4 5 6 7]]\n"
     ]
    },
    {
     "data": {
      "text/plain": [
       "array([[0, 2, 4, 6],\n",
       "       [1, 3, 5, 7]])"
      ]
     },
     "execution_count": 3,
     "metadata": {},
     "output_type": "execute_result"
    }
   ],
   "source": [
    "arr = np.arange(8)\n",
    "arr_new = arr.reshape((2, 4))\n",
    "print(arr)\n",
    "print(arr_new)\n",
    "#Можно поменять заполняемость массива с построчного на постолбцовый параметром order=\n",
    "arr_new_f = arr.reshape((2, 4), order='F')\n",
    "arr_new_f"
   ]
  },
  {
   "attachments": {},
   "cell_type": "markdown",
   "metadata": {},
   "source": [
    "Транспонирование (особенно актуально для двумерных массивов). При транспонировании 1мерного массиива нихуя не изменится."
   ]
  },
  {
   "cell_type": "code",
   "execution_count": 4,
   "metadata": {},
   "outputs": [
    {
     "data": {
      "text/plain": [
       "(array([[0, 1, 2, 3],\n",
       "        [4, 5, 6, 7]]),\n",
       " array([[0, 4],\n",
       "        [1, 5],\n",
       "        [2, 6],\n",
       "        [3, 7]]))"
      ]
     },
     "execution_count": 4,
     "metadata": {},
     "output_type": "execute_result"
    }
   ],
   "source": [
    "arr = np.arange(8)\n",
    "arr_new = arr.reshape((2, 4))\n",
    "arr_trans = arr_new.transpose()\n",
    "arr_new,arr_trans"
   ]
  },
  {
   "attachments": {},
   "cell_type": "markdown",
   "metadata": {},
   "source": [
    "Заполнение новых массивов"
   ]
  },
  {
   "cell_type": "code",
   "execution_count": 5,
   "metadata": {},
   "outputs": [
    {
     "data": {
      "text/plain": [
       "array([[0, 0, 0, 0, 0, 0],\n",
       "       [0, 0, 0, 0, 0, 0],\n",
       "       [0, 0, 0, 0, 0, 0],\n",
       "       [0, 0, 0, 0, 0, 0],\n",
       "       [0, 0, 0, 0, 0, 0]], dtype=int16)"
      ]
     },
     "execution_count": 5,
     "metadata": {},
     "output_type": "execute_result"
    }
   ],
   "source": [
    "z_arr = np.zeros((5,6),np.int16)\n",
    "z_arr"
   ]
  },
  {
   "attachments": {},
   "cell_type": "markdown",
   "metadata": {},
   "source": [
    "### Индесы и срезы в массивах\n",
    "Создадим массив из шести чисел:"
   ]
  },
  {
   "cell_type": "code",
   "execution_count": 6,
   "metadata": {},
   "outputs": [
    {
     "name": "stdout",
     "output_type": "stream",
     "text": [
      "[1.  1.2 1.4 1.6 1.8 2. ]\n",
      "1.4\n",
      "[1.4 1.6]\n",
      "[2.  1.8 1.6 1.4 1.2 1. ]\n"
     ]
    }
   ],
   "source": [
    "arr = np.linspace(1, 2, 6)\n",
    "print(arr)\n",
    "print(arr[2]) #Элемент по индексу\n",
    "print(arr[2:4]) #Диапазон\n",
    "print(arr[::-1]) #Разворот"
   ]
  },
  {
   "attachments": {},
   "cell_type": "markdown",
   "metadata": {},
   "source": [
    "С многомерными массивами работать немного интереснее. Создадим двумерный массив из одномерного:"
   ]
  },
  {
   "cell_type": "code",
   "execution_count": 30,
   "metadata": {},
   "outputs": [
    {
     "name": "stdout",
     "output_type": "stream",
     "text": [
      "[[0.  0.5 1.  1.5]\n",
      " [2.  2.5 3.  3.5]\n",
      " [4.  4.5 5.  5.5]]\n",
      "5.5\n",
      "5.5\n"
     ]
    }
   ],
   "source": [
    "nd_array =  np.linspace(0, 6, 12, endpoint=False).reshape(3,4)\n",
    "print(nd_array)\n",
    "print(nd_array[2][3]) #Обратимся как к списку списков\n",
    "print(nd_array[2,3]) #В numpy можно передать координаты в [] через запятую."
   ]
  },
  {
   "cell_type": "code",
   "execution_count": 9,
   "metadata": {},
   "outputs": [
    {
     "name": "stdout",
     "output_type": "stream",
     "text": [
      "1.0 [0.5 1. ]\n",
      "3.0 [2.5 3.  3.5]\n",
      "5.0 [4.5 5.5]\n"
     ]
    },
    {
     "data": {
      "text/plain": [
       "array([0.5, 2.5, 4.5])"
      ]
     },
     "execution_count": 9,
     "metadata": {},
     "output_type": "execute_result"
    }
   ],
   "source": [
    "print(nd_array[0,2],nd_array[0,1:3])\n",
    "print(nd_array[1,2],nd_array[1,1:])\n",
    "print(nd_array[2,2],nd_array[2,1::2])\n",
    "nd_array[:,-1] #-1 всегда последний элемент (или строка, или столбец)\n",
    "nd_array[:,-1][::-1]\n",
    "nd_array[:4,1]"
   ]
  },
  {
   "cell_type": "code",
   "execution_count": 10,
   "metadata": {},
   "outputs": [],
   "source": [
    "#7.2\n",
    "mystery = np.linspace(1,25,25,endpoint=True,dtype=np.int8)\n",
    "mystery.shape = (5,5)\n",
    "# В переменную elem_5_3 сохраните элемент из 5 строки и 3 столбца:\n",
    "elem_5_3 = mystery[4, 2]\n",
    "\n",
    "# В переменную last сохраните элемент из последней строки последнего столбца\n",
    "last = mystery[-1,-1]\n",
    "\n",
    "# В переменную line_4 сохраните строку 4\n",
    "line_4 = mystery[3,:]\n",
    "\n",
    "# В переменную col_2 сохраните предпоследний столбец\n",
    "col_2 = mystery[:,-2]\n",
    "\n",
    "# Из строк 2-4 (включительно) получите столбцы 3-5 (включительно)\n",
    "# Результат сохраните в переменную part\n",
    "part = mystery[1:4,2:6]\n",
    "\n",
    "#  Сохраните в переменную rev последний столбец в обратном порядке\n",
    "rev = mystery[:,-1][::-1]\n",
    "\n",
    "# Сохраните в переменную trans транспонированный массив\n",
    "trans = mystery.transpose()"
   ]
  },
  {
   "attachments": {},
   "cell_type": "markdown",
   "metadata": {},
   "source": [
    "Сортировка одномерных массивов\n"
   ]
  },
  {
   "cell_type": "code",
   "execution_count": 11,
   "metadata": {},
   "outputs": [
    {
     "name": "stdout",
     "output_type": "stream",
     "text": [
      "[23 12 45 12 23  4 15  3]\n",
      "[ 3  4 12 12 15 23 23 45]\n"
     ]
    }
   ],
   "source": [
    "# Способ 1 \n",
    "# Функция np.sort(<массив>) возвращает новый отсортированный массив:\n",
    "arr = np.array([23,12,45,12,23,4,15,3])\n",
    "arr_new = np.sort(arr)\n",
    "print(arr)\n",
    "# [23 12 45 12 23  4 15  3]\n",
    "print(arr_new)"
   ]
  },
  {
   "cell_type": "code",
   "execution_count": 12,
   "metadata": {},
   "outputs": [
    {
     "name": "stdout",
     "output_type": "stream",
     "text": [
      "[ 3  4 12 12 15 23 23 45]\n"
     ]
    }
   ],
   "source": [
    "# Способ 2\n",
    "# Функция <массив>.sort() сортирует исходный массив и возвращает None:\n",
    "arr = np.array([23,12,45,12,23,4,15,3])\n",
    "arr.sort()\n",
    "# None\n",
    "print(arr)\n"
   ]
  },
  {
   "attachments": {},
   "cell_type": "markdown",
   "metadata": {},
   "source": [
    "### Работа с пропущенными данными"
   ]
  },
  {
   "cell_type": "code",
   "execution_count": 13,
   "metadata": {},
   "outputs": [
    {
     "name": "stdout",
     "output_type": "stream",
     "text": [
      "float16\n",
      "[2.    3.      nan 1.732]\n"
     ]
    },
    {
     "name": "stderr",
     "output_type": "stream",
     "text": [
      "C:\\Users\\AubakirovMA\\AppData\\Local\\Temp\\ipykernel_3620\\589962777.py:2: RuntimeWarning: invalid value encountered in sqrt\n",
      "  roots = np.sqrt(data)\n"
     ]
    }
   ],
   "source": [
    "data = np.array([4, 9, -4, 3], np.float16)\n",
    "roots = np.sqrt(data)\n",
    "print(roots.dtype)\n",
    "print(roots)\n"
   ]
  },
  {
   "attachments": {},
   "cell_type": "markdown",
   "metadata": {},
   "source": [
    "nan - *not a number* (не число). nan похож на None но есть отличия:\n",
    "- None является отдельным объектом типа NoneType. np.nan — это отдельный представитель класса float\n",
    "- None могут быть равны друг другу, а np.nan — нет"
   ]
  },
  {
   "cell_type": "code",
   "execution_count": 14,
   "metadata": {},
   "outputs": [
    {
     "name": "stdout",
     "output_type": "stream",
     "text": [
      "True\n",
      "False\n",
      "True\n",
      "True\n",
      "False\n"
     ]
    }
   ],
   "source": [
    "print(None == None)\n",
    "# True\n",
    "print(np.nan == np.nan)\n",
    "# False\n",
    "print(None is None) #оператор is это сравнение с None\n",
    "# True\n",
    "print(np.nan is np.nan)\n",
    "# True\n",
    "print(np.nan is None)\n",
    "# False"
   ]
  },
  {
   "cell_type": "code",
   "execution_count": 15,
   "metadata": {},
   "outputs": [
    {
     "name": "stdout",
     "output_type": "stream",
     "text": [
      "[2.    3.    0.    1.732]\n"
     ]
    },
    {
     "data": {
      "text/plain": [
       "array([False, False,  True, False])"
      ]
     },
     "execution_count": 15,
     "metadata": {},
     "output_type": "execute_result"
    }
   ],
   "source": [
    "# Сумма массива содержащего nan равна nan, это печально\n",
    "sum(roots)\n",
    "# Можно заполнить пропущенные значения, например, нулями. \n",
    "# Для этого с помощью функции np.isnan(<массив>) узнаем, на каких местах в массиве находятся «не числа»:\n",
    "ind = np.isnan(roots)\n",
    "# Можно использовать полученный массив из True и False для извлечения элементов из массива roots, \n",
    "# на месте которых в булевом массиве указано True. Таким способом можно узнать сами элементы, которые удовлетворяют условию np.isnan:\n",
    "roots[np.isnan(roots)]\n",
    "roots[np.isnan(roots)] = 0\n",
    "print(roots)\n",
    "sum(roots)\n",
    "ind"
   ]
  },
  {
   "cell_type": "code",
   "execution_count": 16,
   "metadata": {},
   "outputs": [
    {
     "data": {
      "text/plain": [
       "array([0, 0, 1, 2, 3])"
      ]
     },
     "execution_count": 16,
     "metadata": {},
     "output_type": "execute_result"
    }
   ],
   "source": [
    "# 7.что-то\n",
    "mystery = np.array([1, 2, np.nan, 3, np.nan])\n",
    "mystery[np.isnan(mystery)] = 0\n",
    "mystery = np.int32(mystery)\n",
    "arr = np.sort(mystery)\n",
    "arr"
   ]
  },
  {
   "attachments": {},
   "cell_type": "markdown",
   "metadata": {},
   "source": [
    "## Операции с векторами <a class=\"anchor\" id=\"8\"></a>\n",
    "\n",
    "[к содержанию](#0)\n",
    "\n",
    "\n",
    "**Вектор** - одномерный проиндексированный набор данных (массив).\n",
    "Операция, применённая к двум векторам, на самом деле применяется поэлементно. То есть при сложении двух векторов первым элементом нового вектора будет сумма первых элементов исходных векторов, вторым — сумма вторых элементов и т. д.\n"
   ]
  },
  {
   "cell_type": "code",
   "execution_count": 17,
   "metadata": {},
   "outputs": [
    {
     "data": {
      "text/plain": [
       "array([14. , 10. , 10.6, 15.5])"
      ]
     },
     "execution_count": 17,
     "metadata": {},
     "output_type": "execute_result"
    }
   ],
   "source": [
    "# При сложении списков элементы объединяются в новый список.\n",
    "# При сложении векторов поэлементно сумируются значения.\n",
    "vec1 = np.array([2, 4, 7, 2.5])\n",
    "vec2 = np.array([12, 6, 3.6, 13])\n",
    "vec1 + vec2"
   ]
  },
  {
   "attachments": {},
   "cell_type": "markdown",
   "metadata": {},
   "source": [
    "Для совершения арифметических операций с векторами они должны быть одинаковой длины.\n",
    "При попытке провести арифметические операции над разномерными массивами возникнет */ValueError/*\n",
    "*Исключение:* Операции с вектором и одним числом"
   ]
  },
  {
   "cell_type": "code",
   "execution_count": 18,
   "metadata": {},
   "outputs": [
    {
     "data": {
      "text/plain": [
       "array([ 1,  4,  9, 16, 25], dtype=int32)"
      ]
     },
     "execution_count": 18,
     "metadata": {},
     "output_type": "execute_result"
    }
   ],
   "source": [
    "vec = np.arange(1,6)\n",
    "vec * 10\n",
    "# array([ 0, 10, 20, 30, 40])\n",
    "vec ** 2"
   ]
  },
  {
   "cell_type": "code",
   "execution_count": 19,
   "metadata": {},
   "outputs": [
    {
     "name": "stdout",
     "output_type": "stream",
     "text": [
      "[False False  True False]\n",
      "[ True False False  True]\n"
     ]
    }
   ],
   "source": [
    "# Поэлементное сравнение:\n",
    "vec1 = np.array([2, 4, 7, 2.5])\n",
    "vec2 = np.array([12, 6, 3.6, 13])\n",
    " \n",
    "print(vec1 > vec2)\n",
    "# array([False, False,  True, False])\n",
    "print(vec1 <= 2.5)"
   ]
  },
  {
   "attachments": {},
   "cell_type": "markdown",
   "metadata": {},
   "source": [
    "Длиной вектора называют корень из суммы квадратов всех его координат. Для вектора из \\(n\\) чисел \\(x_{1}\\), \\(x_{2}\\) … \\(x_{n}\\) верна формула:\n",
    "\n",
    "\\[length = \\sqrt{x_{1}^{2} + x_{2}^{2} + ... + x_{n}^{2}}\\]"
   ]
  },
  {
   "cell_type": "code",
   "execution_count": 20,
   "metadata": {},
   "outputs": [
    {
     "name": "stdout",
     "output_type": "stream",
     "text": [
      "Длина вектора vec: 5.0\n"
     ]
    }
   ],
   "source": [
    "vec = np.array([3, 4])\n",
    "length_vec = np.sqrt(np.sum(vec**2))\n",
    "print(f'Длина вектора vec: {length_vec}')"
   ]
  },
  {
   "attachments": {},
   "cell_type": "markdown",
   "metadata": {},
   "source": [
    "Но можно было поступить проще. В NumPy есть специальный подмодуль linalg, который позволяет производить операции из линейной алгебры. Для вычисления длины вектора нам потребуется функция **norm:**"
   ]
  },
  {
   "cell_type": "code",
   "execution_count": 21,
   "metadata": {},
   "outputs": [
    {
     "name": "stdout",
     "output_type": "stream",
     "text": [
      "Длина вектора vec: 5.0\n"
     ]
    }
   ],
   "source": [
    "length = np.linalg.norm(vec)\n",
    "print(f'Длина вектора vec: {length}')"
   ]
  },
  {
   "attachments": {},
   "cell_type": "markdown",
   "metadata": {},
   "source": [
    "Расстоянием между двумя векторами называют квадратный корень из суммы квадратов разностей соответствующих координат. Звучит сложно, поэтому лучше посмотрите на формулу (считаем расстояние между векторами \\(X\\) и \\(Y\\)):\n",
    "\n",
    "\\[distance = \\sqrt{(x_1 - y_1)^2 + (x_2 - y_2)^2 + ... + (x_n - y_n)^2}\\]"
   ]
  },
  {
   "cell_type": "code",
   "execution_count": 24,
   "metadata": {},
   "outputs": [
    {
     "name": "stdout",
     "output_type": "stream",
     "text": [
      "12.206555615733702\n"
     ]
    },
    {
     "data": {
      "text/plain": [
       "12.206555615733702"
      ]
     },
     "execution_count": 24,
     "metadata": {},
     "output_type": "execute_result"
    }
   ],
   "source": [
    "vec1 = np.array([0, 3, 5])\n",
    "vec2 = np.array([12, 4, 7])\n",
    "distance = np.sqrt(np.sum((vec1 - vec2) ** 2))\n",
    "distance_1 = np.sqrt(np.sum((vec2 - vec1) ** 2))\n",
    "print(distance)\n",
    "distance_1"
   ]
  },
  {
   "attachments": {},
   "cell_type": "markdown",
   "metadata": {},
   "source": [
    "Наконец, скалярным произведением двух векторов называют сумму произведений их соответствующих координат. Вот формула для скалярного произведения векторов \\(X\\) и \\(Y\\) из \\(n\\) координат:\n",
    "\n",
    "\\[X * Y = x_1 * y_1 + x_2 * y_2 + ... + x_n * y_n\\]\n",
    "Откуда такое странное название? Слово «скаляр» — синоним слова «число». То есть результатом вычисления скалярного произведения векторов является число — скаляр. Дело в том, что существуют и другие произведения векторов, не все из которых дают на выходе число."
   ]
  },
  {
   "cell_type": "code",
   "execution_count": null,
   "metadata": {},
   "outputs": [
    {
     "name": "stdout",
     "output_type": "stream",
     "text": [
      "[10.  12.5 15.  17.5 20. ]\n"
     ]
    },
    {
     "data": {
      "text/plain": [
       "250.0"
      ]
     },
     "execution_count": 201,
     "metadata": {},
     "output_type": "execute_result"
    }
   ],
   "source": [
    "vec1 = np.arange(1, 6)\n",
    "vec2 = np.linspace(10, 20, 5)\n",
    "scalar_product = np.sum(vec1 * vec2)\n",
    "scalar_product"
   ]
  },
  {
   "attachments": {},
   "cell_type": "markdown",
   "metadata": {},
   "source": [
    "Функция *np.dot(x, y):* скалярное произведение"
   ]
  },
  {
   "cell_type": "code",
   "execution_count": null,
   "metadata": {},
   "outputs": [
    {
     "data": {
      "text/plain": [
       "250.0"
      ]
     },
     "execution_count": 204,
     "metadata": {},
     "output_type": "execute_result"
    }
   ],
   "source": [
    "scalar_product = np.dot(vec1, vec2)\n",
    "scalar_product"
   ]
  },
  {
   "attachments": {},
   "cell_type": "markdown",
   "metadata": {},
   "source": [
    "Скалярное произведение также имеет широкое применение в математике и других операциях с векторами. В частности, равенство скалярного произведения нулю означает перпендикулярность рассматриваемых векторов:"
   ]
  },
  {
   "cell_type": "code",
   "execution_count": null,
   "metadata": {},
   "outputs": [
    {
     "data": {
      "text/plain": [
       "0"
      ]
     },
     "execution_count": 205,
     "metadata": {},
     "output_type": "execute_result"
    }
   ],
   "source": [
    "x = np.array([25, 0])\n",
    "y = np.array([0, 10])\n",
    "np.dot(x, y)"
   ]
  },
  {
   "cell_type": "code",
   "execution_count": null,
   "metadata": {},
   "outputs": [
    {
     "name": "stdout",
     "output_type": "stream",
     "text": [
      "Сонаправленость a и b: False\n",
      "Сонаправленость a и c: True\n",
      "Сонаправленость b и c: False\n",
      "Расстояние между a и b: 85.901105930017\n",
      "Расстояние между a и c: 49.13247398615299\n",
      "Расстояние между b и c: 120.6358155772986\n",
      "Перпендикулярность a и b: False\n",
      "Перпендикулярность a и c: False\n",
      "Перпендикулярность b и c: False\n"
     ]
    }
   ],
   "source": [
    "# Определим сонаправленность векторов (сумма длин сонаправленных векторов должна быть равной длине суммы двух векторов).\n",
    "import numpy as np\n",
    "a = np.array([23, 34, 27])\n",
    "b = np.array([-54, 1,  46])\n",
    "c = np.array([46, 68, 54])\n",
    "\n",
    "len_a = np.linalg.norm(a)\n",
    "len_b = np.linalg.norm(b)\n",
    "len_c = np.linalg.norm(c)\n",
    "\n",
    "len_a_b = np.linalg.norm(a+b)\n",
    "len_a_c = np.linalg.norm(a+c)\n",
    "len_c_b = np.linalg.norm(c+b)\n",
    "\n",
    "print(f'Сонаправленость a и b: {len_a_b == len_a+len_b}')\n",
    "print(f'Сонаправленость a и c: {len_a_c == len_a+len_c}')\n",
    "print(f'Сонаправленость b и c: {len_c_b == len_c+len_b}')\n",
    "\n",
    "# Определим расстояние между векторами (корень из суммы квадратов разностей координат)\n",
    "\n",
    "print(f'Расстояние между a и b: {np.sqrt(np.sum((a - b)**2))}')\n",
    "print(f'Расстояние между a и c: {np.sqrt(np.sum((a - c)**2))}')\n",
    "print(f'Расстояние между b и c: {np.sqrt(np.sum((b - c)**2))}')\n",
    "\n",
    "# Определим перпендикулярность векторов (скалярное произведение равно 0)\n",
    "\n",
    "print(f'Перпендикулярность a и b: {np.dot(a, b) == 0}')\n",
    "print(f'Перпендикулярность a и c: {np.dot(a, c) == 0}')\n",
    "print(f'Перпендикулярность b и c: {np.dot(b, c) == 0}')"
   ]
  },
  {
   "attachments": {},
   "cell_type": "markdown",
   "metadata": {},
   "source": [
    "### БАЗОВЫЕ СТАТИСТИЧЕСКИЕ ФУНКЦИИ ДЛЯ ВЕКТОРОВ\n",
    "Функции np.min и np.max позволяют находить максимальное и минимальное значение в векторе. Их можно записывать как в виде np.min(<vector>), так и в виде <vector>.min():"
   ]
  },
  {
   "cell_type": "code",
   "execution_count": null,
   "metadata": {},
   "outputs": [
    {
     "name": "stdout",
     "output_type": "stream",
     "text": [
      "1 1\n",
      "28 28\n",
      "10.75 10.75\n",
      "7.5\n",
      "8.954747344286158\n"
     ]
    }
   ],
   "source": [
    "vec = np.array([2,7,18,28,18,1,8,4])\n",
    "print(vec.min(), np.min(vec))\n",
    "# 1 Минимальное значение\n",
    "print(vec.max(), np.max(vec))\n",
    "# 28 Максимальное значение\n",
    "print(vec.mean(), np.mean(vec))\n",
    "# 10.75 Среднее арифметическое\n",
    "print(np.median(vec))\n",
    "# 7.5 Медиана\n",
    "print(np.std(vec))\n",
    "# 8.95 Стандартное отклонение"
   ]
  },
  {
   "attachments": {},
   "cell_type": "markdown",
   "metadata": {},
   "source": [
    "Больше статистики для Python:\n",
    "<https://pyprog.pro/statistics_functions/statistics_function.html>"
   ]
  },
  {
   "attachments": {},
   "cell_type": "markdown",
   "metadata": {},
   "source": [
    "# СЛУЧАЙНЫЕ ЧИСЛА В NUMPY <a class=\"anchor\" id=8></a>\n",
    "\n",
    "[к содержанию](#0)\n",
    "\n",
    "\n",
    "#### ГЕНЕРАЦИЯ FLOAT\n",
    "Самой «базовой» функцией в нём можно считать функцию rand. По умолчанию она генерирует число с плавающей точкой между 0 (включительно) и 1 (не включительно):"
   ]
  },
  {
   "cell_type": "code",
   "execution_count": null,
   "metadata": {},
   "outputs": [
    {
     "name": "stdout",
     "output_type": "stream",
     "text": [
      "0.26197409813055783\n",
      "99.28628053144614\n",
      "-9.052637921863257\n",
      "20.761767925287213\n",
      "[[0.70181365 0.90537166 0.08110775]\n",
      " [0.49469609 0.12092078 0.72871434]]\n",
      "[[0.87957774 0.91999035 0.43338087 0.87804477]\n",
      " [0.81735911 0.17500626 0.81386164 0.02265447]\n",
      " [0.76091453 0.08300117 0.01941384 0.6659044 ]]\n",
      "[[0.38864422 0.85329238 0.5897765  0.42224993]\n",
      " [0.25317172 0.87805217 0.06122445 0.9024489 ]\n",
      " [0.57687116 0.93595423 0.51764562 0.17248031]]\n"
     ]
    }
   ],
   "source": [
    "# Случайное число [0, 1)\n",
    "print(np.random.rand())\n",
    "# Принимает арифметические операции\n",
    "print(np.random.rand() * 100)\n",
    "print(np.random.rand() - 10)\n",
    "print(np.random.rand() + 20)\n",
    "# функция принимает в качестве аргументов через запятую целые числа, которые задают форму генерируемого массива \n",
    "print(np.random.rand(2, 3))\n",
    "# при передаче в функцию кортежа используй распаковку через *\n",
    "tpl = (3,4)\n",
    "print(np.random.rand(*tpl))"
   ]
  },
  {
   "attachments": {},
   "cell_type": "markdown",
   "metadata": {},
   "source": [
    "Но в NumPy есть и другая функция, генерирующая массивы случайных чисел от 0 до 1, которая принимает в качестве аргумента именно кортеж без распаковки. Она называется sample:\n"
   ]
  },
  {
   "cell_type": "code",
   "execution_count": null,
   "metadata": {},
   "outputs": [
    {
     "name": "stdout",
     "output_type": "stream",
     "text": [
      "[[0.43123232 0.47694027 0.93557823 0.44910269]\n",
      " [0.31531212 0.337404   0.66507746 0.62734606]\n",
      " [0.50341882 0.62395081 0.96216118 0.79071912]]\n"
     ]
    }
   ],
   "source": [
    "print(np.random.sample(tpl))"
   ]
  },
  {
   "attachments": {},
   "cell_type": "markdown",
   "metadata": {},
   "source": [
    "Функция **uniform** принимает аргументы - нижняя граница, верхняя граница, форма массива (если не задав вернёт одно число)"
   ]
  },
  {
   "cell_type": "code",
   "execution_count": null,
   "metadata": {},
   "outputs": [
    {
     "name": "stdout",
     "output_type": "stream",
     "text": [
      "0.1956900161374846\n",
      "40.18664715320245\n",
      "[ 6.84711448 34.11197971 79.95118129 34.57016022 58.66649904]\n",
      "[[25.44718111 12.02135808 10.15144117 26.75009209  1.0293677 ]\n",
      " [25.77811521 42.23239816 45.75828787 94.65947314  1.45558493]]\n"
     ]
    }
   ],
   "source": [
    "print(np.random.uniform()) #без аргумента float от 0 до 1\n",
    "print(np.random.uniform(0, 100)) #без 3го аргумента одно число из заданных границ\n",
    "print(np.random.uniform(0, 100, 5)) #заполнит одномерный массив\n",
    "print(np.random.uniform(0, 100, (2, 5))) #заполнит n-мерный массив"
   ]
  },
  {
   "attachments": {},
   "cell_type": "markdown",
   "metadata": {},
   "source": [
    "### Генерация int\n",
    "### randint(low, high=None, size=None, dtype=int)\n",
    "Функцию randint нельзя запустить совсем без параметров, необходимо указать хотя бы одно число.\n",
    "\n",
    "- Если указан только аргумент low, числа будут генерироваться от 0 до low-1, то есть верхняя граница не включается.\n",
    "- Если задать low и high, числа будут генерироваться от low (включительно) до high (не включительно).\n",
    "- size задаёт форму массива уже привычным для вас образом: одним числом — для одномерного или кортежем — для многомерного.\n",
    "- dtype позволяет задать конкретный тип данных, который должен быть использован в массиве."
   ]
  },
  {
   "cell_type": "code",
   "execution_count": null,
   "metadata": {},
   "outputs": [
    {
     "data": {
      "text/plain": [
       "(array([[ 6, 10, 11],\n",
       "        [10, 10, 10],\n",
       "        [10, 10, 11]]),\n",
       " dtype('int32'))"
      ]
     },
     "execution_count": 243,
     "metadata": {},
     "output_type": "execute_result"
    }
   ],
   "source": [
    "a = np.random.randint(6, 12, size=(3,3))\n",
    "a, a.dtype"
   ]
  },
  {
   "attachments": {},
   "cell_type": "markdown",
   "metadata": {},
   "source": [
    "### Генерация выборок\n",
    "#####  Случайные числа можно использовать и для работы с уже существующими данными. Иногда для проверки гипотез о данных бывает удобно перемешать значения, чтобы проверить, является ли наблюдаемая закономерность случайной.\n",
    "Просто перемешать все числа в массиве позволяет функция random.shuffle"
   ]
  },
  {
   "cell_type": "code",
   "execution_count": null,
   "metadata": {},
   "outputs": [
    {
     "name": "stdout",
     "output_type": "stream",
     "text": [
      "[0 1 2 3 4 5]\n",
      "None\n"
     ]
    },
    {
     "data": {
      "text/plain": [
       "array([2, 4, 1, 3, 5, 0])"
      ]
     },
     "execution_count": 244,
     "metadata": {},
     "output_type": "execute_result"
    }
   ],
   "source": [
    "arr = np.arange(6)\n",
    "print(arr)\n",
    "# [0 1 2 3 4 5]\n",
    "print(np.random.shuffle(arr))\n",
    "# None\n",
    "arr"
   ]
  },
  {
   "attachments": {},
   "cell_type": "markdown",
   "metadata": {},
   "source": [
    "#### Чтобы получить новый перемешанный массив, а исходный оставить без изменений, можно использовать функцию random.permutation. \n",
    "Она принимает на вход один аргумент — или массив целиком, или одно число:"
   ]
  },
  {
   "cell_type": "code",
   "execution_count": null,
   "metadata": {},
   "outputs": [
    {
     "name": "stdout",
     "output_type": "stream",
     "text": [
      "['The Beatles', 'Pink Floyd', 'ACDC', 'Deep Purple'] - это список\n",
      "['Pink Floyd' 'Deep Purple' 'The Beatles' 'ACDC'] - это массив\n"
     ]
    }
   ],
   "source": [
    "playlist = [\"The Beatles\", \"Pink Floyd\", \"ACDC\", \"Deep Purple\"]\n",
    "shuffled = np.random.permutation(playlist)\n",
    "print(playlist, '- это список')\n",
    "print(shuffled, '- это массив')"
   ]
  },
  {
   "attachments": {},
   "cell_type": "markdown",
   "metadata": {},
   "source": [
    "Перемешать набор чисел от 0 до n-1 можно с помощью записи np.random.permutation(n), где n — верхняя граница, которая бы использовалась для генерации набора чисел функцией arange."
   ]
  },
  {
   "cell_type": "code",
   "execution_count": null,
   "metadata": {},
   "outputs": [
    {
     "data": {
      "text/plain": [
       "array([ 5,  0,  9,  7,  8,  4,  2,  1,  3, 10,  6])"
      ]
     },
     "execution_count": 254,
     "metadata": {},
     "output_type": "execute_result"
    }
   ],
   "source": [
    "np.random.permutation(11)\n"
   ]
  },
  {
   "attachments": {},
   "cell_type": "markdown",
   "metadata": {},
   "source": [
    "#### Чтобы получить случайный набор объектов из массива, используется функция random.choice:\n",
    "choice(a, size=None, replace=True)\n",
    "- a — массив или число для генерации arange(a);\n",
    "- size — желаемая форма массива (число для получения одномерного массива, кортеж — для многомерного; если параметр не задан, возвращается один объект);\n",
    "- replace — параметр, задающий, могут ли элементы повторяться (по умолчанию могут)."
   ]
  },
  {
   "cell_type": "code",
   "execution_count": null,
   "metadata": {},
   "outputs": [
    {
     "name": "stdout",
     "output_type": "stream",
     "text": [
      "['Ivan' 'Kate']\n"
     ]
    }
   ],
   "source": [
    "workers = ['Ivan', 'Nikita', 'Maria', 'John', 'Kate']\n",
    " \n",
    "choice = np.random.choice(workers, size=2, replace=False)\n",
    "print(choice)"
   ]
  },
  {
   "attachments": {},
   "cell_type": "markdown",
   "metadata": {},
   "source": [
    "Если в агументах функции .choise указать replase=False, припопытке вывода большего количества элементов выборки, чем есть в массиве возникнет ошибка\n",
    "#### если разрешить повторы (replace=True) ошибки не будет"
   ]
  },
  {
   "cell_type": "code",
   "execution_count": null,
   "metadata": {},
   "outputs": [
    {
     "ename": "ValueError",
     "evalue": "Cannot take a larger sample than population when 'replace=False'",
     "output_type": "error",
     "traceback": [
      "\u001b[1;31m---------------------------------------------------------------------------\u001b[0m",
      "\u001b[1;31mValueError\u001b[0m                                Traceback (most recent call last)",
      "\u001b[1;32mc:\\Личные документы\\Python\\Py\\lecture.ipynb Cell 65'\u001b[0m in \u001b[0;36m<cell line: 3>\u001b[1;34m()\u001b[0m\n\u001b[0;32m      <a href='vscode-notebook-cell:/c%3A/%D0%9B%D0%B8%D1%87%D0%BD%D1%8B%D0%B5%20%D0%B4%D0%BE%D0%BA%D1%83%D0%BC%D0%B5%D0%BD%D1%82%D1%8B/Python/Py/lecture.ipynb#ch0000071?line=0'>1</a>\u001b[0m workers \u001b[39m=\u001b[39m [\u001b[39m'\u001b[39m\u001b[39mIvan\u001b[39m\u001b[39m'\u001b[39m, \u001b[39m'\u001b[39m\u001b[39mNikita\u001b[39m\u001b[39m'\u001b[39m, \u001b[39m'\u001b[39m\u001b[39mMaria\u001b[39m\u001b[39m'\u001b[39m, \u001b[39m'\u001b[39m\u001b[39mJohn\u001b[39m\u001b[39m'\u001b[39m, \u001b[39m'\u001b[39m\u001b[39mKate\u001b[39m\u001b[39m'\u001b[39m]\n\u001b[1;32m----> <a href='vscode-notebook-cell:/c%3A/%D0%9B%D0%B8%D1%87%D0%BD%D1%8B%D0%B5%20%D0%B4%D0%BE%D0%BA%D1%83%D0%BC%D0%B5%D0%BD%D1%82%D1%8B/Python/Py/lecture.ipynb#ch0000071?line=2'>3</a>\u001b[0m choice \u001b[39m=\u001b[39m np\u001b[39m.\u001b[39;49mrandom\u001b[39m.\u001b[39;49mchoice(workers, size\u001b[39m=\u001b[39;49m\u001b[39m7\u001b[39;49m, replace\u001b[39m=\u001b[39;49m\u001b[39mFalse\u001b[39;49;00m)\n\u001b[0;32m      <a href='vscode-notebook-cell:/c%3A/%D0%9B%D0%B8%D1%87%D0%BD%D1%8B%D0%B5%20%D0%B4%D0%BE%D0%BA%D1%83%D0%BC%D0%B5%D0%BD%D1%82%D1%8B/Python/Py/lecture.ipynb#ch0000071?line=3'>4</a>\u001b[0m \u001b[39mprint\u001b[39m(choice)\n",
      "File \u001b[1;32mmtrand.pyx:965\u001b[0m, in \u001b[0;36mnumpy.random.mtrand.RandomState.choice\u001b[1;34m()\u001b[0m\n",
      "\u001b[1;31mValueError\u001b[0m: Cannot take a larger sample than population when 'replace=False'"
     ]
    }
   ],
   "source": [
    "workers = ['Ivan', 'Nikita', 'Maria', 'John', 'Kate']\n",
    " \n",
    "choice = np.random.choice(workers, size=7, replace=False)\n",
    "print(choice)"
   ]
  },
  {
   "cell_type": "code",
   "execution_count": null,
   "metadata": {},
   "outputs": [
    {
     "name": "stdout",
     "output_type": "stream",
     "text": [
      "['John' 'Nikita' 'Nikita' 'Maria' 'Ivan' 'John' 'John']\n"
     ]
    }
   ],
   "source": [
    "workers = ['Ivan', 'Nikita', 'Maria', 'John', 'Kate']\n",
    " \n",
    "choice = np.random.choice(workers, size=7, replace=True)\n",
    "print(choice)"
   ]
  },
  {
   "cell_type": "code",
   "execution_count": null,
   "metadata": {},
   "outputs": [
    {
     "data": {
      "text/plain": [
       "array([ 1,  8, 18,  7, 11, 20, 14, 12,  9,  2])"
      ]
     },
     "execution_count": 262,
     "metadata": {},
     "output_type": "execute_result"
    }
   ],
   "source": [
    "# 10 случайных чисел от 1 до 20, без повторов\n",
    "np.random.choice(np.arange(1, 21), size=10, replace=False)"
   ]
  },
  {
   "attachments": {},
   "cell_type": "markdown",
   "metadata": {},
   "source": [
    "### ДОПОЛНИТЕЛЬНО <a class=\"anchor\" id=\"10\"></a>\n",
    "\n",
    "NumPy не ограничивается набором функций, который был рассмотрен в этом модуле. Для получения дополнительной справки на русском языке по данной библиотеке рекомендуется использовать [этот сайт](https://pyprog.pro/short_guide.html).\n",
    "\n",
    "[к содержанию](#0)\n",
    "\n"
   ]
  }
 ],
 "metadata": {
  "interpreter": {
   "hash": "c3380a37b4678e1f5e651331348d62bc6038aef0d5f414da260f404a34792558"
  },
  "kernelspec": {
   "display_name": "Python 3.9.12 ('base')",
   "language": "python",
   "name": "python3"
  },
  "language_info": {
   "codemirror_mode": {
    "name": "ipython",
    "version": 3
   },
   "file_extension": ".py",
   "mimetype": "text/x-python",
   "name": "python",
   "nbconvert_exporter": "python",
   "pygments_lexer": "ipython3",
   "version": "3.10.9"
  },
  "orig_nbformat": 4
 },
 "nbformat": 4,
 "nbformat_minor": 2
}
